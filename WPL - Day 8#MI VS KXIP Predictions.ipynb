{
 "cells": [
  {
   "cell_type": "code",
   "execution_count": 1,
   "metadata": {},
   "outputs": [],
   "source": [
    "import matplotlib.pyplot as plt\n",
    "import pandas as pd\n",
    "import numpy as np\n",
    "import seaborn as sns\n",
    "import plotly as py\n",
    "import cufflinks as cf\n",
    "%matplotlib inline\n",
    "%matplotlib notebook"
   ]
  },
  {
   "cell_type": "code",
   "execution_count": 2,
   "metadata": {},
   "outputs": [
    {
     "data": {
      "text/html": [
       "        <script type=\"text/javascript\">\n",
       "        window.PlotlyConfig = {MathJaxConfig: 'local'};\n",
       "        if (window.MathJax) {MathJax.Hub.Config({SVG: {font: \"STIX-Web\"}});}\n",
       "        if (typeof require !== 'undefined') {\n",
       "        require.undef(\"plotly\");\n",
       "        requirejs.config({\n",
       "            paths: {\n",
       "                'plotly': ['https://cdn.plot.ly/plotly-latest.min']\n",
       "            }\n",
       "        });\n",
       "        require(['plotly'], function(Plotly) {\n",
       "            window._Plotly = Plotly;\n",
       "        });\n",
       "        }\n",
       "        </script>\n",
       "        "
      ]
     },
     "metadata": {},
     "output_type": "display_data"
    },
    {
     "data": {
      "text/html": [
       "        <script type=\"text/javascript\">\n",
       "        window.PlotlyConfig = {MathJaxConfig: 'local'};\n",
       "        if (window.MathJax) {MathJax.Hub.Config({SVG: {font: \"STIX-Web\"}});}\n",
       "        if (typeof require !== 'undefined') {\n",
       "        require.undef(\"plotly\");\n",
       "        requirejs.config({\n",
       "            paths: {\n",
       "                'plotly': ['https://cdn.plot.ly/plotly-latest.min']\n",
       "            }\n",
       "        });\n",
       "        require(['plotly'], function(Plotly) {\n",
       "            window._Plotly = Plotly;\n",
       "        });\n",
       "        }\n",
       "        </script>\n",
       "        "
      ]
     },
     "metadata": {},
     "output_type": "display_data"
    }
   ],
   "source": [
    "from plotly.offline import iplot\n",
    "py.offline.init_notebook_mode(connected = True)\n",
    "cf.go_offline()"
   ]
  },
  {
   "cell_type": "code",
   "execution_count": 3,
   "metadata": {},
   "outputs": [],
   "source": [
    "delivers = pd.read_csv('D:\\datasets\\deliveries.csv')"
   ]
  },
  {
   "cell_type": "code",
   "execution_count": 4,
   "metadata": {},
   "outputs": [
    {
     "data": {
      "text/html": [
       "<div>\n",
       "<style scoped>\n",
       "    .dataframe tbody tr th:only-of-type {\n",
       "        vertical-align: middle;\n",
       "    }\n",
       "\n",
       "    .dataframe tbody tr th {\n",
       "        vertical-align: top;\n",
       "    }\n",
       "\n",
       "    .dataframe thead th {\n",
       "        text-align: right;\n",
       "    }\n",
       "</style>\n",
       "<table border=\"1\" class=\"dataframe\">\n",
       "  <thead>\n",
       "    <tr style=\"text-align: right;\">\n",
       "      <th></th>\n",
       "      <th>match_id</th>\n",
       "      <th>inning</th>\n",
       "      <th>batting_team</th>\n",
       "      <th>bowling_team</th>\n",
       "      <th>over</th>\n",
       "      <th>ball</th>\n",
       "      <th>batsman</th>\n",
       "      <th>non_striker</th>\n",
       "      <th>bowler</th>\n",
       "      <th>is_super_over</th>\n",
       "      <th>...</th>\n",
       "      <th>bye_runs</th>\n",
       "      <th>legbye_runs</th>\n",
       "      <th>noball_runs</th>\n",
       "      <th>penalty_runs</th>\n",
       "      <th>batsman_runs</th>\n",
       "      <th>extra_runs</th>\n",
       "      <th>total_runs</th>\n",
       "      <th>player_dismissed</th>\n",
       "      <th>dismissal_kind</th>\n",
       "      <th>fielder</th>\n",
       "    </tr>\n",
       "  </thead>\n",
       "  <tbody>\n",
       "    <tr>\n",
       "      <th>0</th>\n",
       "      <td>1</td>\n",
       "      <td>1</td>\n",
       "      <td>Sunrisers Hyderabad</td>\n",
       "      <td>Royal Challengers Bangalore</td>\n",
       "      <td>1</td>\n",
       "      <td>1</td>\n",
       "      <td>DA Warner</td>\n",
       "      <td>S Dhawan</td>\n",
       "      <td>TS Mills</td>\n",
       "      <td>0</td>\n",
       "      <td>...</td>\n",
       "      <td>0</td>\n",
       "      <td>0</td>\n",
       "      <td>0</td>\n",
       "      <td>0</td>\n",
       "      <td>0</td>\n",
       "      <td>0</td>\n",
       "      <td>0</td>\n",
       "      <td>NaN</td>\n",
       "      <td>NaN</td>\n",
       "      <td>NaN</td>\n",
       "    </tr>\n",
       "  </tbody>\n",
       "</table>\n",
       "<p>1 rows × 21 columns</p>\n",
       "</div>"
      ],
      "text/plain": [
       "   match_id  inning         batting_team                 bowling_team  over  \\\n",
       "0         1       1  Sunrisers Hyderabad  Royal Challengers Bangalore     1   \n",
       "\n",
       "   ball    batsman non_striker    bowler  is_super_over  ...  bye_runs  \\\n",
       "0     1  DA Warner    S Dhawan  TS Mills              0  ...         0   \n",
       "\n",
       "   legbye_runs  noball_runs  penalty_runs  batsman_runs  extra_runs  \\\n",
       "0            0            0             0             0           0   \n",
       "\n",
       "   total_runs  player_dismissed dismissal_kind fielder  \n",
       "0           0               NaN            NaN     NaN  \n",
       "\n",
       "[1 rows x 21 columns]"
      ]
     },
     "execution_count": 4,
     "metadata": {},
     "output_type": "execute_result"
    }
   ],
   "source": [
    "delivers.head(1)"
   ]
  },
  {
   "cell_type": "code",
   "execution_count": 5,
   "metadata": {},
   "outputs": [
    {
     "data": {
      "text/plain": [
       "match_id                 0\n",
       "inning                   0\n",
       "batting_team             0\n",
       "bowling_team             0\n",
       "over                     0\n",
       "ball                     0\n",
       "batsman                  0\n",
       "non_striker              0\n",
       "bowler                   0\n",
       "is_super_over            0\n",
       "wide_runs                0\n",
       "bye_runs                 0\n",
       "legbye_runs              0\n",
       "noball_runs              0\n",
       "penalty_runs             0\n",
       "batsman_runs             0\n",
       "extra_runs               0\n",
       "total_runs               0\n",
       "player_dismissed    170244\n",
       "dismissal_kind      170244\n",
       "fielder             172630\n",
       "dtype: int64"
      ]
     },
     "execution_count": 5,
     "metadata": {},
     "output_type": "execute_result"
    }
   ],
   "source": [
    "delivers.isnull().sum()"
   ]
  },
  {
   "cell_type": "code",
   "execution_count": 6,
   "metadata": {},
   "outputs": [
    {
     "data": {
      "text/plain": [
       "(179078, 21)"
      ]
     },
     "execution_count": 6,
     "metadata": {},
     "output_type": "execute_result"
    }
   ],
   "source": [
    "delivers.shape"
   ]
  },
  {
   "cell_type": "code",
   "execution_count": 7,
   "metadata": {},
   "outputs": [
    {
     "name": "stdout",
     "output_type": "stream",
     "text": [
      "<class 'pandas.core.frame.DataFrame'>\n",
      "RangeIndex: 179078 entries, 0 to 179077\n",
      "Data columns (total 21 columns):\n",
      " #   Column            Non-Null Count   Dtype \n",
      "---  ------            --------------   ----- \n",
      " 0   match_id          179078 non-null  int64 \n",
      " 1   inning            179078 non-null  int64 \n",
      " 2   batting_team      179078 non-null  object\n",
      " 3   bowling_team      179078 non-null  object\n",
      " 4   over              179078 non-null  int64 \n",
      " 5   ball              179078 non-null  int64 \n",
      " 6   batsman           179078 non-null  object\n",
      " 7   non_striker       179078 non-null  object\n",
      " 8   bowler            179078 non-null  object\n",
      " 9   is_super_over     179078 non-null  int64 \n",
      " 10  wide_runs         179078 non-null  int64 \n",
      " 11  bye_runs          179078 non-null  int64 \n",
      " 12  legbye_runs       179078 non-null  int64 \n",
      " 13  noball_runs       179078 non-null  int64 \n",
      " 14  penalty_runs      179078 non-null  int64 \n",
      " 15  batsman_runs      179078 non-null  int64 \n",
      " 16  extra_runs        179078 non-null  int64 \n",
      " 17  total_runs        179078 non-null  int64 \n",
      " 18  player_dismissed  8834 non-null    object\n",
      " 19  dismissal_kind    8834 non-null    object\n",
      " 20  fielder           6448 non-null    object\n",
      "dtypes: int64(13), object(8)\n",
      "memory usage: 28.7+ MB\n"
     ]
    }
   ],
   "source": [
    "delivers.info()"
   ]
  },
  {
   "cell_type": "code",
   "execution_count": 8,
   "metadata": {},
   "outputs": [],
   "source": [
    "matches = pd.read_csv('D:\\datasets\\matches.csv')"
   ]
  },
  {
   "cell_type": "code",
   "execution_count": 9,
   "metadata": {},
   "outputs": [
    {
     "data": {
      "text/html": [
       "<div>\n",
       "<style scoped>\n",
       "    .dataframe tbody tr th:only-of-type {\n",
       "        vertical-align: middle;\n",
       "    }\n",
       "\n",
       "    .dataframe tbody tr th {\n",
       "        vertical-align: top;\n",
       "    }\n",
       "\n",
       "    .dataframe thead th {\n",
       "        text-align: right;\n",
       "    }\n",
       "</style>\n",
       "<table border=\"1\" class=\"dataframe\">\n",
       "  <thead>\n",
       "    <tr style=\"text-align: right;\">\n",
       "      <th></th>\n",
       "      <th>id</th>\n",
       "      <th>season</th>\n",
       "      <th>city</th>\n",
       "      <th>date</th>\n",
       "      <th>team1</th>\n",
       "      <th>team2</th>\n",
       "      <th>toss_winner</th>\n",
       "      <th>toss_decision</th>\n",
       "      <th>result</th>\n",
       "      <th>dl_applied</th>\n",
       "      <th>winner</th>\n",
       "      <th>win_by_runs</th>\n",
       "      <th>win_by_wickets</th>\n",
       "      <th>player_of_match</th>\n",
       "      <th>venue</th>\n",
       "      <th>umpire1</th>\n",
       "      <th>umpire2</th>\n",
       "      <th>umpire3</th>\n",
       "    </tr>\n",
       "  </thead>\n",
       "  <tbody>\n",
       "    <tr>\n",
       "      <th>0</th>\n",
       "      <td>1</td>\n",
       "      <td>2017</td>\n",
       "      <td>Hyderabad</td>\n",
       "      <td>2017-04-05</td>\n",
       "      <td>Sunrisers Hyderabad</td>\n",
       "      <td>Royal Challengers Bangalore</td>\n",
       "      <td>Royal Challengers Bangalore</td>\n",
       "      <td>field</td>\n",
       "      <td>normal</td>\n",
       "      <td>0</td>\n",
       "      <td>Sunrisers Hyderabad</td>\n",
       "      <td>35</td>\n",
       "      <td>0</td>\n",
       "      <td>Yuvraj Singh</td>\n",
       "      <td>Rajiv Gandhi International Stadium, Uppal</td>\n",
       "      <td>AY Dandekar</td>\n",
       "      <td>NJ Llong</td>\n",
       "      <td>NaN</td>\n",
       "    </tr>\n",
       "  </tbody>\n",
       "</table>\n",
       "</div>"
      ],
      "text/plain": [
       "   id  season       city        date                team1  \\\n",
       "0   1    2017  Hyderabad  2017-04-05  Sunrisers Hyderabad   \n",
       "\n",
       "                         team2                  toss_winner toss_decision  \\\n",
       "0  Royal Challengers Bangalore  Royal Challengers Bangalore         field   \n",
       "\n",
       "   result  dl_applied               winner  win_by_runs  win_by_wickets  \\\n",
       "0  normal           0  Sunrisers Hyderabad           35               0   \n",
       "\n",
       "  player_of_match                                      venue      umpire1  \\\n",
       "0    Yuvraj Singh  Rajiv Gandhi International Stadium, Uppal  AY Dandekar   \n",
       "\n",
       "    umpire2 umpire3  \n",
       "0  NJ Llong     NaN  "
      ]
     },
     "execution_count": 9,
     "metadata": {},
     "output_type": "execute_result"
    }
   ],
   "source": [
    "matches.head(1)"
   ]
  },
  {
   "cell_type": "code",
   "execution_count": 10,
   "metadata": {},
   "outputs": [
    {
     "data": {
      "text/plain": [
       "id                   0\n",
       "season               0\n",
       "city                 7\n",
       "date                 0\n",
       "team1                0\n",
       "team2                0\n",
       "toss_winner          0\n",
       "toss_decision        0\n",
       "result               0\n",
       "dl_applied           0\n",
       "winner               4\n",
       "win_by_runs          0\n",
       "win_by_wickets       0\n",
       "player_of_match      4\n",
       "venue                0\n",
       "umpire1              2\n",
       "umpire2              2\n",
       "umpire3            637\n",
       "dtype: int64"
      ]
     },
     "execution_count": 10,
     "metadata": {},
     "output_type": "execute_result"
    }
   ],
   "source": [
    "matches.isnull().sum()"
   ]
  },
  {
   "cell_type": "code",
   "execution_count": 11,
   "metadata": {},
   "outputs": [
    {
     "name": "stdout",
     "output_type": "stream",
     "text": [
      "<class 'pandas.core.frame.DataFrame'>\n",
      "RangeIndex: 756 entries, 0 to 755\n",
      "Data columns (total 18 columns):\n",
      " #   Column           Non-Null Count  Dtype \n",
      "---  ------           --------------  ----- \n",
      " 0   id               756 non-null    int64 \n",
      " 1   season           756 non-null    int64 \n",
      " 2   city             749 non-null    object\n",
      " 3   date             756 non-null    object\n",
      " 4   team1            756 non-null    object\n",
      " 5   team2            756 non-null    object\n",
      " 6   toss_winner      756 non-null    object\n",
      " 7   toss_decision    756 non-null    object\n",
      " 8   result           756 non-null    object\n",
      " 9   dl_applied       756 non-null    int64 \n",
      " 10  winner           752 non-null    object\n",
      " 11  win_by_runs      756 non-null    int64 \n",
      " 12  win_by_wickets   756 non-null    int64 \n",
      " 13  player_of_match  752 non-null    object\n",
      " 14  venue            756 non-null    object\n",
      " 15  umpire1          754 non-null    object\n",
      " 16  umpire2          754 non-null    object\n",
      " 17  umpire3          119 non-null    object\n",
      "dtypes: int64(5), object(13)\n",
      "memory usage: 106.4+ KB\n"
     ]
    }
   ],
   "source": [
    "matches.info()"
   ]
  },
  {
   "cell_type": "code",
   "execution_count": 12,
   "metadata": {},
   "outputs": [
    {
     "data": {
      "text/plain": [
       "(756, 18)"
      ]
     },
     "execution_count": 12,
     "metadata": {},
     "output_type": "execute_result"
    }
   ],
   "source": [
    "matches.shape"
   ]
  },
  {
   "cell_type": "code",
   "execution_count": 13,
   "metadata": {},
   "outputs": [
    {
     "data": {
      "text/plain": [
       "normal       743\n",
       "tie            9\n",
       "no result      4\n",
       "Name: result, dtype: int64"
      ]
     },
     "execution_count": 13,
     "metadata": {},
     "output_type": "execute_result"
    }
   ],
   "source": [
    "matches[\"result\"].value_counts()"
   ]
  },
  {
   "cell_type": "code",
   "execution_count": 14,
   "metadata": {},
   "outputs": [
    {
     "data": {
      "text/html": [
       "<div>\n",
       "<style scoped>\n",
       "    .dataframe tbody tr th:only-of-type {\n",
       "        vertical-align: middle;\n",
       "    }\n",
       "\n",
       "    .dataframe tbody tr th {\n",
       "        vertical-align: top;\n",
       "    }\n",
       "\n",
       "    .dataframe thead th {\n",
       "        text-align: right;\n",
       "    }\n",
       "</style>\n",
       "<table border=\"1\" class=\"dataframe\">\n",
       "  <thead>\n",
       "    <tr style=\"text-align: right;\">\n",
       "      <th></th>\n",
       "      <th>id</th>\n",
       "      <th>season</th>\n",
       "      <th>city</th>\n",
       "      <th>date</th>\n",
       "      <th>team1</th>\n",
       "      <th>team2</th>\n",
       "      <th>toss_winner</th>\n",
       "      <th>toss_decision</th>\n",
       "      <th>result</th>\n",
       "      <th>dl_applied</th>\n",
       "      <th>winner</th>\n",
       "      <th>win_by_runs</th>\n",
       "      <th>win_by_wickets</th>\n",
       "      <th>player_of_match</th>\n",
       "      <th>venue</th>\n",
       "      <th>umpire1</th>\n",
       "      <th>umpire2</th>\n",
       "      <th>umpire3</th>\n",
       "    </tr>\n",
       "  </thead>\n",
       "  <tbody>\n",
       "    <tr>\n",
       "      <th>33</th>\n",
       "      <td>34</td>\n",
       "      <td>2017</td>\n",
       "      <td>Rajkot</td>\n",
       "      <td>2017-04-29</td>\n",
       "      <td>Gujarat Lions</td>\n",
       "      <td>Mumbai Indians</td>\n",
       "      <td>Gujarat Lions</td>\n",
       "      <td>bat</td>\n",
       "      <td>tie</td>\n",
       "      <td>0</td>\n",
       "      <td>Mumbai Indians</td>\n",
       "      <td>0</td>\n",
       "      <td>0</td>\n",
       "      <td>KH Pandya</td>\n",
       "      <td>Saurashtra Cricket Association Stadium</td>\n",
       "      <td>AK Chaudhary</td>\n",
       "      <td>CB Gaffaney</td>\n",
       "      <td>NaN</td>\n",
       "    </tr>\n",
       "    <tr>\n",
       "      <th>125</th>\n",
       "      <td>126</td>\n",
       "      <td>2009</td>\n",
       "      <td>Cape Town</td>\n",
       "      <td>2009-04-23</td>\n",
       "      <td>Rajasthan Royals</td>\n",
       "      <td>Kolkata Knight Riders</td>\n",
       "      <td>Kolkata Knight Riders</td>\n",
       "      <td>field</td>\n",
       "      <td>tie</td>\n",
       "      <td>0</td>\n",
       "      <td>Rajasthan Royals</td>\n",
       "      <td>0</td>\n",
       "      <td>0</td>\n",
       "      <td>YK Pathan</td>\n",
       "      <td>Newlands</td>\n",
       "      <td>MR Benson</td>\n",
       "      <td>M Erasmus</td>\n",
       "      <td>NaN</td>\n",
       "    </tr>\n",
       "    <tr>\n",
       "      <th>189</th>\n",
       "      <td>190</td>\n",
       "      <td>2010</td>\n",
       "      <td>Chennai</td>\n",
       "      <td>2010-03-21</td>\n",
       "      <td>Kings XI Punjab</td>\n",
       "      <td>Chennai Super Kings</td>\n",
       "      <td>Chennai Super Kings</td>\n",
       "      <td>field</td>\n",
       "      <td>tie</td>\n",
       "      <td>0</td>\n",
       "      <td>Kings XI Punjab</td>\n",
       "      <td>0</td>\n",
       "      <td>0</td>\n",
       "      <td>J Theron</td>\n",
       "      <td>MA Chidambaram Stadium, Chepauk</td>\n",
       "      <td>K Hariharan</td>\n",
       "      <td>DJ Harper</td>\n",
       "      <td>NaN</td>\n",
       "    </tr>\n",
       "    <tr>\n",
       "      <th>387</th>\n",
       "      <td>388</td>\n",
       "      <td>2013</td>\n",
       "      <td>Hyderabad</td>\n",
       "      <td>2013-04-07</td>\n",
       "      <td>Royal Challengers Bangalore</td>\n",
       "      <td>Sunrisers Hyderabad</td>\n",
       "      <td>Royal Challengers Bangalore</td>\n",
       "      <td>bat</td>\n",
       "      <td>tie</td>\n",
       "      <td>0</td>\n",
       "      <td>Sunrisers Hyderabad</td>\n",
       "      <td>0</td>\n",
       "      <td>0</td>\n",
       "      <td>GH Vihari</td>\n",
       "      <td>Rajiv Gandhi International Stadium, Uppal</td>\n",
       "      <td>AK Chaudhary</td>\n",
       "      <td>S Ravi</td>\n",
       "      <td>NaN</td>\n",
       "    </tr>\n",
       "    <tr>\n",
       "      <th>400</th>\n",
       "      <td>401</td>\n",
       "      <td>2013</td>\n",
       "      <td>Bangalore</td>\n",
       "      <td>2013-04-16</td>\n",
       "      <td>Delhi Daredevils</td>\n",
       "      <td>Royal Challengers Bangalore</td>\n",
       "      <td>Royal Challengers Bangalore</td>\n",
       "      <td>field</td>\n",
       "      <td>tie</td>\n",
       "      <td>0</td>\n",
       "      <td>Royal Challengers Bangalore</td>\n",
       "      <td>0</td>\n",
       "      <td>0</td>\n",
       "      <td>V Kohli</td>\n",
       "      <td>M Chinnaswamy Stadium</td>\n",
       "      <td>M Erasmus</td>\n",
       "      <td>VA Kulkarni</td>\n",
       "      <td>NaN</td>\n",
       "    </tr>\n",
       "    <tr>\n",
       "      <th>475</th>\n",
       "      <td>476</td>\n",
       "      <td>2014</td>\n",
       "      <td>Abu Dhabi</td>\n",
       "      <td>2014-04-29</td>\n",
       "      <td>Rajasthan Royals</td>\n",
       "      <td>Kolkata Knight Riders</td>\n",
       "      <td>Rajasthan Royals</td>\n",
       "      <td>bat</td>\n",
       "      <td>tie</td>\n",
       "      <td>0</td>\n",
       "      <td>Rajasthan Royals</td>\n",
       "      <td>0</td>\n",
       "      <td>0</td>\n",
       "      <td>JP Faulkner</td>\n",
       "      <td>Sheikh Zayed Stadium</td>\n",
       "      <td>Aleem Dar</td>\n",
       "      <td>AK Chaudhary</td>\n",
       "      <td>NaN</td>\n",
       "    </tr>\n",
       "    <tr>\n",
       "      <th>535</th>\n",
       "      <td>536</td>\n",
       "      <td>2015</td>\n",
       "      <td>Ahmedabad</td>\n",
       "      <td>2015-04-21</td>\n",
       "      <td>Rajasthan Royals</td>\n",
       "      <td>Kings XI Punjab</td>\n",
       "      <td>Kings XI Punjab</td>\n",
       "      <td>field</td>\n",
       "      <td>tie</td>\n",
       "      <td>0</td>\n",
       "      <td>Kings XI Punjab</td>\n",
       "      <td>0</td>\n",
       "      <td>0</td>\n",
       "      <td>SE Marsh</td>\n",
       "      <td>Sardar Patel Stadium, Motera</td>\n",
       "      <td>M Erasmus</td>\n",
       "      <td>S Ravi</td>\n",
       "      <td>NaN</td>\n",
       "    </tr>\n",
       "    <tr>\n",
       "      <th>705</th>\n",
       "      <td>11146</td>\n",
       "      <td>2019</td>\n",
       "      <td>Delhi</td>\n",
       "      <td>30/03/19</td>\n",
       "      <td>Kolkata Knight Riders</td>\n",
       "      <td>Delhi Capitals</td>\n",
       "      <td>Delhi Capitals</td>\n",
       "      <td>field</td>\n",
       "      <td>tie</td>\n",
       "      <td>0</td>\n",
       "      <td>Delhi Capitals</td>\n",
       "      <td>0</td>\n",
       "      <td>0</td>\n",
       "      <td>P Shaw</td>\n",
       "      <td>Feroz Shah Kotla Ground</td>\n",
       "      <td>Anil Dandekar</td>\n",
       "      <td>Nitin Menon</td>\n",
       "      <td>Marais Erasmus</td>\n",
       "    </tr>\n",
       "    <tr>\n",
       "      <th>746</th>\n",
       "      <td>11342</td>\n",
       "      <td>2019</td>\n",
       "      <td>Mumbai</td>\n",
       "      <td>02/05/19</td>\n",
       "      <td>Mumbai Indians</td>\n",
       "      <td>Sunrisers Hyderabad</td>\n",
       "      <td>Mumbai Indians</td>\n",
       "      <td>bat</td>\n",
       "      <td>tie</td>\n",
       "      <td>0</td>\n",
       "      <td>Mumbai Indians</td>\n",
       "      <td>0</td>\n",
       "      <td>0</td>\n",
       "      <td>JJ Bumrah</td>\n",
       "      <td>Wankhede Stadium</td>\n",
       "      <td>S Ravi</td>\n",
       "      <td>O Nandan</td>\n",
       "      <td>Nanda Kishore</td>\n",
       "    </tr>\n",
       "  </tbody>\n",
       "</table>\n",
       "</div>"
      ],
      "text/plain": [
       "        id  season       city        date                        team1  \\\n",
       "33      34    2017     Rajkot  2017-04-29                Gujarat Lions   \n",
       "125    126    2009  Cape Town  2009-04-23             Rajasthan Royals   \n",
       "189    190    2010    Chennai  2010-03-21              Kings XI Punjab   \n",
       "387    388    2013  Hyderabad  2013-04-07  Royal Challengers Bangalore   \n",
       "400    401    2013  Bangalore  2013-04-16             Delhi Daredevils   \n",
       "475    476    2014  Abu Dhabi  2014-04-29             Rajasthan Royals   \n",
       "535    536    2015  Ahmedabad  2015-04-21             Rajasthan Royals   \n",
       "705  11146    2019      Delhi    30/03/19        Kolkata Knight Riders   \n",
       "746  11342    2019     Mumbai    02/05/19               Mumbai Indians   \n",
       "\n",
       "                           team2                  toss_winner toss_decision  \\\n",
       "33                Mumbai Indians                Gujarat Lions           bat   \n",
       "125        Kolkata Knight Riders        Kolkata Knight Riders         field   \n",
       "189          Chennai Super Kings          Chennai Super Kings         field   \n",
       "387          Sunrisers Hyderabad  Royal Challengers Bangalore           bat   \n",
       "400  Royal Challengers Bangalore  Royal Challengers Bangalore         field   \n",
       "475        Kolkata Knight Riders             Rajasthan Royals           bat   \n",
       "535              Kings XI Punjab              Kings XI Punjab         field   \n",
       "705               Delhi Capitals               Delhi Capitals         field   \n",
       "746          Sunrisers Hyderabad               Mumbai Indians           bat   \n",
       "\n",
       "    result  dl_applied                       winner  win_by_runs  \\\n",
       "33     tie           0               Mumbai Indians            0   \n",
       "125    tie           0             Rajasthan Royals            0   \n",
       "189    tie           0              Kings XI Punjab            0   \n",
       "387    tie           0          Sunrisers Hyderabad            0   \n",
       "400    tie           0  Royal Challengers Bangalore            0   \n",
       "475    tie           0             Rajasthan Royals            0   \n",
       "535    tie           0              Kings XI Punjab            0   \n",
       "705    tie           0               Delhi Capitals            0   \n",
       "746    tie           0               Mumbai Indians            0   \n",
       "\n",
       "     win_by_wickets player_of_match  \\\n",
       "33                0       KH Pandya   \n",
       "125               0       YK Pathan   \n",
       "189               0        J Theron   \n",
       "387               0       GH Vihari   \n",
       "400               0         V Kohli   \n",
       "475               0     JP Faulkner   \n",
       "535               0        SE Marsh   \n",
       "705               0          P Shaw   \n",
       "746               0       JJ Bumrah   \n",
       "\n",
       "                                         venue        umpire1       umpire2  \\\n",
       "33      Saurashtra Cricket Association Stadium   AK Chaudhary   CB Gaffaney   \n",
       "125                                   Newlands      MR Benson     M Erasmus   \n",
       "189            MA Chidambaram Stadium, Chepauk    K Hariharan     DJ Harper   \n",
       "387  Rajiv Gandhi International Stadium, Uppal   AK Chaudhary        S Ravi   \n",
       "400                      M Chinnaswamy Stadium      M Erasmus   VA Kulkarni   \n",
       "475                       Sheikh Zayed Stadium      Aleem Dar  AK Chaudhary   \n",
       "535               Sardar Patel Stadium, Motera      M Erasmus        S Ravi   \n",
       "705                    Feroz Shah Kotla Ground  Anil Dandekar   Nitin Menon   \n",
       "746                           Wankhede Stadium         S Ravi      O Nandan   \n",
       "\n",
       "            umpire3  \n",
       "33              NaN  \n",
       "125             NaN  \n",
       "189             NaN  \n",
       "387             NaN  \n",
       "400             NaN  \n",
       "475             NaN  \n",
       "535             NaN  \n",
       "705  Marais Erasmus  \n",
       "746   Nanda Kishore  "
      ]
     },
     "execution_count": 14,
     "metadata": {},
     "output_type": "execute_result"
    }
   ],
   "source": [
    "tie = matches[matches['result'] == 'tie']\n",
    "tie"
   ]
  },
  {
   "cell_type": "code",
   "execution_count": 15,
   "metadata": {},
   "outputs": [
    {
     "data": {
      "text/html": [
       "<div>\n",
       "<style scoped>\n",
       "    .dataframe tbody tr th:only-of-type {\n",
       "        vertical-align: middle;\n",
       "    }\n",
       "\n",
       "    .dataframe tbody tr th {\n",
       "        vertical-align: top;\n",
       "    }\n",
       "\n",
       "    .dataframe thead th {\n",
       "        text-align: right;\n",
       "    }\n",
       "</style>\n",
       "<table border=\"1\" class=\"dataframe\">\n",
       "  <thead>\n",
       "    <tr style=\"text-align: right;\">\n",
       "      <th></th>\n",
       "      <th>id</th>\n",
       "      <th>season</th>\n",
       "      <th>city</th>\n",
       "      <th>date</th>\n",
       "      <th>team1</th>\n",
       "      <th>team2</th>\n",
       "      <th>toss_winner</th>\n",
       "      <th>toss_decision</th>\n",
       "      <th>result</th>\n",
       "      <th>dl_applied</th>\n",
       "      <th>winner</th>\n",
       "      <th>win_by_runs</th>\n",
       "      <th>win_by_wickets</th>\n",
       "      <th>player_of_match</th>\n",
       "      <th>venue</th>\n",
       "      <th>umpire1</th>\n",
       "      <th>umpire2</th>\n",
       "      <th>umpire3</th>\n",
       "    </tr>\n",
       "  </thead>\n",
       "  <tbody>\n",
       "    <tr>\n",
       "      <th>300</th>\n",
       "      <td>301</td>\n",
       "      <td>2011</td>\n",
       "      <td>Delhi</td>\n",
       "      <td>2011-05-21</td>\n",
       "      <td>Delhi Daredevils</td>\n",
       "      <td>Pune Warriors</td>\n",
       "      <td>Delhi Daredevils</td>\n",
       "      <td>bat</td>\n",
       "      <td>no result</td>\n",
       "      <td>0</td>\n",
       "      <td>NaN</td>\n",
       "      <td>0</td>\n",
       "      <td>0</td>\n",
       "      <td>NaN</td>\n",
       "      <td>Feroz Shah Kotla</td>\n",
       "      <td>SS Hazare</td>\n",
       "      <td>RJ Tucker</td>\n",
       "      <td>NaN</td>\n",
       "    </tr>\n",
       "    <tr>\n",
       "      <th>545</th>\n",
       "      <td>546</td>\n",
       "      <td>2015</td>\n",
       "      <td>Bangalore</td>\n",
       "      <td>2015-04-29</td>\n",
       "      <td>Royal Challengers Bangalore</td>\n",
       "      <td>Rajasthan Royals</td>\n",
       "      <td>Rajasthan Royals</td>\n",
       "      <td>field</td>\n",
       "      <td>no result</td>\n",
       "      <td>0</td>\n",
       "      <td>NaN</td>\n",
       "      <td>0</td>\n",
       "      <td>0</td>\n",
       "      <td>NaN</td>\n",
       "      <td>M Chinnaswamy Stadium</td>\n",
       "      <td>JD Cloete</td>\n",
       "      <td>PG Pathak</td>\n",
       "      <td>NaN</td>\n",
       "    </tr>\n",
       "    <tr>\n",
       "      <th>570</th>\n",
       "      <td>571</td>\n",
       "      <td>2015</td>\n",
       "      <td>Bangalore</td>\n",
       "      <td>2015-05-17</td>\n",
       "      <td>Delhi Daredevils</td>\n",
       "      <td>Royal Challengers Bangalore</td>\n",
       "      <td>Royal Challengers Bangalore</td>\n",
       "      <td>field</td>\n",
       "      <td>no result</td>\n",
       "      <td>0</td>\n",
       "      <td>NaN</td>\n",
       "      <td>0</td>\n",
       "      <td>0</td>\n",
       "      <td>NaN</td>\n",
       "      <td>M Chinnaswamy Stadium</td>\n",
       "      <td>HDPK Dharmasena</td>\n",
       "      <td>K Srinivasan</td>\n",
       "      <td>NaN</td>\n",
       "    </tr>\n",
       "    <tr>\n",
       "      <th>744</th>\n",
       "      <td>11340</td>\n",
       "      <td>2019</td>\n",
       "      <td>Bengaluru</td>\n",
       "      <td>30/04/19</td>\n",
       "      <td>Royal Challengers Bangalore</td>\n",
       "      <td>Rajasthan Royals</td>\n",
       "      <td>Rajasthan Royals</td>\n",
       "      <td>field</td>\n",
       "      <td>no result</td>\n",
       "      <td>0</td>\n",
       "      <td>NaN</td>\n",
       "      <td>0</td>\n",
       "      <td>0</td>\n",
       "      <td>NaN</td>\n",
       "      <td>M. Chinnaswamy Stadium</td>\n",
       "      <td>Nigel Llong</td>\n",
       "      <td>Ulhas Gandhe</td>\n",
       "      <td>Anil Chaudhary</td>\n",
       "    </tr>\n",
       "  </tbody>\n",
       "</table>\n",
       "</div>"
      ],
      "text/plain": [
       "        id  season       city        date                        team1  \\\n",
       "300    301    2011      Delhi  2011-05-21             Delhi Daredevils   \n",
       "545    546    2015  Bangalore  2015-04-29  Royal Challengers Bangalore   \n",
       "570    571    2015  Bangalore  2015-05-17             Delhi Daredevils   \n",
       "744  11340    2019  Bengaluru    30/04/19  Royal Challengers Bangalore   \n",
       "\n",
       "                           team2                  toss_winner toss_decision  \\\n",
       "300                Pune Warriors             Delhi Daredevils           bat   \n",
       "545             Rajasthan Royals             Rajasthan Royals         field   \n",
       "570  Royal Challengers Bangalore  Royal Challengers Bangalore         field   \n",
       "744             Rajasthan Royals             Rajasthan Royals         field   \n",
       "\n",
       "        result  dl_applied winner  win_by_runs  win_by_wickets  \\\n",
       "300  no result           0    NaN            0               0   \n",
       "545  no result           0    NaN            0               0   \n",
       "570  no result           0    NaN            0               0   \n",
       "744  no result           0    NaN            0               0   \n",
       "\n",
       "    player_of_match                   venue          umpire1       umpire2  \\\n",
       "300             NaN        Feroz Shah Kotla        SS Hazare     RJ Tucker   \n",
       "545             NaN   M Chinnaswamy Stadium        JD Cloete     PG Pathak   \n",
       "570             NaN   M Chinnaswamy Stadium  HDPK Dharmasena  K Srinivasan   \n",
       "744             NaN  M. Chinnaswamy Stadium      Nigel Llong  Ulhas Gandhe   \n",
       "\n",
       "            umpire3  \n",
       "300             NaN  \n",
       "545             NaN  \n",
       "570             NaN  \n",
       "744  Anil Chaudhary  "
      ]
     },
     "execution_count": 15,
     "metadata": {},
     "output_type": "execute_result"
    }
   ],
   "source": [
    "no_result =matches[matches['result'] == 'no result']\n",
    "no_result"
   ]
  },
  {
   "cell_type": "code",
   "execution_count": 16,
   "metadata": {},
   "outputs": [
    {
     "data": {
      "text/html": [
       "<div>\n",
       "<style scoped>\n",
       "    .dataframe tbody tr th:only-of-type {\n",
       "        vertical-align: middle;\n",
       "    }\n",
       "\n",
       "    .dataframe tbody tr th {\n",
       "        vertical-align: top;\n",
       "    }\n",
       "\n",
       "    .dataframe thead th {\n",
       "        text-align: right;\n",
       "    }\n",
       "</style>\n",
       "<table border=\"1\" class=\"dataframe\">\n",
       "  <thead>\n",
       "    <tr style=\"text-align: right;\">\n",
       "      <th></th>\n",
       "      <th>team1</th>\n",
       "      <th>team2</th>\n",
       "      <th>winner</th>\n",
       "    </tr>\n",
       "  </thead>\n",
       "  <tbody>\n",
       "    <tr>\n",
       "      <th>0</th>\n",
       "      <td>Sunrisers Hyderabad</td>\n",
       "      <td>Royal Challengers Bangalore</td>\n",
       "      <td>Sunrisers Hyderabad</td>\n",
       "    </tr>\n",
       "    <tr>\n",
       "      <th>1</th>\n",
       "      <td>Mumbai Indians</td>\n",
       "      <td>Rising Pune Supergiant</td>\n",
       "      <td>Rising Pune Supergiant</td>\n",
       "    </tr>\n",
       "    <tr>\n",
       "      <th>2</th>\n",
       "      <td>Gujarat Lions</td>\n",
       "      <td>Kolkata Knight Riders</td>\n",
       "      <td>Kolkata Knight Riders</td>\n",
       "    </tr>\n",
       "    <tr>\n",
       "      <th>3</th>\n",
       "      <td>Rising Pune Supergiant</td>\n",
       "      <td>Kings XI Punjab</td>\n",
       "      <td>Kings XI Punjab</td>\n",
       "    </tr>\n",
       "    <tr>\n",
       "      <th>4</th>\n",
       "      <td>Royal Challengers Bangalore</td>\n",
       "      <td>Delhi Daredevils</td>\n",
       "      <td>Royal Challengers Bangalore</td>\n",
       "    </tr>\n",
       "  </tbody>\n",
       "</table>\n",
       "</div>"
      ],
      "text/plain": [
       "                         team1                        team2  \\\n",
       "0          Sunrisers Hyderabad  Royal Challengers Bangalore   \n",
       "1               Mumbai Indians       Rising Pune Supergiant   \n",
       "2                Gujarat Lions        Kolkata Knight Riders   \n",
       "3       Rising Pune Supergiant              Kings XI Punjab   \n",
       "4  Royal Challengers Bangalore             Delhi Daredevils   \n",
       "\n",
       "                        winner  \n",
       "0          Sunrisers Hyderabad  \n",
       "1       Rising Pune Supergiant  \n",
       "2        Kolkata Knight Riders  \n",
       "3              Kings XI Punjab  \n",
       "4  Royal Challengers Bangalore  "
      ]
     },
     "execution_count": 16,
     "metadata": {},
     "output_type": "execute_result"
    }
   ],
   "source": [
    "matches_result = matches[['team1','team2','winner']]\n",
    "matches_result.head()"
   ]
  },
  {
   "cell_type": "code",
   "execution_count": 17,
   "metadata": {},
   "outputs": [],
   "source": [
    "matches_result['lost'] = matches_result.apply(lambda x:   (x['team2'] if x['team1'] == x['winner'] else x['team1']), axis = 1)"
   ]
  },
  {
   "cell_type": "code",
   "execution_count": 18,
   "metadata": {},
   "outputs": [
    {
     "data": {
      "text/html": [
       "<div>\n",
       "<style scoped>\n",
       "    .dataframe tbody tr th:only-of-type {\n",
       "        vertical-align: middle;\n",
       "    }\n",
       "\n",
       "    .dataframe tbody tr th {\n",
       "        vertical-align: top;\n",
       "    }\n",
       "\n",
       "    .dataframe thead th {\n",
       "        text-align: right;\n",
       "    }\n",
       "</style>\n",
       "<table border=\"1\" class=\"dataframe\">\n",
       "  <thead>\n",
       "    <tr style=\"text-align: right;\">\n",
       "      <th></th>\n",
       "      <th>team1</th>\n",
       "      <th>team2</th>\n",
       "      <th>winner</th>\n",
       "      <th>lost</th>\n",
       "    </tr>\n",
       "  </thead>\n",
       "  <tbody>\n",
       "    <tr>\n",
       "      <th>0</th>\n",
       "      <td>Sunrisers Hyderabad</td>\n",
       "      <td>Royal Challengers Bangalore</td>\n",
       "      <td>Sunrisers Hyderabad</td>\n",
       "      <td>Royal Challengers Bangalore</td>\n",
       "    </tr>\n",
       "    <tr>\n",
       "      <th>1</th>\n",
       "      <td>Mumbai Indians</td>\n",
       "      <td>Rising Pune Supergiant</td>\n",
       "      <td>Rising Pune Supergiant</td>\n",
       "      <td>Mumbai Indians</td>\n",
       "    </tr>\n",
       "    <tr>\n",
       "      <th>2</th>\n",
       "      <td>Gujarat Lions</td>\n",
       "      <td>Kolkata Knight Riders</td>\n",
       "      <td>Kolkata Knight Riders</td>\n",
       "      <td>Gujarat Lions</td>\n",
       "    </tr>\n",
       "    <tr>\n",
       "      <th>3</th>\n",
       "      <td>Rising Pune Supergiant</td>\n",
       "      <td>Kings XI Punjab</td>\n",
       "      <td>Kings XI Punjab</td>\n",
       "      <td>Rising Pune Supergiant</td>\n",
       "    </tr>\n",
       "    <tr>\n",
       "      <th>4</th>\n",
       "      <td>Royal Challengers Bangalore</td>\n",
       "      <td>Delhi Daredevils</td>\n",
       "      <td>Royal Challengers Bangalore</td>\n",
       "      <td>Delhi Daredevils</td>\n",
       "    </tr>\n",
       "    <tr>\n",
       "      <th>5</th>\n",
       "      <td>Gujarat Lions</td>\n",
       "      <td>Sunrisers Hyderabad</td>\n",
       "      <td>Sunrisers Hyderabad</td>\n",
       "      <td>Gujarat Lions</td>\n",
       "    </tr>\n",
       "    <tr>\n",
       "      <th>6</th>\n",
       "      <td>Kolkata Knight Riders</td>\n",
       "      <td>Mumbai Indians</td>\n",
       "      <td>Mumbai Indians</td>\n",
       "      <td>Kolkata Knight Riders</td>\n",
       "    </tr>\n",
       "    <tr>\n",
       "      <th>7</th>\n",
       "      <td>Royal Challengers Bangalore</td>\n",
       "      <td>Kings XI Punjab</td>\n",
       "      <td>Kings XI Punjab</td>\n",
       "      <td>Royal Challengers Bangalore</td>\n",
       "    </tr>\n",
       "    <tr>\n",
       "      <th>8</th>\n",
       "      <td>Delhi Daredevils</td>\n",
       "      <td>Rising Pune Supergiant</td>\n",
       "      <td>Delhi Daredevils</td>\n",
       "      <td>Rising Pune Supergiant</td>\n",
       "    </tr>\n",
       "    <tr>\n",
       "      <th>9</th>\n",
       "      <td>Sunrisers Hyderabad</td>\n",
       "      <td>Mumbai Indians</td>\n",
       "      <td>Mumbai Indians</td>\n",
       "      <td>Sunrisers Hyderabad</td>\n",
       "    </tr>\n",
       "  </tbody>\n",
       "</table>\n",
       "</div>"
      ],
      "text/plain": [
       "                         team1                        team2  \\\n",
       "0          Sunrisers Hyderabad  Royal Challengers Bangalore   \n",
       "1               Mumbai Indians       Rising Pune Supergiant   \n",
       "2                Gujarat Lions        Kolkata Knight Riders   \n",
       "3       Rising Pune Supergiant              Kings XI Punjab   \n",
       "4  Royal Challengers Bangalore             Delhi Daredevils   \n",
       "5                Gujarat Lions          Sunrisers Hyderabad   \n",
       "6        Kolkata Knight Riders               Mumbai Indians   \n",
       "7  Royal Challengers Bangalore              Kings XI Punjab   \n",
       "8             Delhi Daredevils       Rising Pune Supergiant   \n",
       "9          Sunrisers Hyderabad               Mumbai Indians   \n",
       "\n",
       "                        winner                         lost  \n",
       "0          Sunrisers Hyderabad  Royal Challengers Bangalore  \n",
       "1       Rising Pune Supergiant               Mumbai Indians  \n",
       "2        Kolkata Knight Riders                Gujarat Lions  \n",
       "3              Kings XI Punjab       Rising Pune Supergiant  \n",
       "4  Royal Challengers Bangalore             Delhi Daredevils  \n",
       "5          Sunrisers Hyderabad                Gujarat Lions  \n",
       "6               Mumbai Indians        Kolkata Knight Riders  \n",
       "7              Kings XI Punjab  Royal Challengers Bangalore  \n",
       "8             Delhi Daredevils       Rising Pune Supergiant  \n",
       "9               Mumbai Indians          Sunrisers Hyderabad  "
      ]
     },
     "execution_count": 18,
     "metadata": {},
     "output_type": "execute_result"
    }
   ],
   "source": [
    "matches_result.head(10)"
   ]
  },
  {
   "cell_type": "code",
   "execution_count": 19,
   "metadata": {},
   "outputs": [
    {
     "data": {
      "text/plain": [
       "Mumbai Indians                 109\n",
       "Chennai Super Kings            100\n",
       "Kolkata Knight Riders           92\n",
       "Royal Challengers Bangalore     84\n",
       "Kings XI Punjab                 82\n",
       "Rajasthan Royals                75\n",
       "Delhi Daredevils                67\n",
       "Sunrisers Hyderabad             58\n",
       "Deccan Chargers                 29\n",
       "Gujarat Lions                   13\n",
       "Pune Warriors                   12\n",
       "Delhi Capitals                  10\n",
       "Rising Pune Supergiant          10\n",
       "Kochi Tuskers Kerala             6\n",
       "Rising Pune Supergiants          5\n",
       "Name: winner, dtype: int64"
      ]
     },
     "execution_count": 19,
     "metadata": {},
     "output_type": "execute_result"
    }
   ],
   "source": [
    "wins = matches_result['winner'].value_counts()\n",
    "wins"
   ]
  },
  {
   "cell_type": "code",
   "execution_count": 20,
   "metadata": {},
   "outputs": [
    {
     "data": {
      "text/plain": [
       "Royal Challengers Bangalore    95\n",
       "Delhi Daredevils               94\n",
       "Kings XI Punjab                94\n",
       "Kolkata Knight Riders          86\n",
       "Mumbai Indians                 78\n",
       "Rajasthan Royals               70\n",
       "Chennai Super Kings            64\n",
       "Sunrisers Hyderabad            50\n",
       "Deccan Chargers                46\n",
       "Pune Warriors                  33\n",
       "Gujarat Lions                  17\n",
       "Rising Pune Supergiants         9\n",
       "Kochi Tuskers Kerala            8\n",
       "Delhi Capitals                  6\n",
       "Rising Pune Supergiant          6\n",
       "Name: lost, dtype: int64"
      ]
     },
     "execution_count": 20,
     "metadata": {},
     "output_type": "execute_result"
    }
   ],
   "source": [
    "lost = matches_result['lost'].value_counts()\n",
    "lost"
   ]
  },
  {
   "cell_type": "code",
   "execution_count": 21,
   "metadata": {},
   "outputs": [
    {
     "data": {
      "application/vnd.plotly.v1+json": {
       "config": {
        "linkText": "Export to plot.ly",
        "plotlyServerURL": "https://plot.ly",
        "showLink": true
       },
       "data": [
        {
         "marker": {
          "color": "rgba(255, 153, 51, 0.6)",
          "line": {
           "color": "rgba(255, 153, 51, 1.0)",
           "width": 1
          }
         },
         "name": "winner",
         "orientation": "v",
         "text": "",
         "type": "bar",
         "x": [
          "Mumbai Indians",
          "Chennai Super Kings",
          "Kolkata Knight Riders",
          "Royal Challengers Bangalore",
          "Kings XI Punjab",
          "Rajasthan Royals",
          "Delhi Daredevils",
          "Sunrisers Hyderabad",
          "Deccan Chargers",
          "Gujarat Lions",
          "Pune Warriors",
          "Delhi Capitals",
          "Rising Pune Supergiant",
          "Kochi Tuskers Kerala",
          "Rising Pune Supergiants"
         ],
         "y": [
          109,
          100,
          92,
          84,
          82,
          75,
          67,
          58,
          29,
          13,
          12,
          10,
          10,
          6,
          5
         ]
        }
       ],
       "layout": {
        "legend": {
         "bgcolor": "#F5F6F9",
         "font": {
          "color": "#4D5663"
         }
        },
        "paper_bgcolor": "#F5F6F9",
        "plot_bgcolor": "#F5F6F9",
        "template": {
         "data": {
          "bar": [
           {
            "error_x": {
             "color": "#2a3f5f"
            },
            "error_y": {
             "color": "#2a3f5f"
            },
            "marker": {
             "line": {
              "color": "#E5ECF6",
              "width": 0.5
             }
            },
            "type": "bar"
           }
          ],
          "barpolar": [
           {
            "marker": {
             "line": {
              "color": "#E5ECF6",
              "width": 0.5
             }
            },
            "type": "barpolar"
           }
          ],
          "carpet": [
           {
            "aaxis": {
             "endlinecolor": "#2a3f5f",
             "gridcolor": "white",
             "linecolor": "white",
             "minorgridcolor": "white",
             "startlinecolor": "#2a3f5f"
            },
            "baxis": {
             "endlinecolor": "#2a3f5f",
             "gridcolor": "white",
             "linecolor": "white",
             "minorgridcolor": "white",
             "startlinecolor": "#2a3f5f"
            },
            "type": "carpet"
           }
          ],
          "choropleth": [
           {
            "colorbar": {
             "outlinewidth": 0,
             "ticks": ""
            },
            "type": "choropleth"
           }
          ],
          "contour": [
           {
            "colorbar": {
             "outlinewidth": 0,
             "ticks": ""
            },
            "colorscale": [
             [
              0,
              "#0d0887"
             ],
             [
              0.1111111111111111,
              "#46039f"
             ],
             [
              0.2222222222222222,
              "#7201a8"
             ],
             [
              0.3333333333333333,
              "#9c179e"
             ],
             [
              0.4444444444444444,
              "#bd3786"
             ],
             [
              0.5555555555555556,
              "#d8576b"
             ],
             [
              0.6666666666666666,
              "#ed7953"
             ],
             [
              0.7777777777777778,
              "#fb9f3a"
             ],
             [
              0.8888888888888888,
              "#fdca26"
             ],
             [
              1,
              "#f0f921"
             ]
            ],
            "type": "contour"
           }
          ],
          "contourcarpet": [
           {
            "colorbar": {
             "outlinewidth": 0,
             "ticks": ""
            },
            "type": "contourcarpet"
           }
          ],
          "heatmap": [
           {
            "colorbar": {
             "outlinewidth": 0,
             "ticks": ""
            },
            "colorscale": [
             [
              0,
              "#0d0887"
             ],
             [
              0.1111111111111111,
              "#46039f"
             ],
             [
              0.2222222222222222,
              "#7201a8"
             ],
             [
              0.3333333333333333,
              "#9c179e"
             ],
             [
              0.4444444444444444,
              "#bd3786"
             ],
             [
              0.5555555555555556,
              "#d8576b"
             ],
             [
              0.6666666666666666,
              "#ed7953"
             ],
             [
              0.7777777777777778,
              "#fb9f3a"
             ],
             [
              0.8888888888888888,
              "#fdca26"
             ],
             [
              1,
              "#f0f921"
             ]
            ],
            "type": "heatmap"
           }
          ],
          "heatmapgl": [
           {
            "colorbar": {
             "outlinewidth": 0,
             "ticks": ""
            },
            "colorscale": [
             [
              0,
              "#0d0887"
             ],
             [
              0.1111111111111111,
              "#46039f"
             ],
             [
              0.2222222222222222,
              "#7201a8"
             ],
             [
              0.3333333333333333,
              "#9c179e"
             ],
             [
              0.4444444444444444,
              "#bd3786"
             ],
             [
              0.5555555555555556,
              "#d8576b"
             ],
             [
              0.6666666666666666,
              "#ed7953"
             ],
             [
              0.7777777777777778,
              "#fb9f3a"
             ],
             [
              0.8888888888888888,
              "#fdca26"
             ],
             [
              1,
              "#f0f921"
             ]
            ],
            "type": "heatmapgl"
           }
          ],
          "histogram": [
           {
            "marker": {
             "colorbar": {
              "outlinewidth": 0,
              "ticks": ""
             }
            },
            "type": "histogram"
           }
          ],
          "histogram2d": [
           {
            "colorbar": {
             "outlinewidth": 0,
             "ticks": ""
            },
            "colorscale": [
             [
              0,
              "#0d0887"
             ],
             [
              0.1111111111111111,
              "#46039f"
             ],
             [
              0.2222222222222222,
              "#7201a8"
             ],
             [
              0.3333333333333333,
              "#9c179e"
             ],
             [
              0.4444444444444444,
              "#bd3786"
             ],
             [
              0.5555555555555556,
              "#d8576b"
             ],
             [
              0.6666666666666666,
              "#ed7953"
             ],
             [
              0.7777777777777778,
              "#fb9f3a"
             ],
             [
              0.8888888888888888,
              "#fdca26"
             ],
             [
              1,
              "#f0f921"
             ]
            ],
            "type": "histogram2d"
           }
          ],
          "histogram2dcontour": [
           {
            "colorbar": {
             "outlinewidth": 0,
             "ticks": ""
            },
            "colorscale": [
             [
              0,
              "#0d0887"
             ],
             [
              0.1111111111111111,
              "#46039f"
             ],
             [
              0.2222222222222222,
              "#7201a8"
             ],
             [
              0.3333333333333333,
              "#9c179e"
             ],
             [
              0.4444444444444444,
              "#bd3786"
             ],
             [
              0.5555555555555556,
              "#d8576b"
             ],
             [
              0.6666666666666666,
              "#ed7953"
             ],
             [
              0.7777777777777778,
              "#fb9f3a"
             ],
             [
              0.8888888888888888,
              "#fdca26"
             ],
             [
              1,
              "#f0f921"
             ]
            ],
            "type": "histogram2dcontour"
           }
          ],
          "mesh3d": [
           {
            "colorbar": {
             "outlinewidth": 0,
             "ticks": ""
            },
            "type": "mesh3d"
           }
          ],
          "parcoords": [
           {
            "line": {
             "colorbar": {
              "outlinewidth": 0,
              "ticks": ""
             }
            },
            "type": "parcoords"
           }
          ],
          "pie": [
           {
            "automargin": true,
            "type": "pie"
           }
          ],
          "scatter": [
           {
            "marker": {
             "colorbar": {
              "outlinewidth": 0,
              "ticks": ""
             }
            },
            "type": "scatter"
           }
          ],
          "scatter3d": [
           {
            "line": {
             "colorbar": {
              "outlinewidth": 0,
              "ticks": ""
             }
            },
            "marker": {
             "colorbar": {
              "outlinewidth": 0,
              "ticks": ""
             }
            },
            "type": "scatter3d"
           }
          ],
          "scattercarpet": [
           {
            "marker": {
             "colorbar": {
              "outlinewidth": 0,
              "ticks": ""
             }
            },
            "type": "scattercarpet"
           }
          ],
          "scattergeo": [
           {
            "marker": {
             "colorbar": {
              "outlinewidth": 0,
              "ticks": ""
             }
            },
            "type": "scattergeo"
           }
          ],
          "scattergl": [
           {
            "marker": {
             "colorbar": {
              "outlinewidth": 0,
              "ticks": ""
             }
            },
            "type": "scattergl"
           }
          ],
          "scattermapbox": [
           {
            "marker": {
             "colorbar": {
              "outlinewidth": 0,
              "ticks": ""
             }
            },
            "type": "scattermapbox"
           }
          ],
          "scatterpolar": [
           {
            "marker": {
             "colorbar": {
              "outlinewidth": 0,
              "ticks": ""
             }
            },
            "type": "scatterpolar"
           }
          ],
          "scatterpolargl": [
           {
            "marker": {
             "colorbar": {
              "outlinewidth": 0,
              "ticks": ""
             }
            },
            "type": "scatterpolargl"
           }
          ],
          "scatterternary": [
           {
            "marker": {
             "colorbar": {
              "outlinewidth": 0,
              "ticks": ""
             }
            },
            "type": "scatterternary"
           }
          ],
          "surface": [
           {
            "colorbar": {
             "outlinewidth": 0,
             "ticks": ""
            },
            "colorscale": [
             [
              0,
              "#0d0887"
             ],
             [
              0.1111111111111111,
              "#46039f"
             ],
             [
              0.2222222222222222,
              "#7201a8"
             ],
             [
              0.3333333333333333,
              "#9c179e"
             ],
             [
              0.4444444444444444,
              "#bd3786"
             ],
             [
              0.5555555555555556,
              "#d8576b"
             ],
             [
              0.6666666666666666,
              "#ed7953"
             ],
             [
              0.7777777777777778,
              "#fb9f3a"
             ],
             [
              0.8888888888888888,
              "#fdca26"
             ],
             [
              1,
              "#f0f921"
             ]
            ],
            "type": "surface"
           }
          ],
          "table": [
           {
            "cells": {
             "fill": {
              "color": "#EBF0F8"
             },
             "line": {
              "color": "white"
             }
            },
            "header": {
             "fill": {
              "color": "#C8D4E3"
             },
             "line": {
              "color": "white"
             }
            },
            "type": "table"
           }
          ]
         },
         "layout": {
          "annotationdefaults": {
           "arrowcolor": "#2a3f5f",
           "arrowhead": 0,
           "arrowwidth": 1
          },
          "coloraxis": {
           "colorbar": {
            "outlinewidth": 0,
            "ticks": ""
           }
          },
          "colorscale": {
           "diverging": [
            [
             0,
             "#8e0152"
            ],
            [
             0.1,
             "#c51b7d"
            ],
            [
             0.2,
             "#de77ae"
            ],
            [
             0.3,
             "#f1b6da"
            ],
            [
             0.4,
             "#fde0ef"
            ],
            [
             0.5,
             "#f7f7f7"
            ],
            [
             0.6,
             "#e6f5d0"
            ],
            [
             0.7,
             "#b8e186"
            ],
            [
             0.8,
             "#7fbc41"
            ],
            [
             0.9,
             "#4d9221"
            ],
            [
             1,
             "#276419"
            ]
           ],
           "sequential": [
            [
             0,
             "#0d0887"
            ],
            [
             0.1111111111111111,
             "#46039f"
            ],
            [
             0.2222222222222222,
             "#7201a8"
            ],
            [
             0.3333333333333333,
             "#9c179e"
            ],
            [
             0.4444444444444444,
             "#bd3786"
            ],
            [
             0.5555555555555556,
             "#d8576b"
            ],
            [
             0.6666666666666666,
             "#ed7953"
            ],
            [
             0.7777777777777778,
             "#fb9f3a"
            ],
            [
             0.8888888888888888,
             "#fdca26"
            ],
            [
             1,
             "#f0f921"
            ]
           ],
           "sequentialminus": [
            [
             0,
             "#0d0887"
            ],
            [
             0.1111111111111111,
             "#46039f"
            ],
            [
             0.2222222222222222,
             "#7201a8"
            ],
            [
             0.3333333333333333,
             "#9c179e"
            ],
            [
             0.4444444444444444,
             "#bd3786"
            ],
            [
             0.5555555555555556,
             "#d8576b"
            ],
            [
             0.6666666666666666,
             "#ed7953"
            ],
            [
             0.7777777777777778,
             "#fb9f3a"
            ],
            [
             0.8888888888888888,
             "#fdca26"
            ],
            [
             1,
             "#f0f921"
            ]
           ]
          },
          "colorway": [
           "#636efa",
           "#EF553B",
           "#00cc96",
           "#ab63fa",
           "#FFA15A",
           "#19d3f3",
           "#FF6692",
           "#B6E880",
           "#FF97FF",
           "#FECB52"
          ],
          "font": {
           "color": "#2a3f5f"
          },
          "geo": {
           "bgcolor": "white",
           "lakecolor": "white",
           "landcolor": "#E5ECF6",
           "showlakes": true,
           "showland": true,
           "subunitcolor": "white"
          },
          "hoverlabel": {
           "align": "left"
          },
          "hovermode": "closest",
          "mapbox": {
           "style": "light"
          },
          "paper_bgcolor": "white",
          "plot_bgcolor": "#E5ECF6",
          "polar": {
           "angularaxis": {
            "gridcolor": "white",
            "linecolor": "white",
            "ticks": ""
           },
           "bgcolor": "#E5ECF6",
           "radialaxis": {
            "gridcolor": "white",
            "linecolor": "white",
            "ticks": ""
           }
          },
          "scene": {
           "xaxis": {
            "backgroundcolor": "#E5ECF6",
            "gridcolor": "white",
            "gridwidth": 2,
            "linecolor": "white",
            "showbackground": true,
            "ticks": "",
            "zerolinecolor": "white"
           },
           "yaxis": {
            "backgroundcolor": "#E5ECF6",
            "gridcolor": "white",
            "gridwidth": 2,
            "linecolor": "white",
            "showbackground": true,
            "ticks": "",
            "zerolinecolor": "white"
           },
           "zaxis": {
            "backgroundcolor": "#E5ECF6",
            "gridcolor": "white",
            "gridwidth": 2,
            "linecolor": "white",
            "showbackground": true,
            "ticks": "",
            "zerolinecolor": "white"
           }
          },
          "shapedefaults": {
           "line": {
            "color": "#2a3f5f"
           }
          },
          "ternary": {
           "aaxis": {
            "gridcolor": "white",
            "linecolor": "white",
            "ticks": ""
           },
           "baxis": {
            "gridcolor": "white",
            "linecolor": "white",
            "ticks": ""
           },
           "bgcolor": "#E5ECF6",
           "caxis": {
            "gridcolor": "white",
            "linecolor": "white",
            "ticks": ""
           }
          },
          "title": {
           "x": 0.05
          },
          "xaxis": {
           "automargin": true,
           "gridcolor": "white",
           "linecolor": "white",
           "ticks": "",
           "title": {
            "standoff": 15
           },
           "zerolinecolor": "white",
           "zerolinewidth": 2
          },
          "yaxis": {
           "automargin": true,
           "gridcolor": "white",
           "linecolor": "white",
           "ticks": "",
           "title": {
            "standoff": 15
           },
           "zerolinecolor": "white",
           "zerolinewidth": 2
          }
         }
        },
        "title": {
         "font": {
          "color": "#4D5663"
         },
         "text": "Winning Count"
        },
        "xaxis": {
         "gridcolor": "#E1E5ED",
         "showgrid": true,
         "tickfont": {
          "color": "#4D5663"
         },
         "title": {
          "font": {
           "color": "#4D5663"
          },
          "text": "Team"
         },
         "zerolinecolor": "#E1E5ED"
        },
        "yaxis": {
         "gridcolor": "#E1E5ED",
         "showgrid": true,
         "tickfont": {
          "color": "#4D5663"
         },
         "title": {
          "font": {
           "color": "#4D5663"
          },
          "text": "Count"
         },
         "zerolinecolor": "#E1E5ED"
        }
       }
      },
      "text/html": [
       "<div>\n",
       "        \n",
       "        \n",
       "            <div id=\"75936832-e035-4e4b-813b-dd7522a58909\" class=\"plotly-graph-div\" style=\"height:525px; width:100%;\"></div>\n",
       "            <script type=\"text/javascript\">\n",
       "                require([\"plotly\"], function(Plotly) {\n",
       "                    window.PLOTLYENV=window.PLOTLYENV || {};\n",
       "                    window.PLOTLYENV.BASE_URL='https://plot.ly';\n",
       "                    \n",
       "                if (document.getElementById(\"75936832-e035-4e4b-813b-dd7522a58909\")) {\n",
       "                    Plotly.newPlot(\n",
       "                        '75936832-e035-4e4b-813b-dd7522a58909',\n",
       "                        [{\"marker\": {\"color\": \"rgba(255, 153, 51, 0.6)\", \"line\": {\"color\": \"rgba(255, 153, 51, 1.0)\", \"width\": 1}}, \"name\": \"winner\", \"orientation\": \"v\", \"text\": \"\", \"type\": \"bar\", \"x\": [\"Mumbai Indians\", \"Chennai Super Kings\", \"Kolkata Knight Riders\", \"Royal Challengers Bangalore\", \"Kings XI Punjab\", \"Rajasthan Royals\", \"Delhi Daredevils\", \"Sunrisers Hyderabad\", \"Deccan Chargers\", \"Gujarat Lions\", \"Pune Warriors\", \"Delhi Capitals\", \"Rising Pune Supergiant\", \"Kochi Tuskers Kerala\", \"Rising Pune Supergiants\"], \"y\": [109, 100, 92, 84, 82, 75, 67, 58, 29, 13, 12, 10, 10, 6, 5]}],\n",
       "                        {\"legend\": {\"bgcolor\": \"#F5F6F9\", \"font\": {\"color\": \"#4D5663\"}}, \"paper_bgcolor\": \"#F5F6F9\", \"plot_bgcolor\": \"#F5F6F9\", \"template\": {\"data\": {\"bar\": [{\"error_x\": {\"color\": \"#2a3f5f\"}, \"error_y\": {\"color\": \"#2a3f5f\"}, \"marker\": {\"line\": {\"color\": \"#E5ECF6\", \"width\": 0.5}}, \"type\": \"bar\"}], \"barpolar\": [{\"marker\": {\"line\": {\"color\": \"#E5ECF6\", \"width\": 0.5}}, \"type\": \"barpolar\"}], \"carpet\": [{\"aaxis\": {\"endlinecolor\": \"#2a3f5f\", \"gridcolor\": \"white\", \"linecolor\": \"white\", \"minorgridcolor\": \"white\", \"startlinecolor\": \"#2a3f5f\"}, \"baxis\": {\"endlinecolor\": \"#2a3f5f\", \"gridcolor\": \"white\", \"linecolor\": \"white\", \"minorgridcolor\": \"white\", \"startlinecolor\": \"#2a3f5f\"}, \"type\": \"carpet\"}], \"choropleth\": [{\"colorbar\": {\"outlinewidth\": 0, \"ticks\": \"\"}, \"type\": \"choropleth\"}], \"contour\": [{\"colorbar\": {\"outlinewidth\": 0, \"ticks\": \"\"}, \"colorscale\": [[0.0, \"#0d0887\"], [0.1111111111111111, \"#46039f\"], [0.2222222222222222, \"#7201a8\"], [0.3333333333333333, \"#9c179e\"], [0.4444444444444444, \"#bd3786\"], [0.5555555555555556, \"#d8576b\"], [0.6666666666666666, \"#ed7953\"], [0.7777777777777778, \"#fb9f3a\"], [0.8888888888888888, \"#fdca26\"], [1.0, \"#f0f921\"]], \"type\": \"contour\"}], \"contourcarpet\": [{\"colorbar\": {\"outlinewidth\": 0, \"ticks\": \"\"}, \"type\": \"contourcarpet\"}], \"heatmap\": [{\"colorbar\": {\"outlinewidth\": 0, \"ticks\": \"\"}, \"colorscale\": [[0.0, \"#0d0887\"], [0.1111111111111111, \"#46039f\"], [0.2222222222222222, \"#7201a8\"], [0.3333333333333333, \"#9c179e\"], [0.4444444444444444, \"#bd3786\"], [0.5555555555555556, \"#d8576b\"], [0.6666666666666666, \"#ed7953\"], [0.7777777777777778, \"#fb9f3a\"], [0.8888888888888888, \"#fdca26\"], [1.0, \"#f0f921\"]], \"type\": \"heatmap\"}], \"heatmapgl\": [{\"colorbar\": {\"outlinewidth\": 0, \"ticks\": \"\"}, \"colorscale\": [[0.0, \"#0d0887\"], [0.1111111111111111, \"#46039f\"], [0.2222222222222222, \"#7201a8\"], [0.3333333333333333, \"#9c179e\"], [0.4444444444444444, \"#bd3786\"], [0.5555555555555556, \"#d8576b\"], [0.6666666666666666, \"#ed7953\"], [0.7777777777777778, \"#fb9f3a\"], [0.8888888888888888, \"#fdca26\"], [1.0, \"#f0f921\"]], \"type\": \"heatmapgl\"}], \"histogram\": [{\"marker\": {\"colorbar\": {\"outlinewidth\": 0, \"ticks\": \"\"}}, \"type\": \"histogram\"}], \"histogram2d\": [{\"colorbar\": {\"outlinewidth\": 0, \"ticks\": \"\"}, \"colorscale\": [[0.0, \"#0d0887\"], [0.1111111111111111, \"#46039f\"], [0.2222222222222222, \"#7201a8\"], [0.3333333333333333, \"#9c179e\"], [0.4444444444444444, \"#bd3786\"], [0.5555555555555556, \"#d8576b\"], [0.6666666666666666, \"#ed7953\"], [0.7777777777777778, \"#fb9f3a\"], [0.8888888888888888, \"#fdca26\"], [1.0, \"#f0f921\"]], \"type\": \"histogram2d\"}], \"histogram2dcontour\": [{\"colorbar\": {\"outlinewidth\": 0, \"ticks\": \"\"}, \"colorscale\": [[0.0, \"#0d0887\"], [0.1111111111111111, \"#46039f\"], [0.2222222222222222, \"#7201a8\"], [0.3333333333333333, \"#9c179e\"], [0.4444444444444444, \"#bd3786\"], [0.5555555555555556, \"#d8576b\"], [0.6666666666666666, \"#ed7953\"], [0.7777777777777778, \"#fb9f3a\"], [0.8888888888888888, \"#fdca26\"], [1.0, \"#f0f921\"]], \"type\": \"histogram2dcontour\"}], \"mesh3d\": [{\"colorbar\": {\"outlinewidth\": 0, \"ticks\": \"\"}, \"type\": \"mesh3d\"}], \"parcoords\": [{\"line\": {\"colorbar\": {\"outlinewidth\": 0, \"ticks\": \"\"}}, \"type\": \"parcoords\"}], \"pie\": [{\"automargin\": true, \"type\": \"pie\"}], \"scatter\": [{\"marker\": {\"colorbar\": {\"outlinewidth\": 0, \"ticks\": \"\"}}, \"type\": \"scatter\"}], \"scatter3d\": [{\"line\": {\"colorbar\": {\"outlinewidth\": 0, \"ticks\": \"\"}}, \"marker\": {\"colorbar\": {\"outlinewidth\": 0, \"ticks\": \"\"}}, \"type\": \"scatter3d\"}], \"scattercarpet\": [{\"marker\": {\"colorbar\": {\"outlinewidth\": 0, \"ticks\": \"\"}}, \"type\": \"scattercarpet\"}], \"scattergeo\": [{\"marker\": {\"colorbar\": {\"outlinewidth\": 0, \"ticks\": \"\"}}, \"type\": \"scattergeo\"}], \"scattergl\": [{\"marker\": {\"colorbar\": {\"outlinewidth\": 0, \"ticks\": \"\"}}, \"type\": \"scattergl\"}], \"scattermapbox\": [{\"marker\": {\"colorbar\": {\"outlinewidth\": 0, \"ticks\": \"\"}}, \"type\": \"scattermapbox\"}], \"scatterpolar\": [{\"marker\": {\"colorbar\": {\"outlinewidth\": 0, \"ticks\": \"\"}}, \"type\": \"scatterpolar\"}], \"scatterpolargl\": [{\"marker\": {\"colorbar\": {\"outlinewidth\": 0, \"ticks\": \"\"}}, \"type\": \"scatterpolargl\"}], \"scatterternary\": [{\"marker\": {\"colorbar\": {\"outlinewidth\": 0, \"ticks\": \"\"}}, \"type\": \"scatterternary\"}], \"surface\": [{\"colorbar\": {\"outlinewidth\": 0, \"ticks\": \"\"}, \"colorscale\": [[0.0, \"#0d0887\"], [0.1111111111111111, \"#46039f\"], [0.2222222222222222, \"#7201a8\"], [0.3333333333333333, \"#9c179e\"], [0.4444444444444444, \"#bd3786\"], [0.5555555555555556, \"#d8576b\"], [0.6666666666666666, \"#ed7953\"], [0.7777777777777778, \"#fb9f3a\"], [0.8888888888888888, \"#fdca26\"], [1.0, \"#f0f921\"]], \"type\": \"surface\"}], \"table\": [{\"cells\": {\"fill\": {\"color\": \"#EBF0F8\"}, \"line\": {\"color\": \"white\"}}, \"header\": {\"fill\": {\"color\": \"#C8D4E3\"}, \"line\": {\"color\": \"white\"}}, \"type\": \"table\"}]}, \"layout\": {\"annotationdefaults\": {\"arrowcolor\": \"#2a3f5f\", \"arrowhead\": 0, \"arrowwidth\": 1}, \"coloraxis\": {\"colorbar\": {\"outlinewidth\": 0, \"ticks\": \"\"}}, \"colorscale\": {\"diverging\": [[0, \"#8e0152\"], [0.1, \"#c51b7d\"], [0.2, \"#de77ae\"], [0.3, \"#f1b6da\"], [0.4, \"#fde0ef\"], [0.5, \"#f7f7f7\"], [0.6, \"#e6f5d0\"], [0.7, \"#b8e186\"], [0.8, \"#7fbc41\"], [0.9, \"#4d9221\"], [1, \"#276419\"]], \"sequential\": [[0.0, \"#0d0887\"], [0.1111111111111111, \"#46039f\"], [0.2222222222222222, \"#7201a8\"], [0.3333333333333333, \"#9c179e\"], [0.4444444444444444, \"#bd3786\"], [0.5555555555555556, \"#d8576b\"], [0.6666666666666666, \"#ed7953\"], [0.7777777777777778, \"#fb9f3a\"], [0.8888888888888888, \"#fdca26\"], [1.0, \"#f0f921\"]], \"sequentialminus\": [[0.0, \"#0d0887\"], [0.1111111111111111, \"#46039f\"], [0.2222222222222222, \"#7201a8\"], [0.3333333333333333, \"#9c179e\"], [0.4444444444444444, \"#bd3786\"], [0.5555555555555556, \"#d8576b\"], [0.6666666666666666, \"#ed7953\"], [0.7777777777777778, \"#fb9f3a\"], [0.8888888888888888, \"#fdca26\"], [1.0, \"#f0f921\"]]}, \"colorway\": [\"#636efa\", \"#EF553B\", \"#00cc96\", \"#ab63fa\", \"#FFA15A\", \"#19d3f3\", \"#FF6692\", \"#B6E880\", \"#FF97FF\", \"#FECB52\"], \"font\": {\"color\": \"#2a3f5f\"}, \"geo\": {\"bgcolor\": \"white\", \"lakecolor\": \"white\", \"landcolor\": \"#E5ECF6\", \"showlakes\": true, \"showland\": true, \"subunitcolor\": \"white\"}, \"hoverlabel\": {\"align\": \"left\"}, \"hovermode\": \"closest\", \"mapbox\": {\"style\": \"light\"}, \"paper_bgcolor\": \"white\", \"plot_bgcolor\": \"#E5ECF6\", \"polar\": {\"angularaxis\": {\"gridcolor\": \"white\", \"linecolor\": \"white\", \"ticks\": \"\"}, \"bgcolor\": \"#E5ECF6\", \"radialaxis\": {\"gridcolor\": \"white\", \"linecolor\": \"white\", \"ticks\": \"\"}}, \"scene\": {\"xaxis\": {\"backgroundcolor\": \"#E5ECF6\", \"gridcolor\": \"white\", \"gridwidth\": 2, \"linecolor\": \"white\", \"showbackground\": true, \"ticks\": \"\", \"zerolinecolor\": \"white\"}, \"yaxis\": {\"backgroundcolor\": \"#E5ECF6\", \"gridcolor\": \"white\", \"gridwidth\": 2, \"linecolor\": \"white\", \"showbackground\": true, \"ticks\": \"\", \"zerolinecolor\": \"white\"}, \"zaxis\": {\"backgroundcolor\": \"#E5ECF6\", \"gridcolor\": \"white\", \"gridwidth\": 2, \"linecolor\": \"white\", \"showbackground\": true, \"ticks\": \"\", \"zerolinecolor\": \"white\"}}, \"shapedefaults\": {\"line\": {\"color\": \"#2a3f5f\"}}, \"ternary\": {\"aaxis\": {\"gridcolor\": \"white\", \"linecolor\": \"white\", \"ticks\": \"\"}, \"baxis\": {\"gridcolor\": \"white\", \"linecolor\": \"white\", \"ticks\": \"\"}, \"bgcolor\": \"#E5ECF6\", \"caxis\": {\"gridcolor\": \"white\", \"linecolor\": \"white\", \"ticks\": \"\"}}, \"title\": {\"x\": 0.05}, \"xaxis\": {\"automargin\": true, \"gridcolor\": \"white\", \"linecolor\": \"white\", \"ticks\": \"\", \"title\": {\"standoff\": 15}, \"zerolinecolor\": \"white\", \"zerolinewidth\": 2}, \"yaxis\": {\"automargin\": true, \"gridcolor\": \"white\", \"linecolor\": \"white\", \"ticks\": \"\", \"title\": {\"standoff\": 15}, \"zerolinecolor\": \"white\", \"zerolinewidth\": 2}}}, \"title\": {\"font\": {\"color\": \"#4D5663\"}, \"text\": \"Winning Count\"}, \"xaxis\": {\"gridcolor\": \"#E1E5ED\", \"showgrid\": true, \"tickfont\": {\"color\": \"#4D5663\"}, \"title\": {\"font\": {\"color\": \"#4D5663\"}, \"text\": \"Team\"}, \"zerolinecolor\": \"#E1E5ED\"}, \"yaxis\": {\"gridcolor\": \"#E1E5ED\", \"showgrid\": true, \"tickfont\": {\"color\": \"#4D5663\"}, \"title\": {\"font\": {\"color\": \"#4D5663\"}, \"text\": \"Count\"}, \"zerolinecolor\": \"#E1E5ED\"}},\n",
       "                        {\"showLink\": true, \"linkText\": \"Export to plot.ly\", \"plotlyServerURL\": \"https://plot.ly\", \"responsive\": true}\n",
       "                    ).then(function(){\n",
       "                            \n",
       "var gd = document.getElementById('75936832-e035-4e4b-813b-dd7522a58909');\n",
       "var x = new MutationObserver(function (mutations, observer) {{\n",
       "        var display = window.getComputedStyle(gd).display;\n",
       "        if (!display || display === 'none') {{\n",
       "            console.log([gd, 'removed!']);\n",
       "            Plotly.purge(gd);\n",
       "            observer.disconnect();\n",
       "        }}\n",
       "}});\n",
       "\n",
       "// Listen for the removal of the full notebook cells\n",
       "var notebookContainer = gd.closest('#notebook-container');\n",
       "if (notebookContainer) {{\n",
       "    x.observe(notebookContainer, {childList: true});\n",
       "}}\n",
       "\n",
       "// Listen for the clearing of the current output cell\n",
       "var outputEl = gd.closest('.output');\n",
       "if (outputEl) {{\n",
       "    x.observe(outputEl, {childList: true});\n",
       "}}\n",
       "\n",
       "                        })\n",
       "                };\n",
       "                });\n",
       "            </script>\n",
       "        </div>"
      ]
     },
     "metadata": {},
     "output_type": "display_data"
    }
   ],
   "source": [
    "wins.iplot(kind ='bar',xTitle ='Team',yTitle='Count',title='Winning Count')"
   ]
  },
  {
   "cell_type": "code",
   "execution_count": 22,
   "metadata": {},
   "outputs": [
    {
     "data": {
      "application/vnd.plotly.v1+json": {
       "config": {
        "linkText": "Export to plot.ly",
        "plotlyServerURL": "https://plot.ly",
        "showLink": true
       },
       "data": [
        {
         "marker": {
          "color": "rgba(255, 153, 51, 0.6)",
          "line": {
           "color": "rgba(255, 153, 51, 1.0)",
           "width": 1
          }
         },
         "name": "lost",
         "orientation": "v",
         "text": "",
         "type": "bar",
         "x": [
          "Royal Challengers Bangalore",
          "Delhi Daredevils",
          "Kings XI Punjab",
          "Kolkata Knight Riders",
          "Mumbai Indians",
          "Rajasthan Royals",
          "Chennai Super Kings",
          "Sunrisers Hyderabad",
          "Deccan Chargers",
          "Pune Warriors",
          "Gujarat Lions",
          "Rising Pune Supergiants",
          "Kochi Tuskers Kerala",
          "Delhi Capitals",
          "Rising Pune Supergiant"
         ],
         "y": [
          95,
          94,
          94,
          86,
          78,
          70,
          64,
          50,
          46,
          33,
          17,
          9,
          8,
          6,
          6
         ]
        }
       ],
       "layout": {
        "legend": {
         "bgcolor": "#F5F6F9",
         "font": {
          "color": "#4D5663"
         }
        },
        "paper_bgcolor": "#F5F6F9",
        "plot_bgcolor": "#F5F6F9",
        "template": {
         "data": {
          "bar": [
           {
            "error_x": {
             "color": "#2a3f5f"
            },
            "error_y": {
             "color": "#2a3f5f"
            },
            "marker": {
             "line": {
              "color": "#E5ECF6",
              "width": 0.5
             }
            },
            "type": "bar"
           }
          ],
          "barpolar": [
           {
            "marker": {
             "line": {
              "color": "#E5ECF6",
              "width": 0.5
             }
            },
            "type": "barpolar"
           }
          ],
          "carpet": [
           {
            "aaxis": {
             "endlinecolor": "#2a3f5f",
             "gridcolor": "white",
             "linecolor": "white",
             "minorgridcolor": "white",
             "startlinecolor": "#2a3f5f"
            },
            "baxis": {
             "endlinecolor": "#2a3f5f",
             "gridcolor": "white",
             "linecolor": "white",
             "minorgridcolor": "white",
             "startlinecolor": "#2a3f5f"
            },
            "type": "carpet"
           }
          ],
          "choropleth": [
           {
            "colorbar": {
             "outlinewidth": 0,
             "ticks": ""
            },
            "type": "choropleth"
           }
          ],
          "contour": [
           {
            "colorbar": {
             "outlinewidth": 0,
             "ticks": ""
            },
            "colorscale": [
             [
              0,
              "#0d0887"
             ],
             [
              0.1111111111111111,
              "#46039f"
             ],
             [
              0.2222222222222222,
              "#7201a8"
             ],
             [
              0.3333333333333333,
              "#9c179e"
             ],
             [
              0.4444444444444444,
              "#bd3786"
             ],
             [
              0.5555555555555556,
              "#d8576b"
             ],
             [
              0.6666666666666666,
              "#ed7953"
             ],
             [
              0.7777777777777778,
              "#fb9f3a"
             ],
             [
              0.8888888888888888,
              "#fdca26"
             ],
             [
              1,
              "#f0f921"
             ]
            ],
            "type": "contour"
           }
          ],
          "contourcarpet": [
           {
            "colorbar": {
             "outlinewidth": 0,
             "ticks": ""
            },
            "type": "contourcarpet"
           }
          ],
          "heatmap": [
           {
            "colorbar": {
             "outlinewidth": 0,
             "ticks": ""
            },
            "colorscale": [
             [
              0,
              "#0d0887"
             ],
             [
              0.1111111111111111,
              "#46039f"
             ],
             [
              0.2222222222222222,
              "#7201a8"
             ],
             [
              0.3333333333333333,
              "#9c179e"
             ],
             [
              0.4444444444444444,
              "#bd3786"
             ],
             [
              0.5555555555555556,
              "#d8576b"
             ],
             [
              0.6666666666666666,
              "#ed7953"
             ],
             [
              0.7777777777777778,
              "#fb9f3a"
             ],
             [
              0.8888888888888888,
              "#fdca26"
             ],
             [
              1,
              "#f0f921"
             ]
            ],
            "type": "heatmap"
           }
          ],
          "heatmapgl": [
           {
            "colorbar": {
             "outlinewidth": 0,
             "ticks": ""
            },
            "colorscale": [
             [
              0,
              "#0d0887"
             ],
             [
              0.1111111111111111,
              "#46039f"
             ],
             [
              0.2222222222222222,
              "#7201a8"
             ],
             [
              0.3333333333333333,
              "#9c179e"
             ],
             [
              0.4444444444444444,
              "#bd3786"
             ],
             [
              0.5555555555555556,
              "#d8576b"
             ],
             [
              0.6666666666666666,
              "#ed7953"
             ],
             [
              0.7777777777777778,
              "#fb9f3a"
             ],
             [
              0.8888888888888888,
              "#fdca26"
             ],
             [
              1,
              "#f0f921"
             ]
            ],
            "type": "heatmapgl"
           }
          ],
          "histogram": [
           {
            "marker": {
             "colorbar": {
              "outlinewidth": 0,
              "ticks": ""
             }
            },
            "type": "histogram"
           }
          ],
          "histogram2d": [
           {
            "colorbar": {
             "outlinewidth": 0,
             "ticks": ""
            },
            "colorscale": [
             [
              0,
              "#0d0887"
             ],
             [
              0.1111111111111111,
              "#46039f"
             ],
             [
              0.2222222222222222,
              "#7201a8"
             ],
             [
              0.3333333333333333,
              "#9c179e"
             ],
             [
              0.4444444444444444,
              "#bd3786"
             ],
             [
              0.5555555555555556,
              "#d8576b"
             ],
             [
              0.6666666666666666,
              "#ed7953"
             ],
             [
              0.7777777777777778,
              "#fb9f3a"
             ],
             [
              0.8888888888888888,
              "#fdca26"
             ],
             [
              1,
              "#f0f921"
             ]
            ],
            "type": "histogram2d"
           }
          ],
          "histogram2dcontour": [
           {
            "colorbar": {
             "outlinewidth": 0,
             "ticks": ""
            },
            "colorscale": [
             [
              0,
              "#0d0887"
             ],
             [
              0.1111111111111111,
              "#46039f"
             ],
             [
              0.2222222222222222,
              "#7201a8"
             ],
             [
              0.3333333333333333,
              "#9c179e"
             ],
             [
              0.4444444444444444,
              "#bd3786"
             ],
             [
              0.5555555555555556,
              "#d8576b"
             ],
             [
              0.6666666666666666,
              "#ed7953"
             ],
             [
              0.7777777777777778,
              "#fb9f3a"
             ],
             [
              0.8888888888888888,
              "#fdca26"
             ],
             [
              1,
              "#f0f921"
             ]
            ],
            "type": "histogram2dcontour"
           }
          ],
          "mesh3d": [
           {
            "colorbar": {
             "outlinewidth": 0,
             "ticks": ""
            },
            "type": "mesh3d"
           }
          ],
          "parcoords": [
           {
            "line": {
             "colorbar": {
              "outlinewidth": 0,
              "ticks": ""
             }
            },
            "type": "parcoords"
           }
          ],
          "pie": [
           {
            "automargin": true,
            "type": "pie"
           }
          ],
          "scatter": [
           {
            "marker": {
             "colorbar": {
              "outlinewidth": 0,
              "ticks": ""
             }
            },
            "type": "scatter"
           }
          ],
          "scatter3d": [
           {
            "line": {
             "colorbar": {
              "outlinewidth": 0,
              "ticks": ""
             }
            },
            "marker": {
             "colorbar": {
              "outlinewidth": 0,
              "ticks": ""
             }
            },
            "type": "scatter3d"
           }
          ],
          "scattercarpet": [
           {
            "marker": {
             "colorbar": {
              "outlinewidth": 0,
              "ticks": ""
             }
            },
            "type": "scattercarpet"
           }
          ],
          "scattergeo": [
           {
            "marker": {
             "colorbar": {
              "outlinewidth": 0,
              "ticks": ""
             }
            },
            "type": "scattergeo"
           }
          ],
          "scattergl": [
           {
            "marker": {
             "colorbar": {
              "outlinewidth": 0,
              "ticks": ""
             }
            },
            "type": "scattergl"
           }
          ],
          "scattermapbox": [
           {
            "marker": {
             "colorbar": {
              "outlinewidth": 0,
              "ticks": ""
             }
            },
            "type": "scattermapbox"
           }
          ],
          "scatterpolar": [
           {
            "marker": {
             "colorbar": {
              "outlinewidth": 0,
              "ticks": ""
             }
            },
            "type": "scatterpolar"
           }
          ],
          "scatterpolargl": [
           {
            "marker": {
             "colorbar": {
              "outlinewidth": 0,
              "ticks": ""
             }
            },
            "type": "scatterpolargl"
           }
          ],
          "scatterternary": [
           {
            "marker": {
             "colorbar": {
              "outlinewidth": 0,
              "ticks": ""
             }
            },
            "type": "scatterternary"
           }
          ],
          "surface": [
           {
            "colorbar": {
             "outlinewidth": 0,
             "ticks": ""
            },
            "colorscale": [
             [
              0,
              "#0d0887"
             ],
             [
              0.1111111111111111,
              "#46039f"
             ],
             [
              0.2222222222222222,
              "#7201a8"
             ],
             [
              0.3333333333333333,
              "#9c179e"
             ],
             [
              0.4444444444444444,
              "#bd3786"
             ],
             [
              0.5555555555555556,
              "#d8576b"
             ],
             [
              0.6666666666666666,
              "#ed7953"
             ],
             [
              0.7777777777777778,
              "#fb9f3a"
             ],
             [
              0.8888888888888888,
              "#fdca26"
             ],
             [
              1,
              "#f0f921"
             ]
            ],
            "type": "surface"
           }
          ],
          "table": [
           {
            "cells": {
             "fill": {
              "color": "#EBF0F8"
             },
             "line": {
              "color": "white"
             }
            },
            "header": {
             "fill": {
              "color": "#C8D4E3"
             },
             "line": {
              "color": "white"
             }
            },
            "type": "table"
           }
          ]
         },
         "layout": {
          "annotationdefaults": {
           "arrowcolor": "#2a3f5f",
           "arrowhead": 0,
           "arrowwidth": 1
          },
          "coloraxis": {
           "colorbar": {
            "outlinewidth": 0,
            "ticks": ""
           }
          },
          "colorscale": {
           "diverging": [
            [
             0,
             "#8e0152"
            ],
            [
             0.1,
             "#c51b7d"
            ],
            [
             0.2,
             "#de77ae"
            ],
            [
             0.3,
             "#f1b6da"
            ],
            [
             0.4,
             "#fde0ef"
            ],
            [
             0.5,
             "#f7f7f7"
            ],
            [
             0.6,
             "#e6f5d0"
            ],
            [
             0.7,
             "#b8e186"
            ],
            [
             0.8,
             "#7fbc41"
            ],
            [
             0.9,
             "#4d9221"
            ],
            [
             1,
             "#276419"
            ]
           ],
           "sequential": [
            [
             0,
             "#0d0887"
            ],
            [
             0.1111111111111111,
             "#46039f"
            ],
            [
             0.2222222222222222,
             "#7201a8"
            ],
            [
             0.3333333333333333,
             "#9c179e"
            ],
            [
             0.4444444444444444,
             "#bd3786"
            ],
            [
             0.5555555555555556,
             "#d8576b"
            ],
            [
             0.6666666666666666,
             "#ed7953"
            ],
            [
             0.7777777777777778,
             "#fb9f3a"
            ],
            [
             0.8888888888888888,
             "#fdca26"
            ],
            [
             1,
             "#f0f921"
            ]
           ],
           "sequentialminus": [
            [
             0,
             "#0d0887"
            ],
            [
             0.1111111111111111,
             "#46039f"
            ],
            [
             0.2222222222222222,
             "#7201a8"
            ],
            [
             0.3333333333333333,
             "#9c179e"
            ],
            [
             0.4444444444444444,
             "#bd3786"
            ],
            [
             0.5555555555555556,
             "#d8576b"
            ],
            [
             0.6666666666666666,
             "#ed7953"
            ],
            [
             0.7777777777777778,
             "#fb9f3a"
            ],
            [
             0.8888888888888888,
             "#fdca26"
            ],
            [
             1,
             "#f0f921"
            ]
           ]
          },
          "colorway": [
           "#636efa",
           "#EF553B",
           "#00cc96",
           "#ab63fa",
           "#FFA15A",
           "#19d3f3",
           "#FF6692",
           "#B6E880",
           "#FF97FF",
           "#FECB52"
          ],
          "font": {
           "color": "#2a3f5f"
          },
          "geo": {
           "bgcolor": "white",
           "lakecolor": "white",
           "landcolor": "#E5ECF6",
           "showlakes": true,
           "showland": true,
           "subunitcolor": "white"
          },
          "hoverlabel": {
           "align": "left"
          },
          "hovermode": "closest",
          "mapbox": {
           "style": "light"
          },
          "paper_bgcolor": "white",
          "plot_bgcolor": "#E5ECF6",
          "polar": {
           "angularaxis": {
            "gridcolor": "white",
            "linecolor": "white",
            "ticks": ""
           },
           "bgcolor": "#E5ECF6",
           "radialaxis": {
            "gridcolor": "white",
            "linecolor": "white",
            "ticks": ""
           }
          },
          "scene": {
           "xaxis": {
            "backgroundcolor": "#E5ECF6",
            "gridcolor": "white",
            "gridwidth": 2,
            "linecolor": "white",
            "showbackground": true,
            "ticks": "",
            "zerolinecolor": "white"
           },
           "yaxis": {
            "backgroundcolor": "#E5ECF6",
            "gridcolor": "white",
            "gridwidth": 2,
            "linecolor": "white",
            "showbackground": true,
            "ticks": "",
            "zerolinecolor": "white"
           },
           "zaxis": {
            "backgroundcolor": "#E5ECF6",
            "gridcolor": "white",
            "gridwidth": 2,
            "linecolor": "white",
            "showbackground": true,
            "ticks": "",
            "zerolinecolor": "white"
           }
          },
          "shapedefaults": {
           "line": {
            "color": "#2a3f5f"
           }
          },
          "ternary": {
           "aaxis": {
            "gridcolor": "white",
            "linecolor": "white",
            "ticks": ""
           },
           "baxis": {
            "gridcolor": "white",
            "linecolor": "white",
            "ticks": ""
           },
           "bgcolor": "#E5ECF6",
           "caxis": {
            "gridcolor": "white",
            "linecolor": "white",
            "ticks": ""
           }
          },
          "title": {
           "x": 0.05
          },
          "xaxis": {
           "automargin": true,
           "gridcolor": "white",
           "linecolor": "white",
           "ticks": "",
           "title": {
            "standoff": 15
           },
           "zerolinecolor": "white",
           "zerolinewidth": 2
          },
          "yaxis": {
           "automargin": true,
           "gridcolor": "white",
           "linecolor": "white",
           "ticks": "",
           "title": {
            "standoff": 15
           },
           "zerolinecolor": "white",
           "zerolinewidth": 2
          }
         }
        },
        "title": {
         "font": {
          "color": "#4D5663"
         },
         "text": "Losing Count"
        },
        "xaxis": {
         "gridcolor": "#E1E5ED",
         "showgrid": true,
         "tickfont": {
          "color": "#4D5663"
         },
         "title": {
          "font": {
           "color": "#4D5663"
          },
          "text": "Team"
         },
         "zerolinecolor": "#E1E5ED"
        },
        "yaxis": {
         "gridcolor": "#E1E5ED",
         "showgrid": true,
         "tickfont": {
          "color": "#4D5663"
         },
         "title": {
          "font": {
           "color": "#4D5663"
          },
          "text": "Count"
         },
         "zerolinecolor": "#E1E5ED"
        }
       }
      },
      "text/html": [
       "<div>\n",
       "        \n",
       "        \n",
       "            <div id=\"05f21291-86ed-46a6-b3e4-ed5de90938b3\" class=\"plotly-graph-div\" style=\"height:525px; width:100%;\"></div>\n",
       "            <script type=\"text/javascript\">\n",
       "                require([\"plotly\"], function(Plotly) {\n",
       "                    window.PLOTLYENV=window.PLOTLYENV || {};\n",
       "                    window.PLOTLYENV.BASE_URL='https://plot.ly';\n",
       "                    \n",
       "                if (document.getElementById(\"05f21291-86ed-46a6-b3e4-ed5de90938b3\")) {\n",
       "                    Plotly.newPlot(\n",
       "                        '05f21291-86ed-46a6-b3e4-ed5de90938b3',\n",
       "                        [{\"marker\": {\"color\": \"rgba(255, 153, 51, 0.6)\", \"line\": {\"color\": \"rgba(255, 153, 51, 1.0)\", \"width\": 1}}, \"name\": \"lost\", \"orientation\": \"v\", \"text\": \"\", \"type\": \"bar\", \"x\": [\"Royal Challengers Bangalore\", \"Delhi Daredevils\", \"Kings XI Punjab\", \"Kolkata Knight Riders\", \"Mumbai Indians\", \"Rajasthan Royals\", \"Chennai Super Kings\", \"Sunrisers Hyderabad\", \"Deccan Chargers\", \"Pune Warriors\", \"Gujarat Lions\", \"Rising Pune Supergiants\", \"Kochi Tuskers Kerala\", \"Delhi Capitals\", \"Rising Pune Supergiant\"], \"y\": [95, 94, 94, 86, 78, 70, 64, 50, 46, 33, 17, 9, 8, 6, 6]}],\n",
       "                        {\"legend\": {\"bgcolor\": \"#F5F6F9\", \"font\": {\"color\": \"#4D5663\"}}, \"paper_bgcolor\": \"#F5F6F9\", \"plot_bgcolor\": \"#F5F6F9\", \"template\": {\"data\": {\"bar\": [{\"error_x\": {\"color\": \"#2a3f5f\"}, \"error_y\": {\"color\": \"#2a3f5f\"}, \"marker\": {\"line\": {\"color\": \"#E5ECF6\", \"width\": 0.5}}, \"type\": \"bar\"}], \"barpolar\": [{\"marker\": {\"line\": {\"color\": \"#E5ECF6\", \"width\": 0.5}}, \"type\": \"barpolar\"}], \"carpet\": [{\"aaxis\": {\"endlinecolor\": \"#2a3f5f\", \"gridcolor\": \"white\", \"linecolor\": \"white\", \"minorgridcolor\": \"white\", \"startlinecolor\": \"#2a3f5f\"}, \"baxis\": {\"endlinecolor\": \"#2a3f5f\", \"gridcolor\": \"white\", \"linecolor\": \"white\", \"minorgridcolor\": \"white\", \"startlinecolor\": \"#2a3f5f\"}, \"type\": \"carpet\"}], \"choropleth\": [{\"colorbar\": {\"outlinewidth\": 0, \"ticks\": \"\"}, \"type\": \"choropleth\"}], \"contour\": [{\"colorbar\": {\"outlinewidth\": 0, \"ticks\": \"\"}, \"colorscale\": [[0.0, \"#0d0887\"], [0.1111111111111111, \"#46039f\"], [0.2222222222222222, \"#7201a8\"], [0.3333333333333333, \"#9c179e\"], [0.4444444444444444, \"#bd3786\"], [0.5555555555555556, \"#d8576b\"], [0.6666666666666666, \"#ed7953\"], [0.7777777777777778, \"#fb9f3a\"], [0.8888888888888888, \"#fdca26\"], [1.0, \"#f0f921\"]], \"type\": \"contour\"}], \"contourcarpet\": [{\"colorbar\": {\"outlinewidth\": 0, \"ticks\": \"\"}, \"type\": \"contourcarpet\"}], \"heatmap\": [{\"colorbar\": {\"outlinewidth\": 0, \"ticks\": \"\"}, \"colorscale\": [[0.0, \"#0d0887\"], [0.1111111111111111, \"#46039f\"], [0.2222222222222222, \"#7201a8\"], [0.3333333333333333, \"#9c179e\"], [0.4444444444444444, \"#bd3786\"], [0.5555555555555556, \"#d8576b\"], [0.6666666666666666, \"#ed7953\"], [0.7777777777777778, \"#fb9f3a\"], [0.8888888888888888, \"#fdca26\"], [1.0, \"#f0f921\"]], \"type\": \"heatmap\"}], \"heatmapgl\": [{\"colorbar\": {\"outlinewidth\": 0, \"ticks\": \"\"}, \"colorscale\": [[0.0, \"#0d0887\"], [0.1111111111111111, \"#46039f\"], [0.2222222222222222, \"#7201a8\"], [0.3333333333333333, \"#9c179e\"], [0.4444444444444444, \"#bd3786\"], [0.5555555555555556, \"#d8576b\"], [0.6666666666666666, \"#ed7953\"], [0.7777777777777778, \"#fb9f3a\"], [0.8888888888888888, \"#fdca26\"], [1.0, \"#f0f921\"]], \"type\": \"heatmapgl\"}], \"histogram\": [{\"marker\": {\"colorbar\": {\"outlinewidth\": 0, \"ticks\": \"\"}}, \"type\": \"histogram\"}], \"histogram2d\": [{\"colorbar\": {\"outlinewidth\": 0, \"ticks\": \"\"}, \"colorscale\": [[0.0, \"#0d0887\"], [0.1111111111111111, \"#46039f\"], [0.2222222222222222, \"#7201a8\"], [0.3333333333333333, \"#9c179e\"], [0.4444444444444444, \"#bd3786\"], [0.5555555555555556, \"#d8576b\"], [0.6666666666666666, \"#ed7953\"], [0.7777777777777778, \"#fb9f3a\"], [0.8888888888888888, \"#fdca26\"], [1.0, \"#f0f921\"]], \"type\": \"histogram2d\"}], \"histogram2dcontour\": [{\"colorbar\": {\"outlinewidth\": 0, \"ticks\": \"\"}, \"colorscale\": [[0.0, \"#0d0887\"], [0.1111111111111111, \"#46039f\"], [0.2222222222222222, \"#7201a8\"], [0.3333333333333333, \"#9c179e\"], [0.4444444444444444, \"#bd3786\"], [0.5555555555555556, \"#d8576b\"], [0.6666666666666666, \"#ed7953\"], [0.7777777777777778, \"#fb9f3a\"], [0.8888888888888888, \"#fdca26\"], [1.0, \"#f0f921\"]], \"type\": \"histogram2dcontour\"}], \"mesh3d\": [{\"colorbar\": {\"outlinewidth\": 0, \"ticks\": \"\"}, \"type\": \"mesh3d\"}], \"parcoords\": [{\"line\": {\"colorbar\": {\"outlinewidth\": 0, \"ticks\": \"\"}}, \"type\": \"parcoords\"}], \"pie\": [{\"automargin\": true, \"type\": \"pie\"}], \"scatter\": [{\"marker\": {\"colorbar\": {\"outlinewidth\": 0, \"ticks\": \"\"}}, \"type\": \"scatter\"}], \"scatter3d\": [{\"line\": {\"colorbar\": {\"outlinewidth\": 0, \"ticks\": \"\"}}, \"marker\": {\"colorbar\": {\"outlinewidth\": 0, \"ticks\": \"\"}}, \"type\": \"scatter3d\"}], \"scattercarpet\": [{\"marker\": {\"colorbar\": {\"outlinewidth\": 0, \"ticks\": \"\"}}, \"type\": \"scattercarpet\"}], \"scattergeo\": [{\"marker\": {\"colorbar\": {\"outlinewidth\": 0, \"ticks\": \"\"}}, \"type\": \"scattergeo\"}], \"scattergl\": [{\"marker\": {\"colorbar\": {\"outlinewidth\": 0, \"ticks\": \"\"}}, \"type\": \"scattergl\"}], \"scattermapbox\": [{\"marker\": {\"colorbar\": {\"outlinewidth\": 0, \"ticks\": \"\"}}, \"type\": \"scattermapbox\"}], \"scatterpolar\": [{\"marker\": {\"colorbar\": {\"outlinewidth\": 0, \"ticks\": \"\"}}, \"type\": \"scatterpolar\"}], \"scatterpolargl\": [{\"marker\": {\"colorbar\": {\"outlinewidth\": 0, \"ticks\": \"\"}}, \"type\": \"scatterpolargl\"}], \"scatterternary\": [{\"marker\": {\"colorbar\": {\"outlinewidth\": 0, \"ticks\": \"\"}}, \"type\": \"scatterternary\"}], \"surface\": [{\"colorbar\": {\"outlinewidth\": 0, \"ticks\": \"\"}, \"colorscale\": [[0.0, \"#0d0887\"], [0.1111111111111111, \"#46039f\"], [0.2222222222222222, \"#7201a8\"], [0.3333333333333333, \"#9c179e\"], [0.4444444444444444, \"#bd3786\"], [0.5555555555555556, \"#d8576b\"], [0.6666666666666666, \"#ed7953\"], [0.7777777777777778, \"#fb9f3a\"], [0.8888888888888888, \"#fdca26\"], [1.0, \"#f0f921\"]], \"type\": \"surface\"}], \"table\": [{\"cells\": {\"fill\": {\"color\": \"#EBF0F8\"}, \"line\": {\"color\": \"white\"}}, \"header\": {\"fill\": {\"color\": \"#C8D4E3\"}, \"line\": {\"color\": \"white\"}}, \"type\": \"table\"}]}, \"layout\": {\"annotationdefaults\": {\"arrowcolor\": \"#2a3f5f\", \"arrowhead\": 0, \"arrowwidth\": 1}, \"coloraxis\": {\"colorbar\": {\"outlinewidth\": 0, \"ticks\": \"\"}}, \"colorscale\": {\"diverging\": [[0, \"#8e0152\"], [0.1, \"#c51b7d\"], [0.2, \"#de77ae\"], [0.3, \"#f1b6da\"], [0.4, \"#fde0ef\"], [0.5, \"#f7f7f7\"], [0.6, \"#e6f5d0\"], [0.7, \"#b8e186\"], [0.8, \"#7fbc41\"], [0.9, \"#4d9221\"], [1, \"#276419\"]], \"sequential\": [[0.0, \"#0d0887\"], [0.1111111111111111, \"#46039f\"], [0.2222222222222222, \"#7201a8\"], [0.3333333333333333, \"#9c179e\"], [0.4444444444444444, \"#bd3786\"], [0.5555555555555556, \"#d8576b\"], [0.6666666666666666, \"#ed7953\"], [0.7777777777777778, \"#fb9f3a\"], [0.8888888888888888, \"#fdca26\"], [1.0, \"#f0f921\"]], \"sequentialminus\": [[0.0, \"#0d0887\"], [0.1111111111111111, \"#46039f\"], [0.2222222222222222, \"#7201a8\"], [0.3333333333333333, \"#9c179e\"], [0.4444444444444444, \"#bd3786\"], [0.5555555555555556, \"#d8576b\"], [0.6666666666666666, \"#ed7953\"], [0.7777777777777778, \"#fb9f3a\"], [0.8888888888888888, \"#fdca26\"], [1.0, \"#f0f921\"]]}, \"colorway\": [\"#636efa\", \"#EF553B\", \"#00cc96\", \"#ab63fa\", \"#FFA15A\", \"#19d3f3\", \"#FF6692\", \"#B6E880\", \"#FF97FF\", \"#FECB52\"], \"font\": {\"color\": \"#2a3f5f\"}, \"geo\": {\"bgcolor\": \"white\", \"lakecolor\": \"white\", \"landcolor\": \"#E5ECF6\", \"showlakes\": true, \"showland\": true, \"subunitcolor\": \"white\"}, \"hoverlabel\": {\"align\": \"left\"}, \"hovermode\": \"closest\", \"mapbox\": {\"style\": \"light\"}, \"paper_bgcolor\": \"white\", \"plot_bgcolor\": \"#E5ECF6\", \"polar\": {\"angularaxis\": {\"gridcolor\": \"white\", \"linecolor\": \"white\", \"ticks\": \"\"}, \"bgcolor\": \"#E5ECF6\", \"radialaxis\": {\"gridcolor\": \"white\", \"linecolor\": \"white\", \"ticks\": \"\"}}, \"scene\": {\"xaxis\": {\"backgroundcolor\": \"#E5ECF6\", \"gridcolor\": \"white\", \"gridwidth\": 2, \"linecolor\": \"white\", \"showbackground\": true, \"ticks\": \"\", \"zerolinecolor\": \"white\"}, \"yaxis\": {\"backgroundcolor\": \"#E5ECF6\", \"gridcolor\": \"white\", \"gridwidth\": 2, \"linecolor\": \"white\", \"showbackground\": true, \"ticks\": \"\", \"zerolinecolor\": \"white\"}, \"zaxis\": {\"backgroundcolor\": \"#E5ECF6\", \"gridcolor\": \"white\", \"gridwidth\": 2, \"linecolor\": \"white\", \"showbackground\": true, \"ticks\": \"\", \"zerolinecolor\": \"white\"}}, \"shapedefaults\": {\"line\": {\"color\": \"#2a3f5f\"}}, \"ternary\": {\"aaxis\": {\"gridcolor\": \"white\", \"linecolor\": \"white\", \"ticks\": \"\"}, \"baxis\": {\"gridcolor\": \"white\", \"linecolor\": \"white\", \"ticks\": \"\"}, \"bgcolor\": \"#E5ECF6\", \"caxis\": {\"gridcolor\": \"white\", \"linecolor\": \"white\", \"ticks\": \"\"}}, \"title\": {\"x\": 0.05}, \"xaxis\": {\"automargin\": true, \"gridcolor\": \"white\", \"linecolor\": \"white\", \"ticks\": \"\", \"title\": {\"standoff\": 15}, \"zerolinecolor\": \"white\", \"zerolinewidth\": 2}, \"yaxis\": {\"automargin\": true, \"gridcolor\": \"white\", \"linecolor\": \"white\", \"ticks\": \"\", \"title\": {\"standoff\": 15}, \"zerolinecolor\": \"white\", \"zerolinewidth\": 2}}}, \"title\": {\"font\": {\"color\": \"#4D5663\"}, \"text\": \"Losing Count\"}, \"xaxis\": {\"gridcolor\": \"#E1E5ED\", \"showgrid\": true, \"tickfont\": {\"color\": \"#4D5663\"}, \"title\": {\"font\": {\"color\": \"#4D5663\"}, \"text\": \"Team\"}, \"zerolinecolor\": \"#E1E5ED\"}, \"yaxis\": {\"gridcolor\": \"#E1E5ED\", \"showgrid\": true, \"tickfont\": {\"color\": \"#4D5663\"}, \"title\": {\"font\": {\"color\": \"#4D5663\"}, \"text\": \"Count\"}, \"zerolinecolor\": \"#E1E5ED\"}},\n",
       "                        {\"showLink\": true, \"linkText\": \"Export to plot.ly\", \"plotlyServerURL\": \"https://plot.ly\", \"responsive\": true}\n",
       "                    ).then(function(){\n",
       "                            \n",
       "var gd = document.getElementById('05f21291-86ed-46a6-b3e4-ed5de90938b3');\n",
       "var x = new MutationObserver(function (mutations, observer) {{\n",
       "        var display = window.getComputedStyle(gd).display;\n",
       "        if (!display || display === 'none') {{\n",
       "            console.log([gd, 'removed!']);\n",
       "            Plotly.purge(gd);\n",
       "            observer.disconnect();\n",
       "        }}\n",
       "}});\n",
       "\n",
       "// Listen for the removal of the full notebook cells\n",
       "var notebookContainer = gd.closest('#notebook-container');\n",
       "if (notebookContainer) {{\n",
       "    x.observe(notebookContainer, {childList: true});\n",
       "}}\n",
       "\n",
       "// Listen for the clearing of the current output cell\n",
       "var outputEl = gd.closest('.output');\n",
       "if (outputEl) {{\n",
       "    x.observe(outputEl, {childList: true});\n",
       "}}\n",
       "\n",
       "                        })\n",
       "                };\n",
       "                });\n",
       "            </script>\n",
       "        </div>"
      ]
     },
     "metadata": {},
     "output_type": "display_data"
    }
   ],
   "source": [
    "lost.iplot(kind ='bar',xTitle ='Team',yTitle='Count',title='Losing Count')"
   ]
  },
  {
   "cell_type": "markdown",
   "metadata": {},
   "source": [
    "# MI VS KXIP HEAD TO HEAD ANALYSIS"
   ]
  },
  {
   "cell_type": "code",
   "execution_count": 24,
   "metadata": {},
   "outputs": [],
   "source": [
    "def get_mivskxip(team1,team2):\n",
    "    teams =['Mumbai Indians','Kings XI Punjab']\n",
    "    \n",
    "    if team1 in teams and team2 in teams:\n",
    "        return True\n",
    "    else:\n",
    "        return False"
   ]
  },
  {
   "cell_type": "code",
   "execution_count": 25,
   "metadata": {},
   "outputs": [
    {
     "data": {
      "text/plain": [
       "24"
      ]
     },
     "execution_count": 25,
     "metadata": {},
     "output_type": "execute_result"
    }
   ],
   "source": [
    "index = [ ]\n",
    "\n",
    "for row in matches.iterrows():\n",
    "    flag = get_mivskxip(row[1]['team1'],row[1]['team2'])\n",
    "    index.append(flag)\n",
    "    \n",
    "sum(index)"
   ]
  },
  {
   "cell_type": "code",
   "execution_count": 26,
   "metadata": {},
   "outputs": [],
   "source": [
    "mi_kxip = matches[index]"
   ]
  },
  {
   "cell_type": "code",
   "execution_count": 27,
   "metadata": {},
   "outputs": [
    {
     "data": {
      "text/html": [
       "<div>\n",
       "<style scoped>\n",
       "    .dataframe tbody tr th:only-of-type {\n",
       "        vertical-align: middle;\n",
       "    }\n",
       "\n",
       "    .dataframe tbody tr th {\n",
       "        vertical-align: top;\n",
       "    }\n",
       "\n",
       "    .dataframe thead th {\n",
       "        text-align: right;\n",
       "    }\n",
       "</style>\n",
       "<table border=\"1\" class=\"dataframe\">\n",
       "  <thead>\n",
       "    <tr style=\"text-align: right;\">\n",
       "      <th></th>\n",
       "      <th>id</th>\n",
       "      <th>season</th>\n",
       "      <th>city</th>\n",
       "      <th>date</th>\n",
       "      <th>team1</th>\n",
       "      <th>team2</th>\n",
       "      <th>toss_winner</th>\n",
       "      <th>toss_decision</th>\n",
       "      <th>result</th>\n",
       "      <th>dl_applied</th>\n",
       "      <th>winner</th>\n",
       "      <th>win_by_runs</th>\n",
       "      <th>win_by_wickets</th>\n",
       "      <th>player_of_match</th>\n",
       "      <th>venue</th>\n",
       "      <th>umpire1</th>\n",
       "      <th>umpire2</th>\n",
       "      <th>umpire3</th>\n",
       "    </tr>\n",
       "  </thead>\n",
       "  <tbody>\n",
       "    <tr>\n",
       "      <th>21</th>\n",
       "      <td>22</td>\n",
       "      <td>2017</td>\n",
       "      <td>Indore</td>\n",
       "      <td>2017-04-20</td>\n",
       "      <td>Kings XI Punjab</td>\n",
       "      <td>Mumbai Indians</td>\n",
       "      <td>Mumbai Indians</td>\n",
       "      <td>field</td>\n",
       "      <td>normal</td>\n",
       "      <td>0</td>\n",
       "      <td>Mumbai Indians</td>\n",
       "      <td>0</td>\n",
       "      <td>8</td>\n",
       "      <td>JC Buttler</td>\n",
       "      <td>Holkar Cricket Stadium</td>\n",
       "      <td>M Erasmus</td>\n",
       "      <td>C Shamshuddin</td>\n",
       "      <td>NaN</td>\n",
       "    </tr>\n",
       "  </tbody>\n",
       "</table>\n",
       "</div>"
      ],
      "text/plain": [
       "    id  season    city        date            team1           team2  \\\n",
       "21  22    2017  Indore  2017-04-20  Kings XI Punjab  Mumbai Indians   \n",
       "\n",
       "       toss_winner toss_decision  result  dl_applied          winner  \\\n",
       "21  Mumbai Indians         field  normal           0  Mumbai Indians   \n",
       "\n",
       "    win_by_runs  win_by_wickets player_of_match                   venue  \\\n",
       "21            0               8      JC Buttler  Holkar Cricket Stadium   \n",
       "\n",
       "      umpire1        umpire2 umpire3  \n",
       "21  M Erasmus  C Shamshuddin     NaN  "
      ]
     },
     "execution_count": 27,
     "metadata": {},
     "output_type": "execute_result"
    }
   ],
   "source": [
    "mi_kxip.head(1)"
   ]
  },
  {
   "cell_type": "code",
   "execution_count": 28,
   "metadata": {},
   "outputs": [
    {
     "data": {
      "text/plain": [
       "21     0\n",
       "49     0\n",
       "68     0\n",
       "105    0\n",
       "134    0\n",
       "156    0\n",
       "200    0\n",
       "214    0\n",
       "272    0\n",
       "286    0\n",
       "335    0\n",
       "339    0\n",
       "420    0\n",
       "449    0\n",
       "478    0\n",
       "504    0\n",
       "523    0\n",
       "551    0\n",
       "596    0\n",
       "618    0\n",
       "669    0\n",
       "685    0\n",
       "704    0\n",
       "719    0\n",
       "Name: dl_applied, dtype: int64"
      ]
     },
     "execution_count": 28,
     "metadata": {},
     "output_type": "execute_result"
    }
   ],
   "source": [
    "mi_kxip['dl_applied']"
   ]
  },
  {
   "cell_type": "code",
   "execution_count": 29,
   "metadata": {},
   "outputs": [],
   "source": [
    "mi_kxip=mi_kxip.drop('dl_applied',axis=1)"
   ]
  },
  {
   "cell_type": "markdown",
   "metadata": {},
   "source": [
    "# Head to Head Win Count"
   ]
  },
  {
   "cell_type": "code",
   "execution_count": 30,
   "metadata": {},
   "outputs": [
    {
     "data": {
      "application/vnd.plotly.v1+json": {
       "config": {
        "linkText": "Export to plot.ly",
        "plotlyServerURL": "https://plot.ly",
        "showLink": true
       },
       "data": [
        {
         "marker": {
          "color": "rgba(255, 153, 51, 0.6)",
          "line": {
           "color": "rgba(255, 153, 51, 1.0)",
           "width": 1
          }
         },
         "name": "winner",
         "orientation": "v",
         "text": "",
         "type": "bar",
         "x": [
          "Mumbai Indians",
          "Kings XI Punjab"
         ],
         "y": [
          13,
          11
         ]
        }
       ],
       "layout": {
        "legend": {
         "bgcolor": "#F5F6F9",
         "font": {
          "color": "#4D5663"
         }
        },
        "paper_bgcolor": "#F5F6F9",
        "plot_bgcolor": "#F5F6F9",
        "template": {
         "data": {
          "bar": [
           {
            "error_x": {
             "color": "#2a3f5f"
            },
            "error_y": {
             "color": "#2a3f5f"
            },
            "marker": {
             "line": {
              "color": "#E5ECF6",
              "width": 0.5
             }
            },
            "type": "bar"
           }
          ],
          "barpolar": [
           {
            "marker": {
             "line": {
              "color": "#E5ECF6",
              "width": 0.5
             }
            },
            "type": "barpolar"
           }
          ],
          "carpet": [
           {
            "aaxis": {
             "endlinecolor": "#2a3f5f",
             "gridcolor": "white",
             "linecolor": "white",
             "minorgridcolor": "white",
             "startlinecolor": "#2a3f5f"
            },
            "baxis": {
             "endlinecolor": "#2a3f5f",
             "gridcolor": "white",
             "linecolor": "white",
             "minorgridcolor": "white",
             "startlinecolor": "#2a3f5f"
            },
            "type": "carpet"
           }
          ],
          "choropleth": [
           {
            "colorbar": {
             "outlinewidth": 0,
             "ticks": ""
            },
            "type": "choropleth"
           }
          ],
          "contour": [
           {
            "colorbar": {
             "outlinewidth": 0,
             "ticks": ""
            },
            "colorscale": [
             [
              0,
              "#0d0887"
             ],
             [
              0.1111111111111111,
              "#46039f"
             ],
             [
              0.2222222222222222,
              "#7201a8"
             ],
             [
              0.3333333333333333,
              "#9c179e"
             ],
             [
              0.4444444444444444,
              "#bd3786"
             ],
             [
              0.5555555555555556,
              "#d8576b"
             ],
             [
              0.6666666666666666,
              "#ed7953"
             ],
             [
              0.7777777777777778,
              "#fb9f3a"
             ],
             [
              0.8888888888888888,
              "#fdca26"
             ],
             [
              1,
              "#f0f921"
             ]
            ],
            "type": "contour"
           }
          ],
          "contourcarpet": [
           {
            "colorbar": {
             "outlinewidth": 0,
             "ticks": ""
            },
            "type": "contourcarpet"
           }
          ],
          "heatmap": [
           {
            "colorbar": {
             "outlinewidth": 0,
             "ticks": ""
            },
            "colorscale": [
             [
              0,
              "#0d0887"
             ],
             [
              0.1111111111111111,
              "#46039f"
             ],
             [
              0.2222222222222222,
              "#7201a8"
             ],
             [
              0.3333333333333333,
              "#9c179e"
             ],
             [
              0.4444444444444444,
              "#bd3786"
             ],
             [
              0.5555555555555556,
              "#d8576b"
             ],
             [
              0.6666666666666666,
              "#ed7953"
             ],
             [
              0.7777777777777778,
              "#fb9f3a"
             ],
             [
              0.8888888888888888,
              "#fdca26"
             ],
             [
              1,
              "#f0f921"
             ]
            ],
            "type": "heatmap"
           }
          ],
          "heatmapgl": [
           {
            "colorbar": {
             "outlinewidth": 0,
             "ticks": ""
            },
            "colorscale": [
             [
              0,
              "#0d0887"
             ],
             [
              0.1111111111111111,
              "#46039f"
             ],
             [
              0.2222222222222222,
              "#7201a8"
             ],
             [
              0.3333333333333333,
              "#9c179e"
             ],
             [
              0.4444444444444444,
              "#bd3786"
             ],
             [
              0.5555555555555556,
              "#d8576b"
             ],
             [
              0.6666666666666666,
              "#ed7953"
             ],
             [
              0.7777777777777778,
              "#fb9f3a"
             ],
             [
              0.8888888888888888,
              "#fdca26"
             ],
             [
              1,
              "#f0f921"
             ]
            ],
            "type": "heatmapgl"
           }
          ],
          "histogram": [
           {
            "marker": {
             "colorbar": {
              "outlinewidth": 0,
              "ticks": ""
             }
            },
            "type": "histogram"
           }
          ],
          "histogram2d": [
           {
            "colorbar": {
             "outlinewidth": 0,
             "ticks": ""
            },
            "colorscale": [
             [
              0,
              "#0d0887"
             ],
             [
              0.1111111111111111,
              "#46039f"
             ],
             [
              0.2222222222222222,
              "#7201a8"
             ],
             [
              0.3333333333333333,
              "#9c179e"
             ],
             [
              0.4444444444444444,
              "#bd3786"
             ],
             [
              0.5555555555555556,
              "#d8576b"
             ],
             [
              0.6666666666666666,
              "#ed7953"
             ],
             [
              0.7777777777777778,
              "#fb9f3a"
             ],
             [
              0.8888888888888888,
              "#fdca26"
             ],
             [
              1,
              "#f0f921"
             ]
            ],
            "type": "histogram2d"
           }
          ],
          "histogram2dcontour": [
           {
            "colorbar": {
             "outlinewidth": 0,
             "ticks": ""
            },
            "colorscale": [
             [
              0,
              "#0d0887"
             ],
             [
              0.1111111111111111,
              "#46039f"
             ],
             [
              0.2222222222222222,
              "#7201a8"
             ],
             [
              0.3333333333333333,
              "#9c179e"
             ],
             [
              0.4444444444444444,
              "#bd3786"
             ],
             [
              0.5555555555555556,
              "#d8576b"
             ],
             [
              0.6666666666666666,
              "#ed7953"
             ],
             [
              0.7777777777777778,
              "#fb9f3a"
             ],
             [
              0.8888888888888888,
              "#fdca26"
             ],
             [
              1,
              "#f0f921"
             ]
            ],
            "type": "histogram2dcontour"
           }
          ],
          "mesh3d": [
           {
            "colorbar": {
             "outlinewidth": 0,
             "ticks": ""
            },
            "type": "mesh3d"
           }
          ],
          "parcoords": [
           {
            "line": {
             "colorbar": {
              "outlinewidth": 0,
              "ticks": ""
             }
            },
            "type": "parcoords"
           }
          ],
          "pie": [
           {
            "automargin": true,
            "type": "pie"
           }
          ],
          "scatter": [
           {
            "marker": {
             "colorbar": {
              "outlinewidth": 0,
              "ticks": ""
             }
            },
            "type": "scatter"
           }
          ],
          "scatter3d": [
           {
            "line": {
             "colorbar": {
              "outlinewidth": 0,
              "ticks": ""
             }
            },
            "marker": {
             "colorbar": {
              "outlinewidth": 0,
              "ticks": ""
             }
            },
            "type": "scatter3d"
           }
          ],
          "scattercarpet": [
           {
            "marker": {
             "colorbar": {
              "outlinewidth": 0,
              "ticks": ""
             }
            },
            "type": "scattercarpet"
           }
          ],
          "scattergeo": [
           {
            "marker": {
             "colorbar": {
              "outlinewidth": 0,
              "ticks": ""
             }
            },
            "type": "scattergeo"
           }
          ],
          "scattergl": [
           {
            "marker": {
             "colorbar": {
              "outlinewidth": 0,
              "ticks": ""
             }
            },
            "type": "scattergl"
           }
          ],
          "scattermapbox": [
           {
            "marker": {
             "colorbar": {
              "outlinewidth": 0,
              "ticks": ""
             }
            },
            "type": "scattermapbox"
           }
          ],
          "scatterpolar": [
           {
            "marker": {
             "colorbar": {
              "outlinewidth": 0,
              "ticks": ""
             }
            },
            "type": "scatterpolar"
           }
          ],
          "scatterpolargl": [
           {
            "marker": {
             "colorbar": {
              "outlinewidth": 0,
              "ticks": ""
             }
            },
            "type": "scatterpolargl"
           }
          ],
          "scatterternary": [
           {
            "marker": {
             "colorbar": {
              "outlinewidth": 0,
              "ticks": ""
             }
            },
            "type": "scatterternary"
           }
          ],
          "surface": [
           {
            "colorbar": {
             "outlinewidth": 0,
             "ticks": ""
            },
            "colorscale": [
             [
              0,
              "#0d0887"
             ],
             [
              0.1111111111111111,
              "#46039f"
             ],
             [
              0.2222222222222222,
              "#7201a8"
             ],
             [
              0.3333333333333333,
              "#9c179e"
             ],
             [
              0.4444444444444444,
              "#bd3786"
             ],
             [
              0.5555555555555556,
              "#d8576b"
             ],
             [
              0.6666666666666666,
              "#ed7953"
             ],
             [
              0.7777777777777778,
              "#fb9f3a"
             ],
             [
              0.8888888888888888,
              "#fdca26"
             ],
             [
              1,
              "#f0f921"
             ]
            ],
            "type": "surface"
           }
          ],
          "table": [
           {
            "cells": {
             "fill": {
              "color": "#EBF0F8"
             },
             "line": {
              "color": "white"
             }
            },
            "header": {
             "fill": {
              "color": "#C8D4E3"
             },
             "line": {
              "color": "white"
             }
            },
            "type": "table"
           }
          ]
         },
         "layout": {
          "annotationdefaults": {
           "arrowcolor": "#2a3f5f",
           "arrowhead": 0,
           "arrowwidth": 1
          },
          "coloraxis": {
           "colorbar": {
            "outlinewidth": 0,
            "ticks": ""
           }
          },
          "colorscale": {
           "diverging": [
            [
             0,
             "#8e0152"
            ],
            [
             0.1,
             "#c51b7d"
            ],
            [
             0.2,
             "#de77ae"
            ],
            [
             0.3,
             "#f1b6da"
            ],
            [
             0.4,
             "#fde0ef"
            ],
            [
             0.5,
             "#f7f7f7"
            ],
            [
             0.6,
             "#e6f5d0"
            ],
            [
             0.7,
             "#b8e186"
            ],
            [
             0.8,
             "#7fbc41"
            ],
            [
             0.9,
             "#4d9221"
            ],
            [
             1,
             "#276419"
            ]
           ],
           "sequential": [
            [
             0,
             "#0d0887"
            ],
            [
             0.1111111111111111,
             "#46039f"
            ],
            [
             0.2222222222222222,
             "#7201a8"
            ],
            [
             0.3333333333333333,
             "#9c179e"
            ],
            [
             0.4444444444444444,
             "#bd3786"
            ],
            [
             0.5555555555555556,
             "#d8576b"
            ],
            [
             0.6666666666666666,
             "#ed7953"
            ],
            [
             0.7777777777777778,
             "#fb9f3a"
            ],
            [
             0.8888888888888888,
             "#fdca26"
            ],
            [
             1,
             "#f0f921"
            ]
           ],
           "sequentialminus": [
            [
             0,
             "#0d0887"
            ],
            [
             0.1111111111111111,
             "#46039f"
            ],
            [
             0.2222222222222222,
             "#7201a8"
            ],
            [
             0.3333333333333333,
             "#9c179e"
            ],
            [
             0.4444444444444444,
             "#bd3786"
            ],
            [
             0.5555555555555556,
             "#d8576b"
            ],
            [
             0.6666666666666666,
             "#ed7953"
            ],
            [
             0.7777777777777778,
             "#fb9f3a"
            ],
            [
             0.8888888888888888,
             "#fdca26"
            ],
            [
             1,
             "#f0f921"
            ]
           ]
          },
          "colorway": [
           "#636efa",
           "#EF553B",
           "#00cc96",
           "#ab63fa",
           "#FFA15A",
           "#19d3f3",
           "#FF6692",
           "#B6E880",
           "#FF97FF",
           "#FECB52"
          ],
          "font": {
           "color": "#2a3f5f"
          },
          "geo": {
           "bgcolor": "white",
           "lakecolor": "white",
           "landcolor": "#E5ECF6",
           "showlakes": true,
           "showland": true,
           "subunitcolor": "white"
          },
          "hoverlabel": {
           "align": "left"
          },
          "hovermode": "closest",
          "mapbox": {
           "style": "light"
          },
          "paper_bgcolor": "white",
          "plot_bgcolor": "#E5ECF6",
          "polar": {
           "angularaxis": {
            "gridcolor": "white",
            "linecolor": "white",
            "ticks": ""
           },
           "bgcolor": "#E5ECF6",
           "radialaxis": {
            "gridcolor": "white",
            "linecolor": "white",
            "ticks": ""
           }
          },
          "scene": {
           "xaxis": {
            "backgroundcolor": "#E5ECF6",
            "gridcolor": "white",
            "gridwidth": 2,
            "linecolor": "white",
            "showbackground": true,
            "ticks": "",
            "zerolinecolor": "white"
           },
           "yaxis": {
            "backgroundcolor": "#E5ECF6",
            "gridcolor": "white",
            "gridwidth": 2,
            "linecolor": "white",
            "showbackground": true,
            "ticks": "",
            "zerolinecolor": "white"
           },
           "zaxis": {
            "backgroundcolor": "#E5ECF6",
            "gridcolor": "white",
            "gridwidth": 2,
            "linecolor": "white",
            "showbackground": true,
            "ticks": "",
            "zerolinecolor": "white"
           }
          },
          "shapedefaults": {
           "line": {
            "color": "#2a3f5f"
           }
          },
          "ternary": {
           "aaxis": {
            "gridcolor": "white",
            "linecolor": "white",
            "ticks": ""
           },
           "baxis": {
            "gridcolor": "white",
            "linecolor": "white",
            "ticks": ""
           },
           "bgcolor": "#E5ECF6",
           "caxis": {
            "gridcolor": "white",
            "linecolor": "white",
            "ticks": ""
           }
          },
          "title": {
           "x": 0.05
          },
          "xaxis": {
           "automargin": true,
           "gridcolor": "white",
           "linecolor": "white",
           "ticks": "",
           "title": {
            "standoff": 15
           },
           "zerolinecolor": "white",
           "zerolinewidth": 2
          },
          "yaxis": {
           "automargin": true,
           "gridcolor": "white",
           "linecolor": "white",
           "ticks": "",
           "title": {
            "standoff": 15
           },
           "zerolinecolor": "white",
           "zerolinewidth": 2
          }
         }
        },
        "title": {
         "font": {
          "color": "#4D5663"
         }
        },
        "xaxis": {
         "gridcolor": "#E1E5ED",
         "showgrid": true,
         "tickfont": {
          "color": "#4D5663"
         },
         "title": {
          "font": {
           "color": "#4D5663"
          },
          "text": ""
         },
         "zerolinecolor": "#E1E5ED"
        },
        "yaxis": {
         "gridcolor": "#E1E5ED",
         "showgrid": true,
         "tickfont": {
          "color": "#4D5663"
         },
         "title": {
          "font": {
           "color": "#4D5663"
          },
          "text": ""
         },
         "zerolinecolor": "#E1E5ED"
        }
       }
      },
      "text/html": [
       "<div>\n",
       "        \n",
       "        \n",
       "            <div id=\"f95ce8fd-658b-4685-99fe-ccf732d92082\" class=\"plotly-graph-div\" style=\"height:525px; width:100%;\"></div>\n",
       "            <script type=\"text/javascript\">\n",
       "                require([\"plotly\"], function(Plotly) {\n",
       "                    window.PLOTLYENV=window.PLOTLYENV || {};\n",
       "                    window.PLOTLYENV.BASE_URL='https://plot.ly';\n",
       "                    \n",
       "                if (document.getElementById(\"f95ce8fd-658b-4685-99fe-ccf732d92082\")) {\n",
       "                    Plotly.newPlot(\n",
       "                        'f95ce8fd-658b-4685-99fe-ccf732d92082',\n",
       "                        [{\"marker\": {\"color\": \"rgba(255, 153, 51, 0.6)\", \"line\": {\"color\": \"rgba(255, 153, 51, 1.0)\", \"width\": 1}}, \"name\": \"winner\", \"orientation\": \"v\", \"text\": \"\", \"type\": \"bar\", \"x\": [\"Mumbai Indians\", \"Kings XI Punjab\"], \"y\": [13, 11]}],\n",
       "                        {\"legend\": {\"bgcolor\": \"#F5F6F9\", \"font\": {\"color\": \"#4D5663\"}}, \"paper_bgcolor\": \"#F5F6F9\", \"plot_bgcolor\": \"#F5F6F9\", \"template\": {\"data\": {\"bar\": [{\"error_x\": {\"color\": \"#2a3f5f\"}, \"error_y\": {\"color\": \"#2a3f5f\"}, \"marker\": {\"line\": {\"color\": \"#E5ECF6\", \"width\": 0.5}}, \"type\": \"bar\"}], \"barpolar\": [{\"marker\": {\"line\": {\"color\": \"#E5ECF6\", \"width\": 0.5}}, \"type\": \"barpolar\"}], \"carpet\": [{\"aaxis\": {\"endlinecolor\": \"#2a3f5f\", \"gridcolor\": \"white\", \"linecolor\": \"white\", \"minorgridcolor\": \"white\", \"startlinecolor\": \"#2a3f5f\"}, \"baxis\": {\"endlinecolor\": \"#2a3f5f\", \"gridcolor\": \"white\", \"linecolor\": \"white\", \"minorgridcolor\": \"white\", \"startlinecolor\": \"#2a3f5f\"}, \"type\": \"carpet\"}], \"choropleth\": [{\"colorbar\": {\"outlinewidth\": 0, \"ticks\": \"\"}, \"type\": \"choropleth\"}], \"contour\": [{\"colorbar\": {\"outlinewidth\": 0, \"ticks\": \"\"}, \"colorscale\": [[0.0, \"#0d0887\"], [0.1111111111111111, \"#46039f\"], [0.2222222222222222, \"#7201a8\"], [0.3333333333333333, \"#9c179e\"], [0.4444444444444444, \"#bd3786\"], [0.5555555555555556, \"#d8576b\"], [0.6666666666666666, \"#ed7953\"], [0.7777777777777778, \"#fb9f3a\"], [0.8888888888888888, \"#fdca26\"], [1.0, \"#f0f921\"]], \"type\": \"contour\"}], \"contourcarpet\": [{\"colorbar\": {\"outlinewidth\": 0, \"ticks\": \"\"}, \"type\": \"contourcarpet\"}], \"heatmap\": [{\"colorbar\": {\"outlinewidth\": 0, \"ticks\": \"\"}, \"colorscale\": [[0.0, \"#0d0887\"], [0.1111111111111111, \"#46039f\"], [0.2222222222222222, \"#7201a8\"], [0.3333333333333333, \"#9c179e\"], [0.4444444444444444, \"#bd3786\"], [0.5555555555555556, \"#d8576b\"], [0.6666666666666666, \"#ed7953\"], [0.7777777777777778, \"#fb9f3a\"], [0.8888888888888888, \"#fdca26\"], [1.0, \"#f0f921\"]], \"type\": \"heatmap\"}], \"heatmapgl\": [{\"colorbar\": {\"outlinewidth\": 0, \"ticks\": \"\"}, \"colorscale\": [[0.0, \"#0d0887\"], [0.1111111111111111, \"#46039f\"], [0.2222222222222222, \"#7201a8\"], [0.3333333333333333, \"#9c179e\"], [0.4444444444444444, \"#bd3786\"], [0.5555555555555556, \"#d8576b\"], [0.6666666666666666, \"#ed7953\"], [0.7777777777777778, \"#fb9f3a\"], [0.8888888888888888, \"#fdca26\"], [1.0, \"#f0f921\"]], \"type\": \"heatmapgl\"}], \"histogram\": [{\"marker\": {\"colorbar\": {\"outlinewidth\": 0, \"ticks\": \"\"}}, \"type\": \"histogram\"}], \"histogram2d\": [{\"colorbar\": {\"outlinewidth\": 0, \"ticks\": \"\"}, \"colorscale\": [[0.0, \"#0d0887\"], [0.1111111111111111, \"#46039f\"], [0.2222222222222222, \"#7201a8\"], [0.3333333333333333, \"#9c179e\"], [0.4444444444444444, \"#bd3786\"], [0.5555555555555556, \"#d8576b\"], [0.6666666666666666, \"#ed7953\"], [0.7777777777777778, \"#fb9f3a\"], [0.8888888888888888, \"#fdca26\"], [1.0, \"#f0f921\"]], \"type\": \"histogram2d\"}], \"histogram2dcontour\": [{\"colorbar\": {\"outlinewidth\": 0, \"ticks\": \"\"}, \"colorscale\": [[0.0, \"#0d0887\"], [0.1111111111111111, \"#46039f\"], [0.2222222222222222, \"#7201a8\"], [0.3333333333333333, \"#9c179e\"], [0.4444444444444444, \"#bd3786\"], [0.5555555555555556, \"#d8576b\"], [0.6666666666666666, \"#ed7953\"], [0.7777777777777778, \"#fb9f3a\"], [0.8888888888888888, \"#fdca26\"], [1.0, \"#f0f921\"]], \"type\": \"histogram2dcontour\"}], \"mesh3d\": [{\"colorbar\": {\"outlinewidth\": 0, \"ticks\": \"\"}, \"type\": \"mesh3d\"}], \"parcoords\": [{\"line\": {\"colorbar\": {\"outlinewidth\": 0, \"ticks\": \"\"}}, \"type\": \"parcoords\"}], \"pie\": [{\"automargin\": true, \"type\": \"pie\"}], \"scatter\": [{\"marker\": {\"colorbar\": {\"outlinewidth\": 0, \"ticks\": \"\"}}, \"type\": \"scatter\"}], \"scatter3d\": [{\"line\": {\"colorbar\": {\"outlinewidth\": 0, \"ticks\": \"\"}}, \"marker\": {\"colorbar\": {\"outlinewidth\": 0, \"ticks\": \"\"}}, \"type\": \"scatter3d\"}], \"scattercarpet\": [{\"marker\": {\"colorbar\": {\"outlinewidth\": 0, \"ticks\": \"\"}}, \"type\": \"scattercarpet\"}], \"scattergeo\": [{\"marker\": {\"colorbar\": {\"outlinewidth\": 0, \"ticks\": \"\"}}, \"type\": \"scattergeo\"}], \"scattergl\": [{\"marker\": {\"colorbar\": {\"outlinewidth\": 0, \"ticks\": \"\"}}, \"type\": \"scattergl\"}], \"scattermapbox\": [{\"marker\": {\"colorbar\": {\"outlinewidth\": 0, \"ticks\": \"\"}}, \"type\": \"scattermapbox\"}], \"scatterpolar\": [{\"marker\": {\"colorbar\": {\"outlinewidth\": 0, \"ticks\": \"\"}}, \"type\": \"scatterpolar\"}], \"scatterpolargl\": [{\"marker\": {\"colorbar\": {\"outlinewidth\": 0, \"ticks\": \"\"}}, \"type\": \"scatterpolargl\"}], \"scatterternary\": [{\"marker\": {\"colorbar\": {\"outlinewidth\": 0, \"ticks\": \"\"}}, \"type\": \"scatterternary\"}], \"surface\": [{\"colorbar\": {\"outlinewidth\": 0, \"ticks\": \"\"}, \"colorscale\": [[0.0, \"#0d0887\"], [0.1111111111111111, \"#46039f\"], [0.2222222222222222, \"#7201a8\"], [0.3333333333333333, \"#9c179e\"], [0.4444444444444444, \"#bd3786\"], [0.5555555555555556, \"#d8576b\"], [0.6666666666666666, \"#ed7953\"], [0.7777777777777778, \"#fb9f3a\"], [0.8888888888888888, \"#fdca26\"], [1.0, \"#f0f921\"]], \"type\": \"surface\"}], \"table\": [{\"cells\": {\"fill\": {\"color\": \"#EBF0F8\"}, \"line\": {\"color\": \"white\"}}, \"header\": {\"fill\": {\"color\": \"#C8D4E3\"}, \"line\": {\"color\": \"white\"}}, \"type\": \"table\"}]}, \"layout\": {\"annotationdefaults\": {\"arrowcolor\": \"#2a3f5f\", \"arrowhead\": 0, \"arrowwidth\": 1}, \"coloraxis\": {\"colorbar\": {\"outlinewidth\": 0, \"ticks\": \"\"}}, \"colorscale\": {\"diverging\": [[0, \"#8e0152\"], [0.1, \"#c51b7d\"], [0.2, \"#de77ae\"], [0.3, \"#f1b6da\"], [0.4, \"#fde0ef\"], [0.5, \"#f7f7f7\"], [0.6, \"#e6f5d0\"], [0.7, \"#b8e186\"], [0.8, \"#7fbc41\"], [0.9, \"#4d9221\"], [1, \"#276419\"]], \"sequential\": [[0.0, \"#0d0887\"], [0.1111111111111111, \"#46039f\"], [0.2222222222222222, \"#7201a8\"], [0.3333333333333333, \"#9c179e\"], [0.4444444444444444, \"#bd3786\"], [0.5555555555555556, \"#d8576b\"], [0.6666666666666666, \"#ed7953\"], [0.7777777777777778, \"#fb9f3a\"], [0.8888888888888888, \"#fdca26\"], [1.0, \"#f0f921\"]], \"sequentialminus\": [[0.0, \"#0d0887\"], [0.1111111111111111, \"#46039f\"], [0.2222222222222222, \"#7201a8\"], [0.3333333333333333, \"#9c179e\"], [0.4444444444444444, \"#bd3786\"], [0.5555555555555556, \"#d8576b\"], [0.6666666666666666, \"#ed7953\"], [0.7777777777777778, \"#fb9f3a\"], [0.8888888888888888, \"#fdca26\"], [1.0, \"#f0f921\"]]}, \"colorway\": [\"#636efa\", \"#EF553B\", \"#00cc96\", \"#ab63fa\", \"#FFA15A\", \"#19d3f3\", \"#FF6692\", \"#B6E880\", \"#FF97FF\", \"#FECB52\"], \"font\": {\"color\": \"#2a3f5f\"}, \"geo\": {\"bgcolor\": \"white\", \"lakecolor\": \"white\", \"landcolor\": \"#E5ECF6\", \"showlakes\": true, \"showland\": true, \"subunitcolor\": \"white\"}, \"hoverlabel\": {\"align\": \"left\"}, \"hovermode\": \"closest\", \"mapbox\": {\"style\": \"light\"}, \"paper_bgcolor\": \"white\", \"plot_bgcolor\": \"#E5ECF6\", \"polar\": {\"angularaxis\": {\"gridcolor\": \"white\", \"linecolor\": \"white\", \"ticks\": \"\"}, \"bgcolor\": \"#E5ECF6\", \"radialaxis\": {\"gridcolor\": \"white\", \"linecolor\": \"white\", \"ticks\": \"\"}}, \"scene\": {\"xaxis\": {\"backgroundcolor\": \"#E5ECF6\", \"gridcolor\": \"white\", \"gridwidth\": 2, \"linecolor\": \"white\", \"showbackground\": true, \"ticks\": \"\", \"zerolinecolor\": \"white\"}, \"yaxis\": {\"backgroundcolor\": \"#E5ECF6\", \"gridcolor\": \"white\", \"gridwidth\": 2, \"linecolor\": \"white\", \"showbackground\": true, \"ticks\": \"\", \"zerolinecolor\": \"white\"}, \"zaxis\": {\"backgroundcolor\": \"#E5ECF6\", \"gridcolor\": \"white\", \"gridwidth\": 2, \"linecolor\": \"white\", \"showbackground\": true, \"ticks\": \"\", \"zerolinecolor\": \"white\"}}, \"shapedefaults\": {\"line\": {\"color\": \"#2a3f5f\"}}, \"ternary\": {\"aaxis\": {\"gridcolor\": \"white\", \"linecolor\": \"white\", \"ticks\": \"\"}, \"baxis\": {\"gridcolor\": \"white\", \"linecolor\": \"white\", \"ticks\": \"\"}, \"bgcolor\": \"#E5ECF6\", \"caxis\": {\"gridcolor\": \"white\", \"linecolor\": \"white\", \"ticks\": \"\"}}, \"title\": {\"x\": 0.05}, \"xaxis\": {\"automargin\": true, \"gridcolor\": \"white\", \"linecolor\": \"white\", \"ticks\": \"\", \"title\": {\"standoff\": 15}, \"zerolinecolor\": \"white\", \"zerolinewidth\": 2}, \"yaxis\": {\"automargin\": true, \"gridcolor\": \"white\", \"linecolor\": \"white\", \"ticks\": \"\", \"title\": {\"standoff\": 15}, \"zerolinecolor\": \"white\", \"zerolinewidth\": 2}}}, \"title\": {\"font\": {\"color\": \"#4D5663\"}}, \"xaxis\": {\"gridcolor\": \"#E1E5ED\", \"showgrid\": true, \"tickfont\": {\"color\": \"#4D5663\"}, \"title\": {\"font\": {\"color\": \"#4D5663\"}, \"text\": \"\"}, \"zerolinecolor\": \"#E1E5ED\"}, \"yaxis\": {\"gridcolor\": \"#E1E5ED\", \"showgrid\": true, \"tickfont\": {\"color\": \"#4D5663\"}, \"title\": {\"font\": {\"color\": \"#4D5663\"}, \"text\": \"\"}, \"zerolinecolor\": \"#E1E5ED\"}},\n",
       "                        {\"showLink\": true, \"linkText\": \"Export to plot.ly\", \"plotlyServerURL\": \"https://plot.ly\", \"responsive\": true}\n",
       "                    ).then(function(){\n",
       "                            \n",
       "var gd = document.getElementById('f95ce8fd-658b-4685-99fe-ccf732d92082');\n",
       "var x = new MutationObserver(function (mutations, observer) {{\n",
       "        var display = window.getComputedStyle(gd).display;\n",
       "        if (!display || display === 'none') {{\n",
       "            console.log([gd, 'removed!']);\n",
       "            Plotly.purge(gd);\n",
       "            observer.disconnect();\n",
       "        }}\n",
       "}});\n",
       "\n",
       "// Listen for the removal of the full notebook cells\n",
       "var notebookContainer = gd.closest('#notebook-container');\n",
       "if (notebookContainer) {{\n",
       "    x.observe(notebookContainer, {childList: true});\n",
       "}}\n",
       "\n",
       "// Listen for the clearing of the current output cell\n",
       "var outputEl = gd.closest('.output');\n",
       "if (outputEl) {{\n",
       "    x.observe(outputEl, {childList: true});\n",
       "}}\n",
       "\n",
       "                        })\n",
       "                };\n",
       "                });\n",
       "            </script>\n",
       "        </div>"
      ]
     },
     "metadata": {},
     "output_type": "display_data"
    }
   ],
   "source": [
    "mi_kxip['winner'].value_counts().iplot(kind='bar')"
   ]
  },
  {
   "cell_type": "code",
   "execution_count": 31,
   "metadata": {},
   "outputs": [
    {
     "data": {
      "text/html": [
       "<div>\n",
       "<style scoped>\n",
       "    .dataframe tbody tr th:only-of-type {\n",
       "        vertical-align: middle;\n",
       "    }\n",
       "\n",
       "    .dataframe tbody tr th {\n",
       "        vertical-align: top;\n",
       "    }\n",
       "\n",
       "    .dataframe thead th {\n",
       "        text-align: right;\n",
       "    }\n",
       "</style>\n",
       "<table border=\"1\" class=\"dataframe\">\n",
       "  <thead>\n",
       "    <tr style=\"text-align: right;\">\n",
       "      <th></th>\n",
       "      <th>team1</th>\n",
       "      <th>team2</th>\n",
       "      <th>toss_winner</th>\n",
       "      <th>toss_decision</th>\n",
       "      <th>winner</th>\n",
       "    </tr>\n",
       "  </thead>\n",
       "  <tbody>\n",
       "    <tr>\n",
       "      <th>21</th>\n",
       "      <td>Kings XI Punjab</td>\n",
       "      <td>Mumbai Indians</td>\n",
       "      <td>Mumbai Indians</td>\n",
       "      <td>field</td>\n",
       "      <td>Mumbai Indians</td>\n",
       "    </tr>\n",
       "    <tr>\n",
       "      <th>49</th>\n",
       "      <td>Kings XI Punjab</td>\n",
       "      <td>Mumbai Indians</td>\n",
       "      <td>Mumbai Indians</td>\n",
       "      <td>field</td>\n",
       "      <td>Kings XI Punjab</td>\n",
       "    </tr>\n",
       "    <tr>\n",
       "      <th>68</th>\n",
       "      <td>Kings XI Punjab</td>\n",
       "      <td>Mumbai Indians</td>\n",
       "      <td>Mumbai Indians</td>\n",
       "      <td>field</td>\n",
       "      <td>Kings XI Punjab</td>\n",
       "    </tr>\n",
       "    <tr>\n",
       "      <th>105</th>\n",
       "      <td>Kings XI Punjab</td>\n",
       "      <td>Mumbai Indians</td>\n",
       "      <td>Mumbai Indians</td>\n",
       "      <td>field</td>\n",
       "      <td>Kings XI Punjab</td>\n",
       "    </tr>\n",
       "    <tr>\n",
       "      <th>134</th>\n",
       "      <td>Kings XI Punjab</td>\n",
       "      <td>Mumbai Indians</td>\n",
       "      <td>Kings XI Punjab</td>\n",
       "      <td>bat</td>\n",
       "      <td>Kings XI Punjab</td>\n",
       "    </tr>\n",
       "  </tbody>\n",
       "</table>\n",
       "</div>"
      ],
      "text/plain": [
       "               team1           team2      toss_winner toss_decision  \\\n",
       "21   Kings XI Punjab  Mumbai Indians   Mumbai Indians         field   \n",
       "49   Kings XI Punjab  Mumbai Indians   Mumbai Indians         field   \n",
       "68   Kings XI Punjab  Mumbai Indians   Mumbai Indians         field   \n",
       "105  Kings XI Punjab  Mumbai Indians   Mumbai Indians         field   \n",
       "134  Kings XI Punjab  Mumbai Indians  Kings XI Punjab           bat   \n",
       "\n",
       "              winner  \n",
       "21    Mumbai Indians  \n",
       "49   Kings XI Punjab  \n",
       "68   Kings XI Punjab  \n",
       "105  Kings XI Punjab  \n",
       "134  Kings XI Punjab  "
      ]
     },
     "execution_count": 31,
     "metadata": {},
     "output_type": "execute_result"
    }
   ],
   "source": [
    "team_win= mi_kxip[['team1','team2','toss_winner','toss_decision','winner']]\n",
    "team_win.head()"
   ]
  },
  {
   "cell_type": "code",
   "execution_count": 32,
   "metadata": {},
   "outputs": [
    {
     "data": {
      "text/html": [
       "<div>\n",
       "<style scoped>\n",
       "    .dataframe tbody tr th:only-of-type {\n",
       "        vertical-align: middle;\n",
       "    }\n",
       "\n",
       "    .dataframe tbody tr th {\n",
       "        vertical-align: top;\n",
       "    }\n",
       "\n",
       "    .dataframe thead th {\n",
       "        text-align: right;\n",
       "    }\n",
       "</style>\n",
       "<table border=\"1\" class=\"dataframe\">\n",
       "  <thead>\n",
       "    <tr style=\"text-align: right;\">\n",
       "      <th></th>\n",
       "      <th>toss_winner</th>\n",
       "      <th>toss_decision</th>\n",
       "      <th>winner</th>\n",
       "    </tr>\n",
       "  </thead>\n",
       "  <tbody>\n",
       "    <tr>\n",
       "      <th>21</th>\n",
       "      <td>Mumbai Indians</td>\n",
       "      <td>field</td>\n",
       "      <td>Mumbai Indians</td>\n",
       "    </tr>\n",
       "    <tr>\n",
       "      <th>49</th>\n",
       "      <td>Mumbai Indians</td>\n",
       "      <td>field</td>\n",
       "      <td>Kings XI Punjab</td>\n",
       "    </tr>\n",
       "    <tr>\n",
       "      <th>68</th>\n",
       "      <td>Mumbai Indians</td>\n",
       "      <td>field</td>\n",
       "      <td>Kings XI Punjab</td>\n",
       "    </tr>\n",
       "    <tr>\n",
       "      <th>105</th>\n",
       "      <td>Mumbai Indians</td>\n",
       "      <td>field</td>\n",
       "      <td>Kings XI Punjab</td>\n",
       "    </tr>\n",
       "    <tr>\n",
       "      <th>134</th>\n",
       "      <td>Kings XI Punjab</td>\n",
       "      <td>bat</td>\n",
       "      <td>Kings XI Punjab</td>\n",
       "    </tr>\n",
       "    <tr>\n",
       "      <th>156</th>\n",
       "      <td>Kings XI Punjab</td>\n",
       "      <td>bat</td>\n",
       "      <td>Mumbai Indians</td>\n",
       "    </tr>\n",
       "    <tr>\n",
       "      <th>200</th>\n",
       "      <td>Mumbai Indians</td>\n",
       "      <td>field</td>\n",
       "      <td>Mumbai Indians</td>\n",
       "    </tr>\n",
       "    <tr>\n",
       "      <th>214</th>\n",
       "      <td>Mumbai Indians</td>\n",
       "      <td>bat</td>\n",
       "      <td>Kings XI Punjab</td>\n",
       "    </tr>\n",
       "    <tr>\n",
       "      <th>272</th>\n",
       "      <td>Kings XI Punjab</td>\n",
       "      <td>field</td>\n",
       "      <td>Mumbai Indians</td>\n",
       "    </tr>\n",
       "    <tr>\n",
       "      <th>286</th>\n",
       "      <td>Mumbai Indians</td>\n",
       "      <td>field</td>\n",
       "      <td>Kings XI Punjab</td>\n",
       "    </tr>\n",
       "    <tr>\n",
       "      <th>335</th>\n",
       "      <td>Mumbai Indians</td>\n",
       "      <td>bat</td>\n",
       "      <td>Kings XI Punjab</td>\n",
       "    </tr>\n",
       "    <tr>\n",
       "      <th>339</th>\n",
       "      <td>Kings XI Punjab</td>\n",
       "      <td>bat</td>\n",
       "      <td>Mumbai Indians</td>\n",
       "    </tr>\n",
       "    <tr>\n",
       "      <th>420</th>\n",
       "      <td>Mumbai Indians</td>\n",
       "      <td>bat</td>\n",
       "      <td>Mumbai Indians</td>\n",
       "    </tr>\n",
       "    <tr>\n",
       "      <th>449</th>\n",
       "      <td>Mumbai Indians</td>\n",
       "      <td>field</td>\n",
       "      <td>Kings XI Punjab</td>\n",
       "    </tr>\n",
       "    <tr>\n",
       "      <th>478</th>\n",
       "      <td>Kings XI Punjab</td>\n",
       "      <td>bat</td>\n",
       "      <td>Mumbai Indians</td>\n",
       "    </tr>\n",
       "    <tr>\n",
       "      <th>504</th>\n",
       "      <td>Mumbai Indians</td>\n",
       "      <td>field</td>\n",
       "      <td>Mumbai Indians</td>\n",
       "    </tr>\n",
       "    <tr>\n",
       "      <th>523</th>\n",
       "      <td>Mumbai Indians</td>\n",
       "      <td>field</td>\n",
       "      <td>Kings XI Punjab</td>\n",
       "    </tr>\n",
       "    <tr>\n",
       "      <th>551</th>\n",
       "      <td>Mumbai Indians</td>\n",
       "      <td>bat</td>\n",
       "      <td>Mumbai Indians</td>\n",
       "    </tr>\n",
       "    <tr>\n",
       "      <th>596</th>\n",
       "      <td>Kings XI Punjab</td>\n",
       "      <td>field</td>\n",
       "      <td>Mumbai Indians</td>\n",
       "    </tr>\n",
       "    <tr>\n",
       "      <th>618</th>\n",
       "      <td>Mumbai Indians</td>\n",
       "      <td>bat</td>\n",
       "      <td>Kings XI Punjab</td>\n",
       "    </tr>\n",
       "    <tr>\n",
       "      <th>669</th>\n",
       "      <td>Mumbai Indians</td>\n",
       "      <td>field</td>\n",
       "      <td>Mumbai Indians</td>\n",
       "    </tr>\n",
       "    <tr>\n",
       "      <th>685</th>\n",
       "      <td>Kings XI Punjab</td>\n",
       "      <td>field</td>\n",
       "      <td>Mumbai Indians</td>\n",
       "    </tr>\n",
       "    <tr>\n",
       "      <th>704</th>\n",
       "      <td>Kings XI Punjab</td>\n",
       "      <td>field</td>\n",
       "      <td>Kings XI Punjab</td>\n",
       "    </tr>\n",
       "    <tr>\n",
       "      <th>719</th>\n",
       "      <td>Mumbai Indians</td>\n",
       "      <td>field</td>\n",
       "      <td>Mumbai Indians</td>\n",
       "    </tr>\n",
       "  </tbody>\n",
       "</table>\n",
       "</div>"
      ],
      "text/plain": [
       "         toss_winner toss_decision           winner\n",
       "21    Mumbai Indians         field   Mumbai Indians\n",
       "49    Mumbai Indians         field  Kings XI Punjab\n",
       "68    Mumbai Indians         field  Kings XI Punjab\n",
       "105   Mumbai Indians         field  Kings XI Punjab\n",
       "134  Kings XI Punjab           bat  Kings XI Punjab\n",
       "156  Kings XI Punjab           bat   Mumbai Indians\n",
       "200   Mumbai Indians         field   Mumbai Indians\n",
       "214   Mumbai Indians           bat  Kings XI Punjab\n",
       "272  Kings XI Punjab         field   Mumbai Indians\n",
       "286   Mumbai Indians         field  Kings XI Punjab\n",
       "335   Mumbai Indians           bat  Kings XI Punjab\n",
       "339  Kings XI Punjab           bat   Mumbai Indians\n",
       "420   Mumbai Indians           bat   Mumbai Indians\n",
       "449   Mumbai Indians         field  Kings XI Punjab\n",
       "478  Kings XI Punjab           bat   Mumbai Indians\n",
       "504   Mumbai Indians         field   Mumbai Indians\n",
       "523   Mumbai Indians         field  Kings XI Punjab\n",
       "551   Mumbai Indians           bat   Mumbai Indians\n",
       "596  Kings XI Punjab         field   Mumbai Indians\n",
       "618   Mumbai Indians           bat  Kings XI Punjab\n",
       "669   Mumbai Indians         field   Mumbai Indians\n",
       "685  Kings XI Punjab         field   Mumbai Indians\n",
       "704  Kings XI Punjab         field  Kings XI Punjab\n",
       "719   Mumbai Indians         field   Mumbai Indians"
      ]
     },
     "execution_count": 32,
     "metadata": {},
     "output_type": "execute_result"
    }
   ],
   "source": [
    "team_decision= mi_kxip[['toss_winner','toss_decision','winner']]\n",
    "team_decision.head(24)"
   ]
  },
  {
   "cell_type": "code",
   "execution_count": 107,
   "metadata": {},
   "outputs": [],
   "source": [
    "corr = mi_kxip.corr()"
   ]
  },
  {
   "cell_type": "code",
   "execution_count": 108,
   "metadata": {},
   "outputs": [
    {
     "data": {
      "application/javascript": [
       "/* Put everything inside the global mpl namespace */\n",
       "window.mpl = {};\n",
       "\n",
       "\n",
       "mpl.get_websocket_type = function() {\n",
       "    if (typeof(WebSocket) !== 'undefined') {\n",
       "        return WebSocket;\n",
       "    } else if (typeof(MozWebSocket) !== 'undefined') {\n",
       "        return MozWebSocket;\n",
       "    } else {\n",
       "        alert('Your browser does not have WebSocket support. ' +\n",
       "              'Please try Chrome, Safari or Firefox ≥ 6. ' +\n",
       "              'Firefox 4 and 5 are also supported but you ' +\n",
       "              'have to enable WebSockets in about:config.');\n",
       "    };\n",
       "}\n",
       "\n",
       "mpl.figure = function(figure_id, websocket, ondownload, parent_element) {\n",
       "    this.id = figure_id;\n",
       "\n",
       "    this.ws = websocket;\n",
       "\n",
       "    this.supports_binary = (this.ws.binaryType != undefined);\n",
       "\n",
       "    if (!this.supports_binary) {\n",
       "        var warnings = document.getElementById(\"mpl-warnings\");\n",
       "        if (warnings) {\n",
       "            warnings.style.display = 'block';\n",
       "            warnings.textContent = (\n",
       "                \"This browser does not support binary websocket messages. \" +\n",
       "                    \"Performance may be slow.\");\n",
       "        }\n",
       "    }\n",
       "\n",
       "    this.imageObj = new Image();\n",
       "\n",
       "    this.context = undefined;\n",
       "    this.message = undefined;\n",
       "    this.canvas = undefined;\n",
       "    this.rubberband_canvas = undefined;\n",
       "    this.rubberband_context = undefined;\n",
       "    this.format_dropdown = undefined;\n",
       "\n",
       "    this.image_mode = 'full';\n",
       "\n",
       "    this.root = $('<div/>');\n",
       "    this._root_extra_style(this.root)\n",
       "    this.root.attr('style', 'display: inline-block');\n",
       "\n",
       "    $(parent_element).append(this.root);\n",
       "\n",
       "    this._init_header(this);\n",
       "    this._init_canvas(this);\n",
       "    this._init_toolbar(this);\n",
       "\n",
       "    var fig = this;\n",
       "\n",
       "    this.waiting = false;\n",
       "\n",
       "    this.ws.onopen =  function () {\n",
       "            fig.send_message(\"supports_binary\", {value: fig.supports_binary});\n",
       "            fig.send_message(\"send_image_mode\", {});\n",
       "            if (mpl.ratio != 1) {\n",
       "                fig.send_message(\"set_dpi_ratio\", {'dpi_ratio': mpl.ratio});\n",
       "            }\n",
       "            fig.send_message(\"refresh\", {});\n",
       "        }\n",
       "\n",
       "    this.imageObj.onload = function() {\n",
       "            if (fig.image_mode == 'full') {\n",
       "                // Full images could contain transparency (where diff images\n",
       "                // almost always do), so we need to clear the canvas so that\n",
       "                // there is no ghosting.\n",
       "                fig.context.clearRect(0, 0, fig.canvas.width, fig.canvas.height);\n",
       "            }\n",
       "            fig.context.drawImage(fig.imageObj, 0, 0);\n",
       "        };\n",
       "\n",
       "    this.imageObj.onunload = function() {\n",
       "        fig.ws.close();\n",
       "    }\n",
       "\n",
       "    this.ws.onmessage = this._make_on_message_function(this);\n",
       "\n",
       "    this.ondownload = ondownload;\n",
       "}\n",
       "\n",
       "mpl.figure.prototype._init_header = function() {\n",
       "    var titlebar = $(\n",
       "        '<div class=\"ui-dialog-titlebar ui-widget-header ui-corner-all ' +\n",
       "        'ui-helper-clearfix\"/>');\n",
       "    var titletext = $(\n",
       "        '<div class=\"ui-dialog-title\" style=\"width: 100%; ' +\n",
       "        'text-align: center; padding: 3px;\"/>');\n",
       "    titlebar.append(titletext)\n",
       "    this.root.append(titlebar);\n",
       "    this.header = titletext[0];\n",
       "}\n",
       "\n",
       "\n",
       "\n",
       "mpl.figure.prototype._canvas_extra_style = function(canvas_div) {\n",
       "\n",
       "}\n",
       "\n",
       "\n",
       "mpl.figure.prototype._root_extra_style = function(canvas_div) {\n",
       "\n",
       "}\n",
       "\n",
       "mpl.figure.prototype._init_canvas = function() {\n",
       "    var fig = this;\n",
       "\n",
       "    var canvas_div = $('<div/>');\n",
       "\n",
       "    canvas_div.attr('style', 'position: relative; clear: both; outline: 0');\n",
       "\n",
       "    function canvas_keyboard_event(event) {\n",
       "        return fig.key_event(event, event['data']);\n",
       "    }\n",
       "\n",
       "    canvas_div.keydown('key_press', canvas_keyboard_event);\n",
       "    canvas_div.keyup('key_release', canvas_keyboard_event);\n",
       "    this.canvas_div = canvas_div\n",
       "    this._canvas_extra_style(canvas_div)\n",
       "    this.root.append(canvas_div);\n",
       "\n",
       "    var canvas = $('<canvas/>');\n",
       "    canvas.addClass('mpl-canvas');\n",
       "    canvas.attr('style', \"left: 0; top: 0; z-index: 0; outline: 0\")\n",
       "\n",
       "    this.canvas = canvas[0];\n",
       "    this.context = canvas[0].getContext(\"2d\");\n",
       "\n",
       "    var backingStore = this.context.backingStorePixelRatio ||\n",
       "\tthis.context.webkitBackingStorePixelRatio ||\n",
       "\tthis.context.mozBackingStorePixelRatio ||\n",
       "\tthis.context.msBackingStorePixelRatio ||\n",
       "\tthis.context.oBackingStorePixelRatio ||\n",
       "\tthis.context.backingStorePixelRatio || 1;\n",
       "\n",
       "    mpl.ratio = (window.devicePixelRatio || 1) / backingStore;\n",
       "\n",
       "    var rubberband = $('<canvas/>');\n",
       "    rubberband.attr('style', \"position: absolute; left: 0; top: 0; z-index: 1;\")\n",
       "\n",
       "    var pass_mouse_events = true;\n",
       "\n",
       "    canvas_div.resizable({\n",
       "        start: function(event, ui) {\n",
       "            pass_mouse_events = false;\n",
       "        },\n",
       "        resize: function(event, ui) {\n",
       "            fig.request_resize(ui.size.width, ui.size.height);\n",
       "        },\n",
       "        stop: function(event, ui) {\n",
       "            pass_mouse_events = true;\n",
       "            fig.request_resize(ui.size.width, ui.size.height);\n",
       "        },\n",
       "    });\n",
       "\n",
       "    function mouse_event_fn(event) {\n",
       "        if (pass_mouse_events)\n",
       "            return fig.mouse_event(event, event['data']);\n",
       "    }\n",
       "\n",
       "    rubberband.mousedown('button_press', mouse_event_fn);\n",
       "    rubberband.mouseup('button_release', mouse_event_fn);\n",
       "    // Throttle sequential mouse events to 1 every 20ms.\n",
       "    rubberband.mousemove('motion_notify', mouse_event_fn);\n",
       "\n",
       "    rubberband.mouseenter('figure_enter', mouse_event_fn);\n",
       "    rubberband.mouseleave('figure_leave', mouse_event_fn);\n",
       "\n",
       "    canvas_div.on(\"wheel\", function (event) {\n",
       "        event = event.originalEvent;\n",
       "        event['data'] = 'scroll'\n",
       "        if (event.deltaY < 0) {\n",
       "            event.step = 1;\n",
       "        } else {\n",
       "            event.step = -1;\n",
       "        }\n",
       "        mouse_event_fn(event);\n",
       "    });\n",
       "\n",
       "    canvas_div.append(canvas);\n",
       "    canvas_div.append(rubberband);\n",
       "\n",
       "    this.rubberband = rubberband;\n",
       "    this.rubberband_canvas = rubberband[0];\n",
       "    this.rubberband_context = rubberband[0].getContext(\"2d\");\n",
       "    this.rubberband_context.strokeStyle = \"#000000\";\n",
       "\n",
       "    this._resize_canvas = function(width, height) {\n",
       "        // Keep the size of the canvas, canvas container, and rubber band\n",
       "        // canvas in synch.\n",
       "        canvas_div.css('width', width)\n",
       "        canvas_div.css('height', height)\n",
       "\n",
       "        canvas.attr('width', width * mpl.ratio);\n",
       "        canvas.attr('height', height * mpl.ratio);\n",
       "        canvas.attr('style', 'width: ' + width + 'px; height: ' + height + 'px;');\n",
       "\n",
       "        rubberband.attr('width', width);\n",
       "        rubberband.attr('height', height);\n",
       "    }\n",
       "\n",
       "    // Set the figure to an initial 600x600px, this will subsequently be updated\n",
       "    // upon first draw.\n",
       "    this._resize_canvas(600, 600);\n",
       "\n",
       "    // Disable right mouse context menu.\n",
       "    $(this.rubberband_canvas).bind(\"contextmenu\",function(e){\n",
       "        return false;\n",
       "    });\n",
       "\n",
       "    function set_focus () {\n",
       "        canvas.focus();\n",
       "        canvas_div.focus();\n",
       "    }\n",
       "\n",
       "    window.setTimeout(set_focus, 100);\n",
       "}\n",
       "\n",
       "mpl.figure.prototype._init_toolbar = function() {\n",
       "    var fig = this;\n",
       "\n",
       "    var nav_element = $('<div/>');\n",
       "    nav_element.attr('style', 'width: 100%');\n",
       "    this.root.append(nav_element);\n",
       "\n",
       "    // Define a callback function for later on.\n",
       "    function toolbar_event(event) {\n",
       "        return fig.toolbar_button_onclick(event['data']);\n",
       "    }\n",
       "    function toolbar_mouse_event(event) {\n",
       "        return fig.toolbar_button_onmouseover(event['data']);\n",
       "    }\n",
       "\n",
       "    for(var toolbar_ind in mpl.toolbar_items) {\n",
       "        var name = mpl.toolbar_items[toolbar_ind][0];\n",
       "        var tooltip = mpl.toolbar_items[toolbar_ind][1];\n",
       "        var image = mpl.toolbar_items[toolbar_ind][2];\n",
       "        var method_name = mpl.toolbar_items[toolbar_ind][3];\n",
       "\n",
       "        if (!name) {\n",
       "            // put a spacer in here.\n",
       "            continue;\n",
       "        }\n",
       "        var button = $('<button/>');\n",
       "        button.addClass('ui-button ui-widget ui-state-default ui-corner-all ' +\n",
       "                        'ui-button-icon-only');\n",
       "        button.attr('role', 'button');\n",
       "        button.attr('aria-disabled', 'false');\n",
       "        button.click(method_name, toolbar_event);\n",
       "        button.mouseover(tooltip, toolbar_mouse_event);\n",
       "\n",
       "        var icon_img = $('<span/>');\n",
       "        icon_img.addClass('ui-button-icon-primary ui-icon');\n",
       "        icon_img.addClass(image);\n",
       "        icon_img.addClass('ui-corner-all');\n",
       "\n",
       "        var tooltip_span = $('<span/>');\n",
       "        tooltip_span.addClass('ui-button-text');\n",
       "        tooltip_span.html(tooltip);\n",
       "\n",
       "        button.append(icon_img);\n",
       "        button.append(tooltip_span);\n",
       "\n",
       "        nav_element.append(button);\n",
       "    }\n",
       "\n",
       "    var fmt_picker_span = $('<span/>');\n",
       "\n",
       "    var fmt_picker = $('<select/>');\n",
       "    fmt_picker.addClass('mpl-toolbar-option ui-widget ui-widget-content');\n",
       "    fmt_picker_span.append(fmt_picker);\n",
       "    nav_element.append(fmt_picker_span);\n",
       "    this.format_dropdown = fmt_picker[0];\n",
       "\n",
       "    for (var ind in mpl.extensions) {\n",
       "        var fmt = mpl.extensions[ind];\n",
       "        var option = $(\n",
       "            '<option/>', {selected: fmt === mpl.default_extension}).html(fmt);\n",
       "        fmt_picker.append(option);\n",
       "    }\n",
       "\n",
       "    // Add hover states to the ui-buttons\n",
       "    $( \".ui-button\" ).hover(\n",
       "        function() { $(this).addClass(\"ui-state-hover\");},\n",
       "        function() { $(this).removeClass(\"ui-state-hover\");}\n",
       "    );\n",
       "\n",
       "    var status_bar = $('<span class=\"mpl-message\"/>');\n",
       "    nav_element.append(status_bar);\n",
       "    this.message = status_bar[0];\n",
       "}\n",
       "\n",
       "mpl.figure.prototype.request_resize = function(x_pixels, y_pixels) {\n",
       "    // Request matplotlib to resize the figure. Matplotlib will then trigger a resize in the client,\n",
       "    // which will in turn request a refresh of the image.\n",
       "    this.send_message('resize', {'width': x_pixels, 'height': y_pixels});\n",
       "}\n",
       "\n",
       "mpl.figure.prototype.send_message = function(type, properties) {\n",
       "    properties['type'] = type;\n",
       "    properties['figure_id'] = this.id;\n",
       "    this.ws.send(JSON.stringify(properties));\n",
       "}\n",
       "\n",
       "mpl.figure.prototype.send_draw_message = function() {\n",
       "    if (!this.waiting) {\n",
       "        this.waiting = true;\n",
       "        this.ws.send(JSON.stringify({type: \"draw\", figure_id: this.id}));\n",
       "    }\n",
       "}\n",
       "\n",
       "\n",
       "mpl.figure.prototype.handle_save = function(fig, msg) {\n",
       "    var format_dropdown = fig.format_dropdown;\n",
       "    var format = format_dropdown.options[format_dropdown.selectedIndex].value;\n",
       "    fig.ondownload(fig, format);\n",
       "}\n",
       "\n",
       "\n",
       "mpl.figure.prototype.handle_resize = function(fig, msg) {\n",
       "    var size = msg['size'];\n",
       "    if (size[0] != fig.canvas.width || size[1] != fig.canvas.height) {\n",
       "        fig._resize_canvas(size[0], size[1]);\n",
       "        fig.send_message(\"refresh\", {});\n",
       "    };\n",
       "}\n",
       "\n",
       "mpl.figure.prototype.handle_rubberband = function(fig, msg) {\n",
       "    var x0 = msg['x0'] / mpl.ratio;\n",
       "    var y0 = (fig.canvas.height - msg['y0']) / mpl.ratio;\n",
       "    var x1 = msg['x1'] / mpl.ratio;\n",
       "    var y1 = (fig.canvas.height - msg['y1']) / mpl.ratio;\n",
       "    x0 = Math.floor(x0) + 0.5;\n",
       "    y0 = Math.floor(y0) + 0.5;\n",
       "    x1 = Math.floor(x1) + 0.5;\n",
       "    y1 = Math.floor(y1) + 0.5;\n",
       "    var min_x = Math.min(x0, x1);\n",
       "    var min_y = Math.min(y0, y1);\n",
       "    var width = Math.abs(x1 - x0);\n",
       "    var height = Math.abs(y1 - y0);\n",
       "\n",
       "    fig.rubberband_context.clearRect(\n",
       "        0, 0, fig.canvas.width / mpl.ratio, fig.canvas.height / mpl.ratio);\n",
       "\n",
       "    fig.rubberband_context.strokeRect(min_x, min_y, width, height);\n",
       "}\n",
       "\n",
       "mpl.figure.prototype.handle_figure_label = function(fig, msg) {\n",
       "    // Updates the figure title.\n",
       "    fig.header.textContent = msg['label'];\n",
       "}\n",
       "\n",
       "mpl.figure.prototype.handle_cursor = function(fig, msg) {\n",
       "    var cursor = msg['cursor'];\n",
       "    switch(cursor)\n",
       "    {\n",
       "    case 0:\n",
       "        cursor = 'pointer';\n",
       "        break;\n",
       "    case 1:\n",
       "        cursor = 'default';\n",
       "        break;\n",
       "    case 2:\n",
       "        cursor = 'crosshair';\n",
       "        break;\n",
       "    case 3:\n",
       "        cursor = 'move';\n",
       "        break;\n",
       "    }\n",
       "    fig.rubberband_canvas.style.cursor = cursor;\n",
       "}\n",
       "\n",
       "mpl.figure.prototype.handle_message = function(fig, msg) {\n",
       "    fig.message.textContent = msg['message'];\n",
       "}\n",
       "\n",
       "mpl.figure.prototype.handle_draw = function(fig, msg) {\n",
       "    // Request the server to send over a new figure.\n",
       "    fig.send_draw_message();\n",
       "}\n",
       "\n",
       "mpl.figure.prototype.handle_image_mode = function(fig, msg) {\n",
       "    fig.image_mode = msg['mode'];\n",
       "}\n",
       "\n",
       "mpl.figure.prototype.updated_canvas_event = function() {\n",
       "    // Called whenever the canvas gets updated.\n",
       "    this.send_message(\"ack\", {});\n",
       "}\n",
       "\n",
       "// A function to construct a web socket function for onmessage handling.\n",
       "// Called in the figure constructor.\n",
       "mpl.figure.prototype._make_on_message_function = function(fig) {\n",
       "    return function socket_on_message(evt) {\n",
       "        if (evt.data instanceof Blob) {\n",
       "            /* FIXME: We get \"Resource interpreted as Image but\n",
       "             * transferred with MIME type text/plain:\" errors on\n",
       "             * Chrome.  But how to set the MIME type?  It doesn't seem\n",
       "             * to be part of the websocket stream */\n",
       "            evt.data.type = \"image/png\";\n",
       "\n",
       "            /* Free the memory for the previous frames */\n",
       "            if (fig.imageObj.src) {\n",
       "                (window.URL || window.webkitURL).revokeObjectURL(\n",
       "                    fig.imageObj.src);\n",
       "            }\n",
       "\n",
       "            fig.imageObj.src = (window.URL || window.webkitURL).createObjectURL(\n",
       "                evt.data);\n",
       "            fig.updated_canvas_event();\n",
       "            fig.waiting = false;\n",
       "            return;\n",
       "        }\n",
       "        else if (typeof evt.data === 'string' && evt.data.slice(0, 21) == \"data:image/png;base64\") {\n",
       "            fig.imageObj.src = evt.data;\n",
       "            fig.updated_canvas_event();\n",
       "            fig.waiting = false;\n",
       "            return;\n",
       "        }\n",
       "\n",
       "        var msg = JSON.parse(evt.data);\n",
       "        var msg_type = msg['type'];\n",
       "\n",
       "        // Call the  \"handle_{type}\" callback, which takes\n",
       "        // the figure and JSON message as its only arguments.\n",
       "        try {\n",
       "            var callback = fig[\"handle_\" + msg_type];\n",
       "        } catch (e) {\n",
       "            console.log(\"No handler for the '\" + msg_type + \"' message type: \", msg);\n",
       "            return;\n",
       "        }\n",
       "\n",
       "        if (callback) {\n",
       "            try {\n",
       "                // console.log(\"Handling '\" + msg_type + \"' message: \", msg);\n",
       "                callback(fig, msg);\n",
       "            } catch (e) {\n",
       "                console.log(\"Exception inside the 'handler_\" + msg_type + \"' callback:\", e, e.stack, msg);\n",
       "            }\n",
       "        }\n",
       "    };\n",
       "}\n",
       "\n",
       "// from http://stackoverflow.com/questions/1114465/getting-mouse-location-in-canvas\n",
       "mpl.findpos = function(e) {\n",
       "    //this section is from http://www.quirksmode.org/js/events_properties.html\n",
       "    var targ;\n",
       "    if (!e)\n",
       "        e = window.event;\n",
       "    if (e.target)\n",
       "        targ = e.target;\n",
       "    else if (e.srcElement)\n",
       "        targ = e.srcElement;\n",
       "    if (targ.nodeType == 3) // defeat Safari bug\n",
       "        targ = targ.parentNode;\n",
       "\n",
       "    // jQuery normalizes the pageX and pageY\n",
       "    // pageX,Y are the mouse positions relative to the document\n",
       "    // offset() returns the position of the element relative to the document\n",
       "    var x = e.pageX - $(targ).offset().left;\n",
       "    var y = e.pageY - $(targ).offset().top;\n",
       "\n",
       "    return {\"x\": x, \"y\": y};\n",
       "};\n",
       "\n",
       "/*\n",
       " * return a copy of an object with only non-object keys\n",
       " * we need this to avoid circular references\n",
       " * http://stackoverflow.com/a/24161582/3208463\n",
       " */\n",
       "function simpleKeys (original) {\n",
       "  return Object.keys(original).reduce(function (obj, key) {\n",
       "    if (typeof original[key] !== 'object')\n",
       "        obj[key] = original[key]\n",
       "    return obj;\n",
       "  }, {});\n",
       "}\n",
       "\n",
       "mpl.figure.prototype.mouse_event = function(event, name) {\n",
       "    var canvas_pos = mpl.findpos(event)\n",
       "\n",
       "    if (name === 'button_press')\n",
       "    {\n",
       "        this.canvas.focus();\n",
       "        this.canvas_div.focus();\n",
       "    }\n",
       "\n",
       "    var x = canvas_pos.x * mpl.ratio;\n",
       "    var y = canvas_pos.y * mpl.ratio;\n",
       "\n",
       "    this.send_message(name, {x: x, y: y, button: event.button,\n",
       "                             step: event.step,\n",
       "                             guiEvent: simpleKeys(event)});\n",
       "\n",
       "    /* This prevents the web browser from automatically changing to\n",
       "     * the text insertion cursor when the button is pressed.  We want\n",
       "     * to control all of the cursor setting manually through the\n",
       "     * 'cursor' event from matplotlib */\n",
       "    event.preventDefault();\n",
       "    return false;\n",
       "}\n",
       "\n",
       "mpl.figure.prototype._key_event_extra = function(event, name) {\n",
       "    // Handle any extra behaviour associated with a key event\n",
       "}\n",
       "\n",
       "mpl.figure.prototype.key_event = function(event, name) {\n",
       "\n",
       "    // Prevent repeat events\n",
       "    if (name == 'key_press')\n",
       "    {\n",
       "        if (event.which === this._key)\n",
       "            return;\n",
       "        else\n",
       "            this._key = event.which;\n",
       "    }\n",
       "    if (name == 'key_release')\n",
       "        this._key = null;\n",
       "\n",
       "    var value = '';\n",
       "    if (event.ctrlKey && event.which != 17)\n",
       "        value += \"ctrl+\";\n",
       "    if (event.altKey && event.which != 18)\n",
       "        value += \"alt+\";\n",
       "    if (event.shiftKey && event.which != 16)\n",
       "        value += \"shift+\";\n",
       "\n",
       "    value += 'k';\n",
       "    value += event.which.toString();\n",
       "\n",
       "    this._key_event_extra(event, name);\n",
       "\n",
       "    this.send_message(name, {key: value,\n",
       "                             guiEvent: simpleKeys(event)});\n",
       "    return false;\n",
       "}\n",
       "\n",
       "mpl.figure.prototype.toolbar_button_onclick = function(name) {\n",
       "    if (name == 'download') {\n",
       "        this.handle_save(this, null);\n",
       "    } else {\n",
       "        this.send_message(\"toolbar_button\", {name: name});\n",
       "    }\n",
       "};\n",
       "\n",
       "mpl.figure.prototype.toolbar_button_onmouseover = function(tooltip) {\n",
       "    this.message.textContent = tooltip;\n",
       "};\n",
       "mpl.toolbar_items = [[\"Home\", \"Reset original view\", \"fa fa-home icon-home\", \"home\"], [\"Back\", \"Back to previous view\", \"fa fa-arrow-left icon-arrow-left\", \"back\"], [\"Forward\", \"Forward to next view\", \"fa fa-arrow-right icon-arrow-right\", \"forward\"], [\"\", \"\", \"\", \"\"], [\"Pan\", \"Pan axes with left mouse, zoom with right\", \"fa fa-arrows icon-move\", \"pan\"], [\"Zoom\", \"Zoom to rectangle\", \"fa fa-square-o icon-check-empty\", \"zoom\"], [\"\", \"\", \"\", \"\"], [\"Download\", \"Download plot\", \"fa fa-floppy-o icon-save\", \"download\"]];\n",
       "\n",
       "mpl.extensions = [\"eps\", \"jpeg\", \"pdf\", \"png\", \"ps\", \"raw\", \"svg\", \"tif\"];\n",
       "\n",
       "mpl.default_extension = \"png\";var comm_websocket_adapter = function(comm) {\n",
       "    // Create a \"websocket\"-like object which calls the given IPython comm\n",
       "    // object with the appropriate methods. Currently this is a non binary\n",
       "    // socket, so there is still some room for performance tuning.\n",
       "    var ws = {};\n",
       "\n",
       "    ws.close = function() {\n",
       "        comm.close()\n",
       "    };\n",
       "    ws.send = function(m) {\n",
       "        //console.log('sending', m);\n",
       "        comm.send(m);\n",
       "    };\n",
       "    // Register the callback with on_msg.\n",
       "    comm.on_msg(function(msg) {\n",
       "        //console.log('receiving', msg['content']['data'], msg);\n",
       "        // Pass the mpl event to the overridden (by mpl) onmessage function.\n",
       "        ws.onmessage(msg['content']['data'])\n",
       "    });\n",
       "    return ws;\n",
       "}\n",
       "\n",
       "mpl.mpl_figure_comm = function(comm, msg) {\n",
       "    // This is the function which gets called when the mpl process\n",
       "    // starts-up an IPython Comm through the \"matplotlib\" channel.\n",
       "\n",
       "    var id = msg.content.data.id;\n",
       "    // Get hold of the div created by the display call when the Comm\n",
       "    // socket was opened in Python.\n",
       "    var element = $(\"#\" + id);\n",
       "    var ws_proxy = comm_websocket_adapter(comm)\n",
       "\n",
       "    function ondownload(figure, format) {\n",
       "        window.open(figure.imageObj.src);\n",
       "    }\n",
       "\n",
       "    var fig = new mpl.figure(id, ws_proxy,\n",
       "                           ondownload,\n",
       "                           element.get(0));\n",
       "\n",
       "    // Call onopen now - mpl needs it, as it is assuming we've passed it a real\n",
       "    // web socket which is closed, not our websocket->open comm proxy.\n",
       "    ws_proxy.onopen();\n",
       "\n",
       "    fig.parent_element = element.get(0);\n",
       "    fig.cell_info = mpl.find_output_cell(\"<div id='\" + id + \"'></div>\");\n",
       "    if (!fig.cell_info) {\n",
       "        console.error(\"Failed to find cell for figure\", id, fig);\n",
       "        return;\n",
       "    }\n",
       "\n",
       "    var output_index = fig.cell_info[2]\n",
       "    var cell = fig.cell_info[0];\n",
       "\n",
       "};\n",
       "\n",
       "mpl.figure.prototype.handle_close = function(fig, msg) {\n",
       "    var width = fig.canvas.width/mpl.ratio\n",
       "    fig.root.unbind('remove')\n",
       "\n",
       "    // Update the output cell to use the data from the current canvas.\n",
       "    fig.push_to_output();\n",
       "    var dataURL = fig.canvas.toDataURL();\n",
       "    // Re-enable the keyboard manager in IPython - without this line, in FF,\n",
       "    // the notebook keyboard shortcuts fail.\n",
       "    IPython.keyboard_manager.enable()\n",
       "    $(fig.parent_element).html('<img src=\"' + dataURL + '\" width=\"' + width + '\">');\n",
       "    fig.close_ws(fig, msg);\n",
       "}\n",
       "\n",
       "mpl.figure.prototype.close_ws = function(fig, msg){\n",
       "    fig.send_message('closing', msg);\n",
       "    // fig.ws.close()\n",
       "}\n",
       "\n",
       "mpl.figure.prototype.push_to_output = function(remove_interactive) {\n",
       "    // Turn the data on the canvas into data in the output cell.\n",
       "    var width = this.canvas.width/mpl.ratio\n",
       "    var dataURL = this.canvas.toDataURL();\n",
       "    this.cell_info[1]['text/html'] = '<img src=\"' + dataURL + '\" width=\"' + width + '\">';\n",
       "}\n",
       "\n",
       "mpl.figure.prototype.updated_canvas_event = function() {\n",
       "    // Tell IPython that the notebook contents must change.\n",
       "    IPython.notebook.set_dirty(true);\n",
       "    this.send_message(\"ack\", {});\n",
       "    var fig = this;\n",
       "    // Wait a second, then push the new image to the DOM so\n",
       "    // that it is saved nicely (might be nice to debounce this).\n",
       "    setTimeout(function () { fig.push_to_output() }, 1000);\n",
       "}\n",
       "\n",
       "mpl.figure.prototype._init_toolbar = function() {\n",
       "    var fig = this;\n",
       "\n",
       "    var nav_element = $('<div/>');\n",
       "    nav_element.attr('style', 'width: 100%');\n",
       "    this.root.append(nav_element);\n",
       "\n",
       "    // Define a callback function for later on.\n",
       "    function toolbar_event(event) {\n",
       "        return fig.toolbar_button_onclick(event['data']);\n",
       "    }\n",
       "    function toolbar_mouse_event(event) {\n",
       "        return fig.toolbar_button_onmouseover(event['data']);\n",
       "    }\n",
       "\n",
       "    for(var toolbar_ind in mpl.toolbar_items){\n",
       "        var name = mpl.toolbar_items[toolbar_ind][0];\n",
       "        var tooltip = mpl.toolbar_items[toolbar_ind][1];\n",
       "        var image = mpl.toolbar_items[toolbar_ind][2];\n",
       "        var method_name = mpl.toolbar_items[toolbar_ind][3];\n",
       "\n",
       "        if (!name) { continue; };\n",
       "\n",
       "        var button = $('<button class=\"btn btn-default\" href=\"#\" title=\"' + name + '\"><i class=\"fa ' + image + ' fa-lg\"></i></button>');\n",
       "        button.click(method_name, toolbar_event);\n",
       "        button.mouseover(tooltip, toolbar_mouse_event);\n",
       "        nav_element.append(button);\n",
       "    }\n",
       "\n",
       "    // Add the status bar.\n",
       "    var status_bar = $('<span class=\"mpl-message\" style=\"text-align:right; float: right;\"/>');\n",
       "    nav_element.append(status_bar);\n",
       "    this.message = status_bar[0];\n",
       "\n",
       "    // Add the close button to the window.\n",
       "    var buttongrp = $('<div class=\"btn-group inline pull-right\"></div>');\n",
       "    var button = $('<button class=\"btn btn-mini btn-primary\" href=\"#\" title=\"Stop Interaction\"><i class=\"fa fa-power-off icon-remove icon-large\"></i></button>');\n",
       "    button.click(function (evt) { fig.handle_close(fig, {}); } );\n",
       "    button.mouseover('Stop Interaction', toolbar_mouse_event);\n",
       "    buttongrp.append(button);\n",
       "    var titlebar = this.root.find($('.ui-dialog-titlebar'));\n",
       "    titlebar.prepend(buttongrp);\n",
       "}\n",
       "\n",
       "mpl.figure.prototype._root_extra_style = function(el){\n",
       "    var fig = this\n",
       "    el.on(\"remove\", function(){\n",
       "\tfig.close_ws(fig, {});\n",
       "    });\n",
       "}\n",
       "\n",
       "mpl.figure.prototype._canvas_extra_style = function(el){\n",
       "    // this is important to make the div 'focusable\n",
       "    el.attr('tabindex', 0)\n",
       "    // reach out to IPython and tell the keyboard manager to turn it's self\n",
       "    // off when our div gets focus\n",
       "\n",
       "    // location in version 3\n",
       "    if (IPython.notebook.keyboard_manager) {\n",
       "        IPython.notebook.keyboard_manager.register_events(el);\n",
       "    }\n",
       "    else {\n",
       "        // location in version 2\n",
       "        IPython.keyboard_manager.register_events(el);\n",
       "    }\n",
       "\n",
       "}\n",
       "\n",
       "mpl.figure.prototype._key_event_extra = function(event, name) {\n",
       "    var manager = IPython.notebook.keyboard_manager;\n",
       "    if (!manager)\n",
       "        manager = IPython.keyboard_manager;\n",
       "\n",
       "    // Check for shift+enter\n",
       "    if (event.shiftKey && event.which == 13) {\n",
       "        this.canvas_div.blur();\n",
       "        // select the cell after this one\n",
       "        var index = IPython.notebook.find_cell_index(this.cell_info[0]);\n",
       "        IPython.notebook.select(index + 1);\n",
       "    }\n",
       "}\n",
       "\n",
       "mpl.figure.prototype.handle_save = function(fig, msg) {\n",
       "    fig.ondownload(fig, null);\n",
       "}\n",
       "\n",
       "\n",
       "mpl.find_output_cell = function(html_output) {\n",
       "    // Return the cell and output element which can be found *uniquely* in the notebook.\n",
       "    // Note - this is a bit hacky, but it is done because the \"notebook_saving.Notebook\"\n",
       "    // IPython event is triggered only after the cells have been serialised, which for\n",
       "    // our purposes (turning an active figure into a static one), is too late.\n",
       "    var cells = IPython.notebook.get_cells();\n",
       "    var ncells = cells.length;\n",
       "    for (var i=0; i<ncells; i++) {\n",
       "        var cell = cells[i];\n",
       "        if (cell.cell_type === 'code'){\n",
       "            for (var j=0; j<cell.output_area.outputs.length; j++) {\n",
       "                var data = cell.output_area.outputs[j];\n",
       "                if (data.data) {\n",
       "                    // IPython >= 3 moved mimebundle to data attribute of output\n",
       "                    data = data.data;\n",
       "                }\n",
       "                if (data['text/html'] == html_output) {\n",
       "                    return [cell, data, j];\n",
       "                }\n",
       "            }\n",
       "        }\n",
       "    }\n",
       "}\n",
       "\n",
       "// Register the function which deals with the matplotlib target/channel.\n",
       "// The kernel may be null if the page has been refreshed.\n",
       "if (IPython.notebook.kernel != null) {\n",
       "    IPython.notebook.kernel.comm_manager.register_target('matplotlib', mpl.mpl_figure_comm);\n",
       "}\n"
      ],
      "text/plain": [
       "<IPython.core.display.Javascript object>"
      ]
     },
     "metadata": {},
     "output_type": "display_data"
    },
    {
     "data": {
      "text/html": [
       "<img src=\"data:image/png;base64,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\" width=\"432\">"
      ],
      "text/plain": [
       "<IPython.core.display.HTML object>"
      ]
     },
     "metadata": {},
     "output_type": "display_data"
    },
    {
     "data": {
      "text/plain": [
       "<matplotlib.axes._subplots.AxesSubplot at 0xe1c5abbb08>"
      ]
     },
     "execution_count": 108,
     "metadata": {},
     "output_type": "execute_result"
    }
   ],
   "source": [
    "sns.heatmap(corr,annot = True)"
   ]
  },
  {
   "cell_type": "code",
   "execution_count": 35,
   "metadata": {},
   "outputs": [
    {
     "data": {
      "text/plain": [
       "Wankhede Stadium                                        9\n",
       "Punjab Cricket Association Stadium, Mohali              6\n",
       "Holkar Cricket Stadium                                  2\n",
       "Brabourne Stadium                                       1\n",
       "IS Bindra Stadium                                       1\n",
       "Dr. Y.S. Rajasekhara Reddy ACA-VDCA Cricket Stadium     1\n",
       "SuperSport Park                                         1\n",
       "Kingsmead                                               1\n",
       "Punjab Cricket Association IS Bindra Stadium, Mohali    1\n",
       "Himachal Pradesh Cricket Association Stadium            1\n",
       "Name: venue, dtype: int64"
      ]
     },
     "execution_count": 35,
     "metadata": {},
     "output_type": "execute_result"
    }
   ],
   "source": [
    "mi_kxip['venue'].value_counts()"
   ]
  },
  {
   "cell_type": "code",
   "execution_count": 36,
   "metadata": {},
   "outputs": [
    {
     "data": {
      "text/html": [
       "<div>\n",
       "<style scoped>\n",
       "    .dataframe tbody tr th:only-of-type {\n",
       "        vertical-align: middle;\n",
       "    }\n",
       "\n",
       "    .dataframe tbody tr th {\n",
       "        vertical-align: top;\n",
       "    }\n",
       "\n",
       "    .dataframe thead th {\n",
       "        text-align: right;\n",
       "    }\n",
       "</style>\n",
       "<table border=\"1\" class=\"dataframe\">\n",
       "  <thead>\n",
       "    <tr style=\"text-align: right;\">\n",
       "      <th></th>\n",
       "      <th>toss_winner</th>\n",
       "      <th>toss_decision</th>\n",
       "      <th>venue</th>\n",
       "      <th>winner</th>\n",
       "    </tr>\n",
       "  </thead>\n",
       "  <tbody>\n",
       "    <tr>\n",
       "      <th>21</th>\n",
       "      <td>Mumbai Indians</td>\n",
       "      <td>field</td>\n",
       "      <td>Holkar Cricket Stadium</td>\n",
       "      <td>Mumbai Indians</td>\n",
       "    </tr>\n",
       "    <tr>\n",
       "      <th>49</th>\n",
       "      <td>Mumbai Indians</td>\n",
       "      <td>field</td>\n",
       "      <td>Wankhede Stadium</td>\n",
       "      <td>Kings XI Punjab</td>\n",
       "    </tr>\n",
       "    <tr>\n",
       "      <th>68</th>\n",
       "      <td>Mumbai Indians</td>\n",
       "      <td>field</td>\n",
       "      <td>Punjab Cricket Association Stadium, Mohali</td>\n",
       "      <td>Kings XI Punjab</td>\n",
       "    </tr>\n",
       "    <tr>\n",
       "      <th>105</th>\n",
       "      <td>Mumbai Indians</td>\n",
       "      <td>field</td>\n",
       "      <td>Wankhede Stadium</td>\n",
       "      <td>Kings XI Punjab</td>\n",
       "    </tr>\n",
       "    <tr>\n",
       "      <th>134</th>\n",
       "      <td>Kings XI Punjab</td>\n",
       "      <td>bat</td>\n",
       "      <td>Kingsmead</td>\n",
       "      <td>Kings XI Punjab</td>\n",
       "    </tr>\n",
       "    <tr>\n",
       "      <th>156</th>\n",
       "      <td>Kings XI Punjab</td>\n",
       "      <td>bat</td>\n",
       "      <td>SuperSport Park</td>\n",
       "      <td>Mumbai Indians</td>\n",
       "    </tr>\n",
       "    <tr>\n",
       "      <th>200</th>\n",
       "      <td>Mumbai Indians</td>\n",
       "      <td>field</td>\n",
       "      <td>Brabourne Stadium</td>\n",
       "      <td>Mumbai Indians</td>\n",
       "    </tr>\n",
       "    <tr>\n",
       "      <th>214</th>\n",
       "      <td>Mumbai Indians</td>\n",
       "      <td>bat</td>\n",
       "      <td>Punjab Cricket Association Stadium, Mohali</td>\n",
       "      <td>Kings XI Punjab</td>\n",
       "    </tr>\n",
       "    <tr>\n",
       "      <th>272</th>\n",
       "      <td>Kings XI Punjab</td>\n",
       "      <td>field</td>\n",
       "      <td>Wankhede Stadium</td>\n",
       "      <td>Mumbai Indians</td>\n",
       "    </tr>\n",
       "    <tr>\n",
       "      <th>286</th>\n",
       "      <td>Mumbai Indians</td>\n",
       "      <td>field</td>\n",
       "      <td>Punjab Cricket Association Stadium, Mohali</td>\n",
       "      <td>Kings XI Punjab</td>\n",
       "    </tr>\n",
       "    <tr>\n",
       "      <th>335</th>\n",
       "      <td>Mumbai Indians</td>\n",
       "      <td>bat</td>\n",
       "      <td>Wankhede Stadium</td>\n",
       "      <td>Kings XI Punjab</td>\n",
       "    </tr>\n",
       "    <tr>\n",
       "      <th>339</th>\n",
       "      <td>Kings XI Punjab</td>\n",
       "      <td>bat</td>\n",
       "      <td>Punjab Cricket Association Stadium, Mohali</td>\n",
       "      <td>Mumbai Indians</td>\n",
       "    </tr>\n",
       "    <tr>\n",
       "      <th>420</th>\n",
       "      <td>Mumbai Indians</td>\n",
       "      <td>bat</td>\n",
       "      <td>Wankhede Stadium</td>\n",
       "      <td>Mumbai Indians</td>\n",
       "    </tr>\n",
       "    <tr>\n",
       "      <th>449</th>\n",
       "      <td>Mumbai Indians</td>\n",
       "      <td>field</td>\n",
       "      <td>Himachal Pradesh Cricket Association Stadium</td>\n",
       "      <td>Kings XI Punjab</td>\n",
       "    </tr>\n",
       "    <tr>\n",
       "      <th>478</th>\n",
       "      <td>Kings XI Punjab</td>\n",
       "      <td>bat</td>\n",
       "      <td>Wankhede Stadium</td>\n",
       "      <td>Mumbai Indians</td>\n",
       "    </tr>\n",
       "    <tr>\n",
       "      <th>504</th>\n",
       "      <td>Mumbai Indians</td>\n",
       "      <td>field</td>\n",
       "      <td>Punjab Cricket Association Stadium, Mohali</td>\n",
       "      <td>Mumbai Indians</td>\n",
       "    </tr>\n",
       "    <tr>\n",
       "      <th>523</th>\n",
       "      <td>Mumbai Indians</td>\n",
       "      <td>field</td>\n",
       "      <td>Wankhede Stadium</td>\n",
       "      <td>Kings XI Punjab</td>\n",
       "    </tr>\n",
       "    <tr>\n",
       "      <th>551</th>\n",
       "      <td>Mumbai Indians</td>\n",
       "      <td>bat</td>\n",
       "      <td>Punjab Cricket Association Stadium, Mohali</td>\n",
       "      <td>Mumbai Indians</td>\n",
       "    </tr>\n",
       "    <tr>\n",
       "      <th>596</th>\n",
       "      <td>Kings XI Punjab</td>\n",
       "      <td>field</td>\n",
       "      <td>Punjab Cricket Association IS Bindra Stadium, ...</td>\n",
       "      <td>Mumbai Indians</td>\n",
       "    </tr>\n",
       "    <tr>\n",
       "      <th>618</th>\n",
       "      <td>Mumbai Indians</td>\n",
       "      <td>bat</td>\n",
       "      <td>Dr. Y.S. Rajasekhara Reddy ACA-VDCA Cricket St...</td>\n",
       "      <td>Kings XI Punjab</td>\n",
       "    </tr>\n",
       "    <tr>\n",
       "      <th>669</th>\n",
       "      <td>Mumbai Indians</td>\n",
       "      <td>field</td>\n",
       "      <td>Holkar Cricket Stadium</td>\n",
       "      <td>Mumbai Indians</td>\n",
       "    </tr>\n",
       "    <tr>\n",
       "      <th>685</th>\n",
       "      <td>Kings XI Punjab</td>\n",
       "      <td>field</td>\n",
       "      <td>Wankhede Stadium</td>\n",
       "      <td>Mumbai Indians</td>\n",
       "    </tr>\n",
       "    <tr>\n",
       "      <th>704</th>\n",
       "      <td>Kings XI Punjab</td>\n",
       "      <td>field</td>\n",
       "      <td>IS Bindra Stadium</td>\n",
       "      <td>Kings XI Punjab</td>\n",
       "    </tr>\n",
       "    <tr>\n",
       "      <th>719</th>\n",
       "      <td>Mumbai Indians</td>\n",
       "      <td>field</td>\n",
       "      <td>Wankhede Stadium</td>\n",
       "      <td>Mumbai Indians</td>\n",
       "    </tr>\n",
       "  </tbody>\n",
       "</table>\n",
       "</div>"
      ],
      "text/plain": [
       "         toss_winner toss_decision  \\\n",
       "21    Mumbai Indians         field   \n",
       "49    Mumbai Indians         field   \n",
       "68    Mumbai Indians         field   \n",
       "105   Mumbai Indians         field   \n",
       "134  Kings XI Punjab           bat   \n",
       "156  Kings XI Punjab           bat   \n",
       "200   Mumbai Indians         field   \n",
       "214   Mumbai Indians           bat   \n",
       "272  Kings XI Punjab         field   \n",
       "286   Mumbai Indians         field   \n",
       "335   Mumbai Indians           bat   \n",
       "339  Kings XI Punjab           bat   \n",
       "420   Mumbai Indians           bat   \n",
       "449   Mumbai Indians         field   \n",
       "478  Kings XI Punjab           bat   \n",
       "504   Mumbai Indians         field   \n",
       "523   Mumbai Indians         field   \n",
       "551   Mumbai Indians           bat   \n",
       "596  Kings XI Punjab         field   \n",
       "618   Mumbai Indians           bat   \n",
       "669   Mumbai Indians         field   \n",
       "685  Kings XI Punjab         field   \n",
       "704  Kings XI Punjab         field   \n",
       "719   Mumbai Indians         field   \n",
       "\n",
       "                                                 venue           winner  \n",
       "21                              Holkar Cricket Stadium   Mumbai Indians  \n",
       "49                                    Wankhede Stadium  Kings XI Punjab  \n",
       "68          Punjab Cricket Association Stadium, Mohali  Kings XI Punjab  \n",
       "105                                   Wankhede Stadium  Kings XI Punjab  \n",
       "134                                          Kingsmead  Kings XI Punjab  \n",
       "156                                    SuperSport Park   Mumbai Indians  \n",
       "200                                  Brabourne Stadium   Mumbai Indians  \n",
       "214         Punjab Cricket Association Stadium, Mohali  Kings XI Punjab  \n",
       "272                                   Wankhede Stadium   Mumbai Indians  \n",
       "286         Punjab Cricket Association Stadium, Mohali  Kings XI Punjab  \n",
       "335                                   Wankhede Stadium  Kings XI Punjab  \n",
       "339         Punjab Cricket Association Stadium, Mohali   Mumbai Indians  \n",
       "420                                   Wankhede Stadium   Mumbai Indians  \n",
       "449       Himachal Pradesh Cricket Association Stadium  Kings XI Punjab  \n",
       "478                                   Wankhede Stadium   Mumbai Indians  \n",
       "504         Punjab Cricket Association Stadium, Mohali   Mumbai Indians  \n",
       "523                                   Wankhede Stadium  Kings XI Punjab  \n",
       "551         Punjab Cricket Association Stadium, Mohali   Mumbai Indians  \n",
       "596  Punjab Cricket Association IS Bindra Stadium, ...   Mumbai Indians  \n",
       "618  Dr. Y.S. Rajasekhara Reddy ACA-VDCA Cricket St...  Kings XI Punjab  \n",
       "669                             Holkar Cricket Stadium   Mumbai Indians  \n",
       "685                                   Wankhede Stadium   Mumbai Indians  \n",
       "704                                  IS Bindra Stadium  Kings XI Punjab  \n",
       "719                                   Wankhede Stadium   Mumbai Indians  "
      ]
     },
     "execution_count": 36,
     "metadata": {},
     "output_type": "execute_result"
    }
   ],
   "source": [
    "venue= mi_kxip[['toss_winner','toss_decision','venue','winner']]\n",
    "venue.head(25)"
   ]
  },
  {
   "cell_type": "markdown",
   "metadata": {},
   "source": [
    "# Head to Head Win based tossed decision playing 1st or 2nd Inning"
   ]
  },
  {
   "cell_type": "code",
   "execution_count": 37,
   "metadata": {},
   "outputs": [
    {
     "data": {
      "text/plain": [
       "toss_winner      winner           toss_decision\n",
       "Kings XI Punjab  Kings XI Punjab  bat              1\n",
       "                                  field            1\n",
       "                 Mumbai Indians   bat              3\n",
       "                                  field            3\n",
       "Mumbai Indians   Kings XI Punjab  field            6\n",
       "                                  bat              3\n",
       "                 Mumbai Indians   field            5\n",
       "                                  bat              2\n",
       "Name: toss_decision, dtype: int64"
      ]
     },
     "execution_count": 37,
     "metadata": {},
     "output_type": "execute_result"
    }
   ],
   "source": [
    "team_decision.groupby(['toss_winner','winner'])['toss_decision'].value_counts()"
   ]
  },
  {
   "cell_type": "code",
   "execution_count": 38,
   "metadata": {},
   "outputs": [
    {
     "data": {
      "text/plain": [
       "(24, 17)"
      ]
     },
     "execution_count": 38,
     "metadata": {},
     "output_type": "execute_result"
    }
   ],
   "source": [
    "mi_kxip.shape"
   ]
  },
  {
   "cell_type": "code",
   "execution_count": 39,
   "metadata": {},
   "outputs": [
    {
     "data": {
      "text/plain": [
       "Index(['id', 'season', 'city', 'date', 'team1', 'team2', 'toss_winner',\n",
       "       'toss_decision', 'result', 'winner', 'win_by_runs', 'win_by_wickets',\n",
       "       'player_of_match', 'venue', 'umpire1', 'umpire2', 'umpire3'],\n",
       "      dtype='object')"
      ]
     },
     "execution_count": 39,
     "metadata": {},
     "output_type": "execute_result"
    }
   ],
   "source": [
    "mi_kxip.columns"
   ]
  },
  {
   "cell_type": "code",
   "execution_count": 40,
   "metadata": {},
   "outputs": [
    {
     "data": {
      "text/plain": [
       "id                  0\n",
       "season              0\n",
       "city                0\n",
       "date                0\n",
       "team1               0\n",
       "team2               0\n",
       "toss_winner         0\n",
       "toss_decision       0\n",
       "result              0\n",
       "winner              0\n",
       "win_by_runs         0\n",
       "win_by_wickets      0\n",
       "player_of_match     0\n",
       "venue               0\n",
       "umpire1             0\n",
       "umpire2             0\n",
       "umpire3            20\n",
       "dtype: int64"
      ]
     },
     "execution_count": 40,
     "metadata": {},
     "output_type": "execute_result"
    }
   ],
   "source": [
    "mi_kxip.isnull().sum()"
   ]
  },
  {
   "cell_type": "code",
   "execution_count": 41,
   "metadata": {},
   "outputs": [],
   "source": [
    "mi_kxip=mi_kxip.drop('umpire3',axis =1)"
   ]
  },
  {
   "cell_type": "code",
   "execution_count": 42,
   "metadata": {},
   "outputs": [
    {
     "data": {
      "text/plain": [
       "Index(['id', 'season', 'city', 'date', 'team1', 'team2', 'toss_winner',\n",
       "       'toss_decision', 'result', 'dl_applied', 'winner', 'win_by_runs',\n",
       "       'win_by_wickets', 'player_of_match', 'venue', 'umpire1', 'umpire2',\n",
       "       'umpire3'],\n",
       "      dtype='object')"
      ]
     },
     "execution_count": 42,
     "metadata": {},
     "output_type": "execute_result"
    }
   ],
   "source": [
    "matches.columns"
   ]
  },
  {
   "cell_type": "code",
   "execution_count": 43,
   "metadata": {},
   "outputs": [
    {
     "data": {
      "text/plain": [
       "Index(['match_id', 'inning', 'batting_team', 'bowling_team', 'over', 'ball',\n",
       "       'batsman', 'non_striker', 'bowler', 'is_super_over', 'wide_runs',\n",
       "       'bye_runs', 'legbye_runs', 'noball_runs', 'penalty_runs',\n",
       "       'batsman_runs', 'extra_runs', 'total_runs', 'player_dismissed',\n",
       "       'dismissal_kind', 'fielder'],\n",
       "      dtype='object')"
      ]
     },
     "execution_count": 43,
     "metadata": {},
     "output_type": "execute_result"
    }
   ],
   "source": [
    "delivers.columns"
   ]
  },
  {
   "cell_type": "code",
   "execution_count": 44,
   "metadata": {},
   "outputs": [
    {
     "data": {
      "text/plain": [
       "Mumbai Indians                 22619\n",
       "Kings XI Punjab                20931\n",
       "Royal Challengers Bangalore    20908\n",
       "Kolkata Knight Riders          20858\n",
       "Chennai Super Kings            19762\n",
       "Delhi Daredevils               18786\n",
       "Rajasthan Royals               17292\n",
       "Sunrisers Hyderabad            12908\n",
       "Deccan Chargers                 9034\n",
       "Pune Warriors                   5443\n",
       "Gujarat Lions                   3566\n",
       "Delhi Capitals                  1909\n",
       "Rising Pune Supergiant          1900\n",
       "Kochi Tuskers Kerala            1582\n",
       "Rising Pune Supergiants         1580\n",
       "Name: batting_team, dtype: int64"
      ]
     },
     "execution_count": 44,
     "metadata": {},
     "output_type": "execute_result"
    }
   ],
   "source": [
    "delivers['batting_team'].value_counts()"
   ]
  },
  {
   "cell_type": "code",
   "execution_count": 45,
   "metadata": {},
   "outputs": [
    {
     "data": {
      "application/vnd.plotly.v1+json": {
       "config": {
        "linkText": "Export to plot.ly",
        "plotlyServerURL": "https://plot.ly",
        "showLink": true
       },
       "data": [
        {
         "marker": {
          "color": "rgba(255, 153, 51, 0.6)",
          "line": {
           "color": "rgba(255, 153, 51, 1.0)",
           "width": 1
          }
         },
         "name": "batting_team",
         "orientation": "v",
         "text": "",
         "type": "bar",
         "x": [
          "Mumbai Indians",
          "Kings XI Punjab",
          "Royal Challengers Bangalore",
          "Kolkata Knight Riders",
          "Chennai Super Kings",
          "Delhi Daredevils",
          "Rajasthan Royals",
          "Sunrisers Hyderabad",
          "Deccan Chargers",
          "Pune Warriors",
          "Gujarat Lions",
          "Delhi Capitals",
          "Rising Pune Supergiant",
          "Kochi Tuskers Kerala",
          "Rising Pune Supergiants"
         ],
         "y": [
          22619,
          20931,
          20908,
          20858,
          19762,
          18786,
          17292,
          12908,
          9034,
          5443,
          3566,
          1909,
          1900,
          1582,
          1580
         ]
        }
       ],
       "layout": {
        "legend": {
         "bgcolor": "#F5F6F9",
         "font": {
          "color": "#4D5663"
         }
        },
        "paper_bgcolor": "#F5F6F9",
        "plot_bgcolor": "#F5F6F9",
        "template": {
         "data": {
          "bar": [
           {
            "error_x": {
             "color": "#2a3f5f"
            },
            "error_y": {
             "color": "#2a3f5f"
            },
            "marker": {
             "line": {
              "color": "#E5ECF6",
              "width": 0.5
             }
            },
            "type": "bar"
           }
          ],
          "barpolar": [
           {
            "marker": {
             "line": {
              "color": "#E5ECF6",
              "width": 0.5
             }
            },
            "type": "barpolar"
           }
          ],
          "carpet": [
           {
            "aaxis": {
             "endlinecolor": "#2a3f5f",
             "gridcolor": "white",
             "linecolor": "white",
             "minorgridcolor": "white",
             "startlinecolor": "#2a3f5f"
            },
            "baxis": {
             "endlinecolor": "#2a3f5f",
             "gridcolor": "white",
             "linecolor": "white",
             "minorgridcolor": "white",
             "startlinecolor": "#2a3f5f"
            },
            "type": "carpet"
           }
          ],
          "choropleth": [
           {
            "colorbar": {
             "outlinewidth": 0,
             "ticks": ""
            },
            "type": "choropleth"
           }
          ],
          "contour": [
           {
            "colorbar": {
             "outlinewidth": 0,
             "ticks": ""
            },
            "colorscale": [
             [
              0,
              "#0d0887"
             ],
             [
              0.1111111111111111,
              "#46039f"
             ],
             [
              0.2222222222222222,
              "#7201a8"
             ],
             [
              0.3333333333333333,
              "#9c179e"
             ],
             [
              0.4444444444444444,
              "#bd3786"
             ],
             [
              0.5555555555555556,
              "#d8576b"
             ],
             [
              0.6666666666666666,
              "#ed7953"
             ],
             [
              0.7777777777777778,
              "#fb9f3a"
             ],
             [
              0.8888888888888888,
              "#fdca26"
             ],
             [
              1,
              "#f0f921"
             ]
            ],
            "type": "contour"
           }
          ],
          "contourcarpet": [
           {
            "colorbar": {
             "outlinewidth": 0,
             "ticks": ""
            },
            "type": "contourcarpet"
           }
          ],
          "heatmap": [
           {
            "colorbar": {
             "outlinewidth": 0,
             "ticks": ""
            },
            "colorscale": [
             [
              0,
              "#0d0887"
             ],
             [
              0.1111111111111111,
              "#46039f"
             ],
             [
              0.2222222222222222,
              "#7201a8"
             ],
             [
              0.3333333333333333,
              "#9c179e"
             ],
             [
              0.4444444444444444,
              "#bd3786"
             ],
             [
              0.5555555555555556,
              "#d8576b"
             ],
             [
              0.6666666666666666,
              "#ed7953"
             ],
             [
              0.7777777777777778,
              "#fb9f3a"
             ],
             [
              0.8888888888888888,
              "#fdca26"
             ],
             [
              1,
              "#f0f921"
             ]
            ],
            "type": "heatmap"
           }
          ],
          "heatmapgl": [
           {
            "colorbar": {
             "outlinewidth": 0,
             "ticks": ""
            },
            "colorscale": [
             [
              0,
              "#0d0887"
             ],
             [
              0.1111111111111111,
              "#46039f"
             ],
             [
              0.2222222222222222,
              "#7201a8"
             ],
             [
              0.3333333333333333,
              "#9c179e"
             ],
             [
              0.4444444444444444,
              "#bd3786"
             ],
             [
              0.5555555555555556,
              "#d8576b"
             ],
             [
              0.6666666666666666,
              "#ed7953"
             ],
             [
              0.7777777777777778,
              "#fb9f3a"
             ],
             [
              0.8888888888888888,
              "#fdca26"
             ],
             [
              1,
              "#f0f921"
             ]
            ],
            "type": "heatmapgl"
           }
          ],
          "histogram": [
           {
            "marker": {
             "colorbar": {
              "outlinewidth": 0,
              "ticks": ""
             }
            },
            "type": "histogram"
           }
          ],
          "histogram2d": [
           {
            "colorbar": {
             "outlinewidth": 0,
             "ticks": ""
            },
            "colorscale": [
             [
              0,
              "#0d0887"
             ],
             [
              0.1111111111111111,
              "#46039f"
             ],
             [
              0.2222222222222222,
              "#7201a8"
             ],
             [
              0.3333333333333333,
              "#9c179e"
             ],
             [
              0.4444444444444444,
              "#bd3786"
             ],
             [
              0.5555555555555556,
              "#d8576b"
             ],
             [
              0.6666666666666666,
              "#ed7953"
             ],
             [
              0.7777777777777778,
              "#fb9f3a"
             ],
             [
              0.8888888888888888,
              "#fdca26"
             ],
             [
              1,
              "#f0f921"
             ]
            ],
            "type": "histogram2d"
           }
          ],
          "histogram2dcontour": [
           {
            "colorbar": {
             "outlinewidth": 0,
             "ticks": ""
            },
            "colorscale": [
             [
              0,
              "#0d0887"
             ],
             [
              0.1111111111111111,
              "#46039f"
             ],
             [
              0.2222222222222222,
              "#7201a8"
             ],
             [
              0.3333333333333333,
              "#9c179e"
             ],
             [
              0.4444444444444444,
              "#bd3786"
             ],
             [
              0.5555555555555556,
              "#d8576b"
             ],
             [
              0.6666666666666666,
              "#ed7953"
             ],
             [
              0.7777777777777778,
              "#fb9f3a"
             ],
             [
              0.8888888888888888,
              "#fdca26"
             ],
             [
              1,
              "#f0f921"
             ]
            ],
            "type": "histogram2dcontour"
           }
          ],
          "mesh3d": [
           {
            "colorbar": {
             "outlinewidth": 0,
             "ticks": ""
            },
            "type": "mesh3d"
           }
          ],
          "parcoords": [
           {
            "line": {
             "colorbar": {
              "outlinewidth": 0,
              "ticks": ""
             }
            },
            "type": "parcoords"
           }
          ],
          "pie": [
           {
            "automargin": true,
            "type": "pie"
           }
          ],
          "scatter": [
           {
            "marker": {
             "colorbar": {
              "outlinewidth": 0,
              "ticks": ""
             }
            },
            "type": "scatter"
           }
          ],
          "scatter3d": [
           {
            "line": {
             "colorbar": {
              "outlinewidth": 0,
              "ticks": ""
             }
            },
            "marker": {
             "colorbar": {
              "outlinewidth": 0,
              "ticks": ""
             }
            },
            "type": "scatter3d"
           }
          ],
          "scattercarpet": [
           {
            "marker": {
             "colorbar": {
              "outlinewidth": 0,
              "ticks": ""
             }
            },
            "type": "scattercarpet"
           }
          ],
          "scattergeo": [
           {
            "marker": {
             "colorbar": {
              "outlinewidth": 0,
              "ticks": ""
             }
            },
            "type": "scattergeo"
           }
          ],
          "scattergl": [
           {
            "marker": {
             "colorbar": {
              "outlinewidth": 0,
              "ticks": ""
             }
            },
            "type": "scattergl"
           }
          ],
          "scattermapbox": [
           {
            "marker": {
             "colorbar": {
              "outlinewidth": 0,
              "ticks": ""
             }
            },
            "type": "scattermapbox"
           }
          ],
          "scatterpolar": [
           {
            "marker": {
             "colorbar": {
              "outlinewidth": 0,
              "ticks": ""
             }
            },
            "type": "scatterpolar"
           }
          ],
          "scatterpolargl": [
           {
            "marker": {
             "colorbar": {
              "outlinewidth": 0,
              "ticks": ""
             }
            },
            "type": "scatterpolargl"
           }
          ],
          "scatterternary": [
           {
            "marker": {
             "colorbar": {
              "outlinewidth": 0,
              "ticks": ""
             }
            },
            "type": "scatterternary"
           }
          ],
          "surface": [
           {
            "colorbar": {
             "outlinewidth": 0,
             "ticks": ""
            },
            "colorscale": [
             [
              0,
              "#0d0887"
             ],
             [
              0.1111111111111111,
              "#46039f"
             ],
             [
              0.2222222222222222,
              "#7201a8"
             ],
             [
              0.3333333333333333,
              "#9c179e"
             ],
             [
              0.4444444444444444,
              "#bd3786"
             ],
             [
              0.5555555555555556,
              "#d8576b"
             ],
             [
              0.6666666666666666,
              "#ed7953"
             ],
             [
              0.7777777777777778,
              "#fb9f3a"
             ],
             [
              0.8888888888888888,
              "#fdca26"
             ],
             [
              1,
              "#f0f921"
             ]
            ],
            "type": "surface"
           }
          ],
          "table": [
           {
            "cells": {
             "fill": {
              "color": "#EBF0F8"
             },
             "line": {
              "color": "white"
             }
            },
            "header": {
             "fill": {
              "color": "#C8D4E3"
             },
             "line": {
              "color": "white"
             }
            },
            "type": "table"
           }
          ]
         },
         "layout": {
          "annotationdefaults": {
           "arrowcolor": "#2a3f5f",
           "arrowhead": 0,
           "arrowwidth": 1
          },
          "coloraxis": {
           "colorbar": {
            "outlinewidth": 0,
            "ticks": ""
           }
          },
          "colorscale": {
           "diverging": [
            [
             0,
             "#8e0152"
            ],
            [
             0.1,
             "#c51b7d"
            ],
            [
             0.2,
             "#de77ae"
            ],
            [
             0.3,
             "#f1b6da"
            ],
            [
             0.4,
             "#fde0ef"
            ],
            [
             0.5,
             "#f7f7f7"
            ],
            [
             0.6,
             "#e6f5d0"
            ],
            [
             0.7,
             "#b8e186"
            ],
            [
             0.8,
             "#7fbc41"
            ],
            [
             0.9,
             "#4d9221"
            ],
            [
             1,
             "#276419"
            ]
           ],
           "sequential": [
            [
             0,
             "#0d0887"
            ],
            [
             0.1111111111111111,
             "#46039f"
            ],
            [
             0.2222222222222222,
             "#7201a8"
            ],
            [
             0.3333333333333333,
             "#9c179e"
            ],
            [
             0.4444444444444444,
             "#bd3786"
            ],
            [
             0.5555555555555556,
             "#d8576b"
            ],
            [
             0.6666666666666666,
             "#ed7953"
            ],
            [
             0.7777777777777778,
             "#fb9f3a"
            ],
            [
             0.8888888888888888,
             "#fdca26"
            ],
            [
             1,
             "#f0f921"
            ]
           ],
           "sequentialminus": [
            [
             0,
             "#0d0887"
            ],
            [
             0.1111111111111111,
             "#46039f"
            ],
            [
             0.2222222222222222,
             "#7201a8"
            ],
            [
             0.3333333333333333,
             "#9c179e"
            ],
            [
             0.4444444444444444,
             "#bd3786"
            ],
            [
             0.5555555555555556,
             "#d8576b"
            ],
            [
             0.6666666666666666,
             "#ed7953"
            ],
            [
             0.7777777777777778,
             "#fb9f3a"
            ],
            [
             0.8888888888888888,
             "#fdca26"
            ],
            [
             1,
             "#f0f921"
            ]
           ]
          },
          "colorway": [
           "#636efa",
           "#EF553B",
           "#00cc96",
           "#ab63fa",
           "#FFA15A",
           "#19d3f3",
           "#FF6692",
           "#B6E880",
           "#FF97FF",
           "#FECB52"
          ],
          "font": {
           "color": "#2a3f5f"
          },
          "geo": {
           "bgcolor": "white",
           "lakecolor": "white",
           "landcolor": "#E5ECF6",
           "showlakes": true,
           "showland": true,
           "subunitcolor": "white"
          },
          "hoverlabel": {
           "align": "left"
          },
          "hovermode": "closest",
          "mapbox": {
           "style": "light"
          },
          "paper_bgcolor": "white",
          "plot_bgcolor": "#E5ECF6",
          "polar": {
           "angularaxis": {
            "gridcolor": "white",
            "linecolor": "white",
            "ticks": ""
           },
           "bgcolor": "#E5ECF6",
           "radialaxis": {
            "gridcolor": "white",
            "linecolor": "white",
            "ticks": ""
           }
          },
          "scene": {
           "xaxis": {
            "backgroundcolor": "#E5ECF6",
            "gridcolor": "white",
            "gridwidth": 2,
            "linecolor": "white",
            "showbackground": true,
            "ticks": "",
            "zerolinecolor": "white"
           },
           "yaxis": {
            "backgroundcolor": "#E5ECF6",
            "gridcolor": "white",
            "gridwidth": 2,
            "linecolor": "white",
            "showbackground": true,
            "ticks": "",
            "zerolinecolor": "white"
           },
           "zaxis": {
            "backgroundcolor": "#E5ECF6",
            "gridcolor": "white",
            "gridwidth": 2,
            "linecolor": "white",
            "showbackground": true,
            "ticks": "",
            "zerolinecolor": "white"
           }
          },
          "shapedefaults": {
           "line": {
            "color": "#2a3f5f"
           }
          },
          "ternary": {
           "aaxis": {
            "gridcolor": "white",
            "linecolor": "white",
            "ticks": ""
           },
           "baxis": {
            "gridcolor": "white",
            "linecolor": "white",
            "ticks": ""
           },
           "bgcolor": "#E5ECF6",
           "caxis": {
            "gridcolor": "white",
            "linecolor": "white",
            "ticks": ""
           }
          },
          "title": {
           "x": 0.05
          },
          "xaxis": {
           "automargin": true,
           "gridcolor": "white",
           "linecolor": "white",
           "ticks": "",
           "title": {
            "standoff": 15
           },
           "zerolinecolor": "white",
           "zerolinewidth": 2
          },
          "yaxis": {
           "automargin": true,
           "gridcolor": "white",
           "linecolor": "white",
           "ticks": "",
           "title": {
            "standoff": 15
           },
           "zerolinecolor": "white",
           "zerolinewidth": 2
          }
         }
        },
        "title": {
         "font": {
          "color": "#4D5663"
         },
         "text": "Runs scored by Teams in IPL 2008-19"
        },
        "xaxis": {
         "gridcolor": "#E1E5ED",
         "showgrid": true,
         "tickfont": {
          "color": "#4D5663"
         },
         "title": {
          "font": {
           "color": "#4D5663"
          },
          "text": "Team"
         },
         "zerolinecolor": "#E1E5ED"
        },
        "yaxis": {
         "gridcolor": "#E1E5ED",
         "showgrid": true,
         "tickfont": {
          "color": "#4D5663"
         },
         "title": {
          "font": {
           "color": "#4D5663"
          },
          "text": "Runs"
         },
         "zerolinecolor": "#E1E5ED"
        }
       }
      },
      "text/html": [
       "<div>\n",
       "        \n",
       "        \n",
       "            <div id=\"78d996f0-0e2c-4e0d-8ee1-e52f6b9cee57\" class=\"plotly-graph-div\" style=\"height:525px; width:100%;\"></div>\n",
       "            <script type=\"text/javascript\">\n",
       "                require([\"plotly\"], function(Plotly) {\n",
       "                    window.PLOTLYENV=window.PLOTLYENV || {};\n",
       "                    window.PLOTLYENV.BASE_URL='https://plot.ly';\n",
       "                    \n",
       "                if (document.getElementById(\"78d996f0-0e2c-4e0d-8ee1-e52f6b9cee57\")) {\n",
       "                    Plotly.newPlot(\n",
       "                        '78d996f0-0e2c-4e0d-8ee1-e52f6b9cee57',\n",
       "                        [{\"marker\": {\"color\": \"rgba(255, 153, 51, 0.6)\", \"line\": {\"color\": \"rgba(255, 153, 51, 1.0)\", \"width\": 1}}, \"name\": \"batting_team\", \"orientation\": \"v\", \"text\": \"\", \"type\": \"bar\", \"x\": [\"Mumbai Indians\", \"Kings XI Punjab\", \"Royal Challengers Bangalore\", \"Kolkata Knight Riders\", \"Chennai Super Kings\", \"Delhi Daredevils\", \"Rajasthan Royals\", \"Sunrisers Hyderabad\", \"Deccan Chargers\", \"Pune Warriors\", \"Gujarat Lions\", \"Delhi Capitals\", \"Rising Pune Supergiant\", \"Kochi Tuskers Kerala\", \"Rising Pune Supergiants\"], \"y\": [22619, 20931, 20908, 20858, 19762, 18786, 17292, 12908, 9034, 5443, 3566, 1909, 1900, 1582, 1580]}],\n",
       "                        {\"legend\": {\"bgcolor\": \"#F5F6F9\", \"font\": {\"color\": \"#4D5663\"}}, \"paper_bgcolor\": \"#F5F6F9\", \"plot_bgcolor\": \"#F5F6F9\", \"template\": {\"data\": {\"bar\": [{\"error_x\": {\"color\": \"#2a3f5f\"}, \"error_y\": {\"color\": \"#2a3f5f\"}, \"marker\": {\"line\": {\"color\": \"#E5ECF6\", \"width\": 0.5}}, \"type\": \"bar\"}], \"barpolar\": [{\"marker\": {\"line\": {\"color\": \"#E5ECF6\", \"width\": 0.5}}, \"type\": \"barpolar\"}], \"carpet\": [{\"aaxis\": {\"endlinecolor\": \"#2a3f5f\", \"gridcolor\": \"white\", \"linecolor\": \"white\", \"minorgridcolor\": \"white\", \"startlinecolor\": \"#2a3f5f\"}, \"baxis\": {\"endlinecolor\": \"#2a3f5f\", \"gridcolor\": \"white\", \"linecolor\": \"white\", \"minorgridcolor\": \"white\", \"startlinecolor\": \"#2a3f5f\"}, \"type\": \"carpet\"}], \"choropleth\": [{\"colorbar\": {\"outlinewidth\": 0, \"ticks\": \"\"}, \"type\": \"choropleth\"}], \"contour\": [{\"colorbar\": {\"outlinewidth\": 0, \"ticks\": \"\"}, \"colorscale\": [[0.0, \"#0d0887\"], [0.1111111111111111, \"#46039f\"], [0.2222222222222222, \"#7201a8\"], [0.3333333333333333, \"#9c179e\"], [0.4444444444444444, \"#bd3786\"], [0.5555555555555556, \"#d8576b\"], [0.6666666666666666, \"#ed7953\"], [0.7777777777777778, \"#fb9f3a\"], [0.8888888888888888, \"#fdca26\"], [1.0, \"#f0f921\"]], \"type\": \"contour\"}], \"contourcarpet\": [{\"colorbar\": {\"outlinewidth\": 0, \"ticks\": \"\"}, \"type\": \"contourcarpet\"}], \"heatmap\": [{\"colorbar\": {\"outlinewidth\": 0, \"ticks\": \"\"}, \"colorscale\": [[0.0, \"#0d0887\"], [0.1111111111111111, \"#46039f\"], [0.2222222222222222, \"#7201a8\"], [0.3333333333333333, \"#9c179e\"], [0.4444444444444444, \"#bd3786\"], [0.5555555555555556, \"#d8576b\"], [0.6666666666666666, \"#ed7953\"], [0.7777777777777778, \"#fb9f3a\"], [0.8888888888888888, \"#fdca26\"], [1.0, \"#f0f921\"]], \"type\": \"heatmap\"}], \"heatmapgl\": [{\"colorbar\": {\"outlinewidth\": 0, \"ticks\": \"\"}, \"colorscale\": [[0.0, \"#0d0887\"], [0.1111111111111111, \"#46039f\"], [0.2222222222222222, \"#7201a8\"], [0.3333333333333333, \"#9c179e\"], [0.4444444444444444, \"#bd3786\"], [0.5555555555555556, \"#d8576b\"], [0.6666666666666666, \"#ed7953\"], [0.7777777777777778, \"#fb9f3a\"], [0.8888888888888888, \"#fdca26\"], [1.0, \"#f0f921\"]], \"type\": \"heatmapgl\"}], \"histogram\": [{\"marker\": {\"colorbar\": {\"outlinewidth\": 0, \"ticks\": \"\"}}, \"type\": \"histogram\"}], \"histogram2d\": [{\"colorbar\": {\"outlinewidth\": 0, \"ticks\": \"\"}, \"colorscale\": [[0.0, \"#0d0887\"], [0.1111111111111111, \"#46039f\"], [0.2222222222222222, \"#7201a8\"], [0.3333333333333333, \"#9c179e\"], [0.4444444444444444, \"#bd3786\"], [0.5555555555555556, \"#d8576b\"], [0.6666666666666666, \"#ed7953\"], [0.7777777777777778, \"#fb9f3a\"], [0.8888888888888888, \"#fdca26\"], [1.0, \"#f0f921\"]], \"type\": \"histogram2d\"}], \"histogram2dcontour\": [{\"colorbar\": {\"outlinewidth\": 0, \"ticks\": \"\"}, \"colorscale\": [[0.0, \"#0d0887\"], [0.1111111111111111, \"#46039f\"], [0.2222222222222222, \"#7201a8\"], [0.3333333333333333, \"#9c179e\"], [0.4444444444444444, \"#bd3786\"], [0.5555555555555556, \"#d8576b\"], [0.6666666666666666, \"#ed7953\"], [0.7777777777777778, \"#fb9f3a\"], [0.8888888888888888, \"#fdca26\"], [1.0, \"#f0f921\"]], \"type\": \"histogram2dcontour\"}], \"mesh3d\": [{\"colorbar\": {\"outlinewidth\": 0, \"ticks\": \"\"}, \"type\": \"mesh3d\"}], \"parcoords\": [{\"line\": {\"colorbar\": {\"outlinewidth\": 0, \"ticks\": \"\"}}, \"type\": \"parcoords\"}], \"pie\": [{\"automargin\": true, \"type\": \"pie\"}], \"scatter\": [{\"marker\": {\"colorbar\": {\"outlinewidth\": 0, \"ticks\": \"\"}}, \"type\": \"scatter\"}], \"scatter3d\": [{\"line\": {\"colorbar\": {\"outlinewidth\": 0, \"ticks\": \"\"}}, \"marker\": {\"colorbar\": {\"outlinewidth\": 0, \"ticks\": \"\"}}, \"type\": \"scatter3d\"}], \"scattercarpet\": [{\"marker\": {\"colorbar\": {\"outlinewidth\": 0, \"ticks\": \"\"}}, \"type\": \"scattercarpet\"}], \"scattergeo\": [{\"marker\": {\"colorbar\": {\"outlinewidth\": 0, \"ticks\": \"\"}}, \"type\": \"scattergeo\"}], \"scattergl\": [{\"marker\": {\"colorbar\": {\"outlinewidth\": 0, \"ticks\": \"\"}}, \"type\": \"scattergl\"}], \"scattermapbox\": [{\"marker\": {\"colorbar\": {\"outlinewidth\": 0, \"ticks\": \"\"}}, \"type\": \"scattermapbox\"}], \"scatterpolar\": [{\"marker\": {\"colorbar\": {\"outlinewidth\": 0, \"ticks\": \"\"}}, \"type\": \"scatterpolar\"}], \"scatterpolargl\": [{\"marker\": {\"colorbar\": {\"outlinewidth\": 0, \"ticks\": \"\"}}, \"type\": \"scatterpolargl\"}], \"scatterternary\": [{\"marker\": {\"colorbar\": {\"outlinewidth\": 0, \"ticks\": \"\"}}, \"type\": \"scatterternary\"}], \"surface\": [{\"colorbar\": {\"outlinewidth\": 0, \"ticks\": \"\"}, \"colorscale\": [[0.0, \"#0d0887\"], [0.1111111111111111, \"#46039f\"], [0.2222222222222222, \"#7201a8\"], [0.3333333333333333, \"#9c179e\"], [0.4444444444444444, \"#bd3786\"], [0.5555555555555556, \"#d8576b\"], [0.6666666666666666, \"#ed7953\"], [0.7777777777777778, \"#fb9f3a\"], [0.8888888888888888, \"#fdca26\"], [1.0, \"#f0f921\"]], \"type\": \"surface\"}], \"table\": [{\"cells\": {\"fill\": {\"color\": \"#EBF0F8\"}, \"line\": {\"color\": \"white\"}}, \"header\": {\"fill\": {\"color\": \"#C8D4E3\"}, \"line\": {\"color\": \"white\"}}, \"type\": \"table\"}]}, \"layout\": {\"annotationdefaults\": {\"arrowcolor\": \"#2a3f5f\", \"arrowhead\": 0, \"arrowwidth\": 1}, \"coloraxis\": {\"colorbar\": {\"outlinewidth\": 0, \"ticks\": \"\"}}, \"colorscale\": {\"diverging\": [[0, \"#8e0152\"], [0.1, \"#c51b7d\"], [0.2, \"#de77ae\"], [0.3, \"#f1b6da\"], [0.4, \"#fde0ef\"], [0.5, \"#f7f7f7\"], [0.6, \"#e6f5d0\"], [0.7, \"#b8e186\"], [0.8, \"#7fbc41\"], [0.9, \"#4d9221\"], [1, \"#276419\"]], \"sequential\": [[0.0, \"#0d0887\"], [0.1111111111111111, \"#46039f\"], [0.2222222222222222, \"#7201a8\"], [0.3333333333333333, \"#9c179e\"], [0.4444444444444444, \"#bd3786\"], [0.5555555555555556, \"#d8576b\"], [0.6666666666666666, \"#ed7953\"], [0.7777777777777778, \"#fb9f3a\"], [0.8888888888888888, \"#fdca26\"], [1.0, \"#f0f921\"]], \"sequentialminus\": [[0.0, \"#0d0887\"], [0.1111111111111111, \"#46039f\"], [0.2222222222222222, \"#7201a8\"], [0.3333333333333333, \"#9c179e\"], [0.4444444444444444, \"#bd3786\"], [0.5555555555555556, \"#d8576b\"], [0.6666666666666666, \"#ed7953\"], [0.7777777777777778, \"#fb9f3a\"], [0.8888888888888888, \"#fdca26\"], [1.0, \"#f0f921\"]]}, \"colorway\": [\"#636efa\", \"#EF553B\", \"#00cc96\", \"#ab63fa\", \"#FFA15A\", \"#19d3f3\", \"#FF6692\", \"#B6E880\", \"#FF97FF\", \"#FECB52\"], \"font\": {\"color\": \"#2a3f5f\"}, \"geo\": {\"bgcolor\": \"white\", \"lakecolor\": \"white\", \"landcolor\": \"#E5ECF6\", \"showlakes\": true, \"showland\": true, \"subunitcolor\": \"white\"}, \"hoverlabel\": {\"align\": \"left\"}, \"hovermode\": \"closest\", \"mapbox\": {\"style\": \"light\"}, \"paper_bgcolor\": \"white\", \"plot_bgcolor\": \"#E5ECF6\", \"polar\": {\"angularaxis\": {\"gridcolor\": \"white\", \"linecolor\": \"white\", \"ticks\": \"\"}, \"bgcolor\": \"#E5ECF6\", \"radialaxis\": {\"gridcolor\": \"white\", \"linecolor\": \"white\", \"ticks\": \"\"}}, \"scene\": {\"xaxis\": {\"backgroundcolor\": \"#E5ECF6\", \"gridcolor\": \"white\", \"gridwidth\": 2, \"linecolor\": \"white\", \"showbackground\": true, \"ticks\": \"\", \"zerolinecolor\": \"white\"}, \"yaxis\": {\"backgroundcolor\": \"#E5ECF6\", \"gridcolor\": \"white\", \"gridwidth\": 2, \"linecolor\": \"white\", \"showbackground\": true, \"ticks\": \"\", \"zerolinecolor\": \"white\"}, \"zaxis\": {\"backgroundcolor\": \"#E5ECF6\", \"gridcolor\": \"white\", \"gridwidth\": 2, \"linecolor\": \"white\", \"showbackground\": true, \"ticks\": \"\", \"zerolinecolor\": \"white\"}}, \"shapedefaults\": {\"line\": {\"color\": \"#2a3f5f\"}}, \"ternary\": {\"aaxis\": {\"gridcolor\": \"white\", \"linecolor\": \"white\", \"ticks\": \"\"}, \"baxis\": {\"gridcolor\": \"white\", \"linecolor\": \"white\", \"ticks\": \"\"}, \"bgcolor\": \"#E5ECF6\", \"caxis\": {\"gridcolor\": \"white\", \"linecolor\": \"white\", \"ticks\": \"\"}}, \"title\": {\"x\": 0.05}, \"xaxis\": {\"automargin\": true, \"gridcolor\": \"white\", \"linecolor\": \"white\", \"ticks\": \"\", \"title\": {\"standoff\": 15}, \"zerolinecolor\": \"white\", \"zerolinewidth\": 2}, \"yaxis\": {\"automargin\": true, \"gridcolor\": \"white\", \"linecolor\": \"white\", \"ticks\": \"\", \"title\": {\"standoff\": 15}, \"zerolinecolor\": \"white\", \"zerolinewidth\": 2}}}, \"title\": {\"font\": {\"color\": \"#4D5663\"}, \"text\": \"Runs scored by Teams in IPL 2008-19\"}, \"xaxis\": {\"gridcolor\": \"#E1E5ED\", \"showgrid\": true, \"tickfont\": {\"color\": \"#4D5663\"}, \"title\": {\"font\": {\"color\": \"#4D5663\"}, \"text\": \"Team\"}, \"zerolinecolor\": \"#E1E5ED\"}, \"yaxis\": {\"gridcolor\": \"#E1E5ED\", \"showgrid\": true, \"tickfont\": {\"color\": \"#4D5663\"}, \"title\": {\"font\": {\"color\": \"#4D5663\"}, \"text\": \"Runs\"}, \"zerolinecolor\": \"#E1E5ED\"}},\n",
       "                        {\"showLink\": true, \"linkText\": \"Export to plot.ly\", \"plotlyServerURL\": \"https://plot.ly\", \"responsive\": true}\n",
       "                    ).then(function(){\n",
       "                            \n",
       "var gd = document.getElementById('78d996f0-0e2c-4e0d-8ee1-e52f6b9cee57');\n",
       "var x = new MutationObserver(function (mutations, observer) {{\n",
       "        var display = window.getComputedStyle(gd).display;\n",
       "        if (!display || display === 'none') {{\n",
       "            console.log([gd, 'removed!']);\n",
       "            Plotly.purge(gd);\n",
       "            observer.disconnect();\n",
       "        }}\n",
       "}});\n",
       "\n",
       "// Listen for the removal of the full notebook cells\n",
       "var notebookContainer = gd.closest('#notebook-container');\n",
       "if (notebookContainer) {{\n",
       "    x.observe(notebookContainer, {childList: true});\n",
       "}}\n",
       "\n",
       "// Listen for the clearing of the current output cell\n",
       "var outputEl = gd.closest('.output');\n",
       "if (outputEl) {{\n",
       "    x.observe(outputEl, {childList: true});\n",
       "}}\n",
       "\n",
       "                        })\n",
       "                };\n",
       "                });\n",
       "            </script>\n",
       "        </div>"
      ]
     },
     "metadata": {},
     "output_type": "display_data"
    }
   ],
   "source": [
    "delivers['batting_team'].value_counts().iplot(kind ='bar',xTitle = 'Team',yTitle = 'Runs',title ='Runs scored by Teams in IPL 2008-19')"
   ]
  },
  {
   "cell_type": "code",
   "execution_count": 46,
   "metadata": {},
   "outputs": [],
   "source": [
    "def get_mivskxip(batting_team,bowling_team):\n",
    "    teams =['Mumbai Indians','Kings XI Punjab']\n",
    "    \n",
    "    if batting_team in teams and bowling_team in teams:\n",
    "        return True\n",
    "    else:\n",
    "        return False"
   ]
  },
  {
   "cell_type": "code",
   "execution_count": 47,
   "metadata": {},
   "outputs": [
    {
     "data": {
      "text/plain": [
       "5834"
      ]
     },
     "execution_count": 47,
     "metadata": {},
     "output_type": "execute_result"
    }
   ],
   "source": [
    "index = [ ]\n",
    "\n",
    "for row in delivers.iterrows():\n",
    "    flag = get_mivskxip(row[1]['batting_team'],row[1]['bowling_team'])\n",
    "    index.append(flag)\n",
    "    \n",
    "sum(index)"
   ]
  },
  {
   "cell_type": "code",
   "execution_count": 48,
   "metadata": {},
   "outputs": [],
   "source": [
    "mi_kxipdel = delivers[index]"
   ]
  },
  {
   "cell_type": "code",
   "execution_count": 49,
   "metadata": {},
   "outputs": [
    {
     "data": {
      "text/html": [
       "<div>\n",
       "<style scoped>\n",
       "    .dataframe tbody tr th:only-of-type {\n",
       "        vertical-align: middle;\n",
       "    }\n",
       "\n",
       "    .dataframe tbody tr th {\n",
       "        vertical-align: top;\n",
       "    }\n",
       "\n",
       "    .dataframe thead th {\n",
       "        text-align: right;\n",
       "    }\n",
       "</style>\n",
       "<table border=\"1\" class=\"dataframe\">\n",
       "  <thead>\n",
       "    <tr style=\"text-align: right;\">\n",
       "      <th></th>\n",
       "      <th>match_id</th>\n",
       "      <th>inning</th>\n",
       "      <th>batting_team</th>\n",
       "      <th>bowling_team</th>\n",
       "      <th>over</th>\n",
       "      <th>ball</th>\n",
       "      <th>batsman</th>\n",
       "      <th>non_striker</th>\n",
       "      <th>bowler</th>\n",
       "      <th>is_super_over</th>\n",
       "      <th>...</th>\n",
       "      <th>bye_runs</th>\n",
       "      <th>legbye_runs</th>\n",
       "      <th>noball_runs</th>\n",
       "      <th>penalty_runs</th>\n",
       "      <th>batsman_runs</th>\n",
       "      <th>extra_runs</th>\n",
       "      <th>total_runs</th>\n",
       "      <th>player_dismissed</th>\n",
       "      <th>dismissal_kind</th>\n",
       "      <th>fielder</th>\n",
       "    </tr>\n",
       "  </thead>\n",
       "  <tbody>\n",
       "    <tr>\n",
       "      <th>5055</th>\n",
       "      <td>22</td>\n",
       "      <td>1</td>\n",
       "      <td>Kings XI Punjab</td>\n",
       "      <td>Mumbai Indians</td>\n",
       "      <td>1</td>\n",
       "      <td>1</td>\n",
       "      <td>HM Amla</td>\n",
       "      <td>SE Marsh</td>\n",
       "      <td>HH Pandya</td>\n",
       "      <td>0</td>\n",
       "      <td>...</td>\n",
       "      <td>0</td>\n",
       "      <td>0</td>\n",
       "      <td>0</td>\n",
       "      <td>0</td>\n",
       "      <td>1</td>\n",
       "      <td>0</td>\n",
       "      <td>1</td>\n",
       "      <td>NaN</td>\n",
       "      <td>NaN</td>\n",
       "      <td>NaN</td>\n",
       "    </tr>\n",
       "    <tr>\n",
       "      <th>5056</th>\n",
       "      <td>22</td>\n",
       "      <td>1</td>\n",
       "      <td>Kings XI Punjab</td>\n",
       "      <td>Mumbai Indians</td>\n",
       "      <td>1</td>\n",
       "      <td>2</td>\n",
       "      <td>SE Marsh</td>\n",
       "      <td>HM Amla</td>\n",
       "      <td>HH Pandya</td>\n",
       "      <td>0</td>\n",
       "      <td>...</td>\n",
       "      <td>0</td>\n",
       "      <td>0</td>\n",
       "      <td>0</td>\n",
       "      <td>0</td>\n",
       "      <td>0</td>\n",
       "      <td>0</td>\n",
       "      <td>0</td>\n",
       "      <td>NaN</td>\n",
       "      <td>NaN</td>\n",
       "      <td>NaN</td>\n",
       "    </tr>\n",
       "    <tr>\n",
       "      <th>5057</th>\n",
       "      <td>22</td>\n",
       "      <td>1</td>\n",
       "      <td>Kings XI Punjab</td>\n",
       "      <td>Mumbai Indians</td>\n",
       "      <td>1</td>\n",
       "      <td>3</td>\n",
       "      <td>SE Marsh</td>\n",
       "      <td>HM Amla</td>\n",
       "      <td>HH Pandya</td>\n",
       "      <td>0</td>\n",
       "      <td>...</td>\n",
       "      <td>0</td>\n",
       "      <td>0</td>\n",
       "      <td>0</td>\n",
       "      <td>0</td>\n",
       "      <td>4</td>\n",
       "      <td>0</td>\n",
       "      <td>4</td>\n",
       "      <td>NaN</td>\n",
       "      <td>NaN</td>\n",
       "      <td>NaN</td>\n",
       "    </tr>\n",
       "    <tr>\n",
       "      <th>5058</th>\n",
       "      <td>22</td>\n",
       "      <td>1</td>\n",
       "      <td>Kings XI Punjab</td>\n",
       "      <td>Mumbai Indians</td>\n",
       "      <td>1</td>\n",
       "      <td>4</td>\n",
       "      <td>SE Marsh</td>\n",
       "      <td>HM Amla</td>\n",
       "      <td>HH Pandya</td>\n",
       "      <td>0</td>\n",
       "      <td>...</td>\n",
       "      <td>0</td>\n",
       "      <td>0</td>\n",
       "      <td>0</td>\n",
       "      <td>0</td>\n",
       "      <td>0</td>\n",
       "      <td>0</td>\n",
       "      <td>0</td>\n",
       "      <td>NaN</td>\n",
       "      <td>NaN</td>\n",
       "      <td>NaN</td>\n",
       "    </tr>\n",
       "    <tr>\n",
       "      <th>5059</th>\n",
       "      <td>22</td>\n",
       "      <td>1</td>\n",
       "      <td>Kings XI Punjab</td>\n",
       "      <td>Mumbai Indians</td>\n",
       "      <td>1</td>\n",
       "      <td>5</td>\n",
       "      <td>SE Marsh</td>\n",
       "      <td>HM Amla</td>\n",
       "      <td>HH Pandya</td>\n",
       "      <td>0</td>\n",
       "      <td>...</td>\n",
       "      <td>0</td>\n",
       "      <td>0</td>\n",
       "      <td>0</td>\n",
       "      <td>0</td>\n",
       "      <td>1</td>\n",
       "      <td>0</td>\n",
       "      <td>1</td>\n",
       "      <td>NaN</td>\n",
       "      <td>NaN</td>\n",
       "      <td>NaN</td>\n",
       "    </tr>\n",
       "  </tbody>\n",
       "</table>\n",
       "<p>5 rows × 21 columns</p>\n",
       "</div>"
      ],
      "text/plain": [
       "      match_id  inning     batting_team    bowling_team  over  ball   batsman  \\\n",
       "5055        22       1  Kings XI Punjab  Mumbai Indians     1     1   HM Amla   \n",
       "5056        22       1  Kings XI Punjab  Mumbai Indians     1     2  SE Marsh   \n",
       "5057        22       1  Kings XI Punjab  Mumbai Indians     1     3  SE Marsh   \n",
       "5058        22       1  Kings XI Punjab  Mumbai Indians     1     4  SE Marsh   \n",
       "5059        22       1  Kings XI Punjab  Mumbai Indians     1     5  SE Marsh   \n",
       "\n",
       "     non_striker     bowler  is_super_over  ...  bye_runs  legbye_runs  \\\n",
       "5055    SE Marsh  HH Pandya              0  ...         0            0   \n",
       "5056     HM Amla  HH Pandya              0  ...         0            0   \n",
       "5057     HM Amla  HH Pandya              0  ...         0            0   \n",
       "5058     HM Amla  HH Pandya              0  ...         0            0   \n",
       "5059     HM Amla  HH Pandya              0  ...         0            0   \n",
       "\n",
       "      noball_runs  penalty_runs  batsman_runs  extra_runs  total_runs  \\\n",
       "5055            0             0             1           0           1   \n",
       "5056            0             0             0           0           0   \n",
       "5057            0             0             4           0           4   \n",
       "5058            0             0             0           0           0   \n",
       "5059            0             0             1           0           1   \n",
       "\n",
       "      player_dismissed dismissal_kind fielder  \n",
       "5055               NaN            NaN     NaN  \n",
       "5056               NaN            NaN     NaN  \n",
       "5057               NaN            NaN     NaN  \n",
       "5058               NaN            NaN     NaN  \n",
       "5059               NaN            NaN     NaN  \n",
       "\n",
       "[5 rows x 21 columns]"
      ]
     },
     "execution_count": 49,
     "metadata": {},
     "output_type": "execute_result"
    }
   ],
   "source": [
    "mi_kxipdel.head()"
   ]
  },
  {
   "cell_type": "code",
   "execution_count": 50,
   "metadata": {},
   "outputs": [
    {
     "data": {
      "text/plain": [
       "Index(['match_id', 'inning', 'batting_team', 'bowling_team', 'over', 'ball',\n",
       "       'batsman', 'non_striker', 'bowler', 'is_super_over', 'wide_runs',\n",
       "       'bye_runs', 'legbye_runs', 'noball_runs', 'penalty_runs',\n",
       "       'batsman_runs', 'extra_runs', 'total_runs', 'player_dismissed',\n",
       "       'dismissal_kind', 'fielder'],\n",
       "      dtype='object')"
      ]
     },
     "execution_count": 50,
     "metadata": {},
     "output_type": "execute_result"
    }
   ],
   "source": [
    "mi_kxipdel.columns"
   ]
  },
  {
   "cell_type": "code",
   "execution_count": 51,
   "metadata": {},
   "outputs": [
    {
     "data": {
      "text/plain": [
       "SE Marsh         408\n",
       "KA Pollard       283\n",
       "RG Sharma        273\n",
       "SR Tendulkar     242\n",
       "AT Rayudu        211\n",
       "                ... \n",
       "SL Malinga         1\n",
       "R McLaren          1\n",
       "Shivam Sharma      1\n",
       "CRD Fernando       1\n",
       "BE Hendricks       1\n",
       "Name: batsman, Length: 122, dtype: int64"
      ]
     },
     "execution_count": 51,
     "metadata": {},
     "output_type": "execute_result"
    }
   ],
   "source": [
    "mi_kxipdel['batsman'].value_counts()"
   ]
  },
  {
   "cell_type": "code",
   "execution_count": 52,
   "metadata": {},
   "outputs": [
    {
     "data": {
      "text/plain": [
       "array(['HM Amla', 'SE Marsh', 'WP Saha', 'GJ Maxwell', 'MP Stoinis',\n",
       "       'AR Patel', 'PA Patel', 'JC Buttler', 'N Rana', 'HH Pandya',\n",
       "       'MJ Guptill', 'LMP Simmons', 'RG Sharma', 'KA Pollard',\n",
       "       'KV Sharma', 'Harbhajan Singh', 'K Goel', 'IK Pathan',\n",
       "       'KC Sangakkara', 'Yuvraj Singh', 'RR Sarwan', 'DPMD Jayawardene',\n",
       "       'S Sohal', 'B Lee', 'PP Chawla', 'S Sreesanth', 'VRV Singh',\n",
       "       'L Ronchi', 'ST Jayasuriya', 'RV Uthappa', 'DJ Bravo', 'SS Tiwary',\n",
       "       'SM Pollock', 'AM Nayar', 'MA Khote', 'DS Kulkarni', 'A Nehra',\n",
       "       'JR Hopes', 'LA Pomersbach', 'SR Tendulkar', 'DR Smith', 'PR Shah',\n",
       "       'SD Chitnis', 'CRD Fernando', 'VS Yeligati', 'RS Bopara',\n",
       "       'WA Mota', 'RR Powar', 'S Dhawan', 'JP Duminy', 'SM Katich',\n",
       "       'AM Rahane', 'MS Bisla', 'VS Malik', 'SJ Srivastava', 'AT Rayudu',\n",
       "       'R Sathish', 'R McLaren', 'Z Khan', 'AB Barath', 'RS Sodhi',\n",
       "       'DJ Jacobs', 'A Symonds', 'PC Valthaty', 'AC Gilchrist',\n",
       "       'DJ Hussey', 'KD Karthik', 'Bipul Sharma', 'RJ Harris', 'P Kumar',\n",
       "       'Mandeep Singh', 'AC Blizzard', 'TL Suman', 'MM Patel',\n",
       "       'JEC Franklin', 'NLTC Perera', 'N Saini', 'Azhar Mahmood',\n",
       "       'DA Miller', 'RJ Peterson', 'M Vohra', 'Gurkeerat Singh',\n",
       "       'MS Gony', 'P Awana', 'AP Tare', 'R Dhawan', 'NM Coulter-Nile',\n",
       "       'SL Malinga', 'CA Pujara', 'V Sehwag', 'GJ Bailey', 'MG Johnson',\n",
       "       'BR Dunk', 'CM Gautam', 'CJ Anderson', 'BE Hendricks',\n",
       "       'Shivam Sharma', 'MEK Hussey', 'M Vijay', 'AJ Finch', 'J Suchith',\n",
       "       'NS Naik', 'UBT Chand', 'KH Pandya', 'TG Southee',\n",
       "       'MJ McClenaghan', 'JJ Bumrah', 'KL Rahul', 'CH Gayle', 'KK Nair',\n",
       "       'MA Agarwal', 'AS Yadav', 'E Lewis', 'Ishan Kishan', 'BCJ Cutting',\n",
       "       'M Markande', 'MK Tiwary', 'Q de Kock', 'S Curran', 'SD Lad',\n",
       "       'A Joseph', 'RD Chahar'], dtype=object)"
      ]
     },
     "execution_count": 52,
     "metadata": {},
     "output_type": "execute_result"
    }
   ],
   "source": [
    "mi_kxipdel['batsman'].unique()"
   ]
  },
  {
   "cell_type": "markdown",
   "metadata": {},
   "source": [
    "# Leading Runscorer in IPL"
   ]
  },
  {
   "cell_type": "code",
   "execution_count": 53,
   "metadata": {},
   "outputs": [
    {
     "data": {
      "application/vnd.plotly.v1+json": {
       "config": {
        "linkText": "Export to plot.ly",
        "plotlyServerURL": "https://plot.ly",
        "showLink": true
       },
       "data": [
        {
         "marker": {
          "color": "rgba(255, 153, 51, 0.6)",
          "line": {
           "color": "rgba(255, 153, 51, 1.0)",
           "width": 1
          }
         },
         "name": "batsman",
         "orientation": "v",
         "text": "",
         "type": "bar",
         "x": [
          "V Kohli",
          "SK Raina",
          "RG Sharma",
          "S Dhawan",
          "G Gambhir",
          "RV Uthappa",
          "DA Warner",
          "MS Dhoni",
          "AM Rahane",
          "CH Gayle",
          "AB de Villiers",
          "KD Karthik",
          "AT Rayudu",
          "SR Watson",
          "PA Patel",
          "MK Pandey",
          "YK Pathan",
          "JH Kallis",
          "BB McCullum",
          "Yuvraj Singh"
         ],
         "y": [
          4211,
          4044,
          3816,
          3776,
          3524,
          3492,
          3398,
          3318,
          3215,
          3131,
          2977,
          2890,
          2681,
          2639,
          2444,
          2425,
          2334,
          2291,
          2272,
          2207
         ]
        }
       ],
       "layout": {
        "legend": {
         "bgcolor": "#F5F6F9",
         "font": {
          "color": "#4D5663"
         }
        },
        "paper_bgcolor": "#F5F6F9",
        "plot_bgcolor": "#F5F6F9",
        "template": {
         "data": {
          "bar": [
           {
            "error_x": {
             "color": "#2a3f5f"
            },
            "error_y": {
             "color": "#2a3f5f"
            },
            "marker": {
             "line": {
              "color": "#E5ECF6",
              "width": 0.5
             }
            },
            "type": "bar"
           }
          ],
          "barpolar": [
           {
            "marker": {
             "line": {
              "color": "#E5ECF6",
              "width": 0.5
             }
            },
            "type": "barpolar"
           }
          ],
          "carpet": [
           {
            "aaxis": {
             "endlinecolor": "#2a3f5f",
             "gridcolor": "white",
             "linecolor": "white",
             "minorgridcolor": "white",
             "startlinecolor": "#2a3f5f"
            },
            "baxis": {
             "endlinecolor": "#2a3f5f",
             "gridcolor": "white",
             "linecolor": "white",
             "minorgridcolor": "white",
             "startlinecolor": "#2a3f5f"
            },
            "type": "carpet"
           }
          ],
          "choropleth": [
           {
            "colorbar": {
             "outlinewidth": 0,
             "ticks": ""
            },
            "type": "choropleth"
           }
          ],
          "contour": [
           {
            "colorbar": {
             "outlinewidth": 0,
             "ticks": ""
            },
            "colorscale": [
             [
              0,
              "#0d0887"
             ],
             [
              0.1111111111111111,
              "#46039f"
             ],
             [
              0.2222222222222222,
              "#7201a8"
             ],
             [
              0.3333333333333333,
              "#9c179e"
             ],
             [
              0.4444444444444444,
              "#bd3786"
             ],
             [
              0.5555555555555556,
              "#d8576b"
             ],
             [
              0.6666666666666666,
              "#ed7953"
             ],
             [
              0.7777777777777778,
              "#fb9f3a"
             ],
             [
              0.8888888888888888,
              "#fdca26"
             ],
             [
              1,
              "#f0f921"
             ]
            ],
            "type": "contour"
           }
          ],
          "contourcarpet": [
           {
            "colorbar": {
             "outlinewidth": 0,
             "ticks": ""
            },
            "type": "contourcarpet"
           }
          ],
          "heatmap": [
           {
            "colorbar": {
             "outlinewidth": 0,
             "ticks": ""
            },
            "colorscale": [
             [
              0,
              "#0d0887"
             ],
             [
              0.1111111111111111,
              "#46039f"
             ],
             [
              0.2222222222222222,
              "#7201a8"
             ],
             [
              0.3333333333333333,
              "#9c179e"
             ],
             [
              0.4444444444444444,
              "#bd3786"
             ],
             [
              0.5555555555555556,
              "#d8576b"
             ],
             [
              0.6666666666666666,
              "#ed7953"
             ],
             [
              0.7777777777777778,
              "#fb9f3a"
             ],
             [
              0.8888888888888888,
              "#fdca26"
             ],
             [
              1,
              "#f0f921"
             ]
            ],
            "type": "heatmap"
           }
          ],
          "heatmapgl": [
           {
            "colorbar": {
             "outlinewidth": 0,
             "ticks": ""
            },
            "colorscale": [
             [
              0,
              "#0d0887"
             ],
             [
              0.1111111111111111,
              "#46039f"
             ],
             [
              0.2222222222222222,
              "#7201a8"
             ],
             [
              0.3333333333333333,
              "#9c179e"
             ],
             [
              0.4444444444444444,
              "#bd3786"
             ],
             [
              0.5555555555555556,
              "#d8576b"
             ],
             [
              0.6666666666666666,
              "#ed7953"
             ],
             [
              0.7777777777777778,
              "#fb9f3a"
             ],
             [
              0.8888888888888888,
              "#fdca26"
             ],
             [
              1,
              "#f0f921"
             ]
            ],
            "type": "heatmapgl"
           }
          ],
          "histogram": [
           {
            "marker": {
             "colorbar": {
              "outlinewidth": 0,
              "ticks": ""
             }
            },
            "type": "histogram"
           }
          ],
          "histogram2d": [
           {
            "colorbar": {
             "outlinewidth": 0,
             "ticks": ""
            },
            "colorscale": [
             [
              0,
              "#0d0887"
             ],
             [
              0.1111111111111111,
              "#46039f"
             ],
             [
              0.2222222222222222,
              "#7201a8"
             ],
             [
              0.3333333333333333,
              "#9c179e"
             ],
             [
              0.4444444444444444,
              "#bd3786"
             ],
             [
              0.5555555555555556,
              "#d8576b"
             ],
             [
              0.6666666666666666,
              "#ed7953"
             ],
             [
              0.7777777777777778,
              "#fb9f3a"
             ],
             [
              0.8888888888888888,
              "#fdca26"
             ],
             [
              1,
              "#f0f921"
             ]
            ],
            "type": "histogram2d"
           }
          ],
          "histogram2dcontour": [
           {
            "colorbar": {
             "outlinewidth": 0,
             "ticks": ""
            },
            "colorscale": [
             [
              0,
              "#0d0887"
             ],
             [
              0.1111111111111111,
              "#46039f"
             ],
             [
              0.2222222222222222,
              "#7201a8"
             ],
             [
              0.3333333333333333,
              "#9c179e"
             ],
             [
              0.4444444444444444,
              "#bd3786"
             ],
             [
              0.5555555555555556,
              "#d8576b"
             ],
             [
              0.6666666666666666,
              "#ed7953"
             ],
             [
              0.7777777777777778,
              "#fb9f3a"
             ],
             [
              0.8888888888888888,
              "#fdca26"
             ],
             [
              1,
              "#f0f921"
             ]
            ],
            "type": "histogram2dcontour"
           }
          ],
          "mesh3d": [
           {
            "colorbar": {
             "outlinewidth": 0,
             "ticks": ""
            },
            "type": "mesh3d"
           }
          ],
          "parcoords": [
           {
            "line": {
             "colorbar": {
              "outlinewidth": 0,
              "ticks": ""
             }
            },
            "type": "parcoords"
           }
          ],
          "pie": [
           {
            "automargin": true,
            "type": "pie"
           }
          ],
          "scatter": [
           {
            "marker": {
             "colorbar": {
              "outlinewidth": 0,
              "ticks": ""
             }
            },
            "type": "scatter"
           }
          ],
          "scatter3d": [
           {
            "line": {
             "colorbar": {
              "outlinewidth": 0,
              "ticks": ""
             }
            },
            "marker": {
             "colorbar": {
              "outlinewidth": 0,
              "ticks": ""
             }
            },
            "type": "scatter3d"
           }
          ],
          "scattercarpet": [
           {
            "marker": {
             "colorbar": {
              "outlinewidth": 0,
              "ticks": ""
             }
            },
            "type": "scattercarpet"
           }
          ],
          "scattergeo": [
           {
            "marker": {
             "colorbar": {
              "outlinewidth": 0,
              "ticks": ""
             }
            },
            "type": "scattergeo"
           }
          ],
          "scattergl": [
           {
            "marker": {
             "colorbar": {
              "outlinewidth": 0,
              "ticks": ""
             }
            },
            "type": "scattergl"
           }
          ],
          "scattermapbox": [
           {
            "marker": {
             "colorbar": {
              "outlinewidth": 0,
              "ticks": ""
             }
            },
            "type": "scattermapbox"
           }
          ],
          "scatterpolar": [
           {
            "marker": {
             "colorbar": {
              "outlinewidth": 0,
              "ticks": ""
             }
            },
            "type": "scatterpolar"
           }
          ],
          "scatterpolargl": [
           {
            "marker": {
             "colorbar": {
              "outlinewidth": 0,
              "ticks": ""
             }
            },
            "type": "scatterpolargl"
           }
          ],
          "scatterternary": [
           {
            "marker": {
             "colorbar": {
              "outlinewidth": 0,
              "ticks": ""
             }
            },
            "type": "scatterternary"
           }
          ],
          "surface": [
           {
            "colorbar": {
             "outlinewidth": 0,
             "ticks": ""
            },
            "colorscale": [
             [
              0,
              "#0d0887"
             ],
             [
              0.1111111111111111,
              "#46039f"
             ],
             [
              0.2222222222222222,
              "#7201a8"
             ],
             [
              0.3333333333333333,
              "#9c179e"
             ],
             [
              0.4444444444444444,
              "#bd3786"
             ],
             [
              0.5555555555555556,
              "#d8576b"
             ],
             [
              0.6666666666666666,
              "#ed7953"
             ],
             [
              0.7777777777777778,
              "#fb9f3a"
             ],
             [
              0.8888888888888888,
              "#fdca26"
             ],
             [
              1,
              "#f0f921"
             ]
            ],
            "type": "surface"
           }
          ],
          "table": [
           {
            "cells": {
             "fill": {
              "color": "#EBF0F8"
             },
             "line": {
              "color": "white"
             }
            },
            "header": {
             "fill": {
              "color": "#C8D4E3"
             },
             "line": {
              "color": "white"
             }
            },
            "type": "table"
           }
          ]
         },
         "layout": {
          "annotationdefaults": {
           "arrowcolor": "#2a3f5f",
           "arrowhead": 0,
           "arrowwidth": 1
          },
          "coloraxis": {
           "colorbar": {
            "outlinewidth": 0,
            "ticks": ""
           }
          },
          "colorscale": {
           "diverging": [
            [
             0,
             "#8e0152"
            ],
            [
             0.1,
             "#c51b7d"
            ],
            [
             0.2,
             "#de77ae"
            ],
            [
             0.3,
             "#f1b6da"
            ],
            [
             0.4,
             "#fde0ef"
            ],
            [
             0.5,
             "#f7f7f7"
            ],
            [
             0.6,
             "#e6f5d0"
            ],
            [
             0.7,
             "#b8e186"
            ],
            [
             0.8,
             "#7fbc41"
            ],
            [
             0.9,
             "#4d9221"
            ],
            [
             1,
             "#276419"
            ]
           ],
           "sequential": [
            [
             0,
             "#0d0887"
            ],
            [
             0.1111111111111111,
             "#46039f"
            ],
            [
             0.2222222222222222,
             "#7201a8"
            ],
            [
             0.3333333333333333,
             "#9c179e"
            ],
            [
             0.4444444444444444,
             "#bd3786"
            ],
            [
             0.5555555555555556,
             "#d8576b"
            ],
            [
             0.6666666666666666,
             "#ed7953"
            ],
            [
             0.7777777777777778,
             "#fb9f3a"
            ],
            [
             0.8888888888888888,
             "#fdca26"
            ],
            [
             1,
             "#f0f921"
            ]
           ],
           "sequentialminus": [
            [
             0,
             "#0d0887"
            ],
            [
             0.1111111111111111,
             "#46039f"
            ],
            [
             0.2222222222222222,
             "#7201a8"
            ],
            [
             0.3333333333333333,
             "#9c179e"
            ],
            [
             0.4444444444444444,
             "#bd3786"
            ],
            [
             0.5555555555555556,
             "#d8576b"
            ],
            [
             0.6666666666666666,
             "#ed7953"
            ],
            [
             0.7777777777777778,
             "#fb9f3a"
            ],
            [
             0.8888888888888888,
             "#fdca26"
            ],
            [
             1,
             "#f0f921"
            ]
           ]
          },
          "colorway": [
           "#636efa",
           "#EF553B",
           "#00cc96",
           "#ab63fa",
           "#FFA15A",
           "#19d3f3",
           "#FF6692",
           "#B6E880",
           "#FF97FF",
           "#FECB52"
          ],
          "font": {
           "color": "#2a3f5f"
          },
          "geo": {
           "bgcolor": "white",
           "lakecolor": "white",
           "landcolor": "#E5ECF6",
           "showlakes": true,
           "showland": true,
           "subunitcolor": "white"
          },
          "hoverlabel": {
           "align": "left"
          },
          "hovermode": "closest",
          "mapbox": {
           "style": "light"
          },
          "paper_bgcolor": "white",
          "plot_bgcolor": "#E5ECF6",
          "polar": {
           "angularaxis": {
            "gridcolor": "white",
            "linecolor": "white",
            "ticks": ""
           },
           "bgcolor": "#E5ECF6",
           "radialaxis": {
            "gridcolor": "white",
            "linecolor": "white",
            "ticks": ""
           }
          },
          "scene": {
           "xaxis": {
            "backgroundcolor": "#E5ECF6",
            "gridcolor": "white",
            "gridwidth": 2,
            "linecolor": "white",
            "showbackground": true,
            "ticks": "",
            "zerolinecolor": "white"
           },
           "yaxis": {
            "backgroundcolor": "#E5ECF6",
            "gridcolor": "white",
            "gridwidth": 2,
            "linecolor": "white",
            "showbackground": true,
            "ticks": "",
            "zerolinecolor": "white"
           },
           "zaxis": {
            "backgroundcolor": "#E5ECF6",
            "gridcolor": "white",
            "gridwidth": 2,
            "linecolor": "white",
            "showbackground": true,
            "ticks": "",
            "zerolinecolor": "white"
           }
          },
          "shapedefaults": {
           "line": {
            "color": "#2a3f5f"
           }
          },
          "ternary": {
           "aaxis": {
            "gridcolor": "white",
            "linecolor": "white",
            "ticks": ""
           },
           "baxis": {
            "gridcolor": "white",
            "linecolor": "white",
            "ticks": ""
           },
           "bgcolor": "#E5ECF6",
           "caxis": {
            "gridcolor": "white",
            "linecolor": "white",
            "ticks": ""
           }
          },
          "title": {
           "x": 0.05
          },
          "xaxis": {
           "automargin": true,
           "gridcolor": "white",
           "linecolor": "white",
           "ticks": "",
           "title": {
            "standoff": 15
           },
           "zerolinecolor": "white",
           "zerolinewidth": 2
          },
          "yaxis": {
           "automargin": true,
           "gridcolor": "white",
           "linecolor": "white",
           "ticks": "",
           "title": {
            "standoff": 15
           },
           "zerolinecolor": "white",
           "zerolinewidth": 2
          }
         }
        },
        "title": {
         "font": {
          "color": "#4D5663"
         }
        },
        "xaxis": {
         "gridcolor": "#E1E5ED",
         "showgrid": true,
         "tickfont": {
          "color": "#4D5663"
         },
         "title": {
          "font": {
           "color": "#4D5663"
          },
          "text": ""
         },
         "zerolinecolor": "#E1E5ED"
        },
        "yaxis": {
         "gridcolor": "#E1E5ED",
         "showgrid": true,
         "tickfont": {
          "color": "#4D5663"
         },
         "title": {
          "font": {
           "color": "#4D5663"
          },
          "text": ""
         },
         "zerolinecolor": "#E1E5ED"
        }
       }
      },
      "text/html": [
       "<div>\n",
       "        \n",
       "        \n",
       "            <div id=\"773bbd06-6129-4ba4-9a84-4be092a91899\" class=\"plotly-graph-div\" style=\"height:525px; width:100%;\"></div>\n",
       "            <script type=\"text/javascript\">\n",
       "                require([\"plotly\"], function(Plotly) {\n",
       "                    window.PLOTLYENV=window.PLOTLYENV || {};\n",
       "                    window.PLOTLYENV.BASE_URL='https://plot.ly';\n",
       "                    \n",
       "                if (document.getElementById(\"773bbd06-6129-4ba4-9a84-4be092a91899\")) {\n",
       "                    Plotly.newPlot(\n",
       "                        '773bbd06-6129-4ba4-9a84-4be092a91899',\n",
       "                        [{\"marker\": {\"color\": \"rgba(255, 153, 51, 0.6)\", \"line\": {\"color\": \"rgba(255, 153, 51, 1.0)\", \"width\": 1}}, \"name\": \"batsman\", \"orientation\": \"v\", \"text\": \"\", \"type\": \"bar\", \"x\": [\"V Kohli\", \"SK Raina\", \"RG Sharma\", \"S Dhawan\", \"G Gambhir\", \"RV Uthappa\", \"DA Warner\", \"MS Dhoni\", \"AM Rahane\", \"CH Gayle\", \"AB de Villiers\", \"KD Karthik\", \"AT Rayudu\", \"SR Watson\", \"PA Patel\", \"MK Pandey\", \"YK Pathan\", \"JH Kallis\", \"BB McCullum\", \"Yuvraj Singh\"], \"y\": [4211, 4044, 3816, 3776, 3524, 3492, 3398, 3318, 3215, 3131, 2977, 2890, 2681, 2639, 2444, 2425, 2334, 2291, 2272, 2207]}],\n",
       "                        {\"legend\": {\"bgcolor\": \"#F5F6F9\", \"font\": {\"color\": \"#4D5663\"}}, \"paper_bgcolor\": \"#F5F6F9\", \"plot_bgcolor\": \"#F5F6F9\", \"template\": {\"data\": {\"bar\": [{\"error_x\": {\"color\": \"#2a3f5f\"}, \"error_y\": {\"color\": \"#2a3f5f\"}, \"marker\": {\"line\": {\"color\": \"#E5ECF6\", \"width\": 0.5}}, \"type\": \"bar\"}], \"barpolar\": [{\"marker\": {\"line\": {\"color\": \"#E5ECF6\", \"width\": 0.5}}, \"type\": \"barpolar\"}], \"carpet\": [{\"aaxis\": {\"endlinecolor\": \"#2a3f5f\", \"gridcolor\": \"white\", \"linecolor\": \"white\", \"minorgridcolor\": \"white\", \"startlinecolor\": \"#2a3f5f\"}, \"baxis\": {\"endlinecolor\": \"#2a3f5f\", \"gridcolor\": \"white\", \"linecolor\": \"white\", \"minorgridcolor\": \"white\", \"startlinecolor\": \"#2a3f5f\"}, \"type\": \"carpet\"}], \"choropleth\": [{\"colorbar\": {\"outlinewidth\": 0, \"ticks\": \"\"}, \"type\": \"choropleth\"}], \"contour\": [{\"colorbar\": {\"outlinewidth\": 0, \"ticks\": \"\"}, \"colorscale\": [[0.0, \"#0d0887\"], [0.1111111111111111, \"#46039f\"], [0.2222222222222222, \"#7201a8\"], [0.3333333333333333, \"#9c179e\"], [0.4444444444444444, \"#bd3786\"], [0.5555555555555556, \"#d8576b\"], [0.6666666666666666, \"#ed7953\"], [0.7777777777777778, \"#fb9f3a\"], [0.8888888888888888, \"#fdca26\"], [1.0, \"#f0f921\"]], \"type\": \"contour\"}], \"contourcarpet\": [{\"colorbar\": {\"outlinewidth\": 0, \"ticks\": \"\"}, \"type\": \"contourcarpet\"}], \"heatmap\": [{\"colorbar\": {\"outlinewidth\": 0, \"ticks\": \"\"}, \"colorscale\": [[0.0, \"#0d0887\"], [0.1111111111111111, \"#46039f\"], [0.2222222222222222, \"#7201a8\"], [0.3333333333333333, \"#9c179e\"], [0.4444444444444444, \"#bd3786\"], [0.5555555555555556, \"#d8576b\"], [0.6666666666666666, \"#ed7953\"], [0.7777777777777778, \"#fb9f3a\"], [0.8888888888888888, \"#fdca26\"], [1.0, \"#f0f921\"]], \"type\": \"heatmap\"}], \"heatmapgl\": [{\"colorbar\": {\"outlinewidth\": 0, \"ticks\": \"\"}, \"colorscale\": [[0.0, \"#0d0887\"], [0.1111111111111111, \"#46039f\"], [0.2222222222222222, \"#7201a8\"], [0.3333333333333333, \"#9c179e\"], [0.4444444444444444, \"#bd3786\"], [0.5555555555555556, \"#d8576b\"], [0.6666666666666666, \"#ed7953\"], [0.7777777777777778, \"#fb9f3a\"], [0.8888888888888888, \"#fdca26\"], [1.0, \"#f0f921\"]], \"type\": \"heatmapgl\"}], \"histogram\": [{\"marker\": {\"colorbar\": {\"outlinewidth\": 0, \"ticks\": \"\"}}, \"type\": \"histogram\"}], \"histogram2d\": [{\"colorbar\": {\"outlinewidth\": 0, \"ticks\": \"\"}, \"colorscale\": [[0.0, \"#0d0887\"], [0.1111111111111111, \"#46039f\"], [0.2222222222222222, \"#7201a8\"], [0.3333333333333333, \"#9c179e\"], [0.4444444444444444, \"#bd3786\"], [0.5555555555555556, \"#d8576b\"], [0.6666666666666666, \"#ed7953\"], [0.7777777777777778, \"#fb9f3a\"], [0.8888888888888888, \"#fdca26\"], [1.0, \"#f0f921\"]], \"type\": \"histogram2d\"}], \"histogram2dcontour\": [{\"colorbar\": {\"outlinewidth\": 0, \"ticks\": \"\"}, \"colorscale\": [[0.0, \"#0d0887\"], [0.1111111111111111, \"#46039f\"], [0.2222222222222222, \"#7201a8\"], [0.3333333333333333, \"#9c179e\"], [0.4444444444444444, \"#bd3786\"], [0.5555555555555556, \"#d8576b\"], [0.6666666666666666, \"#ed7953\"], [0.7777777777777778, \"#fb9f3a\"], [0.8888888888888888, \"#fdca26\"], [1.0, \"#f0f921\"]], \"type\": \"histogram2dcontour\"}], \"mesh3d\": [{\"colorbar\": {\"outlinewidth\": 0, \"ticks\": \"\"}, \"type\": \"mesh3d\"}], \"parcoords\": [{\"line\": {\"colorbar\": {\"outlinewidth\": 0, \"ticks\": \"\"}}, \"type\": \"parcoords\"}], \"pie\": [{\"automargin\": true, \"type\": \"pie\"}], \"scatter\": [{\"marker\": {\"colorbar\": {\"outlinewidth\": 0, \"ticks\": \"\"}}, \"type\": \"scatter\"}], \"scatter3d\": [{\"line\": {\"colorbar\": {\"outlinewidth\": 0, \"ticks\": \"\"}}, \"marker\": {\"colorbar\": {\"outlinewidth\": 0, \"ticks\": \"\"}}, \"type\": \"scatter3d\"}], \"scattercarpet\": [{\"marker\": {\"colorbar\": {\"outlinewidth\": 0, \"ticks\": \"\"}}, \"type\": \"scattercarpet\"}], \"scattergeo\": [{\"marker\": {\"colorbar\": {\"outlinewidth\": 0, \"ticks\": \"\"}}, \"type\": \"scattergeo\"}], \"scattergl\": [{\"marker\": {\"colorbar\": {\"outlinewidth\": 0, \"ticks\": \"\"}}, \"type\": \"scattergl\"}], \"scattermapbox\": [{\"marker\": {\"colorbar\": {\"outlinewidth\": 0, \"ticks\": \"\"}}, \"type\": \"scattermapbox\"}], \"scatterpolar\": [{\"marker\": {\"colorbar\": {\"outlinewidth\": 0, \"ticks\": \"\"}}, \"type\": \"scatterpolar\"}], \"scatterpolargl\": [{\"marker\": {\"colorbar\": {\"outlinewidth\": 0, \"ticks\": \"\"}}, \"type\": \"scatterpolargl\"}], \"scatterternary\": [{\"marker\": {\"colorbar\": {\"outlinewidth\": 0, \"ticks\": \"\"}}, \"type\": \"scatterternary\"}], \"surface\": [{\"colorbar\": {\"outlinewidth\": 0, \"ticks\": \"\"}, \"colorscale\": [[0.0, \"#0d0887\"], [0.1111111111111111, \"#46039f\"], [0.2222222222222222, \"#7201a8\"], [0.3333333333333333, \"#9c179e\"], [0.4444444444444444, \"#bd3786\"], [0.5555555555555556, \"#d8576b\"], [0.6666666666666666, \"#ed7953\"], [0.7777777777777778, \"#fb9f3a\"], [0.8888888888888888, \"#fdca26\"], [1.0, \"#f0f921\"]], \"type\": \"surface\"}], \"table\": [{\"cells\": {\"fill\": {\"color\": \"#EBF0F8\"}, \"line\": {\"color\": \"white\"}}, \"header\": {\"fill\": {\"color\": \"#C8D4E3\"}, \"line\": {\"color\": \"white\"}}, \"type\": \"table\"}]}, \"layout\": {\"annotationdefaults\": {\"arrowcolor\": \"#2a3f5f\", \"arrowhead\": 0, \"arrowwidth\": 1}, \"coloraxis\": {\"colorbar\": {\"outlinewidth\": 0, \"ticks\": \"\"}}, \"colorscale\": {\"diverging\": [[0, \"#8e0152\"], [0.1, \"#c51b7d\"], [0.2, \"#de77ae\"], [0.3, \"#f1b6da\"], [0.4, \"#fde0ef\"], [0.5, \"#f7f7f7\"], [0.6, \"#e6f5d0\"], [0.7, \"#b8e186\"], [0.8, \"#7fbc41\"], [0.9, \"#4d9221\"], [1, \"#276419\"]], \"sequential\": [[0.0, \"#0d0887\"], [0.1111111111111111, \"#46039f\"], [0.2222222222222222, \"#7201a8\"], [0.3333333333333333, \"#9c179e\"], [0.4444444444444444, \"#bd3786\"], [0.5555555555555556, \"#d8576b\"], [0.6666666666666666, \"#ed7953\"], [0.7777777777777778, \"#fb9f3a\"], [0.8888888888888888, \"#fdca26\"], [1.0, \"#f0f921\"]], \"sequentialminus\": [[0.0, \"#0d0887\"], [0.1111111111111111, \"#46039f\"], [0.2222222222222222, \"#7201a8\"], [0.3333333333333333, \"#9c179e\"], [0.4444444444444444, \"#bd3786\"], [0.5555555555555556, \"#d8576b\"], [0.6666666666666666, \"#ed7953\"], [0.7777777777777778, \"#fb9f3a\"], [0.8888888888888888, \"#fdca26\"], [1.0, \"#f0f921\"]]}, \"colorway\": [\"#636efa\", \"#EF553B\", \"#00cc96\", \"#ab63fa\", \"#FFA15A\", \"#19d3f3\", \"#FF6692\", \"#B6E880\", \"#FF97FF\", \"#FECB52\"], \"font\": {\"color\": \"#2a3f5f\"}, \"geo\": {\"bgcolor\": \"white\", \"lakecolor\": \"white\", \"landcolor\": \"#E5ECF6\", \"showlakes\": true, \"showland\": true, \"subunitcolor\": \"white\"}, \"hoverlabel\": {\"align\": \"left\"}, \"hovermode\": \"closest\", \"mapbox\": {\"style\": \"light\"}, \"paper_bgcolor\": \"white\", \"plot_bgcolor\": \"#E5ECF6\", \"polar\": {\"angularaxis\": {\"gridcolor\": \"white\", \"linecolor\": \"white\", \"ticks\": \"\"}, \"bgcolor\": \"#E5ECF6\", \"radialaxis\": {\"gridcolor\": \"white\", \"linecolor\": \"white\", \"ticks\": \"\"}}, \"scene\": {\"xaxis\": {\"backgroundcolor\": \"#E5ECF6\", \"gridcolor\": \"white\", \"gridwidth\": 2, \"linecolor\": \"white\", \"showbackground\": true, \"ticks\": \"\", \"zerolinecolor\": \"white\"}, \"yaxis\": {\"backgroundcolor\": \"#E5ECF6\", \"gridcolor\": \"white\", \"gridwidth\": 2, \"linecolor\": \"white\", \"showbackground\": true, \"ticks\": \"\", \"zerolinecolor\": \"white\"}, \"zaxis\": {\"backgroundcolor\": \"#E5ECF6\", \"gridcolor\": \"white\", \"gridwidth\": 2, \"linecolor\": \"white\", \"showbackground\": true, \"ticks\": \"\", \"zerolinecolor\": \"white\"}}, \"shapedefaults\": {\"line\": {\"color\": \"#2a3f5f\"}}, \"ternary\": {\"aaxis\": {\"gridcolor\": \"white\", \"linecolor\": \"white\", \"ticks\": \"\"}, \"baxis\": {\"gridcolor\": \"white\", \"linecolor\": \"white\", \"ticks\": \"\"}, \"bgcolor\": \"#E5ECF6\", \"caxis\": {\"gridcolor\": \"white\", \"linecolor\": \"white\", \"ticks\": \"\"}}, \"title\": {\"x\": 0.05}, \"xaxis\": {\"automargin\": true, \"gridcolor\": \"white\", \"linecolor\": \"white\", \"ticks\": \"\", \"title\": {\"standoff\": 15}, \"zerolinecolor\": \"white\", \"zerolinewidth\": 2}, \"yaxis\": {\"automargin\": true, \"gridcolor\": \"white\", \"linecolor\": \"white\", \"ticks\": \"\", \"title\": {\"standoff\": 15}, \"zerolinecolor\": \"white\", \"zerolinewidth\": 2}}}, \"title\": {\"font\": {\"color\": \"#4D5663\"}}, \"xaxis\": {\"gridcolor\": \"#E1E5ED\", \"showgrid\": true, \"tickfont\": {\"color\": \"#4D5663\"}, \"title\": {\"font\": {\"color\": \"#4D5663\"}, \"text\": \"\"}, \"zerolinecolor\": \"#E1E5ED\"}, \"yaxis\": {\"gridcolor\": \"#E1E5ED\", \"showgrid\": true, \"tickfont\": {\"color\": \"#4D5663\"}, \"title\": {\"font\": {\"color\": \"#4D5663\"}, \"text\": \"\"}, \"zerolinecolor\": \"#E1E5ED\"}},\n",
       "                        {\"showLink\": true, \"linkText\": \"Export to plot.ly\", \"plotlyServerURL\": \"https://plot.ly\", \"responsive\": true}\n",
       "                    ).then(function(){\n",
       "                            \n",
       "var gd = document.getElementById('773bbd06-6129-4ba4-9a84-4be092a91899');\n",
       "var x = new MutationObserver(function (mutations, observer) {{\n",
       "        var display = window.getComputedStyle(gd).display;\n",
       "        if (!display || display === 'none') {{\n",
       "            console.log([gd, 'removed!']);\n",
       "            Plotly.purge(gd);\n",
       "            observer.disconnect();\n",
       "        }}\n",
       "}});\n",
       "\n",
       "// Listen for the removal of the full notebook cells\n",
       "var notebookContainer = gd.closest('#notebook-container');\n",
       "if (notebookContainer) {{\n",
       "    x.observe(notebookContainer, {childList: true});\n",
       "}}\n",
       "\n",
       "// Listen for the clearing of the current output cell\n",
       "var outputEl = gd.closest('.output');\n",
       "if (outputEl) {{\n",
       "    x.observe(outputEl, {childList: true});\n",
       "}}\n",
       "\n",
       "                        })\n",
       "                };\n",
       "                });\n",
       "            </script>\n",
       "        </div>"
      ]
     },
     "metadata": {},
     "output_type": "display_data"
    }
   ],
   "source": [
    "delivers['batsman'].value_counts()[:20].iplot(kind='bar')"
   ]
  },
  {
   "cell_type": "markdown",
   "metadata": {},
   "source": [
    "# Leading Run scorer in MI vs KXIP head to head"
   ]
  },
  {
   "cell_type": "code",
   "execution_count": 54,
   "metadata": {},
   "outputs": [
    {
     "data": {
      "application/vnd.plotly.v1+json": {
       "config": {
        "linkText": "Export to plot.ly",
        "plotlyServerURL": "https://plot.ly",
        "showLink": true
       },
       "data": [
        {
         "marker": {
          "color": "rgba(255, 153, 51, 0.6)",
          "line": {
           "color": "rgba(255, 153, 51, 1.0)",
           "width": 1
          }
         },
         "name": "batsman",
         "orientation": "v",
         "text": "",
         "type": "bar",
         "x": [
          "SE Marsh",
          "KA Pollard",
          "RG Sharma",
          "SR Tendulkar",
          "AT Rayudu",
          "KL Rahul",
          "WP Saha",
          "DA Miller",
          "KC Sangakkara",
          "LMP Simmons",
          "PA Patel",
          "M Vijay",
          "GJ Maxwell",
          "CH Gayle",
          "Yuvraj Singh",
          "DJ Bravo",
          "GJ Bailey",
          "JP Duminy",
          "DJ Hussey",
          "HH Pandya",
          "AS Yadav",
          "N Rana",
          "KD Karthik",
          "Harbhajan Singh",
          "JEC Franklin",
          "HM Amla",
          "Azhar Mahmood",
          "Q de Kock",
          "JC Buttler",
          "K Goel",
          "Mandeep Singh",
          "LA Pomersbach",
          "KH Pandya",
          "DPMD Jayawardene",
          "M Vohra",
          "PC Valthaty",
          "S Dhawan",
          "AJ Finch",
          "DR Smith",
          "AR Patel"
         ],
         "y": [
          408,
          283,
          273,
          242,
          211,
          208,
          183,
          177,
          167,
          154,
          140,
          132,
          129,
          118,
          115,
          110,
          95,
          94,
          89,
          81,
          78,
          77,
          75,
          75,
          74,
          68,
          67,
          63,
          62,
          60,
          59,
          59,
          58,
          56,
          56,
          54,
          51,
          49,
          49,
          48
         ]
        }
       ],
       "layout": {
        "legend": {
         "bgcolor": "#F5F6F9",
         "font": {
          "color": "#4D5663"
         }
        },
        "paper_bgcolor": "#F5F6F9",
        "plot_bgcolor": "#F5F6F9",
        "template": {
         "data": {
          "bar": [
           {
            "error_x": {
             "color": "#2a3f5f"
            },
            "error_y": {
             "color": "#2a3f5f"
            },
            "marker": {
             "line": {
              "color": "#E5ECF6",
              "width": 0.5
             }
            },
            "type": "bar"
           }
          ],
          "barpolar": [
           {
            "marker": {
             "line": {
              "color": "#E5ECF6",
              "width": 0.5
             }
            },
            "type": "barpolar"
           }
          ],
          "carpet": [
           {
            "aaxis": {
             "endlinecolor": "#2a3f5f",
             "gridcolor": "white",
             "linecolor": "white",
             "minorgridcolor": "white",
             "startlinecolor": "#2a3f5f"
            },
            "baxis": {
             "endlinecolor": "#2a3f5f",
             "gridcolor": "white",
             "linecolor": "white",
             "minorgridcolor": "white",
             "startlinecolor": "#2a3f5f"
            },
            "type": "carpet"
           }
          ],
          "choropleth": [
           {
            "colorbar": {
             "outlinewidth": 0,
             "ticks": ""
            },
            "type": "choropleth"
           }
          ],
          "contour": [
           {
            "colorbar": {
             "outlinewidth": 0,
             "ticks": ""
            },
            "colorscale": [
             [
              0,
              "#0d0887"
             ],
             [
              0.1111111111111111,
              "#46039f"
             ],
             [
              0.2222222222222222,
              "#7201a8"
             ],
             [
              0.3333333333333333,
              "#9c179e"
             ],
             [
              0.4444444444444444,
              "#bd3786"
             ],
             [
              0.5555555555555556,
              "#d8576b"
             ],
             [
              0.6666666666666666,
              "#ed7953"
             ],
             [
              0.7777777777777778,
              "#fb9f3a"
             ],
             [
              0.8888888888888888,
              "#fdca26"
             ],
             [
              1,
              "#f0f921"
             ]
            ],
            "type": "contour"
           }
          ],
          "contourcarpet": [
           {
            "colorbar": {
             "outlinewidth": 0,
             "ticks": ""
            },
            "type": "contourcarpet"
           }
          ],
          "heatmap": [
           {
            "colorbar": {
             "outlinewidth": 0,
             "ticks": ""
            },
            "colorscale": [
             [
              0,
              "#0d0887"
             ],
             [
              0.1111111111111111,
              "#46039f"
             ],
             [
              0.2222222222222222,
              "#7201a8"
             ],
             [
              0.3333333333333333,
              "#9c179e"
             ],
             [
              0.4444444444444444,
              "#bd3786"
             ],
             [
              0.5555555555555556,
              "#d8576b"
             ],
             [
              0.6666666666666666,
              "#ed7953"
             ],
             [
              0.7777777777777778,
              "#fb9f3a"
             ],
             [
              0.8888888888888888,
              "#fdca26"
             ],
             [
              1,
              "#f0f921"
             ]
            ],
            "type": "heatmap"
           }
          ],
          "heatmapgl": [
           {
            "colorbar": {
             "outlinewidth": 0,
             "ticks": ""
            },
            "colorscale": [
             [
              0,
              "#0d0887"
             ],
             [
              0.1111111111111111,
              "#46039f"
             ],
             [
              0.2222222222222222,
              "#7201a8"
             ],
             [
              0.3333333333333333,
              "#9c179e"
             ],
             [
              0.4444444444444444,
              "#bd3786"
             ],
             [
              0.5555555555555556,
              "#d8576b"
             ],
             [
              0.6666666666666666,
              "#ed7953"
             ],
             [
              0.7777777777777778,
              "#fb9f3a"
             ],
             [
              0.8888888888888888,
              "#fdca26"
             ],
             [
              1,
              "#f0f921"
             ]
            ],
            "type": "heatmapgl"
           }
          ],
          "histogram": [
           {
            "marker": {
             "colorbar": {
              "outlinewidth": 0,
              "ticks": ""
             }
            },
            "type": "histogram"
           }
          ],
          "histogram2d": [
           {
            "colorbar": {
             "outlinewidth": 0,
             "ticks": ""
            },
            "colorscale": [
             [
              0,
              "#0d0887"
             ],
             [
              0.1111111111111111,
              "#46039f"
             ],
             [
              0.2222222222222222,
              "#7201a8"
             ],
             [
              0.3333333333333333,
              "#9c179e"
             ],
             [
              0.4444444444444444,
              "#bd3786"
             ],
             [
              0.5555555555555556,
              "#d8576b"
             ],
             [
              0.6666666666666666,
              "#ed7953"
             ],
             [
              0.7777777777777778,
              "#fb9f3a"
             ],
             [
              0.8888888888888888,
              "#fdca26"
             ],
             [
              1,
              "#f0f921"
             ]
            ],
            "type": "histogram2d"
           }
          ],
          "histogram2dcontour": [
           {
            "colorbar": {
             "outlinewidth": 0,
             "ticks": ""
            },
            "colorscale": [
             [
              0,
              "#0d0887"
             ],
             [
              0.1111111111111111,
              "#46039f"
             ],
             [
              0.2222222222222222,
              "#7201a8"
             ],
             [
              0.3333333333333333,
              "#9c179e"
             ],
             [
              0.4444444444444444,
              "#bd3786"
             ],
             [
              0.5555555555555556,
              "#d8576b"
             ],
             [
              0.6666666666666666,
              "#ed7953"
             ],
             [
              0.7777777777777778,
              "#fb9f3a"
             ],
             [
              0.8888888888888888,
              "#fdca26"
             ],
             [
              1,
              "#f0f921"
             ]
            ],
            "type": "histogram2dcontour"
           }
          ],
          "mesh3d": [
           {
            "colorbar": {
             "outlinewidth": 0,
             "ticks": ""
            },
            "type": "mesh3d"
           }
          ],
          "parcoords": [
           {
            "line": {
             "colorbar": {
              "outlinewidth": 0,
              "ticks": ""
             }
            },
            "type": "parcoords"
           }
          ],
          "pie": [
           {
            "automargin": true,
            "type": "pie"
           }
          ],
          "scatter": [
           {
            "marker": {
             "colorbar": {
              "outlinewidth": 0,
              "ticks": ""
             }
            },
            "type": "scatter"
           }
          ],
          "scatter3d": [
           {
            "line": {
             "colorbar": {
              "outlinewidth": 0,
              "ticks": ""
             }
            },
            "marker": {
             "colorbar": {
              "outlinewidth": 0,
              "ticks": ""
             }
            },
            "type": "scatter3d"
           }
          ],
          "scattercarpet": [
           {
            "marker": {
             "colorbar": {
              "outlinewidth": 0,
              "ticks": ""
             }
            },
            "type": "scattercarpet"
           }
          ],
          "scattergeo": [
           {
            "marker": {
             "colorbar": {
              "outlinewidth": 0,
              "ticks": ""
             }
            },
            "type": "scattergeo"
           }
          ],
          "scattergl": [
           {
            "marker": {
             "colorbar": {
              "outlinewidth": 0,
              "ticks": ""
             }
            },
            "type": "scattergl"
           }
          ],
          "scattermapbox": [
           {
            "marker": {
             "colorbar": {
              "outlinewidth": 0,
              "ticks": ""
             }
            },
            "type": "scattermapbox"
           }
          ],
          "scatterpolar": [
           {
            "marker": {
             "colorbar": {
              "outlinewidth": 0,
              "ticks": ""
             }
            },
            "type": "scatterpolar"
           }
          ],
          "scatterpolargl": [
           {
            "marker": {
             "colorbar": {
              "outlinewidth": 0,
              "ticks": ""
             }
            },
            "type": "scatterpolargl"
           }
          ],
          "scatterternary": [
           {
            "marker": {
             "colorbar": {
              "outlinewidth": 0,
              "ticks": ""
             }
            },
            "type": "scatterternary"
           }
          ],
          "surface": [
           {
            "colorbar": {
             "outlinewidth": 0,
             "ticks": ""
            },
            "colorscale": [
             [
              0,
              "#0d0887"
             ],
             [
              0.1111111111111111,
              "#46039f"
             ],
             [
              0.2222222222222222,
              "#7201a8"
             ],
             [
              0.3333333333333333,
              "#9c179e"
             ],
             [
              0.4444444444444444,
              "#bd3786"
             ],
             [
              0.5555555555555556,
              "#d8576b"
             ],
             [
              0.6666666666666666,
              "#ed7953"
             ],
             [
              0.7777777777777778,
              "#fb9f3a"
             ],
             [
              0.8888888888888888,
              "#fdca26"
             ],
             [
              1,
              "#f0f921"
             ]
            ],
            "type": "surface"
           }
          ],
          "table": [
           {
            "cells": {
             "fill": {
              "color": "#EBF0F8"
             },
             "line": {
              "color": "white"
             }
            },
            "header": {
             "fill": {
              "color": "#C8D4E3"
             },
             "line": {
              "color": "white"
             }
            },
            "type": "table"
           }
          ]
         },
         "layout": {
          "annotationdefaults": {
           "arrowcolor": "#2a3f5f",
           "arrowhead": 0,
           "arrowwidth": 1
          },
          "coloraxis": {
           "colorbar": {
            "outlinewidth": 0,
            "ticks": ""
           }
          },
          "colorscale": {
           "diverging": [
            [
             0,
             "#8e0152"
            ],
            [
             0.1,
             "#c51b7d"
            ],
            [
             0.2,
             "#de77ae"
            ],
            [
             0.3,
             "#f1b6da"
            ],
            [
             0.4,
             "#fde0ef"
            ],
            [
             0.5,
             "#f7f7f7"
            ],
            [
             0.6,
             "#e6f5d0"
            ],
            [
             0.7,
             "#b8e186"
            ],
            [
             0.8,
             "#7fbc41"
            ],
            [
             0.9,
             "#4d9221"
            ],
            [
             1,
             "#276419"
            ]
           ],
           "sequential": [
            [
             0,
             "#0d0887"
            ],
            [
             0.1111111111111111,
             "#46039f"
            ],
            [
             0.2222222222222222,
             "#7201a8"
            ],
            [
             0.3333333333333333,
             "#9c179e"
            ],
            [
             0.4444444444444444,
             "#bd3786"
            ],
            [
             0.5555555555555556,
             "#d8576b"
            ],
            [
             0.6666666666666666,
             "#ed7953"
            ],
            [
             0.7777777777777778,
             "#fb9f3a"
            ],
            [
             0.8888888888888888,
             "#fdca26"
            ],
            [
             1,
             "#f0f921"
            ]
           ],
           "sequentialminus": [
            [
             0,
             "#0d0887"
            ],
            [
             0.1111111111111111,
             "#46039f"
            ],
            [
             0.2222222222222222,
             "#7201a8"
            ],
            [
             0.3333333333333333,
             "#9c179e"
            ],
            [
             0.4444444444444444,
             "#bd3786"
            ],
            [
             0.5555555555555556,
             "#d8576b"
            ],
            [
             0.6666666666666666,
             "#ed7953"
            ],
            [
             0.7777777777777778,
             "#fb9f3a"
            ],
            [
             0.8888888888888888,
             "#fdca26"
            ],
            [
             1,
             "#f0f921"
            ]
           ]
          },
          "colorway": [
           "#636efa",
           "#EF553B",
           "#00cc96",
           "#ab63fa",
           "#FFA15A",
           "#19d3f3",
           "#FF6692",
           "#B6E880",
           "#FF97FF",
           "#FECB52"
          ],
          "font": {
           "color": "#2a3f5f"
          },
          "geo": {
           "bgcolor": "white",
           "lakecolor": "white",
           "landcolor": "#E5ECF6",
           "showlakes": true,
           "showland": true,
           "subunitcolor": "white"
          },
          "hoverlabel": {
           "align": "left"
          },
          "hovermode": "closest",
          "mapbox": {
           "style": "light"
          },
          "paper_bgcolor": "white",
          "plot_bgcolor": "#E5ECF6",
          "polar": {
           "angularaxis": {
            "gridcolor": "white",
            "linecolor": "white",
            "ticks": ""
           },
           "bgcolor": "#E5ECF6",
           "radialaxis": {
            "gridcolor": "white",
            "linecolor": "white",
            "ticks": ""
           }
          },
          "scene": {
           "xaxis": {
            "backgroundcolor": "#E5ECF6",
            "gridcolor": "white",
            "gridwidth": 2,
            "linecolor": "white",
            "showbackground": true,
            "ticks": "",
            "zerolinecolor": "white"
           },
           "yaxis": {
            "backgroundcolor": "#E5ECF6",
            "gridcolor": "white",
            "gridwidth": 2,
            "linecolor": "white",
            "showbackground": true,
            "ticks": "",
            "zerolinecolor": "white"
           },
           "zaxis": {
            "backgroundcolor": "#E5ECF6",
            "gridcolor": "white",
            "gridwidth": 2,
            "linecolor": "white",
            "showbackground": true,
            "ticks": "",
            "zerolinecolor": "white"
           }
          },
          "shapedefaults": {
           "line": {
            "color": "#2a3f5f"
           }
          },
          "ternary": {
           "aaxis": {
            "gridcolor": "white",
            "linecolor": "white",
            "ticks": ""
           },
           "baxis": {
            "gridcolor": "white",
            "linecolor": "white",
            "ticks": ""
           },
           "bgcolor": "#E5ECF6",
           "caxis": {
            "gridcolor": "white",
            "linecolor": "white",
            "ticks": ""
           }
          },
          "title": {
           "x": 0.05
          },
          "xaxis": {
           "automargin": true,
           "gridcolor": "white",
           "linecolor": "white",
           "ticks": "",
           "title": {
            "standoff": 15
           },
           "zerolinecolor": "white",
           "zerolinewidth": 2
          },
          "yaxis": {
           "automargin": true,
           "gridcolor": "white",
           "linecolor": "white",
           "ticks": "",
           "title": {
            "standoff": 15
           },
           "zerolinecolor": "white",
           "zerolinewidth": 2
          }
         }
        },
        "title": {
         "font": {
          "color": "#4D5663"
         }
        },
        "xaxis": {
         "gridcolor": "#E1E5ED",
         "showgrid": true,
         "tickfont": {
          "color": "#4D5663"
         },
         "title": {
          "font": {
           "color": "#4D5663"
          },
          "text": ""
         },
         "zerolinecolor": "#E1E5ED"
        },
        "yaxis": {
         "gridcolor": "#E1E5ED",
         "showgrid": true,
         "tickfont": {
          "color": "#4D5663"
         },
         "title": {
          "font": {
           "color": "#4D5663"
          },
          "text": ""
         },
         "zerolinecolor": "#E1E5ED"
        }
       }
      },
      "text/html": [
       "<div>\n",
       "        \n",
       "        \n",
       "            <div id=\"c43a1d9b-5100-4c1d-a11b-1bf935748970\" class=\"plotly-graph-div\" style=\"height:525px; width:100%;\"></div>\n",
       "            <script type=\"text/javascript\">\n",
       "                require([\"plotly\"], function(Plotly) {\n",
       "                    window.PLOTLYENV=window.PLOTLYENV || {};\n",
       "                    window.PLOTLYENV.BASE_URL='https://plot.ly';\n",
       "                    \n",
       "                if (document.getElementById(\"c43a1d9b-5100-4c1d-a11b-1bf935748970\")) {\n",
       "                    Plotly.newPlot(\n",
       "                        'c43a1d9b-5100-4c1d-a11b-1bf935748970',\n",
       "                        [{\"marker\": {\"color\": \"rgba(255, 153, 51, 0.6)\", \"line\": {\"color\": \"rgba(255, 153, 51, 1.0)\", \"width\": 1}}, \"name\": \"batsman\", \"orientation\": \"v\", \"text\": \"\", \"type\": \"bar\", \"x\": [\"SE Marsh\", \"KA Pollard\", \"RG Sharma\", \"SR Tendulkar\", \"AT Rayudu\", \"KL Rahul\", \"WP Saha\", \"DA Miller\", \"KC Sangakkara\", \"LMP Simmons\", \"PA Patel\", \"M Vijay\", \"GJ Maxwell\", \"CH Gayle\", \"Yuvraj Singh\", \"DJ Bravo\", \"GJ Bailey\", \"JP Duminy\", \"DJ Hussey\", \"HH Pandya\", \"AS Yadav\", \"N Rana\", \"KD Karthik\", \"Harbhajan Singh\", \"JEC Franklin\", \"HM Amla\", \"Azhar Mahmood\", \"Q de Kock\", \"JC Buttler\", \"K Goel\", \"Mandeep Singh\", \"LA Pomersbach\", \"KH Pandya\", \"DPMD Jayawardene\", \"M Vohra\", \"PC Valthaty\", \"S Dhawan\", \"AJ Finch\", \"DR Smith\", \"AR Patel\"], \"y\": [408, 283, 273, 242, 211, 208, 183, 177, 167, 154, 140, 132, 129, 118, 115, 110, 95, 94, 89, 81, 78, 77, 75, 75, 74, 68, 67, 63, 62, 60, 59, 59, 58, 56, 56, 54, 51, 49, 49, 48]}],\n",
       "                        {\"legend\": {\"bgcolor\": \"#F5F6F9\", \"font\": {\"color\": \"#4D5663\"}}, \"paper_bgcolor\": \"#F5F6F9\", \"plot_bgcolor\": \"#F5F6F9\", \"template\": {\"data\": {\"bar\": [{\"error_x\": {\"color\": \"#2a3f5f\"}, \"error_y\": {\"color\": \"#2a3f5f\"}, \"marker\": {\"line\": {\"color\": \"#E5ECF6\", \"width\": 0.5}}, \"type\": \"bar\"}], \"barpolar\": [{\"marker\": {\"line\": {\"color\": \"#E5ECF6\", \"width\": 0.5}}, \"type\": \"barpolar\"}], \"carpet\": [{\"aaxis\": {\"endlinecolor\": \"#2a3f5f\", \"gridcolor\": \"white\", \"linecolor\": \"white\", \"minorgridcolor\": \"white\", \"startlinecolor\": \"#2a3f5f\"}, \"baxis\": {\"endlinecolor\": \"#2a3f5f\", \"gridcolor\": \"white\", \"linecolor\": \"white\", \"minorgridcolor\": \"white\", \"startlinecolor\": \"#2a3f5f\"}, \"type\": \"carpet\"}], \"choropleth\": [{\"colorbar\": {\"outlinewidth\": 0, \"ticks\": \"\"}, \"type\": \"choropleth\"}], \"contour\": [{\"colorbar\": {\"outlinewidth\": 0, \"ticks\": \"\"}, \"colorscale\": [[0.0, \"#0d0887\"], [0.1111111111111111, \"#46039f\"], [0.2222222222222222, \"#7201a8\"], [0.3333333333333333, \"#9c179e\"], [0.4444444444444444, \"#bd3786\"], [0.5555555555555556, \"#d8576b\"], [0.6666666666666666, \"#ed7953\"], [0.7777777777777778, \"#fb9f3a\"], [0.8888888888888888, \"#fdca26\"], [1.0, \"#f0f921\"]], \"type\": \"contour\"}], \"contourcarpet\": [{\"colorbar\": {\"outlinewidth\": 0, \"ticks\": \"\"}, \"type\": \"contourcarpet\"}], \"heatmap\": [{\"colorbar\": {\"outlinewidth\": 0, \"ticks\": \"\"}, \"colorscale\": [[0.0, \"#0d0887\"], [0.1111111111111111, \"#46039f\"], [0.2222222222222222, \"#7201a8\"], [0.3333333333333333, \"#9c179e\"], [0.4444444444444444, \"#bd3786\"], [0.5555555555555556, \"#d8576b\"], [0.6666666666666666, \"#ed7953\"], [0.7777777777777778, \"#fb9f3a\"], [0.8888888888888888, \"#fdca26\"], [1.0, \"#f0f921\"]], \"type\": \"heatmap\"}], \"heatmapgl\": [{\"colorbar\": {\"outlinewidth\": 0, \"ticks\": \"\"}, \"colorscale\": [[0.0, \"#0d0887\"], [0.1111111111111111, \"#46039f\"], [0.2222222222222222, \"#7201a8\"], [0.3333333333333333, \"#9c179e\"], [0.4444444444444444, \"#bd3786\"], [0.5555555555555556, \"#d8576b\"], [0.6666666666666666, \"#ed7953\"], [0.7777777777777778, \"#fb9f3a\"], [0.8888888888888888, \"#fdca26\"], [1.0, \"#f0f921\"]], \"type\": \"heatmapgl\"}], \"histogram\": [{\"marker\": {\"colorbar\": {\"outlinewidth\": 0, \"ticks\": \"\"}}, \"type\": \"histogram\"}], \"histogram2d\": [{\"colorbar\": {\"outlinewidth\": 0, \"ticks\": \"\"}, \"colorscale\": [[0.0, \"#0d0887\"], [0.1111111111111111, \"#46039f\"], [0.2222222222222222, \"#7201a8\"], [0.3333333333333333, \"#9c179e\"], [0.4444444444444444, \"#bd3786\"], [0.5555555555555556, \"#d8576b\"], [0.6666666666666666, \"#ed7953\"], [0.7777777777777778, \"#fb9f3a\"], [0.8888888888888888, \"#fdca26\"], [1.0, \"#f0f921\"]], \"type\": \"histogram2d\"}], \"histogram2dcontour\": [{\"colorbar\": {\"outlinewidth\": 0, \"ticks\": \"\"}, \"colorscale\": [[0.0, \"#0d0887\"], [0.1111111111111111, \"#46039f\"], [0.2222222222222222, \"#7201a8\"], [0.3333333333333333, \"#9c179e\"], [0.4444444444444444, \"#bd3786\"], [0.5555555555555556, \"#d8576b\"], [0.6666666666666666, \"#ed7953\"], [0.7777777777777778, \"#fb9f3a\"], [0.8888888888888888, \"#fdca26\"], [1.0, \"#f0f921\"]], \"type\": \"histogram2dcontour\"}], \"mesh3d\": [{\"colorbar\": {\"outlinewidth\": 0, \"ticks\": \"\"}, \"type\": \"mesh3d\"}], \"parcoords\": [{\"line\": {\"colorbar\": {\"outlinewidth\": 0, \"ticks\": \"\"}}, \"type\": \"parcoords\"}], \"pie\": [{\"automargin\": true, \"type\": \"pie\"}], \"scatter\": [{\"marker\": {\"colorbar\": {\"outlinewidth\": 0, \"ticks\": \"\"}}, \"type\": \"scatter\"}], \"scatter3d\": [{\"line\": {\"colorbar\": {\"outlinewidth\": 0, \"ticks\": \"\"}}, \"marker\": {\"colorbar\": {\"outlinewidth\": 0, \"ticks\": \"\"}}, \"type\": \"scatter3d\"}], \"scattercarpet\": [{\"marker\": {\"colorbar\": {\"outlinewidth\": 0, \"ticks\": \"\"}}, \"type\": \"scattercarpet\"}], \"scattergeo\": [{\"marker\": {\"colorbar\": {\"outlinewidth\": 0, \"ticks\": \"\"}}, \"type\": \"scattergeo\"}], \"scattergl\": [{\"marker\": {\"colorbar\": {\"outlinewidth\": 0, \"ticks\": \"\"}}, \"type\": \"scattergl\"}], \"scattermapbox\": [{\"marker\": {\"colorbar\": {\"outlinewidth\": 0, \"ticks\": \"\"}}, \"type\": \"scattermapbox\"}], \"scatterpolar\": [{\"marker\": {\"colorbar\": {\"outlinewidth\": 0, \"ticks\": \"\"}}, \"type\": \"scatterpolar\"}], \"scatterpolargl\": [{\"marker\": {\"colorbar\": {\"outlinewidth\": 0, \"ticks\": \"\"}}, \"type\": \"scatterpolargl\"}], \"scatterternary\": [{\"marker\": {\"colorbar\": {\"outlinewidth\": 0, \"ticks\": \"\"}}, \"type\": \"scatterternary\"}], \"surface\": [{\"colorbar\": {\"outlinewidth\": 0, \"ticks\": \"\"}, \"colorscale\": [[0.0, \"#0d0887\"], [0.1111111111111111, \"#46039f\"], [0.2222222222222222, \"#7201a8\"], [0.3333333333333333, \"#9c179e\"], [0.4444444444444444, \"#bd3786\"], [0.5555555555555556, \"#d8576b\"], [0.6666666666666666, \"#ed7953\"], [0.7777777777777778, \"#fb9f3a\"], [0.8888888888888888, \"#fdca26\"], [1.0, \"#f0f921\"]], \"type\": \"surface\"}], \"table\": [{\"cells\": {\"fill\": {\"color\": \"#EBF0F8\"}, \"line\": {\"color\": \"white\"}}, \"header\": {\"fill\": {\"color\": \"#C8D4E3\"}, \"line\": {\"color\": \"white\"}}, \"type\": \"table\"}]}, \"layout\": {\"annotationdefaults\": {\"arrowcolor\": \"#2a3f5f\", \"arrowhead\": 0, \"arrowwidth\": 1}, \"coloraxis\": {\"colorbar\": {\"outlinewidth\": 0, \"ticks\": \"\"}}, \"colorscale\": {\"diverging\": [[0, \"#8e0152\"], [0.1, \"#c51b7d\"], [0.2, \"#de77ae\"], [0.3, \"#f1b6da\"], [0.4, \"#fde0ef\"], [0.5, \"#f7f7f7\"], [0.6, \"#e6f5d0\"], [0.7, \"#b8e186\"], [0.8, \"#7fbc41\"], [0.9, \"#4d9221\"], [1, \"#276419\"]], \"sequential\": [[0.0, \"#0d0887\"], [0.1111111111111111, \"#46039f\"], [0.2222222222222222, \"#7201a8\"], [0.3333333333333333, \"#9c179e\"], [0.4444444444444444, \"#bd3786\"], [0.5555555555555556, \"#d8576b\"], [0.6666666666666666, \"#ed7953\"], [0.7777777777777778, \"#fb9f3a\"], [0.8888888888888888, \"#fdca26\"], [1.0, \"#f0f921\"]], \"sequentialminus\": [[0.0, \"#0d0887\"], [0.1111111111111111, \"#46039f\"], [0.2222222222222222, \"#7201a8\"], [0.3333333333333333, \"#9c179e\"], [0.4444444444444444, \"#bd3786\"], [0.5555555555555556, \"#d8576b\"], [0.6666666666666666, \"#ed7953\"], [0.7777777777777778, \"#fb9f3a\"], [0.8888888888888888, \"#fdca26\"], [1.0, \"#f0f921\"]]}, \"colorway\": [\"#636efa\", \"#EF553B\", \"#00cc96\", \"#ab63fa\", \"#FFA15A\", \"#19d3f3\", \"#FF6692\", \"#B6E880\", \"#FF97FF\", \"#FECB52\"], \"font\": {\"color\": \"#2a3f5f\"}, \"geo\": {\"bgcolor\": \"white\", \"lakecolor\": \"white\", \"landcolor\": \"#E5ECF6\", \"showlakes\": true, \"showland\": true, \"subunitcolor\": \"white\"}, \"hoverlabel\": {\"align\": \"left\"}, \"hovermode\": \"closest\", \"mapbox\": {\"style\": \"light\"}, \"paper_bgcolor\": \"white\", \"plot_bgcolor\": \"#E5ECF6\", \"polar\": {\"angularaxis\": {\"gridcolor\": \"white\", \"linecolor\": \"white\", \"ticks\": \"\"}, \"bgcolor\": \"#E5ECF6\", \"radialaxis\": {\"gridcolor\": \"white\", \"linecolor\": \"white\", \"ticks\": \"\"}}, \"scene\": {\"xaxis\": {\"backgroundcolor\": \"#E5ECF6\", \"gridcolor\": \"white\", \"gridwidth\": 2, \"linecolor\": \"white\", \"showbackground\": true, \"ticks\": \"\", \"zerolinecolor\": \"white\"}, \"yaxis\": {\"backgroundcolor\": \"#E5ECF6\", \"gridcolor\": \"white\", \"gridwidth\": 2, \"linecolor\": \"white\", \"showbackground\": true, \"ticks\": \"\", \"zerolinecolor\": \"white\"}, \"zaxis\": {\"backgroundcolor\": \"#E5ECF6\", \"gridcolor\": \"white\", \"gridwidth\": 2, \"linecolor\": \"white\", \"showbackground\": true, \"ticks\": \"\", \"zerolinecolor\": \"white\"}}, \"shapedefaults\": {\"line\": {\"color\": \"#2a3f5f\"}}, \"ternary\": {\"aaxis\": {\"gridcolor\": \"white\", \"linecolor\": \"white\", \"ticks\": \"\"}, \"baxis\": {\"gridcolor\": \"white\", \"linecolor\": \"white\", \"ticks\": \"\"}, \"bgcolor\": \"#E5ECF6\", \"caxis\": {\"gridcolor\": \"white\", \"linecolor\": \"white\", \"ticks\": \"\"}}, \"title\": {\"x\": 0.05}, \"xaxis\": {\"automargin\": true, \"gridcolor\": \"white\", \"linecolor\": \"white\", \"ticks\": \"\", \"title\": {\"standoff\": 15}, \"zerolinecolor\": \"white\", \"zerolinewidth\": 2}, \"yaxis\": {\"automargin\": true, \"gridcolor\": \"white\", \"linecolor\": \"white\", \"ticks\": \"\", \"title\": {\"standoff\": 15}, \"zerolinecolor\": \"white\", \"zerolinewidth\": 2}}}, \"title\": {\"font\": {\"color\": \"#4D5663\"}}, \"xaxis\": {\"gridcolor\": \"#E1E5ED\", \"showgrid\": true, \"tickfont\": {\"color\": \"#4D5663\"}, \"title\": {\"font\": {\"color\": \"#4D5663\"}, \"text\": \"\"}, \"zerolinecolor\": \"#E1E5ED\"}, \"yaxis\": {\"gridcolor\": \"#E1E5ED\", \"showgrid\": true, \"tickfont\": {\"color\": \"#4D5663\"}, \"title\": {\"font\": {\"color\": \"#4D5663\"}, \"text\": \"\"}, \"zerolinecolor\": \"#E1E5ED\"}},\n",
       "                        {\"showLink\": true, \"linkText\": \"Export to plot.ly\", \"plotlyServerURL\": \"https://plot.ly\", \"responsive\": true}\n",
       "                    ).then(function(){\n",
       "                            \n",
       "var gd = document.getElementById('c43a1d9b-5100-4c1d-a11b-1bf935748970');\n",
       "var x = new MutationObserver(function (mutations, observer) {{\n",
       "        var display = window.getComputedStyle(gd).display;\n",
       "        if (!display || display === 'none') {{\n",
       "            console.log([gd, 'removed!']);\n",
       "            Plotly.purge(gd);\n",
       "            observer.disconnect();\n",
       "        }}\n",
       "}});\n",
       "\n",
       "// Listen for the removal of the full notebook cells\n",
       "var notebookContainer = gd.closest('#notebook-container');\n",
       "if (notebookContainer) {{\n",
       "    x.observe(notebookContainer, {childList: true});\n",
       "}}\n",
       "\n",
       "// Listen for the clearing of the current output cell\n",
       "var outputEl = gd.closest('.output');\n",
       "if (outputEl) {{\n",
       "    x.observe(outputEl, {childList: true});\n",
       "}}\n",
       "\n",
       "                        })\n",
       "                };\n",
       "                });\n",
       "            </script>\n",
       "        </div>"
      ]
     },
     "metadata": {},
     "output_type": "display_data"
    }
   ],
   "source": [
    "mi_kxipdel['batsman'].value_counts()[:40].iplot(kind='bar')"
   ]
  },
  {
   "cell_type": "markdown",
   "metadata": {},
   "source": [
    "# Quinton De Kock against Kings XI Punjab"
   ]
  },
  {
   "cell_type": "code",
   "execution_count": 55,
   "metadata": {
    "scrolled": true
   },
   "outputs": [
    {
     "data": {
      "text/html": [
       "<div>\n",
       "<style scoped>\n",
       "    .dataframe tbody tr th:only-of-type {\n",
       "        vertical-align: middle;\n",
       "    }\n",
       "\n",
       "    .dataframe tbody tr th {\n",
       "        vertical-align: top;\n",
       "    }\n",
       "\n",
       "    .dataframe thead th {\n",
       "        text-align: right;\n",
       "    }\n",
       "</style>\n",
       "<table border=\"1\" class=\"dataframe\">\n",
       "  <thead>\n",
       "    <tr style=\"text-align: right;\">\n",
       "      <th></th>\n",
       "      <th>match_id</th>\n",
       "      <th>inning</th>\n",
       "      <th>batting_team</th>\n",
       "      <th>bowling_team</th>\n",
       "      <th>over</th>\n",
       "      <th>ball</th>\n",
       "      <th>batsman</th>\n",
       "      <th>non_striker</th>\n",
       "      <th>bowler</th>\n",
       "      <th>is_super_over</th>\n",
       "      <th>...</th>\n",
       "      <th>bye_runs</th>\n",
       "      <th>legbye_runs</th>\n",
       "      <th>noball_runs</th>\n",
       "      <th>penalty_runs</th>\n",
       "      <th>batsman_runs</th>\n",
       "      <th>extra_runs</th>\n",
       "      <th>total_runs</th>\n",
       "      <th>player_dismissed</th>\n",
       "      <th>dismissal_kind</th>\n",
       "      <th>fielder</th>\n",
       "    </tr>\n",
       "  </thead>\n",
       "  <tbody>\n",
       "    <tr>\n",
       "      <th>166694</th>\n",
       "      <td>11145</td>\n",
       "      <td>1</td>\n",
       "      <td>Mumbai Indians</td>\n",
       "      <td>Kings XI Punjab</td>\n",
       "      <td>1</td>\n",
       "      <td>2</td>\n",
       "      <td>Q de Kock</td>\n",
       "      <td>RG Sharma</td>\n",
       "      <td>R Ashwin</td>\n",
       "      <td>0</td>\n",
       "      <td>...</td>\n",
       "      <td>0</td>\n",
       "      <td>0</td>\n",
       "      <td>0</td>\n",
       "      <td>0</td>\n",
       "      <td>0</td>\n",
       "      <td>0</td>\n",
       "      <td>0</td>\n",
       "      <td>NaN</td>\n",
       "      <td>NaN</td>\n",
       "      <td>NaN</td>\n",
       "    </tr>\n",
       "  </tbody>\n",
       "</table>\n",
       "<p>1 rows × 21 columns</p>\n",
       "</div>"
      ],
      "text/plain": [
       "        match_id  inning    batting_team     bowling_team  over  ball  \\\n",
       "166694     11145       1  Mumbai Indians  Kings XI Punjab     1     2   \n",
       "\n",
       "          batsman non_striker    bowler  is_super_over  ...  bye_runs  \\\n",
       "166694  Q de Kock   RG Sharma  R Ashwin              0  ...         0   \n",
       "\n",
       "        legbye_runs  noball_runs  penalty_runs  batsman_runs  extra_runs  \\\n",
       "166694            0            0             0             0           0   \n",
       "\n",
       "        total_runs  player_dismissed dismissal_kind fielder  \n",
       "166694           0               NaN            NaN     NaN  \n",
       "\n",
       "[1 rows x 21 columns]"
      ]
     },
     "execution_count": 55,
     "metadata": {},
     "output_type": "execute_result"
    }
   ],
   "source": [
    "name = 'Q de Kock'\n",
    "batsman = mi_kxipdel[mi_kxipdel['batsman'] == name]\n",
    "batsman.head(1)"
   ]
  },
  {
   "cell_type": "code",
   "execution_count": 56,
   "metadata": {},
   "outputs": [],
   "source": [
    "name = 'Mumbai Indians'\n",
    "KXIP_wicket = mi_kxipdel[mi_kxipdel['batting_team'] == name]"
   ]
  },
  {
   "cell_type": "code",
   "execution_count": 57,
   "metadata": {},
   "outputs": [
    {
     "data": {
      "text/plain": [
       "Index(['match_id', 'inning', 'batting_team', 'bowling_team', 'over', 'ball',\n",
       "       'batsman', 'non_striker', 'bowler', 'is_super_over', 'wide_runs',\n",
       "       'bye_runs', 'legbye_runs', 'noball_runs', 'penalty_runs',\n",
       "       'batsman_runs', 'extra_runs', 'total_runs', 'player_dismissed',\n",
       "       'dismissal_kind', 'fielder'],\n",
       "      dtype='object')"
      ]
     },
     "execution_count": 57,
     "metadata": {},
     "output_type": "execute_result"
    }
   ],
   "source": [
    "KXIP_wicket.columns"
   ]
  },
  {
   "cell_type": "code",
   "execution_count": 58,
   "metadata": {},
   "outputs": [
    {
     "data": {
      "text/html": [
       "<div>\n",
       "<style scoped>\n",
       "    .dataframe tbody tr th:only-of-type {\n",
       "        vertical-align: middle;\n",
       "    }\n",
       "\n",
       "    .dataframe tbody tr th {\n",
       "        vertical-align: top;\n",
       "    }\n",
       "\n",
       "    .dataframe thead th {\n",
       "        text-align: right;\n",
       "    }\n",
       "</style>\n",
       "<table border=\"1\" class=\"dataframe\">\n",
       "  <thead>\n",
       "    <tr style=\"text-align: right;\">\n",
       "      <th></th>\n",
       "      <th>match_id</th>\n",
       "      <th>inning</th>\n",
       "      <th>batting_team</th>\n",
       "      <th>bowling_team</th>\n",
       "      <th>over</th>\n",
       "      <th>ball</th>\n",
       "      <th>batsman</th>\n",
       "      <th>non_striker</th>\n",
       "      <th>bowler</th>\n",
       "      <th>is_super_over</th>\n",
       "      <th>...</th>\n",
       "      <th>bye_runs</th>\n",
       "      <th>legbye_runs</th>\n",
       "      <th>noball_runs</th>\n",
       "      <th>penalty_runs</th>\n",
       "      <th>batsman_runs</th>\n",
       "      <th>extra_runs</th>\n",
       "      <th>total_runs</th>\n",
       "      <th>player_dismissed</th>\n",
       "      <th>dismissal_kind</th>\n",
       "      <th>fielder</th>\n",
       "    </tr>\n",
       "  </thead>\n",
       "  <tbody>\n",
       "    <tr>\n",
       "      <th>5182</th>\n",
       "      <td>22</td>\n",
       "      <td>2</td>\n",
       "      <td>Mumbai Indians</td>\n",
       "      <td>Kings XI Punjab</td>\n",
       "      <td>1</td>\n",
       "      <td>1</td>\n",
       "      <td>PA Patel</td>\n",
       "      <td>JC Buttler</td>\n",
       "      <td>Sandeep Sharma</td>\n",
       "      <td>0</td>\n",
       "      <td>...</td>\n",
       "      <td>0</td>\n",
       "      <td>0</td>\n",
       "      <td>0</td>\n",
       "      <td>0</td>\n",
       "      <td>1</td>\n",
       "      <td>0</td>\n",
       "      <td>1</td>\n",
       "      <td>NaN</td>\n",
       "      <td>NaN</td>\n",
       "      <td>NaN</td>\n",
       "    </tr>\n",
       "  </tbody>\n",
       "</table>\n",
       "<p>1 rows × 21 columns</p>\n",
       "</div>"
      ],
      "text/plain": [
       "      match_id  inning    batting_team     bowling_team  over  ball   batsman  \\\n",
       "5182        22       2  Mumbai Indians  Kings XI Punjab     1     1  PA Patel   \n",
       "\n",
       "     non_striker          bowler  is_super_over  ...  bye_runs  legbye_runs  \\\n",
       "5182  JC Buttler  Sandeep Sharma              0  ...         0            0   \n",
       "\n",
       "      noball_runs  penalty_runs  batsman_runs  extra_runs  total_runs  \\\n",
       "5182            0             0             1           0           1   \n",
       "\n",
       "      player_dismissed dismissal_kind fielder  \n",
       "5182               NaN            NaN     NaN  \n",
       "\n",
       "[1 rows x 21 columns]"
      ]
     },
     "execution_count": 58,
     "metadata": {},
     "output_type": "execute_result"
    }
   ],
   "source": [
    "KXIP_wicket.head(1)"
   ]
  },
  {
   "cell_type": "code",
   "execution_count": 59,
   "metadata": {},
   "outputs": [
    {
     "data": {
      "text/plain": [
       "(2870, 21)"
      ]
     },
     "execution_count": 59,
     "metadata": {},
     "output_type": "execute_result"
    }
   ],
   "source": [
    "KXIP_wicket.shape"
   ]
  },
  {
   "cell_type": "code",
   "execution_count": 60,
   "metadata": {},
   "outputs": [],
   "source": [
    "De_Kock_wicket = KXIP_wicket[KXIP_wicket['batsman'] == 'Q de Kock']"
   ]
  },
  {
   "cell_type": "code",
   "execution_count": 61,
   "metadata": {},
   "outputs": [],
   "source": [
    "dismissals = De_Kock_wicket[ pd.notnull(De_Kock_wicket[\"player_dismissed\"])]\n",
    "dismissals = dismissals[[\"match_id\", \"inning\", \"bowler\",\"player_dismissed\", \"dismissal_kind\", \"fielder\"]]"
   ]
  },
  {
   "cell_type": "code",
   "execution_count": 62,
   "metadata": {},
   "outputs": [
    {
     "data": {
      "text/html": [
       "<div>\n",
       "<style scoped>\n",
       "    .dataframe tbody tr th:only-of-type {\n",
       "        vertical-align: middle;\n",
       "    }\n",
       "\n",
       "    .dataframe tbody tr th {\n",
       "        vertical-align: top;\n",
       "    }\n",
       "\n",
       "    .dataframe thead th {\n",
       "        text-align: right;\n",
       "    }\n",
       "</style>\n",
       "<table border=\"1\" class=\"dataframe\">\n",
       "  <thead>\n",
       "    <tr style=\"text-align: right;\">\n",
       "      <th></th>\n",
       "      <th>match_id</th>\n",
       "      <th>inning</th>\n",
       "      <th>bowler</th>\n",
       "      <th>player_dismissed</th>\n",
       "      <th>dismissal_kind</th>\n",
       "      <th>fielder</th>\n",
       "    </tr>\n",
       "  </thead>\n",
       "  <tbody>\n",
       "    <tr>\n",
       "      <th>166772</th>\n",
       "      <td>11145</td>\n",
       "      <td>1</td>\n",
       "      <td>Mohammed Shami</td>\n",
       "      <td>Q de Kock</td>\n",
       "      <td>lbw</td>\n",
       "      <td>NaN</td>\n",
       "    </tr>\n",
       "    <tr>\n",
       "      <th>170509</th>\n",
       "      <td>11315</td>\n",
       "      <td>2</td>\n",
       "      <td>R Ashwin</td>\n",
       "      <td>Q de Kock</td>\n",
       "      <td>caught</td>\n",
       "      <td>DA Miller</td>\n",
       "    </tr>\n",
       "  </tbody>\n",
       "</table>\n",
       "</div>"
      ],
      "text/plain": [
       "        match_id  inning          bowler player_dismissed dismissal_kind  \\\n",
       "166772     11145       1  Mohammed Shami        Q de Kock            lbw   \n",
       "170509     11315       2        R Ashwin        Q de Kock         caught   \n",
       "\n",
       "          fielder  \n",
       "166772        NaN  \n",
       "170509  DA Miller  "
      ]
     },
     "execution_count": 62,
     "metadata": {},
     "output_type": "execute_result"
    }
   ],
   "source": [
    "dismissals"
   ]
  },
  {
   "cell_type": "code",
   "execution_count": 63,
   "metadata": {},
   "outputs": [
    {
     "data": {
      "text/plain": [
       "lbw       1\n",
       "caught    1\n",
       "Name: dismissal_kind, dtype: int64"
      ]
     },
     "execution_count": 63,
     "metadata": {},
     "output_type": "execute_result"
    }
   ],
   "source": [
    "dismissals['dismissal_kind'].value_counts()"
   ]
  },
  {
   "cell_type": "markdown",
   "metadata": {},
   "source": [
    "# Quinton De Kock in IPL and Teams played"
   ]
  },
  {
   "cell_type": "code",
   "execution_count": 98,
   "metadata": {},
   "outputs": [
    {
     "data": {
      "text/html": [
       "<div>\n",
       "<style scoped>\n",
       "    .dataframe tbody tr th:only-of-type {\n",
       "        vertical-align: middle;\n",
       "    }\n",
       "\n",
       "    .dataframe tbody tr th {\n",
       "        vertical-align: top;\n",
       "    }\n",
       "\n",
       "    .dataframe thead th {\n",
       "        text-align: right;\n",
       "    }\n",
       "</style>\n",
       "<table border=\"1\" class=\"dataframe\">\n",
       "  <thead>\n",
       "    <tr style=\"text-align: right;\">\n",
       "      <th></th>\n",
       "      <th>match_id</th>\n",
       "      <th>inning</th>\n",
       "      <th>batting_team</th>\n",
       "      <th>bowling_team</th>\n",
       "      <th>over</th>\n",
       "      <th>ball</th>\n",
       "      <th>batsman</th>\n",
       "      <th>non_striker</th>\n",
       "      <th>bowler</th>\n",
       "      <th>is_super_over</th>\n",
       "      <th>...</th>\n",
       "      <th>bye_runs</th>\n",
       "      <th>legbye_runs</th>\n",
       "      <th>noball_runs</th>\n",
       "      <th>penalty_runs</th>\n",
       "      <th>batsman_runs</th>\n",
       "      <th>extra_runs</th>\n",
       "      <th>total_runs</th>\n",
       "      <th>player_dismissed</th>\n",
       "      <th>dismissal_kind</th>\n",
       "      <th>fielder</th>\n",
       "    </tr>\n",
       "  </thead>\n",
       "  <tbody>\n",
       "    <tr>\n",
       "      <th>95087</th>\n",
       "      <td>402</td>\n",
       "      <td>1</td>\n",
       "      <td>Sunrisers Hyderabad</td>\n",
       "      <td>Pune Warriors</td>\n",
       "      <td>1</td>\n",
       "      <td>3</td>\n",
       "      <td>Q de Kock</td>\n",
       "      <td>PA Patel</td>\n",
       "      <td>B Kumar</td>\n",
       "      <td>0</td>\n",
       "      <td>...</td>\n",
       "      <td>0</td>\n",
       "      <td>0</td>\n",
       "      <td>0</td>\n",
       "      <td>0</td>\n",
       "      <td>0</td>\n",
       "      <td>0</td>\n",
       "      <td>0</td>\n",
       "      <td>NaN</td>\n",
       "      <td>NaN</td>\n",
       "      <td>NaN</td>\n",
       "    </tr>\n",
       "  </tbody>\n",
       "</table>\n",
       "<p>1 rows × 21 columns</p>\n",
       "</div>"
      ],
      "text/plain": [
       "       match_id  inning         batting_team   bowling_team  over  ball  \\\n",
       "95087       402       1  Sunrisers Hyderabad  Pune Warriors     1     3   \n",
       "\n",
       "         batsman non_striker   bowler  is_super_over  ...  bye_runs  \\\n",
       "95087  Q de Kock    PA Patel  B Kumar              0  ...         0   \n",
       "\n",
       "       legbye_runs  noball_runs  penalty_runs  batsman_runs  extra_runs  \\\n",
       "95087            0            0             0             0           0   \n",
       "\n",
       "       total_runs  player_dismissed dismissal_kind fielder  \n",
       "95087           0               NaN            NaN     NaN  \n",
       "\n",
       "[1 rows x 21 columns]"
      ]
     },
     "execution_count": 98,
     "metadata": {},
     "output_type": "execute_result"
    }
   ],
   "source": [
    "name = 'Q de Kock'\n",
    "batsman_season = delivers[delivers['batsman'] == name]\n",
    "batsman_season.head(1)"
   ]
  },
  {
   "cell_type": "code",
   "execution_count": 99,
   "metadata": {},
   "outputs": [
    {
     "data": {
      "text/plain": [
       "array(['Sunrisers Hyderabad', 'Delhi Daredevils',\n",
       "       'Royal Challengers Bangalore', 'Mumbai Indians'], dtype=object)"
      ]
     },
     "execution_count": 99,
     "metadata": {},
     "output_type": "execute_result"
    }
   ],
   "source": [
    "batsman_season['batting_team'].unique()"
   ]
  },
  {
   "cell_type": "code",
   "execution_count": 100,
   "metadata": {},
   "outputs": [],
   "source": [
    "De_Kock_wicketIPL = batsman_season[batsman_season['batsman'] == 'Q de Kock']"
   ]
  },
  {
   "cell_type": "code",
   "execution_count": 102,
   "metadata": {},
   "outputs": [
    {
     "data": {
      "text/html": [
       "<div>\n",
       "<style scoped>\n",
       "    .dataframe tbody tr th:only-of-type {\n",
       "        vertical-align: middle;\n",
       "    }\n",
       "\n",
       "    .dataframe tbody tr th {\n",
       "        vertical-align: top;\n",
       "    }\n",
       "\n",
       "    .dataframe thead th {\n",
       "        text-align: right;\n",
       "    }\n",
       "</style>\n",
       "<table border=\"1\" class=\"dataframe\">\n",
       "  <thead>\n",
       "    <tr style=\"text-align: right;\">\n",
       "      <th></th>\n",
       "      <th>match_id</th>\n",
       "      <th>inning</th>\n",
       "      <th>batting_team</th>\n",
       "      <th>bowling_team</th>\n",
       "      <th>over</th>\n",
       "      <th>ball</th>\n",
       "      <th>batsman</th>\n",
       "      <th>non_striker</th>\n",
       "      <th>bowler</th>\n",
       "      <th>is_super_over</th>\n",
       "      <th>...</th>\n",
       "      <th>bye_runs</th>\n",
       "      <th>legbye_runs</th>\n",
       "      <th>noball_runs</th>\n",
       "      <th>penalty_runs</th>\n",
       "      <th>batsman_runs</th>\n",
       "      <th>extra_runs</th>\n",
       "      <th>total_runs</th>\n",
       "      <th>player_dismissed</th>\n",
       "      <th>dismissal_kind</th>\n",
       "      <th>fielder</th>\n",
       "    </tr>\n",
       "  </thead>\n",
       "  <tbody>\n",
       "    <tr>\n",
       "      <th>95087</th>\n",
       "      <td>402</td>\n",
       "      <td>1</td>\n",
       "      <td>Sunrisers Hyderabad</td>\n",
       "      <td>Pune Warriors</td>\n",
       "      <td>1</td>\n",
       "      <td>3</td>\n",
       "      <td>Q de Kock</td>\n",
       "      <td>PA Patel</td>\n",
       "      <td>B Kumar</td>\n",
       "      <td>0</td>\n",
       "      <td>...</td>\n",
       "      <td>0</td>\n",
       "      <td>0</td>\n",
       "      <td>0</td>\n",
       "      <td>0</td>\n",
       "      <td>0</td>\n",
       "      <td>0</td>\n",
       "      <td>0</td>\n",
       "      <td>NaN</td>\n",
       "      <td>NaN</td>\n",
       "      <td>NaN</td>\n",
       "    </tr>\n",
       "    <tr>\n",
       "      <th>95088</th>\n",
       "      <td>402</td>\n",
       "      <td>1</td>\n",
       "      <td>Sunrisers Hyderabad</td>\n",
       "      <td>Pune Warriors</td>\n",
       "      <td>1</td>\n",
       "      <td>4</td>\n",
       "      <td>Q de Kock</td>\n",
       "      <td>PA Patel</td>\n",
       "      <td>B Kumar</td>\n",
       "      <td>0</td>\n",
       "      <td>...</td>\n",
       "      <td>0</td>\n",
       "      <td>0</td>\n",
       "      <td>0</td>\n",
       "      <td>0</td>\n",
       "      <td>0</td>\n",
       "      <td>0</td>\n",
       "      <td>0</td>\n",
       "      <td>NaN</td>\n",
       "      <td>NaN</td>\n",
       "      <td>NaN</td>\n",
       "    </tr>\n",
       "    <tr>\n",
       "      <th>95089</th>\n",
       "      <td>402</td>\n",
       "      <td>1</td>\n",
       "      <td>Sunrisers Hyderabad</td>\n",
       "      <td>Pune Warriors</td>\n",
       "      <td>1</td>\n",
       "      <td>5</td>\n",
       "      <td>Q de Kock</td>\n",
       "      <td>PA Patel</td>\n",
       "      <td>B Kumar</td>\n",
       "      <td>0</td>\n",
       "      <td>...</td>\n",
       "      <td>0</td>\n",
       "      <td>0</td>\n",
       "      <td>0</td>\n",
       "      <td>0</td>\n",
       "      <td>1</td>\n",
       "      <td>0</td>\n",
       "      <td>1</td>\n",
       "      <td>NaN</td>\n",
       "      <td>NaN</td>\n",
       "      <td>NaN</td>\n",
       "    </tr>\n",
       "    <tr>\n",
       "      <th>95091</th>\n",
       "      <td>402</td>\n",
       "      <td>1</td>\n",
       "      <td>Sunrisers Hyderabad</td>\n",
       "      <td>Pune Warriors</td>\n",
       "      <td>2</td>\n",
       "      <td>1</td>\n",
       "      <td>Q de Kock</td>\n",
       "      <td>PA Patel</td>\n",
       "      <td>AB Dinda</td>\n",
       "      <td>0</td>\n",
       "      <td>...</td>\n",
       "      <td>0</td>\n",
       "      <td>0</td>\n",
       "      <td>0</td>\n",
       "      <td>0</td>\n",
       "      <td>0</td>\n",
       "      <td>0</td>\n",
       "      <td>0</td>\n",
       "      <td>NaN</td>\n",
       "      <td>NaN</td>\n",
       "      <td>NaN</td>\n",
       "    </tr>\n",
       "    <tr>\n",
       "      <th>95092</th>\n",
       "      <td>402</td>\n",
       "      <td>1</td>\n",
       "      <td>Sunrisers Hyderabad</td>\n",
       "      <td>Pune Warriors</td>\n",
       "      <td>2</td>\n",
       "      <td>2</td>\n",
       "      <td>Q de Kock</td>\n",
       "      <td>PA Patel</td>\n",
       "      <td>AB Dinda</td>\n",
       "      <td>0</td>\n",
       "      <td>...</td>\n",
       "      <td>0</td>\n",
       "      <td>0</td>\n",
       "      <td>0</td>\n",
       "      <td>0</td>\n",
       "      <td>0</td>\n",
       "      <td>0</td>\n",
       "      <td>0</td>\n",
       "      <td>NaN</td>\n",
       "      <td>NaN</td>\n",
       "      <td>NaN</td>\n",
       "    </tr>\n",
       "    <tr>\n",
       "      <th>...</th>\n",
       "      <td>...</td>\n",
       "      <td>...</td>\n",
       "      <td>...</td>\n",
       "      <td>...</td>\n",
       "      <td>...</td>\n",
       "      <td>...</td>\n",
       "      <td>...</td>\n",
       "      <td>...</td>\n",
       "      <td>...</td>\n",
       "      <td>...</td>\n",
       "      <td>...</td>\n",
       "      <td>...</td>\n",
       "      <td>...</td>\n",
       "      <td>...</td>\n",
       "      <td>...</td>\n",
       "      <td>...</td>\n",
       "      <td>...</td>\n",
       "      <td>...</td>\n",
       "      <td>...</td>\n",
       "      <td>...</td>\n",
       "      <td>...</td>\n",
       "    </tr>\n",
       "    <tr>\n",
       "      <th>178851</th>\n",
       "      <td>11415</td>\n",
       "      <td>1</td>\n",
       "      <td>Mumbai Indians</td>\n",
       "      <td>Chennai Super Kings</td>\n",
       "      <td>4</td>\n",
       "      <td>3</td>\n",
       "      <td>Q de Kock</td>\n",
       "      <td>RG Sharma</td>\n",
       "      <td>Harbhajan Singh</td>\n",
       "      <td>0</td>\n",
       "      <td>...</td>\n",
       "      <td>0</td>\n",
       "      <td>0</td>\n",
       "      <td>0</td>\n",
       "      <td>0</td>\n",
       "      <td>1</td>\n",
       "      <td>0</td>\n",
       "      <td>1</td>\n",
       "      <td>NaN</td>\n",
       "      <td>NaN</td>\n",
       "      <td>NaN</td>\n",
       "    </tr>\n",
       "    <tr>\n",
       "      <th>178855</th>\n",
       "      <td>11415</td>\n",
       "      <td>1</td>\n",
       "      <td>Mumbai Indians</td>\n",
       "      <td>Chennai Super Kings</td>\n",
       "      <td>5</td>\n",
       "      <td>1</td>\n",
       "      <td>Q de Kock</td>\n",
       "      <td>RG Sharma</td>\n",
       "      <td>SN Thakur</td>\n",
       "      <td>0</td>\n",
       "      <td>...</td>\n",
       "      <td>0</td>\n",
       "      <td>0</td>\n",
       "      <td>0</td>\n",
       "      <td>0</td>\n",
       "      <td>1</td>\n",
       "      <td>0</td>\n",
       "      <td>1</td>\n",
       "      <td>NaN</td>\n",
       "      <td>NaN</td>\n",
       "      <td>NaN</td>\n",
       "    </tr>\n",
       "    <tr>\n",
       "      <th>178857</th>\n",
       "      <td>11415</td>\n",
       "      <td>1</td>\n",
       "      <td>Mumbai Indians</td>\n",
       "      <td>Chennai Super Kings</td>\n",
       "      <td>5</td>\n",
       "      <td>3</td>\n",
       "      <td>Q de Kock</td>\n",
       "      <td>RG Sharma</td>\n",
       "      <td>SN Thakur</td>\n",
       "      <td>0</td>\n",
       "      <td>...</td>\n",
       "      <td>0</td>\n",
       "      <td>0</td>\n",
       "      <td>0</td>\n",
       "      <td>0</td>\n",
       "      <td>0</td>\n",
       "      <td>0</td>\n",
       "      <td>0</td>\n",
       "      <td>NaN</td>\n",
       "      <td>NaN</td>\n",
       "      <td>NaN</td>\n",
       "    </tr>\n",
       "    <tr>\n",
       "      <th>178858</th>\n",
       "      <td>11415</td>\n",
       "      <td>1</td>\n",
       "      <td>Mumbai Indians</td>\n",
       "      <td>Chennai Super Kings</td>\n",
       "      <td>5</td>\n",
       "      <td>4</td>\n",
       "      <td>Q de Kock</td>\n",
       "      <td>RG Sharma</td>\n",
       "      <td>SN Thakur</td>\n",
       "      <td>0</td>\n",
       "      <td>...</td>\n",
       "      <td>0</td>\n",
       "      <td>0</td>\n",
       "      <td>0</td>\n",
       "      <td>0</td>\n",
       "      <td>6</td>\n",
       "      <td>0</td>\n",
       "      <td>6</td>\n",
       "      <td>NaN</td>\n",
       "      <td>NaN</td>\n",
       "      <td>NaN</td>\n",
       "    </tr>\n",
       "    <tr>\n",
       "      <th>178859</th>\n",
       "      <td>11415</td>\n",
       "      <td>1</td>\n",
       "      <td>Mumbai Indians</td>\n",
       "      <td>Chennai Super Kings</td>\n",
       "      <td>5</td>\n",
       "      <td>5</td>\n",
       "      <td>Q de Kock</td>\n",
       "      <td>RG Sharma</td>\n",
       "      <td>SN Thakur</td>\n",
       "      <td>0</td>\n",
       "      <td>...</td>\n",
       "      <td>0</td>\n",
       "      <td>0</td>\n",
       "      <td>0</td>\n",
       "      <td>0</td>\n",
       "      <td>0</td>\n",
       "      <td>0</td>\n",
       "      <td>0</td>\n",
       "      <td>Q de Kock</td>\n",
       "      <td>caught</td>\n",
       "      <td>MS Dhoni</td>\n",
       "    </tr>\n",
       "  </tbody>\n",
       "</table>\n",
       "<p>1136 rows × 21 columns</p>\n",
       "</div>"
      ],
      "text/plain": [
       "        match_id  inning         batting_team         bowling_team  over  \\\n",
       "95087        402       1  Sunrisers Hyderabad        Pune Warriors     1   \n",
       "95088        402       1  Sunrisers Hyderabad        Pune Warriors     1   \n",
       "95089        402       1  Sunrisers Hyderabad        Pune Warriors     1   \n",
       "95091        402       1  Sunrisers Hyderabad        Pune Warriors     2   \n",
       "95092        402       1  Sunrisers Hyderabad        Pune Warriors     2   \n",
       "...          ...     ...                  ...                  ...   ...   \n",
       "178851     11415       1       Mumbai Indians  Chennai Super Kings     4   \n",
       "178855     11415       1       Mumbai Indians  Chennai Super Kings     5   \n",
       "178857     11415       1       Mumbai Indians  Chennai Super Kings     5   \n",
       "178858     11415       1       Mumbai Indians  Chennai Super Kings     5   \n",
       "178859     11415       1       Mumbai Indians  Chennai Super Kings     5   \n",
       "\n",
       "        ball    batsman non_striker           bowler  is_super_over  ...  \\\n",
       "95087      3  Q de Kock    PA Patel          B Kumar              0  ...   \n",
       "95088      4  Q de Kock    PA Patel          B Kumar              0  ...   \n",
       "95089      5  Q de Kock    PA Patel          B Kumar              0  ...   \n",
       "95091      1  Q de Kock    PA Patel         AB Dinda              0  ...   \n",
       "95092      2  Q de Kock    PA Patel         AB Dinda              0  ...   \n",
       "...      ...        ...         ...              ...            ...  ...   \n",
       "178851     3  Q de Kock   RG Sharma  Harbhajan Singh              0  ...   \n",
       "178855     1  Q de Kock   RG Sharma        SN Thakur              0  ...   \n",
       "178857     3  Q de Kock   RG Sharma        SN Thakur              0  ...   \n",
       "178858     4  Q de Kock   RG Sharma        SN Thakur              0  ...   \n",
       "178859     5  Q de Kock   RG Sharma        SN Thakur              0  ...   \n",
       "\n",
       "        bye_runs  legbye_runs  noball_runs  penalty_runs  batsman_runs  \\\n",
       "95087          0            0            0             0             0   \n",
       "95088          0            0            0             0             0   \n",
       "95089          0            0            0             0             1   \n",
       "95091          0            0            0             0             0   \n",
       "95092          0            0            0             0             0   \n",
       "...          ...          ...          ...           ...           ...   \n",
       "178851         0            0            0             0             1   \n",
       "178855         0            0            0             0             1   \n",
       "178857         0            0            0             0             0   \n",
       "178858         0            0            0             0             6   \n",
       "178859         0            0            0             0             0   \n",
       "\n",
       "        extra_runs  total_runs  player_dismissed dismissal_kind   fielder  \n",
       "95087            0           0               NaN            NaN       NaN  \n",
       "95088            0           0               NaN            NaN       NaN  \n",
       "95089            0           1               NaN            NaN       NaN  \n",
       "95091            0           0               NaN            NaN       NaN  \n",
       "95092            0           0               NaN            NaN       NaN  \n",
       "...            ...         ...               ...            ...       ...  \n",
       "178851           0           1               NaN            NaN       NaN  \n",
       "178855           0           1               NaN            NaN       NaN  \n",
       "178857           0           0               NaN            NaN       NaN  \n",
       "178858           0           6               NaN            NaN       NaN  \n",
       "178859           0           0         Q de Kock         caught  MS Dhoni  \n",
       "\n",
       "[1136 rows x 21 columns]"
      ]
     },
     "execution_count": 102,
     "metadata": {},
     "output_type": "execute_result"
    }
   ],
   "source": [
    "De_Kock_wicketIPL"
   ]
  },
  {
   "cell_type": "code",
   "execution_count": 103,
   "metadata": {},
   "outputs": [],
   "source": [
    "dismissals_de = De_Kock_wicketIPL[ pd.notnull(De_Kock_wicketIPL[\"player_dismissed\"])]\n",
    "dismissals_de = dismissals_de[[\"match_id\", \"inning\",\"batting_team\", \"bowler\",\"player_dismissed\", \"dismissal_kind\", \"fielder\"]]"
   ]
  },
  {
   "cell_type": "code",
   "execution_count": 104,
   "metadata": {},
   "outputs": [
    {
     "data": {
      "text/html": [
       "<div>\n",
       "<style scoped>\n",
       "    .dataframe tbody tr th:only-of-type {\n",
       "        vertical-align: middle;\n",
       "    }\n",
       "\n",
       "    .dataframe tbody tr th {\n",
       "        vertical-align: top;\n",
       "    }\n",
       "\n",
       "    .dataframe thead th {\n",
       "        text-align: right;\n",
       "    }\n",
       "</style>\n",
       "<table border=\"1\" class=\"dataframe\">\n",
       "  <thead>\n",
       "    <tr style=\"text-align: right;\">\n",
       "      <th></th>\n",
       "      <th>match_id</th>\n",
       "      <th>inning</th>\n",
       "      <th>batting_team</th>\n",
       "      <th>bowler</th>\n",
       "      <th>player_dismissed</th>\n",
       "      <th>dismissal_kind</th>\n",
       "      <th>fielder</th>\n",
       "    </tr>\n",
       "  </thead>\n",
       "  <tbody>\n",
       "    <tr>\n",
       "      <th>95097</th>\n",
       "      <td>402</td>\n",
       "      <td>1</td>\n",
       "      <td>Sunrisers Hyderabad</td>\n",
       "      <td>AB Dinda</td>\n",
       "      <td>Q de Kock</td>\n",
       "      <td>caught</td>\n",
       "      <td>MR Marsh</td>\n",
       "    </tr>\n",
       "    <tr>\n",
       "      <th>95924</th>\n",
       "      <td>405</td>\n",
       "      <td>2</td>\n",
       "      <td>Sunrisers Hyderabad</td>\n",
       "      <td>P Kumar</td>\n",
       "      <td>Q de Kock</td>\n",
       "      <td>bowled</td>\n",
       "      <td>NaN</td>\n",
       "    </tr>\n",
       "    <tr>\n",
       "      <th>97962</th>\n",
       "      <td>414</td>\n",
       "      <td>1</td>\n",
       "      <td>Sunrisers Hyderabad</td>\n",
       "      <td>MM Sharma</td>\n",
       "      <td>Q de Kock</td>\n",
       "      <td>caught</td>\n",
       "      <td>M Vijay</td>\n",
       "    </tr>\n",
       "    <tr>\n",
       "      <th>111245</th>\n",
       "      <td>469</td>\n",
       "      <td>2</td>\n",
       "      <td>Delhi Daredevils</td>\n",
       "      <td>KV Sharma</td>\n",
       "      <td>Q de Kock</td>\n",
       "      <td>caught</td>\n",
       "      <td>AJ Finch</td>\n",
       "    </tr>\n",
       "    <tr>\n",
       "      <th>112109</th>\n",
       "      <td>473</td>\n",
       "      <td>2</td>\n",
       "      <td>Delhi Daredevils</td>\n",
       "      <td>CJ Anderson</td>\n",
       "      <td>Q de Kock</td>\n",
       "      <td>caught</td>\n",
       "      <td>MEK Hussey</td>\n",
       "    </tr>\n",
       "    <tr>\n",
       "      <th>113683</th>\n",
       "      <td>480</td>\n",
       "      <td>1</td>\n",
       "      <td>Delhi Daredevils</td>\n",
       "      <td>PV Tambe</td>\n",
       "      <td>Q de Kock</td>\n",
       "      <td>caught and bowled</td>\n",
       "      <td>NaN</td>\n",
       "    </tr>\n",
       "    <tr>\n",
       "      <th>114868</th>\n",
       "      <td>485</td>\n",
       "      <td>1</td>\n",
       "      <td>Delhi Daredevils</td>\n",
       "      <td>UT Yadav</td>\n",
       "      <td>Q de Kock</td>\n",
       "      <td>caught</td>\n",
       "      <td>G Gambhir</td>\n",
       "    </tr>\n",
       "    <tr>\n",
       "      <th>115851</th>\n",
       "      <td>489</td>\n",
       "      <td>1</td>\n",
       "      <td>Delhi Daredevils</td>\n",
       "      <td>DW Steyn</td>\n",
       "      <td>Q de Kock</td>\n",
       "      <td>caught</td>\n",
       "      <td>KL Rahul</td>\n",
       "    </tr>\n",
       "    <tr>\n",
       "      <th>117330</th>\n",
       "      <td>495</td>\n",
       "      <td>2</td>\n",
       "      <td>Delhi Daredevils</td>\n",
       "      <td>MA Starc</td>\n",
       "      <td>Q de Kock</td>\n",
       "      <td>bowled</td>\n",
       "      <td>NaN</td>\n",
       "    </tr>\n",
       "    <tr>\n",
       "      <th>133028</th>\n",
       "      <td>561</td>\n",
       "      <td>2</td>\n",
       "      <td>Delhi Daredevils</td>\n",
       "      <td>KV Sharma</td>\n",
       "      <td>Q de Kock</td>\n",
       "      <td>stumped</td>\n",
       "      <td>NV Ojha</td>\n",
       "    </tr>\n",
       "    <tr>\n",
       "      <th>133977</th>\n",
       "      <td>565</td>\n",
       "      <td>2</td>\n",
       "      <td>Delhi Daredevils</td>\n",
       "      <td>IC Pandey</td>\n",
       "      <td>Q de Kock</td>\n",
       "      <td>caught</td>\n",
       "      <td>R Ashwin</td>\n",
       "    </tr>\n",
       "    <tr>\n",
       "      <th>135109</th>\n",
       "      <td>571</td>\n",
       "      <td>1</td>\n",
       "      <td>Delhi Daredevils</td>\n",
       "      <td>YS Chahal</td>\n",
       "      <td>Q de Kock</td>\n",
       "      <td>caught</td>\n",
       "      <td>V Kohli</td>\n",
       "    </tr>\n",
       "    <tr>\n",
       "      <th>136596</th>\n",
       "      <td>578</td>\n",
       "      <td>1</td>\n",
       "      <td>Delhi Daredevils</td>\n",
       "      <td>AD Russell</td>\n",
       "      <td>Q de Kock</td>\n",
       "      <td>caught</td>\n",
       "      <td>YK Pathan</td>\n",
       "    </tr>\n",
       "    <tr>\n",
       "      <th>138916</th>\n",
       "      <td>587</td>\n",
       "      <td>2</td>\n",
       "      <td>Delhi Daredevils</td>\n",
       "      <td>SR Watson</td>\n",
       "      <td>Q de Kock</td>\n",
       "      <td>caught</td>\n",
       "      <td>KM Jadhav</td>\n",
       "    </tr>\n",
       "    <tr>\n",
       "      <th>140106</th>\n",
       "      <td>593</td>\n",
       "      <td>1</td>\n",
       "      <td>Delhi Daredevils</td>\n",
       "      <td>MJ McClenaghan</td>\n",
       "      <td>Q de Kock</td>\n",
       "      <td>caught</td>\n",
       "      <td>HH Pandya</td>\n",
       "    </tr>\n",
       "    <tr>\n",
       "      <th>141656</th>\n",
       "      <td>599</td>\n",
       "      <td>2</td>\n",
       "      <td>Delhi Daredevils</td>\n",
       "      <td>DS Kulkarni</td>\n",
       "      <td>Q de Kock</td>\n",
       "      <td>caught</td>\n",
       "      <td>SK Raina</td>\n",
       "    </tr>\n",
       "    <tr>\n",
       "      <th>142245</th>\n",
       "      <td>602</td>\n",
       "      <td>1</td>\n",
       "      <td>Delhi Daredevils</td>\n",
       "      <td>AD Russell</td>\n",
       "      <td>Q de Kock</td>\n",
       "      <td>caught</td>\n",
       "      <td>GB Hogg</td>\n",
       "    </tr>\n",
       "    <tr>\n",
       "      <th>143672</th>\n",
       "      <td>607</td>\n",
       "      <td>2</td>\n",
       "      <td>Delhi Daredevils</td>\n",
       "      <td>S Kaushik</td>\n",
       "      <td>Q de Kock</td>\n",
       "      <td>caught</td>\n",
       "      <td>DR Smith</td>\n",
       "    </tr>\n",
       "    <tr>\n",
       "      <th>144840</th>\n",
       "      <td>612</td>\n",
       "      <td>2</td>\n",
       "      <td>Delhi Daredevils</td>\n",
       "      <td>MP Stoinis</td>\n",
       "      <td>Q de Kock</td>\n",
       "      <td>caught</td>\n",
       "      <td>AR Patel</td>\n",
       "    </tr>\n",
       "    <tr>\n",
       "      <th>146291</th>\n",
       "      <td>618</td>\n",
       "      <td>2</td>\n",
       "      <td>Delhi Daredevils</td>\n",
       "      <td>MC Henriques</td>\n",
       "      <td>Q de Kock</td>\n",
       "      <td>caught</td>\n",
       "      <td>NV Ojha</td>\n",
       "    </tr>\n",
       "    <tr>\n",
       "      <th>147366</th>\n",
       "      <td>623</td>\n",
       "      <td>2</td>\n",
       "      <td>Delhi Daredevils</td>\n",
       "      <td>KH Pandya</td>\n",
       "      <td>SV Samson</td>\n",
       "      <td>run out</td>\n",
       "      <td>Harbhajan Singh</td>\n",
       "    </tr>\n",
       "    <tr>\n",
       "      <th>147376</th>\n",
       "      <td>623</td>\n",
       "      <td>2</td>\n",
       "      <td>Delhi Daredevils</td>\n",
       "      <td>KH Pandya</td>\n",
       "      <td>Q de Kock</td>\n",
       "      <td>caught</td>\n",
       "      <td>JC Buttler</td>\n",
       "    </tr>\n",
       "    <tr>\n",
       "      <th>147687</th>\n",
       "      <td>625</td>\n",
       "      <td>1</td>\n",
       "      <td>Delhi Daredevils</td>\n",
       "      <td>AB Dinda</td>\n",
       "      <td>Q de Kock</td>\n",
       "      <td>lbw</td>\n",
       "      <td>NaN</td>\n",
       "    </tr>\n",
       "    <tr>\n",
       "      <th>148401</th>\n",
       "      <td>628</td>\n",
       "      <td>2</td>\n",
       "      <td>Delhi Daredevils</td>\n",
       "      <td>BB Sran</td>\n",
       "      <td>Q de Kock</td>\n",
       "      <td>caught</td>\n",
       "      <td>NV Ojha</td>\n",
       "    </tr>\n",
       "    <tr>\n",
       "      <th>149348</th>\n",
       "      <td>632</td>\n",
       "      <td>1</td>\n",
       "      <td>Delhi Daredevils</td>\n",
       "      <td>YS Chahal</td>\n",
       "      <td>Q de Kock</td>\n",
       "      <td>caught</td>\n",
       "      <td>CJ Jordan</td>\n",
       "    </tr>\n",
       "    <tr>\n",
       "      <th>150953</th>\n",
       "      <td>7896</td>\n",
       "      <td>1</td>\n",
       "      <td>Royal Challengers Bangalore</td>\n",
       "      <td>PP Chawla</td>\n",
       "      <td>Q de Kock</td>\n",
       "      <td>caught</td>\n",
       "      <td>R Vinay Kumar</td>\n",
       "    </tr>\n",
       "    <tr>\n",
       "      <th>152236</th>\n",
       "      <td>7901</td>\n",
       "      <td>2</td>\n",
       "      <td>Royal Challengers Bangalore</td>\n",
       "      <td>R Ashwin</td>\n",
       "      <td>Q de Kock</td>\n",
       "      <td>bowled</td>\n",
       "      <td>NaN</td>\n",
       "    </tr>\n",
       "    <tr>\n",
       "      <th>152951</th>\n",
       "      <td>7904</td>\n",
       "      <td>2</td>\n",
       "      <td>Royal Challengers Bangalore</td>\n",
       "      <td>D Short</td>\n",
       "      <td>Q de Kock</td>\n",
       "      <td>caught</td>\n",
       "      <td>JD Unadkat</td>\n",
       "    </tr>\n",
       "    <tr>\n",
       "      <th>153641</th>\n",
       "      <td>7907</td>\n",
       "      <td>2</td>\n",
       "      <td>Royal Challengers Bangalore</td>\n",
       "      <td>MJ McClenaghan</td>\n",
       "      <td>Q de Kock</td>\n",
       "      <td>bowled</td>\n",
       "      <td>NaN</td>\n",
       "    </tr>\n",
       "    <tr>\n",
       "      <th>155962</th>\n",
       "      <td>7917</td>\n",
       "      <td>1</td>\n",
       "      <td>Royal Challengers Bangalore</td>\n",
       "      <td>DJ Bravo</td>\n",
       "      <td>Q de Kock</td>\n",
       "      <td>caught</td>\n",
       "      <td>DJ Bravo</td>\n",
       "    </tr>\n",
       "    <tr>\n",
       "      <th>157155</th>\n",
       "      <td>7922</td>\n",
       "      <td>1</td>\n",
       "      <td>Royal Challengers Bangalore</td>\n",
       "      <td>Kuldeep Yadav</td>\n",
       "      <td>Q de Kock</td>\n",
       "      <td>caught</td>\n",
       "      <td>S Gill</td>\n",
       "    </tr>\n",
       "    <tr>\n",
       "      <th>157632</th>\n",
       "      <td>7924</td>\n",
       "      <td>1</td>\n",
       "      <td>Royal Challengers Bangalore</td>\n",
       "      <td>MJ McClenaghan</td>\n",
       "      <td>Q de Kock</td>\n",
       "      <td>caught</td>\n",
       "      <td>RG Sharma</td>\n",
       "    </tr>\n",
       "    <tr>\n",
       "      <th>165366</th>\n",
       "      <td>11139</td>\n",
       "      <td>2</td>\n",
       "      <td>Mumbai Indians</td>\n",
       "      <td>I Sharma</td>\n",
       "      <td>Q de Kock</td>\n",
       "      <td>caught</td>\n",
       "      <td>TA Boult</td>\n",
       "    </tr>\n",
       "    <tr>\n",
       "      <th>166239</th>\n",
       "      <td>11143</td>\n",
       "      <td>1</td>\n",
       "      <td>Mumbai Indians</td>\n",
       "      <td>YS Chahal</td>\n",
       "      <td>Q de Kock</td>\n",
       "      <td>bowled</td>\n",
       "      <td>NaN</td>\n",
       "    </tr>\n",
       "    <tr>\n",
       "      <th>166772</th>\n",
       "      <td>11145</td>\n",
       "      <td>1</td>\n",
       "      <td>Mumbai Indians</td>\n",
       "      <td>Mohammed Shami</td>\n",
       "      <td>Q de Kock</td>\n",
       "      <td>lbw</td>\n",
       "      <td>NaN</td>\n",
       "    </tr>\n",
       "    <tr>\n",
       "      <th>168196</th>\n",
       "      <td>11151</td>\n",
       "      <td>1</td>\n",
       "      <td>Mumbai Indians</td>\n",
       "      <td>DL Chahar</td>\n",
       "      <td>Q de Kock</td>\n",
       "      <td>caught</td>\n",
       "      <td>KM Jadhav</td>\n",
       "    </tr>\n",
       "    <tr>\n",
       "      <th>169214</th>\n",
       "      <td>11310</td>\n",
       "      <td>1</td>\n",
       "      <td>Mumbai Indians</td>\n",
       "      <td>S Kaul</td>\n",
       "      <td>Q de Kock</td>\n",
       "      <td>caught</td>\n",
       "      <td>DJ Hooda</td>\n",
       "    </tr>\n",
       "    <tr>\n",
       "      <th>170509</th>\n",
       "      <td>11315</td>\n",
       "      <td>2</td>\n",
       "      <td>Mumbai Indians</td>\n",
       "      <td>R Ashwin</td>\n",
       "      <td>Q de Kock</td>\n",
       "      <td>caught</td>\n",
       "      <td>DA Miller</td>\n",
       "    </tr>\n",
       "    <tr>\n",
       "      <th>171180</th>\n",
       "      <td>11318</td>\n",
       "      <td>1</td>\n",
       "      <td>Mumbai Indians</td>\n",
       "      <td>J Archer</td>\n",
       "      <td>Q de Kock</td>\n",
       "      <td>caught</td>\n",
       "      <td>JC Buttler</td>\n",
       "    </tr>\n",
       "    <tr>\n",
       "      <th>172209</th>\n",
       "      <td>11322</td>\n",
       "      <td>2</td>\n",
       "      <td>Mumbai Indians</td>\n",
       "      <td>M Ali</td>\n",
       "      <td>Q de Kock</td>\n",
       "      <td>lbw</td>\n",
       "      <td>NaN</td>\n",
       "    </tr>\n",
       "    <tr>\n",
       "      <th>173347</th>\n",
       "      <td>11327</td>\n",
       "      <td>1</td>\n",
       "      <td>Mumbai Indians</td>\n",
       "      <td>S Gopal</td>\n",
       "      <td>Q de Kock</td>\n",
       "      <td>caught</td>\n",
       "      <td>BA Stokes</td>\n",
       "    </tr>\n",
       "    <tr>\n",
       "      <th>175204</th>\n",
       "      <td>11335</td>\n",
       "      <td>1</td>\n",
       "      <td>Mumbai Indians</td>\n",
       "      <td>DL Chahar</td>\n",
       "      <td>Q de Kock</td>\n",
       "      <td>caught</td>\n",
       "      <td>AT Rayudu</td>\n",
       "    </tr>\n",
       "    <tr>\n",
       "      <th>176042</th>\n",
       "      <td>11338</td>\n",
       "      <td>2</td>\n",
       "      <td>Mumbai Indians</td>\n",
       "      <td>SP Narine</td>\n",
       "      <td>Q de Kock</td>\n",
       "      <td>caught</td>\n",
       "      <td>AD Russell</td>\n",
       "    </tr>\n",
       "    <tr>\n",
       "      <th>178040</th>\n",
       "      <td>11347</td>\n",
       "      <td>2</td>\n",
       "      <td>Mumbai Indians</td>\n",
       "      <td>P Krishna</td>\n",
       "      <td>Q de Kock</td>\n",
       "      <td>caught</td>\n",
       "      <td>KD Karthik</td>\n",
       "    </tr>\n",
       "    <tr>\n",
       "      <th>178246</th>\n",
       "      <td>11412</td>\n",
       "      <td>2</td>\n",
       "      <td>Mumbai Indians</td>\n",
       "      <td>Harbhajan Singh</td>\n",
       "      <td>Q de Kock</td>\n",
       "      <td>caught</td>\n",
       "      <td>F du Plessis</td>\n",
       "    </tr>\n",
       "    <tr>\n",
       "      <th>178859</th>\n",
       "      <td>11415</td>\n",
       "      <td>1</td>\n",
       "      <td>Mumbai Indians</td>\n",
       "      <td>SN Thakur</td>\n",
       "      <td>Q de Kock</td>\n",
       "      <td>caught</td>\n",
       "      <td>MS Dhoni</td>\n",
       "    </tr>\n",
       "  </tbody>\n",
       "</table>\n",
       "</div>"
      ],
      "text/plain": [
       "        match_id  inning                 batting_team           bowler  \\\n",
       "95097        402       1          Sunrisers Hyderabad         AB Dinda   \n",
       "95924        405       2          Sunrisers Hyderabad          P Kumar   \n",
       "97962        414       1          Sunrisers Hyderabad        MM Sharma   \n",
       "111245       469       2             Delhi Daredevils        KV Sharma   \n",
       "112109       473       2             Delhi Daredevils      CJ Anderson   \n",
       "113683       480       1             Delhi Daredevils         PV Tambe   \n",
       "114868       485       1             Delhi Daredevils         UT Yadav   \n",
       "115851       489       1             Delhi Daredevils         DW Steyn   \n",
       "117330       495       2             Delhi Daredevils         MA Starc   \n",
       "133028       561       2             Delhi Daredevils        KV Sharma   \n",
       "133977       565       2             Delhi Daredevils        IC Pandey   \n",
       "135109       571       1             Delhi Daredevils        YS Chahal   \n",
       "136596       578       1             Delhi Daredevils       AD Russell   \n",
       "138916       587       2             Delhi Daredevils        SR Watson   \n",
       "140106       593       1             Delhi Daredevils   MJ McClenaghan   \n",
       "141656       599       2             Delhi Daredevils      DS Kulkarni   \n",
       "142245       602       1             Delhi Daredevils       AD Russell   \n",
       "143672       607       2             Delhi Daredevils        S Kaushik   \n",
       "144840       612       2             Delhi Daredevils       MP Stoinis   \n",
       "146291       618       2             Delhi Daredevils     MC Henriques   \n",
       "147366       623       2             Delhi Daredevils        KH Pandya   \n",
       "147376       623       2             Delhi Daredevils        KH Pandya   \n",
       "147687       625       1             Delhi Daredevils         AB Dinda   \n",
       "148401       628       2             Delhi Daredevils          BB Sran   \n",
       "149348       632       1             Delhi Daredevils        YS Chahal   \n",
       "150953      7896       1  Royal Challengers Bangalore        PP Chawla   \n",
       "152236      7901       2  Royal Challengers Bangalore         R Ashwin   \n",
       "152951      7904       2  Royal Challengers Bangalore          D Short   \n",
       "153641      7907       2  Royal Challengers Bangalore   MJ McClenaghan   \n",
       "155962      7917       1  Royal Challengers Bangalore         DJ Bravo   \n",
       "157155      7922       1  Royal Challengers Bangalore    Kuldeep Yadav   \n",
       "157632      7924       1  Royal Challengers Bangalore   MJ McClenaghan   \n",
       "165366     11139       2               Mumbai Indians         I Sharma   \n",
       "166239     11143       1               Mumbai Indians        YS Chahal   \n",
       "166772     11145       1               Mumbai Indians   Mohammed Shami   \n",
       "168196     11151       1               Mumbai Indians        DL Chahar   \n",
       "169214     11310       1               Mumbai Indians           S Kaul   \n",
       "170509     11315       2               Mumbai Indians         R Ashwin   \n",
       "171180     11318       1               Mumbai Indians         J Archer   \n",
       "172209     11322       2               Mumbai Indians            M Ali   \n",
       "173347     11327       1               Mumbai Indians          S Gopal   \n",
       "175204     11335       1               Mumbai Indians        DL Chahar   \n",
       "176042     11338       2               Mumbai Indians        SP Narine   \n",
       "178040     11347       2               Mumbai Indians        P Krishna   \n",
       "178246     11412       2               Mumbai Indians  Harbhajan Singh   \n",
       "178859     11415       1               Mumbai Indians        SN Thakur   \n",
       "\n",
       "       player_dismissed     dismissal_kind          fielder  \n",
       "95097         Q de Kock             caught         MR Marsh  \n",
       "95924         Q de Kock             bowled              NaN  \n",
       "97962         Q de Kock             caught          M Vijay  \n",
       "111245        Q de Kock             caught         AJ Finch  \n",
       "112109        Q de Kock             caught       MEK Hussey  \n",
       "113683        Q de Kock  caught and bowled              NaN  \n",
       "114868        Q de Kock             caught        G Gambhir  \n",
       "115851        Q de Kock             caught         KL Rahul  \n",
       "117330        Q de Kock             bowled              NaN  \n",
       "133028        Q de Kock            stumped          NV Ojha  \n",
       "133977        Q de Kock             caught         R Ashwin  \n",
       "135109        Q de Kock             caught          V Kohli  \n",
       "136596        Q de Kock             caught        YK Pathan  \n",
       "138916        Q de Kock             caught        KM Jadhav  \n",
       "140106        Q de Kock             caught        HH Pandya  \n",
       "141656        Q de Kock             caught         SK Raina  \n",
       "142245        Q de Kock             caught          GB Hogg  \n",
       "143672        Q de Kock             caught         DR Smith  \n",
       "144840        Q de Kock             caught         AR Patel  \n",
       "146291        Q de Kock             caught          NV Ojha  \n",
       "147366        SV Samson            run out  Harbhajan Singh  \n",
       "147376        Q de Kock             caught       JC Buttler  \n",
       "147687        Q de Kock                lbw              NaN  \n",
       "148401        Q de Kock             caught          NV Ojha  \n",
       "149348        Q de Kock             caught        CJ Jordan  \n",
       "150953        Q de Kock             caught    R Vinay Kumar  \n",
       "152236        Q de Kock             bowled              NaN  \n",
       "152951        Q de Kock             caught       JD Unadkat  \n",
       "153641        Q de Kock             bowled              NaN  \n",
       "155962        Q de Kock             caught         DJ Bravo  \n",
       "157155        Q de Kock             caught           S Gill  \n",
       "157632        Q de Kock             caught        RG Sharma  \n",
       "165366        Q de Kock             caught         TA Boult  \n",
       "166239        Q de Kock             bowled              NaN  \n",
       "166772        Q de Kock                lbw              NaN  \n",
       "168196        Q de Kock             caught        KM Jadhav  \n",
       "169214        Q de Kock             caught         DJ Hooda  \n",
       "170509        Q de Kock             caught        DA Miller  \n",
       "171180        Q de Kock             caught       JC Buttler  \n",
       "172209        Q de Kock                lbw              NaN  \n",
       "173347        Q de Kock             caught        BA Stokes  \n",
       "175204        Q de Kock             caught        AT Rayudu  \n",
       "176042        Q de Kock             caught       AD Russell  \n",
       "178040        Q de Kock             caught       KD Karthik  \n",
       "178246        Q de Kock             caught     F du Plessis  \n",
       "178859        Q de Kock             caught         MS Dhoni  "
      ]
     },
     "execution_count": 104,
     "metadata": {},
     "output_type": "execute_result"
    }
   ],
   "source": [
    "dismissals_de"
   ]
  },
  {
   "cell_type": "code",
   "execution_count": 105,
   "metadata": {},
   "outputs": [
    {
     "data": {
      "text/plain": [
       "caught               35\n",
       "bowled                5\n",
       "lbw                   3\n",
       "stumped               1\n",
       "run out               1\n",
       "caught and bowled     1\n",
       "Name: dismissal_kind, dtype: int64"
      ]
     },
     "execution_count": 105,
     "metadata": {},
     "output_type": "execute_result"
    }
   ],
   "source": [
    "dismissals_de['dismissal_kind'].value_counts()"
   ]
  },
  {
   "cell_type": "code",
   "execution_count": 106,
   "metadata": {},
   "outputs": [
    {
     "data": {
      "text/plain": [
       "batting_team                 bowler           dismissal_kind   \n",
       "Delhi Daredevils             AB Dinda         lbw                  1\n",
       "                             AD Russell       caught               2\n",
       "                             BB Sran          caught               1\n",
       "                             CJ Anderson      caught               1\n",
       "                             DS Kulkarni      caught               1\n",
       "                             DW Steyn         caught               1\n",
       "                             IC Pandey        caught               1\n",
       "                             KH Pandya        caught               1\n",
       "                                              run out              1\n",
       "                             KV Sharma        caught               1\n",
       "                                              stumped              1\n",
       "                             MA Starc         bowled               1\n",
       "                             MC Henriques     caught               1\n",
       "                             MJ McClenaghan   caught               1\n",
       "                             MP Stoinis       caught               1\n",
       "                             PV Tambe         caught and bowled    1\n",
       "                             S Kaushik        caught               1\n",
       "                             SR Watson        caught               1\n",
       "                             UT Yadav         caught               1\n",
       "                             YS Chahal        caught               2\n",
       "Mumbai Indians               DL Chahar        caught               2\n",
       "                             Harbhajan Singh  caught               1\n",
       "                             I Sharma         caught               1\n",
       "                             J Archer         caught               1\n",
       "                             M Ali            lbw                  1\n",
       "                             Mohammed Shami   lbw                  1\n",
       "                             P Krishna        caught               1\n",
       "                             R Ashwin         caught               1\n",
       "                             S Gopal          caught               1\n",
       "                             S Kaul           caught               1\n",
       "                             SN Thakur        caught               1\n",
       "                             SP Narine        caught               1\n",
       "                             YS Chahal        bowled               1\n",
       "Royal Challengers Bangalore  D Short          caught               1\n",
       "                             DJ Bravo         caught               1\n",
       "                             Kuldeep Yadav    caught               1\n",
       "                             MJ McClenaghan   bowled               1\n",
       "                                              caught               1\n",
       "                             PP Chawla        caught               1\n",
       "                             R Ashwin         bowled               1\n",
       "Sunrisers Hyderabad          AB Dinda         caught               1\n",
       "                             MM Sharma        caught               1\n",
       "                             P Kumar          bowled               1\n",
       "Name: dismissal_kind, dtype: int64"
      ]
     },
     "execution_count": 106,
     "metadata": {},
     "output_type": "execute_result"
    }
   ],
   "source": [
    "dismissals_de.groupby(['batting_team','bowler'])['dismissal_kind'].value_counts()"
   ]
  },
  {
   "cell_type": "markdown",
   "metadata": {},
   "source": [
    "# Quinton De Kock have played for 4 teams in IPL from 2008 -19.\n",
    "#Seam/Pace have taken more than 80% of wickets against them and very few spinners are able to take wickets"
   ]
  },
  {
   "cell_type": "markdown",
   "metadata": {},
   "source": [
    "# KL Rahul teams played in IPL from 2008-19"
   ]
  },
  {
   "cell_type": "code",
   "execution_count": 109,
   "metadata": {},
   "outputs": [
    {
     "data": {
      "text/html": [
       "<div>\n",
       "<style scoped>\n",
       "    .dataframe tbody tr th:only-of-type {\n",
       "        vertical-align: middle;\n",
       "    }\n",
       "\n",
       "    .dataframe tbody tr th {\n",
       "        vertical-align: top;\n",
       "    }\n",
       "\n",
       "    .dataframe thead th {\n",
       "        text-align: right;\n",
       "    }\n",
       "</style>\n",
       "<table border=\"1\" class=\"dataframe\">\n",
       "  <thead>\n",
       "    <tr style=\"text-align: right;\">\n",
       "      <th></th>\n",
       "      <th>match_id</th>\n",
       "      <th>inning</th>\n",
       "      <th>batting_team</th>\n",
       "      <th>bowling_team</th>\n",
       "      <th>over</th>\n",
       "      <th>ball</th>\n",
       "      <th>batsman</th>\n",
       "      <th>non_striker</th>\n",
       "      <th>bowler</th>\n",
       "      <th>is_super_over</th>\n",
       "      <th>...</th>\n",
       "      <th>bye_runs</th>\n",
       "      <th>legbye_runs</th>\n",
       "      <th>noball_runs</th>\n",
       "      <th>penalty_runs</th>\n",
       "      <th>batsman_runs</th>\n",
       "      <th>extra_runs</th>\n",
       "      <th>total_runs</th>\n",
       "      <th>player_dismissed</th>\n",
       "      <th>dismissal_kind</th>\n",
       "      <th>fielder</th>\n",
       "    </tr>\n",
       "  </thead>\n",
       "  <tbody>\n",
       "    <tr>\n",
       "      <th>94952</th>\n",
       "      <td>401</td>\n",
       "      <td>2</td>\n",
       "      <td>Royal Challengers Bangalore</td>\n",
       "      <td>Delhi Daredevils</td>\n",
       "      <td>1</td>\n",
       "      <td>2</td>\n",
       "      <td>KL Rahul</td>\n",
       "      <td>CH Gayle</td>\n",
       "      <td>A Nehra</td>\n",
       "      <td>0</td>\n",
       "      <td>...</td>\n",
       "      <td>0</td>\n",
       "      <td>0</td>\n",
       "      <td>0</td>\n",
       "      <td>0</td>\n",
       "      <td>0</td>\n",
       "      <td>0</td>\n",
       "      <td>0</td>\n",
       "      <td>NaN</td>\n",
       "      <td>NaN</td>\n",
       "      <td>NaN</td>\n",
       "    </tr>\n",
       "  </tbody>\n",
       "</table>\n",
       "<p>1 rows × 21 columns</p>\n",
       "</div>"
      ],
      "text/plain": [
       "       match_id  inning                 batting_team      bowling_team  over  \\\n",
       "94952       401       2  Royal Challengers Bangalore  Delhi Daredevils     1   \n",
       "\n",
       "       ball   batsman non_striker   bowler  is_super_over  ...  bye_runs  \\\n",
       "94952     2  KL Rahul    CH Gayle  A Nehra              0  ...         0   \n",
       "\n",
       "       legbye_runs  noball_runs  penalty_runs  batsman_runs  extra_runs  \\\n",
       "94952            0            0             0             0           0   \n",
       "\n",
       "       total_runs  player_dismissed dismissal_kind fielder  \n",
       "94952           0               NaN            NaN     NaN  \n",
       "\n",
       "[1 rows x 21 columns]"
      ]
     },
     "execution_count": 109,
     "metadata": {},
     "output_type": "execute_result"
    }
   ],
   "source": [
    "name = 'KL Rahul'\n",
    "batsman1_season = delivers[delivers['batsman'] == name]\n",
    "batsman1_season.head(1)"
   ]
  },
  {
   "cell_type": "code",
   "execution_count": 110,
   "metadata": {},
   "outputs": [
    {
     "data": {
      "text/plain": [
       "array(['Royal Challengers Bangalore', 'Sunrisers Hyderabad',\n",
       "       'Kings XI Punjab'], dtype=object)"
      ]
     },
     "execution_count": 110,
     "metadata": {},
     "output_type": "execute_result"
    }
   ],
   "source": [
    "batsman1_season['batting_team'].unique()"
   ]
  },
  {
   "cell_type": "code",
   "execution_count": 115,
   "metadata": {},
   "outputs": [],
   "source": [
    "dismissals_1 = batsman1_season[ pd.notnull(batsman1_season[\"player_dismissed\"])]\n",
    "dismissals_1 = dismissals_1[[\"match_id\", \"inning\", \"bowler\",\"player_dismissed\", \"dismissal_kind\", \"fielder\"]]"
   ]
  },
  {
   "cell_type": "code",
   "execution_count": 116,
   "metadata": {},
   "outputs": [
    {
     "data": {
      "text/html": [
       "<div>\n",
       "<style scoped>\n",
       "    .dataframe tbody tr th:only-of-type {\n",
       "        vertical-align: middle;\n",
       "    }\n",
       "\n",
       "    .dataframe tbody tr th {\n",
       "        vertical-align: top;\n",
       "    }\n",
       "\n",
       "    .dataframe thead th {\n",
       "        text-align: right;\n",
       "    }\n",
       "</style>\n",
       "<table border=\"1\" class=\"dataframe\">\n",
       "  <thead>\n",
       "    <tr style=\"text-align: right;\">\n",
       "      <th></th>\n",
       "      <th>match_id</th>\n",
       "      <th>inning</th>\n",
       "      <th>bowler</th>\n",
       "      <th>player_dismissed</th>\n",
       "      <th>dismissal_kind</th>\n",
       "      <th>fielder</th>\n",
       "    </tr>\n",
       "  </thead>\n",
       "  <tbody>\n",
       "    <tr>\n",
       "      <th>94969</th>\n",
       "      <td>401</td>\n",
       "      <td>2</td>\n",
       "      <td>A Nehra</td>\n",
       "      <td>KL Rahul</td>\n",
       "      <td>caught</td>\n",
       "      <td>DPMD Jayawardene</td>\n",
       "    </tr>\n",
       "    <tr>\n",
       "      <th>101685</th>\n",
       "      <td>429</td>\n",
       "      <td>1</td>\n",
       "      <td>Azhar Mahmood</td>\n",
       "      <td>KL Rahul</td>\n",
       "      <td>caught</td>\n",
       "      <td>Mandeep Singh</td>\n",
       "    </tr>\n",
       "    <tr>\n",
       "      <th>109239</th>\n",
       "      <td>461</td>\n",
       "      <td>1</td>\n",
       "      <td>DS Kulkarni</td>\n",
       "      <td>KL Rahul</td>\n",
       "      <td>caught</td>\n",
       "      <td>AM Rahane</td>\n",
       "    </tr>\n",
       "    <tr>\n",
       "      <th>110527</th>\n",
       "      <td>466</td>\n",
       "      <td>2</td>\n",
       "      <td>AR Patel</td>\n",
       "      <td>KL Rahul</td>\n",
       "      <td>caught</td>\n",
       "      <td>DA Miller</td>\n",
       "    </tr>\n",
       "    <tr>\n",
       "      <th>112244</th>\n",
       "      <td>474</td>\n",
       "      <td>1</td>\n",
       "      <td>DR Smith</td>\n",
       "      <td>KL Rahul</td>\n",
       "      <td>caught</td>\n",
       "      <td>IC Pandey</td>\n",
       "    </tr>\n",
       "    <tr>\n",
       "      <th>113044</th>\n",
       "      <td>477</td>\n",
       "      <td>1</td>\n",
       "      <td>SL Malinga</td>\n",
       "      <td>KL Rahul</td>\n",
       "      <td>caught</td>\n",
       "      <td>CM Gautam</td>\n",
       "    </tr>\n",
       "    <tr>\n",
       "      <th>113882</th>\n",
       "      <td>481</td>\n",
       "      <td>1</td>\n",
       "      <td>AB Dinda</td>\n",
       "      <td>KL Rahul</td>\n",
       "      <td>caught</td>\n",
       "      <td>CH Gayle</td>\n",
       "    </tr>\n",
       "    <tr>\n",
       "      <th>115388</th>\n",
       "      <td>487</td>\n",
       "      <td>1</td>\n",
       "      <td>R Bhatia</td>\n",
       "      <td>KL Rahul</td>\n",
       "      <td>bowled</td>\n",
       "      <td>NaN</td>\n",
       "    </tr>\n",
       "    <tr>\n",
       "      <th>116769</th>\n",
       "      <td>493</td>\n",
       "      <td>1</td>\n",
       "      <td>PP Ojha</td>\n",
       "      <td>KL Rahul</td>\n",
       "      <td>run out</td>\n",
       "      <td>RG Sharma</td>\n",
       "    </tr>\n",
       "    <tr>\n",
       "      <th>118500</th>\n",
       "      <td>500</td>\n",
       "      <td>1</td>\n",
       "      <td>PP Chawla</td>\n",
       "      <td>KL Rahul</td>\n",
       "      <td>lbw</td>\n",
       "      <td>NaN</td>\n",
       "    </tr>\n",
       "    <tr>\n",
       "      <th>123613</th>\n",
       "      <td>521</td>\n",
       "      <td>2</td>\n",
       "      <td>MM Sharma</td>\n",
       "      <td>KL Rahul</td>\n",
       "      <td>bowled</td>\n",
       "      <td>NaN</td>\n",
       "    </tr>\n",
       "    <tr>\n",
       "      <th>125447</th>\n",
       "      <td>529</td>\n",
       "      <td>1</td>\n",
       "      <td>TG Southee</td>\n",
       "      <td>DA Warner</td>\n",
       "      <td>run out</td>\n",
       "      <td>AM Rahane</td>\n",
       "    </tr>\n",
       "    <tr>\n",
       "      <th>125448</th>\n",
       "      <td>529</td>\n",
       "      <td>1</td>\n",
       "      <td>DS Kulkarni</td>\n",
       "      <td>KL Rahul</td>\n",
       "      <td>lbw</td>\n",
       "      <td>NaN</td>\n",
       "    </tr>\n",
       "    <tr>\n",
       "      <th>126102</th>\n",
       "      <td>531</td>\n",
       "      <td>2</td>\n",
       "      <td>AD Mathews</td>\n",
       "      <td>KL Rahul</td>\n",
       "      <td>bowled</td>\n",
       "      <td>NaN</td>\n",
       "    </tr>\n",
       "    <tr>\n",
       "      <th>128504</th>\n",
       "      <td>541</td>\n",
       "      <td>2</td>\n",
       "      <td>MJ McClenaghan</td>\n",
       "      <td>KL Rahul</td>\n",
       "      <td>caught</td>\n",
       "      <td>AT Rayudu</td>\n",
       "    </tr>\n",
       "    <tr>\n",
       "      <th>133702</th>\n",
       "      <td>564</td>\n",
       "      <td>1</td>\n",
       "      <td>BE Hendricks</td>\n",
       "      <td>NV Ojha</td>\n",
       "      <td>run out</td>\n",
       "      <td>GJ Bailey</td>\n",
       "    </tr>\n",
       "    <tr>\n",
       "      <th>135245</th>\n",
       "      <td>572</td>\n",
       "      <td>1</td>\n",
       "      <td>Harbhajan Singh</td>\n",
       "      <td>KL Rahul</td>\n",
       "      <td>bowled</td>\n",
       "      <td>NaN</td>\n",
       "    </tr>\n",
       "    <tr>\n",
       "      <th>139409</th>\n",
       "      <td>590</td>\n",
       "      <td>1</td>\n",
       "      <td>MJ McClenaghan</td>\n",
       "      <td>KL Rahul</td>\n",
       "      <td>caught</td>\n",
       "      <td>Harbhajan Singh</td>\n",
       "    </tr>\n",
       "    <tr>\n",
       "      <th>139863</th>\n",
       "      <td>592</td>\n",
       "      <td>1</td>\n",
       "      <td>NLTC Perera</td>\n",
       "      <td>KL Rahul</td>\n",
       "      <td>caught</td>\n",
       "      <td>I Sharma</td>\n",
       "    </tr>\n",
       "    <tr>\n",
       "      <th>142665</th>\n",
       "      <td>603</td>\n",
       "      <td>2</td>\n",
       "      <td>MC Henriques</td>\n",
       "      <td>KL Rahul</td>\n",
       "      <td>caught</td>\n",
       "      <td>NV Ojha</td>\n",
       "    </tr>\n",
       "    <tr>\n",
       "      <th>143279</th>\n",
       "      <td>606</td>\n",
       "      <td>1</td>\n",
       "      <td>PP Chawla</td>\n",
       "      <td>KL Rahul</td>\n",
       "      <td>caught</td>\n",
       "      <td>YK Pathan</td>\n",
       "    </tr>\n",
       "    <tr>\n",
       "      <th>144618</th>\n",
       "      <td>611</td>\n",
       "      <td>2</td>\n",
       "      <td>A Zampa</td>\n",
       "      <td>KL Rahul</td>\n",
       "      <td>caught</td>\n",
       "      <td>GJ Bailey</td>\n",
       "    </tr>\n",
       "    <tr>\n",
       "      <th>145418</th>\n",
       "      <td>615</td>\n",
       "      <td>1</td>\n",
       "      <td>KC Cariappa</td>\n",
       "      <td>KL Rahul</td>\n",
       "      <td>bowled</td>\n",
       "      <td>NaN</td>\n",
       "    </tr>\n",
       "    <tr>\n",
       "      <th>149434</th>\n",
       "      <td>632</td>\n",
       "      <td>2</td>\n",
       "      <td>CR Brathwaite</td>\n",
       "      <td>KL Rahul</td>\n",
       "      <td>bowled</td>\n",
       "      <td>NaN</td>\n",
       "    </tr>\n",
       "    <tr>\n",
       "      <th>149631</th>\n",
       "      <td>633</td>\n",
       "      <td>2</td>\n",
       "      <td>DS Kulkarni</td>\n",
       "      <td>KL Rahul</td>\n",
       "      <td>caught</td>\n",
       "      <td>DR Smith</td>\n",
       "    </tr>\n",
       "    <tr>\n",
       "      <th>150432</th>\n",
       "      <td>636</td>\n",
       "      <td>2</td>\n",
       "      <td>BCJ Cutting</td>\n",
       "      <td>KL Rahul</td>\n",
       "      <td>bowled</td>\n",
       "      <td>NaN</td>\n",
       "    </tr>\n",
       "    <tr>\n",
       "      <th>150858</th>\n",
       "      <td>7895</td>\n",
       "      <td>2</td>\n",
       "      <td>TA Boult</td>\n",
       "      <td>KL Rahul</td>\n",
       "      <td>caught</td>\n",
       "      <td>Mohammed Shami</td>\n",
       "    </tr>\n",
       "    <tr>\n",
       "      <th>152117</th>\n",
       "      <td>7901</td>\n",
       "      <td>1</td>\n",
       "      <td>Washington Sundar</td>\n",
       "      <td>KL Rahul</td>\n",
       "      <td>caught</td>\n",
       "      <td>SN Khan</td>\n",
       "    </tr>\n",
       "    <tr>\n",
       "      <th>153074</th>\n",
       "      <td>7905</td>\n",
       "      <td>1</td>\n",
       "      <td>Harbhajan Singh</td>\n",
       "      <td>KL Rahul</td>\n",
       "      <td>caught</td>\n",
       "      <td>DJ Bravo</td>\n",
       "    </tr>\n",
       "    <tr>\n",
       "      <th>154025</th>\n",
       "      <td>7909</td>\n",
       "      <td>1</td>\n",
       "      <td>Rashid Khan</td>\n",
       "      <td>KL Rahul</td>\n",
       "      <td>lbw</td>\n",
       "      <td>NaN</td>\n",
       "    </tr>\n",
       "    <tr>\n",
       "      <th>154663</th>\n",
       "      <td>7911</td>\n",
       "      <td>2</td>\n",
       "      <td>SP Narine</td>\n",
       "      <td>KL Rahul</td>\n",
       "      <td>caught</td>\n",
       "      <td>T Curran</td>\n",
       "    </tr>\n",
       "    <tr>\n",
       "      <th>155428</th>\n",
       "      <td>7915</td>\n",
       "      <td>1</td>\n",
       "      <td>L Plunkett</td>\n",
       "      <td>KL Rahul</td>\n",
       "      <td>caught</td>\n",
       "      <td>Avesh Khan</td>\n",
       "    </tr>\n",
       "    <tr>\n",
       "      <th>156303</th>\n",
       "      <td>7918</td>\n",
       "      <td>2</td>\n",
       "      <td>Rashid Khan</td>\n",
       "      <td>KL Rahul</td>\n",
       "      <td>bowled</td>\n",
       "      <td>NaN</td>\n",
       "    </tr>\n",
       "    <tr>\n",
       "      <th>158316</th>\n",
       "      <td>7927</td>\n",
       "      <td>1</td>\n",
       "      <td>M Markande</td>\n",
       "      <td>KL Rahul</td>\n",
       "      <td>caught</td>\n",
       "      <td>JP Duminy</td>\n",
       "    </tr>\n",
       "    <tr>\n",
       "      <th>160871</th>\n",
       "      <td>7937</td>\n",
       "      <td>2</td>\n",
       "      <td>SP Narine</td>\n",
       "      <td>KL Rahul</td>\n",
       "      <td>bowled</td>\n",
       "      <td>NaN</td>\n",
       "    </tr>\n",
       "    <tr>\n",
       "      <th>161697</th>\n",
       "      <td>7941</td>\n",
       "      <td>1</td>\n",
       "      <td>UT Yadav</td>\n",
       "      <td>KL Rahul</td>\n",
       "      <td>caught</td>\n",
       "      <td>C de Grandhomme</td>\n",
       "    </tr>\n",
       "    <tr>\n",
       "      <th>162280</th>\n",
       "      <td>7943</td>\n",
       "      <td>2</td>\n",
       "      <td>JJ Bumrah</td>\n",
       "      <td>KL Rahul</td>\n",
       "      <td>caught</td>\n",
       "      <td>BCJ Cutting</td>\n",
       "    </tr>\n",
       "    <tr>\n",
       "      <th>163547</th>\n",
       "      <td>7949</td>\n",
       "      <td>1</td>\n",
       "      <td>L Ngidi</td>\n",
       "      <td>KL Rahul</td>\n",
       "      <td>bowled</td>\n",
       "      <td>NaN</td>\n",
       "    </tr>\n",
       "    <tr>\n",
       "      <th>165457</th>\n",
       "      <td>11140</td>\n",
       "      <td>1</td>\n",
       "      <td>DS Kulkarni</td>\n",
       "      <td>KL Rahul</td>\n",
       "      <td>caught</td>\n",
       "      <td>JC Buttler</td>\n",
       "    </tr>\n",
       "    <tr>\n",
       "      <th>166085</th>\n",
       "      <td>11142</td>\n",
       "      <td>2</td>\n",
       "      <td>L Ferguson</td>\n",
       "      <td>KL Rahul</td>\n",
       "      <td>caught</td>\n",
       "      <td>Kuldeep Yadav</td>\n",
       "    </tr>\n",
       "    <tr>\n",
       "      <th>167699</th>\n",
       "      <td>11149</td>\n",
       "      <td>1</td>\n",
       "      <td>CH Morris</td>\n",
       "      <td>KL Rahul</td>\n",
       "      <td>lbw</td>\n",
       "      <td>NaN</td>\n",
       "    </tr>\n",
       "    <tr>\n",
       "      <th>169147</th>\n",
       "      <td>11309</td>\n",
       "      <td>2</td>\n",
       "      <td>S Kuggeleijn</td>\n",
       "      <td>KL Rahul</td>\n",
       "      <td>caught</td>\n",
       "      <td>RA Jadeja</td>\n",
       "    </tr>\n",
       "    <tr>\n",
       "      <th>171348</th>\n",
       "      <td>11319</td>\n",
       "      <td>1</td>\n",
       "      <td>YS Chahal</td>\n",
       "      <td>KL Rahul</td>\n",
       "      <td>stumped</td>\n",
       "      <td>PA Patel</td>\n",
       "    </tr>\n",
       "    <tr>\n",
       "      <th>172387</th>\n",
       "      <td>11323</td>\n",
       "      <td>1</td>\n",
       "      <td>JD Unadkat</td>\n",
       "      <td>KL Rahul</td>\n",
       "      <td>caught</td>\n",
       "      <td>J Archer</td>\n",
       "    </tr>\n",
       "    <tr>\n",
       "      <th>173507</th>\n",
       "      <td>11328</td>\n",
       "      <td>1</td>\n",
       "      <td>S Lamichhane</td>\n",
       "      <td>KL Rahul</td>\n",
       "      <td>stumped</td>\n",
       "      <td>RR Pant</td>\n",
       "    </tr>\n",
       "    <tr>\n",
       "      <th>174882</th>\n",
       "      <td>11333</td>\n",
       "      <td>2</td>\n",
       "      <td>M Ali</td>\n",
       "      <td>KL Rahul</td>\n",
       "      <td>caught</td>\n",
       "      <td>TG Southee</td>\n",
       "    </tr>\n",
       "    <tr>\n",
       "      <th>176401</th>\n",
       "      <td>11339</td>\n",
       "      <td>2</td>\n",
       "      <td>K Ahmed</td>\n",
       "      <td>KL Rahul</td>\n",
       "      <td>caught</td>\n",
       "      <td>KS Williamson</td>\n",
       "    </tr>\n",
       "    <tr>\n",
       "      <th>176949</th>\n",
       "      <td>11343</td>\n",
       "      <td>1</td>\n",
       "      <td>S Warrier</td>\n",
       "      <td>KL Rahul</td>\n",
       "      <td>caught</td>\n",
       "      <td>CA Lynn</td>\n",
       "    </tr>\n",
       "    <tr>\n",
       "      <th>177826</th>\n",
       "      <td>11346</td>\n",
       "      <td>2</td>\n",
       "      <td>Harbhajan Singh</td>\n",
       "      <td>KL Rahul</td>\n",
       "      <td>caught</td>\n",
       "      <td>Imran Tahir</td>\n",
       "    </tr>\n",
       "  </tbody>\n",
       "</table>\n",
       "</div>"
      ],
      "text/plain": [
       "        match_id  inning             bowler player_dismissed dismissal_kind  \\\n",
       "94969        401       2            A Nehra         KL Rahul         caught   \n",
       "101685       429       1      Azhar Mahmood         KL Rahul         caught   \n",
       "109239       461       1        DS Kulkarni         KL Rahul         caught   \n",
       "110527       466       2           AR Patel         KL Rahul         caught   \n",
       "112244       474       1           DR Smith         KL Rahul         caught   \n",
       "113044       477       1         SL Malinga         KL Rahul         caught   \n",
       "113882       481       1           AB Dinda         KL Rahul         caught   \n",
       "115388       487       1           R Bhatia         KL Rahul         bowled   \n",
       "116769       493       1            PP Ojha         KL Rahul        run out   \n",
       "118500       500       1          PP Chawla         KL Rahul            lbw   \n",
       "123613       521       2          MM Sharma         KL Rahul         bowled   \n",
       "125447       529       1         TG Southee        DA Warner        run out   \n",
       "125448       529       1        DS Kulkarni         KL Rahul            lbw   \n",
       "126102       531       2         AD Mathews         KL Rahul         bowled   \n",
       "128504       541       2     MJ McClenaghan         KL Rahul         caught   \n",
       "133702       564       1       BE Hendricks          NV Ojha        run out   \n",
       "135245       572       1    Harbhajan Singh         KL Rahul         bowled   \n",
       "139409       590       1     MJ McClenaghan         KL Rahul         caught   \n",
       "139863       592       1        NLTC Perera         KL Rahul         caught   \n",
       "142665       603       2       MC Henriques         KL Rahul         caught   \n",
       "143279       606       1          PP Chawla         KL Rahul         caught   \n",
       "144618       611       2            A Zampa         KL Rahul         caught   \n",
       "145418       615       1        KC Cariappa         KL Rahul         bowled   \n",
       "149434       632       2      CR Brathwaite         KL Rahul         bowled   \n",
       "149631       633       2        DS Kulkarni         KL Rahul         caught   \n",
       "150432       636       2        BCJ Cutting         KL Rahul         bowled   \n",
       "150858      7895       2           TA Boult         KL Rahul         caught   \n",
       "152117      7901       1  Washington Sundar         KL Rahul         caught   \n",
       "153074      7905       1    Harbhajan Singh         KL Rahul         caught   \n",
       "154025      7909       1        Rashid Khan         KL Rahul            lbw   \n",
       "154663      7911       2          SP Narine         KL Rahul         caught   \n",
       "155428      7915       1         L Plunkett         KL Rahul         caught   \n",
       "156303      7918       2        Rashid Khan         KL Rahul         bowled   \n",
       "158316      7927       1         M Markande         KL Rahul         caught   \n",
       "160871      7937       2          SP Narine         KL Rahul         bowled   \n",
       "161697      7941       1           UT Yadav         KL Rahul         caught   \n",
       "162280      7943       2          JJ Bumrah         KL Rahul         caught   \n",
       "163547      7949       1            L Ngidi         KL Rahul         bowled   \n",
       "165457     11140       1        DS Kulkarni         KL Rahul         caught   \n",
       "166085     11142       2         L Ferguson         KL Rahul         caught   \n",
       "167699     11149       1          CH Morris         KL Rahul            lbw   \n",
       "169147     11309       2       S Kuggeleijn         KL Rahul         caught   \n",
       "171348     11319       1          YS Chahal         KL Rahul        stumped   \n",
       "172387     11323       1         JD Unadkat         KL Rahul         caught   \n",
       "173507     11328       1       S Lamichhane         KL Rahul        stumped   \n",
       "174882     11333       2              M Ali         KL Rahul         caught   \n",
       "176401     11339       2            K Ahmed         KL Rahul         caught   \n",
       "176949     11343       1          S Warrier         KL Rahul         caught   \n",
       "177826     11346       2    Harbhajan Singh         KL Rahul         caught   \n",
       "\n",
       "                 fielder  \n",
       "94969   DPMD Jayawardene  \n",
       "101685     Mandeep Singh  \n",
       "109239         AM Rahane  \n",
       "110527         DA Miller  \n",
       "112244         IC Pandey  \n",
       "113044         CM Gautam  \n",
       "113882          CH Gayle  \n",
       "115388               NaN  \n",
       "116769         RG Sharma  \n",
       "118500               NaN  \n",
       "123613               NaN  \n",
       "125447         AM Rahane  \n",
       "125448               NaN  \n",
       "126102               NaN  \n",
       "128504         AT Rayudu  \n",
       "133702         GJ Bailey  \n",
       "135245               NaN  \n",
       "139409   Harbhajan Singh  \n",
       "139863          I Sharma  \n",
       "142665           NV Ojha  \n",
       "143279         YK Pathan  \n",
       "144618         GJ Bailey  \n",
       "145418               NaN  \n",
       "149434               NaN  \n",
       "149631          DR Smith  \n",
       "150432               NaN  \n",
       "150858    Mohammed Shami  \n",
       "152117           SN Khan  \n",
       "153074          DJ Bravo  \n",
       "154025               NaN  \n",
       "154663          T Curran  \n",
       "155428        Avesh Khan  \n",
       "156303               NaN  \n",
       "158316         JP Duminy  \n",
       "160871               NaN  \n",
       "161697   C de Grandhomme  \n",
       "162280       BCJ Cutting  \n",
       "163547               NaN  \n",
       "165457        JC Buttler  \n",
       "166085     Kuldeep Yadav  \n",
       "167699               NaN  \n",
       "169147         RA Jadeja  \n",
       "171348          PA Patel  \n",
       "172387          J Archer  \n",
       "173507           RR Pant  \n",
       "174882        TG Southee  \n",
       "176401     KS Williamson  \n",
       "176949           CA Lynn  \n",
       "177826       Imran Tahir  "
      ]
     },
     "execution_count": 116,
     "metadata": {},
     "output_type": "execute_result"
    }
   ],
   "source": [
    "dismissals_1"
   ]
  },
  {
   "cell_type": "code",
   "execution_count": 117,
   "metadata": {},
   "outputs": [
    {
     "data": {
      "text/plain": [
       "caught     30\n",
       "bowled     10\n",
       "lbw         4\n",
       "run out     3\n",
       "stumped     2\n",
       "Name: dismissal_kind, dtype: int64"
      ]
     },
     "execution_count": 117,
     "metadata": {},
     "output_type": "execute_result"
    }
   ],
   "source": [
    "dismissals_1['dismissal_kind'].value_counts()"
   ]
  },
  {
   "cell_type": "markdown",
   "metadata": {},
   "source": [
    "# KL Rahul against Mumbai Indians"
   ]
  },
  {
   "cell_type": "code",
   "execution_count": 64,
   "metadata": {},
   "outputs": [
    {
     "data": {
      "text/html": [
       "<div>\n",
       "<style scoped>\n",
       "    .dataframe tbody tr th:only-of-type {\n",
       "        vertical-align: middle;\n",
       "    }\n",
       "\n",
       "    .dataframe tbody tr th {\n",
       "        vertical-align: top;\n",
       "    }\n",
       "\n",
       "    .dataframe thead th {\n",
       "        text-align: right;\n",
       "    }\n",
       "</style>\n",
       "<table border=\"1\" class=\"dataframe\">\n",
       "  <thead>\n",
       "    <tr style=\"text-align: right;\">\n",
       "      <th></th>\n",
       "      <th>match_id</th>\n",
       "      <th>inning</th>\n",
       "      <th>batting_team</th>\n",
       "      <th>bowling_team</th>\n",
       "      <th>over</th>\n",
       "      <th>ball</th>\n",
       "      <th>batsman</th>\n",
       "      <th>non_striker</th>\n",
       "      <th>bowler</th>\n",
       "      <th>is_super_over</th>\n",
       "      <th>...</th>\n",
       "      <th>bye_runs</th>\n",
       "      <th>legbye_runs</th>\n",
       "      <th>noball_runs</th>\n",
       "      <th>penalty_runs</th>\n",
       "      <th>batsman_runs</th>\n",
       "      <th>extra_runs</th>\n",
       "      <th>total_runs</th>\n",
       "      <th>player_dismissed</th>\n",
       "      <th>dismissal_kind</th>\n",
       "      <th>fielder</th>\n",
       "    </tr>\n",
       "  </thead>\n",
       "  <tbody>\n",
       "    <tr>\n",
       "      <th>158275</th>\n",
       "      <td>7927</td>\n",
       "      <td>1</td>\n",
       "      <td>Kings XI Punjab</td>\n",
       "      <td>Mumbai Indians</td>\n",
       "      <td>1</td>\n",
       "      <td>1</td>\n",
       "      <td>KL Rahul</td>\n",
       "      <td>CH Gayle</td>\n",
       "      <td>MJ McClenaghan</td>\n",
       "      <td>0</td>\n",
       "      <td>...</td>\n",
       "      <td>0</td>\n",
       "      <td>0</td>\n",
       "      <td>0</td>\n",
       "      <td>0</td>\n",
       "      <td>0</td>\n",
       "      <td>0</td>\n",
       "      <td>0</td>\n",
       "      <td>NaN</td>\n",
       "      <td>NaN</td>\n",
       "      <td>NaN</td>\n",
       "    </tr>\n",
       "  </tbody>\n",
       "</table>\n",
       "<p>1 rows × 21 columns</p>\n",
       "</div>"
      ],
      "text/plain": [
       "        match_id  inning     batting_team    bowling_team  over  ball  \\\n",
       "158275      7927       1  Kings XI Punjab  Mumbai Indians     1     1   \n",
       "\n",
       "         batsman non_striker          bowler  is_super_over  ...  bye_runs  \\\n",
       "158275  KL Rahul    CH Gayle  MJ McClenaghan              0  ...         0   \n",
       "\n",
       "        legbye_runs  noball_runs  penalty_runs  batsman_runs  extra_runs  \\\n",
       "158275            0            0             0             0           0   \n",
       "\n",
       "        total_runs  player_dismissed dismissal_kind fielder  \n",
       "158275           0               NaN            NaN     NaN  \n",
       "\n",
       "[1 rows x 21 columns]"
      ]
     },
     "execution_count": 64,
     "metadata": {},
     "output_type": "execute_result"
    }
   ],
   "source": [
    "name = 'KL Rahul'\n",
    "batsman = mi_kxipdel[mi_kxipdel['batsman'] == name]\n",
    "batsman.head(1)"
   ]
  },
  {
   "cell_type": "code",
   "execution_count": 65,
   "metadata": {},
   "outputs": [],
   "source": [
    "name = 'Kings XI Punjab'\n",
    "MI_wicket = mi_kxipdel[mi_kxipdel['batting_team'] == name]"
   ]
  },
  {
   "cell_type": "code",
   "execution_count": 66,
   "metadata": {},
   "outputs": [
    {
     "data": {
      "text/plain": [
       "Index(['match_id', 'inning', 'batting_team', 'bowling_team', 'over', 'ball',\n",
       "       'batsman', 'non_striker', 'bowler', 'is_super_over', 'wide_runs',\n",
       "       'bye_runs', 'legbye_runs', 'noball_runs', 'penalty_runs',\n",
       "       'batsman_runs', 'extra_runs', 'total_runs', 'player_dismissed',\n",
       "       'dismissal_kind', 'fielder'],\n",
       "      dtype='object')"
      ]
     },
     "execution_count": 66,
     "metadata": {},
     "output_type": "execute_result"
    }
   ],
   "source": [
    "MI_wicket.columns"
   ]
  },
  {
   "cell_type": "code",
   "execution_count": 67,
   "metadata": {},
   "outputs": [
    {
     "data": {
      "text/html": [
       "<div>\n",
       "<style scoped>\n",
       "    .dataframe tbody tr th:only-of-type {\n",
       "        vertical-align: middle;\n",
       "    }\n",
       "\n",
       "    .dataframe tbody tr th {\n",
       "        vertical-align: top;\n",
       "    }\n",
       "\n",
       "    .dataframe thead th {\n",
       "        text-align: right;\n",
       "    }\n",
       "</style>\n",
       "<table border=\"1\" class=\"dataframe\">\n",
       "  <thead>\n",
       "    <tr style=\"text-align: right;\">\n",
       "      <th></th>\n",
       "      <th>match_id</th>\n",
       "      <th>inning</th>\n",
       "      <th>batting_team</th>\n",
       "      <th>bowling_team</th>\n",
       "      <th>over</th>\n",
       "      <th>ball</th>\n",
       "      <th>batsman</th>\n",
       "      <th>non_striker</th>\n",
       "      <th>bowler</th>\n",
       "      <th>is_super_over</th>\n",
       "      <th>...</th>\n",
       "      <th>bye_runs</th>\n",
       "      <th>legbye_runs</th>\n",
       "      <th>noball_runs</th>\n",
       "      <th>penalty_runs</th>\n",
       "      <th>batsman_runs</th>\n",
       "      <th>extra_runs</th>\n",
       "      <th>total_runs</th>\n",
       "      <th>player_dismissed</th>\n",
       "      <th>dismissal_kind</th>\n",
       "      <th>fielder</th>\n",
       "    </tr>\n",
       "  </thead>\n",
       "  <tbody>\n",
       "    <tr>\n",
       "      <th>5055</th>\n",
       "      <td>22</td>\n",
       "      <td>1</td>\n",
       "      <td>Kings XI Punjab</td>\n",
       "      <td>Mumbai Indians</td>\n",
       "      <td>1</td>\n",
       "      <td>1</td>\n",
       "      <td>HM Amla</td>\n",
       "      <td>SE Marsh</td>\n",
       "      <td>HH Pandya</td>\n",
       "      <td>0</td>\n",
       "      <td>...</td>\n",
       "      <td>0</td>\n",
       "      <td>0</td>\n",
       "      <td>0</td>\n",
       "      <td>0</td>\n",
       "      <td>1</td>\n",
       "      <td>0</td>\n",
       "      <td>1</td>\n",
       "      <td>NaN</td>\n",
       "      <td>NaN</td>\n",
       "      <td>NaN</td>\n",
       "    </tr>\n",
       "    <tr>\n",
       "      <th>5056</th>\n",
       "      <td>22</td>\n",
       "      <td>1</td>\n",
       "      <td>Kings XI Punjab</td>\n",
       "      <td>Mumbai Indians</td>\n",
       "      <td>1</td>\n",
       "      <td>2</td>\n",
       "      <td>SE Marsh</td>\n",
       "      <td>HM Amla</td>\n",
       "      <td>HH Pandya</td>\n",
       "      <td>0</td>\n",
       "      <td>...</td>\n",
       "      <td>0</td>\n",
       "      <td>0</td>\n",
       "      <td>0</td>\n",
       "      <td>0</td>\n",
       "      <td>0</td>\n",
       "      <td>0</td>\n",
       "      <td>0</td>\n",
       "      <td>NaN</td>\n",
       "      <td>NaN</td>\n",
       "      <td>NaN</td>\n",
       "    </tr>\n",
       "    <tr>\n",
       "      <th>5057</th>\n",
       "      <td>22</td>\n",
       "      <td>1</td>\n",
       "      <td>Kings XI Punjab</td>\n",
       "      <td>Mumbai Indians</td>\n",
       "      <td>1</td>\n",
       "      <td>3</td>\n",
       "      <td>SE Marsh</td>\n",
       "      <td>HM Amla</td>\n",
       "      <td>HH Pandya</td>\n",
       "      <td>0</td>\n",
       "      <td>...</td>\n",
       "      <td>0</td>\n",
       "      <td>0</td>\n",
       "      <td>0</td>\n",
       "      <td>0</td>\n",
       "      <td>4</td>\n",
       "      <td>0</td>\n",
       "      <td>4</td>\n",
       "      <td>NaN</td>\n",
       "      <td>NaN</td>\n",
       "      <td>NaN</td>\n",
       "    </tr>\n",
       "    <tr>\n",
       "      <th>5058</th>\n",
       "      <td>22</td>\n",
       "      <td>1</td>\n",
       "      <td>Kings XI Punjab</td>\n",
       "      <td>Mumbai Indians</td>\n",
       "      <td>1</td>\n",
       "      <td>4</td>\n",
       "      <td>SE Marsh</td>\n",
       "      <td>HM Amla</td>\n",
       "      <td>HH Pandya</td>\n",
       "      <td>0</td>\n",
       "      <td>...</td>\n",
       "      <td>0</td>\n",
       "      <td>0</td>\n",
       "      <td>0</td>\n",
       "      <td>0</td>\n",
       "      <td>0</td>\n",
       "      <td>0</td>\n",
       "      <td>0</td>\n",
       "      <td>NaN</td>\n",
       "      <td>NaN</td>\n",
       "      <td>NaN</td>\n",
       "    </tr>\n",
       "    <tr>\n",
       "      <th>5059</th>\n",
       "      <td>22</td>\n",
       "      <td>1</td>\n",
       "      <td>Kings XI Punjab</td>\n",
       "      <td>Mumbai Indians</td>\n",
       "      <td>1</td>\n",
       "      <td>5</td>\n",
       "      <td>SE Marsh</td>\n",
       "      <td>HM Amla</td>\n",
       "      <td>HH Pandya</td>\n",
       "      <td>0</td>\n",
       "      <td>...</td>\n",
       "      <td>0</td>\n",
       "      <td>0</td>\n",
       "      <td>0</td>\n",
       "      <td>0</td>\n",
       "      <td>1</td>\n",
       "      <td>0</td>\n",
       "      <td>1</td>\n",
       "      <td>NaN</td>\n",
       "      <td>NaN</td>\n",
       "      <td>NaN</td>\n",
       "    </tr>\n",
       "  </tbody>\n",
       "</table>\n",
       "<p>5 rows × 21 columns</p>\n",
       "</div>"
      ],
      "text/plain": [
       "      match_id  inning     batting_team    bowling_team  over  ball   batsman  \\\n",
       "5055        22       1  Kings XI Punjab  Mumbai Indians     1     1   HM Amla   \n",
       "5056        22       1  Kings XI Punjab  Mumbai Indians     1     2  SE Marsh   \n",
       "5057        22       1  Kings XI Punjab  Mumbai Indians     1     3  SE Marsh   \n",
       "5058        22       1  Kings XI Punjab  Mumbai Indians     1     4  SE Marsh   \n",
       "5059        22       1  Kings XI Punjab  Mumbai Indians     1     5  SE Marsh   \n",
       "\n",
       "     non_striker     bowler  is_super_over  ...  bye_runs  legbye_runs  \\\n",
       "5055    SE Marsh  HH Pandya              0  ...         0            0   \n",
       "5056     HM Amla  HH Pandya              0  ...         0            0   \n",
       "5057     HM Amla  HH Pandya              0  ...         0            0   \n",
       "5058     HM Amla  HH Pandya              0  ...         0            0   \n",
       "5059     HM Amla  HH Pandya              0  ...         0            0   \n",
       "\n",
       "      noball_runs  penalty_runs  batsman_runs  extra_runs  total_runs  \\\n",
       "5055            0             0             1           0           1   \n",
       "5056            0             0             0           0           0   \n",
       "5057            0             0             4           0           4   \n",
       "5058            0             0             0           0           0   \n",
       "5059            0             0             1           0           1   \n",
       "\n",
       "      player_dismissed dismissal_kind fielder  \n",
       "5055               NaN            NaN     NaN  \n",
       "5056               NaN            NaN     NaN  \n",
       "5057               NaN            NaN     NaN  \n",
       "5058               NaN            NaN     NaN  \n",
       "5059               NaN            NaN     NaN  \n",
       "\n",
       "[5 rows x 21 columns]"
      ]
     },
     "execution_count": 67,
     "metadata": {},
     "output_type": "execute_result"
    }
   ],
   "source": [
    "MI_wicket.head()"
   ]
  },
  {
   "cell_type": "code",
   "execution_count": 68,
   "metadata": {},
   "outputs": [],
   "source": [
    "KL_rahul_wicket = MI_wicket[MI_wicket['batsman'] == 'KL Rahul']"
   ]
  },
  {
   "cell_type": "code",
   "execution_count": 69,
   "metadata": {},
   "outputs": [
    {
     "data": {
      "text/html": [
       "<div>\n",
       "<style scoped>\n",
       "    .dataframe tbody tr th:only-of-type {\n",
       "        vertical-align: middle;\n",
       "    }\n",
       "\n",
       "    .dataframe tbody tr th {\n",
       "        vertical-align: top;\n",
       "    }\n",
       "\n",
       "    .dataframe thead th {\n",
       "        text-align: right;\n",
       "    }\n",
       "</style>\n",
       "<table border=\"1\" class=\"dataframe\">\n",
       "  <thead>\n",
       "    <tr style=\"text-align: right;\">\n",
       "      <th></th>\n",
       "      <th>match_id</th>\n",
       "      <th>inning</th>\n",
       "      <th>batting_team</th>\n",
       "      <th>bowling_team</th>\n",
       "      <th>over</th>\n",
       "      <th>ball</th>\n",
       "      <th>batsman</th>\n",
       "      <th>non_striker</th>\n",
       "      <th>bowler</th>\n",
       "      <th>is_super_over</th>\n",
       "      <th>...</th>\n",
       "      <th>bye_runs</th>\n",
       "      <th>legbye_runs</th>\n",
       "      <th>noball_runs</th>\n",
       "      <th>penalty_runs</th>\n",
       "      <th>batsman_runs</th>\n",
       "      <th>extra_runs</th>\n",
       "      <th>total_runs</th>\n",
       "      <th>player_dismissed</th>\n",
       "      <th>dismissal_kind</th>\n",
       "      <th>fielder</th>\n",
       "    </tr>\n",
       "  </thead>\n",
       "  <tbody>\n",
       "    <tr>\n",
       "      <th>158275</th>\n",
       "      <td>7927</td>\n",
       "      <td>1</td>\n",
       "      <td>Kings XI Punjab</td>\n",
       "      <td>Mumbai Indians</td>\n",
       "      <td>1</td>\n",
       "      <td>1</td>\n",
       "      <td>KL Rahul</td>\n",
       "      <td>CH Gayle</td>\n",
       "      <td>MJ McClenaghan</td>\n",
       "      <td>0</td>\n",
       "      <td>...</td>\n",
       "      <td>0</td>\n",
       "      <td>0</td>\n",
       "      <td>0</td>\n",
       "      <td>0</td>\n",
       "      <td>0</td>\n",
       "      <td>0</td>\n",
       "      <td>0</td>\n",
       "      <td>NaN</td>\n",
       "      <td>NaN</td>\n",
       "      <td>NaN</td>\n",
       "    </tr>\n",
       "    <tr>\n",
       "      <th>158276</th>\n",
       "      <td>7927</td>\n",
       "      <td>1</td>\n",
       "      <td>Kings XI Punjab</td>\n",
       "      <td>Mumbai Indians</td>\n",
       "      <td>1</td>\n",
       "      <td>2</td>\n",
       "      <td>KL Rahul</td>\n",
       "      <td>CH Gayle</td>\n",
       "      <td>MJ McClenaghan</td>\n",
       "      <td>0</td>\n",
       "      <td>...</td>\n",
       "      <td>0</td>\n",
       "      <td>0</td>\n",
       "      <td>0</td>\n",
       "      <td>0</td>\n",
       "      <td>1</td>\n",
       "      <td>0</td>\n",
       "      <td>1</td>\n",
       "      <td>NaN</td>\n",
       "      <td>NaN</td>\n",
       "      <td>NaN</td>\n",
       "    </tr>\n",
       "    <tr>\n",
       "      <th>158279</th>\n",
       "      <td>7927</td>\n",
       "      <td>1</td>\n",
       "      <td>Kings XI Punjab</td>\n",
       "      <td>Mumbai Indians</td>\n",
       "      <td>1</td>\n",
       "      <td>5</td>\n",
       "      <td>KL Rahul</td>\n",
       "      <td>CH Gayle</td>\n",
       "      <td>MJ McClenaghan</td>\n",
       "      <td>0</td>\n",
       "      <td>...</td>\n",
       "      <td>0</td>\n",
       "      <td>0</td>\n",
       "      <td>0</td>\n",
       "      <td>0</td>\n",
       "      <td>6</td>\n",
       "      <td>0</td>\n",
       "      <td>6</td>\n",
       "      <td>NaN</td>\n",
       "      <td>NaN</td>\n",
       "      <td>NaN</td>\n",
       "    </tr>\n",
       "    <tr>\n",
       "      <th>158280</th>\n",
       "      <td>7927</td>\n",
       "      <td>1</td>\n",
       "      <td>Kings XI Punjab</td>\n",
       "      <td>Mumbai Indians</td>\n",
       "      <td>1</td>\n",
       "      <td>6</td>\n",
       "      <td>KL Rahul</td>\n",
       "      <td>CH Gayle</td>\n",
       "      <td>MJ McClenaghan</td>\n",
       "      <td>0</td>\n",
       "      <td>...</td>\n",
       "      <td>0</td>\n",
       "      <td>0</td>\n",
       "      <td>0</td>\n",
       "      <td>0</td>\n",
       "      <td>1</td>\n",
       "      <td>0</td>\n",
       "      <td>1</td>\n",
       "      <td>NaN</td>\n",
       "      <td>NaN</td>\n",
       "      <td>NaN</td>\n",
       "    </tr>\n",
       "    <tr>\n",
       "      <th>158281</th>\n",
       "      <td>7927</td>\n",
       "      <td>1</td>\n",
       "      <td>Kings XI Punjab</td>\n",
       "      <td>Mumbai Indians</td>\n",
       "      <td>2</td>\n",
       "      <td>1</td>\n",
       "      <td>KL Rahul</td>\n",
       "      <td>CH Gayle</td>\n",
       "      <td>JJ Bumrah</td>\n",
       "      <td>0</td>\n",
       "      <td>...</td>\n",
       "      <td>0</td>\n",
       "      <td>0</td>\n",
       "      <td>0</td>\n",
       "      <td>0</td>\n",
       "      <td>6</td>\n",
       "      <td>0</td>\n",
       "      <td>6</td>\n",
       "      <td>NaN</td>\n",
       "      <td>NaN</td>\n",
       "      <td>NaN</td>\n",
       "    </tr>\n",
       "  </tbody>\n",
       "</table>\n",
       "<p>5 rows × 21 columns</p>\n",
       "</div>"
      ],
      "text/plain": [
       "        match_id  inning     batting_team    bowling_team  over  ball  \\\n",
       "158275      7927       1  Kings XI Punjab  Mumbai Indians     1     1   \n",
       "158276      7927       1  Kings XI Punjab  Mumbai Indians     1     2   \n",
       "158279      7927       1  Kings XI Punjab  Mumbai Indians     1     5   \n",
       "158280      7927       1  Kings XI Punjab  Mumbai Indians     1     6   \n",
       "158281      7927       1  Kings XI Punjab  Mumbai Indians     2     1   \n",
       "\n",
       "         batsman non_striker          bowler  is_super_over  ...  bye_runs  \\\n",
       "158275  KL Rahul    CH Gayle  MJ McClenaghan              0  ...         0   \n",
       "158276  KL Rahul    CH Gayle  MJ McClenaghan              0  ...         0   \n",
       "158279  KL Rahul    CH Gayle  MJ McClenaghan              0  ...         0   \n",
       "158280  KL Rahul    CH Gayle  MJ McClenaghan              0  ...         0   \n",
       "158281  KL Rahul    CH Gayle       JJ Bumrah              0  ...         0   \n",
       "\n",
       "        legbye_runs  noball_runs  penalty_runs  batsman_runs  extra_runs  \\\n",
       "158275            0            0             0             0           0   \n",
       "158276            0            0             0             1           0   \n",
       "158279            0            0             0             6           0   \n",
       "158280            0            0             0             1           0   \n",
       "158281            0            0             0             6           0   \n",
       "\n",
       "        total_runs  player_dismissed dismissal_kind fielder  \n",
       "158275           0               NaN            NaN     NaN  \n",
       "158276           1               NaN            NaN     NaN  \n",
       "158279           6               NaN            NaN     NaN  \n",
       "158280           1               NaN            NaN     NaN  \n",
       "158281           6               NaN            NaN     NaN  \n",
       "\n",
       "[5 rows x 21 columns]"
      ]
     },
     "execution_count": 69,
     "metadata": {},
     "output_type": "execute_result"
    }
   ],
   "source": [
    "KL_rahul_wicket.head()"
   ]
  },
  {
   "cell_type": "code",
   "execution_count": 70,
   "metadata": {},
   "outputs": [
    {
     "data": {
      "text/plain": [
       "(208, 21)"
      ]
     },
     "execution_count": 70,
     "metadata": {},
     "output_type": "execute_result"
    }
   ],
   "source": [
    "KL_rahul_wicket.shape"
   ]
  },
  {
   "cell_type": "code",
   "execution_count": 71,
   "metadata": {},
   "outputs": [
    {
     "data": {
      "text/plain": [
       "match_id              0\n",
       "inning                0\n",
       "batting_team          0\n",
       "bowling_team          0\n",
       "over                  0\n",
       "ball                  0\n",
       "batsman               0\n",
       "non_striker           0\n",
       "bowler                0\n",
       "is_super_over         0\n",
       "wide_runs             0\n",
       "bye_runs              0\n",
       "legbye_runs           0\n",
       "noball_runs           0\n",
       "penalty_runs          0\n",
       "batsman_runs          0\n",
       "extra_runs            0\n",
       "total_runs            0\n",
       "player_dismissed    206\n",
       "dismissal_kind      206\n",
       "fielder             206\n",
       "dtype: int64"
      ]
     },
     "execution_count": 71,
     "metadata": {},
     "output_type": "execute_result"
    }
   ],
   "source": [
    "KL_rahul_wicket.isnull().sum()"
   ]
  },
  {
   "cell_type": "code",
   "execution_count": 72,
   "metadata": {},
   "outputs": [],
   "source": [
    "dismissals = KL_rahul_wicket[ pd.notnull(KL_rahul_wicket[\"player_dismissed\"])]\n",
    "dismissals = dismissals[[\"match_id\", \"inning\", \"bowler\",\"player_dismissed\", \"dismissal_kind\", \"fielder\"]]"
   ]
  },
  {
   "cell_type": "code",
   "execution_count": 73,
   "metadata": {},
   "outputs": [
    {
     "data": {
      "text/html": [
       "<div>\n",
       "<style scoped>\n",
       "    .dataframe tbody tr th:only-of-type {\n",
       "        vertical-align: middle;\n",
       "    }\n",
       "\n",
       "    .dataframe tbody tr th {\n",
       "        vertical-align: top;\n",
       "    }\n",
       "\n",
       "    .dataframe thead th {\n",
       "        text-align: right;\n",
       "    }\n",
       "</style>\n",
       "<table border=\"1\" class=\"dataframe\">\n",
       "  <thead>\n",
       "    <tr style=\"text-align: right;\">\n",
       "      <th></th>\n",
       "      <th>match_id</th>\n",
       "      <th>inning</th>\n",
       "      <th>bowler</th>\n",
       "      <th>player_dismissed</th>\n",
       "      <th>dismissal_kind</th>\n",
       "      <th>fielder</th>\n",
       "    </tr>\n",
       "  </thead>\n",
       "  <tbody>\n",
       "    <tr>\n",
       "      <th>158316</th>\n",
       "      <td>7927</td>\n",
       "      <td>1</td>\n",
       "      <td>M Markande</td>\n",
       "      <td>KL Rahul</td>\n",
       "      <td>caught</td>\n",
       "      <td>JP Duminy</td>\n",
       "    </tr>\n",
       "    <tr>\n",
       "      <th>162280</th>\n",
       "      <td>7943</td>\n",
       "      <td>2</td>\n",
       "      <td>JJ Bumrah</td>\n",
       "      <td>KL Rahul</td>\n",
       "      <td>caught</td>\n",
       "      <td>BCJ Cutting</td>\n",
       "    </tr>\n",
       "  </tbody>\n",
       "</table>\n",
       "</div>"
      ],
      "text/plain": [
       "        match_id  inning      bowler player_dismissed dismissal_kind  \\\n",
       "158316      7927       1  M Markande         KL Rahul         caught   \n",
       "162280      7943       2   JJ Bumrah         KL Rahul         caught   \n",
       "\n",
       "            fielder  \n",
       "158316    JP Duminy  \n",
       "162280  BCJ Cutting  "
      ]
     },
     "execution_count": 73,
     "metadata": {},
     "output_type": "execute_result"
    }
   ],
   "source": [
    "dismissals"
   ]
  },
  {
   "cell_type": "code",
   "execution_count": 74,
   "metadata": {},
   "outputs": [
    {
     "data": {
      "text/plain": [
       "caught    2\n",
       "Name: dismissal_kind, dtype: int64"
      ]
     },
     "execution_count": 74,
     "metadata": {},
     "output_type": "execute_result"
    }
   ],
   "source": [
    "dismissals['dismissal_kind'].value_counts()"
   ]
  },
  {
   "cell_type": "markdown",
   "metadata": {},
   "source": [
    "# Totals Wickets losed in Match by both teams"
   ]
  },
  {
   "cell_type": "code",
   "execution_count": 75,
   "metadata": {},
   "outputs": [
    {
     "data": {
      "text/plain": [
       "match_id               0\n",
       "inning                 0\n",
       "batting_team           0\n",
       "bowling_team           0\n",
       "over                   0\n",
       "ball                   0\n",
       "batsman                0\n",
       "non_striker            0\n",
       "bowler                 0\n",
       "is_super_over          0\n",
       "wide_runs              0\n",
       "bye_runs               0\n",
       "legbye_runs            0\n",
       "noball_runs            0\n",
       "penalty_runs           0\n",
       "batsman_runs           0\n",
       "extra_runs             0\n",
       "total_runs             0\n",
       "player_dismissed    5540\n",
       "dismissal_kind      5540\n",
       "fielder             5618\n",
       "dtype: int64"
      ]
     },
     "execution_count": 75,
     "metadata": {},
     "output_type": "execute_result"
    }
   ],
   "source": [
    "mi_kxipdel.isnull().sum()"
   ]
  },
  {
   "cell_type": "code",
   "execution_count": 76,
   "metadata": {},
   "outputs": [
    {
     "data": {
      "text/plain": [
       "(5834, 21)"
      ]
     },
     "execution_count": 76,
     "metadata": {},
     "output_type": "execute_result"
    }
   ],
   "source": [
    "mi_kxipdel.shape"
   ]
  },
  {
   "cell_type": "code",
   "execution_count": 77,
   "metadata": {},
   "outputs": [],
   "source": [
    "total_wicket = mi_kxipdel[ pd.notnull(mi_kxipdel[\"player_dismissed\"])]\n",
    "total_wicket = total_wicket[[\"match_id\", \"batting_team\",\"inning\", \"bowler\",\"player_dismissed\", \"dismissal_kind\", \"fielder\"]]"
   ]
  },
  {
   "cell_type": "code",
   "execution_count": 78,
   "metadata": {},
   "outputs": [
    {
     "data": {
      "text/html": [
       "<div>\n",
       "<style scoped>\n",
       "    .dataframe tbody tr th:only-of-type {\n",
       "        vertical-align: middle;\n",
       "    }\n",
       "\n",
       "    .dataframe tbody tr th {\n",
       "        vertical-align: top;\n",
       "    }\n",
       "\n",
       "    .dataframe thead th {\n",
       "        text-align: right;\n",
       "    }\n",
       "</style>\n",
       "<table border=\"1\" class=\"dataframe\">\n",
       "  <thead>\n",
       "    <tr style=\"text-align: right;\">\n",
       "      <th></th>\n",
       "      <th>match_id</th>\n",
       "      <th>batting_team</th>\n",
       "      <th>inning</th>\n",
       "      <th>bowler</th>\n",
       "      <th>player_dismissed</th>\n",
       "      <th>dismissal_kind</th>\n",
       "      <th>fielder</th>\n",
       "    </tr>\n",
       "  </thead>\n",
       "  <tbody>\n",
       "    <tr>\n",
       "      <th>5089</th>\n",
       "      <td>22</td>\n",
       "      <td>Kings XI Punjab</td>\n",
       "      <td>1</td>\n",
       "      <td>MJ McClenaghan</td>\n",
       "      <td>SE Marsh</td>\n",
       "      <td>caught</td>\n",
       "      <td>KA Pollard</td>\n",
       "    </tr>\n",
       "    <tr>\n",
       "      <th>5121</th>\n",
       "      <td>22</td>\n",
       "      <td>Kings XI Punjab</td>\n",
       "      <td>1</td>\n",
       "      <td>KH Pandya</td>\n",
       "      <td>WP Saha</td>\n",
       "      <td>bowled</td>\n",
       "      <td>NaN</td>\n",
       "    </tr>\n",
       "    <tr>\n",
       "      <th>5157</th>\n",
       "      <td>22</td>\n",
       "      <td>Kings XI Punjab</td>\n",
       "      <td>1</td>\n",
       "      <td>JJ Bumrah</td>\n",
       "      <td>GJ Maxwell</td>\n",
       "      <td>bowled</td>\n",
       "      <td>NaN</td>\n",
       "    </tr>\n",
       "    <tr>\n",
       "      <th>5162</th>\n",
       "      <td>22</td>\n",
       "      <td>Kings XI Punjab</td>\n",
       "      <td>1</td>\n",
       "      <td>MJ McClenaghan</td>\n",
       "      <td>MP Stoinis</td>\n",
       "      <td>caught</td>\n",
       "      <td>KA Pollard</td>\n",
       "    </tr>\n",
       "    <tr>\n",
       "      <th>5218</th>\n",
       "      <td>22</td>\n",
       "      <td>Mumbai Indians</td>\n",
       "      <td>2</td>\n",
       "      <td>MP Stoinis</td>\n",
       "      <td>PA Patel</td>\n",
       "      <td>caught</td>\n",
       "      <td>GJ Maxwell</td>\n",
       "    </tr>\n",
       "    <tr>\n",
       "      <th>...</th>\n",
       "      <td>...</td>\n",
       "      <td>...</td>\n",
       "      <td>...</td>\n",
       "      <td>...</td>\n",
       "      <td>...</td>\n",
       "      <td>...</td>\n",
       "      <td>...</td>\n",
       "    </tr>\n",
       "    <tr>\n",
       "      <th>170509</th>\n",
       "      <td>11315</td>\n",
       "      <td>Mumbai Indians</td>\n",
       "      <td>2</td>\n",
       "      <td>R Ashwin</td>\n",
       "      <td>Q de Kock</td>\n",
       "      <td>caught</td>\n",
       "      <td>DA Miller</td>\n",
       "    </tr>\n",
       "    <tr>\n",
       "      <th>170530</th>\n",
       "      <td>11315</td>\n",
       "      <td>Mumbai Indians</td>\n",
       "      <td>2</td>\n",
       "      <td>S Curran</td>\n",
       "      <td>Ishan Kishan</td>\n",
       "      <td>run out</td>\n",
       "      <td>S Curran</td>\n",
       "    </tr>\n",
       "    <tr>\n",
       "      <th>170551</th>\n",
       "      <td>11315</td>\n",
       "      <td>Mumbai Indians</td>\n",
       "      <td>2</td>\n",
       "      <td>Mohammed Shami</td>\n",
       "      <td>HH Pandya</td>\n",
       "      <td>caught</td>\n",
       "      <td>DA Miller</td>\n",
       "    </tr>\n",
       "    <tr>\n",
       "      <th>170556</th>\n",
       "      <td>11315</td>\n",
       "      <td>Mumbai Indians</td>\n",
       "      <td>2</td>\n",
       "      <td>Mohammed Shami</td>\n",
       "      <td>KH Pandya</td>\n",
       "      <td>caught</td>\n",
       "      <td>DA Miller</td>\n",
       "    </tr>\n",
       "    <tr>\n",
       "      <th>170579</th>\n",
       "      <td>11315</td>\n",
       "      <td>Mumbai Indians</td>\n",
       "      <td>2</td>\n",
       "      <td>AS Rajpoot</td>\n",
       "      <td>KA Pollard</td>\n",
       "      <td>caught</td>\n",
       "      <td>DA Miller</td>\n",
       "    </tr>\n",
       "  </tbody>\n",
       "</table>\n",
       "<p>294 rows × 7 columns</p>\n",
       "</div>"
      ],
      "text/plain": [
       "        match_id     batting_team  inning          bowler player_dismissed  \\\n",
       "5089          22  Kings XI Punjab       1  MJ McClenaghan         SE Marsh   \n",
       "5121          22  Kings XI Punjab       1       KH Pandya          WP Saha   \n",
       "5157          22  Kings XI Punjab       1       JJ Bumrah       GJ Maxwell   \n",
       "5162          22  Kings XI Punjab       1  MJ McClenaghan       MP Stoinis   \n",
       "5218          22   Mumbai Indians       2      MP Stoinis         PA Patel   \n",
       "...          ...              ...     ...             ...              ...   \n",
       "170509     11315   Mumbai Indians       2        R Ashwin        Q de Kock   \n",
       "170530     11315   Mumbai Indians       2        S Curran     Ishan Kishan   \n",
       "170551     11315   Mumbai Indians       2  Mohammed Shami        HH Pandya   \n",
       "170556     11315   Mumbai Indians       2  Mohammed Shami        KH Pandya   \n",
       "170579     11315   Mumbai Indians       2      AS Rajpoot       KA Pollard   \n",
       "\n",
       "       dismissal_kind     fielder  \n",
       "5089           caught  KA Pollard  \n",
       "5121           bowled         NaN  \n",
       "5157           bowled         NaN  \n",
       "5162           caught  KA Pollard  \n",
       "5218           caught  GJ Maxwell  \n",
       "...               ...         ...  \n",
       "170509         caught   DA Miller  \n",
       "170530        run out    S Curran  \n",
       "170551         caught   DA Miller  \n",
       "170556         caught   DA Miller  \n",
       "170579         caught   DA Miller  \n",
       "\n",
       "[294 rows x 7 columns]"
      ]
     },
     "execution_count": 78,
     "metadata": {},
     "output_type": "execute_result"
    }
   ],
   "source": [
    "total_wicket"
   ]
  },
  {
   "cell_type": "code",
   "execution_count": 79,
   "metadata": {},
   "outputs": [
    {
     "data": {
      "text/plain": [
       "caught               185\n",
       "bowled                49\n",
       "run out               28\n",
       "lbw                   21\n",
       "caught and bowled      6\n",
       "stumped                4\n",
       "hit wicket             1\n",
       "Name: dismissal_kind, dtype: int64"
      ]
     },
     "execution_count": 79,
     "metadata": {},
     "output_type": "execute_result"
    }
   ],
   "source": [
    "total_wicket['dismissal_kind'].value_counts()"
   ]
  },
  {
   "cell_type": "code",
   "execution_count": 80,
   "metadata": {},
   "outputs": [
    {
     "data": {
      "text/plain": [
       "Index(['match_id', 'batting_team', 'inning', 'bowler', 'player_dismissed',\n",
       "       'dismissal_kind', 'fielder'],\n",
       "      dtype='object')"
      ]
     },
     "execution_count": 80,
     "metadata": {},
     "output_type": "execute_result"
    }
   ],
   "source": [
    "total_wicket.columns"
   ]
  },
  {
   "cell_type": "code",
   "execution_count": 81,
   "metadata": {},
   "outputs": [],
   "source": [
    "wicket = total_wicket[['match_id','batting_team','inning','dismissal_kind']]"
   ]
  },
  {
   "cell_type": "code",
   "execution_count": 82,
   "metadata": {},
   "outputs": [
    {
     "data": {
      "text/html": [
       "<div>\n",
       "<style scoped>\n",
       "    .dataframe tbody tr th:only-of-type {\n",
       "        vertical-align: middle;\n",
       "    }\n",
       "\n",
       "    .dataframe tbody tr th {\n",
       "        vertical-align: top;\n",
       "    }\n",
       "\n",
       "    .dataframe thead th {\n",
       "        text-align: right;\n",
       "    }\n",
       "</style>\n",
       "<table border=\"1\" class=\"dataframe\">\n",
       "  <thead>\n",
       "    <tr style=\"text-align: right;\">\n",
       "      <th></th>\n",
       "      <th>match_id</th>\n",
       "      <th>batting_team</th>\n",
       "      <th>inning</th>\n",
       "      <th>dismissal_kind</th>\n",
       "    </tr>\n",
       "  </thead>\n",
       "  <tbody>\n",
       "    <tr>\n",
       "      <th>5089</th>\n",
       "      <td>22</td>\n",
       "      <td>Kings XI Punjab</td>\n",
       "      <td>1</td>\n",
       "      <td>caught</td>\n",
       "    </tr>\n",
       "    <tr>\n",
       "      <th>5121</th>\n",
       "      <td>22</td>\n",
       "      <td>Kings XI Punjab</td>\n",
       "      <td>1</td>\n",
       "      <td>bowled</td>\n",
       "    </tr>\n",
       "    <tr>\n",
       "      <th>5157</th>\n",
       "      <td>22</td>\n",
       "      <td>Kings XI Punjab</td>\n",
       "      <td>1</td>\n",
       "      <td>bowled</td>\n",
       "    </tr>\n",
       "    <tr>\n",
       "      <th>5162</th>\n",
       "      <td>22</td>\n",
       "      <td>Kings XI Punjab</td>\n",
       "      <td>1</td>\n",
       "      <td>caught</td>\n",
       "    </tr>\n",
       "    <tr>\n",
       "      <th>5218</th>\n",
       "      <td>22</td>\n",
       "      <td>Mumbai Indians</td>\n",
       "      <td>2</td>\n",
       "      <td>caught</td>\n",
       "    </tr>\n",
       "    <tr>\n",
       "      <th>...</th>\n",
       "      <td>...</td>\n",
       "      <td>...</td>\n",
       "      <td>...</td>\n",
       "      <td>...</td>\n",
       "    </tr>\n",
       "    <tr>\n",
       "      <th>170509</th>\n",
       "      <td>11315</td>\n",
       "      <td>Mumbai Indians</td>\n",
       "      <td>2</td>\n",
       "      <td>caught</td>\n",
       "    </tr>\n",
       "    <tr>\n",
       "      <th>170530</th>\n",
       "      <td>11315</td>\n",
       "      <td>Mumbai Indians</td>\n",
       "      <td>2</td>\n",
       "      <td>run out</td>\n",
       "    </tr>\n",
       "    <tr>\n",
       "      <th>170551</th>\n",
       "      <td>11315</td>\n",
       "      <td>Mumbai Indians</td>\n",
       "      <td>2</td>\n",
       "      <td>caught</td>\n",
       "    </tr>\n",
       "    <tr>\n",
       "      <th>170556</th>\n",
       "      <td>11315</td>\n",
       "      <td>Mumbai Indians</td>\n",
       "      <td>2</td>\n",
       "      <td>caught</td>\n",
       "    </tr>\n",
       "    <tr>\n",
       "      <th>170579</th>\n",
       "      <td>11315</td>\n",
       "      <td>Mumbai Indians</td>\n",
       "      <td>2</td>\n",
       "      <td>caught</td>\n",
       "    </tr>\n",
       "  </tbody>\n",
       "</table>\n",
       "<p>294 rows × 4 columns</p>\n",
       "</div>"
      ],
      "text/plain": [
       "        match_id     batting_team  inning dismissal_kind\n",
       "5089          22  Kings XI Punjab       1         caught\n",
       "5121          22  Kings XI Punjab       1         bowled\n",
       "5157          22  Kings XI Punjab       1         bowled\n",
       "5162          22  Kings XI Punjab       1         caught\n",
       "5218          22   Mumbai Indians       2         caught\n",
       "...          ...              ...     ...            ...\n",
       "170509     11315   Mumbai Indians       2         caught\n",
       "170530     11315   Mumbai Indians       2        run out\n",
       "170551     11315   Mumbai Indians       2         caught\n",
       "170556     11315   Mumbai Indians       2         caught\n",
       "170579     11315   Mumbai Indians       2         caught\n",
       "\n",
       "[294 rows x 4 columns]"
      ]
     },
     "execution_count": 82,
     "metadata": {},
     "output_type": "execute_result"
    }
   ],
   "source": [
    "wicket"
   ]
  },
  {
   "cell_type": "code",
   "execution_count": 83,
   "metadata": {},
   "outputs": [
    {
     "data": {
      "text/plain": [
       "(294, 4)"
      ]
     },
     "execution_count": 83,
     "metadata": {},
     "output_type": "execute_result"
    }
   ],
   "source": [
    "wicket.shape"
   ]
  },
  {
   "cell_type": "code",
   "execution_count": 84,
   "metadata": {},
   "outputs": [
    {
     "data": {
      "text/plain": [
       "Index(['match_id', 'batting_team', 'inning', 'dismissal_kind'], dtype='object')"
      ]
     },
     "execution_count": 84,
     "metadata": {},
     "output_type": "execute_result"
    }
   ],
   "source": [
    "wicket.columns"
   ]
  },
  {
   "cell_type": "code",
   "execution_count": 111,
   "metadata": {
    "scrolled": true
   },
   "outputs": [
    {
     "data": {
      "text/plain": [
       "match_id  batting_team     dismissal_kind\n",
       "22        Kings XI Punjab  bowled            2\n",
       "                           caught            2\n",
       "          Mumbai Indians   caught            2\n",
       "50        Kings XI Punjab  caught            2\n",
       "                           bowled            1\n",
       "                                            ..\n",
       "11145     Mumbai Indians   lbw               3\n",
       "11315     Kings XI Punjab  caught            4\n",
       "          Mumbai Indians   caught            5\n",
       "                           bowled            1\n",
       "                           run out           1\n",
       "Name: dismissal_kind, Length: 118, dtype: int64"
      ]
     },
     "execution_count": 111,
     "metadata": {},
     "output_type": "execute_result"
    }
   ],
   "source": [
    "match_wickets = wicket.groupby(['match_id','batting_team'])['dismissal_kind'].value_counts()\n",
    "match_wickets"
   ]
  },
  {
   "cell_type": "markdown",
   "metadata": {},
   "source": [
    "# Wickets Losed by KXIP within POWERPLAY"
   ]
  },
  {
   "cell_type": "code",
   "execution_count": 88,
   "metadata": {},
   "outputs": [],
   "source": [
    "KXIP_POWERPLAY  = MI_wicket[MI_wicket['over']<=6]"
   ]
  },
  {
   "cell_type": "code",
   "execution_count": 91,
   "metadata": {},
   "outputs": [],
   "source": [
    "kxip_dismissals = KXIP_POWERPLAY[ pd.notnull(KXIP_POWERPLAY[\"player_dismissed\"])]\n",
    "kxip_dismissals = kxip_dismissals[[\"match_id\", \"inning\", \"over\",\"bowler\",\"player_dismissed\", \"dismissal_kind\", \"fielder\"]]"
   ]
  },
  {
   "cell_type": "code",
   "execution_count": 92,
   "metadata": {},
   "outputs": [
    {
     "data": {
      "text/html": [
       "<div>\n",
       "<style scoped>\n",
       "    .dataframe tbody tr th:only-of-type {\n",
       "        vertical-align: middle;\n",
       "    }\n",
       "\n",
       "    .dataframe tbody tr th {\n",
       "        vertical-align: top;\n",
       "    }\n",
       "\n",
       "    .dataframe thead th {\n",
       "        text-align: right;\n",
       "    }\n",
       "</style>\n",
       "<table border=\"1\" class=\"dataframe\">\n",
       "  <thead>\n",
       "    <tr style=\"text-align: right;\">\n",
       "      <th></th>\n",
       "      <th>match_id</th>\n",
       "      <th>inning</th>\n",
       "      <th>over</th>\n",
       "      <th>bowler</th>\n",
       "      <th>player_dismissed</th>\n",
       "      <th>dismissal_kind</th>\n",
       "      <th>fielder</th>\n",
       "    </tr>\n",
       "  </thead>\n",
       "  <tbody>\n",
       "    <tr>\n",
       "      <th>5089</th>\n",
       "      <td>22</td>\n",
       "      <td>1</td>\n",
       "      <td>6</td>\n",
       "      <td>MJ McClenaghan</td>\n",
       "      <td>SE Marsh</td>\n",
       "      <td>caught</td>\n",
       "      <td>KA Pollard</td>\n",
       "    </tr>\n",
       "    <tr>\n",
       "      <th>11631</th>\n",
       "      <td>50</td>\n",
       "      <td>1</td>\n",
       "      <td>6</td>\n",
       "      <td>KV Sharma</td>\n",
       "      <td>MJ Guptill</td>\n",
       "      <td>caught</td>\n",
       "      <td>HH Pandya</td>\n",
       "    </tr>\n",
       "    <tr>\n",
       "      <th>15998</th>\n",
       "      <td>69</td>\n",
       "      <td>1</td>\n",
       "      <td>2</td>\n",
       "      <td>A Nehra</td>\n",
       "      <td>IK Pathan</td>\n",
       "      <td>caught</td>\n",
       "      <td>DS Kulkarni</td>\n",
       "    </tr>\n",
       "    <tr>\n",
       "      <th>24436</th>\n",
       "      <td>106</td>\n",
       "      <td>1</td>\n",
       "      <td>1</td>\n",
       "      <td>SM Pollock</td>\n",
       "      <td>JR Hopes</td>\n",
       "      <td>caught</td>\n",
       "      <td>PR Shah</td>\n",
       "    </tr>\n",
       "    <tr>\n",
       "      <th>31260</th>\n",
       "      <td>135</td>\n",
       "      <td>1</td>\n",
       "      <td>4</td>\n",
       "      <td>Harbhajan Singh</td>\n",
       "      <td>K Goel</td>\n",
       "      <td>stumped</td>\n",
       "      <td>PR Shah</td>\n",
       "    </tr>\n",
       "    <tr>\n",
       "      <th>31264</th>\n",
       "      <td>135</td>\n",
       "      <td>1</td>\n",
       "      <td>5</td>\n",
       "      <td>DJ Bravo</td>\n",
       "      <td>RS Bopara</td>\n",
       "      <td>caught</td>\n",
       "      <td>SR Tendulkar</td>\n",
       "    </tr>\n",
       "    <tr>\n",
       "      <th>36565</th>\n",
       "      <td>157</td>\n",
       "      <td>1</td>\n",
       "      <td>2</td>\n",
       "      <td>DS Kulkarni</td>\n",
       "      <td>SM Katich</td>\n",
       "      <td>caught</td>\n",
       "      <td>Harbhajan Singh</td>\n",
       "    </tr>\n",
       "    <tr>\n",
       "      <th>36579</th>\n",
       "      <td>157</td>\n",
       "      <td>1</td>\n",
       "      <td>4</td>\n",
       "      <td>DJ Bravo</td>\n",
       "      <td>IK Pathan</td>\n",
       "      <td>run out</td>\n",
       "      <td>DJ Bravo</td>\n",
       "    </tr>\n",
       "    <tr>\n",
       "      <th>36594</th>\n",
       "      <td>157</td>\n",
       "      <td>1</td>\n",
       "      <td>6</td>\n",
       "      <td>DJ Bravo</td>\n",
       "      <td>S Sohal</td>\n",
       "      <td>run out</td>\n",
       "      <td>SR Tendulkar</td>\n",
       "    </tr>\n",
       "    <tr>\n",
       "      <th>47287</th>\n",
       "      <td>201</td>\n",
       "      <td>1</td>\n",
       "      <td>2</td>\n",
       "      <td>Z Khan</td>\n",
       "      <td>RS Bopara</td>\n",
       "      <td>lbw</td>\n",
       "      <td>NaN</td>\n",
       "    </tr>\n",
       "    <tr>\n",
       "      <th>47307</th>\n",
       "      <td>201</td>\n",
       "      <td>1</td>\n",
       "      <td>5</td>\n",
       "      <td>SL Malinga</td>\n",
       "      <td>MS Bisla</td>\n",
       "      <td>caught</td>\n",
       "      <td>Z Khan</td>\n",
       "    </tr>\n",
       "    <tr>\n",
       "      <th>50843</th>\n",
       "      <td>215</td>\n",
       "      <td>2</td>\n",
       "      <td>5</td>\n",
       "      <td>SL Malinga</td>\n",
       "      <td>DPMD Jayawardene</td>\n",
       "      <td>caught</td>\n",
       "      <td>SS Tiwary</td>\n",
       "    </tr>\n",
       "    <tr>\n",
       "      <th>64617</th>\n",
       "      <td>273</td>\n",
       "      <td>2</td>\n",
       "      <td>1</td>\n",
       "      <td>Harbhajan Singh</td>\n",
       "      <td>AC Gilchrist</td>\n",
       "      <td>lbw</td>\n",
       "      <td>NaN</td>\n",
       "    </tr>\n",
       "    <tr>\n",
       "      <th>67813</th>\n",
       "      <td>287</td>\n",
       "      <td>1</td>\n",
       "      <td>4</td>\n",
       "      <td>MM Patel</td>\n",
       "      <td>PC Valthaty</td>\n",
       "      <td>caught</td>\n",
       "      <td>AC Blizzard</td>\n",
       "    </tr>\n",
       "    <tr>\n",
       "      <th>80077</th>\n",
       "      <td>340</td>\n",
       "      <td>1</td>\n",
       "      <td>6</td>\n",
       "      <td>RP Singh</td>\n",
       "      <td>Mandeep Singh</td>\n",
       "      <td>caught</td>\n",
       "      <td>KD Karthik</td>\n",
       "    </tr>\n",
       "    <tr>\n",
       "      <th>99806</th>\n",
       "      <td>421</td>\n",
       "      <td>2</td>\n",
       "      <td>2</td>\n",
       "      <td>SL Malinga</td>\n",
       "      <td>Mandeep Singh</td>\n",
       "      <td>bowled</td>\n",
       "      <td>NaN</td>\n",
       "    </tr>\n",
       "    <tr>\n",
       "      <th>99812</th>\n",
       "      <td>421</td>\n",
       "      <td>2</td>\n",
       "      <td>3</td>\n",
       "      <td>MG Johnson</td>\n",
       "      <td>M Vohra</td>\n",
       "      <td>caught</td>\n",
       "      <td>KA Pollard</td>\n",
       "    </tr>\n",
       "    <tr>\n",
       "      <th>106615</th>\n",
       "      <td>450</td>\n",
       "      <td>1</td>\n",
       "      <td>2</td>\n",
       "      <td>R Dhawan</td>\n",
       "      <td>Mandeep Singh</td>\n",
       "      <td>caught</td>\n",
       "      <td>KA Pollard</td>\n",
       "    </tr>\n",
       "    <tr>\n",
       "      <th>106619</th>\n",
       "      <td>450</td>\n",
       "      <td>1</td>\n",
       "      <td>3</td>\n",
       "      <td>NM Coulter-Nile</td>\n",
       "      <td>AC Gilchrist</td>\n",
       "      <td>bowled</td>\n",
       "      <td>NaN</td>\n",
       "    </tr>\n",
       "    <tr>\n",
       "      <th>113395</th>\n",
       "      <td>479</td>\n",
       "      <td>1</td>\n",
       "      <td>3</td>\n",
       "      <td>Z Khan</td>\n",
       "      <td>V Sehwag</td>\n",
       "      <td>run out</td>\n",
       "      <td>RG Sharma</td>\n",
       "    </tr>\n",
       "    <tr>\n",
       "      <th>113403</th>\n",
       "      <td>479</td>\n",
       "      <td>1</td>\n",
       "      <td>4</td>\n",
       "      <td>CJ Anderson</td>\n",
       "      <td>CA Pujara</td>\n",
       "      <td>caught</td>\n",
       "      <td>CM Gautam</td>\n",
       "    </tr>\n",
       "    <tr>\n",
       "      <th>119658</th>\n",
       "      <td>505</td>\n",
       "      <td>1</td>\n",
       "      <td>3</td>\n",
       "      <td>P Kumar</td>\n",
       "      <td>V Sehwag</td>\n",
       "      <td>run out</td>\n",
       "      <td>P Kumar</td>\n",
       "    </tr>\n",
       "    <tr>\n",
       "      <th>130808</th>\n",
       "      <td>552</td>\n",
       "      <td>2</td>\n",
       "      <td>2</td>\n",
       "      <td>SL Malinga</td>\n",
       "      <td>V Sehwag</td>\n",
       "      <td>caught</td>\n",
       "      <td>KA Pollard</td>\n",
       "    </tr>\n",
       "    <tr>\n",
       "      <th>130828</th>\n",
       "      <td>552</td>\n",
       "      <td>2</td>\n",
       "      <td>5</td>\n",
       "      <td>J Suchith</td>\n",
       "      <td>GJ Maxwell</td>\n",
       "      <td>caught</td>\n",
       "      <td>R Vinay Kumar</td>\n",
       "    </tr>\n",
       "    <tr>\n",
       "      <th>141211</th>\n",
       "      <td>597</td>\n",
       "      <td>2</td>\n",
       "      <td>3</td>\n",
       "      <td>TG Southee</td>\n",
       "      <td>M Vijay</td>\n",
       "      <td>caught</td>\n",
       "      <td>JC Buttler</td>\n",
       "    </tr>\n",
       "    <tr>\n",
       "      <th>141223</th>\n",
       "      <td>597</td>\n",
       "      <td>2</td>\n",
       "      <td>5</td>\n",
       "      <td>JJ Bumrah</td>\n",
       "      <td>M Vohra</td>\n",
       "      <td>caught</td>\n",
       "      <td>JC Buttler</td>\n",
       "    </tr>\n",
       "    <tr>\n",
       "      <th>146471</th>\n",
       "      <td>619</td>\n",
       "      <td>2</td>\n",
       "      <td>1</td>\n",
       "      <td>TG Southee</td>\n",
       "      <td>HM Amla</td>\n",
       "      <td>lbw</td>\n",
       "      <td>NaN</td>\n",
       "    </tr>\n",
       "    <tr>\n",
       "      <th>162188</th>\n",
       "      <td>7943</td>\n",
       "      <td>2</td>\n",
       "      <td>4</td>\n",
       "      <td>MJ McClenaghan</td>\n",
       "      <td>CH Gayle</td>\n",
       "      <td>caught</td>\n",
       "      <td>BCJ Cutting</td>\n",
       "    </tr>\n",
       "  </tbody>\n",
       "</table>\n",
       "</div>"
      ],
      "text/plain": [
       "        match_id  inning  over           bowler  player_dismissed  \\\n",
       "5089          22       1     6   MJ McClenaghan          SE Marsh   \n",
       "11631         50       1     6        KV Sharma        MJ Guptill   \n",
       "15998         69       1     2          A Nehra         IK Pathan   \n",
       "24436        106       1     1       SM Pollock          JR Hopes   \n",
       "31260        135       1     4  Harbhajan Singh            K Goel   \n",
       "31264        135       1     5         DJ Bravo         RS Bopara   \n",
       "36565        157       1     2      DS Kulkarni         SM Katich   \n",
       "36579        157       1     4         DJ Bravo         IK Pathan   \n",
       "36594        157       1     6         DJ Bravo           S Sohal   \n",
       "47287        201       1     2           Z Khan         RS Bopara   \n",
       "47307        201       1     5       SL Malinga          MS Bisla   \n",
       "50843        215       2     5       SL Malinga  DPMD Jayawardene   \n",
       "64617        273       2     1  Harbhajan Singh      AC Gilchrist   \n",
       "67813        287       1     4         MM Patel       PC Valthaty   \n",
       "80077        340       1     6         RP Singh     Mandeep Singh   \n",
       "99806        421       2     2       SL Malinga     Mandeep Singh   \n",
       "99812        421       2     3       MG Johnson           M Vohra   \n",
       "106615       450       1     2         R Dhawan     Mandeep Singh   \n",
       "106619       450       1     3  NM Coulter-Nile      AC Gilchrist   \n",
       "113395       479       1     3           Z Khan          V Sehwag   \n",
       "113403       479       1     4      CJ Anderson         CA Pujara   \n",
       "119658       505       1     3          P Kumar          V Sehwag   \n",
       "130808       552       2     2       SL Malinga          V Sehwag   \n",
       "130828       552       2     5        J Suchith        GJ Maxwell   \n",
       "141211       597       2     3       TG Southee           M Vijay   \n",
       "141223       597       2     5        JJ Bumrah           M Vohra   \n",
       "146471       619       2     1       TG Southee           HM Amla   \n",
       "162188      7943       2     4   MJ McClenaghan          CH Gayle   \n",
       "\n",
       "       dismissal_kind          fielder  \n",
       "5089           caught       KA Pollard  \n",
       "11631          caught        HH Pandya  \n",
       "15998          caught      DS Kulkarni  \n",
       "24436          caught          PR Shah  \n",
       "31260         stumped          PR Shah  \n",
       "31264          caught     SR Tendulkar  \n",
       "36565          caught  Harbhajan Singh  \n",
       "36579         run out         DJ Bravo  \n",
       "36594         run out     SR Tendulkar  \n",
       "47287             lbw              NaN  \n",
       "47307          caught           Z Khan  \n",
       "50843          caught        SS Tiwary  \n",
       "64617             lbw              NaN  \n",
       "67813          caught      AC Blizzard  \n",
       "80077          caught       KD Karthik  \n",
       "99806          bowled              NaN  \n",
       "99812          caught       KA Pollard  \n",
       "106615         caught       KA Pollard  \n",
       "106619         bowled              NaN  \n",
       "113395        run out        RG Sharma  \n",
       "113403         caught        CM Gautam  \n",
       "119658        run out          P Kumar  \n",
       "130808         caught       KA Pollard  \n",
       "130828         caught    R Vinay Kumar  \n",
       "141211         caught       JC Buttler  \n",
       "141223         caught       JC Buttler  \n",
       "146471            lbw              NaN  \n",
       "162188         caught      BCJ Cutting  "
      ]
     },
     "execution_count": 92,
     "metadata": {},
     "output_type": "execute_result"
    }
   ],
   "source": [
    "kxip_dismissals"
   ]
  },
  {
   "cell_type": "code",
   "execution_count": 93,
   "metadata": {},
   "outputs": [
    {
     "data": {
      "text/plain": [
       "caught     18\n",
       "run out     4\n",
       "lbw         3\n",
       "bowled      2\n",
       "stumped     1\n",
       "Name: dismissal_kind, dtype: int64"
      ]
     },
     "execution_count": 93,
     "metadata": {},
     "output_type": "execute_result"
    }
   ],
   "source": [
    "kxip_dismissals['dismissal_kind'].value_counts()"
   ]
  },
  {
   "cell_type": "code",
   "execution_count": 94,
   "metadata": {},
   "outputs": [
    {
     "data": {
      "text/plain": [
       "match_id  over  dismissal_kind\n",
       "22        6     caught            1\n",
       "50        6     caught            1\n",
       "69        2     caught            1\n",
       "106       1     caught            1\n",
       "135       4     stumped           1\n",
       "          5     caught            1\n",
       "157       2     caught            1\n",
       "          4     run out           1\n",
       "          6     run out           1\n",
       "201       2     lbw               1\n",
       "          5     caught            1\n",
       "215       5     caught            1\n",
       "273       1     lbw               1\n",
       "287       4     caught            1\n",
       "340       6     caught            1\n",
       "421       2     bowled            1\n",
       "          3     caught            1\n",
       "450       2     caught            1\n",
       "          3     bowled            1\n",
       "479       3     run out           1\n",
       "          4     caught            1\n",
       "505       3     run out           1\n",
       "552       2     caught            1\n",
       "          5     caught            1\n",
       "597       3     caught            1\n",
       "          5     caught            1\n",
       "619       1     lbw               1\n",
       "7943      4     caught            1\n",
       "Name: dismissal_kind, dtype: int64"
      ]
     },
     "execution_count": 94,
     "metadata": {},
     "output_type": "execute_result"
    }
   ],
   "source": [
    "kxip_dismissals.groupby(['match_id','over'])['dismissal_kind'].value_counts()"
   ]
  },
  {
   "cell_type": "code",
   "execution_count": 96,
   "metadata": {},
   "outputs": [
    {
     "data": {
      "text/plain": [
       "over  dismissal_kind\n",
       "1     lbw               2\n",
       "      caught            1\n",
       "2     caught            4\n",
       "      bowled            1\n",
       "      lbw               1\n",
       "3     caught            2\n",
       "      run out           2\n",
       "      bowled            1\n",
       "4     caught            3\n",
       "      run out           1\n",
       "      stumped           1\n",
       "5     caught            5\n",
       "6     caught            3\n",
       "      run out           1\n",
       "Name: dismissal_kind, dtype: int64"
      ]
     },
     "execution_count": 96,
     "metadata": {},
     "output_type": "execute_result"
    }
   ],
   "source": [
    "kxip_dismissals.groupby(['over'])['dismissal_kind'].value_counts()"
   ]
  },
  {
   "cell_type": "code",
   "execution_count": 114,
   "metadata": {},
   "outputs": [
    {
     "data": {
      "text/plain": [
       "(28, 7)"
      ]
     },
     "execution_count": 114,
     "metadata": {},
     "output_type": "execute_result"
    }
   ],
   "source": [
    "kxip_dismissals.shape"
   ]
  },
  {
   "cell_type": "code",
   "execution_count": null,
   "metadata": {},
   "outputs": [],
   "source": []
  },
  {
   "cell_type": "code",
   "execution_count": null,
   "metadata": {},
   "outputs": [],
   "source": []
  },
  {
   "cell_type": "code",
   "execution_count": null,
   "metadata": {},
   "outputs": [],
   "source": []
  }
 ],
 "metadata": {
  "kernelspec": {
   "display_name": "Python 3",
   "language": "python",
   "name": "python3"
  },
  "language_info": {
   "codemirror_mode": {
    "name": "ipython",
    "version": 3
   },
   "file_extension": ".py",
   "mimetype": "text/x-python",
   "name": "python",
   "nbconvert_exporter": "python",
   "pygments_lexer": "ipython3",
   "version": "3.7.6"
  }
 },
 "nbformat": 4,
 "nbformat_minor": 4
}
