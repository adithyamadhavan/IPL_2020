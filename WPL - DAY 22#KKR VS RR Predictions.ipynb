{
 "cells": [
  {
   "cell_type": "code",
   "execution_count": 1,
   "metadata": {},
   "outputs": [],
   "source": [
    "import matplotlib.pyplot as plt\n",
    "import pandas as pd\n",
    "import numpy as np\n",
    "import seaborn as sns\n",
    "import plotly as py\n",
    "import cufflinks as cf\n",
    "%matplotlib inline\n",
    "%matplotlib notebook"
   ]
  },
  {
   "cell_type": "code",
   "execution_count": 2,
   "metadata": {},
   "outputs": [
    {
     "data": {
      "text/html": [
       "        <script type=\"text/javascript\">\n",
       "        window.PlotlyConfig = {MathJaxConfig: 'local'};\n",
       "        if (window.MathJax) {MathJax.Hub.Config({SVG: {font: \"STIX-Web\"}});}\n",
       "        if (typeof require !== 'undefined') {\n",
       "        require.undef(\"plotly\");\n",
       "        requirejs.config({\n",
       "            paths: {\n",
       "                'plotly': ['https://cdn.plot.ly/plotly-latest.min']\n",
       "            }\n",
       "        });\n",
       "        require(['plotly'], function(Plotly) {\n",
       "            window._Plotly = Plotly;\n",
       "        });\n",
       "        }\n",
       "        </script>\n",
       "        "
      ]
     },
     "metadata": {},
     "output_type": "display_data"
    },
    {
     "data": {
      "text/html": [
       "        <script type=\"text/javascript\">\n",
       "        window.PlotlyConfig = {MathJaxConfig: 'local'};\n",
       "        if (window.MathJax) {MathJax.Hub.Config({SVG: {font: \"STIX-Web\"}});}\n",
       "        if (typeof require !== 'undefined') {\n",
       "        require.undef(\"plotly\");\n",
       "        requirejs.config({\n",
       "            paths: {\n",
       "                'plotly': ['https://cdn.plot.ly/plotly-latest.min']\n",
       "            }\n",
       "        });\n",
       "        require(['plotly'], function(Plotly) {\n",
       "            window._Plotly = Plotly;\n",
       "        });\n",
       "        }\n",
       "        </script>\n",
       "        "
      ]
     },
     "metadata": {},
     "output_type": "display_data"
    }
   ],
   "source": [
    "from plotly.offline import iplot\n",
    "py.offline.init_notebook_mode(connected = True)\n",
    "cf.go_offline()"
   ]
  },
  {
   "cell_type": "code",
   "execution_count": 3,
   "metadata": {},
   "outputs": [],
   "source": [
    "delivers = pd.read_csv('D:\\datasets\\deliveries.csv')"
   ]
  },
  {
   "cell_type": "code",
   "execution_count": 4,
   "metadata": {
    "scrolled": true
   },
   "outputs": [
    {
     "data": {
      "text/html": [
       "<div>\n",
       "<style scoped>\n",
       "    .dataframe tbody tr th:only-of-type {\n",
       "        vertical-align: middle;\n",
       "    }\n",
       "\n",
       "    .dataframe tbody tr th {\n",
       "        vertical-align: top;\n",
       "    }\n",
       "\n",
       "    .dataframe thead th {\n",
       "        text-align: right;\n",
       "    }\n",
       "</style>\n",
       "<table border=\"1\" class=\"dataframe\">\n",
       "  <thead>\n",
       "    <tr style=\"text-align: right;\">\n",
       "      <th></th>\n",
       "      <th>match_id</th>\n",
       "      <th>inning</th>\n",
       "      <th>batting_team</th>\n",
       "      <th>bowling_team</th>\n",
       "      <th>over</th>\n",
       "      <th>ball</th>\n",
       "      <th>batsman</th>\n",
       "      <th>non_striker</th>\n",
       "      <th>bowler</th>\n",
       "      <th>is_super_over</th>\n",
       "      <th>...</th>\n",
       "      <th>bye_runs</th>\n",
       "      <th>legbye_runs</th>\n",
       "      <th>noball_runs</th>\n",
       "      <th>penalty_runs</th>\n",
       "      <th>batsman_runs</th>\n",
       "      <th>extra_runs</th>\n",
       "      <th>total_runs</th>\n",
       "      <th>player_dismissed</th>\n",
       "      <th>dismissal_kind</th>\n",
       "      <th>fielder</th>\n",
       "    </tr>\n",
       "  </thead>\n",
       "  <tbody>\n",
       "    <tr>\n",
       "      <th>0</th>\n",
       "      <td>1</td>\n",
       "      <td>1</td>\n",
       "      <td>Sunrisers Hyderabad</td>\n",
       "      <td>Royal Challengers Bangalore</td>\n",
       "      <td>1</td>\n",
       "      <td>1</td>\n",
       "      <td>DA Warner</td>\n",
       "      <td>S Dhawan</td>\n",
       "      <td>TS Mills</td>\n",
       "      <td>0</td>\n",
       "      <td>...</td>\n",
       "      <td>0</td>\n",
       "      <td>0</td>\n",
       "      <td>0</td>\n",
       "      <td>0</td>\n",
       "      <td>0</td>\n",
       "      <td>0</td>\n",
       "      <td>0</td>\n",
       "      <td>NaN</td>\n",
       "      <td>NaN</td>\n",
       "      <td>NaN</td>\n",
       "    </tr>\n",
       "  </tbody>\n",
       "</table>\n",
       "<p>1 rows × 21 columns</p>\n",
       "</div>"
      ],
      "text/plain": [
       "   match_id  inning         batting_team                 bowling_team  over  \\\n",
       "0         1       1  Sunrisers Hyderabad  Royal Challengers Bangalore     1   \n",
       "\n",
       "   ball    batsman non_striker    bowler  is_super_over  ...  bye_runs  \\\n",
       "0     1  DA Warner    S Dhawan  TS Mills              0  ...         0   \n",
       "\n",
       "   legbye_runs  noball_runs  penalty_runs  batsman_runs  extra_runs  \\\n",
       "0            0            0             0             0           0   \n",
       "\n",
       "   total_runs  player_dismissed dismissal_kind fielder  \n",
       "0           0               NaN            NaN     NaN  \n",
       "\n",
       "[1 rows x 21 columns]"
      ]
     },
     "execution_count": 4,
     "metadata": {},
     "output_type": "execute_result"
    }
   ],
   "source": [
    "delivers.head(1)"
   ]
  },
  {
   "cell_type": "code",
   "execution_count": 5,
   "metadata": {},
   "outputs": [
    {
     "data": {
      "text/plain": [
       "match_id                 0\n",
       "inning                   0\n",
       "batting_team             0\n",
       "bowling_team             0\n",
       "over                     0\n",
       "ball                     0\n",
       "batsman                  0\n",
       "non_striker              0\n",
       "bowler                   0\n",
       "is_super_over            0\n",
       "wide_runs                0\n",
       "bye_runs                 0\n",
       "legbye_runs              0\n",
       "noball_runs              0\n",
       "penalty_runs             0\n",
       "batsman_runs             0\n",
       "extra_runs               0\n",
       "total_runs               0\n",
       "player_dismissed    170244\n",
       "dismissal_kind      170244\n",
       "fielder             172630\n",
       "dtype: int64"
      ]
     },
     "execution_count": 5,
     "metadata": {},
     "output_type": "execute_result"
    }
   ],
   "source": [
    "delivers.isnull().sum()"
   ]
  },
  {
   "cell_type": "code",
   "execution_count": 6,
   "metadata": {},
   "outputs": [
    {
     "data": {
      "text/plain": [
       "(179078, 21)"
      ]
     },
     "execution_count": 6,
     "metadata": {},
     "output_type": "execute_result"
    }
   ],
   "source": [
    "delivers.shape"
   ]
  },
  {
   "cell_type": "code",
   "execution_count": 7,
   "metadata": {},
   "outputs": [
    {
     "name": "stdout",
     "output_type": "stream",
     "text": [
      "<class 'pandas.core.frame.DataFrame'>\n",
      "RangeIndex: 179078 entries, 0 to 179077\n",
      "Data columns (total 21 columns):\n",
      " #   Column            Non-Null Count   Dtype \n",
      "---  ------            --------------   ----- \n",
      " 0   match_id          179078 non-null  int64 \n",
      " 1   inning            179078 non-null  int64 \n",
      " 2   batting_team      179078 non-null  object\n",
      " 3   bowling_team      179078 non-null  object\n",
      " 4   over              179078 non-null  int64 \n",
      " 5   ball              179078 non-null  int64 \n",
      " 6   batsman           179078 non-null  object\n",
      " 7   non_striker       179078 non-null  object\n",
      " 8   bowler            179078 non-null  object\n",
      " 9   is_super_over     179078 non-null  int64 \n",
      " 10  wide_runs         179078 non-null  int64 \n",
      " 11  bye_runs          179078 non-null  int64 \n",
      " 12  legbye_runs       179078 non-null  int64 \n",
      " 13  noball_runs       179078 non-null  int64 \n",
      " 14  penalty_runs      179078 non-null  int64 \n",
      " 15  batsman_runs      179078 non-null  int64 \n",
      " 16  extra_runs        179078 non-null  int64 \n",
      " 17  total_runs        179078 non-null  int64 \n",
      " 18  player_dismissed  8834 non-null    object\n",
      " 19  dismissal_kind    8834 non-null    object\n",
      " 20  fielder           6448 non-null    object\n",
      "dtypes: int64(13), object(8)\n",
      "memory usage: 28.7+ MB\n"
     ]
    }
   ],
   "source": [
    "delivers.info()"
   ]
  },
  {
   "cell_type": "code",
   "execution_count": 8,
   "metadata": {},
   "outputs": [],
   "source": [
    "matches = pd.read_csv('D:\\datasets\\matches.csv')"
   ]
  },
  {
   "cell_type": "code",
   "execution_count": 9,
   "metadata": {},
   "outputs": [
    {
     "data": {
      "text/html": [
       "<div>\n",
       "<style scoped>\n",
       "    .dataframe tbody tr th:only-of-type {\n",
       "        vertical-align: middle;\n",
       "    }\n",
       "\n",
       "    .dataframe tbody tr th {\n",
       "        vertical-align: top;\n",
       "    }\n",
       "\n",
       "    .dataframe thead th {\n",
       "        text-align: right;\n",
       "    }\n",
       "</style>\n",
       "<table border=\"1\" class=\"dataframe\">\n",
       "  <thead>\n",
       "    <tr style=\"text-align: right;\">\n",
       "      <th></th>\n",
       "      <th>id</th>\n",
       "      <th>season</th>\n",
       "      <th>city</th>\n",
       "      <th>date</th>\n",
       "      <th>team1</th>\n",
       "      <th>team2</th>\n",
       "      <th>toss_winner</th>\n",
       "      <th>toss_decision</th>\n",
       "      <th>result</th>\n",
       "      <th>dl_applied</th>\n",
       "      <th>winner</th>\n",
       "      <th>win_by_runs</th>\n",
       "      <th>win_by_wickets</th>\n",
       "      <th>player_of_match</th>\n",
       "      <th>venue</th>\n",
       "      <th>umpire1</th>\n",
       "      <th>umpire2</th>\n",
       "      <th>umpire3</th>\n",
       "    </tr>\n",
       "  </thead>\n",
       "  <tbody>\n",
       "    <tr>\n",
       "      <th>0</th>\n",
       "      <td>1</td>\n",
       "      <td>2017</td>\n",
       "      <td>Hyderabad</td>\n",
       "      <td>2017-04-05</td>\n",
       "      <td>Sunrisers Hyderabad</td>\n",
       "      <td>Royal Challengers Bangalore</td>\n",
       "      <td>Royal Challengers Bangalore</td>\n",
       "      <td>field</td>\n",
       "      <td>normal</td>\n",
       "      <td>0</td>\n",
       "      <td>Sunrisers Hyderabad</td>\n",
       "      <td>35</td>\n",
       "      <td>0</td>\n",
       "      <td>Yuvraj Singh</td>\n",
       "      <td>Rajiv Gandhi International Stadium, Uppal</td>\n",
       "      <td>AY Dandekar</td>\n",
       "      <td>NJ Llong</td>\n",
       "      <td>NaN</td>\n",
       "    </tr>\n",
       "  </tbody>\n",
       "</table>\n",
       "</div>"
      ],
      "text/plain": [
       "   id  season       city        date                team1  \\\n",
       "0   1    2017  Hyderabad  2017-04-05  Sunrisers Hyderabad   \n",
       "\n",
       "                         team2                  toss_winner toss_decision  \\\n",
       "0  Royal Challengers Bangalore  Royal Challengers Bangalore         field   \n",
       "\n",
       "   result  dl_applied               winner  win_by_runs  win_by_wickets  \\\n",
       "0  normal           0  Sunrisers Hyderabad           35               0   \n",
       "\n",
       "  player_of_match                                      venue      umpire1  \\\n",
       "0    Yuvraj Singh  Rajiv Gandhi International Stadium, Uppal  AY Dandekar   \n",
       "\n",
       "    umpire2 umpire3  \n",
       "0  NJ Llong     NaN  "
      ]
     },
     "execution_count": 9,
     "metadata": {},
     "output_type": "execute_result"
    }
   ],
   "source": [
    "matches.head(1)"
   ]
  },
  {
   "cell_type": "code",
   "execution_count": 10,
   "metadata": {},
   "outputs": [
    {
     "data": {
      "text/plain": [
       "id                   0\n",
       "season               0\n",
       "city                 7\n",
       "date                 0\n",
       "team1                0\n",
       "team2                0\n",
       "toss_winner          0\n",
       "toss_decision        0\n",
       "result               0\n",
       "dl_applied           0\n",
       "winner               4\n",
       "win_by_runs          0\n",
       "win_by_wickets       0\n",
       "player_of_match      4\n",
       "venue                0\n",
       "umpire1              2\n",
       "umpire2              2\n",
       "umpire3            637\n",
       "dtype: int64"
      ]
     },
     "execution_count": 10,
     "metadata": {},
     "output_type": "execute_result"
    }
   ],
   "source": [
    "matches.isnull().sum()"
   ]
  },
  {
   "cell_type": "code",
   "execution_count": 11,
   "metadata": {},
   "outputs": [
    {
     "name": "stdout",
     "output_type": "stream",
     "text": [
      "<class 'pandas.core.frame.DataFrame'>\n",
      "RangeIndex: 756 entries, 0 to 755\n",
      "Data columns (total 18 columns):\n",
      " #   Column           Non-Null Count  Dtype \n",
      "---  ------           --------------  ----- \n",
      " 0   id               756 non-null    int64 \n",
      " 1   season           756 non-null    int64 \n",
      " 2   city             749 non-null    object\n",
      " 3   date             756 non-null    object\n",
      " 4   team1            756 non-null    object\n",
      " 5   team2            756 non-null    object\n",
      " 6   toss_winner      756 non-null    object\n",
      " 7   toss_decision    756 non-null    object\n",
      " 8   result           756 non-null    object\n",
      " 9   dl_applied       756 non-null    int64 \n",
      " 10  winner           752 non-null    object\n",
      " 11  win_by_runs      756 non-null    int64 \n",
      " 12  win_by_wickets   756 non-null    int64 \n",
      " 13  player_of_match  752 non-null    object\n",
      " 14  venue            756 non-null    object\n",
      " 15  umpire1          754 non-null    object\n",
      " 16  umpire2          754 non-null    object\n",
      " 17  umpire3          119 non-null    object\n",
      "dtypes: int64(5), object(13)\n",
      "memory usage: 106.4+ KB\n"
     ]
    }
   ],
   "source": [
    "matches.info()"
   ]
  },
  {
   "cell_type": "code",
   "execution_count": 12,
   "metadata": {},
   "outputs": [
    {
     "data": {
      "text/plain": [
       "(756, 18)"
      ]
     },
     "execution_count": 12,
     "metadata": {},
     "output_type": "execute_result"
    }
   ],
   "source": [
    "matches.shape"
   ]
  },
  {
   "cell_type": "code",
   "execution_count": 13,
   "metadata": {},
   "outputs": [
    {
     "name": "stdout",
     "output_type": "stream",
     "text": [
      "<class 'pandas.core.frame.DataFrame'>\n",
      "RangeIndex: 756 entries, 0 to 755\n",
      "Data columns (total 18 columns):\n",
      " #   Column           Non-Null Count  Dtype \n",
      "---  ------           --------------  ----- \n",
      " 0   id               756 non-null    int64 \n",
      " 1   season           756 non-null    int64 \n",
      " 2   city             749 non-null    object\n",
      " 3   date             756 non-null    object\n",
      " 4   team1            756 non-null    object\n",
      " 5   team2            756 non-null    object\n",
      " 6   toss_winner      756 non-null    object\n",
      " 7   toss_decision    756 non-null    object\n",
      " 8   result           756 non-null    object\n",
      " 9   dl_applied       756 non-null    int64 \n",
      " 10  winner           752 non-null    object\n",
      " 11  win_by_runs      756 non-null    int64 \n",
      " 12  win_by_wickets   756 non-null    int64 \n",
      " 13  player_of_match  752 non-null    object\n",
      " 14  venue            756 non-null    object\n",
      " 15  umpire1          754 non-null    object\n",
      " 16  umpire2          754 non-null    object\n",
      " 17  umpire3          119 non-null    object\n",
      "dtypes: int64(5), object(13)\n",
      "memory usage: 106.4+ KB\n"
     ]
    }
   ],
   "source": [
    "matches.info()"
   ]
  },
  {
   "cell_type": "code",
   "execution_count": 14,
   "metadata": {},
   "outputs": [
    {
     "data": {
      "text/plain": [
       "normal       743\n",
       "tie            9\n",
       "no result      4\n",
       "Name: result, dtype: int64"
      ]
     },
     "execution_count": 14,
     "metadata": {},
     "output_type": "execute_result"
    }
   ],
   "source": [
    "matches[\"result\"].value_counts()"
   ]
  },
  {
   "cell_type": "code",
   "execution_count": 15,
   "metadata": {},
   "outputs": [
    {
     "data": {
      "text/html": [
       "<div>\n",
       "<style scoped>\n",
       "    .dataframe tbody tr th:only-of-type {\n",
       "        vertical-align: middle;\n",
       "    }\n",
       "\n",
       "    .dataframe tbody tr th {\n",
       "        vertical-align: top;\n",
       "    }\n",
       "\n",
       "    .dataframe thead th {\n",
       "        text-align: right;\n",
       "    }\n",
       "</style>\n",
       "<table border=\"1\" class=\"dataframe\">\n",
       "  <thead>\n",
       "    <tr style=\"text-align: right;\">\n",
       "      <th></th>\n",
       "      <th>id</th>\n",
       "      <th>season</th>\n",
       "      <th>city</th>\n",
       "      <th>date</th>\n",
       "      <th>team1</th>\n",
       "      <th>team2</th>\n",
       "      <th>toss_winner</th>\n",
       "      <th>toss_decision</th>\n",
       "      <th>result</th>\n",
       "      <th>dl_applied</th>\n",
       "      <th>winner</th>\n",
       "      <th>win_by_runs</th>\n",
       "      <th>win_by_wickets</th>\n",
       "      <th>player_of_match</th>\n",
       "      <th>venue</th>\n",
       "      <th>umpire1</th>\n",
       "      <th>umpire2</th>\n",
       "      <th>umpire3</th>\n",
       "    </tr>\n",
       "  </thead>\n",
       "  <tbody>\n",
       "    <tr>\n",
       "      <th>33</th>\n",
       "      <td>34</td>\n",
       "      <td>2017</td>\n",
       "      <td>Rajkot</td>\n",
       "      <td>2017-04-29</td>\n",
       "      <td>Gujarat Lions</td>\n",
       "      <td>Mumbai Indians</td>\n",
       "      <td>Gujarat Lions</td>\n",
       "      <td>bat</td>\n",
       "      <td>tie</td>\n",
       "      <td>0</td>\n",
       "      <td>Mumbai Indians</td>\n",
       "      <td>0</td>\n",
       "      <td>0</td>\n",
       "      <td>KH Pandya</td>\n",
       "      <td>Saurashtra Cricket Association Stadium</td>\n",
       "      <td>AK Chaudhary</td>\n",
       "      <td>CB Gaffaney</td>\n",
       "      <td>NaN</td>\n",
       "    </tr>\n",
       "    <tr>\n",
       "      <th>125</th>\n",
       "      <td>126</td>\n",
       "      <td>2009</td>\n",
       "      <td>Cape Town</td>\n",
       "      <td>2009-04-23</td>\n",
       "      <td>Rajasthan Royals</td>\n",
       "      <td>Kolkata Knight Riders</td>\n",
       "      <td>Kolkata Knight Riders</td>\n",
       "      <td>field</td>\n",
       "      <td>tie</td>\n",
       "      <td>0</td>\n",
       "      <td>Rajasthan Royals</td>\n",
       "      <td>0</td>\n",
       "      <td>0</td>\n",
       "      <td>YK Pathan</td>\n",
       "      <td>Newlands</td>\n",
       "      <td>MR Benson</td>\n",
       "      <td>M Erasmus</td>\n",
       "      <td>NaN</td>\n",
       "    </tr>\n",
       "    <tr>\n",
       "      <th>189</th>\n",
       "      <td>190</td>\n",
       "      <td>2010</td>\n",
       "      <td>Chennai</td>\n",
       "      <td>2010-03-21</td>\n",
       "      <td>Kings XI Punjab</td>\n",
       "      <td>Chennai Super Kings</td>\n",
       "      <td>Chennai Super Kings</td>\n",
       "      <td>field</td>\n",
       "      <td>tie</td>\n",
       "      <td>0</td>\n",
       "      <td>Kings XI Punjab</td>\n",
       "      <td>0</td>\n",
       "      <td>0</td>\n",
       "      <td>J Theron</td>\n",
       "      <td>MA Chidambaram Stadium, Chepauk</td>\n",
       "      <td>K Hariharan</td>\n",
       "      <td>DJ Harper</td>\n",
       "      <td>NaN</td>\n",
       "    </tr>\n",
       "    <tr>\n",
       "      <th>387</th>\n",
       "      <td>388</td>\n",
       "      <td>2013</td>\n",
       "      <td>Hyderabad</td>\n",
       "      <td>2013-04-07</td>\n",
       "      <td>Royal Challengers Bangalore</td>\n",
       "      <td>Sunrisers Hyderabad</td>\n",
       "      <td>Royal Challengers Bangalore</td>\n",
       "      <td>bat</td>\n",
       "      <td>tie</td>\n",
       "      <td>0</td>\n",
       "      <td>Sunrisers Hyderabad</td>\n",
       "      <td>0</td>\n",
       "      <td>0</td>\n",
       "      <td>GH Vihari</td>\n",
       "      <td>Rajiv Gandhi International Stadium, Uppal</td>\n",
       "      <td>AK Chaudhary</td>\n",
       "      <td>S Ravi</td>\n",
       "      <td>NaN</td>\n",
       "    </tr>\n",
       "    <tr>\n",
       "      <th>400</th>\n",
       "      <td>401</td>\n",
       "      <td>2013</td>\n",
       "      <td>Bangalore</td>\n",
       "      <td>2013-04-16</td>\n",
       "      <td>Delhi Daredevils</td>\n",
       "      <td>Royal Challengers Bangalore</td>\n",
       "      <td>Royal Challengers Bangalore</td>\n",
       "      <td>field</td>\n",
       "      <td>tie</td>\n",
       "      <td>0</td>\n",
       "      <td>Royal Challengers Bangalore</td>\n",
       "      <td>0</td>\n",
       "      <td>0</td>\n",
       "      <td>V Kohli</td>\n",
       "      <td>M Chinnaswamy Stadium</td>\n",
       "      <td>M Erasmus</td>\n",
       "      <td>VA Kulkarni</td>\n",
       "      <td>NaN</td>\n",
       "    </tr>\n",
       "    <tr>\n",
       "      <th>475</th>\n",
       "      <td>476</td>\n",
       "      <td>2014</td>\n",
       "      <td>Abu Dhabi</td>\n",
       "      <td>2014-04-29</td>\n",
       "      <td>Rajasthan Royals</td>\n",
       "      <td>Kolkata Knight Riders</td>\n",
       "      <td>Rajasthan Royals</td>\n",
       "      <td>bat</td>\n",
       "      <td>tie</td>\n",
       "      <td>0</td>\n",
       "      <td>Rajasthan Royals</td>\n",
       "      <td>0</td>\n",
       "      <td>0</td>\n",
       "      <td>JP Faulkner</td>\n",
       "      <td>Sheikh Zayed Stadium</td>\n",
       "      <td>Aleem Dar</td>\n",
       "      <td>AK Chaudhary</td>\n",
       "      <td>NaN</td>\n",
       "    </tr>\n",
       "    <tr>\n",
       "      <th>535</th>\n",
       "      <td>536</td>\n",
       "      <td>2015</td>\n",
       "      <td>Ahmedabad</td>\n",
       "      <td>2015-04-21</td>\n",
       "      <td>Rajasthan Royals</td>\n",
       "      <td>Kings XI Punjab</td>\n",
       "      <td>Kings XI Punjab</td>\n",
       "      <td>field</td>\n",
       "      <td>tie</td>\n",
       "      <td>0</td>\n",
       "      <td>Kings XI Punjab</td>\n",
       "      <td>0</td>\n",
       "      <td>0</td>\n",
       "      <td>SE Marsh</td>\n",
       "      <td>Sardar Patel Stadium, Motera</td>\n",
       "      <td>M Erasmus</td>\n",
       "      <td>S Ravi</td>\n",
       "      <td>NaN</td>\n",
       "    </tr>\n",
       "    <tr>\n",
       "      <th>705</th>\n",
       "      <td>11146</td>\n",
       "      <td>2019</td>\n",
       "      <td>Delhi</td>\n",
       "      <td>30/03/19</td>\n",
       "      <td>Kolkata Knight Riders</td>\n",
       "      <td>Delhi Capitals</td>\n",
       "      <td>Delhi Capitals</td>\n",
       "      <td>field</td>\n",
       "      <td>tie</td>\n",
       "      <td>0</td>\n",
       "      <td>Delhi Capitals</td>\n",
       "      <td>0</td>\n",
       "      <td>0</td>\n",
       "      <td>P Shaw</td>\n",
       "      <td>Feroz Shah Kotla Ground</td>\n",
       "      <td>Anil Dandekar</td>\n",
       "      <td>Nitin Menon</td>\n",
       "      <td>Marais Erasmus</td>\n",
       "    </tr>\n",
       "    <tr>\n",
       "      <th>746</th>\n",
       "      <td>11342</td>\n",
       "      <td>2019</td>\n",
       "      <td>Mumbai</td>\n",
       "      <td>02/05/19</td>\n",
       "      <td>Mumbai Indians</td>\n",
       "      <td>Sunrisers Hyderabad</td>\n",
       "      <td>Mumbai Indians</td>\n",
       "      <td>bat</td>\n",
       "      <td>tie</td>\n",
       "      <td>0</td>\n",
       "      <td>Mumbai Indians</td>\n",
       "      <td>0</td>\n",
       "      <td>0</td>\n",
       "      <td>JJ Bumrah</td>\n",
       "      <td>Wankhede Stadium</td>\n",
       "      <td>S Ravi</td>\n",
       "      <td>O Nandan</td>\n",
       "      <td>Nanda Kishore</td>\n",
       "    </tr>\n",
       "  </tbody>\n",
       "</table>\n",
       "</div>"
      ],
      "text/plain": [
       "        id  season       city        date                        team1  \\\n",
       "33      34    2017     Rajkot  2017-04-29                Gujarat Lions   \n",
       "125    126    2009  Cape Town  2009-04-23             Rajasthan Royals   \n",
       "189    190    2010    Chennai  2010-03-21              Kings XI Punjab   \n",
       "387    388    2013  Hyderabad  2013-04-07  Royal Challengers Bangalore   \n",
       "400    401    2013  Bangalore  2013-04-16             Delhi Daredevils   \n",
       "475    476    2014  Abu Dhabi  2014-04-29             Rajasthan Royals   \n",
       "535    536    2015  Ahmedabad  2015-04-21             Rajasthan Royals   \n",
       "705  11146    2019      Delhi    30/03/19        Kolkata Knight Riders   \n",
       "746  11342    2019     Mumbai    02/05/19               Mumbai Indians   \n",
       "\n",
       "                           team2                  toss_winner toss_decision  \\\n",
       "33                Mumbai Indians                Gujarat Lions           bat   \n",
       "125        Kolkata Knight Riders        Kolkata Knight Riders         field   \n",
       "189          Chennai Super Kings          Chennai Super Kings         field   \n",
       "387          Sunrisers Hyderabad  Royal Challengers Bangalore           bat   \n",
       "400  Royal Challengers Bangalore  Royal Challengers Bangalore         field   \n",
       "475        Kolkata Knight Riders             Rajasthan Royals           bat   \n",
       "535              Kings XI Punjab              Kings XI Punjab         field   \n",
       "705               Delhi Capitals               Delhi Capitals         field   \n",
       "746          Sunrisers Hyderabad               Mumbai Indians           bat   \n",
       "\n",
       "    result  dl_applied                       winner  win_by_runs  \\\n",
       "33     tie           0               Mumbai Indians            0   \n",
       "125    tie           0             Rajasthan Royals            0   \n",
       "189    tie           0              Kings XI Punjab            0   \n",
       "387    tie           0          Sunrisers Hyderabad            0   \n",
       "400    tie           0  Royal Challengers Bangalore            0   \n",
       "475    tie           0             Rajasthan Royals            0   \n",
       "535    tie           0              Kings XI Punjab            0   \n",
       "705    tie           0               Delhi Capitals            0   \n",
       "746    tie           0               Mumbai Indians            0   \n",
       "\n",
       "     win_by_wickets player_of_match  \\\n",
       "33                0       KH Pandya   \n",
       "125               0       YK Pathan   \n",
       "189               0        J Theron   \n",
       "387               0       GH Vihari   \n",
       "400               0         V Kohli   \n",
       "475               0     JP Faulkner   \n",
       "535               0        SE Marsh   \n",
       "705               0          P Shaw   \n",
       "746               0       JJ Bumrah   \n",
       "\n",
       "                                         venue        umpire1       umpire2  \\\n",
       "33      Saurashtra Cricket Association Stadium   AK Chaudhary   CB Gaffaney   \n",
       "125                                   Newlands      MR Benson     M Erasmus   \n",
       "189            MA Chidambaram Stadium, Chepauk    K Hariharan     DJ Harper   \n",
       "387  Rajiv Gandhi International Stadium, Uppal   AK Chaudhary        S Ravi   \n",
       "400                      M Chinnaswamy Stadium      M Erasmus   VA Kulkarni   \n",
       "475                       Sheikh Zayed Stadium      Aleem Dar  AK Chaudhary   \n",
       "535               Sardar Patel Stadium, Motera      M Erasmus        S Ravi   \n",
       "705                    Feroz Shah Kotla Ground  Anil Dandekar   Nitin Menon   \n",
       "746                           Wankhede Stadium         S Ravi      O Nandan   \n",
       "\n",
       "            umpire3  \n",
       "33              NaN  \n",
       "125             NaN  \n",
       "189             NaN  \n",
       "387             NaN  \n",
       "400             NaN  \n",
       "475             NaN  \n",
       "535             NaN  \n",
       "705  Marais Erasmus  \n",
       "746   Nanda Kishore  "
      ]
     },
     "execution_count": 15,
     "metadata": {},
     "output_type": "execute_result"
    }
   ],
   "source": [
    "tie = matches[matches['result'] == 'tie']\n",
    "tie"
   ]
  },
  {
   "cell_type": "code",
   "execution_count": 16,
   "metadata": {},
   "outputs": [
    {
     "data": {
      "text/html": [
       "<div>\n",
       "<style scoped>\n",
       "    .dataframe tbody tr th:only-of-type {\n",
       "        vertical-align: middle;\n",
       "    }\n",
       "\n",
       "    .dataframe tbody tr th {\n",
       "        vertical-align: top;\n",
       "    }\n",
       "\n",
       "    .dataframe thead th {\n",
       "        text-align: right;\n",
       "    }\n",
       "</style>\n",
       "<table border=\"1\" class=\"dataframe\">\n",
       "  <thead>\n",
       "    <tr style=\"text-align: right;\">\n",
       "      <th></th>\n",
       "      <th>id</th>\n",
       "      <th>season</th>\n",
       "      <th>city</th>\n",
       "      <th>date</th>\n",
       "      <th>team1</th>\n",
       "      <th>team2</th>\n",
       "      <th>toss_winner</th>\n",
       "      <th>toss_decision</th>\n",
       "      <th>result</th>\n",
       "      <th>dl_applied</th>\n",
       "      <th>winner</th>\n",
       "      <th>win_by_runs</th>\n",
       "      <th>win_by_wickets</th>\n",
       "      <th>player_of_match</th>\n",
       "      <th>venue</th>\n",
       "      <th>umpire1</th>\n",
       "      <th>umpire2</th>\n",
       "      <th>umpire3</th>\n",
       "    </tr>\n",
       "  </thead>\n",
       "  <tbody>\n",
       "    <tr>\n",
       "      <th>300</th>\n",
       "      <td>301</td>\n",
       "      <td>2011</td>\n",
       "      <td>Delhi</td>\n",
       "      <td>2011-05-21</td>\n",
       "      <td>Delhi Daredevils</td>\n",
       "      <td>Pune Warriors</td>\n",
       "      <td>Delhi Daredevils</td>\n",
       "      <td>bat</td>\n",
       "      <td>no result</td>\n",
       "      <td>0</td>\n",
       "      <td>NaN</td>\n",
       "      <td>0</td>\n",
       "      <td>0</td>\n",
       "      <td>NaN</td>\n",
       "      <td>Feroz Shah Kotla</td>\n",
       "      <td>SS Hazare</td>\n",
       "      <td>RJ Tucker</td>\n",
       "      <td>NaN</td>\n",
       "    </tr>\n",
       "    <tr>\n",
       "      <th>545</th>\n",
       "      <td>546</td>\n",
       "      <td>2015</td>\n",
       "      <td>Bangalore</td>\n",
       "      <td>2015-04-29</td>\n",
       "      <td>Royal Challengers Bangalore</td>\n",
       "      <td>Rajasthan Royals</td>\n",
       "      <td>Rajasthan Royals</td>\n",
       "      <td>field</td>\n",
       "      <td>no result</td>\n",
       "      <td>0</td>\n",
       "      <td>NaN</td>\n",
       "      <td>0</td>\n",
       "      <td>0</td>\n",
       "      <td>NaN</td>\n",
       "      <td>M Chinnaswamy Stadium</td>\n",
       "      <td>JD Cloete</td>\n",
       "      <td>PG Pathak</td>\n",
       "      <td>NaN</td>\n",
       "    </tr>\n",
       "    <tr>\n",
       "      <th>570</th>\n",
       "      <td>571</td>\n",
       "      <td>2015</td>\n",
       "      <td>Bangalore</td>\n",
       "      <td>2015-05-17</td>\n",
       "      <td>Delhi Daredevils</td>\n",
       "      <td>Royal Challengers Bangalore</td>\n",
       "      <td>Royal Challengers Bangalore</td>\n",
       "      <td>field</td>\n",
       "      <td>no result</td>\n",
       "      <td>0</td>\n",
       "      <td>NaN</td>\n",
       "      <td>0</td>\n",
       "      <td>0</td>\n",
       "      <td>NaN</td>\n",
       "      <td>M Chinnaswamy Stadium</td>\n",
       "      <td>HDPK Dharmasena</td>\n",
       "      <td>K Srinivasan</td>\n",
       "      <td>NaN</td>\n",
       "    </tr>\n",
       "    <tr>\n",
       "      <th>744</th>\n",
       "      <td>11340</td>\n",
       "      <td>2019</td>\n",
       "      <td>Bengaluru</td>\n",
       "      <td>30/04/19</td>\n",
       "      <td>Royal Challengers Bangalore</td>\n",
       "      <td>Rajasthan Royals</td>\n",
       "      <td>Rajasthan Royals</td>\n",
       "      <td>field</td>\n",
       "      <td>no result</td>\n",
       "      <td>0</td>\n",
       "      <td>NaN</td>\n",
       "      <td>0</td>\n",
       "      <td>0</td>\n",
       "      <td>NaN</td>\n",
       "      <td>M. Chinnaswamy Stadium</td>\n",
       "      <td>Nigel Llong</td>\n",
       "      <td>Ulhas Gandhe</td>\n",
       "      <td>Anil Chaudhary</td>\n",
       "    </tr>\n",
       "  </tbody>\n",
       "</table>\n",
       "</div>"
      ],
      "text/plain": [
       "        id  season       city        date                        team1  \\\n",
       "300    301    2011      Delhi  2011-05-21             Delhi Daredevils   \n",
       "545    546    2015  Bangalore  2015-04-29  Royal Challengers Bangalore   \n",
       "570    571    2015  Bangalore  2015-05-17             Delhi Daredevils   \n",
       "744  11340    2019  Bengaluru    30/04/19  Royal Challengers Bangalore   \n",
       "\n",
       "                           team2                  toss_winner toss_decision  \\\n",
       "300                Pune Warriors             Delhi Daredevils           bat   \n",
       "545             Rajasthan Royals             Rajasthan Royals         field   \n",
       "570  Royal Challengers Bangalore  Royal Challengers Bangalore         field   \n",
       "744             Rajasthan Royals             Rajasthan Royals         field   \n",
       "\n",
       "        result  dl_applied winner  win_by_runs  win_by_wickets  \\\n",
       "300  no result           0    NaN            0               0   \n",
       "545  no result           0    NaN            0               0   \n",
       "570  no result           0    NaN            0               0   \n",
       "744  no result           0    NaN            0               0   \n",
       "\n",
       "    player_of_match                   venue          umpire1       umpire2  \\\n",
       "300             NaN        Feroz Shah Kotla        SS Hazare     RJ Tucker   \n",
       "545             NaN   M Chinnaswamy Stadium        JD Cloete     PG Pathak   \n",
       "570             NaN   M Chinnaswamy Stadium  HDPK Dharmasena  K Srinivasan   \n",
       "744             NaN  M. Chinnaswamy Stadium      Nigel Llong  Ulhas Gandhe   \n",
       "\n",
       "            umpire3  \n",
       "300             NaN  \n",
       "545             NaN  \n",
       "570             NaN  \n",
       "744  Anil Chaudhary  "
      ]
     },
     "execution_count": 16,
     "metadata": {},
     "output_type": "execute_result"
    }
   ],
   "source": [
    "no_result =matches[matches['result'] == 'no result']\n",
    "no_result"
   ]
  },
  {
   "cell_type": "code",
   "execution_count": 17,
   "metadata": {},
   "outputs": [
    {
     "data": {
      "text/html": [
       "<div>\n",
       "<style scoped>\n",
       "    .dataframe tbody tr th:only-of-type {\n",
       "        vertical-align: middle;\n",
       "    }\n",
       "\n",
       "    .dataframe tbody tr th {\n",
       "        vertical-align: top;\n",
       "    }\n",
       "\n",
       "    .dataframe thead th {\n",
       "        text-align: right;\n",
       "    }\n",
       "</style>\n",
       "<table border=\"1\" class=\"dataframe\">\n",
       "  <thead>\n",
       "    <tr style=\"text-align: right;\">\n",
       "      <th></th>\n",
       "      <th>team1</th>\n",
       "      <th>team2</th>\n",
       "      <th>winner</th>\n",
       "    </tr>\n",
       "  </thead>\n",
       "  <tbody>\n",
       "    <tr>\n",
       "      <th>0</th>\n",
       "      <td>Sunrisers Hyderabad</td>\n",
       "      <td>Royal Challengers Bangalore</td>\n",
       "      <td>Sunrisers Hyderabad</td>\n",
       "    </tr>\n",
       "    <tr>\n",
       "      <th>1</th>\n",
       "      <td>Mumbai Indians</td>\n",
       "      <td>Rising Pune Supergiant</td>\n",
       "      <td>Rising Pune Supergiant</td>\n",
       "    </tr>\n",
       "    <tr>\n",
       "      <th>2</th>\n",
       "      <td>Gujarat Lions</td>\n",
       "      <td>Kolkata Knight Riders</td>\n",
       "      <td>Kolkata Knight Riders</td>\n",
       "    </tr>\n",
       "    <tr>\n",
       "      <th>3</th>\n",
       "      <td>Rising Pune Supergiant</td>\n",
       "      <td>Kings XI Punjab</td>\n",
       "      <td>Kings XI Punjab</td>\n",
       "    </tr>\n",
       "    <tr>\n",
       "      <th>4</th>\n",
       "      <td>Royal Challengers Bangalore</td>\n",
       "      <td>Delhi Daredevils</td>\n",
       "      <td>Royal Challengers Bangalore</td>\n",
       "    </tr>\n",
       "  </tbody>\n",
       "</table>\n",
       "</div>"
      ],
      "text/plain": [
       "                         team1                        team2  \\\n",
       "0          Sunrisers Hyderabad  Royal Challengers Bangalore   \n",
       "1               Mumbai Indians       Rising Pune Supergiant   \n",
       "2                Gujarat Lions        Kolkata Knight Riders   \n",
       "3       Rising Pune Supergiant              Kings XI Punjab   \n",
       "4  Royal Challengers Bangalore             Delhi Daredevils   \n",
       "\n",
       "                        winner  \n",
       "0          Sunrisers Hyderabad  \n",
       "1       Rising Pune Supergiant  \n",
       "2        Kolkata Knight Riders  \n",
       "3              Kings XI Punjab  \n",
       "4  Royal Challengers Bangalore  "
      ]
     },
     "execution_count": 17,
     "metadata": {},
     "output_type": "execute_result"
    }
   ],
   "source": [
    "matches_result = matches[['team1','team2','winner']]\n",
    "matches_result.head()"
   ]
  },
  {
   "cell_type": "code",
   "execution_count": 18,
   "metadata": {},
   "outputs": [],
   "source": [
    "matches_result['lost'] = matches_result.apply(lambda x:   (x['team2'] if x['team1'] == x['winner'] else x['team1']), axis = 1)"
   ]
  },
  {
   "cell_type": "code",
   "execution_count": 19,
   "metadata": {},
   "outputs": [
    {
     "data": {
      "text/html": [
       "<div>\n",
       "<style scoped>\n",
       "    .dataframe tbody tr th:only-of-type {\n",
       "        vertical-align: middle;\n",
       "    }\n",
       "\n",
       "    .dataframe tbody tr th {\n",
       "        vertical-align: top;\n",
       "    }\n",
       "\n",
       "    .dataframe thead th {\n",
       "        text-align: right;\n",
       "    }\n",
       "</style>\n",
       "<table border=\"1\" class=\"dataframe\">\n",
       "  <thead>\n",
       "    <tr style=\"text-align: right;\">\n",
       "      <th></th>\n",
       "      <th>team1</th>\n",
       "      <th>team2</th>\n",
       "      <th>winner</th>\n",
       "      <th>lost</th>\n",
       "    </tr>\n",
       "  </thead>\n",
       "  <tbody>\n",
       "    <tr>\n",
       "      <th>0</th>\n",
       "      <td>Sunrisers Hyderabad</td>\n",
       "      <td>Royal Challengers Bangalore</td>\n",
       "      <td>Sunrisers Hyderabad</td>\n",
       "      <td>Royal Challengers Bangalore</td>\n",
       "    </tr>\n",
       "    <tr>\n",
       "      <th>1</th>\n",
       "      <td>Mumbai Indians</td>\n",
       "      <td>Rising Pune Supergiant</td>\n",
       "      <td>Rising Pune Supergiant</td>\n",
       "      <td>Mumbai Indians</td>\n",
       "    </tr>\n",
       "    <tr>\n",
       "      <th>2</th>\n",
       "      <td>Gujarat Lions</td>\n",
       "      <td>Kolkata Knight Riders</td>\n",
       "      <td>Kolkata Knight Riders</td>\n",
       "      <td>Gujarat Lions</td>\n",
       "    </tr>\n",
       "    <tr>\n",
       "      <th>3</th>\n",
       "      <td>Rising Pune Supergiant</td>\n",
       "      <td>Kings XI Punjab</td>\n",
       "      <td>Kings XI Punjab</td>\n",
       "      <td>Rising Pune Supergiant</td>\n",
       "    </tr>\n",
       "    <tr>\n",
       "      <th>4</th>\n",
       "      <td>Royal Challengers Bangalore</td>\n",
       "      <td>Delhi Daredevils</td>\n",
       "      <td>Royal Challengers Bangalore</td>\n",
       "      <td>Delhi Daredevils</td>\n",
       "    </tr>\n",
       "    <tr>\n",
       "      <th>5</th>\n",
       "      <td>Gujarat Lions</td>\n",
       "      <td>Sunrisers Hyderabad</td>\n",
       "      <td>Sunrisers Hyderabad</td>\n",
       "      <td>Gujarat Lions</td>\n",
       "    </tr>\n",
       "    <tr>\n",
       "      <th>6</th>\n",
       "      <td>Kolkata Knight Riders</td>\n",
       "      <td>Mumbai Indians</td>\n",
       "      <td>Mumbai Indians</td>\n",
       "      <td>Kolkata Knight Riders</td>\n",
       "    </tr>\n",
       "    <tr>\n",
       "      <th>7</th>\n",
       "      <td>Royal Challengers Bangalore</td>\n",
       "      <td>Kings XI Punjab</td>\n",
       "      <td>Kings XI Punjab</td>\n",
       "      <td>Royal Challengers Bangalore</td>\n",
       "    </tr>\n",
       "    <tr>\n",
       "      <th>8</th>\n",
       "      <td>Delhi Daredevils</td>\n",
       "      <td>Rising Pune Supergiant</td>\n",
       "      <td>Delhi Daredevils</td>\n",
       "      <td>Rising Pune Supergiant</td>\n",
       "    </tr>\n",
       "    <tr>\n",
       "      <th>9</th>\n",
       "      <td>Sunrisers Hyderabad</td>\n",
       "      <td>Mumbai Indians</td>\n",
       "      <td>Mumbai Indians</td>\n",
       "      <td>Sunrisers Hyderabad</td>\n",
       "    </tr>\n",
       "  </tbody>\n",
       "</table>\n",
       "</div>"
      ],
      "text/plain": [
       "                         team1                        team2  \\\n",
       "0          Sunrisers Hyderabad  Royal Challengers Bangalore   \n",
       "1               Mumbai Indians       Rising Pune Supergiant   \n",
       "2                Gujarat Lions        Kolkata Knight Riders   \n",
       "3       Rising Pune Supergiant              Kings XI Punjab   \n",
       "4  Royal Challengers Bangalore             Delhi Daredevils   \n",
       "5                Gujarat Lions          Sunrisers Hyderabad   \n",
       "6        Kolkata Knight Riders               Mumbai Indians   \n",
       "7  Royal Challengers Bangalore              Kings XI Punjab   \n",
       "8             Delhi Daredevils       Rising Pune Supergiant   \n",
       "9          Sunrisers Hyderabad               Mumbai Indians   \n",
       "\n",
       "                        winner                         lost  \n",
       "0          Sunrisers Hyderabad  Royal Challengers Bangalore  \n",
       "1       Rising Pune Supergiant               Mumbai Indians  \n",
       "2        Kolkata Knight Riders                Gujarat Lions  \n",
       "3              Kings XI Punjab       Rising Pune Supergiant  \n",
       "4  Royal Challengers Bangalore             Delhi Daredevils  \n",
       "5          Sunrisers Hyderabad                Gujarat Lions  \n",
       "6               Mumbai Indians        Kolkata Knight Riders  \n",
       "7              Kings XI Punjab  Royal Challengers Bangalore  \n",
       "8             Delhi Daredevils       Rising Pune Supergiant  \n",
       "9               Mumbai Indians          Sunrisers Hyderabad  "
      ]
     },
     "execution_count": 19,
     "metadata": {},
     "output_type": "execute_result"
    }
   ],
   "source": [
    "matches_result.head(10)"
   ]
  },
  {
   "cell_type": "code",
   "execution_count": 20,
   "metadata": {},
   "outputs": [
    {
     "data": {
      "text/plain": [
       "Mumbai Indians                 109\n",
       "Chennai Super Kings            100\n",
       "Kolkata Knight Riders           92\n",
       "Royal Challengers Bangalore     84\n",
       "Kings XI Punjab                 82\n",
       "Rajasthan Royals                75\n",
       "Delhi Daredevils                67\n",
       "Sunrisers Hyderabad             58\n",
       "Deccan Chargers                 29\n",
       "Gujarat Lions                   13\n",
       "Pune Warriors                   12\n",
       "Rising Pune Supergiant          10\n",
       "Delhi Capitals                  10\n",
       "Kochi Tuskers Kerala             6\n",
       "Rising Pune Supergiants          5\n",
       "Name: winner, dtype: int64"
      ]
     },
     "execution_count": 20,
     "metadata": {},
     "output_type": "execute_result"
    }
   ],
   "source": [
    "wins = matches_result['winner'].value_counts()\n",
    "wins"
   ]
  },
  {
   "cell_type": "code",
   "execution_count": 21,
   "metadata": {},
   "outputs": [
    {
     "data": {
      "text/plain": [
       "Royal Challengers Bangalore    95\n",
       "Delhi Daredevils               94\n",
       "Kings XI Punjab                94\n",
       "Kolkata Knight Riders          86\n",
       "Mumbai Indians                 78\n",
       "Rajasthan Royals               70\n",
       "Chennai Super Kings            64\n",
       "Sunrisers Hyderabad            50\n",
       "Deccan Chargers                46\n",
       "Pune Warriors                  33\n",
       "Gujarat Lions                  17\n",
       "Rising Pune Supergiants         9\n",
       "Kochi Tuskers Kerala            8\n",
       "Rising Pune Supergiant          6\n",
       "Delhi Capitals                  6\n",
       "Name: lost, dtype: int64"
      ]
     },
     "execution_count": 21,
     "metadata": {},
     "output_type": "execute_result"
    }
   ],
   "source": [
    "lost = matches_result['lost'].value_counts()\n",
    "lost"
   ]
  },
  {
   "cell_type": "code",
   "execution_count": 22,
   "metadata": {},
   "outputs": [
    {
     "data": {
      "application/vnd.plotly.v1+json": {
       "config": {
        "linkText": "Export to plot.ly",
        "plotlyServerURL": "https://plot.ly",
        "showLink": true
       },
       "data": [
        {
         "marker": {
          "color": "rgba(255, 153, 51, 0.6)",
          "line": {
           "color": "rgba(255, 153, 51, 1.0)",
           "width": 1
          }
         },
         "name": "winner",
         "orientation": "v",
         "text": "",
         "type": "bar",
         "x": [
          "Mumbai Indians",
          "Chennai Super Kings",
          "Kolkata Knight Riders",
          "Royal Challengers Bangalore",
          "Kings XI Punjab",
          "Rajasthan Royals",
          "Delhi Daredevils",
          "Sunrisers Hyderabad",
          "Deccan Chargers",
          "Gujarat Lions",
          "Pune Warriors",
          "Rising Pune Supergiant",
          "Delhi Capitals",
          "Kochi Tuskers Kerala",
          "Rising Pune Supergiants"
         ],
         "y": [
          109,
          100,
          92,
          84,
          82,
          75,
          67,
          58,
          29,
          13,
          12,
          10,
          10,
          6,
          5
         ]
        }
       ],
       "layout": {
        "legend": {
         "bgcolor": "#F5F6F9",
         "font": {
          "color": "#4D5663"
         }
        },
        "paper_bgcolor": "#F5F6F9",
        "plot_bgcolor": "#F5F6F9",
        "template": {
         "data": {
          "bar": [
           {
            "error_x": {
             "color": "#2a3f5f"
            },
            "error_y": {
             "color": "#2a3f5f"
            },
            "marker": {
             "line": {
              "color": "#E5ECF6",
              "width": 0.5
             }
            },
            "type": "bar"
           }
          ],
          "barpolar": [
           {
            "marker": {
             "line": {
              "color": "#E5ECF6",
              "width": 0.5
             }
            },
            "type": "barpolar"
           }
          ],
          "carpet": [
           {
            "aaxis": {
             "endlinecolor": "#2a3f5f",
             "gridcolor": "white",
             "linecolor": "white",
             "minorgridcolor": "white",
             "startlinecolor": "#2a3f5f"
            },
            "baxis": {
             "endlinecolor": "#2a3f5f",
             "gridcolor": "white",
             "linecolor": "white",
             "minorgridcolor": "white",
             "startlinecolor": "#2a3f5f"
            },
            "type": "carpet"
           }
          ],
          "choropleth": [
           {
            "colorbar": {
             "outlinewidth": 0,
             "ticks": ""
            },
            "type": "choropleth"
           }
          ],
          "contour": [
           {
            "colorbar": {
             "outlinewidth": 0,
             "ticks": ""
            },
            "colorscale": [
             [
              0,
              "#0d0887"
             ],
             [
              0.1111111111111111,
              "#46039f"
             ],
             [
              0.2222222222222222,
              "#7201a8"
             ],
             [
              0.3333333333333333,
              "#9c179e"
             ],
             [
              0.4444444444444444,
              "#bd3786"
             ],
             [
              0.5555555555555556,
              "#d8576b"
             ],
             [
              0.6666666666666666,
              "#ed7953"
             ],
             [
              0.7777777777777778,
              "#fb9f3a"
             ],
             [
              0.8888888888888888,
              "#fdca26"
             ],
             [
              1,
              "#f0f921"
             ]
            ],
            "type": "contour"
           }
          ],
          "contourcarpet": [
           {
            "colorbar": {
             "outlinewidth": 0,
             "ticks": ""
            },
            "type": "contourcarpet"
           }
          ],
          "heatmap": [
           {
            "colorbar": {
             "outlinewidth": 0,
             "ticks": ""
            },
            "colorscale": [
             [
              0,
              "#0d0887"
             ],
             [
              0.1111111111111111,
              "#46039f"
             ],
             [
              0.2222222222222222,
              "#7201a8"
             ],
             [
              0.3333333333333333,
              "#9c179e"
             ],
             [
              0.4444444444444444,
              "#bd3786"
             ],
             [
              0.5555555555555556,
              "#d8576b"
             ],
             [
              0.6666666666666666,
              "#ed7953"
             ],
             [
              0.7777777777777778,
              "#fb9f3a"
             ],
             [
              0.8888888888888888,
              "#fdca26"
             ],
             [
              1,
              "#f0f921"
             ]
            ],
            "type": "heatmap"
           }
          ],
          "heatmapgl": [
           {
            "colorbar": {
             "outlinewidth": 0,
             "ticks": ""
            },
            "colorscale": [
             [
              0,
              "#0d0887"
             ],
             [
              0.1111111111111111,
              "#46039f"
             ],
             [
              0.2222222222222222,
              "#7201a8"
             ],
             [
              0.3333333333333333,
              "#9c179e"
             ],
             [
              0.4444444444444444,
              "#bd3786"
             ],
             [
              0.5555555555555556,
              "#d8576b"
             ],
             [
              0.6666666666666666,
              "#ed7953"
             ],
             [
              0.7777777777777778,
              "#fb9f3a"
             ],
             [
              0.8888888888888888,
              "#fdca26"
             ],
             [
              1,
              "#f0f921"
             ]
            ],
            "type": "heatmapgl"
           }
          ],
          "histogram": [
           {
            "marker": {
             "colorbar": {
              "outlinewidth": 0,
              "ticks": ""
             }
            },
            "type": "histogram"
           }
          ],
          "histogram2d": [
           {
            "colorbar": {
             "outlinewidth": 0,
             "ticks": ""
            },
            "colorscale": [
             [
              0,
              "#0d0887"
             ],
             [
              0.1111111111111111,
              "#46039f"
             ],
             [
              0.2222222222222222,
              "#7201a8"
             ],
             [
              0.3333333333333333,
              "#9c179e"
             ],
             [
              0.4444444444444444,
              "#bd3786"
             ],
             [
              0.5555555555555556,
              "#d8576b"
             ],
             [
              0.6666666666666666,
              "#ed7953"
             ],
             [
              0.7777777777777778,
              "#fb9f3a"
             ],
             [
              0.8888888888888888,
              "#fdca26"
             ],
             [
              1,
              "#f0f921"
             ]
            ],
            "type": "histogram2d"
           }
          ],
          "histogram2dcontour": [
           {
            "colorbar": {
             "outlinewidth": 0,
             "ticks": ""
            },
            "colorscale": [
             [
              0,
              "#0d0887"
             ],
             [
              0.1111111111111111,
              "#46039f"
             ],
             [
              0.2222222222222222,
              "#7201a8"
             ],
             [
              0.3333333333333333,
              "#9c179e"
             ],
             [
              0.4444444444444444,
              "#bd3786"
             ],
             [
              0.5555555555555556,
              "#d8576b"
             ],
             [
              0.6666666666666666,
              "#ed7953"
             ],
             [
              0.7777777777777778,
              "#fb9f3a"
             ],
             [
              0.8888888888888888,
              "#fdca26"
             ],
             [
              1,
              "#f0f921"
             ]
            ],
            "type": "histogram2dcontour"
           }
          ],
          "mesh3d": [
           {
            "colorbar": {
             "outlinewidth": 0,
             "ticks": ""
            },
            "type": "mesh3d"
           }
          ],
          "parcoords": [
           {
            "line": {
             "colorbar": {
              "outlinewidth": 0,
              "ticks": ""
             }
            },
            "type": "parcoords"
           }
          ],
          "pie": [
           {
            "automargin": true,
            "type": "pie"
           }
          ],
          "scatter": [
           {
            "marker": {
             "colorbar": {
              "outlinewidth": 0,
              "ticks": ""
             }
            },
            "type": "scatter"
           }
          ],
          "scatter3d": [
           {
            "line": {
             "colorbar": {
              "outlinewidth": 0,
              "ticks": ""
             }
            },
            "marker": {
             "colorbar": {
              "outlinewidth": 0,
              "ticks": ""
             }
            },
            "type": "scatter3d"
           }
          ],
          "scattercarpet": [
           {
            "marker": {
             "colorbar": {
              "outlinewidth": 0,
              "ticks": ""
             }
            },
            "type": "scattercarpet"
           }
          ],
          "scattergeo": [
           {
            "marker": {
             "colorbar": {
              "outlinewidth": 0,
              "ticks": ""
             }
            },
            "type": "scattergeo"
           }
          ],
          "scattergl": [
           {
            "marker": {
             "colorbar": {
              "outlinewidth": 0,
              "ticks": ""
             }
            },
            "type": "scattergl"
           }
          ],
          "scattermapbox": [
           {
            "marker": {
             "colorbar": {
              "outlinewidth": 0,
              "ticks": ""
             }
            },
            "type": "scattermapbox"
           }
          ],
          "scatterpolar": [
           {
            "marker": {
             "colorbar": {
              "outlinewidth": 0,
              "ticks": ""
             }
            },
            "type": "scatterpolar"
           }
          ],
          "scatterpolargl": [
           {
            "marker": {
             "colorbar": {
              "outlinewidth": 0,
              "ticks": ""
             }
            },
            "type": "scatterpolargl"
           }
          ],
          "scatterternary": [
           {
            "marker": {
             "colorbar": {
              "outlinewidth": 0,
              "ticks": ""
             }
            },
            "type": "scatterternary"
           }
          ],
          "surface": [
           {
            "colorbar": {
             "outlinewidth": 0,
             "ticks": ""
            },
            "colorscale": [
             [
              0,
              "#0d0887"
             ],
             [
              0.1111111111111111,
              "#46039f"
             ],
             [
              0.2222222222222222,
              "#7201a8"
             ],
             [
              0.3333333333333333,
              "#9c179e"
             ],
             [
              0.4444444444444444,
              "#bd3786"
             ],
             [
              0.5555555555555556,
              "#d8576b"
             ],
             [
              0.6666666666666666,
              "#ed7953"
             ],
             [
              0.7777777777777778,
              "#fb9f3a"
             ],
             [
              0.8888888888888888,
              "#fdca26"
             ],
             [
              1,
              "#f0f921"
             ]
            ],
            "type": "surface"
           }
          ],
          "table": [
           {
            "cells": {
             "fill": {
              "color": "#EBF0F8"
             },
             "line": {
              "color": "white"
             }
            },
            "header": {
             "fill": {
              "color": "#C8D4E3"
             },
             "line": {
              "color": "white"
             }
            },
            "type": "table"
           }
          ]
         },
         "layout": {
          "annotationdefaults": {
           "arrowcolor": "#2a3f5f",
           "arrowhead": 0,
           "arrowwidth": 1
          },
          "coloraxis": {
           "colorbar": {
            "outlinewidth": 0,
            "ticks": ""
           }
          },
          "colorscale": {
           "diverging": [
            [
             0,
             "#8e0152"
            ],
            [
             0.1,
             "#c51b7d"
            ],
            [
             0.2,
             "#de77ae"
            ],
            [
             0.3,
             "#f1b6da"
            ],
            [
             0.4,
             "#fde0ef"
            ],
            [
             0.5,
             "#f7f7f7"
            ],
            [
             0.6,
             "#e6f5d0"
            ],
            [
             0.7,
             "#b8e186"
            ],
            [
             0.8,
             "#7fbc41"
            ],
            [
             0.9,
             "#4d9221"
            ],
            [
             1,
             "#276419"
            ]
           ],
           "sequential": [
            [
             0,
             "#0d0887"
            ],
            [
             0.1111111111111111,
             "#46039f"
            ],
            [
             0.2222222222222222,
             "#7201a8"
            ],
            [
             0.3333333333333333,
             "#9c179e"
            ],
            [
             0.4444444444444444,
             "#bd3786"
            ],
            [
             0.5555555555555556,
             "#d8576b"
            ],
            [
             0.6666666666666666,
             "#ed7953"
            ],
            [
             0.7777777777777778,
             "#fb9f3a"
            ],
            [
             0.8888888888888888,
             "#fdca26"
            ],
            [
             1,
             "#f0f921"
            ]
           ],
           "sequentialminus": [
            [
             0,
             "#0d0887"
            ],
            [
             0.1111111111111111,
             "#46039f"
            ],
            [
             0.2222222222222222,
             "#7201a8"
            ],
            [
             0.3333333333333333,
             "#9c179e"
            ],
            [
             0.4444444444444444,
             "#bd3786"
            ],
            [
             0.5555555555555556,
             "#d8576b"
            ],
            [
             0.6666666666666666,
             "#ed7953"
            ],
            [
             0.7777777777777778,
             "#fb9f3a"
            ],
            [
             0.8888888888888888,
             "#fdca26"
            ],
            [
             1,
             "#f0f921"
            ]
           ]
          },
          "colorway": [
           "#636efa",
           "#EF553B",
           "#00cc96",
           "#ab63fa",
           "#FFA15A",
           "#19d3f3",
           "#FF6692",
           "#B6E880",
           "#FF97FF",
           "#FECB52"
          ],
          "font": {
           "color": "#2a3f5f"
          },
          "geo": {
           "bgcolor": "white",
           "lakecolor": "white",
           "landcolor": "#E5ECF6",
           "showlakes": true,
           "showland": true,
           "subunitcolor": "white"
          },
          "hoverlabel": {
           "align": "left"
          },
          "hovermode": "closest",
          "mapbox": {
           "style": "light"
          },
          "paper_bgcolor": "white",
          "plot_bgcolor": "#E5ECF6",
          "polar": {
           "angularaxis": {
            "gridcolor": "white",
            "linecolor": "white",
            "ticks": ""
           },
           "bgcolor": "#E5ECF6",
           "radialaxis": {
            "gridcolor": "white",
            "linecolor": "white",
            "ticks": ""
           }
          },
          "scene": {
           "xaxis": {
            "backgroundcolor": "#E5ECF6",
            "gridcolor": "white",
            "gridwidth": 2,
            "linecolor": "white",
            "showbackground": true,
            "ticks": "",
            "zerolinecolor": "white"
           },
           "yaxis": {
            "backgroundcolor": "#E5ECF6",
            "gridcolor": "white",
            "gridwidth": 2,
            "linecolor": "white",
            "showbackground": true,
            "ticks": "",
            "zerolinecolor": "white"
           },
           "zaxis": {
            "backgroundcolor": "#E5ECF6",
            "gridcolor": "white",
            "gridwidth": 2,
            "linecolor": "white",
            "showbackground": true,
            "ticks": "",
            "zerolinecolor": "white"
           }
          },
          "shapedefaults": {
           "line": {
            "color": "#2a3f5f"
           }
          },
          "ternary": {
           "aaxis": {
            "gridcolor": "white",
            "linecolor": "white",
            "ticks": ""
           },
           "baxis": {
            "gridcolor": "white",
            "linecolor": "white",
            "ticks": ""
           },
           "bgcolor": "#E5ECF6",
           "caxis": {
            "gridcolor": "white",
            "linecolor": "white",
            "ticks": ""
           }
          },
          "title": {
           "x": 0.05
          },
          "xaxis": {
           "automargin": true,
           "gridcolor": "white",
           "linecolor": "white",
           "ticks": "",
           "title": {
            "standoff": 15
           },
           "zerolinecolor": "white",
           "zerolinewidth": 2
          },
          "yaxis": {
           "automargin": true,
           "gridcolor": "white",
           "linecolor": "white",
           "ticks": "",
           "title": {
            "standoff": 15
           },
           "zerolinecolor": "white",
           "zerolinewidth": 2
          }
         }
        },
        "title": {
         "font": {
          "color": "#4D5663"
         },
         "text": "Winning Count"
        },
        "xaxis": {
         "gridcolor": "#E1E5ED",
         "showgrid": true,
         "tickfont": {
          "color": "#4D5663"
         },
         "title": {
          "font": {
           "color": "#4D5663"
          },
          "text": "Team"
         },
         "zerolinecolor": "#E1E5ED"
        },
        "yaxis": {
         "gridcolor": "#E1E5ED",
         "showgrid": true,
         "tickfont": {
          "color": "#4D5663"
         },
         "title": {
          "font": {
           "color": "#4D5663"
          },
          "text": "Count"
         },
         "zerolinecolor": "#E1E5ED"
        }
       }
      },
      "text/html": [
       "<div>\n",
       "        \n",
       "        \n",
       "            <div id=\"bff4147c-409c-472a-bacc-af39f66e5399\" class=\"plotly-graph-div\" style=\"height:525px; width:100%;\"></div>\n",
       "            <script type=\"text/javascript\">\n",
       "                require([\"plotly\"], function(Plotly) {\n",
       "                    window.PLOTLYENV=window.PLOTLYENV || {};\n",
       "                    window.PLOTLYENV.BASE_URL='https://plot.ly';\n",
       "                    \n",
       "                if (document.getElementById(\"bff4147c-409c-472a-bacc-af39f66e5399\")) {\n",
       "                    Plotly.newPlot(\n",
       "                        'bff4147c-409c-472a-bacc-af39f66e5399',\n",
       "                        [{\"marker\": {\"color\": \"rgba(255, 153, 51, 0.6)\", \"line\": {\"color\": \"rgba(255, 153, 51, 1.0)\", \"width\": 1}}, \"name\": \"winner\", \"orientation\": \"v\", \"text\": \"\", \"type\": \"bar\", \"x\": [\"Mumbai Indians\", \"Chennai Super Kings\", \"Kolkata Knight Riders\", \"Royal Challengers Bangalore\", \"Kings XI Punjab\", \"Rajasthan Royals\", \"Delhi Daredevils\", \"Sunrisers Hyderabad\", \"Deccan Chargers\", \"Gujarat Lions\", \"Pune Warriors\", \"Rising Pune Supergiant\", \"Delhi Capitals\", \"Kochi Tuskers Kerala\", \"Rising Pune Supergiants\"], \"y\": [109, 100, 92, 84, 82, 75, 67, 58, 29, 13, 12, 10, 10, 6, 5]}],\n",
       "                        {\"legend\": {\"bgcolor\": \"#F5F6F9\", \"font\": {\"color\": \"#4D5663\"}}, \"paper_bgcolor\": \"#F5F6F9\", \"plot_bgcolor\": \"#F5F6F9\", \"template\": {\"data\": {\"bar\": [{\"error_x\": {\"color\": \"#2a3f5f\"}, \"error_y\": {\"color\": \"#2a3f5f\"}, \"marker\": {\"line\": {\"color\": \"#E5ECF6\", \"width\": 0.5}}, \"type\": \"bar\"}], \"barpolar\": [{\"marker\": {\"line\": {\"color\": \"#E5ECF6\", \"width\": 0.5}}, \"type\": \"barpolar\"}], \"carpet\": [{\"aaxis\": {\"endlinecolor\": \"#2a3f5f\", \"gridcolor\": \"white\", \"linecolor\": \"white\", \"minorgridcolor\": \"white\", \"startlinecolor\": \"#2a3f5f\"}, \"baxis\": {\"endlinecolor\": \"#2a3f5f\", \"gridcolor\": \"white\", \"linecolor\": \"white\", \"minorgridcolor\": \"white\", \"startlinecolor\": \"#2a3f5f\"}, \"type\": \"carpet\"}], \"choropleth\": [{\"colorbar\": {\"outlinewidth\": 0, \"ticks\": \"\"}, \"type\": \"choropleth\"}], \"contour\": [{\"colorbar\": {\"outlinewidth\": 0, \"ticks\": \"\"}, \"colorscale\": [[0.0, \"#0d0887\"], [0.1111111111111111, \"#46039f\"], [0.2222222222222222, \"#7201a8\"], [0.3333333333333333, \"#9c179e\"], [0.4444444444444444, \"#bd3786\"], [0.5555555555555556, \"#d8576b\"], [0.6666666666666666, \"#ed7953\"], [0.7777777777777778, \"#fb9f3a\"], [0.8888888888888888, \"#fdca26\"], [1.0, \"#f0f921\"]], \"type\": \"contour\"}], \"contourcarpet\": [{\"colorbar\": {\"outlinewidth\": 0, \"ticks\": \"\"}, \"type\": \"contourcarpet\"}], \"heatmap\": [{\"colorbar\": {\"outlinewidth\": 0, \"ticks\": \"\"}, \"colorscale\": [[0.0, \"#0d0887\"], [0.1111111111111111, \"#46039f\"], [0.2222222222222222, \"#7201a8\"], [0.3333333333333333, \"#9c179e\"], [0.4444444444444444, \"#bd3786\"], [0.5555555555555556, \"#d8576b\"], [0.6666666666666666, \"#ed7953\"], [0.7777777777777778, \"#fb9f3a\"], [0.8888888888888888, \"#fdca26\"], [1.0, \"#f0f921\"]], \"type\": \"heatmap\"}], \"heatmapgl\": [{\"colorbar\": {\"outlinewidth\": 0, \"ticks\": \"\"}, \"colorscale\": [[0.0, \"#0d0887\"], [0.1111111111111111, \"#46039f\"], [0.2222222222222222, \"#7201a8\"], [0.3333333333333333, \"#9c179e\"], [0.4444444444444444, \"#bd3786\"], [0.5555555555555556, \"#d8576b\"], [0.6666666666666666, \"#ed7953\"], [0.7777777777777778, \"#fb9f3a\"], [0.8888888888888888, \"#fdca26\"], [1.0, \"#f0f921\"]], \"type\": \"heatmapgl\"}], \"histogram\": [{\"marker\": {\"colorbar\": {\"outlinewidth\": 0, \"ticks\": \"\"}}, \"type\": \"histogram\"}], \"histogram2d\": [{\"colorbar\": {\"outlinewidth\": 0, \"ticks\": \"\"}, \"colorscale\": [[0.0, \"#0d0887\"], [0.1111111111111111, \"#46039f\"], [0.2222222222222222, \"#7201a8\"], [0.3333333333333333, \"#9c179e\"], [0.4444444444444444, \"#bd3786\"], [0.5555555555555556, \"#d8576b\"], [0.6666666666666666, \"#ed7953\"], [0.7777777777777778, \"#fb9f3a\"], [0.8888888888888888, \"#fdca26\"], [1.0, \"#f0f921\"]], \"type\": \"histogram2d\"}], \"histogram2dcontour\": [{\"colorbar\": {\"outlinewidth\": 0, \"ticks\": \"\"}, \"colorscale\": [[0.0, \"#0d0887\"], [0.1111111111111111, \"#46039f\"], [0.2222222222222222, \"#7201a8\"], [0.3333333333333333, \"#9c179e\"], [0.4444444444444444, \"#bd3786\"], [0.5555555555555556, \"#d8576b\"], [0.6666666666666666, \"#ed7953\"], [0.7777777777777778, \"#fb9f3a\"], [0.8888888888888888, \"#fdca26\"], [1.0, \"#f0f921\"]], \"type\": \"histogram2dcontour\"}], \"mesh3d\": [{\"colorbar\": {\"outlinewidth\": 0, \"ticks\": \"\"}, \"type\": \"mesh3d\"}], \"parcoords\": [{\"line\": {\"colorbar\": {\"outlinewidth\": 0, \"ticks\": \"\"}}, \"type\": \"parcoords\"}], \"pie\": [{\"automargin\": true, \"type\": \"pie\"}], \"scatter\": [{\"marker\": {\"colorbar\": {\"outlinewidth\": 0, \"ticks\": \"\"}}, \"type\": \"scatter\"}], \"scatter3d\": [{\"line\": {\"colorbar\": {\"outlinewidth\": 0, \"ticks\": \"\"}}, \"marker\": {\"colorbar\": {\"outlinewidth\": 0, \"ticks\": \"\"}}, \"type\": \"scatter3d\"}], \"scattercarpet\": [{\"marker\": {\"colorbar\": {\"outlinewidth\": 0, \"ticks\": \"\"}}, \"type\": \"scattercarpet\"}], \"scattergeo\": [{\"marker\": {\"colorbar\": {\"outlinewidth\": 0, \"ticks\": \"\"}}, \"type\": \"scattergeo\"}], \"scattergl\": [{\"marker\": {\"colorbar\": {\"outlinewidth\": 0, \"ticks\": \"\"}}, \"type\": \"scattergl\"}], \"scattermapbox\": [{\"marker\": {\"colorbar\": {\"outlinewidth\": 0, \"ticks\": \"\"}}, \"type\": \"scattermapbox\"}], \"scatterpolar\": [{\"marker\": {\"colorbar\": {\"outlinewidth\": 0, \"ticks\": \"\"}}, \"type\": \"scatterpolar\"}], \"scatterpolargl\": [{\"marker\": {\"colorbar\": {\"outlinewidth\": 0, \"ticks\": \"\"}}, \"type\": \"scatterpolargl\"}], \"scatterternary\": [{\"marker\": {\"colorbar\": {\"outlinewidth\": 0, \"ticks\": \"\"}}, \"type\": \"scatterternary\"}], \"surface\": [{\"colorbar\": {\"outlinewidth\": 0, \"ticks\": \"\"}, \"colorscale\": [[0.0, \"#0d0887\"], [0.1111111111111111, \"#46039f\"], [0.2222222222222222, \"#7201a8\"], [0.3333333333333333, \"#9c179e\"], [0.4444444444444444, \"#bd3786\"], [0.5555555555555556, \"#d8576b\"], [0.6666666666666666, \"#ed7953\"], [0.7777777777777778, \"#fb9f3a\"], [0.8888888888888888, \"#fdca26\"], [1.0, \"#f0f921\"]], \"type\": \"surface\"}], \"table\": [{\"cells\": {\"fill\": {\"color\": \"#EBF0F8\"}, \"line\": {\"color\": \"white\"}}, \"header\": {\"fill\": {\"color\": \"#C8D4E3\"}, \"line\": {\"color\": \"white\"}}, \"type\": \"table\"}]}, \"layout\": {\"annotationdefaults\": {\"arrowcolor\": \"#2a3f5f\", \"arrowhead\": 0, \"arrowwidth\": 1}, \"coloraxis\": {\"colorbar\": {\"outlinewidth\": 0, \"ticks\": \"\"}}, \"colorscale\": {\"diverging\": [[0, \"#8e0152\"], [0.1, \"#c51b7d\"], [0.2, \"#de77ae\"], [0.3, \"#f1b6da\"], [0.4, \"#fde0ef\"], [0.5, \"#f7f7f7\"], [0.6, \"#e6f5d0\"], [0.7, \"#b8e186\"], [0.8, \"#7fbc41\"], [0.9, \"#4d9221\"], [1, \"#276419\"]], \"sequential\": [[0.0, \"#0d0887\"], [0.1111111111111111, \"#46039f\"], [0.2222222222222222, \"#7201a8\"], [0.3333333333333333, \"#9c179e\"], [0.4444444444444444, \"#bd3786\"], [0.5555555555555556, \"#d8576b\"], [0.6666666666666666, \"#ed7953\"], [0.7777777777777778, \"#fb9f3a\"], [0.8888888888888888, \"#fdca26\"], [1.0, \"#f0f921\"]], \"sequentialminus\": [[0.0, \"#0d0887\"], [0.1111111111111111, \"#46039f\"], [0.2222222222222222, \"#7201a8\"], [0.3333333333333333, \"#9c179e\"], [0.4444444444444444, \"#bd3786\"], [0.5555555555555556, \"#d8576b\"], [0.6666666666666666, \"#ed7953\"], [0.7777777777777778, \"#fb9f3a\"], [0.8888888888888888, \"#fdca26\"], [1.0, \"#f0f921\"]]}, \"colorway\": [\"#636efa\", \"#EF553B\", \"#00cc96\", \"#ab63fa\", \"#FFA15A\", \"#19d3f3\", \"#FF6692\", \"#B6E880\", \"#FF97FF\", \"#FECB52\"], \"font\": {\"color\": \"#2a3f5f\"}, \"geo\": {\"bgcolor\": \"white\", \"lakecolor\": \"white\", \"landcolor\": \"#E5ECF6\", \"showlakes\": true, \"showland\": true, \"subunitcolor\": \"white\"}, \"hoverlabel\": {\"align\": \"left\"}, \"hovermode\": \"closest\", \"mapbox\": {\"style\": \"light\"}, \"paper_bgcolor\": \"white\", \"plot_bgcolor\": \"#E5ECF6\", \"polar\": {\"angularaxis\": {\"gridcolor\": \"white\", \"linecolor\": \"white\", \"ticks\": \"\"}, \"bgcolor\": \"#E5ECF6\", \"radialaxis\": {\"gridcolor\": \"white\", \"linecolor\": \"white\", \"ticks\": \"\"}}, \"scene\": {\"xaxis\": {\"backgroundcolor\": \"#E5ECF6\", \"gridcolor\": \"white\", \"gridwidth\": 2, \"linecolor\": \"white\", \"showbackground\": true, \"ticks\": \"\", \"zerolinecolor\": \"white\"}, \"yaxis\": {\"backgroundcolor\": \"#E5ECF6\", \"gridcolor\": \"white\", \"gridwidth\": 2, \"linecolor\": \"white\", \"showbackground\": true, \"ticks\": \"\", \"zerolinecolor\": \"white\"}, \"zaxis\": {\"backgroundcolor\": \"#E5ECF6\", \"gridcolor\": \"white\", \"gridwidth\": 2, \"linecolor\": \"white\", \"showbackground\": true, \"ticks\": \"\", \"zerolinecolor\": \"white\"}}, \"shapedefaults\": {\"line\": {\"color\": \"#2a3f5f\"}}, \"ternary\": {\"aaxis\": {\"gridcolor\": \"white\", \"linecolor\": \"white\", \"ticks\": \"\"}, \"baxis\": {\"gridcolor\": \"white\", \"linecolor\": \"white\", \"ticks\": \"\"}, \"bgcolor\": \"#E5ECF6\", \"caxis\": {\"gridcolor\": \"white\", \"linecolor\": \"white\", \"ticks\": \"\"}}, \"title\": {\"x\": 0.05}, \"xaxis\": {\"automargin\": true, \"gridcolor\": \"white\", \"linecolor\": \"white\", \"ticks\": \"\", \"title\": {\"standoff\": 15}, \"zerolinecolor\": \"white\", \"zerolinewidth\": 2}, \"yaxis\": {\"automargin\": true, \"gridcolor\": \"white\", \"linecolor\": \"white\", \"ticks\": \"\", \"title\": {\"standoff\": 15}, \"zerolinecolor\": \"white\", \"zerolinewidth\": 2}}}, \"title\": {\"font\": {\"color\": \"#4D5663\"}, \"text\": \"Winning Count\"}, \"xaxis\": {\"gridcolor\": \"#E1E5ED\", \"showgrid\": true, \"tickfont\": {\"color\": \"#4D5663\"}, \"title\": {\"font\": {\"color\": \"#4D5663\"}, \"text\": \"Team\"}, \"zerolinecolor\": \"#E1E5ED\"}, \"yaxis\": {\"gridcolor\": \"#E1E5ED\", \"showgrid\": true, \"tickfont\": {\"color\": \"#4D5663\"}, \"title\": {\"font\": {\"color\": \"#4D5663\"}, \"text\": \"Count\"}, \"zerolinecolor\": \"#E1E5ED\"}},\n",
       "                        {\"showLink\": true, \"linkText\": \"Export to plot.ly\", \"plotlyServerURL\": \"https://plot.ly\", \"responsive\": true}\n",
       "                    ).then(function(){\n",
       "                            \n",
       "var gd = document.getElementById('bff4147c-409c-472a-bacc-af39f66e5399');\n",
       "var x = new MutationObserver(function (mutations, observer) {{\n",
       "        var display = window.getComputedStyle(gd).display;\n",
       "        if (!display || display === 'none') {{\n",
       "            console.log([gd, 'removed!']);\n",
       "            Plotly.purge(gd);\n",
       "            observer.disconnect();\n",
       "        }}\n",
       "}});\n",
       "\n",
       "// Listen for the removal of the full notebook cells\n",
       "var notebookContainer = gd.closest('#notebook-container');\n",
       "if (notebookContainer) {{\n",
       "    x.observe(notebookContainer, {childList: true});\n",
       "}}\n",
       "\n",
       "// Listen for the clearing of the current output cell\n",
       "var outputEl = gd.closest('.output');\n",
       "if (outputEl) {{\n",
       "    x.observe(outputEl, {childList: true});\n",
       "}}\n",
       "\n",
       "                        })\n",
       "                };\n",
       "                });\n",
       "            </script>\n",
       "        </div>"
      ]
     },
     "metadata": {},
     "output_type": "display_data"
    }
   ],
   "source": [
    "wins.iplot(kind ='bar',xTitle ='Team',yTitle='Count',title='Winning Count')"
   ]
  },
  {
   "cell_type": "code",
   "execution_count": 23,
   "metadata": {},
   "outputs": [
    {
     "data": {
      "application/vnd.plotly.v1+json": {
       "config": {
        "linkText": "Export to plot.ly",
        "plotlyServerURL": "https://plot.ly",
        "showLink": true
       },
       "data": [
        {
         "marker": {
          "color": "rgba(255, 153, 51, 0.6)",
          "line": {
           "color": "rgba(255, 153, 51, 1.0)",
           "width": 1
          }
         },
         "name": "lost",
         "orientation": "v",
         "text": "",
         "type": "bar",
         "x": [
          "Royal Challengers Bangalore",
          "Delhi Daredevils",
          "Kings XI Punjab",
          "Kolkata Knight Riders",
          "Mumbai Indians",
          "Rajasthan Royals",
          "Chennai Super Kings",
          "Sunrisers Hyderabad",
          "Deccan Chargers",
          "Pune Warriors",
          "Gujarat Lions",
          "Rising Pune Supergiants",
          "Kochi Tuskers Kerala",
          "Rising Pune Supergiant",
          "Delhi Capitals"
         ],
         "y": [
          95,
          94,
          94,
          86,
          78,
          70,
          64,
          50,
          46,
          33,
          17,
          9,
          8,
          6,
          6
         ]
        }
       ],
       "layout": {
        "legend": {
         "bgcolor": "#F5F6F9",
         "font": {
          "color": "#4D5663"
         }
        },
        "paper_bgcolor": "#F5F6F9",
        "plot_bgcolor": "#F5F6F9",
        "template": {
         "data": {
          "bar": [
           {
            "error_x": {
             "color": "#2a3f5f"
            },
            "error_y": {
             "color": "#2a3f5f"
            },
            "marker": {
             "line": {
              "color": "#E5ECF6",
              "width": 0.5
             }
            },
            "type": "bar"
           }
          ],
          "barpolar": [
           {
            "marker": {
             "line": {
              "color": "#E5ECF6",
              "width": 0.5
             }
            },
            "type": "barpolar"
           }
          ],
          "carpet": [
           {
            "aaxis": {
             "endlinecolor": "#2a3f5f",
             "gridcolor": "white",
             "linecolor": "white",
             "minorgridcolor": "white",
             "startlinecolor": "#2a3f5f"
            },
            "baxis": {
             "endlinecolor": "#2a3f5f",
             "gridcolor": "white",
             "linecolor": "white",
             "minorgridcolor": "white",
             "startlinecolor": "#2a3f5f"
            },
            "type": "carpet"
           }
          ],
          "choropleth": [
           {
            "colorbar": {
             "outlinewidth": 0,
             "ticks": ""
            },
            "type": "choropleth"
           }
          ],
          "contour": [
           {
            "colorbar": {
             "outlinewidth": 0,
             "ticks": ""
            },
            "colorscale": [
             [
              0,
              "#0d0887"
             ],
             [
              0.1111111111111111,
              "#46039f"
             ],
             [
              0.2222222222222222,
              "#7201a8"
             ],
             [
              0.3333333333333333,
              "#9c179e"
             ],
             [
              0.4444444444444444,
              "#bd3786"
             ],
             [
              0.5555555555555556,
              "#d8576b"
             ],
             [
              0.6666666666666666,
              "#ed7953"
             ],
             [
              0.7777777777777778,
              "#fb9f3a"
             ],
             [
              0.8888888888888888,
              "#fdca26"
             ],
             [
              1,
              "#f0f921"
             ]
            ],
            "type": "contour"
           }
          ],
          "contourcarpet": [
           {
            "colorbar": {
             "outlinewidth": 0,
             "ticks": ""
            },
            "type": "contourcarpet"
           }
          ],
          "heatmap": [
           {
            "colorbar": {
             "outlinewidth": 0,
             "ticks": ""
            },
            "colorscale": [
             [
              0,
              "#0d0887"
             ],
             [
              0.1111111111111111,
              "#46039f"
             ],
             [
              0.2222222222222222,
              "#7201a8"
             ],
             [
              0.3333333333333333,
              "#9c179e"
             ],
             [
              0.4444444444444444,
              "#bd3786"
             ],
             [
              0.5555555555555556,
              "#d8576b"
             ],
             [
              0.6666666666666666,
              "#ed7953"
             ],
             [
              0.7777777777777778,
              "#fb9f3a"
             ],
             [
              0.8888888888888888,
              "#fdca26"
             ],
             [
              1,
              "#f0f921"
             ]
            ],
            "type": "heatmap"
           }
          ],
          "heatmapgl": [
           {
            "colorbar": {
             "outlinewidth": 0,
             "ticks": ""
            },
            "colorscale": [
             [
              0,
              "#0d0887"
             ],
             [
              0.1111111111111111,
              "#46039f"
             ],
             [
              0.2222222222222222,
              "#7201a8"
             ],
             [
              0.3333333333333333,
              "#9c179e"
             ],
             [
              0.4444444444444444,
              "#bd3786"
             ],
             [
              0.5555555555555556,
              "#d8576b"
             ],
             [
              0.6666666666666666,
              "#ed7953"
             ],
             [
              0.7777777777777778,
              "#fb9f3a"
             ],
             [
              0.8888888888888888,
              "#fdca26"
             ],
             [
              1,
              "#f0f921"
             ]
            ],
            "type": "heatmapgl"
           }
          ],
          "histogram": [
           {
            "marker": {
             "colorbar": {
              "outlinewidth": 0,
              "ticks": ""
             }
            },
            "type": "histogram"
           }
          ],
          "histogram2d": [
           {
            "colorbar": {
             "outlinewidth": 0,
             "ticks": ""
            },
            "colorscale": [
             [
              0,
              "#0d0887"
             ],
             [
              0.1111111111111111,
              "#46039f"
             ],
             [
              0.2222222222222222,
              "#7201a8"
             ],
             [
              0.3333333333333333,
              "#9c179e"
             ],
             [
              0.4444444444444444,
              "#bd3786"
             ],
             [
              0.5555555555555556,
              "#d8576b"
             ],
             [
              0.6666666666666666,
              "#ed7953"
             ],
             [
              0.7777777777777778,
              "#fb9f3a"
             ],
             [
              0.8888888888888888,
              "#fdca26"
             ],
             [
              1,
              "#f0f921"
             ]
            ],
            "type": "histogram2d"
           }
          ],
          "histogram2dcontour": [
           {
            "colorbar": {
             "outlinewidth": 0,
             "ticks": ""
            },
            "colorscale": [
             [
              0,
              "#0d0887"
             ],
             [
              0.1111111111111111,
              "#46039f"
             ],
             [
              0.2222222222222222,
              "#7201a8"
             ],
             [
              0.3333333333333333,
              "#9c179e"
             ],
             [
              0.4444444444444444,
              "#bd3786"
             ],
             [
              0.5555555555555556,
              "#d8576b"
             ],
             [
              0.6666666666666666,
              "#ed7953"
             ],
             [
              0.7777777777777778,
              "#fb9f3a"
             ],
             [
              0.8888888888888888,
              "#fdca26"
             ],
             [
              1,
              "#f0f921"
             ]
            ],
            "type": "histogram2dcontour"
           }
          ],
          "mesh3d": [
           {
            "colorbar": {
             "outlinewidth": 0,
             "ticks": ""
            },
            "type": "mesh3d"
           }
          ],
          "parcoords": [
           {
            "line": {
             "colorbar": {
              "outlinewidth": 0,
              "ticks": ""
             }
            },
            "type": "parcoords"
           }
          ],
          "pie": [
           {
            "automargin": true,
            "type": "pie"
           }
          ],
          "scatter": [
           {
            "marker": {
             "colorbar": {
              "outlinewidth": 0,
              "ticks": ""
             }
            },
            "type": "scatter"
           }
          ],
          "scatter3d": [
           {
            "line": {
             "colorbar": {
              "outlinewidth": 0,
              "ticks": ""
             }
            },
            "marker": {
             "colorbar": {
              "outlinewidth": 0,
              "ticks": ""
             }
            },
            "type": "scatter3d"
           }
          ],
          "scattercarpet": [
           {
            "marker": {
             "colorbar": {
              "outlinewidth": 0,
              "ticks": ""
             }
            },
            "type": "scattercarpet"
           }
          ],
          "scattergeo": [
           {
            "marker": {
             "colorbar": {
              "outlinewidth": 0,
              "ticks": ""
             }
            },
            "type": "scattergeo"
           }
          ],
          "scattergl": [
           {
            "marker": {
             "colorbar": {
              "outlinewidth": 0,
              "ticks": ""
             }
            },
            "type": "scattergl"
           }
          ],
          "scattermapbox": [
           {
            "marker": {
             "colorbar": {
              "outlinewidth": 0,
              "ticks": ""
             }
            },
            "type": "scattermapbox"
           }
          ],
          "scatterpolar": [
           {
            "marker": {
             "colorbar": {
              "outlinewidth": 0,
              "ticks": ""
             }
            },
            "type": "scatterpolar"
           }
          ],
          "scatterpolargl": [
           {
            "marker": {
             "colorbar": {
              "outlinewidth": 0,
              "ticks": ""
             }
            },
            "type": "scatterpolargl"
           }
          ],
          "scatterternary": [
           {
            "marker": {
             "colorbar": {
              "outlinewidth": 0,
              "ticks": ""
             }
            },
            "type": "scatterternary"
           }
          ],
          "surface": [
           {
            "colorbar": {
             "outlinewidth": 0,
             "ticks": ""
            },
            "colorscale": [
             [
              0,
              "#0d0887"
             ],
             [
              0.1111111111111111,
              "#46039f"
             ],
             [
              0.2222222222222222,
              "#7201a8"
             ],
             [
              0.3333333333333333,
              "#9c179e"
             ],
             [
              0.4444444444444444,
              "#bd3786"
             ],
             [
              0.5555555555555556,
              "#d8576b"
             ],
             [
              0.6666666666666666,
              "#ed7953"
             ],
             [
              0.7777777777777778,
              "#fb9f3a"
             ],
             [
              0.8888888888888888,
              "#fdca26"
             ],
             [
              1,
              "#f0f921"
             ]
            ],
            "type": "surface"
           }
          ],
          "table": [
           {
            "cells": {
             "fill": {
              "color": "#EBF0F8"
             },
             "line": {
              "color": "white"
             }
            },
            "header": {
             "fill": {
              "color": "#C8D4E3"
             },
             "line": {
              "color": "white"
             }
            },
            "type": "table"
           }
          ]
         },
         "layout": {
          "annotationdefaults": {
           "arrowcolor": "#2a3f5f",
           "arrowhead": 0,
           "arrowwidth": 1
          },
          "coloraxis": {
           "colorbar": {
            "outlinewidth": 0,
            "ticks": ""
           }
          },
          "colorscale": {
           "diverging": [
            [
             0,
             "#8e0152"
            ],
            [
             0.1,
             "#c51b7d"
            ],
            [
             0.2,
             "#de77ae"
            ],
            [
             0.3,
             "#f1b6da"
            ],
            [
             0.4,
             "#fde0ef"
            ],
            [
             0.5,
             "#f7f7f7"
            ],
            [
             0.6,
             "#e6f5d0"
            ],
            [
             0.7,
             "#b8e186"
            ],
            [
             0.8,
             "#7fbc41"
            ],
            [
             0.9,
             "#4d9221"
            ],
            [
             1,
             "#276419"
            ]
           ],
           "sequential": [
            [
             0,
             "#0d0887"
            ],
            [
             0.1111111111111111,
             "#46039f"
            ],
            [
             0.2222222222222222,
             "#7201a8"
            ],
            [
             0.3333333333333333,
             "#9c179e"
            ],
            [
             0.4444444444444444,
             "#bd3786"
            ],
            [
             0.5555555555555556,
             "#d8576b"
            ],
            [
             0.6666666666666666,
             "#ed7953"
            ],
            [
             0.7777777777777778,
             "#fb9f3a"
            ],
            [
             0.8888888888888888,
             "#fdca26"
            ],
            [
             1,
             "#f0f921"
            ]
           ],
           "sequentialminus": [
            [
             0,
             "#0d0887"
            ],
            [
             0.1111111111111111,
             "#46039f"
            ],
            [
             0.2222222222222222,
             "#7201a8"
            ],
            [
             0.3333333333333333,
             "#9c179e"
            ],
            [
             0.4444444444444444,
             "#bd3786"
            ],
            [
             0.5555555555555556,
             "#d8576b"
            ],
            [
             0.6666666666666666,
             "#ed7953"
            ],
            [
             0.7777777777777778,
             "#fb9f3a"
            ],
            [
             0.8888888888888888,
             "#fdca26"
            ],
            [
             1,
             "#f0f921"
            ]
           ]
          },
          "colorway": [
           "#636efa",
           "#EF553B",
           "#00cc96",
           "#ab63fa",
           "#FFA15A",
           "#19d3f3",
           "#FF6692",
           "#B6E880",
           "#FF97FF",
           "#FECB52"
          ],
          "font": {
           "color": "#2a3f5f"
          },
          "geo": {
           "bgcolor": "white",
           "lakecolor": "white",
           "landcolor": "#E5ECF6",
           "showlakes": true,
           "showland": true,
           "subunitcolor": "white"
          },
          "hoverlabel": {
           "align": "left"
          },
          "hovermode": "closest",
          "mapbox": {
           "style": "light"
          },
          "paper_bgcolor": "white",
          "plot_bgcolor": "#E5ECF6",
          "polar": {
           "angularaxis": {
            "gridcolor": "white",
            "linecolor": "white",
            "ticks": ""
           },
           "bgcolor": "#E5ECF6",
           "radialaxis": {
            "gridcolor": "white",
            "linecolor": "white",
            "ticks": ""
           }
          },
          "scene": {
           "xaxis": {
            "backgroundcolor": "#E5ECF6",
            "gridcolor": "white",
            "gridwidth": 2,
            "linecolor": "white",
            "showbackground": true,
            "ticks": "",
            "zerolinecolor": "white"
           },
           "yaxis": {
            "backgroundcolor": "#E5ECF6",
            "gridcolor": "white",
            "gridwidth": 2,
            "linecolor": "white",
            "showbackground": true,
            "ticks": "",
            "zerolinecolor": "white"
           },
           "zaxis": {
            "backgroundcolor": "#E5ECF6",
            "gridcolor": "white",
            "gridwidth": 2,
            "linecolor": "white",
            "showbackground": true,
            "ticks": "",
            "zerolinecolor": "white"
           }
          },
          "shapedefaults": {
           "line": {
            "color": "#2a3f5f"
           }
          },
          "ternary": {
           "aaxis": {
            "gridcolor": "white",
            "linecolor": "white",
            "ticks": ""
           },
           "baxis": {
            "gridcolor": "white",
            "linecolor": "white",
            "ticks": ""
           },
           "bgcolor": "#E5ECF6",
           "caxis": {
            "gridcolor": "white",
            "linecolor": "white",
            "ticks": ""
           }
          },
          "title": {
           "x": 0.05
          },
          "xaxis": {
           "automargin": true,
           "gridcolor": "white",
           "linecolor": "white",
           "ticks": "",
           "title": {
            "standoff": 15
           },
           "zerolinecolor": "white",
           "zerolinewidth": 2
          },
          "yaxis": {
           "automargin": true,
           "gridcolor": "white",
           "linecolor": "white",
           "ticks": "",
           "title": {
            "standoff": 15
           },
           "zerolinecolor": "white",
           "zerolinewidth": 2
          }
         }
        },
        "title": {
         "font": {
          "color": "#4D5663"
         },
         "text": "Losing Count"
        },
        "xaxis": {
         "gridcolor": "#E1E5ED",
         "showgrid": true,
         "tickfont": {
          "color": "#4D5663"
         },
         "title": {
          "font": {
           "color": "#4D5663"
          },
          "text": "Team"
         },
         "zerolinecolor": "#E1E5ED"
        },
        "yaxis": {
         "gridcolor": "#E1E5ED",
         "showgrid": true,
         "tickfont": {
          "color": "#4D5663"
         },
         "title": {
          "font": {
           "color": "#4D5663"
          },
          "text": "Count"
         },
         "zerolinecolor": "#E1E5ED"
        }
       }
      },
      "text/html": [
       "<div>\n",
       "        \n",
       "        \n",
       "            <div id=\"a262a22d-d3fe-4842-b50d-ed720452421c\" class=\"plotly-graph-div\" style=\"height:525px; width:100%;\"></div>\n",
       "            <script type=\"text/javascript\">\n",
       "                require([\"plotly\"], function(Plotly) {\n",
       "                    window.PLOTLYENV=window.PLOTLYENV || {};\n",
       "                    window.PLOTLYENV.BASE_URL='https://plot.ly';\n",
       "                    \n",
       "                if (document.getElementById(\"a262a22d-d3fe-4842-b50d-ed720452421c\")) {\n",
       "                    Plotly.newPlot(\n",
       "                        'a262a22d-d3fe-4842-b50d-ed720452421c',\n",
       "                        [{\"marker\": {\"color\": \"rgba(255, 153, 51, 0.6)\", \"line\": {\"color\": \"rgba(255, 153, 51, 1.0)\", \"width\": 1}}, \"name\": \"lost\", \"orientation\": \"v\", \"text\": \"\", \"type\": \"bar\", \"x\": [\"Royal Challengers Bangalore\", \"Delhi Daredevils\", \"Kings XI Punjab\", \"Kolkata Knight Riders\", \"Mumbai Indians\", \"Rajasthan Royals\", \"Chennai Super Kings\", \"Sunrisers Hyderabad\", \"Deccan Chargers\", \"Pune Warriors\", \"Gujarat Lions\", \"Rising Pune Supergiants\", \"Kochi Tuskers Kerala\", \"Rising Pune Supergiant\", \"Delhi Capitals\"], \"y\": [95, 94, 94, 86, 78, 70, 64, 50, 46, 33, 17, 9, 8, 6, 6]}],\n",
       "                        {\"legend\": {\"bgcolor\": \"#F5F6F9\", \"font\": {\"color\": \"#4D5663\"}}, \"paper_bgcolor\": \"#F5F6F9\", \"plot_bgcolor\": \"#F5F6F9\", \"template\": {\"data\": {\"bar\": [{\"error_x\": {\"color\": \"#2a3f5f\"}, \"error_y\": {\"color\": \"#2a3f5f\"}, \"marker\": {\"line\": {\"color\": \"#E5ECF6\", \"width\": 0.5}}, \"type\": \"bar\"}], \"barpolar\": [{\"marker\": {\"line\": {\"color\": \"#E5ECF6\", \"width\": 0.5}}, \"type\": \"barpolar\"}], \"carpet\": [{\"aaxis\": {\"endlinecolor\": \"#2a3f5f\", \"gridcolor\": \"white\", \"linecolor\": \"white\", \"minorgridcolor\": \"white\", \"startlinecolor\": \"#2a3f5f\"}, \"baxis\": {\"endlinecolor\": \"#2a3f5f\", \"gridcolor\": \"white\", \"linecolor\": \"white\", \"minorgridcolor\": \"white\", \"startlinecolor\": \"#2a3f5f\"}, \"type\": \"carpet\"}], \"choropleth\": [{\"colorbar\": {\"outlinewidth\": 0, \"ticks\": \"\"}, \"type\": \"choropleth\"}], \"contour\": [{\"colorbar\": {\"outlinewidth\": 0, \"ticks\": \"\"}, \"colorscale\": [[0.0, \"#0d0887\"], [0.1111111111111111, \"#46039f\"], [0.2222222222222222, \"#7201a8\"], [0.3333333333333333, \"#9c179e\"], [0.4444444444444444, \"#bd3786\"], [0.5555555555555556, \"#d8576b\"], [0.6666666666666666, \"#ed7953\"], [0.7777777777777778, \"#fb9f3a\"], [0.8888888888888888, \"#fdca26\"], [1.0, \"#f0f921\"]], \"type\": \"contour\"}], \"contourcarpet\": [{\"colorbar\": {\"outlinewidth\": 0, \"ticks\": \"\"}, \"type\": \"contourcarpet\"}], \"heatmap\": [{\"colorbar\": {\"outlinewidth\": 0, \"ticks\": \"\"}, \"colorscale\": [[0.0, \"#0d0887\"], [0.1111111111111111, \"#46039f\"], [0.2222222222222222, \"#7201a8\"], [0.3333333333333333, \"#9c179e\"], [0.4444444444444444, \"#bd3786\"], [0.5555555555555556, \"#d8576b\"], [0.6666666666666666, \"#ed7953\"], [0.7777777777777778, \"#fb9f3a\"], [0.8888888888888888, \"#fdca26\"], [1.0, \"#f0f921\"]], \"type\": \"heatmap\"}], \"heatmapgl\": [{\"colorbar\": {\"outlinewidth\": 0, \"ticks\": \"\"}, \"colorscale\": [[0.0, \"#0d0887\"], [0.1111111111111111, \"#46039f\"], [0.2222222222222222, \"#7201a8\"], [0.3333333333333333, \"#9c179e\"], [0.4444444444444444, \"#bd3786\"], [0.5555555555555556, \"#d8576b\"], [0.6666666666666666, \"#ed7953\"], [0.7777777777777778, \"#fb9f3a\"], [0.8888888888888888, \"#fdca26\"], [1.0, \"#f0f921\"]], \"type\": \"heatmapgl\"}], \"histogram\": [{\"marker\": {\"colorbar\": {\"outlinewidth\": 0, \"ticks\": \"\"}}, \"type\": \"histogram\"}], \"histogram2d\": [{\"colorbar\": {\"outlinewidth\": 0, \"ticks\": \"\"}, \"colorscale\": [[0.0, \"#0d0887\"], [0.1111111111111111, \"#46039f\"], [0.2222222222222222, \"#7201a8\"], [0.3333333333333333, \"#9c179e\"], [0.4444444444444444, \"#bd3786\"], [0.5555555555555556, \"#d8576b\"], [0.6666666666666666, \"#ed7953\"], [0.7777777777777778, \"#fb9f3a\"], [0.8888888888888888, \"#fdca26\"], [1.0, \"#f0f921\"]], \"type\": \"histogram2d\"}], \"histogram2dcontour\": [{\"colorbar\": {\"outlinewidth\": 0, \"ticks\": \"\"}, \"colorscale\": [[0.0, \"#0d0887\"], [0.1111111111111111, \"#46039f\"], [0.2222222222222222, \"#7201a8\"], [0.3333333333333333, \"#9c179e\"], [0.4444444444444444, \"#bd3786\"], [0.5555555555555556, \"#d8576b\"], [0.6666666666666666, \"#ed7953\"], [0.7777777777777778, \"#fb9f3a\"], [0.8888888888888888, \"#fdca26\"], [1.0, \"#f0f921\"]], \"type\": \"histogram2dcontour\"}], \"mesh3d\": [{\"colorbar\": {\"outlinewidth\": 0, \"ticks\": \"\"}, \"type\": \"mesh3d\"}], \"parcoords\": [{\"line\": {\"colorbar\": {\"outlinewidth\": 0, \"ticks\": \"\"}}, \"type\": \"parcoords\"}], \"pie\": [{\"automargin\": true, \"type\": \"pie\"}], \"scatter\": [{\"marker\": {\"colorbar\": {\"outlinewidth\": 0, \"ticks\": \"\"}}, \"type\": \"scatter\"}], \"scatter3d\": [{\"line\": {\"colorbar\": {\"outlinewidth\": 0, \"ticks\": \"\"}}, \"marker\": {\"colorbar\": {\"outlinewidth\": 0, \"ticks\": \"\"}}, \"type\": \"scatter3d\"}], \"scattercarpet\": [{\"marker\": {\"colorbar\": {\"outlinewidth\": 0, \"ticks\": \"\"}}, \"type\": \"scattercarpet\"}], \"scattergeo\": [{\"marker\": {\"colorbar\": {\"outlinewidth\": 0, \"ticks\": \"\"}}, \"type\": \"scattergeo\"}], \"scattergl\": [{\"marker\": {\"colorbar\": {\"outlinewidth\": 0, \"ticks\": \"\"}}, \"type\": \"scattergl\"}], \"scattermapbox\": [{\"marker\": {\"colorbar\": {\"outlinewidth\": 0, \"ticks\": \"\"}}, \"type\": \"scattermapbox\"}], \"scatterpolar\": [{\"marker\": {\"colorbar\": {\"outlinewidth\": 0, \"ticks\": \"\"}}, \"type\": \"scatterpolar\"}], \"scatterpolargl\": [{\"marker\": {\"colorbar\": {\"outlinewidth\": 0, \"ticks\": \"\"}}, \"type\": \"scatterpolargl\"}], \"scatterternary\": [{\"marker\": {\"colorbar\": {\"outlinewidth\": 0, \"ticks\": \"\"}}, \"type\": \"scatterternary\"}], \"surface\": [{\"colorbar\": {\"outlinewidth\": 0, \"ticks\": \"\"}, \"colorscale\": [[0.0, \"#0d0887\"], [0.1111111111111111, \"#46039f\"], [0.2222222222222222, \"#7201a8\"], [0.3333333333333333, \"#9c179e\"], [0.4444444444444444, \"#bd3786\"], [0.5555555555555556, \"#d8576b\"], [0.6666666666666666, \"#ed7953\"], [0.7777777777777778, \"#fb9f3a\"], [0.8888888888888888, \"#fdca26\"], [1.0, \"#f0f921\"]], \"type\": \"surface\"}], \"table\": [{\"cells\": {\"fill\": {\"color\": \"#EBF0F8\"}, \"line\": {\"color\": \"white\"}}, \"header\": {\"fill\": {\"color\": \"#C8D4E3\"}, \"line\": {\"color\": \"white\"}}, \"type\": \"table\"}]}, \"layout\": {\"annotationdefaults\": {\"arrowcolor\": \"#2a3f5f\", \"arrowhead\": 0, \"arrowwidth\": 1}, \"coloraxis\": {\"colorbar\": {\"outlinewidth\": 0, \"ticks\": \"\"}}, \"colorscale\": {\"diverging\": [[0, \"#8e0152\"], [0.1, \"#c51b7d\"], [0.2, \"#de77ae\"], [0.3, \"#f1b6da\"], [0.4, \"#fde0ef\"], [0.5, \"#f7f7f7\"], [0.6, \"#e6f5d0\"], [0.7, \"#b8e186\"], [0.8, \"#7fbc41\"], [0.9, \"#4d9221\"], [1, \"#276419\"]], \"sequential\": [[0.0, \"#0d0887\"], [0.1111111111111111, \"#46039f\"], [0.2222222222222222, \"#7201a8\"], [0.3333333333333333, \"#9c179e\"], [0.4444444444444444, \"#bd3786\"], [0.5555555555555556, \"#d8576b\"], [0.6666666666666666, \"#ed7953\"], [0.7777777777777778, \"#fb9f3a\"], [0.8888888888888888, \"#fdca26\"], [1.0, \"#f0f921\"]], \"sequentialminus\": [[0.0, \"#0d0887\"], [0.1111111111111111, \"#46039f\"], [0.2222222222222222, \"#7201a8\"], [0.3333333333333333, \"#9c179e\"], [0.4444444444444444, \"#bd3786\"], [0.5555555555555556, \"#d8576b\"], [0.6666666666666666, \"#ed7953\"], [0.7777777777777778, \"#fb9f3a\"], [0.8888888888888888, \"#fdca26\"], [1.0, \"#f0f921\"]]}, \"colorway\": [\"#636efa\", \"#EF553B\", \"#00cc96\", \"#ab63fa\", \"#FFA15A\", \"#19d3f3\", \"#FF6692\", \"#B6E880\", \"#FF97FF\", \"#FECB52\"], \"font\": {\"color\": \"#2a3f5f\"}, \"geo\": {\"bgcolor\": \"white\", \"lakecolor\": \"white\", \"landcolor\": \"#E5ECF6\", \"showlakes\": true, \"showland\": true, \"subunitcolor\": \"white\"}, \"hoverlabel\": {\"align\": \"left\"}, \"hovermode\": \"closest\", \"mapbox\": {\"style\": \"light\"}, \"paper_bgcolor\": \"white\", \"plot_bgcolor\": \"#E5ECF6\", \"polar\": {\"angularaxis\": {\"gridcolor\": \"white\", \"linecolor\": \"white\", \"ticks\": \"\"}, \"bgcolor\": \"#E5ECF6\", \"radialaxis\": {\"gridcolor\": \"white\", \"linecolor\": \"white\", \"ticks\": \"\"}}, \"scene\": {\"xaxis\": {\"backgroundcolor\": \"#E5ECF6\", \"gridcolor\": \"white\", \"gridwidth\": 2, \"linecolor\": \"white\", \"showbackground\": true, \"ticks\": \"\", \"zerolinecolor\": \"white\"}, \"yaxis\": {\"backgroundcolor\": \"#E5ECF6\", \"gridcolor\": \"white\", \"gridwidth\": 2, \"linecolor\": \"white\", \"showbackground\": true, \"ticks\": \"\", \"zerolinecolor\": \"white\"}, \"zaxis\": {\"backgroundcolor\": \"#E5ECF6\", \"gridcolor\": \"white\", \"gridwidth\": 2, \"linecolor\": \"white\", \"showbackground\": true, \"ticks\": \"\", \"zerolinecolor\": \"white\"}}, \"shapedefaults\": {\"line\": {\"color\": \"#2a3f5f\"}}, \"ternary\": {\"aaxis\": {\"gridcolor\": \"white\", \"linecolor\": \"white\", \"ticks\": \"\"}, \"baxis\": {\"gridcolor\": \"white\", \"linecolor\": \"white\", \"ticks\": \"\"}, \"bgcolor\": \"#E5ECF6\", \"caxis\": {\"gridcolor\": \"white\", \"linecolor\": \"white\", \"ticks\": \"\"}}, \"title\": {\"x\": 0.05}, \"xaxis\": {\"automargin\": true, \"gridcolor\": \"white\", \"linecolor\": \"white\", \"ticks\": \"\", \"title\": {\"standoff\": 15}, \"zerolinecolor\": \"white\", \"zerolinewidth\": 2}, \"yaxis\": {\"automargin\": true, \"gridcolor\": \"white\", \"linecolor\": \"white\", \"ticks\": \"\", \"title\": {\"standoff\": 15}, \"zerolinecolor\": \"white\", \"zerolinewidth\": 2}}}, \"title\": {\"font\": {\"color\": \"#4D5663\"}, \"text\": \"Losing Count\"}, \"xaxis\": {\"gridcolor\": \"#E1E5ED\", \"showgrid\": true, \"tickfont\": {\"color\": \"#4D5663\"}, \"title\": {\"font\": {\"color\": \"#4D5663\"}, \"text\": \"Team\"}, \"zerolinecolor\": \"#E1E5ED\"}, \"yaxis\": {\"gridcolor\": \"#E1E5ED\", \"showgrid\": true, \"tickfont\": {\"color\": \"#4D5663\"}, \"title\": {\"font\": {\"color\": \"#4D5663\"}, \"text\": \"Count\"}, \"zerolinecolor\": \"#E1E5ED\"}},\n",
       "                        {\"showLink\": true, \"linkText\": \"Export to plot.ly\", \"plotlyServerURL\": \"https://plot.ly\", \"responsive\": true}\n",
       "                    ).then(function(){\n",
       "                            \n",
       "var gd = document.getElementById('a262a22d-d3fe-4842-b50d-ed720452421c');\n",
       "var x = new MutationObserver(function (mutations, observer) {{\n",
       "        var display = window.getComputedStyle(gd).display;\n",
       "        if (!display || display === 'none') {{\n",
       "            console.log([gd, 'removed!']);\n",
       "            Plotly.purge(gd);\n",
       "            observer.disconnect();\n",
       "        }}\n",
       "}});\n",
       "\n",
       "// Listen for the removal of the full notebook cells\n",
       "var notebookContainer = gd.closest('#notebook-container');\n",
       "if (notebookContainer) {{\n",
       "    x.observe(notebookContainer, {childList: true});\n",
       "}}\n",
       "\n",
       "// Listen for the clearing of the current output cell\n",
       "var outputEl = gd.closest('.output');\n",
       "if (outputEl) {{\n",
       "    x.observe(outputEl, {childList: true});\n",
       "}}\n",
       "\n",
       "                        })\n",
       "                };\n",
       "                });\n",
       "            </script>\n",
       "        </div>"
      ]
     },
     "metadata": {},
     "output_type": "display_data"
    }
   ],
   "source": [
    "lost.iplot(kind ='bar',xTitle ='Team',yTitle='Count',title='Losing Count')"
   ]
  },
  {
   "cell_type": "markdown",
   "metadata": {},
   "source": [
    "# KKR VS RR HEAD TO HEAD ANALYSIS"
   ]
  },
  {
   "cell_type": "code",
   "execution_count": 24,
   "metadata": {},
   "outputs": [],
   "source": [
    "def get_kkrvsrr(team1,team2):\n",
    "    teams =['Kolkata Knight Riders','Rajasthan Royals']\n",
    "    \n",
    "    if team1 in teams and team2 in teams:\n",
    "        return True\n",
    "    else:\n",
    "        return False"
   ]
  },
  {
   "cell_type": "code",
   "execution_count": 25,
   "metadata": {},
   "outputs": [
    {
     "data": {
      "text/plain": [
       "20"
      ]
     },
     "execution_count": 25,
     "metadata": {},
     "output_type": "execute_result"
    }
   ],
   "source": [
    "index = [ ]\n",
    "\n",
    "for row in matches.iterrows():\n",
    "    flag = get_kkrvsrr(row[1]['team1'],row[1]['team2'])\n",
    "    index.append(flag)\n",
    "    \n",
    "sum(index)"
   ]
  },
  {
   "cell_type": "code",
   "execution_count": 26,
   "metadata": {},
   "outputs": [],
   "source": [
    "kkr_rr = matches[index]"
   ]
  },
  {
   "cell_type": "code",
   "execution_count": 27,
   "metadata": {},
   "outputs": [
    {
     "data": {
      "text/html": [
       "<div>\n",
       "<style scoped>\n",
       "    .dataframe tbody tr th:only-of-type {\n",
       "        vertical-align: middle;\n",
       "    }\n",
       "\n",
       "    .dataframe tbody tr th {\n",
       "        vertical-align: top;\n",
       "    }\n",
       "\n",
       "    .dataframe thead th {\n",
       "        text-align: right;\n",
       "    }\n",
       "</style>\n",
       "<table border=\"1\" class=\"dataframe\">\n",
       "  <thead>\n",
       "    <tr style=\"text-align: right;\">\n",
       "      <th></th>\n",
       "      <th>id</th>\n",
       "      <th>season</th>\n",
       "      <th>city</th>\n",
       "      <th>date</th>\n",
       "      <th>team1</th>\n",
       "      <th>team2</th>\n",
       "      <th>toss_winner</th>\n",
       "      <th>toss_decision</th>\n",
       "      <th>result</th>\n",
       "      <th>dl_applied</th>\n",
       "      <th>winner</th>\n",
       "      <th>win_by_runs</th>\n",
       "      <th>win_by_wickets</th>\n",
       "      <th>player_of_match</th>\n",
       "      <th>venue</th>\n",
       "      <th>umpire1</th>\n",
       "      <th>umpire2</th>\n",
       "      <th>umpire3</th>\n",
       "    </tr>\n",
       "  </thead>\n",
       "  <tbody>\n",
       "    <tr>\n",
       "      <th>77</th>\n",
       "      <td>78</td>\n",
       "      <td>2008</td>\n",
       "      <td>Jaipur</td>\n",
       "      <td>2008-05-01</td>\n",
       "      <td>Rajasthan Royals</td>\n",
       "      <td>Kolkata Knight Riders</td>\n",
       "      <td>Rajasthan Royals</td>\n",
       "      <td>bat</td>\n",
       "      <td>normal</td>\n",
       "      <td>0</td>\n",
       "      <td>Rajasthan Royals</td>\n",
       "      <td>45</td>\n",
       "      <td>0</td>\n",
       "      <td>SA Asnodkar</td>\n",
       "      <td>Sawai Mansingh Stadium</td>\n",
       "      <td>RE Koertzen</td>\n",
       "      <td>GA Pratapkumar</td>\n",
       "      <td>NaN</td>\n",
       "    </tr>\n",
       "  </tbody>\n",
       "</table>\n",
       "</div>"
      ],
      "text/plain": [
       "    id  season    city        date             team1                  team2  \\\n",
       "77  78    2008  Jaipur  2008-05-01  Rajasthan Royals  Kolkata Knight Riders   \n",
       "\n",
       "         toss_winner toss_decision  result  dl_applied            winner  \\\n",
       "77  Rajasthan Royals           bat  normal           0  Rajasthan Royals   \n",
       "\n",
       "    win_by_runs  win_by_wickets player_of_match                   venue  \\\n",
       "77           45               0     SA Asnodkar  Sawai Mansingh Stadium   \n",
       "\n",
       "        umpire1         umpire2 umpire3  \n",
       "77  RE Koertzen  GA Pratapkumar     NaN  "
      ]
     },
     "execution_count": 27,
     "metadata": {},
     "output_type": "execute_result"
    }
   ],
   "source": [
    "kkr_rr.head(1)"
   ]
  },
  {
   "cell_type": "code",
   "execution_count": 28,
   "metadata": {},
   "outputs": [
    {
     "data": {
      "text/plain": [
       "77     0\n",
       "104    0\n",
       "125    0\n",
       "167    0\n",
       "186    0\n",
       "226    0\n",
       "245    0\n",
       "250    0\n",
       "313    0\n",
       "321    0\n",
       "388    0\n",
       "426    0\n",
       "475    0\n",
       "481    0\n",
       "569    0\n",
       "650    0\n",
       "684    0\n",
       "693    0\n",
       "716    0\n",
       "738    0\n",
       "Name: dl_applied, dtype: int64"
      ]
     },
     "execution_count": 28,
     "metadata": {},
     "output_type": "execute_result"
    }
   ],
   "source": [
    "kkr_rr['dl_applied']"
   ]
  },
  {
   "cell_type": "code",
   "execution_count": 29,
   "metadata": {},
   "outputs": [],
   "source": [
    "kkr_rr = kkr_rr.drop('dl_applied',axis=1)"
   ]
  },
  {
   "cell_type": "markdown",
   "metadata": {},
   "source": [
    "# HEAD TO HEAD MATCHES"
   ]
  },
  {
   "cell_type": "code",
   "execution_count": 30,
   "metadata": {},
   "outputs": [
    {
     "data": {
      "application/vnd.plotly.v1+json": {
       "config": {
        "linkText": "Export to plot.ly",
        "plotlyServerURL": "https://plot.ly",
        "showLink": true
       },
       "data": [
        {
         "marker": {
          "color": "rgba(255, 153, 51, 0.6)",
          "line": {
           "color": "rgba(255, 153, 51, 1.0)",
           "width": 1
          }
         },
         "name": "winner",
         "orientation": "v",
         "text": "",
         "type": "bar",
         "x": [
          "Kolkata Knight Riders",
          "Rajasthan Royals"
         ],
         "y": [
          10,
          10
         ]
        }
       ],
       "layout": {
        "legend": {
         "bgcolor": "#F5F6F9",
         "font": {
          "color": "#4D5663"
         }
        },
        "paper_bgcolor": "#F5F6F9",
        "plot_bgcolor": "#F5F6F9",
        "template": {
         "data": {
          "bar": [
           {
            "error_x": {
             "color": "#2a3f5f"
            },
            "error_y": {
             "color": "#2a3f5f"
            },
            "marker": {
             "line": {
              "color": "#E5ECF6",
              "width": 0.5
             }
            },
            "type": "bar"
           }
          ],
          "barpolar": [
           {
            "marker": {
             "line": {
              "color": "#E5ECF6",
              "width": 0.5
             }
            },
            "type": "barpolar"
           }
          ],
          "carpet": [
           {
            "aaxis": {
             "endlinecolor": "#2a3f5f",
             "gridcolor": "white",
             "linecolor": "white",
             "minorgridcolor": "white",
             "startlinecolor": "#2a3f5f"
            },
            "baxis": {
             "endlinecolor": "#2a3f5f",
             "gridcolor": "white",
             "linecolor": "white",
             "minorgridcolor": "white",
             "startlinecolor": "#2a3f5f"
            },
            "type": "carpet"
           }
          ],
          "choropleth": [
           {
            "colorbar": {
             "outlinewidth": 0,
             "ticks": ""
            },
            "type": "choropleth"
           }
          ],
          "contour": [
           {
            "colorbar": {
             "outlinewidth": 0,
             "ticks": ""
            },
            "colorscale": [
             [
              0,
              "#0d0887"
             ],
             [
              0.1111111111111111,
              "#46039f"
             ],
             [
              0.2222222222222222,
              "#7201a8"
             ],
             [
              0.3333333333333333,
              "#9c179e"
             ],
             [
              0.4444444444444444,
              "#bd3786"
             ],
             [
              0.5555555555555556,
              "#d8576b"
             ],
             [
              0.6666666666666666,
              "#ed7953"
             ],
             [
              0.7777777777777778,
              "#fb9f3a"
             ],
             [
              0.8888888888888888,
              "#fdca26"
             ],
             [
              1,
              "#f0f921"
             ]
            ],
            "type": "contour"
           }
          ],
          "contourcarpet": [
           {
            "colorbar": {
             "outlinewidth": 0,
             "ticks": ""
            },
            "type": "contourcarpet"
           }
          ],
          "heatmap": [
           {
            "colorbar": {
             "outlinewidth": 0,
             "ticks": ""
            },
            "colorscale": [
             [
              0,
              "#0d0887"
             ],
             [
              0.1111111111111111,
              "#46039f"
             ],
             [
              0.2222222222222222,
              "#7201a8"
             ],
             [
              0.3333333333333333,
              "#9c179e"
             ],
             [
              0.4444444444444444,
              "#bd3786"
             ],
             [
              0.5555555555555556,
              "#d8576b"
             ],
             [
              0.6666666666666666,
              "#ed7953"
             ],
             [
              0.7777777777777778,
              "#fb9f3a"
             ],
             [
              0.8888888888888888,
              "#fdca26"
             ],
             [
              1,
              "#f0f921"
             ]
            ],
            "type": "heatmap"
           }
          ],
          "heatmapgl": [
           {
            "colorbar": {
             "outlinewidth": 0,
             "ticks": ""
            },
            "colorscale": [
             [
              0,
              "#0d0887"
             ],
             [
              0.1111111111111111,
              "#46039f"
             ],
             [
              0.2222222222222222,
              "#7201a8"
             ],
             [
              0.3333333333333333,
              "#9c179e"
             ],
             [
              0.4444444444444444,
              "#bd3786"
             ],
             [
              0.5555555555555556,
              "#d8576b"
             ],
             [
              0.6666666666666666,
              "#ed7953"
             ],
             [
              0.7777777777777778,
              "#fb9f3a"
             ],
             [
              0.8888888888888888,
              "#fdca26"
             ],
             [
              1,
              "#f0f921"
             ]
            ],
            "type": "heatmapgl"
           }
          ],
          "histogram": [
           {
            "marker": {
             "colorbar": {
              "outlinewidth": 0,
              "ticks": ""
             }
            },
            "type": "histogram"
           }
          ],
          "histogram2d": [
           {
            "colorbar": {
             "outlinewidth": 0,
             "ticks": ""
            },
            "colorscale": [
             [
              0,
              "#0d0887"
             ],
             [
              0.1111111111111111,
              "#46039f"
             ],
             [
              0.2222222222222222,
              "#7201a8"
             ],
             [
              0.3333333333333333,
              "#9c179e"
             ],
             [
              0.4444444444444444,
              "#bd3786"
             ],
             [
              0.5555555555555556,
              "#d8576b"
             ],
             [
              0.6666666666666666,
              "#ed7953"
             ],
             [
              0.7777777777777778,
              "#fb9f3a"
             ],
             [
              0.8888888888888888,
              "#fdca26"
             ],
             [
              1,
              "#f0f921"
             ]
            ],
            "type": "histogram2d"
           }
          ],
          "histogram2dcontour": [
           {
            "colorbar": {
             "outlinewidth": 0,
             "ticks": ""
            },
            "colorscale": [
             [
              0,
              "#0d0887"
             ],
             [
              0.1111111111111111,
              "#46039f"
             ],
             [
              0.2222222222222222,
              "#7201a8"
             ],
             [
              0.3333333333333333,
              "#9c179e"
             ],
             [
              0.4444444444444444,
              "#bd3786"
             ],
             [
              0.5555555555555556,
              "#d8576b"
             ],
             [
              0.6666666666666666,
              "#ed7953"
             ],
             [
              0.7777777777777778,
              "#fb9f3a"
             ],
             [
              0.8888888888888888,
              "#fdca26"
             ],
             [
              1,
              "#f0f921"
             ]
            ],
            "type": "histogram2dcontour"
           }
          ],
          "mesh3d": [
           {
            "colorbar": {
             "outlinewidth": 0,
             "ticks": ""
            },
            "type": "mesh3d"
           }
          ],
          "parcoords": [
           {
            "line": {
             "colorbar": {
              "outlinewidth": 0,
              "ticks": ""
             }
            },
            "type": "parcoords"
           }
          ],
          "pie": [
           {
            "automargin": true,
            "type": "pie"
           }
          ],
          "scatter": [
           {
            "marker": {
             "colorbar": {
              "outlinewidth": 0,
              "ticks": ""
             }
            },
            "type": "scatter"
           }
          ],
          "scatter3d": [
           {
            "line": {
             "colorbar": {
              "outlinewidth": 0,
              "ticks": ""
             }
            },
            "marker": {
             "colorbar": {
              "outlinewidth": 0,
              "ticks": ""
             }
            },
            "type": "scatter3d"
           }
          ],
          "scattercarpet": [
           {
            "marker": {
             "colorbar": {
              "outlinewidth": 0,
              "ticks": ""
             }
            },
            "type": "scattercarpet"
           }
          ],
          "scattergeo": [
           {
            "marker": {
             "colorbar": {
              "outlinewidth": 0,
              "ticks": ""
             }
            },
            "type": "scattergeo"
           }
          ],
          "scattergl": [
           {
            "marker": {
             "colorbar": {
              "outlinewidth": 0,
              "ticks": ""
             }
            },
            "type": "scattergl"
           }
          ],
          "scattermapbox": [
           {
            "marker": {
             "colorbar": {
              "outlinewidth": 0,
              "ticks": ""
             }
            },
            "type": "scattermapbox"
           }
          ],
          "scatterpolar": [
           {
            "marker": {
             "colorbar": {
              "outlinewidth": 0,
              "ticks": ""
             }
            },
            "type": "scatterpolar"
           }
          ],
          "scatterpolargl": [
           {
            "marker": {
             "colorbar": {
              "outlinewidth": 0,
              "ticks": ""
             }
            },
            "type": "scatterpolargl"
           }
          ],
          "scatterternary": [
           {
            "marker": {
             "colorbar": {
              "outlinewidth": 0,
              "ticks": ""
             }
            },
            "type": "scatterternary"
           }
          ],
          "surface": [
           {
            "colorbar": {
             "outlinewidth": 0,
             "ticks": ""
            },
            "colorscale": [
             [
              0,
              "#0d0887"
             ],
             [
              0.1111111111111111,
              "#46039f"
             ],
             [
              0.2222222222222222,
              "#7201a8"
             ],
             [
              0.3333333333333333,
              "#9c179e"
             ],
             [
              0.4444444444444444,
              "#bd3786"
             ],
             [
              0.5555555555555556,
              "#d8576b"
             ],
             [
              0.6666666666666666,
              "#ed7953"
             ],
             [
              0.7777777777777778,
              "#fb9f3a"
             ],
             [
              0.8888888888888888,
              "#fdca26"
             ],
             [
              1,
              "#f0f921"
             ]
            ],
            "type": "surface"
           }
          ],
          "table": [
           {
            "cells": {
             "fill": {
              "color": "#EBF0F8"
             },
             "line": {
              "color": "white"
             }
            },
            "header": {
             "fill": {
              "color": "#C8D4E3"
             },
             "line": {
              "color": "white"
             }
            },
            "type": "table"
           }
          ]
         },
         "layout": {
          "annotationdefaults": {
           "arrowcolor": "#2a3f5f",
           "arrowhead": 0,
           "arrowwidth": 1
          },
          "coloraxis": {
           "colorbar": {
            "outlinewidth": 0,
            "ticks": ""
           }
          },
          "colorscale": {
           "diverging": [
            [
             0,
             "#8e0152"
            ],
            [
             0.1,
             "#c51b7d"
            ],
            [
             0.2,
             "#de77ae"
            ],
            [
             0.3,
             "#f1b6da"
            ],
            [
             0.4,
             "#fde0ef"
            ],
            [
             0.5,
             "#f7f7f7"
            ],
            [
             0.6,
             "#e6f5d0"
            ],
            [
             0.7,
             "#b8e186"
            ],
            [
             0.8,
             "#7fbc41"
            ],
            [
             0.9,
             "#4d9221"
            ],
            [
             1,
             "#276419"
            ]
           ],
           "sequential": [
            [
             0,
             "#0d0887"
            ],
            [
             0.1111111111111111,
             "#46039f"
            ],
            [
             0.2222222222222222,
             "#7201a8"
            ],
            [
             0.3333333333333333,
             "#9c179e"
            ],
            [
             0.4444444444444444,
             "#bd3786"
            ],
            [
             0.5555555555555556,
             "#d8576b"
            ],
            [
             0.6666666666666666,
             "#ed7953"
            ],
            [
             0.7777777777777778,
             "#fb9f3a"
            ],
            [
             0.8888888888888888,
             "#fdca26"
            ],
            [
             1,
             "#f0f921"
            ]
           ],
           "sequentialminus": [
            [
             0,
             "#0d0887"
            ],
            [
             0.1111111111111111,
             "#46039f"
            ],
            [
             0.2222222222222222,
             "#7201a8"
            ],
            [
             0.3333333333333333,
             "#9c179e"
            ],
            [
             0.4444444444444444,
             "#bd3786"
            ],
            [
             0.5555555555555556,
             "#d8576b"
            ],
            [
             0.6666666666666666,
             "#ed7953"
            ],
            [
             0.7777777777777778,
             "#fb9f3a"
            ],
            [
             0.8888888888888888,
             "#fdca26"
            ],
            [
             1,
             "#f0f921"
            ]
           ]
          },
          "colorway": [
           "#636efa",
           "#EF553B",
           "#00cc96",
           "#ab63fa",
           "#FFA15A",
           "#19d3f3",
           "#FF6692",
           "#B6E880",
           "#FF97FF",
           "#FECB52"
          ],
          "font": {
           "color": "#2a3f5f"
          },
          "geo": {
           "bgcolor": "white",
           "lakecolor": "white",
           "landcolor": "#E5ECF6",
           "showlakes": true,
           "showland": true,
           "subunitcolor": "white"
          },
          "hoverlabel": {
           "align": "left"
          },
          "hovermode": "closest",
          "mapbox": {
           "style": "light"
          },
          "paper_bgcolor": "white",
          "plot_bgcolor": "#E5ECF6",
          "polar": {
           "angularaxis": {
            "gridcolor": "white",
            "linecolor": "white",
            "ticks": ""
           },
           "bgcolor": "#E5ECF6",
           "radialaxis": {
            "gridcolor": "white",
            "linecolor": "white",
            "ticks": ""
           }
          },
          "scene": {
           "xaxis": {
            "backgroundcolor": "#E5ECF6",
            "gridcolor": "white",
            "gridwidth": 2,
            "linecolor": "white",
            "showbackground": true,
            "ticks": "",
            "zerolinecolor": "white"
           },
           "yaxis": {
            "backgroundcolor": "#E5ECF6",
            "gridcolor": "white",
            "gridwidth": 2,
            "linecolor": "white",
            "showbackground": true,
            "ticks": "",
            "zerolinecolor": "white"
           },
           "zaxis": {
            "backgroundcolor": "#E5ECF6",
            "gridcolor": "white",
            "gridwidth": 2,
            "linecolor": "white",
            "showbackground": true,
            "ticks": "",
            "zerolinecolor": "white"
           }
          },
          "shapedefaults": {
           "line": {
            "color": "#2a3f5f"
           }
          },
          "ternary": {
           "aaxis": {
            "gridcolor": "white",
            "linecolor": "white",
            "ticks": ""
           },
           "baxis": {
            "gridcolor": "white",
            "linecolor": "white",
            "ticks": ""
           },
           "bgcolor": "#E5ECF6",
           "caxis": {
            "gridcolor": "white",
            "linecolor": "white",
            "ticks": ""
           }
          },
          "title": {
           "x": 0.05
          },
          "xaxis": {
           "automargin": true,
           "gridcolor": "white",
           "linecolor": "white",
           "ticks": "",
           "title": {
            "standoff": 15
           },
           "zerolinecolor": "white",
           "zerolinewidth": 2
          },
          "yaxis": {
           "automargin": true,
           "gridcolor": "white",
           "linecolor": "white",
           "ticks": "",
           "title": {
            "standoff": 15
           },
           "zerolinecolor": "white",
           "zerolinewidth": 2
          }
         }
        },
        "title": {
         "font": {
          "color": "#4D5663"
         }
        },
        "xaxis": {
         "gridcolor": "#E1E5ED",
         "showgrid": true,
         "tickfont": {
          "color": "#4D5663"
         },
         "title": {
          "font": {
           "color": "#4D5663"
          },
          "text": ""
         },
         "zerolinecolor": "#E1E5ED"
        },
        "yaxis": {
         "gridcolor": "#E1E5ED",
         "showgrid": true,
         "tickfont": {
          "color": "#4D5663"
         },
         "title": {
          "font": {
           "color": "#4D5663"
          },
          "text": ""
         },
         "zerolinecolor": "#E1E5ED"
        }
       }
      },
      "text/html": [
       "<div>\n",
       "        \n",
       "        \n",
       "            <div id=\"a7750fb8-4762-4c99-90fd-a07619aabed9\" class=\"plotly-graph-div\" style=\"height:525px; width:100%;\"></div>\n",
       "            <script type=\"text/javascript\">\n",
       "                require([\"plotly\"], function(Plotly) {\n",
       "                    window.PLOTLYENV=window.PLOTLYENV || {};\n",
       "                    window.PLOTLYENV.BASE_URL='https://plot.ly';\n",
       "                    \n",
       "                if (document.getElementById(\"a7750fb8-4762-4c99-90fd-a07619aabed9\")) {\n",
       "                    Plotly.newPlot(\n",
       "                        'a7750fb8-4762-4c99-90fd-a07619aabed9',\n",
       "                        [{\"marker\": {\"color\": \"rgba(255, 153, 51, 0.6)\", \"line\": {\"color\": \"rgba(255, 153, 51, 1.0)\", \"width\": 1}}, \"name\": \"winner\", \"orientation\": \"v\", \"text\": \"\", \"type\": \"bar\", \"x\": [\"Kolkata Knight Riders\", \"Rajasthan Royals\"], \"y\": [10, 10]}],\n",
       "                        {\"legend\": {\"bgcolor\": \"#F5F6F9\", \"font\": {\"color\": \"#4D5663\"}}, \"paper_bgcolor\": \"#F5F6F9\", \"plot_bgcolor\": \"#F5F6F9\", \"template\": {\"data\": {\"bar\": [{\"error_x\": {\"color\": \"#2a3f5f\"}, \"error_y\": {\"color\": \"#2a3f5f\"}, \"marker\": {\"line\": {\"color\": \"#E5ECF6\", \"width\": 0.5}}, \"type\": \"bar\"}], \"barpolar\": [{\"marker\": {\"line\": {\"color\": \"#E5ECF6\", \"width\": 0.5}}, \"type\": \"barpolar\"}], \"carpet\": [{\"aaxis\": {\"endlinecolor\": \"#2a3f5f\", \"gridcolor\": \"white\", \"linecolor\": \"white\", \"minorgridcolor\": \"white\", \"startlinecolor\": \"#2a3f5f\"}, \"baxis\": {\"endlinecolor\": \"#2a3f5f\", \"gridcolor\": \"white\", \"linecolor\": \"white\", \"minorgridcolor\": \"white\", \"startlinecolor\": \"#2a3f5f\"}, \"type\": \"carpet\"}], \"choropleth\": [{\"colorbar\": {\"outlinewidth\": 0, \"ticks\": \"\"}, \"type\": \"choropleth\"}], \"contour\": [{\"colorbar\": {\"outlinewidth\": 0, \"ticks\": \"\"}, \"colorscale\": [[0.0, \"#0d0887\"], [0.1111111111111111, \"#46039f\"], [0.2222222222222222, \"#7201a8\"], [0.3333333333333333, \"#9c179e\"], [0.4444444444444444, \"#bd3786\"], [0.5555555555555556, \"#d8576b\"], [0.6666666666666666, \"#ed7953\"], [0.7777777777777778, \"#fb9f3a\"], [0.8888888888888888, \"#fdca26\"], [1.0, \"#f0f921\"]], \"type\": \"contour\"}], \"contourcarpet\": [{\"colorbar\": {\"outlinewidth\": 0, \"ticks\": \"\"}, \"type\": \"contourcarpet\"}], \"heatmap\": [{\"colorbar\": {\"outlinewidth\": 0, \"ticks\": \"\"}, \"colorscale\": [[0.0, \"#0d0887\"], [0.1111111111111111, \"#46039f\"], [0.2222222222222222, \"#7201a8\"], [0.3333333333333333, \"#9c179e\"], [0.4444444444444444, \"#bd3786\"], [0.5555555555555556, \"#d8576b\"], [0.6666666666666666, \"#ed7953\"], [0.7777777777777778, \"#fb9f3a\"], [0.8888888888888888, \"#fdca26\"], [1.0, \"#f0f921\"]], \"type\": \"heatmap\"}], \"heatmapgl\": [{\"colorbar\": {\"outlinewidth\": 0, \"ticks\": \"\"}, \"colorscale\": [[0.0, \"#0d0887\"], [0.1111111111111111, \"#46039f\"], [0.2222222222222222, \"#7201a8\"], [0.3333333333333333, \"#9c179e\"], [0.4444444444444444, \"#bd3786\"], [0.5555555555555556, \"#d8576b\"], [0.6666666666666666, \"#ed7953\"], [0.7777777777777778, \"#fb9f3a\"], [0.8888888888888888, \"#fdca26\"], [1.0, \"#f0f921\"]], \"type\": \"heatmapgl\"}], \"histogram\": [{\"marker\": {\"colorbar\": {\"outlinewidth\": 0, \"ticks\": \"\"}}, \"type\": \"histogram\"}], \"histogram2d\": [{\"colorbar\": {\"outlinewidth\": 0, \"ticks\": \"\"}, \"colorscale\": [[0.0, \"#0d0887\"], [0.1111111111111111, \"#46039f\"], [0.2222222222222222, \"#7201a8\"], [0.3333333333333333, \"#9c179e\"], [0.4444444444444444, \"#bd3786\"], [0.5555555555555556, \"#d8576b\"], [0.6666666666666666, \"#ed7953\"], [0.7777777777777778, \"#fb9f3a\"], [0.8888888888888888, \"#fdca26\"], [1.0, \"#f0f921\"]], \"type\": \"histogram2d\"}], \"histogram2dcontour\": [{\"colorbar\": {\"outlinewidth\": 0, \"ticks\": \"\"}, \"colorscale\": [[0.0, \"#0d0887\"], [0.1111111111111111, \"#46039f\"], [0.2222222222222222, \"#7201a8\"], [0.3333333333333333, \"#9c179e\"], [0.4444444444444444, \"#bd3786\"], [0.5555555555555556, \"#d8576b\"], [0.6666666666666666, \"#ed7953\"], [0.7777777777777778, \"#fb9f3a\"], [0.8888888888888888, \"#fdca26\"], [1.0, \"#f0f921\"]], \"type\": \"histogram2dcontour\"}], \"mesh3d\": [{\"colorbar\": {\"outlinewidth\": 0, \"ticks\": \"\"}, \"type\": \"mesh3d\"}], \"parcoords\": [{\"line\": {\"colorbar\": {\"outlinewidth\": 0, \"ticks\": \"\"}}, \"type\": \"parcoords\"}], \"pie\": [{\"automargin\": true, \"type\": \"pie\"}], \"scatter\": [{\"marker\": {\"colorbar\": {\"outlinewidth\": 0, \"ticks\": \"\"}}, \"type\": \"scatter\"}], \"scatter3d\": [{\"line\": {\"colorbar\": {\"outlinewidth\": 0, \"ticks\": \"\"}}, \"marker\": {\"colorbar\": {\"outlinewidth\": 0, \"ticks\": \"\"}}, \"type\": \"scatter3d\"}], \"scattercarpet\": [{\"marker\": {\"colorbar\": {\"outlinewidth\": 0, \"ticks\": \"\"}}, \"type\": \"scattercarpet\"}], \"scattergeo\": [{\"marker\": {\"colorbar\": {\"outlinewidth\": 0, \"ticks\": \"\"}}, \"type\": \"scattergeo\"}], \"scattergl\": [{\"marker\": {\"colorbar\": {\"outlinewidth\": 0, \"ticks\": \"\"}}, \"type\": \"scattergl\"}], \"scattermapbox\": [{\"marker\": {\"colorbar\": {\"outlinewidth\": 0, \"ticks\": \"\"}}, \"type\": \"scattermapbox\"}], \"scatterpolar\": [{\"marker\": {\"colorbar\": {\"outlinewidth\": 0, \"ticks\": \"\"}}, \"type\": \"scatterpolar\"}], \"scatterpolargl\": [{\"marker\": {\"colorbar\": {\"outlinewidth\": 0, \"ticks\": \"\"}}, \"type\": \"scatterpolargl\"}], \"scatterternary\": [{\"marker\": {\"colorbar\": {\"outlinewidth\": 0, \"ticks\": \"\"}}, \"type\": \"scatterternary\"}], \"surface\": [{\"colorbar\": {\"outlinewidth\": 0, \"ticks\": \"\"}, \"colorscale\": [[0.0, \"#0d0887\"], [0.1111111111111111, \"#46039f\"], [0.2222222222222222, \"#7201a8\"], [0.3333333333333333, \"#9c179e\"], [0.4444444444444444, \"#bd3786\"], [0.5555555555555556, \"#d8576b\"], [0.6666666666666666, \"#ed7953\"], [0.7777777777777778, \"#fb9f3a\"], [0.8888888888888888, \"#fdca26\"], [1.0, \"#f0f921\"]], \"type\": \"surface\"}], \"table\": [{\"cells\": {\"fill\": {\"color\": \"#EBF0F8\"}, \"line\": {\"color\": \"white\"}}, \"header\": {\"fill\": {\"color\": \"#C8D4E3\"}, \"line\": {\"color\": \"white\"}}, \"type\": \"table\"}]}, \"layout\": {\"annotationdefaults\": {\"arrowcolor\": \"#2a3f5f\", \"arrowhead\": 0, \"arrowwidth\": 1}, \"coloraxis\": {\"colorbar\": {\"outlinewidth\": 0, \"ticks\": \"\"}}, \"colorscale\": {\"diverging\": [[0, \"#8e0152\"], [0.1, \"#c51b7d\"], [0.2, \"#de77ae\"], [0.3, \"#f1b6da\"], [0.4, \"#fde0ef\"], [0.5, \"#f7f7f7\"], [0.6, \"#e6f5d0\"], [0.7, \"#b8e186\"], [0.8, \"#7fbc41\"], [0.9, \"#4d9221\"], [1, \"#276419\"]], \"sequential\": [[0.0, \"#0d0887\"], [0.1111111111111111, \"#46039f\"], [0.2222222222222222, \"#7201a8\"], [0.3333333333333333, \"#9c179e\"], [0.4444444444444444, \"#bd3786\"], [0.5555555555555556, \"#d8576b\"], [0.6666666666666666, \"#ed7953\"], [0.7777777777777778, \"#fb9f3a\"], [0.8888888888888888, \"#fdca26\"], [1.0, \"#f0f921\"]], \"sequentialminus\": [[0.0, \"#0d0887\"], [0.1111111111111111, \"#46039f\"], [0.2222222222222222, \"#7201a8\"], [0.3333333333333333, \"#9c179e\"], [0.4444444444444444, \"#bd3786\"], [0.5555555555555556, \"#d8576b\"], [0.6666666666666666, \"#ed7953\"], [0.7777777777777778, \"#fb9f3a\"], [0.8888888888888888, \"#fdca26\"], [1.0, \"#f0f921\"]]}, \"colorway\": [\"#636efa\", \"#EF553B\", \"#00cc96\", \"#ab63fa\", \"#FFA15A\", \"#19d3f3\", \"#FF6692\", \"#B6E880\", \"#FF97FF\", \"#FECB52\"], \"font\": {\"color\": \"#2a3f5f\"}, \"geo\": {\"bgcolor\": \"white\", \"lakecolor\": \"white\", \"landcolor\": \"#E5ECF6\", \"showlakes\": true, \"showland\": true, \"subunitcolor\": \"white\"}, \"hoverlabel\": {\"align\": \"left\"}, \"hovermode\": \"closest\", \"mapbox\": {\"style\": \"light\"}, \"paper_bgcolor\": \"white\", \"plot_bgcolor\": \"#E5ECF6\", \"polar\": {\"angularaxis\": {\"gridcolor\": \"white\", \"linecolor\": \"white\", \"ticks\": \"\"}, \"bgcolor\": \"#E5ECF6\", \"radialaxis\": {\"gridcolor\": \"white\", \"linecolor\": \"white\", \"ticks\": \"\"}}, \"scene\": {\"xaxis\": {\"backgroundcolor\": \"#E5ECF6\", \"gridcolor\": \"white\", \"gridwidth\": 2, \"linecolor\": \"white\", \"showbackground\": true, \"ticks\": \"\", \"zerolinecolor\": \"white\"}, \"yaxis\": {\"backgroundcolor\": \"#E5ECF6\", \"gridcolor\": \"white\", \"gridwidth\": 2, \"linecolor\": \"white\", \"showbackground\": true, \"ticks\": \"\", \"zerolinecolor\": \"white\"}, \"zaxis\": {\"backgroundcolor\": \"#E5ECF6\", \"gridcolor\": \"white\", \"gridwidth\": 2, \"linecolor\": \"white\", \"showbackground\": true, \"ticks\": \"\", \"zerolinecolor\": \"white\"}}, \"shapedefaults\": {\"line\": {\"color\": \"#2a3f5f\"}}, \"ternary\": {\"aaxis\": {\"gridcolor\": \"white\", \"linecolor\": \"white\", \"ticks\": \"\"}, \"baxis\": {\"gridcolor\": \"white\", \"linecolor\": \"white\", \"ticks\": \"\"}, \"bgcolor\": \"#E5ECF6\", \"caxis\": {\"gridcolor\": \"white\", \"linecolor\": \"white\", \"ticks\": \"\"}}, \"title\": {\"x\": 0.05}, \"xaxis\": {\"automargin\": true, \"gridcolor\": \"white\", \"linecolor\": \"white\", \"ticks\": \"\", \"title\": {\"standoff\": 15}, \"zerolinecolor\": \"white\", \"zerolinewidth\": 2}, \"yaxis\": {\"automargin\": true, \"gridcolor\": \"white\", \"linecolor\": \"white\", \"ticks\": \"\", \"title\": {\"standoff\": 15}, \"zerolinecolor\": \"white\", \"zerolinewidth\": 2}}}, \"title\": {\"font\": {\"color\": \"#4D5663\"}}, \"xaxis\": {\"gridcolor\": \"#E1E5ED\", \"showgrid\": true, \"tickfont\": {\"color\": \"#4D5663\"}, \"title\": {\"font\": {\"color\": \"#4D5663\"}, \"text\": \"\"}, \"zerolinecolor\": \"#E1E5ED\"}, \"yaxis\": {\"gridcolor\": \"#E1E5ED\", \"showgrid\": true, \"tickfont\": {\"color\": \"#4D5663\"}, \"title\": {\"font\": {\"color\": \"#4D5663\"}, \"text\": \"\"}, \"zerolinecolor\": \"#E1E5ED\"}},\n",
       "                        {\"showLink\": true, \"linkText\": \"Export to plot.ly\", \"plotlyServerURL\": \"https://plot.ly\", \"responsive\": true}\n",
       "                    ).then(function(){\n",
       "                            \n",
       "var gd = document.getElementById('a7750fb8-4762-4c99-90fd-a07619aabed9');\n",
       "var x = new MutationObserver(function (mutations, observer) {{\n",
       "        var display = window.getComputedStyle(gd).display;\n",
       "        if (!display || display === 'none') {{\n",
       "            console.log([gd, 'removed!']);\n",
       "            Plotly.purge(gd);\n",
       "            observer.disconnect();\n",
       "        }}\n",
       "}});\n",
       "\n",
       "// Listen for the removal of the full notebook cells\n",
       "var notebookContainer = gd.closest('#notebook-container');\n",
       "if (notebookContainer) {{\n",
       "    x.observe(notebookContainer, {childList: true});\n",
       "}}\n",
       "\n",
       "// Listen for the clearing of the current output cell\n",
       "var outputEl = gd.closest('.output');\n",
       "if (outputEl) {{\n",
       "    x.observe(outputEl, {childList: true});\n",
       "}}\n",
       "\n",
       "                        })\n",
       "                };\n",
       "                });\n",
       "            </script>\n",
       "        </div>"
      ]
     },
     "metadata": {},
     "output_type": "display_data"
    }
   ],
   "source": [
    "kkr_rr['winner'].value_counts().iplot(kind='bar')"
   ]
  },
  {
   "cell_type": "code",
   "execution_count": 31,
   "metadata": {},
   "outputs": [
    {
     "data": {
      "text/html": [
       "<div>\n",
       "<style scoped>\n",
       "    .dataframe tbody tr th:only-of-type {\n",
       "        vertical-align: middle;\n",
       "    }\n",
       "\n",
       "    .dataframe tbody tr th {\n",
       "        vertical-align: top;\n",
       "    }\n",
       "\n",
       "    .dataframe thead th {\n",
       "        text-align: right;\n",
       "    }\n",
       "</style>\n",
       "<table border=\"1\" class=\"dataframe\">\n",
       "  <thead>\n",
       "    <tr style=\"text-align: right;\">\n",
       "      <th></th>\n",
       "      <th>team1</th>\n",
       "      <th>team2</th>\n",
       "      <th>toss_winner</th>\n",
       "      <th>toss_decision</th>\n",
       "      <th>winner</th>\n",
       "    </tr>\n",
       "  </thead>\n",
       "  <tbody>\n",
       "    <tr>\n",
       "      <th>77</th>\n",
       "      <td>Rajasthan Royals</td>\n",
       "      <td>Kolkata Knight Riders</td>\n",
       "      <td>Rajasthan Royals</td>\n",
       "      <td>bat</td>\n",
       "      <td>Rajasthan Royals</td>\n",
       "    </tr>\n",
       "    <tr>\n",
       "      <th>104</th>\n",
       "      <td>Kolkata Knight Riders</td>\n",
       "      <td>Rajasthan Royals</td>\n",
       "      <td>Rajasthan Royals</td>\n",
       "      <td>field</td>\n",
       "      <td>Rajasthan Royals</td>\n",
       "    </tr>\n",
       "    <tr>\n",
       "      <th>125</th>\n",
       "      <td>Rajasthan Royals</td>\n",
       "      <td>Kolkata Knight Riders</td>\n",
       "      <td>Kolkata Knight Riders</td>\n",
       "      <td>field</td>\n",
       "      <td>Rajasthan Royals</td>\n",
       "    </tr>\n",
       "    <tr>\n",
       "      <th>167</th>\n",
       "      <td>Rajasthan Royals</td>\n",
       "      <td>Kolkata Knight Riders</td>\n",
       "      <td>Kolkata Knight Riders</td>\n",
       "      <td>field</td>\n",
       "      <td>Kolkata Knight Riders</td>\n",
       "    </tr>\n",
       "    <tr>\n",
       "      <th>186</th>\n",
       "      <td>Rajasthan Royals</td>\n",
       "      <td>Kolkata Knight Riders</td>\n",
       "      <td>Rajasthan Royals</td>\n",
       "      <td>bat</td>\n",
       "      <td>Rajasthan Royals</td>\n",
       "    </tr>\n",
       "  </tbody>\n",
       "</table>\n",
       "</div>"
      ],
      "text/plain": [
       "                     team1                  team2            toss_winner  \\\n",
       "77        Rajasthan Royals  Kolkata Knight Riders       Rajasthan Royals   \n",
       "104  Kolkata Knight Riders       Rajasthan Royals       Rajasthan Royals   \n",
       "125       Rajasthan Royals  Kolkata Knight Riders  Kolkata Knight Riders   \n",
       "167       Rajasthan Royals  Kolkata Knight Riders  Kolkata Knight Riders   \n",
       "186       Rajasthan Royals  Kolkata Knight Riders       Rajasthan Royals   \n",
       "\n",
       "    toss_decision                 winner  \n",
       "77            bat       Rajasthan Royals  \n",
       "104         field       Rajasthan Royals  \n",
       "125         field       Rajasthan Royals  \n",
       "167         field  Kolkata Knight Riders  \n",
       "186           bat       Rajasthan Royals  "
      ]
     },
     "execution_count": 31,
     "metadata": {},
     "output_type": "execute_result"
    }
   ],
   "source": [
    "team_win= kkr_rr[['team1','team2','toss_winner','toss_decision','winner']]\n",
    "team_win.head()"
   ]
  },
  {
   "cell_type": "code",
   "execution_count": 32,
   "metadata": {},
   "outputs": [
    {
     "data": {
      "text/html": [
       "<div>\n",
       "<style scoped>\n",
       "    .dataframe tbody tr th:only-of-type {\n",
       "        vertical-align: middle;\n",
       "    }\n",
       "\n",
       "    .dataframe tbody tr th {\n",
       "        vertical-align: top;\n",
       "    }\n",
       "\n",
       "    .dataframe thead th {\n",
       "        text-align: right;\n",
       "    }\n",
       "</style>\n",
       "<table border=\"1\" class=\"dataframe\">\n",
       "  <thead>\n",
       "    <tr style=\"text-align: right;\">\n",
       "      <th></th>\n",
       "      <th>toss_winner</th>\n",
       "      <th>toss_decision</th>\n",
       "      <th>winner</th>\n",
       "    </tr>\n",
       "  </thead>\n",
       "  <tbody>\n",
       "    <tr>\n",
       "      <th>77</th>\n",
       "      <td>Rajasthan Royals</td>\n",
       "      <td>bat</td>\n",
       "      <td>Rajasthan Royals</td>\n",
       "    </tr>\n",
       "    <tr>\n",
       "      <th>104</th>\n",
       "      <td>Rajasthan Royals</td>\n",
       "      <td>field</td>\n",
       "      <td>Rajasthan Royals</td>\n",
       "    </tr>\n",
       "    <tr>\n",
       "      <th>125</th>\n",
       "      <td>Kolkata Knight Riders</td>\n",
       "      <td>field</td>\n",
       "      <td>Rajasthan Royals</td>\n",
       "    </tr>\n",
       "    <tr>\n",
       "      <th>167</th>\n",
       "      <td>Kolkata Knight Riders</td>\n",
       "      <td>field</td>\n",
       "      <td>Kolkata Knight Riders</td>\n",
       "    </tr>\n",
       "    <tr>\n",
       "      <th>186</th>\n",
       "      <td>Rajasthan Royals</td>\n",
       "      <td>bat</td>\n",
       "      <td>Rajasthan Royals</td>\n",
       "    </tr>\n",
       "  </tbody>\n",
       "</table>\n",
       "</div>"
      ],
      "text/plain": [
       "               toss_winner toss_decision                 winner\n",
       "77        Rajasthan Royals           bat       Rajasthan Royals\n",
       "104       Rajasthan Royals         field       Rajasthan Royals\n",
       "125  Kolkata Knight Riders         field       Rajasthan Royals\n",
       "167  Kolkata Knight Riders         field  Kolkata Knight Riders\n",
       "186       Rajasthan Royals           bat       Rajasthan Royals"
      ]
     },
     "execution_count": 32,
     "metadata": {},
     "output_type": "execute_result"
    }
   ],
   "source": [
    "team_decision= kkr_rr[['toss_winner','toss_decision','winner']]\n",
    "team_decision.head()"
   ]
  },
  {
   "cell_type": "code",
   "execution_count": 33,
   "metadata": {},
   "outputs": [],
   "source": [
    "corr = kkr_rr.corr()"
   ]
  },
  {
   "cell_type": "code",
   "execution_count": 34,
   "metadata": {},
   "outputs": [
    {
     "data": {
      "application/javascript": [
       "/* Put everything inside the global mpl namespace */\n",
       "window.mpl = {};\n",
       "\n",
       "\n",
       "mpl.get_websocket_type = function() {\n",
       "    if (typeof(WebSocket) !== 'undefined') {\n",
       "        return WebSocket;\n",
       "    } else if (typeof(MozWebSocket) !== 'undefined') {\n",
       "        return MozWebSocket;\n",
       "    } else {\n",
       "        alert('Your browser does not have WebSocket support. ' +\n",
       "              'Please try Chrome, Safari or Firefox ≥ 6. ' +\n",
       "              'Firefox 4 and 5 are also supported but you ' +\n",
       "              'have to enable WebSockets in about:config.');\n",
       "    };\n",
       "}\n",
       "\n",
       "mpl.figure = function(figure_id, websocket, ondownload, parent_element) {\n",
       "    this.id = figure_id;\n",
       "\n",
       "    this.ws = websocket;\n",
       "\n",
       "    this.supports_binary = (this.ws.binaryType != undefined);\n",
       "\n",
       "    if (!this.supports_binary) {\n",
       "        var warnings = document.getElementById(\"mpl-warnings\");\n",
       "        if (warnings) {\n",
       "            warnings.style.display = 'block';\n",
       "            warnings.textContent = (\n",
       "                \"This browser does not support binary websocket messages. \" +\n",
       "                    \"Performance may be slow.\");\n",
       "        }\n",
       "    }\n",
       "\n",
       "    this.imageObj = new Image();\n",
       "\n",
       "    this.context = undefined;\n",
       "    this.message = undefined;\n",
       "    this.canvas = undefined;\n",
       "    this.rubberband_canvas = undefined;\n",
       "    this.rubberband_context = undefined;\n",
       "    this.format_dropdown = undefined;\n",
       "\n",
       "    this.image_mode = 'full';\n",
       "\n",
       "    this.root = $('<div/>');\n",
       "    this._root_extra_style(this.root)\n",
       "    this.root.attr('style', 'display: inline-block');\n",
       "\n",
       "    $(parent_element).append(this.root);\n",
       "\n",
       "    this._init_header(this);\n",
       "    this._init_canvas(this);\n",
       "    this._init_toolbar(this);\n",
       "\n",
       "    var fig = this;\n",
       "\n",
       "    this.waiting = false;\n",
       "\n",
       "    this.ws.onopen =  function () {\n",
       "            fig.send_message(\"supports_binary\", {value: fig.supports_binary});\n",
       "            fig.send_message(\"send_image_mode\", {});\n",
       "            if (mpl.ratio != 1) {\n",
       "                fig.send_message(\"set_dpi_ratio\", {'dpi_ratio': mpl.ratio});\n",
       "            }\n",
       "            fig.send_message(\"refresh\", {});\n",
       "        }\n",
       "\n",
       "    this.imageObj.onload = function() {\n",
       "            if (fig.image_mode == 'full') {\n",
       "                // Full images could contain transparency (where diff images\n",
       "                // almost always do), so we need to clear the canvas so that\n",
       "                // there is no ghosting.\n",
       "                fig.context.clearRect(0, 0, fig.canvas.width, fig.canvas.height);\n",
       "            }\n",
       "            fig.context.drawImage(fig.imageObj, 0, 0);\n",
       "        };\n",
       "\n",
       "    this.imageObj.onunload = function() {\n",
       "        fig.ws.close();\n",
       "    }\n",
       "\n",
       "    this.ws.onmessage = this._make_on_message_function(this);\n",
       "\n",
       "    this.ondownload = ondownload;\n",
       "}\n",
       "\n",
       "mpl.figure.prototype._init_header = function() {\n",
       "    var titlebar = $(\n",
       "        '<div class=\"ui-dialog-titlebar ui-widget-header ui-corner-all ' +\n",
       "        'ui-helper-clearfix\"/>');\n",
       "    var titletext = $(\n",
       "        '<div class=\"ui-dialog-title\" style=\"width: 100%; ' +\n",
       "        'text-align: center; padding: 3px;\"/>');\n",
       "    titlebar.append(titletext)\n",
       "    this.root.append(titlebar);\n",
       "    this.header = titletext[0];\n",
       "}\n",
       "\n",
       "\n",
       "\n",
       "mpl.figure.prototype._canvas_extra_style = function(canvas_div) {\n",
       "\n",
       "}\n",
       "\n",
       "\n",
       "mpl.figure.prototype._root_extra_style = function(canvas_div) {\n",
       "\n",
       "}\n",
       "\n",
       "mpl.figure.prototype._init_canvas = function() {\n",
       "    var fig = this;\n",
       "\n",
       "    var canvas_div = $('<div/>');\n",
       "\n",
       "    canvas_div.attr('style', 'position: relative; clear: both; outline: 0');\n",
       "\n",
       "    function canvas_keyboard_event(event) {\n",
       "        return fig.key_event(event, event['data']);\n",
       "    }\n",
       "\n",
       "    canvas_div.keydown('key_press', canvas_keyboard_event);\n",
       "    canvas_div.keyup('key_release', canvas_keyboard_event);\n",
       "    this.canvas_div = canvas_div\n",
       "    this._canvas_extra_style(canvas_div)\n",
       "    this.root.append(canvas_div);\n",
       "\n",
       "    var canvas = $('<canvas/>');\n",
       "    canvas.addClass('mpl-canvas');\n",
       "    canvas.attr('style', \"left: 0; top: 0; z-index: 0; outline: 0\")\n",
       "\n",
       "    this.canvas = canvas[0];\n",
       "    this.context = canvas[0].getContext(\"2d\");\n",
       "\n",
       "    var backingStore = this.context.backingStorePixelRatio ||\n",
       "\tthis.context.webkitBackingStorePixelRatio ||\n",
       "\tthis.context.mozBackingStorePixelRatio ||\n",
       "\tthis.context.msBackingStorePixelRatio ||\n",
       "\tthis.context.oBackingStorePixelRatio ||\n",
       "\tthis.context.backingStorePixelRatio || 1;\n",
       "\n",
       "    mpl.ratio = (window.devicePixelRatio || 1) / backingStore;\n",
       "\n",
       "    var rubberband = $('<canvas/>');\n",
       "    rubberband.attr('style', \"position: absolute; left: 0; top: 0; z-index: 1;\")\n",
       "\n",
       "    var pass_mouse_events = true;\n",
       "\n",
       "    canvas_div.resizable({\n",
       "        start: function(event, ui) {\n",
       "            pass_mouse_events = false;\n",
       "        },\n",
       "        resize: function(event, ui) {\n",
       "            fig.request_resize(ui.size.width, ui.size.height);\n",
       "        },\n",
       "        stop: function(event, ui) {\n",
       "            pass_mouse_events = true;\n",
       "            fig.request_resize(ui.size.width, ui.size.height);\n",
       "        },\n",
       "    });\n",
       "\n",
       "    function mouse_event_fn(event) {\n",
       "        if (pass_mouse_events)\n",
       "            return fig.mouse_event(event, event['data']);\n",
       "    }\n",
       "\n",
       "    rubberband.mousedown('button_press', mouse_event_fn);\n",
       "    rubberband.mouseup('button_release', mouse_event_fn);\n",
       "    // Throttle sequential mouse events to 1 every 20ms.\n",
       "    rubberband.mousemove('motion_notify', mouse_event_fn);\n",
       "\n",
       "    rubberband.mouseenter('figure_enter', mouse_event_fn);\n",
       "    rubberband.mouseleave('figure_leave', mouse_event_fn);\n",
       "\n",
       "    canvas_div.on(\"wheel\", function (event) {\n",
       "        event = event.originalEvent;\n",
       "        event['data'] = 'scroll'\n",
       "        if (event.deltaY < 0) {\n",
       "            event.step = 1;\n",
       "        } else {\n",
       "            event.step = -1;\n",
       "        }\n",
       "        mouse_event_fn(event);\n",
       "    });\n",
       "\n",
       "    canvas_div.append(canvas);\n",
       "    canvas_div.append(rubberband);\n",
       "\n",
       "    this.rubberband = rubberband;\n",
       "    this.rubberband_canvas = rubberband[0];\n",
       "    this.rubberband_context = rubberband[0].getContext(\"2d\");\n",
       "    this.rubberband_context.strokeStyle = \"#000000\";\n",
       "\n",
       "    this._resize_canvas = function(width, height) {\n",
       "        // Keep the size of the canvas, canvas container, and rubber band\n",
       "        // canvas in synch.\n",
       "        canvas_div.css('width', width)\n",
       "        canvas_div.css('height', height)\n",
       "\n",
       "        canvas.attr('width', width * mpl.ratio);\n",
       "        canvas.attr('height', height * mpl.ratio);\n",
       "        canvas.attr('style', 'width: ' + width + 'px; height: ' + height + 'px;');\n",
       "\n",
       "        rubberband.attr('width', width);\n",
       "        rubberband.attr('height', height);\n",
       "    }\n",
       "\n",
       "    // Set the figure to an initial 600x600px, this will subsequently be updated\n",
       "    // upon first draw.\n",
       "    this._resize_canvas(600, 600);\n",
       "\n",
       "    // Disable right mouse context menu.\n",
       "    $(this.rubberband_canvas).bind(\"contextmenu\",function(e){\n",
       "        return false;\n",
       "    });\n",
       "\n",
       "    function set_focus () {\n",
       "        canvas.focus();\n",
       "        canvas_div.focus();\n",
       "    }\n",
       "\n",
       "    window.setTimeout(set_focus, 100);\n",
       "}\n",
       "\n",
       "mpl.figure.prototype._init_toolbar = function() {\n",
       "    var fig = this;\n",
       "\n",
       "    var nav_element = $('<div/>');\n",
       "    nav_element.attr('style', 'width: 100%');\n",
       "    this.root.append(nav_element);\n",
       "\n",
       "    // Define a callback function for later on.\n",
       "    function toolbar_event(event) {\n",
       "        return fig.toolbar_button_onclick(event['data']);\n",
       "    }\n",
       "    function toolbar_mouse_event(event) {\n",
       "        return fig.toolbar_button_onmouseover(event['data']);\n",
       "    }\n",
       "\n",
       "    for(var toolbar_ind in mpl.toolbar_items) {\n",
       "        var name = mpl.toolbar_items[toolbar_ind][0];\n",
       "        var tooltip = mpl.toolbar_items[toolbar_ind][1];\n",
       "        var image = mpl.toolbar_items[toolbar_ind][2];\n",
       "        var method_name = mpl.toolbar_items[toolbar_ind][3];\n",
       "\n",
       "        if (!name) {\n",
       "            // put a spacer in here.\n",
       "            continue;\n",
       "        }\n",
       "        var button = $('<button/>');\n",
       "        button.addClass('ui-button ui-widget ui-state-default ui-corner-all ' +\n",
       "                        'ui-button-icon-only');\n",
       "        button.attr('role', 'button');\n",
       "        button.attr('aria-disabled', 'false');\n",
       "        button.click(method_name, toolbar_event);\n",
       "        button.mouseover(tooltip, toolbar_mouse_event);\n",
       "\n",
       "        var icon_img = $('<span/>');\n",
       "        icon_img.addClass('ui-button-icon-primary ui-icon');\n",
       "        icon_img.addClass(image);\n",
       "        icon_img.addClass('ui-corner-all');\n",
       "\n",
       "        var tooltip_span = $('<span/>');\n",
       "        tooltip_span.addClass('ui-button-text');\n",
       "        tooltip_span.html(tooltip);\n",
       "\n",
       "        button.append(icon_img);\n",
       "        button.append(tooltip_span);\n",
       "\n",
       "        nav_element.append(button);\n",
       "    }\n",
       "\n",
       "    var fmt_picker_span = $('<span/>');\n",
       "\n",
       "    var fmt_picker = $('<select/>');\n",
       "    fmt_picker.addClass('mpl-toolbar-option ui-widget ui-widget-content');\n",
       "    fmt_picker_span.append(fmt_picker);\n",
       "    nav_element.append(fmt_picker_span);\n",
       "    this.format_dropdown = fmt_picker[0];\n",
       "\n",
       "    for (var ind in mpl.extensions) {\n",
       "        var fmt = mpl.extensions[ind];\n",
       "        var option = $(\n",
       "            '<option/>', {selected: fmt === mpl.default_extension}).html(fmt);\n",
       "        fmt_picker.append(option);\n",
       "    }\n",
       "\n",
       "    // Add hover states to the ui-buttons\n",
       "    $( \".ui-button\" ).hover(\n",
       "        function() { $(this).addClass(\"ui-state-hover\");},\n",
       "        function() { $(this).removeClass(\"ui-state-hover\");}\n",
       "    );\n",
       "\n",
       "    var status_bar = $('<span class=\"mpl-message\"/>');\n",
       "    nav_element.append(status_bar);\n",
       "    this.message = status_bar[0];\n",
       "}\n",
       "\n",
       "mpl.figure.prototype.request_resize = function(x_pixels, y_pixels) {\n",
       "    // Request matplotlib to resize the figure. Matplotlib will then trigger a resize in the client,\n",
       "    // which will in turn request a refresh of the image.\n",
       "    this.send_message('resize', {'width': x_pixels, 'height': y_pixels});\n",
       "}\n",
       "\n",
       "mpl.figure.prototype.send_message = function(type, properties) {\n",
       "    properties['type'] = type;\n",
       "    properties['figure_id'] = this.id;\n",
       "    this.ws.send(JSON.stringify(properties));\n",
       "}\n",
       "\n",
       "mpl.figure.prototype.send_draw_message = function() {\n",
       "    if (!this.waiting) {\n",
       "        this.waiting = true;\n",
       "        this.ws.send(JSON.stringify({type: \"draw\", figure_id: this.id}));\n",
       "    }\n",
       "}\n",
       "\n",
       "\n",
       "mpl.figure.prototype.handle_save = function(fig, msg) {\n",
       "    var format_dropdown = fig.format_dropdown;\n",
       "    var format = format_dropdown.options[format_dropdown.selectedIndex].value;\n",
       "    fig.ondownload(fig, format);\n",
       "}\n",
       "\n",
       "\n",
       "mpl.figure.prototype.handle_resize = function(fig, msg) {\n",
       "    var size = msg['size'];\n",
       "    if (size[0] != fig.canvas.width || size[1] != fig.canvas.height) {\n",
       "        fig._resize_canvas(size[0], size[1]);\n",
       "        fig.send_message(\"refresh\", {});\n",
       "    };\n",
       "}\n",
       "\n",
       "mpl.figure.prototype.handle_rubberband = function(fig, msg) {\n",
       "    var x0 = msg['x0'] / mpl.ratio;\n",
       "    var y0 = (fig.canvas.height - msg['y0']) / mpl.ratio;\n",
       "    var x1 = msg['x1'] / mpl.ratio;\n",
       "    var y1 = (fig.canvas.height - msg['y1']) / mpl.ratio;\n",
       "    x0 = Math.floor(x0) + 0.5;\n",
       "    y0 = Math.floor(y0) + 0.5;\n",
       "    x1 = Math.floor(x1) + 0.5;\n",
       "    y1 = Math.floor(y1) + 0.5;\n",
       "    var min_x = Math.min(x0, x1);\n",
       "    var min_y = Math.min(y0, y1);\n",
       "    var width = Math.abs(x1 - x0);\n",
       "    var height = Math.abs(y1 - y0);\n",
       "\n",
       "    fig.rubberband_context.clearRect(\n",
       "        0, 0, fig.canvas.width / mpl.ratio, fig.canvas.height / mpl.ratio);\n",
       "\n",
       "    fig.rubberband_context.strokeRect(min_x, min_y, width, height);\n",
       "}\n",
       "\n",
       "mpl.figure.prototype.handle_figure_label = function(fig, msg) {\n",
       "    // Updates the figure title.\n",
       "    fig.header.textContent = msg['label'];\n",
       "}\n",
       "\n",
       "mpl.figure.prototype.handle_cursor = function(fig, msg) {\n",
       "    var cursor = msg['cursor'];\n",
       "    switch(cursor)\n",
       "    {\n",
       "    case 0:\n",
       "        cursor = 'pointer';\n",
       "        break;\n",
       "    case 1:\n",
       "        cursor = 'default';\n",
       "        break;\n",
       "    case 2:\n",
       "        cursor = 'crosshair';\n",
       "        break;\n",
       "    case 3:\n",
       "        cursor = 'move';\n",
       "        break;\n",
       "    }\n",
       "    fig.rubberband_canvas.style.cursor = cursor;\n",
       "}\n",
       "\n",
       "mpl.figure.prototype.handle_message = function(fig, msg) {\n",
       "    fig.message.textContent = msg['message'];\n",
       "}\n",
       "\n",
       "mpl.figure.prototype.handle_draw = function(fig, msg) {\n",
       "    // Request the server to send over a new figure.\n",
       "    fig.send_draw_message();\n",
       "}\n",
       "\n",
       "mpl.figure.prototype.handle_image_mode = function(fig, msg) {\n",
       "    fig.image_mode = msg['mode'];\n",
       "}\n",
       "\n",
       "mpl.figure.prototype.updated_canvas_event = function() {\n",
       "    // Called whenever the canvas gets updated.\n",
       "    this.send_message(\"ack\", {});\n",
       "}\n",
       "\n",
       "// A function to construct a web socket function for onmessage handling.\n",
       "// Called in the figure constructor.\n",
       "mpl.figure.prototype._make_on_message_function = function(fig) {\n",
       "    return function socket_on_message(evt) {\n",
       "        if (evt.data instanceof Blob) {\n",
       "            /* FIXME: We get \"Resource interpreted as Image but\n",
       "             * transferred with MIME type text/plain:\" errors on\n",
       "             * Chrome.  But how to set the MIME type?  It doesn't seem\n",
       "             * to be part of the websocket stream */\n",
       "            evt.data.type = \"image/png\";\n",
       "\n",
       "            /* Free the memory for the previous frames */\n",
       "            if (fig.imageObj.src) {\n",
       "                (window.URL || window.webkitURL).revokeObjectURL(\n",
       "                    fig.imageObj.src);\n",
       "            }\n",
       "\n",
       "            fig.imageObj.src = (window.URL || window.webkitURL).createObjectURL(\n",
       "                evt.data);\n",
       "            fig.updated_canvas_event();\n",
       "            fig.waiting = false;\n",
       "            return;\n",
       "        }\n",
       "        else if (typeof evt.data === 'string' && evt.data.slice(0, 21) == \"data:image/png;base64\") {\n",
       "            fig.imageObj.src = evt.data;\n",
       "            fig.updated_canvas_event();\n",
       "            fig.waiting = false;\n",
       "            return;\n",
       "        }\n",
       "\n",
       "        var msg = JSON.parse(evt.data);\n",
       "        var msg_type = msg['type'];\n",
       "\n",
       "        // Call the  \"handle_{type}\" callback, which takes\n",
       "        // the figure and JSON message as its only arguments.\n",
       "        try {\n",
       "            var callback = fig[\"handle_\" + msg_type];\n",
       "        } catch (e) {\n",
       "            console.log(\"No handler for the '\" + msg_type + \"' message type: \", msg);\n",
       "            return;\n",
       "        }\n",
       "\n",
       "        if (callback) {\n",
       "            try {\n",
       "                // console.log(\"Handling '\" + msg_type + \"' message: \", msg);\n",
       "                callback(fig, msg);\n",
       "            } catch (e) {\n",
       "                console.log(\"Exception inside the 'handler_\" + msg_type + \"' callback:\", e, e.stack, msg);\n",
       "            }\n",
       "        }\n",
       "    };\n",
       "}\n",
       "\n",
       "// from http://stackoverflow.com/questions/1114465/getting-mouse-location-in-canvas\n",
       "mpl.findpos = function(e) {\n",
       "    //this section is from http://www.quirksmode.org/js/events_properties.html\n",
       "    var targ;\n",
       "    if (!e)\n",
       "        e = window.event;\n",
       "    if (e.target)\n",
       "        targ = e.target;\n",
       "    else if (e.srcElement)\n",
       "        targ = e.srcElement;\n",
       "    if (targ.nodeType == 3) // defeat Safari bug\n",
       "        targ = targ.parentNode;\n",
       "\n",
       "    // jQuery normalizes the pageX and pageY\n",
       "    // pageX,Y are the mouse positions relative to the document\n",
       "    // offset() returns the position of the element relative to the document\n",
       "    var x = e.pageX - $(targ).offset().left;\n",
       "    var y = e.pageY - $(targ).offset().top;\n",
       "\n",
       "    return {\"x\": x, \"y\": y};\n",
       "};\n",
       "\n",
       "/*\n",
       " * return a copy of an object with only non-object keys\n",
       " * we need this to avoid circular references\n",
       " * http://stackoverflow.com/a/24161582/3208463\n",
       " */\n",
       "function simpleKeys (original) {\n",
       "  return Object.keys(original).reduce(function (obj, key) {\n",
       "    if (typeof original[key] !== 'object')\n",
       "        obj[key] = original[key]\n",
       "    return obj;\n",
       "  }, {});\n",
       "}\n",
       "\n",
       "mpl.figure.prototype.mouse_event = function(event, name) {\n",
       "    var canvas_pos = mpl.findpos(event)\n",
       "\n",
       "    if (name === 'button_press')\n",
       "    {\n",
       "        this.canvas.focus();\n",
       "        this.canvas_div.focus();\n",
       "    }\n",
       "\n",
       "    var x = canvas_pos.x * mpl.ratio;\n",
       "    var y = canvas_pos.y * mpl.ratio;\n",
       "\n",
       "    this.send_message(name, {x: x, y: y, button: event.button,\n",
       "                             step: event.step,\n",
       "                             guiEvent: simpleKeys(event)});\n",
       "\n",
       "    /* This prevents the web browser from automatically changing to\n",
       "     * the text insertion cursor when the button is pressed.  We want\n",
       "     * to control all of the cursor setting manually through the\n",
       "     * 'cursor' event from matplotlib */\n",
       "    event.preventDefault();\n",
       "    return false;\n",
       "}\n",
       "\n",
       "mpl.figure.prototype._key_event_extra = function(event, name) {\n",
       "    // Handle any extra behaviour associated with a key event\n",
       "}\n",
       "\n",
       "mpl.figure.prototype.key_event = function(event, name) {\n",
       "\n",
       "    // Prevent repeat events\n",
       "    if (name == 'key_press')\n",
       "    {\n",
       "        if (event.which === this._key)\n",
       "            return;\n",
       "        else\n",
       "            this._key = event.which;\n",
       "    }\n",
       "    if (name == 'key_release')\n",
       "        this._key = null;\n",
       "\n",
       "    var value = '';\n",
       "    if (event.ctrlKey && event.which != 17)\n",
       "        value += \"ctrl+\";\n",
       "    if (event.altKey && event.which != 18)\n",
       "        value += \"alt+\";\n",
       "    if (event.shiftKey && event.which != 16)\n",
       "        value += \"shift+\";\n",
       "\n",
       "    value += 'k';\n",
       "    value += event.which.toString();\n",
       "\n",
       "    this._key_event_extra(event, name);\n",
       "\n",
       "    this.send_message(name, {key: value,\n",
       "                             guiEvent: simpleKeys(event)});\n",
       "    return false;\n",
       "}\n",
       "\n",
       "mpl.figure.prototype.toolbar_button_onclick = function(name) {\n",
       "    if (name == 'download') {\n",
       "        this.handle_save(this, null);\n",
       "    } else {\n",
       "        this.send_message(\"toolbar_button\", {name: name});\n",
       "    }\n",
       "};\n",
       "\n",
       "mpl.figure.prototype.toolbar_button_onmouseover = function(tooltip) {\n",
       "    this.message.textContent = tooltip;\n",
       "};\n",
       "mpl.toolbar_items = [[\"Home\", \"Reset original view\", \"fa fa-home icon-home\", \"home\"], [\"Back\", \"Back to previous view\", \"fa fa-arrow-left icon-arrow-left\", \"back\"], [\"Forward\", \"Forward to next view\", \"fa fa-arrow-right icon-arrow-right\", \"forward\"], [\"\", \"\", \"\", \"\"], [\"Pan\", \"Pan axes with left mouse, zoom with right\", \"fa fa-arrows icon-move\", \"pan\"], [\"Zoom\", \"Zoom to rectangle\", \"fa fa-square-o icon-check-empty\", \"zoom\"], [\"\", \"\", \"\", \"\"], [\"Download\", \"Download plot\", \"fa fa-floppy-o icon-save\", \"download\"]];\n",
       "\n",
       "mpl.extensions = [\"eps\", \"jpeg\", \"pdf\", \"png\", \"ps\", \"raw\", \"svg\", \"tif\"];\n",
       "\n",
       "mpl.default_extension = \"png\";var comm_websocket_adapter = function(comm) {\n",
       "    // Create a \"websocket\"-like object which calls the given IPython comm\n",
       "    // object with the appropriate methods. Currently this is a non binary\n",
       "    // socket, so there is still some room for performance tuning.\n",
       "    var ws = {};\n",
       "\n",
       "    ws.close = function() {\n",
       "        comm.close()\n",
       "    };\n",
       "    ws.send = function(m) {\n",
       "        //console.log('sending', m);\n",
       "        comm.send(m);\n",
       "    };\n",
       "    // Register the callback with on_msg.\n",
       "    comm.on_msg(function(msg) {\n",
       "        //console.log('receiving', msg['content']['data'], msg);\n",
       "        // Pass the mpl event to the overridden (by mpl) onmessage function.\n",
       "        ws.onmessage(msg['content']['data'])\n",
       "    });\n",
       "    return ws;\n",
       "}\n",
       "\n",
       "mpl.mpl_figure_comm = function(comm, msg) {\n",
       "    // This is the function which gets called when the mpl process\n",
       "    // starts-up an IPython Comm through the \"matplotlib\" channel.\n",
       "\n",
       "    var id = msg.content.data.id;\n",
       "    // Get hold of the div created by the display call when the Comm\n",
       "    // socket was opened in Python.\n",
       "    var element = $(\"#\" + id);\n",
       "    var ws_proxy = comm_websocket_adapter(comm)\n",
       "\n",
       "    function ondownload(figure, format) {\n",
       "        window.open(figure.imageObj.src);\n",
       "    }\n",
       "\n",
       "    var fig = new mpl.figure(id, ws_proxy,\n",
       "                           ondownload,\n",
       "                           element.get(0));\n",
       "\n",
       "    // Call onopen now - mpl needs it, as it is assuming we've passed it a real\n",
       "    // web socket which is closed, not our websocket->open comm proxy.\n",
       "    ws_proxy.onopen();\n",
       "\n",
       "    fig.parent_element = element.get(0);\n",
       "    fig.cell_info = mpl.find_output_cell(\"<div id='\" + id + \"'></div>\");\n",
       "    if (!fig.cell_info) {\n",
       "        console.error(\"Failed to find cell for figure\", id, fig);\n",
       "        return;\n",
       "    }\n",
       "\n",
       "    var output_index = fig.cell_info[2]\n",
       "    var cell = fig.cell_info[0];\n",
       "\n",
       "};\n",
       "\n",
       "mpl.figure.prototype.handle_close = function(fig, msg) {\n",
       "    var width = fig.canvas.width/mpl.ratio\n",
       "    fig.root.unbind('remove')\n",
       "\n",
       "    // Update the output cell to use the data from the current canvas.\n",
       "    fig.push_to_output();\n",
       "    var dataURL = fig.canvas.toDataURL();\n",
       "    // Re-enable the keyboard manager in IPython - without this line, in FF,\n",
       "    // the notebook keyboard shortcuts fail.\n",
       "    IPython.keyboard_manager.enable()\n",
       "    $(fig.parent_element).html('<img src=\"' + dataURL + '\" width=\"' + width + '\">');\n",
       "    fig.close_ws(fig, msg);\n",
       "}\n",
       "\n",
       "mpl.figure.prototype.close_ws = function(fig, msg){\n",
       "    fig.send_message('closing', msg);\n",
       "    // fig.ws.close()\n",
       "}\n",
       "\n",
       "mpl.figure.prototype.push_to_output = function(remove_interactive) {\n",
       "    // Turn the data on the canvas into data in the output cell.\n",
       "    var width = this.canvas.width/mpl.ratio\n",
       "    var dataURL = this.canvas.toDataURL();\n",
       "    this.cell_info[1]['text/html'] = '<img src=\"' + dataURL + '\" width=\"' + width + '\">';\n",
       "}\n",
       "\n",
       "mpl.figure.prototype.updated_canvas_event = function() {\n",
       "    // Tell IPython that the notebook contents must change.\n",
       "    IPython.notebook.set_dirty(true);\n",
       "    this.send_message(\"ack\", {});\n",
       "    var fig = this;\n",
       "    // Wait a second, then push the new image to the DOM so\n",
       "    // that it is saved nicely (might be nice to debounce this).\n",
       "    setTimeout(function () { fig.push_to_output() }, 1000);\n",
       "}\n",
       "\n",
       "mpl.figure.prototype._init_toolbar = function() {\n",
       "    var fig = this;\n",
       "\n",
       "    var nav_element = $('<div/>');\n",
       "    nav_element.attr('style', 'width: 100%');\n",
       "    this.root.append(nav_element);\n",
       "\n",
       "    // Define a callback function for later on.\n",
       "    function toolbar_event(event) {\n",
       "        return fig.toolbar_button_onclick(event['data']);\n",
       "    }\n",
       "    function toolbar_mouse_event(event) {\n",
       "        return fig.toolbar_button_onmouseover(event['data']);\n",
       "    }\n",
       "\n",
       "    for(var toolbar_ind in mpl.toolbar_items){\n",
       "        var name = mpl.toolbar_items[toolbar_ind][0];\n",
       "        var tooltip = mpl.toolbar_items[toolbar_ind][1];\n",
       "        var image = mpl.toolbar_items[toolbar_ind][2];\n",
       "        var method_name = mpl.toolbar_items[toolbar_ind][3];\n",
       "\n",
       "        if (!name) { continue; };\n",
       "\n",
       "        var button = $('<button class=\"btn btn-default\" href=\"#\" title=\"' + name + '\"><i class=\"fa ' + image + ' fa-lg\"></i></button>');\n",
       "        button.click(method_name, toolbar_event);\n",
       "        button.mouseover(tooltip, toolbar_mouse_event);\n",
       "        nav_element.append(button);\n",
       "    }\n",
       "\n",
       "    // Add the status bar.\n",
       "    var status_bar = $('<span class=\"mpl-message\" style=\"text-align:right; float: right;\"/>');\n",
       "    nav_element.append(status_bar);\n",
       "    this.message = status_bar[0];\n",
       "\n",
       "    // Add the close button to the window.\n",
       "    var buttongrp = $('<div class=\"btn-group inline pull-right\"></div>');\n",
       "    var button = $('<button class=\"btn btn-mini btn-primary\" href=\"#\" title=\"Stop Interaction\"><i class=\"fa fa-power-off icon-remove icon-large\"></i></button>');\n",
       "    button.click(function (evt) { fig.handle_close(fig, {}); } );\n",
       "    button.mouseover('Stop Interaction', toolbar_mouse_event);\n",
       "    buttongrp.append(button);\n",
       "    var titlebar = this.root.find($('.ui-dialog-titlebar'));\n",
       "    titlebar.prepend(buttongrp);\n",
       "}\n",
       "\n",
       "mpl.figure.prototype._root_extra_style = function(el){\n",
       "    var fig = this\n",
       "    el.on(\"remove\", function(){\n",
       "\tfig.close_ws(fig, {});\n",
       "    });\n",
       "}\n",
       "\n",
       "mpl.figure.prototype._canvas_extra_style = function(el){\n",
       "    // this is important to make the div 'focusable\n",
       "    el.attr('tabindex', 0)\n",
       "    // reach out to IPython and tell the keyboard manager to turn it's self\n",
       "    // off when our div gets focus\n",
       "\n",
       "    // location in version 3\n",
       "    if (IPython.notebook.keyboard_manager) {\n",
       "        IPython.notebook.keyboard_manager.register_events(el);\n",
       "    }\n",
       "    else {\n",
       "        // location in version 2\n",
       "        IPython.keyboard_manager.register_events(el);\n",
       "    }\n",
       "\n",
       "}\n",
       "\n",
       "mpl.figure.prototype._key_event_extra = function(event, name) {\n",
       "    var manager = IPython.notebook.keyboard_manager;\n",
       "    if (!manager)\n",
       "        manager = IPython.keyboard_manager;\n",
       "\n",
       "    // Check for shift+enter\n",
       "    if (event.shiftKey && event.which == 13) {\n",
       "        this.canvas_div.blur();\n",
       "        // select the cell after this one\n",
       "        var index = IPython.notebook.find_cell_index(this.cell_info[0]);\n",
       "        IPython.notebook.select(index + 1);\n",
       "    }\n",
       "}\n",
       "\n",
       "mpl.figure.prototype.handle_save = function(fig, msg) {\n",
       "    fig.ondownload(fig, null);\n",
       "}\n",
       "\n",
       "\n",
       "mpl.find_output_cell = function(html_output) {\n",
       "    // Return the cell and output element which can be found *uniquely* in the notebook.\n",
       "    // Note - this is a bit hacky, but it is done because the \"notebook_saving.Notebook\"\n",
       "    // IPython event is triggered only after the cells have been serialised, which for\n",
       "    // our purposes (turning an active figure into a static one), is too late.\n",
       "    var cells = IPython.notebook.get_cells();\n",
       "    var ncells = cells.length;\n",
       "    for (var i=0; i<ncells; i++) {\n",
       "        var cell = cells[i];\n",
       "        if (cell.cell_type === 'code'){\n",
       "            for (var j=0; j<cell.output_area.outputs.length; j++) {\n",
       "                var data = cell.output_area.outputs[j];\n",
       "                if (data.data) {\n",
       "                    // IPython >= 3 moved mimebundle to data attribute of output\n",
       "                    data = data.data;\n",
       "                }\n",
       "                if (data['text/html'] == html_output) {\n",
       "                    return [cell, data, j];\n",
       "                }\n",
       "            }\n",
       "        }\n",
       "    }\n",
       "}\n",
       "\n",
       "// Register the function which deals with the matplotlib target/channel.\n",
       "// The kernel may be null if the page has been refreshed.\n",
       "if (IPython.notebook.kernel != null) {\n",
       "    IPython.notebook.kernel.comm_manager.register_target('matplotlib', mpl.mpl_figure_comm);\n",
       "}\n"
      ],
      "text/plain": [
       "<IPython.core.display.Javascript object>"
      ]
     },
     "metadata": {},
     "output_type": "display_data"
    },
    {
     "data": {
      "text/html": [
       "<img src=\"data:image/png;base64,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\" width=\"432\">"
      ],
      "text/plain": [
       "<IPython.core.display.HTML object>"
      ]
     },
     "metadata": {},
     "output_type": "display_data"
    },
    {
     "data": {
      "text/plain": [
       "<matplotlib.axes._subplots.AxesSubplot at 0xbc0267e9c8>"
      ]
     },
     "execution_count": 34,
     "metadata": {},
     "output_type": "execute_result"
    }
   ],
   "source": [
    "sns.heatmap(corr,annot = True)"
   ]
  },
  {
   "cell_type": "code",
   "execution_count": 35,
   "metadata": {},
   "outputs": [
    {
     "data": {
      "text/plain": [
       "Eden Gardens                    8\n",
       "Sawai Mansingh Stadium          6\n",
       "Sardar Patel Stadium, Motera    2\n",
       "Newlands                        1\n",
       "Kingsmead                       1\n",
       "Sheikh Zayed Stadium            1\n",
       "Brabourne Stadium               1\n",
       "Name: venue, dtype: int64"
      ]
     },
     "execution_count": 35,
     "metadata": {},
     "output_type": "execute_result"
    }
   ],
   "source": [
    "kkr_rr['venue'].value_counts()"
   ]
  },
  {
   "cell_type": "code",
   "execution_count": 36,
   "metadata": {},
   "outputs": [
    {
     "data": {
      "text/html": [
       "<div>\n",
       "<style scoped>\n",
       "    .dataframe tbody tr th:only-of-type {\n",
       "        vertical-align: middle;\n",
       "    }\n",
       "\n",
       "    .dataframe tbody tr th {\n",
       "        vertical-align: top;\n",
       "    }\n",
       "\n",
       "    .dataframe thead th {\n",
       "        text-align: right;\n",
       "    }\n",
       "</style>\n",
       "<table border=\"1\" class=\"dataframe\">\n",
       "  <thead>\n",
       "    <tr style=\"text-align: right;\">\n",
       "      <th></th>\n",
       "      <th>toss_winner</th>\n",
       "      <th>toss_decision</th>\n",
       "      <th>venue</th>\n",
       "      <th>winner</th>\n",
       "    </tr>\n",
       "  </thead>\n",
       "  <tbody>\n",
       "    <tr>\n",
       "      <th>77</th>\n",
       "      <td>Rajasthan Royals</td>\n",
       "      <td>bat</td>\n",
       "      <td>Sawai Mansingh Stadium</td>\n",
       "      <td>Rajasthan Royals</td>\n",
       "    </tr>\n",
       "    <tr>\n",
       "      <th>104</th>\n",
       "      <td>Rajasthan Royals</td>\n",
       "      <td>field</td>\n",
       "      <td>Eden Gardens</td>\n",
       "      <td>Rajasthan Royals</td>\n",
       "    </tr>\n",
       "    <tr>\n",
       "      <th>125</th>\n",
       "      <td>Kolkata Knight Riders</td>\n",
       "      <td>field</td>\n",
       "      <td>Newlands</td>\n",
       "      <td>Rajasthan Royals</td>\n",
       "    </tr>\n",
       "    <tr>\n",
       "      <th>167</th>\n",
       "      <td>Kolkata Knight Riders</td>\n",
       "      <td>field</td>\n",
       "      <td>Kingsmead</td>\n",
       "      <td>Kolkata Knight Riders</td>\n",
       "    </tr>\n",
       "    <tr>\n",
       "      <th>186</th>\n",
       "      <td>Rajasthan Royals</td>\n",
       "      <td>bat</td>\n",
       "      <td>Sardar Patel Stadium, Motera</td>\n",
       "      <td>Rajasthan Royals</td>\n",
       "    </tr>\n",
       "    <tr>\n",
       "      <th>226</th>\n",
       "      <td>Rajasthan Royals</td>\n",
       "      <td>bat</td>\n",
       "      <td>Eden Gardens</td>\n",
       "      <td>Kolkata Knight Riders</td>\n",
       "    </tr>\n",
       "    <tr>\n",
       "      <th>245</th>\n",
       "      <td>Kolkata Knight Riders</td>\n",
       "      <td>field</td>\n",
       "      <td>Sawai Mansingh Stadium</td>\n",
       "      <td>Kolkata Knight Riders</td>\n",
       "    </tr>\n",
       "    <tr>\n",
       "      <th>250</th>\n",
       "      <td>Kolkata Knight Riders</td>\n",
       "      <td>field</td>\n",
       "      <td>Eden Gardens</td>\n",
       "      <td>Kolkata Knight Riders</td>\n",
       "    </tr>\n",
       "    <tr>\n",
       "      <th>313</th>\n",
       "      <td>Kolkata Knight Riders</td>\n",
       "      <td>field</td>\n",
       "      <td>Sawai Mansingh Stadium</td>\n",
       "      <td>Rajasthan Royals</td>\n",
       "    </tr>\n",
       "    <tr>\n",
       "      <th>321</th>\n",
       "      <td>Rajasthan Royals</td>\n",
       "      <td>bat</td>\n",
       "      <td>Eden Gardens</td>\n",
       "      <td>Kolkata Knight Riders</td>\n",
       "    </tr>\n",
       "    <tr>\n",
       "      <th>388</th>\n",
       "      <td>Kolkata Knight Riders</td>\n",
       "      <td>field</td>\n",
       "      <td>Sawai Mansingh Stadium</td>\n",
       "      <td>Rajasthan Royals</td>\n",
       "    </tr>\n",
       "    <tr>\n",
       "      <th>426</th>\n",
       "      <td>Rajasthan Royals</td>\n",
       "      <td>bat</td>\n",
       "      <td>Eden Gardens</td>\n",
       "      <td>Kolkata Knight Riders</td>\n",
       "    </tr>\n",
       "    <tr>\n",
       "      <th>475</th>\n",
       "      <td>Rajasthan Royals</td>\n",
       "      <td>bat</td>\n",
       "      <td>Sheikh Zayed Stadium</td>\n",
       "      <td>Rajasthan Royals</td>\n",
       "    </tr>\n",
       "    <tr>\n",
       "      <th>481</th>\n",
       "      <td>Kolkata Knight Riders</td>\n",
       "      <td>field</td>\n",
       "      <td>Sardar Patel Stadium, Motera</td>\n",
       "      <td>Rajasthan Royals</td>\n",
       "    </tr>\n",
       "    <tr>\n",
       "      <th>569</th>\n",
       "      <td>Rajasthan Royals</td>\n",
       "      <td>bat</td>\n",
       "      <td>Brabourne Stadium</td>\n",
       "      <td>Rajasthan Royals</td>\n",
       "    </tr>\n",
       "    <tr>\n",
       "      <th>650</th>\n",
       "      <td>Kolkata Knight Riders</td>\n",
       "      <td>field</td>\n",
       "      <td>Sawai Mansingh Stadium</td>\n",
       "      <td>Kolkata Knight Riders</td>\n",
       "    </tr>\n",
       "    <tr>\n",
       "      <th>684</th>\n",
       "      <td>Kolkata Knight Riders</td>\n",
       "      <td>field</td>\n",
       "      <td>Eden Gardens</td>\n",
       "      <td>Kolkata Knight Riders</td>\n",
       "    </tr>\n",
       "    <tr>\n",
       "      <th>693</th>\n",
       "      <td>Rajasthan Royals</td>\n",
       "      <td>field</td>\n",
       "      <td>Eden Gardens</td>\n",
       "      <td>Kolkata Knight Riders</td>\n",
       "    </tr>\n",
       "  </tbody>\n",
       "</table>\n",
       "</div>"
      ],
      "text/plain": [
       "               toss_winner toss_decision                         venue  \\\n",
       "77        Rajasthan Royals           bat        Sawai Mansingh Stadium   \n",
       "104       Rajasthan Royals         field                  Eden Gardens   \n",
       "125  Kolkata Knight Riders         field                      Newlands   \n",
       "167  Kolkata Knight Riders         field                     Kingsmead   \n",
       "186       Rajasthan Royals           bat  Sardar Patel Stadium, Motera   \n",
       "226       Rajasthan Royals           bat                  Eden Gardens   \n",
       "245  Kolkata Knight Riders         field        Sawai Mansingh Stadium   \n",
       "250  Kolkata Knight Riders         field                  Eden Gardens   \n",
       "313  Kolkata Knight Riders         field        Sawai Mansingh Stadium   \n",
       "321       Rajasthan Royals           bat                  Eden Gardens   \n",
       "388  Kolkata Knight Riders         field        Sawai Mansingh Stadium   \n",
       "426       Rajasthan Royals           bat                  Eden Gardens   \n",
       "475       Rajasthan Royals           bat          Sheikh Zayed Stadium   \n",
       "481  Kolkata Knight Riders         field  Sardar Patel Stadium, Motera   \n",
       "569       Rajasthan Royals           bat             Brabourne Stadium   \n",
       "650  Kolkata Knight Riders         field        Sawai Mansingh Stadium   \n",
       "684  Kolkata Knight Riders         field                  Eden Gardens   \n",
       "693       Rajasthan Royals         field                  Eden Gardens   \n",
       "\n",
       "                    winner  \n",
       "77        Rajasthan Royals  \n",
       "104       Rajasthan Royals  \n",
       "125       Rajasthan Royals  \n",
       "167  Kolkata Knight Riders  \n",
       "186       Rajasthan Royals  \n",
       "226  Kolkata Knight Riders  \n",
       "245  Kolkata Knight Riders  \n",
       "250  Kolkata Knight Riders  \n",
       "313       Rajasthan Royals  \n",
       "321  Kolkata Knight Riders  \n",
       "388       Rajasthan Royals  \n",
       "426  Kolkata Knight Riders  \n",
       "475       Rajasthan Royals  \n",
       "481       Rajasthan Royals  \n",
       "569       Rajasthan Royals  \n",
       "650  Kolkata Knight Riders  \n",
       "684  Kolkata Knight Riders  \n",
       "693  Kolkata Knight Riders  "
      ]
     },
     "execution_count": 36,
     "metadata": {},
     "output_type": "execute_result"
    }
   ],
   "source": [
    "venue= kkr_rr[['toss_winner','toss_decision','venue','winner']]\n",
    "venue.head(18)"
   ]
  },
  {
   "cell_type": "markdown",
   "metadata": {},
   "source": [
    "# Head to Head Win based tossed decision playing 1st or 2nd Inning¶\n"
   ]
  },
  {
   "cell_type": "code",
   "execution_count": 37,
   "metadata": {},
   "outputs": [
    {
     "data": {
      "text/plain": [
       "toss_winner            winner                 toss_decision\n",
       "Kolkata Knight Riders  Kolkata Knight Riders  field            6\n",
       "                       Rajasthan Royals       field            4\n",
       "Rajasthan Royals       Kolkata Knight Riders  bat              3\n",
       "                                              field            1\n",
       "                       Rajasthan Royals       bat              4\n",
       "                                              field            2\n",
       "Name: toss_decision, dtype: int64"
      ]
     },
     "execution_count": 37,
     "metadata": {},
     "output_type": "execute_result"
    }
   ],
   "source": [
    "team_decision.groupby(['toss_winner','winner'])['toss_decision'].value_counts()"
   ]
  },
  {
   "cell_type": "code",
   "execution_count": 38,
   "metadata": {},
   "outputs": [
    {
     "data": {
      "text/plain": [
       "(20, 17)"
      ]
     },
     "execution_count": 38,
     "metadata": {},
     "output_type": "execute_result"
    }
   ],
   "source": [
    "kkr_rr.shape"
   ]
  },
  {
   "cell_type": "code",
   "execution_count": 39,
   "metadata": {},
   "outputs": [
    {
     "data": {
      "text/plain": [
       "Mumbai Indians                 22619\n",
       "Kings XI Punjab                20931\n",
       "Royal Challengers Bangalore    20908\n",
       "Kolkata Knight Riders          20858\n",
       "Chennai Super Kings            19762\n",
       "Delhi Daredevils               18786\n",
       "Rajasthan Royals               17292\n",
       "Sunrisers Hyderabad            12908\n",
       "Deccan Chargers                 9034\n",
       "Pune Warriors                   5443\n",
       "Gujarat Lions                   3566\n",
       "Delhi Capitals                  1909\n",
       "Rising Pune Supergiant          1900\n",
       "Kochi Tuskers Kerala            1582\n",
       "Rising Pune Supergiants         1580\n",
       "Name: batting_team, dtype: int64"
      ]
     },
     "execution_count": 39,
     "metadata": {},
     "output_type": "execute_result"
    }
   ],
   "source": [
    "delivers['batting_team'].value_counts()"
   ]
  },
  {
   "cell_type": "code",
   "execution_count": 40,
   "metadata": {},
   "outputs": [
    {
     "data": {
      "application/vnd.plotly.v1+json": {
       "config": {
        "linkText": "Export to plot.ly",
        "plotlyServerURL": "https://plot.ly",
        "showLink": true
       },
       "data": [
        {
         "marker": {
          "color": "rgba(255, 153, 51, 0.6)",
          "line": {
           "color": "rgba(255, 153, 51, 1.0)",
           "width": 1
          }
         },
         "name": "batting_team",
         "orientation": "v",
         "text": "",
         "type": "bar",
         "x": [
          "Mumbai Indians",
          "Kings XI Punjab",
          "Royal Challengers Bangalore",
          "Kolkata Knight Riders",
          "Chennai Super Kings",
          "Delhi Daredevils",
          "Rajasthan Royals",
          "Sunrisers Hyderabad",
          "Deccan Chargers",
          "Pune Warriors",
          "Gujarat Lions",
          "Delhi Capitals",
          "Rising Pune Supergiant",
          "Kochi Tuskers Kerala",
          "Rising Pune Supergiants"
         ],
         "y": [
          22619,
          20931,
          20908,
          20858,
          19762,
          18786,
          17292,
          12908,
          9034,
          5443,
          3566,
          1909,
          1900,
          1582,
          1580
         ]
        }
       ],
       "layout": {
        "legend": {
         "bgcolor": "#F5F6F9",
         "font": {
          "color": "#4D5663"
         }
        },
        "paper_bgcolor": "#F5F6F9",
        "plot_bgcolor": "#F5F6F9",
        "template": {
         "data": {
          "bar": [
           {
            "error_x": {
             "color": "#2a3f5f"
            },
            "error_y": {
             "color": "#2a3f5f"
            },
            "marker": {
             "line": {
              "color": "#E5ECF6",
              "width": 0.5
             }
            },
            "type": "bar"
           }
          ],
          "barpolar": [
           {
            "marker": {
             "line": {
              "color": "#E5ECF6",
              "width": 0.5
             }
            },
            "type": "barpolar"
           }
          ],
          "carpet": [
           {
            "aaxis": {
             "endlinecolor": "#2a3f5f",
             "gridcolor": "white",
             "linecolor": "white",
             "minorgridcolor": "white",
             "startlinecolor": "#2a3f5f"
            },
            "baxis": {
             "endlinecolor": "#2a3f5f",
             "gridcolor": "white",
             "linecolor": "white",
             "minorgridcolor": "white",
             "startlinecolor": "#2a3f5f"
            },
            "type": "carpet"
           }
          ],
          "choropleth": [
           {
            "colorbar": {
             "outlinewidth": 0,
             "ticks": ""
            },
            "type": "choropleth"
           }
          ],
          "contour": [
           {
            "colorbar": {
             "outlinewidth": 0,
             "ticks": ""
            },
            "colorscale": [
             [
              0,
              "#0d0887"
             ],
             [
              0.1111111111111111,
              "#46039f"
             ],
             [
              0.2222222222222222,
              "#7201a8"
             ],
             [
              0.3333333333333333,
              "#9c179e"
             ],
             [
              0.4444444444444444,
              "#bd3786"
             ],
             [
              0.5555555555555556,
              "#d8576b"
             ],
             [
              0.6666666666666666,
              "#ed7953"
             ],
             [
              0.7777777777777778,
              "#fb9f3a"
             ],
             [
              0.8888888888888888,
              "#fdca26"
             ],
             [
              1,
              "#f0f921"
             ]
            ],
            "type": "contour"
           }
          ],
          "contourcarpet": [
           {
            "colorbar": {
             "outlinewidth": 0,
             "ticks": ""
            },
            "type": "contourcarpet"
           }
          ],
          "heatmap": [
           {
            "colorbar": {
             "outlinewidth": 0,
             "ticks": ""
            },
            "colorscale": [
             [
              0,
              "#0d0887"
             ],
             [
              0.1111111111111111,
              "#46039f"
             ],
             [
              0.2222222222222222,
              "#7201a8"
             ],
             [
              0.3333333333333333,
              "#9c179e"
             ],
             [
              0.4444444444444444,
              "#bd3786"
             ],
             [
              0.5555555555555556,
              "#d8576b"
             ],
             [
              0.6666666666666666,
              "#ed7953"
             ],
             [
              0.7777777777777778,
              "#fb9f3a"
             ],
             [
              0.8888888888888888,
              "#fdca26"
             ],
             [
              1,
              "#f0f921"
             ]
            ],
            "type": "heatmap"
           }
          ],
          "heatmapgl": [
           {
            "colorbar": {
             "outlinewidth": 0,
             "ticks": ""
            },
            "colorscale": [
             [
              0,
              "#0d0887"
             ],
             [
              0.1111111111111111,
              "#46039f"
             ],
             [
              0.2222222222222222,
              "#7201a8"
             ],
             [
              0.3333333333333333,
              "#9c179e"
             ],
             [
              0.4444444444444444,
              "#bd3786"
             ],
             [
              0.5555555555555556,
              "#d8576b"
             ],
             [
              0.6666666666666666,
              "#ed7953"
             ],
             [
              0.7777777777777778,
              "#fb9f3a"
             ],
             [
              0.8888888888888888,
              "#fdca26"
             ],
             [
              1,
              "#f0f921"
             ]
            ],
            "type": "heatmapgl"
           }
          ],
          "histogram": [
           {
            "marker": {
             "colorbar": {
              "outlinewidth": 0,
              "ticks": ""
             }
            },
            "type": "histogram"
           }
          ],
          "histogram2d": [
           {
            "colorbar": {
             "outlinewidth": 0,
             "ticks": ""
            },
            "colorscale": [
             [
              0,
              "#0d0887"
             ],
             [
              0.1111111111111111,
              "#46039f"
             ],
             [
              0.2222222222222222,
              "#7201a8"
             ],
             [
              0.3333333333333333,
              "#9c179e"
             ],
             [
              0.4444444444444444,
              "#bd3786"
             ],
             [
              0.5555555555555556,
              "#d8576b"
             ],
             [
              0.6666666666666666,
              "#ed7953"
             ],
             [
              0.7777777777777778,
              "#fb9f3a"
             ],
             [
              0.8888888888888888,
              "#fdca26"
             ],
             [
              1,
              "#f0f921"
             ]
            ],
            "type": "histogram2d"
           }
          ],
          "histogram2dcontour": [
           {
            "colorbar": {
             "outlinewidth": 0,
             "ticks": ""
            },
            "colorscale": [
             [
              0,
              "#0d0887"
             ],
             [
              0.1111111111111111,
              "#46039f"
             ],
             [
              0.2222222222222222,
              "#7201a8"
             ],
             [
              0.3333333333333333,
              "#9c179e"
             ],
             [
              0.4444444444444444,
              "#bd3786"
             ],
             [
              0.5555555555555556,
              "#d8576b"
             ],
             [
              0.6666666666666666,
              "#ed7953"
             ],
             [
              0.7777777777777778,
              "#fb9f3a"
             ],
             [
              0.8888888888888888,
              "#fdca26"
             ],
             [
              1,
              "#f0f921"
             ]
            ],
            "type": "histogram2dcontour"
           }
          ],
          "mesh3d": [
           {
            "colorbar": {
             "outlinewidth": 0,
             "ticks": ""
            },
            "type": "mesh3d"
           }
          ],
          "parcoords": [
           {
            "line": {
             "colorbar": {
              "outlinewidth": 0,
              "ticks": ""
             }
            },
            "type": "parcoords"
           }
          ],
          "pie": [
           {
            "automargin": true,
            "type": "pie"
           }
          ],
          "scatter": [
           {
            "marker": {
             "colorbar": {
              "outlinewidth": 0,
              "ticks": ""
             }
            },
            "type": "scatter"
           }
          ],
          "scatter3d": [
           {
            "line": {
             "colorbar": {
              "outlinewidth": 0,
              "ticks": ""
             }
            },
            "marker": {
             "colorbar": {
              "outlinewidth": 0,
              "ticks": ""
             }
            },
            "type": "scatter3d"
           }
          ],
          "scattercarpet": [
           {
            "marker": {
             "colorbar": {
              "outlinewidth": 0,
              "ticks": ""
             }
            },
            "type": "scattercarpet"
           }
          ],
          "scattergeo": [
           {
            "marker": {
             "colorbar": {
              "outlinewidth": 0,
              "ticks": ""
             }
            },
            "type": "scattergeo"
           }
          ],
          "scattergl": [
           {
            "marker": {
             "colorbar": {
              "outlinewidth": 0,
              "ticks": ""
             }
            },
            "type": "scattergl"
           }
          ],
          "scattermapbox": [
           {
            "marker": {
             "colorbar": {
              "outlinewidth": 0,
              "ticks": ""
             }
            },
            "type": "scattermapbox"
           }
          ],
          "scatterpolar": [
           {
            "marker": {
             "colorbar": {
              "outlinewidth": 0,
              "ticks": ""
             }
            },
            "type": "scatterpolar"
           }
          ],
          "scatterpolargl": [
           {
            "marker": {
             "colorbar": {
              "outlinewidth": 0,
              "ticks": ""
             }
            },
            "type": "scatterpolargl"
           }
          ],
          "scatterternary": [
           {
            "marker": {
             "colorbar": {
              "outlinewidth": 0,
              "ticks": ""
             }
            },
            "type": "scatterternary"
           }
          ],
          "surface": [
           {
            "colorbar": {
             "outlinewidth": 0,
             "ticks": ""
            },
            "colorscale": [
             [
              0,
              "#0d0887"
             ],
             [
              0.1111111111111111,
              "#46039f"
             ],
             [
              0.2222222222222222,
              "#7201a8"
             ],
             [
              0.3333333333333333,
              "#9c179e"
             ],
             [
              0.4444444444444444,
              "#bd3786"
             ],
             [
              0.5555555555555556,
              "#d8576b"
             ],
             [
              0.6666666666666666,
              "#ed7953"
             ],
             [
              0.7777777777777778,
              "#fb9f3a"
             ],
             [
              0.8888888888888888,
              "#fdca26"
             ],
             [
              1,
              "#f0f921"
             ]
            ],
            "type": "surface"
           }
          ],
          "table": [
           {
            "cells": {
             "fill": {
              "color": "#EBF0F8"
             },
             "line": {
              "color": "white"
             }
            },
            "header": {
             "fill": {
              "color": "#C8D4E3"
             },
             "line": {
              "color": "white"
             }
            },
            "type": "table"
           }
          ]
         },
         "layout": {
          "annotationdefaults": {
           "arrowcolor": "#2a3f5f",
           "arrowhead": 0,
           "arrowwidth": 1
          },
          "coloraxis": {
           "colorbar": {
            "outlinewidth": 0,
            "ticks": ""
           }
          },
          "colorscale": {
           "diverging": [
            [
             0,
             "#8e0152"
            ],
            [
             0.1,
             "#c51b7d"
            ],
            [
             0.2,
             "#de77ae"
            ],
            [
             0.3,
             "#f1b6da"
            ],
            [
             0.4,
             "#fde0ef"
            ],
            [
             0.5,
             "#f7f7f7"
            ],
            [
             0.6,
             "#e6f5d0"
            ],
            [
             0.7,
             "#b8e186"
            ],
            [
             0.8,
             "#7fbc41"
            ],
            [
             0.9,
             "#4d9221"
            ],
            [
             1,
             "#276419"
            ]
           ],
           "sequential": [
            [
             0,
             "#0d0887"
            ],
            [
             0.1111111111111111,
             "#46039f"
            ],
            [
             0.2222222222222222,
             "#7201a8"
            ],
            [
             0.3333333333333333,
             "#9c179e"
            ],
            [
             0.4444444444444444,
             "#bd3786"
            ],
            [
             0.5555555555555556,
             "#d8576b"
            ],
            [
             0.6666666666666666,
             "#ed7953"
            ],
            [
             0.7777777777777778,
             "#fb9f3a"
            ],
            [
             0.8888888888888888,
             "#fdca26"
            ],
            [
             1,
             "#f0f921"
            ]
           ],
           "sequentialminus": [
            [
             0,
             "#0d0887"
            ],
            [
             0.1111111111111111,
             "#46039f"
            ],
            [
             0.2222222222222222,
             "#7201a8"
            ],
            [
             0.3333333333333333,
             "#9c179e"
            ],
            [
             0.4444444444444444,
             "#bd3786"
            ],
            [
             0.5555555555555556,
             "#d8576b"
            ],
            [
             0.6666666666666666,
             "#ed7953"
            ],
            [
             0.7777777777777778,
             "#fb9f3a"
            ],
            [
             0.8888888888888888,
             "#fdca26"
            ],
            [
             1,
             "#f0f921"
            ]
           ]
          },
          "colorway": [
           "#636efa",
           "#EF553B",
           "#00cc96",
           "#ab63fa",
           "#FFA15A",
           "#19d3f3",
           "#FF6692",
           "#B6E880",
           "#FF97FF",
           "#FECB52"
          ],
          "font": {
           "color": "#2a3f5f"
          },
          "geo": {
           "bgcolor": "white",
           "lakecolor": "white",
           "landcolor": "#E5ECF6",
           "showlakes": true,
           "showland": true,
           "subunitcolor": "white"
          },
          "hoverlabel": {
           "align": "left"
          },
          "hovermode": "closest",
          "mapbox": {
           "style": "light"
          },
          "paper_bgcolor": "white",
          "plot_bgcolor": "#E5ECF6",
          "polar": {
           "angularaxis": {
            "gridcolor": "white",
            "linecolor": "white",
            "ticks": ""
           },
           "bgcolor": "#E5ECF6",
           "radialaxis": {
            "gridcolor": "white",
            "linecolor": "white",
            "ticks": ""
           }
          },
          "scene": {
           "xaxis": {
            "backgroundcolor": "#E5ECF6",
            "gridcolor": "white",
            "gridwidth": 2,
            "linecolor": "white",
            "showbackground": true,
            "ticks": "",
            "zerolinecolor": "white"
           },
           "yaxis": {
            "backgroundcolor": "#E5ECF6",
            "gridcolor": "white",
            "gridwidth": 2,
            "linecolor": "white",
            "showbackground": true,
            "ticks": "",
            "zerolinecolor": "white"
           },
           "zaxis": {
            "backgroundcolor": "#E5ECF6",
            "gridcolor": "white",
            "gridwidth": 2,
            "linecolor": "white",
            "showbackground": true,
            "ticks": "",
            "zerolinecolor": "white"
           }
          },
          "shapedefaults": {
           "line": {
            "color": "#2a3f5f"
           }
          },
          "ternary": {
           "aaxis": {
            "gridcolor": "white",
            "linecolor": "white",
            "ticks": ""
           },
           "baxis": {
            "gridcolor": "white",
            "linecolor": "white",
            "ticks": ""
           },
           "bgcolor": "#E5ECF6",
           "caxis": {
            "gridcolor": "white",
            "linecolor": "white",
            "ticks": ""
           }
          },
          "title": {
           "x": 0.05
          },
          "xaxis": {
           "automargin": true,
           "gridcolor": "white",
           "linecolor": "white",
           "ticks": "",
           "title": {
            "standoff": 15
           },
           "zerolinecolor": "white",
           "zerolinewidth": 2
          },
          "yaxis": {
           "automargin": true,
           "gridcolor": "white",
           "linecolor": "white",
           "ticks": "",
           "title": {
            "standoff": 15
           },
           "zerolinecolor": "white",
           "zerolinewidth": 2
          }
         }
        },
        "title": {
         "font": {
          "color": "#4D5663"
         },
         "text": "Runs scored by Teams in IPL 2008-19"
        },
        "xaxis": {
         "gridcolor": "#E1E5ED",
         "showgrid": true,
         "tickfont": {
          "color": "#4D5663"
         },
         "title": {
          "font": {
           "color": "#4D5663"
          },
          "text": "Team"
         },
         "zerolinecolor": "#E1E5ED"
        },
        "yaxis": {
         "gridcolor": "#E1E5ED",
         "showgrid": true,
         "tickfont": {
          "color": "#4D5663"
         },
         "title": {
          "font": {
           "color": "#4D5663"
          },
          "text": "Runs"
         },
         "zerolinecolor": "#E1E5ED"
        }
       }
      },
      "text/html": [
       "<div>\n",
       "        \n",
       "        \n",
       "            <div id=\"34b12725-795b-408a-bef3-2bd8ced415f8\" class=\"plotly-graph-div\" style=\"height:525px; width:100%;\"></div>\n",
       "            <script type=\"text/javascript\">\n",
       "                require([\"plotly\"], function(Plotly) {\n",
       "                    window.PLOTLYENV=window.PLOTLYENV || {};\n",
       "                    window.PLOTLYENV.BASE_URL='https://plot.ly';\n",
       "                    \n",
       "                if (document.getElementById(\"34b12725-795b-408a-bef3-2bd8ced415f8\")) {\n",
       "                    Plotly.newPlot(\n",
       "                        '34b12725-795b-408a-bef3-2bd8ced415f8',\n",
       "                        [{\"marker\": {\"color\": \"rgba(255, 153, 51, 0.6)\", \"line\": {\"color\": \"rgba(255, 153, 51, 1.0)\", \"width\": 1}}, \"name\": \"batting_team\", \"orientation\": \"v\", \"text\": \"\", \"type\": \"bar\", \"x\": [\"Mumbai Indians\", \"Kings XI Punjab\", \"Royal Challengers Bangalore\", \"Kolkata Knight Riders\", \"Chennai Super Kings\", \"Delhi Daredevils\", \"Rajasthan Royals\", \"Sunrisers Hyderabad\", \"Deccan Chargers\", \"Pune Warriors\", \"Gujarat Lions\", \"Delhi Capitals\", \"Rising Pune Supergiant\", \"Kochi Tuskers Kerala\", \"Rising Pune Supergiants\"], \"y\": [22619, 20931, 20908, 20858, 19762, 18786, 17292, 12908, 9034, 5443, 3566, 1909, 1900, 1582, 1580]}],\n",
       "                        {\"legend\": {\"bgcolor\": \"#F5F6F9\", \"font\": {\"color\": \"#4D5663\"}}, \"paper_bgcolor\": \"#F5F6F9\", \"plot_bgcolor\": \"#F5F6F9\", \"template\": {\"data\": {\"bar\": [{\"error_x\": {\"color\": \"#2a3f5f\"}, \"error_y\": {\"color\": \"#2a3f5f\"}, \"marker\": {\"line\": {\"color\": \"#E5ECF6\", \"width\": 0.5}}, \"type\": \"bar\"}], \"barpolar\": [{\"marker\": {\"line\": {\"color\": \"#E5ECF6\", \"width\": 0.5}}, \"type\": \"barpolar\"}], \"carpet\": [{\"aaxis\": {\"endlinecolor\": \"#2a3f5f\", \"gridcolor\": \"white\", \"linecolor\": \"white\", \"minorgridcolor\": \"white\", \"startlinecolor\": \"#2a3f5f\"}, \"baxis\": {\"endlinecolor\": \"#2a3f5f\", \"gridcolor\": \"white\", \"linecolor\": \"white\", \"minorgridcolor\": \"white\", \"startlinecolor\": \"#2a3f5f\"}, \"type\": \"carpet\"}], \"choropleth\": [{\"colorbar\": {\"outlinewidth\": 0, \"ticks\": \"\"}, \"type\": \"choropleth\"}], \"contour\": [{\"colorbar\": {\"outlinewidth\": 0, \"ticks\": \"\"}, \"colorscale\": [[0.0, \"#0d0887\"], [0.1111111111111111, \"#46039f\"], [0.2222222222222222, \"#7201a8\"], [0.3333333333333333, \"#9c179e\"], [0.4444444444444444, \"#bd3786\"], [0.5555555555555556, \"#d8576b\"], [0.6666666666666666, \"#ed7953\"], [0.7777777777777778, \"#fb9f3a\"], [0.8888888888888888, \"#fdca26\"], [1.0, \"#f0f921\"]], \"type\": \"contour\"}], \"contourcarpet\": [{\"colorbar\": {\"outlinewidth\": 0, \"ticks\": \"\"}, \"type\": \"contourcarpet\"}], \"heatmap\": [{\"colorbar\": {\"outlinewidth\": 0, \"ticks\": \"\"}, \"colorscale\": [[0.0, \"#0d0887\"], [0.1111111111111111, \"#46039f\"], [0.2222222222222222, \"#7201a8\"], [0.3333333333333333, \"#9c179e\"], [0.4444444444444444, \"#bd3786\"], [0.5555555555555556, \"#d8576b\"], [0.6666666666666666, \"#ed7953\"], [0.7777777777777778, \"#fb9f3a\"], [0.8888888888888888, \"#fdca26\"], [1.0, \"#f0f921\"]], \"type\": \"heatmap\"}], \"heatmapgl\": [{\"colorbar\": {\"outlinewidth\": 0, \"ticks\": \"\"}, \"colorscale\": [[0.0, \"#0d0887\"], [0.1111111111111111, \"#46039f\"], [0.2222222222222222, \"#7201a8\"], [0.3333333333333333, \"#9c179e\"], [0.4444444444444444, \"#bd3786\"], [0.5555555555555556, \"#d8576b\"], [0.6666666666666666, \"#ed7953\"], [0.7777777777777778, \"#fb9f3a\"], [0.8888888888888888, \"#fdca26\"], [1.0, \"#f0f921\"]], \"type\": \"heatmapgl\"}], \"histogram\": [{\"marker\": {\"colorbar\": {\"outlinewidth\": 0, \"ticks\": \"\"}}, \"type\": \"histogram\"}], \"histogram2d\": [{\"colorbar\": {\"outlinewidth\": 0, \"ticks\": \"\"}, \"colorscale\": [[0.0, \"#0d0887\"], [0.1111111111111111, \"#46039f\"], [0.2222222222222222, \"#7201a8\"], [0.3333333333333333, \"#9c179e\"], [0.4444444444444444, \"#bd3786\"], [0.5555555555555556, \"#d8576b\"], [0.6666666666666666, \"#ed7953\"], [0.7777777777777778, \"#fb9f3a\"], [0.8888888888888888, \"#fdca26\"], [1.0, \"#f0f921\"]], \"type\": \"histogram2d\"}], \"histogram2dcontour\": [{\"colorbar\": {\"outlinewidth\": 0, \"ticks\": \"\"}, \"colorscale\": [[0.0, \"#0d0887\"], [0.1111111111111111, \"#46039f\"], [0.2222222222222222, \"#7201a8\"], [0.3333333333333333, \"#9c179e\"], [0.4444444444444444, \"#bd3786\"], [0.5555555555555556, \"#d8576b\"], [0.6666666666666666, \"#ed7953\"], [0.7777777777777778, \"#fb9f3a\"], [0.8888888888888888, \"#fdca26\"], [1.0, \"#f0f921\"]], \"type\": \"histogram2dcontour\"}], \"mesh3d\": [{\"colorbar\": {\"outlinewidth\": 0, \"ticks\": \"\"}, \"type\": \"mesh3d\"}], \"parcoords\": [{\"line\": {\"colorbar\": {\"outlinewidth\": 0, \"ticks\": \"\"}}, \"type\": \"parcoords\"}], \"pie\": [{\"automargin\": true, \"type\": \"pie\"}], \"scatter\": [{\"marker\": {\"colorbar\": {\"outlinewidth\": 0, \"ticks\": \"\"}}, \"type\": \"scatter\"}], \"scatter3d\": [{\"line\": {\"colorbar\": {\"outlinewidth\": 0, \"ticks\": \"\"}}, \"marker\": {\"colorbar\": {\"outlinewidth\": 0, \"ticks\": \"\"}}, \"type\": \"scatter3d\"}], \"scattercarpet\": [{\"marker\": {\"colorbar\": {\"outlinewidth\": 0, \"ticks\": \"\"}}, \"type\": \"scattercarpet\"}], \"scattergeo\": [{\"marker\": {\"colorbar\": {\"outlinewidth\": 0, \"ticks\": \"\"}}, \"type\": \"scattergeo\"}], \"scattergl\": [{\"marker\": {\"colorbar\": {\"outlinewidth\": 0, \"ticks\": \"\"}}, \"type\": \"scattergl\"}], \"scattermapbox\": [{\"marker\": {\"colorbar\": {\"outlinewidth\": 0, \"ticks\": \"\"}}, \"type\": \"scattermapbox\"}], \"scatterpolar\": [{\"marker\": {\"colorbar\": {\"outlinewidth\": 0, \"ticks\": \"\"}}, \"type\": \"scatterpolar\"}], \"scatterpolargl\": [{\"marker\": {\"colorbar\": {\"outlinewidth\": 0, \"ticks\": \"\"}}, \"type\": \"scatterpolargl\"}], \"scatterternary\": [{\"marker\": {\"colorbar\": {\"outlinewidth\": 0, \"ticks\": \"\"}}, \"type\": \"scatterternary\"}], \"surface\": [{\"colorbar\": {\"outlinewidth\": 0, \"ticks\": \"\"}, \"colorscale\": [[0.0, \"#0d0887\"], [0.1111111111111111, \"#46039f\"], [0.2222222222222222, \"#7201a8\"], [0.3333333333333333, \"#9c179e\"], [0.4444444444444444, \"#bd3786\"], [0.5555555555555556, \"#d8576b\"], [0.6666666666666666, \"#ed7953\"], [0.7777777777777778, \"#fb9f3a\"], [0.8888888888888888, \"#fdca26\"], [1.0, \"#f0f921\"]], \"type\": \"surface\"}], \"table\": [{\"cells\": {\"fill\": {\"color\": \"#EBF0F8\"}, \"line\": {\"color\": \"white\"}}, \"header\": {\"fill\": {\"color\": \"#C8D4E3\"}, \"line\": {\"color\": \"white\"}}, \"type\": \"table\"}]}, \"layout\": {\"annotationdefaults\": {\"arrowcolor\": \"#2a3f5f\", \"arrowhead\": 0, \"arrowwidth\": 1}, \"coloraxis\": {\"colorbar\": {\"outlinewidth\": 0, \"ticks\": \"\"}}, \"colorscale\": {\"diverging\": [[0, \"#8e0152\"], [0.1, \"#c51b7d\"], [0.2, \"#de77ae\"], [0.3, \"#f1b6da\"], [0.4, \"#fde0ef\"], [0.5, \"#f7f7f7\"], [0.6, \"#e6f5d0\"], [0.7, \"#b8e186\"], [0.8, \"#7fbc41\"], [0.9, \"#4d9221\"], [1, \"#276419\"]], \"sequential\": [[0.0, \"#0d0887\"], [0.1111111111111111, \"#46039f\"], [0.2222222222222222, \"#7201a8\"], [0.3333333333333333, \"#9c179e\"], [0.4444444444444444, \"#bd3786\"], [0.5555555555555556, \"#d8576b\"], [0.6666666666666666, \"#ed7953\"], [0.7777777777777778, \"#fb9f3a\"], [0.8888888888888888, \"#fdca26\"], [1.0, \"#f0f921\"]], \"sequentialminus\": [[0.0, \"#0d0887\"], [0.1111111111111111, \"#46039f\"], [0.2222222222222222, \"#7201a8\"], [0.3333333333333333, \"#9c179e\"], [0.4444444444444444, \"#bd3786\"], [0.5555555555555556, \"#d8576b\"], [0.6666666666666666, \"#ed7953\"], [0.7777777777777778, \"#fb9f3a\"], [0.8888888888888888, \"#fdca26\"], [1.0, \"#f0f921\"]]}, \"colorway\": [\"#636efa\", \"#EF553B\", \"#00cc96\", \"#ab63fa\", \"#FFA15A\", \"#19d3f3\", \"#FF6692\", \"#B6E880\", \"#FF97FF\", \"#FECB52\"], \"font\": {\"color\": \"#2a3f5f\"}, \"geo\": {\"bgcolor\": \"white\", \"lakecolor\": \"white\", \"landcolor\": \"#E5ECF6\", \"showlakes\": true, \"showland\": true, \"subunitcolor\": \"white\"}, \"hoverlabel\": {\"align\": \"left\"}, \"hovermode\": \"closest\", \"mapbox\": {\"style\": \"light\"}, \"paper_bgcolor\": \"white\", \"plot_bgcolor\": \"#E5ECF6\", \"polar\": {\"angularaxis\": {\"gridcolor\": \"white\", \"linecolor\": \"white\", \"ticks\": \"\"}, \"bgcolor\": \"#E5ECF6\", \"radialaxis\": {\"gridcolor\": \"white\", \"linecolor\": \"white\", \"ticks\": \"\"}}, \"scene\": {\"xaxis\": {\"backgroundcolor\": \"#E5ECF6\", \"gridcolor\": \"white\", \"gridwidth\": 2, \"linecolor\": \"white\", \"showbackground\": true, \"ticks\": \"\", \"zerolinecolor\": \"white\"}, \"yaxis\": {\"backgroundcolor\": \"#E5ECF6\", \"gridcolor\": \"white\", \"gridwidth\": 2, \"linecolor\": \"white\", \"showbackground\": true, \"ticks\": \"\", \"zerolinecolor\": \"white\"}, \"zaxis\": {\"backgroundcolor\": \"#E5ECF6\", \"gridcolor\": \"white\", \"gridwidth\": 2, \"linecolor\": \"white\", \"showbackground\": true, \"ticks\": \"\", \"zerolinecolor\": \"white\"}}, \"shapedefaults\": {\"line\": {\"color\": \"#2a3f5f\"}}, \"ternary\": {\"aaxis\": {\"gridcolor\": \"white\", \"linecolor\": \"white\", \"ticks\": \"\"}, \"baxis\": {\"gridcolor\": \"white\", \"linecolor\": \"white\", \"ticks\": \"\"}, \"bgcolor\": \"#E5ECF6\", \"caxis\": {\"gridcolor\": \"white\", \"linecolor\": \"white\", \"ticks\": \"\"}}, \"title\": {\"x\": 0.05}, \"xaxis\": {\"automargin\": true, \"gridcolor\": \"white\", \"linecolor\": \"white\", \"ticks\": \"\", \"title\": {\"standoff\": 15}, \"zerolinecolor\": \"white\", \"zerolinewidth\": 2}, \"yaxis\": {\"automargin\": true, \"gridcolor\": \"white\", \"linecolor\": \"white\", \"ticks\": \"\", \"title\": {\"standoff\": 15}, \"zerolinecolor\": \"white\", \"zerolinewidth\": 2}}}, \"title\": {\"font\": {\"color\": \"#4D5663\"}, \"text\": \"Runs scored by Teams in IPL 2008-19\"}, \"xaxis\": {\"gridcolor\": \"#E1E5ED\", \"showgrid\": true, \"tickfont\": {\"color\": \"#4D5663\"}, \"title\": {\"font\": {\"color\": \"#4D5663\"}, \"text\": \"Team\"}, \"zerolinecolor\": \"#E1E5ED\"}, \"yaxis\": {\"gridcolor\": \"#E1E5ED\", \"showgrid\": true, \"tickfont\": {\"color\": \"#4D5663\"}, \"title\": {\"font\": {\"color\": \"#4D5663\"}, \"text\": \"Runs\"}, \"zerolinecolor\": \"#E1E5ED\"}},\n",
       "                        {\"showLink\": true, \"linkText\": \"Export to plot.ly\", \"plotlyServerURL\": \"https://plot.ly\", \"responsive\": true}\n",
       "                    ).then(function(){\n",
       "                            \n",
       "var gd = document.getElementById('34b12725-795b-408a-bef3-2bd8ced415f8');\n",
       "var x = new MutationObserver(function (mutations, observer) {{\n",
       "        var display = window.getComputedStyle(gd).display;\n",
       "        if (!display || display === 'none') {{\n",
       "            console.log([gd, 'removed!']);\n",
       "            Plotly.purge(gd);\n",
       "            observer.disconnect();\n",
       "        }}\n",
       "}});\n",
       "\n",
       "// Listen for the removal of the full notebook cells\n",
       "var notebookContainer = gd.closest('#notebook-container');\n",
       "if (notebookContainer) {{\n",
       "    x.observe(notebookContainer, {childList: true});\n",
       "}}\n",
       "\n",
       "// Listen for the clearing of the current output cell\n",
       "var outputEl = gd.closest('.output');\n",
       "if (outputEl) {{\n",
       "    x.observe(outputEl, {childList: true});\n",
       "}}\n",
       "\n",
       "                        })\n",
       "                };\n",
       "                });\n",
       "            </script>\n",
       "        </div>"
      ]
     },
     "metadata": {},
     "output_type": "display_data"
    }
   ],
   "source": [
    "delivers['batting_team'].value_counts().iplot(kind ='bar',xTitle = 'Team',yTitle = 'Runs',title ='Runs scored by Teams in IPL 2008-19')"
   ]
  },
  {
   "cell_type": "code",
   "execution_count": 41,
   "metadata": {},
   "outputs": [],
   "source": [
    "def get_kkrvsrr(batting_team,bowling_team):\n",
    "    teams =['Kolkata Knight Riders','Rajasthan Royals']\n",
    "    \n",
    "    if batting_team in teams and bowling_team in teams:\n",
    "        return True\n",
    "    else:\n",
    "        return False"
   ]
  },
  {
   "cell_type": "code",
   "execution_count": 42,
   "metadata": {},
   "outputs": [
    {
     "data": {
      "text/plain": [
       "4783"
      ]
     },
     "execution_count": 42,
     "metadata": {},
     "output_type": "execute_result"
    }
   ],
   "source": [
    "index = [ ]\n",
    "\n",
    "for row in delivers.iterrows():\n",
    "    flag = get_kkrvsrr(row[1]['batting_team'],row[1]['bowling_team'])\n",
    "    index.append(flag)\n",
    "    \n",
    "sum(index)"
   ]
  },
  {
   "cell_type": "code",
   "execution_count": 43,
   "metadata": {},
   "outputs": [],
   "source": [
    "kkr_rr_del = delivers[index]"
   ]
  },
  {
   "cell_type": "code",
   "execution_count": 44,
   "metadata": {},
   "outputs": [
    {
     "data": {
      "text/html": [
       "<div>\n",
       "<style scoped>\n",
       "    .dataframe tbody tr th:only-of-type {\n",
       "        vertical-align: middle;\n",
       "    }\n",
       "\n",
       "    .dataframe tbody tr th {\n",
       "        vertical-align: top;\n",
       "    }\n",
       "\n",
       "    .dataframe thead th {\n",
       "        text-align: right;\n",
       "    }\n",
       "</style>\n",
       "<table border=\"1\" class=\"dataframe\">\n",
       "  <thead>\n",
       "    <tr style=\"text-align: right;\">\n",
       "      <th></th>\n",
       "      <th>match_id</th>\n",
       "      <th>inning</th>\n",
       "      <th>batting_team</th>\n",
       "      <th>bowling_team</th>\n",
       "      <th>over</th>\n",
       "      <th>ball</th>\n",
       "      <th>batsman</th>\n",
       "      <th>non_striker</th>\n",
       "      <th>bowler</th>\n",
       "      <th>is_super_over</th>\n",
       "      <th>...</th>\n",
       "      <th>bye_runs</th>\n",
       "      <th>legbye_runs</th>\n",
       "      <th>noball_runs</th>\n",
       "      <th>penalty_runs</th>\n",
       "      <th>batsman_runs</th>\n",
       "      <th>extra_runs</th>\n",
       "      <th>total_runs</th>\n",
       "      <th>player_dismissed</th>\n",
       "      <th>dismissal_kind</th>\n",
       "      <th>fielder</th>\n",
       "    </tr>\n",
       "  </thead>\n",
       "  <tbody>\n",
       "    <tr>\n",
       "      <th>18123</th>\n",
       "      <td>78</td>\n",
       "      <td>1</td>\n",
       "      <td>Rajasthan Royals</td>\n",
       "      <td>Kolkata Knight Riders</td>\n",
       "      <td>1</td>\n",
       "      <td>1</td>\n",
       "      <td>GC Smith</td>\n",
       "      <td>SA Asnodkar</td>\n",
       "      <td>AB Dinda</td>\n",
       "      <td>0</td>\n",
       "      <td>...</td>\n",
       "      <td>0</td>\n",
       "      <td>0</td>\n",
       "      <td>0</td>\n",
       "      <td>0</td>\n",
       "      <td>0</td>\n",
       "      <td>0</td>\n",
       "      <td>0</td>\n",
       "      <td>NaN</td>\n",
       "      <td>NaN</td>\n",
       "      <td>NaN</td>\n",
       "    </tr>\n",
       "    <tr>\n",
       "      <th>18124</th>\n",
       "      <td>78</td>\n",
       "      <td>1</td>\n",
       "      <td>Rajasthan Royals</td>\n",
       "      <td>Kolkata Knight Riders</td>\n",
       "      <td>1</td>\n",
       "      <td>2</td>\n",
       "      <td>GC Smith</td>\n",
       "      <td>SA Asnodkar</td>\n",
       "      <td>AB Dinda</td>\n",
       "      <td>0</td>\n",
       "      <td>...</td>\n",
       "      <td>0</td>\n",
       "      <td>0</td>\n",
       "      <td>0</td>\n",
       "      <td>0</td>\n",
       "      <td>0</td>\n",
       "      <td>0</td>\n",
       "      <td>0</td>\n",
       "      <td>NaN</td>\n",
       "      <td>NaN</td>\n",
       "      <td>NaN</td>\n",
       "    </tr>\n",
       "    <tr>\n",
       "      <th>18125</th>\n",
       "      <td>78</td>\n",
       "      <td>1</td>\n",
       "      <td>Rajasthan Royals</td>\n",
       "      <td>Kolkata Knight Riders</td>\n",
       "      <td>1</td>\n",
       "      <td>3</td>\n",
       "      <td>GC Smith</td>\n",
       "      <td>SA Asnodkar</td>\n",
       "      <td>AB Dinda</td>\n",
       "      <td>0</td>\n",
       "      <td>...</td>\n",
       "      <td>0</td>\n",
       "      <td>0</td>\n",
       "      <td>0</td>\n",
       "      <td>0</td>\n",
       "      <td>1</td>\n",
       "      <td>0</td>\n",
       "      <td>1</td>\n",
       "      <td>NaN</td>\n",
       "      <td>NaN</td>\n",
       "      <td>NaN</td>\n",
       "    </tr>\n",
       "    <tr>\n",
       "      <th>18126</th>\n",
       "      <td>78</td>\n",
       "      <td>1</td>\n",
       "      <td>Rajasthan Royals</td>\n",
       "      <td>Kolkata Knight Riders</td>\n",
       "      <td>1</td>\n",
       "      <td>4</td>\n",
       "      <td>SA Asnodkar</td>\n",
       "      <td>GC Smith</td>\n",
       "      <td>AB Dinda</td>\n",
       "      <td>0</td>\n",
       "      <td>...</td>\n",
       "      <td>0</td>\n",
       "      <td>0</td>\n",
       "      <td>0</td>\n",
       "      <td>0</td>\n",
       "      <td>4</td>\n",
       "      <td>0</td>\n",
       "      <td>4</td>\n",
       "      <td>NaN</td>\n",
       "      <td>NaN</td>\n",
       "      <td>NaN</td>\n",
       "    </tr>\n",
       "    <tr>\n",
       "      <th>18127</th>\n",
       "      <td>78</td>\n",
       "      <td>1</td>\n",
       "      <td>Rajasthan Royals</td>\n",
       "      <td>Kolkata Knight Riders</td>\n",
       "      <td>1</td>\n",
       "      <td>5</td>\n",
       "      <td>SA Asnodkar</td>\n",
       "      <td>GC Smith</td>\n",
       "      <td>AB Dinda</td>\n",
       "      <td>0</td>\n",
       "      <td>...</td>\n",
       "      <td>0</td>\n",
       "      <td>0</td>\n",
       "      <td>0</td>\n",
       "      <td>0</td>\n",
       "      <td>0</td>\n",
       "      <td>0</td>\n",
       "      <td>0</td>\n",
       "      <td>NaN</td>\n",
       "      <td>NaN</td>\n",
       "      <td>NaN</td>\n",
       "    </tr>\n",
       "  </tbody>\n",
       "</table>\n",
       "<p>5 rows × 21 columns</p>\n",
       "</div>"
      ],
      "text/plain": [
       "       match_id  inning      batting_team           bowling_team  over  ball  \\\n",
       "18123        78       1  Rajasthan Royals  Kolkata Knight Riders     1     1   \n",
       "18124        78       1  Rajasthan Royals  Kolkata Knight Riders     1     2   \n",
       "18125        78       1  Rajasthan Royals  Kolkata Knight Riders     1     3   \n",
       "18126        78       1  Rajasthan Royals  Kolkata Knight Riders     1     4   \n",
       "18127        78       1  Rajasthan Royals  Kolkata Knight Riders     1     5   \n",
       "\n",
       "           batsman  non_striker    bowler  is_super_over  ...  bye_runs  \\\n",
       "18123     GC Smith  SA Asnodkar  AB Dinda              0  ...         0   \n",
       "18124     GC Smith  SA Asnodkar  AB Dinda              0  ...         0   \n",
       "18125     GC Smith  SA Asnodkar  AB Dinda              0  ...         0   \n",
       "18126  SA Asnodkar     GC Smith  AB Dinda              0  ...         0   \n",
       "18127  SA Asnodkar     GC Smith  AB Dinda              0  ...         0   \n",
       "\n",
       "       legbye_runs  noball_runs  penalty_runs  batsman_runs  extra_runs  \\\n",
       "18123            0            0             0             0           0   \n",
       "18124            0            0             0             0           0   \n",
       "18125            0            0             0             1           0   \n",
       "18126            0            0             0             4           0   \n",
       "18127            0            0             0             0           0   \n",
       "\n",
       "       total_runs  player_dismissed dismissal_kind fielder  \n",
       "18123           0               NaN            NaN     NaN  \n",
       "18124           0               NaN            NaN     NaN  \n",
       "18125           1               NaN            NaN     NaN  \n",
       "18126           4               NaN            NaN     NaN  \n",
       "18127           0               NaN            NaN     NaN  \n",
       "\n",
       "[5 rows x 21 columns]"
      ]
     },
     "execution_count": 44,
     "metadata": {},
     "output_type": "execute_result"
    }
   ],
   "source": [
    "kkr_rr_del.head()"
   ]
  },
  {
   "cell_type": "code",
   "execution_count": 46,
   "metadata": {},
   "outputs": [
    {
     "data": {
      "text/plain": [
       "Index(['match_id', 'inning', 'batting_team', 'bowling_team', 'over', 'ball',\n",
       "       'batsman', 'non_striker', 'bowler', 'is_super_over', 'wide_runs',\n",
       "       'bye_runs', 'legbye_runs', 'noball_runs', 'penalty_runs',\n",
       "       'batsman_runs', 'extra_runs', 'total_runs', 'player_dismissed',\n",
       "       'dismissal_kind', 'fielder'],\n",
       "      dtype='object')"
      ]
     },
     "execution_count": 46,
     "metadata": {},
     "output_type": "execute_result"
    }
   ],
   "source": [
    "kkr_rr_del.columns"
   ]
  },
  {
   "cell_type": "markdown",
   "metadata": {},
   "source": [
    "# How many wickets will fall in the match"
   ]
  },
  {
   "cell_type": "code",
   "execution_count": 53,
   "metadata": {},
   "outputs": [],
   "source": [
    "total_wicket = kkr_rr_del[ pd.notnull(kkr_rr_del[\"player_dismissed\"])]\n",
    "total_wicket = total_wicket[[\"match_id\", \"batting_team\",\"over\",\"inning\", \"bowler\",\"player_dismissed\", \"dismissal_kind\", \"fielder\"]]"
   ]
  },
  {
   "cell_type": "code",
   "execution_count": 54,
   "metadata": {},
   "outputs": [
    {
     "data": {
      "text/html": [
       "<div>\n",
       "<style scoped>\n",
       "    .dataframe tbody tr th:only-of-type {\n",
       "        vertical-align: middle;\n",
       "    }\n",
       "\n",
       "    .dataframe tbody tr th {\n",
       "        vertical-align: top;\n",
       "    }\n",
       "\n",
       "    .dataframe thead th {\n",
       "        text-align: right;\n",
       "    }\n",
       "</style>\n",
       "<table border=\"1\" class=\"dataframe\">\n",
       "  <thead>\n",
       "    <tr style=\"text-align: right;\">\n",
       "      <th></th>\n",
       "      <th>match_id</th>\n",
       "      <th>batting_team</th>\n",
       "      <th>over</th>\n",
       "      <th>inning</th>\n",
       "      <th>bowler</th>\n",
       "      <th>player_dismissed</th>\n",
       "      <th>dismissal_kind</th>\n",
       "      <th>fielder</th>\n",
       "    </tr>\n",
       "  </thead>\n",
       "  <tbody>\n",
       "    <tr>\n",
       "      <th>18134</th>\n",
       "      <td>78</td>\n",
       "      <td>Rajasthan Royals</td>\n",
       "      <td>2</td>\n",
       "      <td>1</td>\n",
       "      <td>I Sharma</td>\n",
       "      <td>GC Smith</td>\n",
       "      <td>bowled</td>\n",
       "      <td>NaN</td>\n",
       "    </tr>\n",
       "    <tr>\n",
       "      <th>18165</th>\n",
       "      <td>78</td>\n",
       "      <td>Rajasthan Royals</td>\n",
       "      <td>7</td>\n",
       "      <td>1</td>\n",
       "      <td>AB Agarkar</td>\n",
       "      <td>M Kaif</td>\n",
       "      <td>caught and bowled</td>\n",
       "      <td>NaN</td>\n",
       "    </tr>\n",
       "    <tr>\n",
       "      <th>18193</th>\n",
       "      <td>78</td>\n",
       "      <td>Rajasthan Royals</td>\n",
       "      <td>12</td>\n",
       "      <td>1</td>\n",
       "      <td>Umar Gul</td>\n",
       "      <td>SA Asnodkar</td>\n",
       "      <td>caught</td>\n",
       "      <td>DJ Hussey</td>\n",
       "    </tr>\n",
       "    <tr>\n",
       "      <th>18196</th>\n",
       "      <td>78</td>\n",
       "      <td>Rajasthan Royals</td>\n",
       "      <td>12</td>\n",
       "      <td>1</td>\n",
       "      <td>Umar Gul</td>\n",
       "      <td>SR Watson</td>\n",
       "      <td>lbw</td>\n",
       "      <td>NaN</td>\n",
       "    </tr>\n",
       "    <tr>\n",
       "      <th>18231</th>\n",
       "      <td>78</td>\n",
       "      <td>Rajasthan Royals</td>\n",
       "      <td>18</td>\n",
       "      <td>1</td>\n",
       "      <td>LR Shukla</td>\n",
       "      <td>RA Jadeja</td>\n",
       "      <td>bowled</td>\n",
       "      <td>NaN</td>\n",
       "    </tr>\n",
       "    <tr>\n",
       "      <th>...</th>\n",
       "      <td>...</td>\n",
       "      <td>...</td>\n",
       "      <td>...</td>\n",
       "      <td>...</td>\n",
       "      <td>...</td>\n",
       "      <td>...</td>\n",
       "      <td>...</td>\n",
       "      <td>...</td>\n",
       "    </tr>\n",
       "    <tr>\n",
       "      <th>175110</th>\n",
       "      <td>11334</td>\n",
       "      <td>Rajasthan Royals</td>\n",
       "      <td>8</td>\n",
       "      <td>2</td>\n",
       "      <td>SP Narine</td>\n",
       "      <td>SPD Smith</td>\n",
       "      <td>bowled</td>\n",
       "      <td>NaN</td>\n",
       "    </tr>\n",
       "    <tr>\n",
       "      <th>175128</th>\n",
       "      <td>11334</td>\n",
       "      <td>Rajasthan Royals</td>\n",
       "      <td>11</td>\n",
       "      <td>2</td>\n",
       "      <td>PP Chawla</td>\n",
       "      <td>BA Stokes</td>\n",
       "      <td>caught</td>\n",
       "      <td>AD Russell</td>\n",
       "    </tr>\n",
       "    <tr>\n",
       "      <th>175145</th>\n",
       "      <td>11334</td>\n",
       "      <td>Rajasthan Royals</td>\n",
       "      <td>13</td>\n",
       "      <td>2</td>\n",
       "      <td>PP Chawla</td>\n",
       "      <td>STR Binny</td>\n",
       "      <td>caught</td>\n",
       "      <td>R Singh</td>\n",
       "    </tr>\n",
       "    <tr>\n",
       "      <th>175162</th>\n",
       "      <td>11334</td>\n",
       "      <td>Rajasthan Royals</td>\n",
       "      <td>16</td>\n",
       "      <td>2</td>\n",
       "      <td>P Krishna</td>\n",
       "      <td>S Gopal</td>\n",
       "      <td>caught</td>\n",
       "      <td>S Gill</td>\n",
       "    </tr>\n",
       "    <tr>\n",
       "      <th>175184</th>\n",
       "      <td>11334</td>\n",
       "      <td>Rajasthan Royals</td>\n",
       "      <td>19</td>\n",
       "      <td>2</td>\n",
       "      <td>AD Russell</td>\n",
       "      <td>R Parag</td>\n",
       "      <td>hit wicket</td>\n",
       "      <td>NaN</td>\n",
       "    </tr>\n",
       "  </tbody>\n",
       "</table>\n",
       "<p>244 rows × 8 columns</p>\n",
       "</div>"
      ],
      "text/plain": [
       "        match_id      batting_team  over  inning      bowler player_dismissed  \\\n",
       "18134         78  Rajasthan Royals     2       1    I Sharma         GC Smith   \n",
       "18165         78  Rajasthan Royals     7       1  AB Agarkar           M Kaif   \n",
       "18193         78  Rajasthan Royals    12       1    Umar Gul      SA Asnodkar   \n",
       "18196         78  Rajasthan Royals    12       1    Umar Gul        SR Watson   \n",
       "18231         78  Rajasthan Royals    18       1   LR Shukla        RA Jadeja   \n",
       "...          ...               ...   ...     ...         ...              ...   \n",
       "175110     11334  Rajasthan Royals     8       2   SP Narine        SPD Smith   \n",
       "175128     11334  Rajasthan Royals    11       2   PP Chawla        BA Stokes   \n",
       "175145     11334  Rajasthan Royals    13       2   PP Chawla        STR Binny   \n",
       "175162     11334  Rajasthan Royals    16       2   P Krishna          S Gopal   \n",
       "175184     11334  Rajasthan Royals    19       2  AD Russell          R Parag   \n",
       "\n",
       "           dismissal_kind     fielder  \n",
       "18134              bowled         NaN  \n",
       "18165   caught and bowled         NaN  \n",
       "18193              caught   DJ Hussey  \n",
       "18196                 lbw         NaN  \n",
       "18231              bowled         NaN  \n",
       "...                   ...         ...  \n",
       "175110             bowled         NaN  \n",
       "175128             caught  AD Russell  \n",
       "175145             caught     R Singh  \n",
       "175162             caught      S Gill  \n",
       "175184         hit wicket         NaN  \n",
       "\n",
       "[244 rows x 8 columns]"
      ]
     },
     "execution_count": 54,
     "metadata": {},
     "output_type": "execute_result"
    }
   ],
   "source": [
    "total_wicket"
   ]
  },
  {
   "cell_type": "code",
   "execution_count": 55,
   "metadata": {},
   "outputs": [
    {
     "data": {
      "text/plain": [
       "caught               128\n",
       "bowled                52\n",
       "run out               31\n",
       "lbw                   15\n",
       "stumped               13\n",
       "caught and bowled      4\n",
       "hit wicket             1\n",
       "Name: dismissal_kind, dtype: int64"
      ]
     },
     "execution_count": 55,
     "metadata": {},
     "output_type": "execute_result"
    }
   ],
   "source": [
    "total_wicket['dismissal_kind'].value_counts()"
   ]
  },
  {
   "cell_type": "code",
   "execution_count": 56,
   "metadata": {},
   "outputs": [],
   "source": [
    "wicket = total_wicket[['match_id',\"over\",'batting_team','inning','dismissal_kind']]"
   ]
  },
  {
   "cell_type": "code",
   "execution_count": 57,
   "metadata": {},
   "outputs": [
    {
     "data": {
      "text/html": [
       "<div>\n",
       "<style scoped>\n",
       "    .dataframe tbody tr th:only-of-type {\n",
       "        vertical-align: middle;\n",
       "    }\n",
       "\n",
       "    .dataframe tbody tr th {\n",
       "        vertical-align: top;\n",
       "    }\n",
       "\n",
       "    .dataframe thead th {\n",
       "        text-align: right;\n",
       "    }\n",
       "</style>\n",
       "<table border=\"1\" class=\"dataframe\">\n",
       "  <thead>\n",
       "    <tr style=\"text-align: right;\">\n",
       "      <th></th>\n",
       "      <th>match_id</th>\n",
       "      <th>over</th>\n",
       "      <th>batting_team</th>\n",
       "      <th>inning</th>\n",
       "      <th>dismissal_kind</th>\n",
       "    </tr>\n",
       "  </thead>\n",
       "  <tbody>\n",
       "    <tr>\n",
       "      <th>18134</th>\n",
       "      <td>78</td>\n",
       "      <td>2</td>\n",
       "      <td>Rajasthan Royals</td>\n",
       "      <td>1</td>\n",
       "      <td>bowled</td>\n",
       "    </tr>\n",
       "    <tr>\n",
       "      <th>18165</th>\n",
       "      <td>78</td>\n",
       "      <td>7</td>\n",
       "      <td>Rajasthan Royals</td>\n",
       "      <td>1</td>\n",
       "      <td>caught and bowled</td>\n",
       "    </tr>\n",
       "    <tr>\n",
       "      <th>18193</th>\n",
       "      <td>78</td>\n",
       "      <td>12</td>\n",
       "      <td>Rajasthan Royals</td>\n",
       "      <td>1</td>\n",
       "      <td>caught</td>\n",
       "    </tr>\n",
       "    <tr>\n",
       "      <th>18196</th>\n",
       "      <td>78</td>\n",
       "      <td>12</td>\n",
       "      <td>Rajasthan Royals</td>\n",
       "      <td>1</td>\n",
       "      <td>lbw</td>\n",
       "    </tr>\n",
       "    <tr>\n",
       "      <th>18231</th>\n",
       "      <td>78</td>\n",
       "      <td>18</td>\n",
       "      <td>Rajasthan Royals</td>\n",
       "      <td>1</td>\n",
       "      <td>bowled</td>\n",
       "    </tr>\n",
       "    <tr>\n",
       "      <th>...</th>\n",
       "      <td>...</td>\n",
       "      <td>...</td>\n",
       "      <td>...</td>\n",
       "      <td>...</td>\n",
       "      <td>...</td>\n",
       "    </tr>\n",
       "    <tr>\n",
       "      <th>175110</th>\n",
       "      <td>11334</td>\n",
       "      <td>8</td>\n",
       "      <td>Rajasthan Royals</td>\n",
       "      <td>2</td>\n",
       "      <td>bowled</td>\n",
       "    </tr>\n",
       "    <tr>\n",
       "      <th>175128</th>\n",
       "      <td>11334</td>\n",
       "      <td>11</td>\n",
       "      <td>Rajasthan Royals</td>\n",
       "      <td>2</td>\n",
       "      <td>caught</td>\n",
       "    </tr>\n",
       "    <tr>\n",
       "      <th>175145</th>\n",
       "      <td>11334</td>\n",
       "      <td>13</td>\n",
       "      <td>Rajasthan Royals</td>\n",
       "      <td>2</td>\n",
       "      <td>caught</td>\n",
       "    </tr>\n",
       "    <tr>\n",
       "      <th>175162</th>\n",
       "      <td>11334</td>\n",
       "      <td>16</td>\n",
       "      <td>Rajasthan Royals</td>\n",
       "      <td>2</td>\n",
       "      <td>caught</td>\n",
       "    </tr>\n",
       "    <tr>\n",
       "      <th>175184</th>\n",
       "      <td>11334</td>\n",
       "      <td>19</td>\n",
       "      <td>Rajasthan Royals</td>\n",
       "      <td>2</td>\n",
       "      <td>hit wicket</td>\n",
       "    </tr>\n",
       "  </tbody>\n",
       "</table>\n",
       "<p>244 rows × 5 columns</p>\n",
       "</div>"
      ],
      "text/plain": [
       "        match_id  over      batting_team  inning     dismissal_kind\n",
       "18134         78     2  Rajasthan Royals       1             bowled\n",
       "18165         78     7  Rajasthan Royals       1  caught and bowled\n",
       "18193         78    12  Rajasthan Royals       1             caught\n",
       "18196         78    12  Rajasthan Royals       1                lbw\n",
       "18231         78    18  Rajasthan Royals       1             bowled\n",
       "...          ...   ...               ...     ...                ...\n",
       "175110     11334     8  Rajasthan Royals       2             bowled\n",
       "175128     11334    11  Rajasthan Royals       2             caught\n",
       "175145     11334    13  Rajasthan Royals       2             caught\n",
       "175162     11334    16  Rajasthan Royals       2             caught\n",
       "175184     11334    19  Rajasthan Royals       2         hit wicket\n",
       "\n",
       "[244 rows x 5 columns]"
      ]
     },
     "execution_count": 57,
     "metadata": {},
     "output_type": "execute_result"
    }
   ],
   "source": [
    "wicket"
   ]
  },
  {
   "cell_type": "code",
   "execution_count": 58,
   "metadata": {},
   "outputs": [
    {
     "data": {
      "text/plain": [
       "match_id  over  batting_team           dismissal_kind   \n",
       "78        2     Kolkata Knight Riders  bowled               1\n",
       "                Rajasthan Royals       bowled               1\n",
       "          5     Kolkata Knight Riders  caught               1\n",
       "          6     Kolkata Knight Riders  run out              1\n",
       "          7     Rajasthan Royals       caught and bowled    1\n",
       "                                                           ..\n",
       "11334     13    Rajasthan Royals       caught               1\n",
       "          16    Rajasthan Royals       caught               1\n",
       "          17    Kolkata Knight Riders  caught               1\n",
       "          18    Kolkata Knight Riders  caught               1\n",
       "          19    Rajasthan Royals       hit wicket           1\n",
       "Name: dismissal_kind, Length: 232, dtype: int64"
      ]
     },
     "execution_count": 58,
     "metadata": {},
     "output_type": "execute_result"
    }
   ],
   "source": [
    "match_wickets = wicket.groupby(['match_id','over','batting_team'])['dismissal_kind'].value_counts()\n",
    "match_wickets"
   ]
  },
  {
   "cell_type": "markdown",
   "metadata": {},
   "source": [
    "# Batsman Ratio"
   ]
  },
  {
   "cell_type": "code",
   "execution_count": 123,
   "metadata": {},
   "outputs": [
    {
     "data": {
      "text/html": [
       "<div>\n",
       "<style scoped>\n",
       "    .dataframe tbody tr th:only-of-type {\n",
       "        vertical-align: middle;\n",
       "    }\n",
       "\n",
       "    .dataframe tbody tr th {\n",
       "        vertical-align: top;\n",
       "    }\n",
       "\n",
       "    .dataframe thead th {\n",
       "        text-align: right;\n",
       "    }\n",
       "</style>\n",
       "<table border=\"1\" class=\"dataframe\">\n",
       "  <thead>\n",
       "    <tr style=\"text-align: right;\">\n",
       "      <th></th>\n",
       "      <th>batsman</th>\n",
       "      <th>No. of 4s</th>\n",
       "    </tr>\n",
       "  </thead>\n",
       "  <tbody>\n",
       "    <tr>\n",
       "      <th>0</th>\n",
       "      <td>AM Rahane</td>\n",
       "      <td>35</td>\n",
       "    </tr>\n",
       "    <tr>\n",
       "      <th>1</th>\n",
       "      <td>SR Watson</td>\n",
       "      <td>33</td>\n",
       "    </tr>\n",
       "    <tr>\n",
       "      <th>2</th>\n",
       "      <td>YK Pathan</td>\n",
       "      <td>31</td>\n",
       "    </tr>\n",
       "    <tr>\n",
       "      <th>3</th>\n",
       "      <td>G Gambhir</td>\n",
       "      <td>28</td>\n",
       "    </tr>\n",
       "    <tr>\n",
       "      <th>4</th>\n",
       "      <td>SC Ganguly</td>\n",
       "      <td>24</td>\n",
       "    </tr>\n",
       "    <tr>\n",
       "      <th>...</th>\n",
       "      <td>...</td>\n",
       "      <td>...</td>\n",
       "    </tr>\n",
       "    <tr>\n",
       "      <th>97</th>\n",
       "      <td>PP Chawla</td>\n",
       "      <td>0</td>\n",
       "    </tr>\n",
       "    <tr>\n",
       "      <th>98</th>\n",
       "      <td>R Singh</td>\n",
       "      <td>0</td>\n",
       "    </tr>\n",
       "    <tr>\n",
       "      <th>99</th>\n",
       "      <td>R Vinay Kumar</td>\n",
       "      <td>0</td>\n",
       "    </tr>\n",
       "    <tr>\n",
       "      <th>100</th>\n",
       "      <td>RJ Quiney</td>\n",
       "      <td>0</td>\n",
       "    </tr>\n",
       "    <tr>\n",
       "      <th>101</th>\n",
       "      <td>M Rawat</td>\n",
       "      <td>0</td>\n",
       "    </tr>\n",
       "  </tbody>\n",
       "</table>\n",
       "<p>102 rows × 2 columns</p>\n",
       "</div>"
      ],
      "text/plain": [
       "           batsman  No. of 4s\n",
       "0        AM Rahane         35\n",
       "1        SR Watson         33\n",
       "2        YK Pathan         31\n",
       "3        G Gambhir         28\n",
       "4       SC Ganguly         24\n",
       "..             ...        ...\n",
       "97       PP Chawla          0\n",
       "98         R Singh          0\n",
       "99   R Vinay Kumar          0\n",
       "100      RJ Quiney          0\n",
       "101        M Rawat          0\n",
       "\n",
       "[102 rows x 2 columns]"
      ]
     },
     "execution_count": 123,
     "metadata": {},
     "output_type": "execute_result"
    }
   ],
   "source": [
    "Batsman_fours=kkr_rr_del.groupby(['batsman'])[\"batsman_runs\"].agg(lambda x: (x==4).sum()).reset_index().sort_values(by=\"batsman_runs\",ascending=False).reset_index(drop=True)\n",
    "# taking only batsman runs where runs = 4 \n",
    "Batsman_fours.columns = [\"batsman\", \"No. of 4s\"]\n",
    "Batsman_fours\n"
   ]
  },
  {
   "cell_type": "code",
   "execution_count": 124,
   "metadata": {},
   "outputs": [
    {
     "data": {
      "text/html": [
       "<div>\n",
       "<style scoped>\n",
       "    .dataframe tbody tr th:only-of-type {\n",
       "        vertical-align: middle;\n",
       "    }\n",
       "\n",
       "    .dataframe tbody tr th {\n",
       "        vertical-align: top;\n",
       "    }\n",
       "\n",
       "    .dataframe thead th {\n",
       "        text-align: right;\n",
       "    }\n",
       "</style>\n",
       "<table border=\"1\" class=\"dataframe\">\n",
       "  <thead>\n",
       "    <tr style=\"text-align: right;\">\n",
       "      <th></th>\n",
       "      <th>batsman</th>\n",
       "      <th>ball</th>\n",
       "    </tr>\n",
       "  </thead>\n",
       "  <tbody>\n",
       "    <tr>\n",
       "      <th>0</th>\n",
       "      <td>AM Rahane</td>\n",
       "      <td>278</td>\n",
       "    </tr>\n",
       "    <tr>\n",
       "      <th>1</th>\n",
       "      <td>SR Watson</td>\n",
       "      <td>228</td>\n",
       "    </tr>\n",
       "    <tr>\n",
       "      <th>2</th>\n",
       "      <td>YK Pathan</td>\n",
       "      <td>220</td>\n",
       "    </tr>\n",
       "    <tr>\n",
       "      <th>3</th>\n",
       "      <td>G Gambhir</td>\n",
       "      <td>217</td>\n",
       "    </tr>\n",
       "    <tr>\n",
       "      <th>4</th>\n",
       "      <td>SC Ganguly</td>\n",
       "      <td>195</td>\n",
       "    </tr>\n",
       "    <tr>\n",
       "      <th>...</th>\n",
       "      <td>...</td>\n",
       "      <td>...</td>\n",
       "    </tr>\n",
       "    <tr>\n",
       "      <th>97</th>\n",
       "      <td>SW Tait</td>\n",
       "      <td>1</td>\n",
       "    </tr>\n",
       "    <tr>\n",
       "      <th>98</th>\n",
       "      <td>T Henderson</td>\n",
       "      <td>1</td>\n",
       "    </tr>\n",
       "    <tr>\n",
       "      <th>99</th>\n",
       "      <td>MJ Lumb</td>\n",
       "      <td>1</td>\n",
       "    </tr>\n",
       "    <tr>\n",
       "      <th>100</th>\n",
       "      <td>R Vinay Kumar</td>\n",
       "      <td>1</td>\n",
       "    </tr>\n",
       "    <tr>\n",
       "      <th>101</th>\n",
       "      <td>M Rawat</td>\n",
       "      <td>1</td>\n",
       "    </tr>\n",
       "  </tbody>\n",
       "</table>\n",
       "<p>102 rows × 2 columns</p>\n",
       "</div>"
      ],
      "text/plain": [
       "           batsman  ball\n",
       "0        AM Rahane   278\n",
       "1        SR Watson   228\n",
       "2        YK Pathan   220\n",
       "3        G Gambhir   217\n",
       "4       SC Ganguly   195\n",
       "..             ...   ...\n",
       "97         SW Tait     1\n",
       "98     T Henderson     1\n",
       "99         MJ Lumb     1\n",
       "100  R Vinay Kumar     1\n",
       "101        M Rawat     1\n",
       "\n",
       "[102 rows x 2 columns]"
      ]
     },
     "execution_count": 124,
     "metadata": {},
     "output_type": "execute_result"
    }
   ],
   "source": [
    "Batsman_Ball_faced=kkr_rr_del.groupby(['batsman'])[\"ball\"].count().reset_index().sort_values(by=\"ball\",ascending=False).reset_index(drop=True)\n",
    "Batsman_Ball_faced"
   ]
  },
  {
   "cell_type": "code",
   "execution_count": 125,
   "metadata": {},
   "outputs": [
    {
     "data": {
      "text/html": [
       "<div>\n",
       "<style scoped>\n",
       "    .dataframe tbody tr th:only-of-type {\n",
       "        vertical-align: middle;\n",
       "    }\n",
       "\n",
       "    .dataframe tbody tr th {\n",
       "        vertical-align: top;\n",
       "    }\n",
       "\n",
       "    .dataframe thead th {\n",
       "        text-align: right;\n",
       "    }\n",
       "</style>\n",
       "<table border=\"1\" class=\"dataframe\">\n",
       "  <thead>\n",
       "    <tr style=\"text-align: right;\">\n",
       "      <th></th>\n",
       "      <th>batsman</th>\n",
       "      <th>No. of 1s</th>\n",
       "    </tr>\n",
       "  </thead>\n",
       "  <tbody>\n",
       "    <tr>\n",
       "      <th>0</th>\n",
       "      <td>AM Rahane</td>\n",
       "      <td>104</td>\n",
       "    </tr>\n",
       "    <tr>\n",
       "      <th>1</th>\n",
       "      <td>G Gambhir</td>\n",
       "      <td>85</td>\n",
       "    </tr>\n",
       "    <tr>\n",
       "      <th>2</th>\n",
       "      <td>SR Watson</td>\n",
       "      <td>84</td>\n",
       "    </tr>\n",
       "    <tr>\n",
       "      <th>3</th>\n",
       "      <td>YK Pathan</td>\n",
       "      <td>78</td>\n",
       "    </tr>\n",
       "    <tr>\n",
       "      <th>4</th>\n",
       "      <td>SV Samson</td>\n",
       "      <td>71</td>\n",
       "    </tr>\n",
       "    <tr>\n",
       "      <th>...</th>\n",
       "      <td>...</td>\n",
       "      <td>...</td>\n",
       "    </tr>\n",
       "    <tr>\n",
       "      <th>97</th>\n",
       "      <td>MJ Lumb</td>\n",
       "      <td>0</td>\n",
       "    </tr>\n",
       "    <tr>\n",
       "      <th>98</th>\n",
       "      <td>SW Tait</td>\n",
       "      <td>0</td>\n",
       "    </tr>\n",
       "    <tr>\n",
       "      <th>99</th>\n",
       "      <td>PP Chawla</td>\n",
       "      <td>0</td>\n",
       "    </tr>\n",
       "    <tr>\n",
       "      <th>100</th>\n",
       "      <td>R Vinay Kumar</td>\n",
       "      <td>0</td>\n",
       "    </tr>\n",
       "    <tr>\n",
       "      <th>101</th>\n",
       "      <td>Mohammad Hafeez</td>\n",
       "      <td>0</td>\n",
       "    </tr>\n",
       "  </tbody>\n",
       "</table>\n",
       "<p>102 rows × 2 columns</p>\n",
       "</div>"
      ],
      "text/plain": [
       "             batsman  No. of 1s\n",
       "0          AM Rahane        104\n",
       "1          G Gambhir         85\n",
       "2          SR Watson         84\n",
       "3          YK Pathan         78\n",
       "4          SV Samson         71\n",
       "..               ...        ...\n",
       "97           MJ Lumb          0\n",
       "98           SW Tait          0\n",
       "99         PP Chawla          0\n",
       "100    R Vinay Kumar          0\n",
       "101  Mohammad Hafeez          0\n",
       "\n",
       "[102 rows x 2 columns]"
      ]
     },
     "execution_count": 125,
     "metadata": {},
     "output_type": "execute_result"
    }
   ],
   "source": [
    "Batsman_singles=kkr_rr_del.groupby(['batsman'])[\"batsman_runs\"].agg(lambda x: (x==1).sum()).reset_index().sort_values(by=\"batsman_runs\",ascending=False).reset_index(drop=True)\n",
    "# taking only batsman runs where runs = 1 \n",
    "Batsman_singles.columns = [\"batsman\", \"No. of 1s\"]\n",
    "Batsman_singles"
   ]
  },
  {
   "cell_type": "code",
   "execution_count": 126,
   "metadata": {},
   "outputs": [
    {
     "data": {
      "text/html": [
       "<div>\n",
       "<style scoped>\n",
       "    .dataframe tbody tr th:only-of-type {\n",
       "        vertical-align: middle;\n",
       "    }\n",
       "\n",
       "    .dataframe tbody tr th {\n",
       "        vertical-align: top;\n",
       "    }\n",
       "\n",
       "    .dataframe thead th {\n",
       "        text-align: right;\n",
       "    }\n",
       "</style>\n",
       "<table border=\"1\" class=\"dataframe\">\n",
       "  <thead>\n",
       "    <tr style=\"text-align: right;\">\n",
       "      <th></th>\n",
       "      <th>batsman</th>\n",
       "      <th>No. of 2s</th>\n",
       "    </tr>\n",
       "  </thead>\n",
       "  <tbody>\n",
       "    <tr>\n",
       "      <th>0</th>\n",
       "      <td>AM Rahane</td>\n",
       "      <td>22</td>\n",
       "    </tr>\n",
       "    <tr>\n",
       "      <th>1</th>\n",
       "      <td>G Gambhir</td>\n",
       "      <td>17</td>\n",
       "    </tr>\n",
       "    <tr>\n",
       "      <th>2</th>\n",
       "      <td>SR Watson</td>\n",
       "      <td>14</td>\n",
       "    </tr>\n",
       "    <tr>\n",
       "      <th>3</th>\n",
       "      <td>SC Ganguly</td>\n",
       "      <td>14</td>\n",
       "    </tr>\n",
       "    <tr>\n",
       "      <th>4</th>\n",
       "      <td>SPD Smith</td>\n",
       "      <td>13</td>\n",
       "    </tr>\n",
       "    <tr>\n",
       "      <th>...</th>\n",
       "      <td>...</td>\n",
       "      <td>...</td>\n",
       "    </tr>\n",
       "    <tr>\n",
       "      <th>97</th>\n",
       "      <td>R Singh</td>\n",
       "      <td>0</td>\n",
       "    </tr>\n",
       "    <tr>\n",
       "      <th>98</th>\n",
       "      <td>R Vinay Kumar</td>\n",
       "      <td>0</td>\n",
       "    </tr>\n",
       "    <tr>\n",
       "      <th>99</th>\n",
       "      <td>RJ Quiney</td>\n",
       "      <td>0</td>\n",
       "    </tr>\n",
       "    <tr>\n",
       "      <th>100</th>\n",
       "      <td>RN ten Doeschate</td>\n",
       "      <td>0</td>\n",
       "    </tr>\n",
       "    <tr>\n",
       "      <th>101</th>\n",
       "      <td>M Rawat</td>\n",
       "      <td>0</td>\n",
       "    </tr>\n",
       "  </tbody>\n",
       "</table>\n",
       "<p>102 rows × 2 columns</p>\n",
       "</div>"
      ],
      "text/plain": [
       "              batsman  No. of 2s\n",
       "0           AM Rahane         22\n",
       "1           G Gambhir         17\n",
       "2           SR Watson         14\n",
       "3          SC Ganguly         14\n",
       "4           SPD Smith         13\n",
       "..                ...        ...\n",
       "97            R Singh          0\n",
       "98      R Vinay Kumar          0\n",
       "99          RJ Quiney          0\n",
       "100  RN ten Doeschate          0\n",
       "101           M Rawat          0\n",
       "\n",
       "[102 rows x 2 columns]"
      ]
     },
     "execution_count": 126,
     "metadata": {},
     "output_type": "execute_result"
    }
   ],
   "source": [
    "Batsman_doubles=kkr_rr_del.groupby(['batsman'])[\"batsman_runs\"].agg(lambda x: (x==2).sum()).reset_index().sort_values(by=\"batsman_runs\",ascending=False).reset_index(drop=True)\n",
    "# taking only batsman runs where runs = 2 \n",
    "Batsman_doubles.columns = [\"batsman\", \"No. of 2s\"]\n",
    "Batsman_doubles"
   ]
  },
  {
   "cell_type": "code",
   "execution_count": 127,
   "metadata": {},
   "outputs": [
    {
     "data": {
      "text/html": [
       "<div>\n",
       "<style scoped>\n",
       "    .dataframe tbody tr th:only-of-type {\n",
       "        vertical-align: middle;\n",
       "    }\n",
       "\n",
       "    .dataframe tbody tr th {\n",
       "        vertical-align: top;\n",
       "    }\n",
       "\n",
       "    .dataframe thead th {\n",
       "        text-align: right;\n",
       "    }\n",
       "</style>\n",
       "<table border=\"1\" class=\"dataframe\">\n",
       "  <thead>\n",
       "    <tr style=\"text-align: right;\">\n",
       "      <th></th>\n",
       "      <th>batsman</th>\n",
       "      <th>No. of 3s</th>\n",
       "    </tr>\n",
       "  </thead>\n",
       "  <tbody>\n",
       "    <tr>\n",
       "      <th>0</th>\n",
       "      <td>MK Tiwary</td>\n",
       "      <td>3</td>\n",
       "    </tr>\n",
       "    <tr>\n",
       "      <th>1</th>\n",
       "      <td>G Gambhir</td>\n",
       "      <td>2</td>\n",
       "    </tr>\n",
       "    <tr>\n",
       "      <th>2</th>\n",
       "      <td>SPD Smith</td>\n",
       "      <td>1</td>\n",
       "    </tr>\n",
       "    <tr>\n",
       "      <th>3</th>\n",
       "      <td>OA Shah</td>\n",
       "      <td>1</td>\n",
       "    </tr>\n",
       "    <tr>\n",
       "      <th>4</th>\n",
       "      <td>KK Nair</td>\n",
       "      <td>1</td>\n",
       "    </tr>\n",
       "    <tr>\n",
       "      <th>...</th>\n",
       "      <td>...</td>\n",
       "      <td>...</td>\n",
       "    </tr>\n",
       "    <tr>\n",
       "      <th>97</th>\n",
       "      <td>I Sharma</td>\n",
       "      <td>0</td>\n",
       "    </tr>\n",
       "    <tr>\n",
       "      <th>98</th>\n",
       "      <td>H Klaasen</td>\n",
       "      <td>0</td>\n",
       "    </tr>\n",
       "    <tr>\n",
       "      <th>99</th>\n",
       "      <td>FY Fazal</td>\n",
       "      <td>0</td>\n",
       "    </tr>\n",
       "    <tr>\n",
       "      <th>100</th>\n",
       "      <td>DS Kulkarni</td>\n",
       "      <td>0</td>\n",
       "    </tr>\n",
       "    <tr>\n",
       "      <th>101</th>\n",
       "      <td>M Rawat</td>\n",
       "      <td>0</td>\n",
       "    </tr>\n",
       "  </tbody>\n",
       "</table>\n",
       "<p>102 rows × 2 columns</p>\n",
       "</div>"
      ],
      "text/plain": [
       "         batsman  No. of 3s\n",
       "0      MK Tiwary          3\n",
       "1      G Gambhir          2\n",
       "2      SPD Smith          1\n",
       "3        OA Shah          1\n",
       "4        KK Nair          1\n",
       "..           ...        ...\n",
       "97      I Sharma          0\n",
       "98     H Klaasen          0\n",
       "99      FY Fazal          0\n",
       "100  DS Kulkarni          0\n",
       "101      M Rawat          0\n",
       "\n",
       "[102 rows x 2 columns]"
      ]
     },
     "execution_count": 127,
     "metadata": {},
     "output_type": "execute_result"
    }
   ],
   "source": [
    "Batsman_triples=kkr_rr_del.groupby(['batsman'])[\"batsman_runs\"].agg(lambda x: (x==3).sum()).reset_index().sort_values(by=\"batsman_runs\",ascending=False).reset_index(drop=True)\n",
    "# taking only batsman runs where runs = 3 \n",
    "Batsman_triples.columns = [\"batsman\", \"No. of 3s\"]\n",
    "Batsman_triples"
   ]
  },
  {
   "cell_type": "code",
   "execution_count": 128,
   "metadata": {},
   "outputs": [
    {
     "data": {
      "text/html": [
       "<div>\n",
       "<style scoped>\n",
       "    .dataframe tbody tr th:only-of-type {\n",
       "        vertical-align: middle;\n",
       "    }\n",
       "\n",
       "    .dataframe tbody tr th {\n",
       "        vertical-align: top;\n",
       "    }\n",
       "\n",
       "    .dataframe thead th {\n",
       "        text-align: right;\n",
       "    }\n",
       "</style>\n",
       "<table border=\"1\" class=\"dataframe\">\n",
       "  <thead>\n",
       "    <tr style=\"text-align: right;\">\n",
       "      <th></th>\n",
       "      <th>batsman</th>\n",
       "      <th>batsman_runs</th>\n",
       "    </tr>\n",
       "  </thead>\n",
       "  <tbody>\n",
       "    <tr>\n",
       "      <th>0</th>\n",
       "      <td>AM Rahane</td>\n",
       "      <td>339</td>\n",
       "    </tr>\n",
       "    <tr>\n",
       "      <th>1</th>\n",
       "      <td>YK Pathan</td>\n",
       "      <td>310</td>\n",
       "    </tr>\n",
       "    <tr>\n",
       "      <th>2</th>\n",
       "      <td>SR Watson</td>\n",
       "      <td>310</td>\n",
       "    </tr>\n",
       "    <tr>\n",
       "      <th>3</th>\n",
       "      <td>G Gambhir</td>\n",
       "      <td>255</td>\n",
       "    </tr>\n",
       "    <tr>\n",
       "      <th>4</th>\n",
       "      <td>SC Ganguly</td>\n",
       "      <td>237</td>\n",
       "    </tr>\n",
       "    <tr>\n",
       "      <th>...</th>\n",
       "      <td>...</td>\n",
       "      <td>...</td>\n",
       "    </tr>\n",
       "    <tr>\n",
       "      <th>97</th>\n",
       "      <td>SW Tait</td>\n",
       "      <td>0</td>\n",
       "    </tr>\n",
       "    <tr>\n",
       "      <th>98</th>\n",
       "      <td>R Vinay Kumar</td>\n",
       "      <td>0</td>\n",
       "    </tr>\n",
       "    <tr>\n",
       "      <th>99</th>\n",
       "      <td>PP Chawla</td>\n",
       "      <td>0</td>\n",
       "    </tr>\n",
       "    <tr>\n",
       "      <th>100</th>\n",
       "      <td>T Henderson</td>\n",
       "      <td>0</td>\n",
       "    </tr>\n",
       "    <tr>\n",
       "      <th>101</th>\n",
       "      <td>MJ Lumb</td>\n",
       "      <td>0</td>\n",
       "    </tr>\n",
       "  </tbody>\n",
       "</table>\n",
       "<p>102 rows × 2 columns</p>\n",
       "</div>"
      ],
      "text/plain": [
       "           batsman  batsman_runs\n",
       "0        AM Rahane           339\n",
       "1        YK Pathan           310\n",
       "2        SR Watson           310\n",
       "3        G Gambhir           255\n",
       "4       SC Ganguly           237\n",
       "..             ...           ...\n",
       "97         SW Tait             0\n",
       "98   R Vinay Kumar             0\n",
       "99       PP Chawla             0\n",
       "100    T Henderson             0\n",
       "101        MJ Lumb             0\n",
       "\n",
       "[102 rows x 2 columns]"
      ]
     },
     "execution_count": 128,
     "metadata": {},
     "output_type": "execute_result"
    }
   ],
   "source": [
    "Batsman_score=kkr_rr_del.groupby('batsman')[\"batsman_runs\"].agg(sum).reset_index().sort_values(by=\"batsman_runs\",ascending=False).reset_index(drop=True)\n",
    "Batsman_score"
   ]
  },
  {
   "cell_type": "code",
   "execution_count": 129,
   "metadata": {},
   "outputs": [],
   "source": [
    "Batsman_1s_2s_3s = pd.merge(Batsman_singles,Batsman_doubles,on='batsman')"
   ]
  },
  {
   "cell_type": "code",
   "execution_count": 130,
   "metadata": {},
   "outputs": [],
   "source": [
    "Batsman_1s_2s_3s = pd.merge(Batsman_1s_2s_3s,Batsman_triples,on='batsman')"
   ]
  },
  {
   "cell_type": "code",
   "execution_count": 131,
   "metadata": {},
   "outputs": [
    {
     "data": {
      "text/html": [
       "<div>\n",
       "<style scoped>\n",
       "    .dataframe tbody tr th:only-of-type {\n",
       "        vertical-align: middle;\n",
       "    }\n",
       "\n",
       "    .dataframe tbody tr th {\n",
       "        vertical-align: top;\n",
       "    }\n",
       "\n",
       "    .dataframe thead th {\n",
       "        text-align: right;\n",
       "    }\n",
       "</style>\n",
       "<table border=\"1\" class=\"dataframe\">\n",
       "  <thead>\n",
       "    <tr style=\"text-align: right;\">\n",
       "      <th></th>\n",
       "      <th>batsman</th>\n",
       "      <th>No. of 1s</th>\n",
       "      <th>No. of 2s</th>\n",
       "      <th>No. of 3s</th>\n",
       "    </tr>\n",
       "  </thead>\n",
       "  <tbody>\n",
       "    <tr>\n",
       "      <th>0</th>\n",
       "      <td>AM Rahane</td>\n",
       "      <td>104</td>\n",
       "      <td>22</td>\n",
       "      <td>1</td>\n",
       "    </tr>\n",
       "    <tr>\n",
       "      <th>1</th>\n",
       "      <td>G Gambhir</td>\n",
       "      <td>85</td>\n",
       "      <td>17</td>\n",
       "      <td>2</td>\n",
       "    </tr>\n",
       "    <tr>\n",
       "      <th>2</th>\n",
       "      <td>SR Watson</td>\n",
       "      <td>84</td>\n",
       "      <td>14</td>\n",
       "      <td>0</td>\n",
       "    </tr>\n",
       "    <tr>\n",
       "      <th>3</th>\n",
       "      <td>YK Pathan</td>\n",
       "      <td>78</td>\n",
       "      <td>12</td>\n",
       "      <td>0</td>\n",
       "    </tr>\n",
       "    <tr>\n",
       "      <th>4</th>\n",
       "      <td>SV Samson</td>\n",
       "      <td>71</td>\n",
       "      <td>11</td>\n",
       "      <td>1</td>\n",
       "    </tr>\n",
       "    <tr>\n",
       "      <th>...</th>\n",
       "      <td>...</td>\n",
       "      <td>...</td>\n",
       "      <td>...</td>\n",
       "      <td>...</td>\n",
       "    </tr>\n",
       "    <tr>\n",
       "      <th>97</th>\n",
       "      <td>MJ Lumb</td>\n",
       "      <td>0</td>\n",
       "      <td>0</td>\n",
       "      <td>0</td>\n",
       "    </tr>\n",
       "    <tr>\n",
       "      <th>98</th>\n",
       "      <td>SW Tait</td>\n",
       "      <td>0</td>\n",
       "      <td>0</td>\n",
       "      <td>0</td>\n",
       "    </tr>\n",
       "    <tr>\n",
       "      <th>99</th>\n",
       "      <td>PP Chawla</td>\n",
       "      <td>0</td>\n",
       "      <td>0</td>\n",
       "      <td>0</td>\n",
       "    </tr>\n",
       "    <tr>\n",
       "      <th>100</th>\n",
       "      <td>R Vinay Kumar</td>\n",
       "      <td>0</td>\n",
       "      <td>0</td>\n",
       "      <td>0</td>\n",
       "    </tr>\n",
       "    <tr>\n",
       "      <th>101</th>\n",
       "      <td>Mohammad Hafeez</td>\n",
       "      <td>0</td>\n",
       "      <td>0</td>\n",
       "      <td>0</td>\n",
       "    </tr>\n",
       "  </tbody>\n",
       "</table>\n",
       "<p>102 rows × 4 columns</p>\n",
       "</div>"
      ],
      "text/plain": [
       "             batsman  No. of 1s  No. of 2s  No. of 3s\n",
       "0          AM Rahane        104         22          1\n",
       "1          G Gambhir         85         17          2\n",
       "2          SR Watson         84         14          0\n",
       "3          YK Pathan         78         12          0\n",
       "4          SV Samson         71         11          1\n",
       "..               ...        ...        ...        ...\n",
       "97           MJ Lumb          0          0          0\n",
       "98           SW Tait          0          0          0\n",
       "99         PP Chawla          0          0          0\n",
       "100    R Vinay Kumar          0          0          0\n",
       "101  Mohammad Hafeez          0          0          0\n",
       "\n",
       "[102 rows x 4 columns]"
      ]
     },
     "execution_count": 131,
     "metadata": {},
     "output_type": "execute_result"
    }
   ],
   "source": [
    "Batsman_1s_2s_3s"
   ]
  },
  {
   "cell_type": "code",
   "execution_count": 132,
   "metadata": {},
   "outputs": [],
   "source": [
    "Batsman_1s_2s_3s['No_1s2s3s'] =Batsman_1s_2s_3s['No. of 1s']+Batsman_1s_2s_3s['No. of 2s']+Batsman_1s_2s_3s['No. of 3s']"
   ]
  },
  {
   "cell_type": "code",
   "execution_count": 133,
   "metadata": {},
   "outputs": [
    {
     "data": {
      "text/html": [
       "<div>\n",
       "<style scoped>\n",
       "    .dataframe tbody tr th:only-of-type {\n",
       "        vertical-align: middle;\n",
       "    }\n",
       "\n",
       "    .dataframe tbody tr th {\n",
       "        vertical-align: top;\n",
       "    }\n",
       "\n",
       "    .dataframe thead th {\n",
       "        text-align: right;\n",
       "    }\n",
       "</style>\n",
       "<table border=\"1\" class=\"dataframe\">\n",
       "  <thead>\n",
       "    <tr style=\"text-align: right;\">\n",
       "      <th></th>\n",
       "      <th>batsman</th>\n",
       "      <th>No. of 1s</th>\n",
       "      <th>No. of 2s</th>\n",
       "      <th>No. of 3s</th>\n",
       "      <th>No_1s2s3s</th>\n",
       "    </tr>\n",
       "  </thead>\n",
       "  <tbody>\n",
       "    <tr>\n",
       "      <th>0</th>\n",
       "      <td>AM Rahane</td>\n",
       "      <td>104</td>\n",
       "      <td>22</td>\n",
       "      <td>1</td>\n",
       "      <td>127</td>\n",
       "    </tr>\n",
       "    <tr>\n",
       "      <th>1</th>\n",
       "      <td>G Gambhir</td>\n",
       "      <td>85</td>\n",
       "      <td>17</td>\n",
       "      <td>2</td>\n",
       "      <td>104</td>\n",
       "    </tr>\n",
       "    <tr>\n",
       "      <th>2</th>\n",
       "      <td>SR Watson</td>\n",
       "      <td>84</td>\n",
       "      <td>14</td>\n",
       "      <td>0</td>\n",
       "      <td>98</td>\n",
       "    </tr>\n",
       "    <tr>\n",
       "      <th>3</th>\n",
       "      <td>YK Pathan</td>\n",
       "      <td>78</td>\n",
       "      <td>12</td>\n",
       "      <td>0</td>\n",
       "      <td>90</td>\n",
       "    </tr>\n",
       "    <tr>\n",
       "      <th>4</th>\n",
       "      <td>SV Samson</td>\n",
       "      <td>71</td>\n",
       "      <td>11</td>\n",
       "      <td>1</td>\n",
       "      <td>83</td>\n",
       "    </tr>\n",
       "    <tr>\n",
       "      <th>...</th>\n",
       "      <td>...</td>\n",
       "      <td>...</td>\n",
       "      <td>...</td>\n",
       "      <td>...</td>\n",
       "      <td>...</td>\n",
       "    </tr>\n",
       "    <tr>\n",
       "      <th>97</th>\n",
       "      <td>MJ Lumb</td>\n",
       "      <td>0</td>\n",
       "      <td>0</td>\n",
       "      <td>0</td>\n",
       "      <td>0</td>\n",
       "    </tr>\n",
       "    <tr>\n",
       "      <th>98</th>\n",
       "      <td>SW Tait</td>\n",
       "      <td>0</td>\n",
       "      <td>0</td>\n",
       "      <td>0</td>\n",
       "      <td>0</td>\n",
       "    </tr>\n",
       "    <tr>\n",
       "      <th>99</th>\n",
       "      <td>PP Chawla</td>\n",
       "      <td>0</td>\n",
       "      <td>0</td>\n",
       "      <td>0</td>\n",
       "      <td>0</td>\n",
       "    </tr>\n",
       "    <tr>\n",
       "      <th>100</th>\n",
       "      <td>R Vinay Kumar</td>\n",
       "      <td>0</td>\n",
       "      <td>0</td>\n",
       "      <td>0</td>\n",
       "      <td>0</td>\n",
       "    </tr>\n",
       "    <tr>\n",
       "      <th>101</th>\n",
       "      <td>Mohammad Hafeez</td>\n",
       "      <td>0</td>\n",
       "      <td>0</td>\n",
       "      <td>0</td>\n",
       "      <td>0</td>\n",
       "    </tr>\n",
       "  </tbody>\n",
       "</table>\n",
       "<p>102 rows × 5 columns</p>\n",
       "</div>"
      ],
      "text/plain": [
       "             batsman  No. of 1s  No. of 2s  No. of 3s  No_1s2s3s\n",
       "0          AM Rahane        104         22          1        127\n",
       "1          G Gambhir         85         17          2        104\n",
       "2          SR Watson         84         14          0         98\n",
       "3          YK Pathan         78         12          0         90\n",
       "4          SV Samson         71         11          1         83\n",
       "..               ...        ...        ...        ...        ...\n",
       "97           MJ Lumb          0          0          0          0\n",
       "98           SW Tait          0          0          0          0\n",
       "99         PP Chawla          0          0          0          0\n",
       "100    R Vinay Kumar          0          0          0          0\n",
       "101  Mohammad Hafeez          0          0          0          0\n",
       "\n",
       "[102 rows x 5 columns]"
      ]
     },
     "execution_count": 133,
     "metadata": {},
     "output_type": "execute_result"
    }
   ],
   "source": [
    "Batsman_1s_2s_3s\n"
   ]
  },
  {
   "cell_type": "code",
   "execution_count": 134,
   "metadata": {},
   "outputs": [],
   "source": [
    "Batsman_runs_ratio = pd.merge(Batsman_1s_2s_3s ,Batsman_fours,on ='batsman')"
   ]
  },
  {
   "cell_type": "code",
   "execution_count": 135,
   "metadata": {},
   "outputs": [
    {
     "data": {
      "text/html": [
       "<div>\n",
       "<style scoped>\n",
       "    .dataframe tbody tr th:only-of-type {\n",
       "        vertical-align: middle;\n",
       "    }\n",
       "\n",
       "    .dataframe tbody tr th {\n",
       "        vertical-align: top;\n",
       "    }\n",
       "\n",
       "    .dataframe thead th {\n",
       "        text-align: right;\n",
       "    }\n",
       "</style>\n",
       "<table border=\"1\" class=\"dataframe\">\n",
       "  <thead>\n",
       "    <tr style=\"text-align: right;\">\n",
       "      <th></th>\n",
       "      <th>batsman</th>\n",
       "      <th>No. of 1s</th>\n",
       "      <th>No. of 2s</th>\n",
       "      <th>No. of 3s</th>\n",
       "      <th>No_1s2s3s</th>\n",
       "      <th>No. of 4s</th>\n",
       "    </tr>\n",
       "  </thead>\n",
       "  <tbody>\n",
       "    <tr>\n",
       "      <th>0</th>\n",
       "      <td>AM Rahane</td>\n",
       "      <td>104</td>\n",
       "      <td>22</td>\n",
       "      <td>1</td>\n",
       "      <td>127</td>\n",
       "      <td>35</td>\n",
       "    </tr>\n",
       "    <tr>\n",
       "      <th>1</th>\n",
       "      <td>G Gambhir</td>\n",
       "      <td>85</td>\n",
       "      <td>17</td>\n",
       "      <td>2</td>\n",
       "      <td>104</td>\n",
       "      <td>28</td>\n",
       "    </tr>\n",
       "    <tr>\n",
       "      <th>2</th>\n",
       "      <td>SR Watson</td>\n",
       "      <td>84</td>\n",
       "      <td>14</td>\n",
       "      <td>0</td>\n",
       "      <td>98</td>\n",
       "      <td>33</td>\n",
       "    </tr>\n",
       "    <tr>\n",
       "      <th>3</th>\n",
       "      <td>YK Pathan</td>\n",
       "      <td>78</td>\n",
       "      <td>12</td>\n",
       "      <td>0</td>\n",
       "      <td>90</td>\n",
       "      <td>31</td>\n",
       "    </tr>\n",
       "    <tr>\n",
       "      <th>4</th>\n",
       "      <td>SV Samson</td>\n",
       "      <td>71</td>\n",
       "      <td>11</td>\n",
       "      <td>1</td>\n",
       "      <td>83</td>\n",
       "      <td>16</td>\n",
       "    </tr>\n",
       "    <tr>\n",
       "      <th>...</th>\n",
       "      <td>...</td>\n",
       "      <td>...</td>\n",
       "      <td>...</td>\n",
       "      <td>...</td>\n",
       "      <td>...</td>\n",
       "      <td>...</td>\n",
       "    </tr>\n",
       "    <tr>\n",
       "      <th>97</th>\n",
       "      <td>MJ Lumb</td>\n",
       "      <td>0</td>\n",
       "      <td>0</td>\n",
       "      <td>0</td>\n",
       "      <td>0</td>\n",
       "      <td>0</td>\n",
       "    </tr>\n",
       "    <tr>\n",
       "      <th>98</th>\n",
       "      <td>SW Tait</td>\n",
       "      <td>0</td>\n",
       "      <td>0</td>\n",
       "      <td>0</td>\n",
       "      <td>0</td>\n",
       "      <td>0</td>\n",
       "    </tr>\n",
       "    <tr>\n",
       "      <th>99</th>\n",
       "      <td>PP Chawla</td>\n",
       "      <td>0</td>\n",
       "      <td>0</td>\n",
       "      <td>0</td>\n",
       "      <td>0</td>\n",
       "      <td>0</td>\n",
       "    </tr>\n",
       "    <tr>\n",
       "      <th>100</th>\n",
       "      <td>R Vinay Kumar</td>\n",
       "      <td>0</td>\n",
       "      <td>0</td>\n",
       "      <td>0</td>\n",
       "      <td>0</td>\n",
       "      <td>0</td>\n",
       "    </tr>\n",
       "    <tr>\n",
       "      <th>101</th>\n",
       "      <td>Mohammad Hafeez</td>\n",
       "      <td>0</td>\n",
       "      <td>0</td>\n",
       "      <td>0</td>\n",
       "      <td>0</td>\n",
       "      <td>1</td>\n",
       "    </tr>\n",
       "  </tbody>\n",
       "</table>\n",
       "<p>102 rows × 6 columns</p>\n",
       "</div>"
      ],
      "text/plain": [
       "             batsman  No. of 1s  No. of 2s  No. of 3s  No_1s2s3s  No. of 4s\n",
       "0          AM Rahane        104         22          1        127         35\n",
       "1          G Gambhir         85         17          2        104         28\n",
       "2          SR Watson         84         14          0         98         33\n",
       "3          YK Pathan         78         12          0         90         31\n",
       "4          SV Samson         71         11          1         83         16\n",
       "..               ...        ...        ...        ...        ...        ...\n",
       "97           MJ Lumb          0          0          0          0          0\n",
       "98           SW Tait          0          0          0          0          0\n",
       "99         PP Chawla          0          0          0          0          0\n",
       "100    R Vinay Kumar          0          0          0          0          0\n",
       "101  Mohammad Hafeez          0          0          0          0          1\n",
       "\n",
       "[102 rows x 6 columns]"
      ]
     },
     "execution_count": 135,
     "metadata": {},
     "output_type": "execute_result"
    }
   ],
   "source": [
    "Batsman_runs_ratio"
   ]
  },
  {
   "cell_type": "code",
   "execution_count": 136,
   "metadata": {},
   "outputs": [],
   "source": [
    "Batsman_runs_ratio = pd.merge(Batsman_runs_ratio,Batsman_Ball_faced,on='batsman')"
   ]
  },
  {
   "cell_type": "code",
   "execution_count": 137,
   "metadata": {},
   "outputs": [],
   "source": [
    "Batsman_runs_ratio = pd.merge(Batsman_runs_ratio,Batsman_score,on='batsman')"
   ]
  },
  {
   "cell_type": "code",
   "execution_count": 138,
   "metadata": {},
   "outputs": [],
   "source": [
    "Batsman_runs_ratio['Run_Diff'] = Batsman_runs_ratio['No_1s2s3s'] - Batsman_runs_ratio['No. of 4s']"
   ]
  },
  {
   "cell_type": "code",
   "execution_count": 139,
   "metadata": {},
   "outputs": [
    {
     "data": {
      "text/html": [
       "<div>\n",
       "<style scoped>\n",
       "    .dataframe tbody tr th:only-of-type {\n",
       "        vertical-align: middle;\n",
       "    }\n",
       "\n",
       "    .dataframe tbody tr th {\n",
       "        vertical-align: top;\n",
       "    }\n",
       "\n",
       "    .dataframe thead th {\n",
       "        text-align: right;\n",
       "    }\n",
       "</style>\n",
       "<table border=\"1\" class=\"dataframe\">\n",
       "  <thead>\n",
       "    <tr style=\"text-align: right;\">\n",
       "      <th></th>\n",
       "      <th>batsman</th>\n",
       "      <th>No. of 1s</th>\n",
       "      <th>No. of 2s</th>\n",
       "      <th>No. of 3s</th>\n",
       "      <th>No_1s2s3s</th>\n",
       "      <th>No. of 4s</th>\n",
       "      <th>ball</th>\n",
       "      <th>batsman_runs</th>\n",
       "      <th>Run_Diff</th>\n",
       "    </tr>\n",
       "  </thead>\n",
       "  <tbody>\n",
       "    <tr>\n",
       "      <th>0</th>\n",
       "      <td>AM Rahane</td>\n",
       "      <td>104</td>\n",
       "      <td>22</td>\n",
       "      <td>1</td>\n",
       "      <td>127</td>\n",
       "      <td>35</td>\n",
       "      <td>278</td>\n",
       "      <td>339</td>\n",
       "      <td>92</td>\n",
       "    </tr>\n",
       "    <tr>\n",
       "      <th>1</th>\n",
       "      <td>G Gambhir</td>\n",
       "      <td>85</td>\n",
       "      <td>17</td>\n",
       "      <td>2</td>\n",
       "      <td>104</td>\n",
       "      <td>28</td>\n",
       "      <td>217</td>\n",
       "      <td>255</td>\n",
       "      <td>76</td>\n",
       "    </tr>\n",
       "    <tr>\n",
       "      <th>2</th>\n",
       "      <td>SR Watson</td>\n",
       "      <td>84</td>\n",
       "      <td>14</td>\n",
       "      <td>0</td>\n",
       "      <td>98</td>\n",
       "      <td>33</td>\n",
       "      <td>228</td>\n",
       "      <td>310</td>\n",
       "      <td>65</td>\n",
       "    </tr>\n",
       "    <tr>\n",
       "      <th>3</th>\n",
       "      <td>YK Pathan</td>\n",
       "      <td>78</td>\n",
       "      <td>12</td>\n",
       "      <td>0</td>\n",
       "      <td>90</td>\n",
       "      <td>31</td>\n",
       "      <td>220</td>\n",
       "      <td>310</td>\n",
       "      <td>59</td>\n",
       "    </tr>\n",
       "    <tr>\n",
       "      <th>4</th>\n",
       "      <td>SV Samson</td>\n",
       "      <td>71</td>\n",
       "      <td>11</td>\n",
       "      <td>1</td>\n",
       "      <td>83</td>\n",
       "      <td>16</td>\n",
       "      <td>168</td>\n",
       "      <td>196</td>\n",
       "      <td>67</td>\n",
       "    </tr>\n",
       "    <tr>\n",
       "      <th>...</th>\n",
       "      <td>...</td>\n",
       "      <td>...</td>\n",
       "      <td>...</td>\n",
       "      <td>...</td>\n",
       "      <td>...</td>\n",
       "      <td>...</td>\n",
       "      <td>...</td>\n",
       "      <td>...</td>\n",
       "      <td>...</td>\n",
       "    </tr>\n",
       "    <tr>\n",
       "      <th>97</th>\n",
       "      <td>MJ Lumb</td>\n",
       "      <td>0</td>\n",
       "      <td>0</td>\n",
       "      <td>0</td>\n",
       "      <td>0</td>\n",
       "      <td>0</td>\n",
       "      <td>1</td>\n",
       "      <td>0</td>\n",
       "      <td>0</td>\n",
       "    </tr>\n",
       "    <tr>\n",
       "      <th>98</th>\n",
       "      <td>SW Tait</td>\n",
       "      <td>0</td>\n",
       "      <td>0</td>\n",
       "      <td>0</td>\n",
       "      <td>0</td>\n",
       "      <td>0</td>\n",
       "      <td>1</td>\n",
       "      <td>0</td>\n",
       "      <td>0</td>\n",
       "    </tr>\n",
       "    <tr>\n",
       "      <th>99</th>\n",
       "      <td>PP Chawla</td>\n",
       "      <td>0</td>\n",
       "      <td>0</td>\n",
       "      <td>0</td>\n",
       "      <td>0</td>\n",
       "      <td>0</td>\n",
       "      <td>2</td>\n",
       "      <td>0</td>\n",
       "      <td>0</td>\n",
       "    </tr>\n",
       "    <tr>\n",
       "      <th>100</th>\n",
       "      <td>R Vinay Kumar</td>\n",
       "      <td>0</td>\n",
       "      <td>0</td>\n",
       "      <td>0</td>\n",
       "      <td>0</td>\n",
       "      <td>0</td>\n",
       "      <td>1</td>\n",
       "      <td>0</td>\n",
       "      <td>0</td>\n",
       "    </tr>\n",
       "    <tr>\n",
       "      <th>101</th>\n",
       "      <td>Mohammad Hafeez</td>\n",
       "      <td>0</td>\n",
       "      <td>0</td>\n",
       "      <td>0</td>\n",
       "      <td>0</td>\n",
       "      <td>1</td>\n",
       "      <td>8</td>\n",
       "      <td>4</td>\n",
       "      <td>-1</td>\n",
       "    </tr>\n",
       "  </tbody>\n",
       "</table>\n",
       "<p>102 rows × 9 columns</p>\n",
       "</div>"
      ],
      "text/plain": [
       "             batsman  No. of 1s  No. of 2s  No. of 3s  No_1s2s3s  No. of 4s  \\\n",
       "0          AM Rahane        104         22          1        127         35   \n",
       "1          G Gambhir         85         17          2        104         28   \n",
       "2          SR Watson         84         14          0         98         33   \n",
       "3          YK Pathan         78         12          0         90         31   \n",
       "4          SV Samson         71         11          1         83         16   \n",
       "..               ...        ...        ...        ...        ...        ...   \n",
       "97           MJ Lumb          0          0          0          0          0   \n",
       "98           SW Tait          0          0          0          0          0   \n",
       "99         PP Chawla          0          0          0          0          0   \n",
       "100    R Vinay Kumar          0          0          0          0          0   \n",
       "101  Mohammad Hafeez          0          0          0          0          1   \n",
       "\n",
       "     ball  batsman_runs  Run_Diff  \n",
       "0     278           339        92  \n",
       "1     217           255        76  \n",
       "2     228           310        65  \n",
       "3     220           310        59  \n",
       "4     168           196        67  \n",
       "..    ...           ...       ...  \n",
       "97      1             0         0  \n",
       "98      1             0         0  \n",
       "99      2             0         0  \n",
       "100     1             0         0  \n",
       "101     8             4        -1  \n",
       "\n",
       "[102 rows x 9 columns]"
      ]
     },
     "execution_count": 139,
     "metadata": {},
     "output_type": "execute_result"
    }
   ],
   "source": [
    "Batsman_runs_ratio"
   ]
  },
  {
   "cell_type": "code",
   "execution_count": 140,
   "metadata": {},
   "outputs": [
    {
     "data": {
      "text/html": [
       "<div>\n",
       "<style scoped>\n",
       "    .dataframe tbody tr th:only-of-type {\n",
       "        vertical-align: middle;\n",
       "    }\n",
       "\n",
       "    .dataframe tbody tr th {\n",
       "        vertical-align: top;\n",
       "    }\n",
       "\n",
       "    .dataframe thead th {\n",
       "        text-align: right;\n",
       "    }\n",
       "</style>\n",
       "<table border=\"1\" class=\"dataframe\">\n",
       "  <thead>\n",
       "    <tr style=\"text-align: right;\">\n",
       "      <th></th>\n",
       "      <th>batsman</th>\n",
       "      <th>No. of 1s</th>\n",
       "      <th>No. of 2s</th>\n",
       "      <th>No. of 3s</th>\n",
       "      <th>No_1s2s3s</th>\n",
       "      <th>No. of 4s</th>\n",
       "      <th>ball</th>\n",
       "      <th>batsman_runs</th>\n",
       "      <th>Run_Diff</th>\n",
       "      <th>Run_Ratio</th>\n",
       "    </tr>\n",
       "  </thead>\n",
       "  <tbody>\n",
       "    <tr>\n",
       "      <th>0</th>\n",
       "      <td>SA Asnodkar</td>\n",
       "      <td>13</td>\n",
       "      <td>1</td>\n",
       "      <td>0</td>\n",
       "      <td>14</td>\n",
       "      <td>12</td>\n",
       "      <td>44</td>\n",
       "      <td>69</td>\n",
       "      <td>2</td>\n",
       "      <td>0.028986</td>\n",
       "    </tr>\n",
       "    <tr>\n",
       "      <th>1</th>\n",
       "      <td>SP Narine</td>\n",
       "      <td>17</td>\n",
       "      <td>4</td>\n",
       "      <td>0</td>\n",
       "      <td>21</td>\n",
       "      <td>15</td>\n",
       "      <td>74</td>\n",
       "      <td>127</td>\n",
       "      <td>6</td>\n",
       "      <td>0.047244</td>\n",
       "    </tr>\n",
       "    <tr>\n",
       "      <th>2</th>\n",
       "      <td>CH Gayle</td>\n",
       "      <td>8</td>\n",
       "      <td>1</td>\n",
       "      <td>0</td>\n",
       "      <td>9</td>\n",
       "      <td>5</td>\n",
       "      <td>47</td>\n",
       "      <td>54</td>\n",
       "      <td>4</td>\n",
       "      <td>0.074074</td>\n",
       "    </tr>\n",
       "    <tr>\n",
       "      <th>3</th>\n",
       "      <td>NV Ojha</td>\n",
       "      <td>15</td>\n",
       "      <td>1</td>\n",
       "      <td>0</td>\n",
       "      <td>16</td>\n",
       "      <td>8</td>\n",
       "      <td>54</td>\n",
       "      <td>67</td>\n",
       "      <td>8</td>\n",
       "      <td>0.119403</td>\n",
       "    </tr>\n",
       "    <tr>\n",
       "      <th>4</th>\n",
       "      <td>M Kaif</td>\n",
       "      <td>13</td>\n",
       "      <td>4</td>\n",
       "      <td>0</td>\n",
       "      <td>17</td>\n",
       "      <td>7</td>\n",
       "      <td>51</td>\n",
       "      <td>55</td>\n",
       "      <td>10</td>\n",
       "      <td>0.181818</td>\n",
       "    </tr>\n",
       "    <tr>\n",
       "      <th>5</th>\n",
       "      <td>AD Russell</td>\n",
       "      <td>29</td>\n",
       "      <td>1</td>\n",
       "      <td>0</td>\n",
       "      <td>30</td>\n",
       "      <td>9</td>\n",
       "      <td>71</td>\n",
       "      <td>115</td>\n",
       "      <td>21</td>\n",
       "      <td>0.182609</td>\n",
       "    </tr>\n",
       "    <tr>\n",
       "      <th>6</th>\n",
       "      <td>YK Pathan</td>\n",
       "      <td>78</td>\n",
       "      <td>12</td>\n",
       "      <td>0</td>\n",
       "      <td>90</td>\n",
       "      <td>31</td>\n",
       "      <td>220</td>\n",
       "      <td>310</td>\n",
       "      <td>59</td>\n",
       "      <td>0.190323</td>\n",
       "    </tr>\n",
       "    <tr>\n",
       "      <th>7</th>\n",
       "      <td>CA Lynn</td>\n",
       "      <td>33</td>\n",
       "      <td>3</td>\n",
       "      <td>0</td>\n",
       "      <td>36</td>\n",
       "      <td>13</td>\n",
       "      <td>102</td>\n",
       "      <td>115</td>\n",
       "      <td>23</td>\n",
       "      <td>0.200000</td>\n",
       "    </tr>\n",
       "    <tr>\n",
       "      <th>8</th>\n",
       "      <td>R Dravid</td>\n",
       "      <td>30</td>\n",
       "      <td>7</td>\n",
       "      <td>0</td>\n",
       "      <td>37</td>\n",
       "      <td>14</td>\n",
       "      <td>110</td>\n",
       "      <td>112</td>\n",
       "      <td>23</td>\n",
       "      <td>0.205357</td>\n",
       "    </tr>\n",
       "    <tr>\n",
       "      <th>9</th>\n",
       "      <td>RA Tripathi</td>\n",
       "      <td>20</td>\n",
       "      <td>1</td>\n",
       "      <td>0</td>\n",
       "      <td>21</td>\n",
       "      <td>7</td>\n",
       "      <td>47</td>\n",
       "      <td>68</td>\n",
       "      <td>14</td>\n",
       "      <td>0.205882</td>\n",
       "    </tr>\n",
       "    <tr>\n",
       "      <th>10</th>\n",
       "      <td>SR Watson</td>\n",
       "      <td>84</td>\n",
       "      <td>14</td>\n",
       "      <td>0</td>\n",
       "      <td>98</td>\n",
       "      <td>33</td>\n",
       "      <td>228</td>\n",
       "      <td>310</td>\n",
       "      <td>65</td>\n",
       "      <td>0.209677</td>\n",
       "    </tr>\n",
       "    <tr>\n",
       "      <th>11</th>\n",
       "      <td>JC Buttler</td>\n",
       "      <td>29</td>\n",
       "      <td>6</td>\n",
       "      <td>0</td>\n",
       "      <td>35</td>\n",
       "      <td>12</td>\n",
       "      <td>79</td>\n",
       "      <td>107</td>\n",
       "      <td>23</td>\n",
       "      <td>0.214953</td>\n",
       "    </tr>\n",
       "    <tr>\n",
       "      <th>12</th>\n",
       "      <td>KD Karthik</td>\n",
       "      <td>59</td>\n",
       "      <td>11</td>\n",
       "      <td>0</td>\n",
       "      <td>70</td>\n",
       "      <td>18</td>\n",
       "      <td>144</td>\n",
       "      <td>237</td>\n",
       "      <td>52</td>\n",
       "      <td>0.219409</td>\n",
       "    </tr>\n",
       "    <tr>\n",
       "      <th>13</th>\n",
       "      <td>RV Uthappa</td>\n",
       "      <td>52</td>\n",
       "      <td>3</td>\n",
       "      <td>1</td>\n",
       "      <td>56</td>\n",
       "      <td>16</td>\n",
       "      <td>130</td>\n",
       "      <td>167</td>\n",
       "      <td>40</td>\n",
       "      <td>0.239521</td>\n",
       "    </tr>\n",
       "    <tr>\n",
       "      <th>14</th>\n",
       "      <td>KK Nair</td>\n",
       "      <td>18</td>\n",
       "      <td>3</td>\n",
       "      <td>1</td>\n",
       "      <td>22</td>\n",
       "      <td>7</td>\n",
       "      <td>52</td>\n",
       "      <td>61</td>\n",
       "      <td>15</td>\n",
       "      <td>0.245902</td>\n",
       "    </tr>\n",
       "    <tr>\n",
       "      <th>15</th>\n",
       "      <td>SC Ganguly</td>\n",
       "      <td>68</td>\n",
       "      <td>14</td>\n",
       "      <td>1</td>\n",
       "      <td>83</td>\n",
       "      <td>24</td>\n",
       "      <td>195</td>\n",
       "      <td>237</td>\n",
       "      <td>59</td>\n",
       "      <td>0.248945</td>\n",
       "    </tr>\n",
       "    <tr>\n",
       "      <th>16</th>\n",
       "      <td>EJG Morgan</td>\n",
       "      <td>12</td>\n",
       "      <td>3</td>\n",
       "      <td>1</td>\n",
       "      <td>16</td>\n",
       "      <td>3</td>\n",
       "      <td>39</td>\n",
       "      <td>51</td>\n",
       "      <td>13</td>\n",
       "      <td>0.254902</td>\n",
       "    </tr>\n",
       "    <tr>\n",
       "      <th>17</th>\n",
       "      <td>AM Rahane</td>\n",
       "      <td>104</td>\n",
       "      <td>22</td>\n",
       "      <td>1</td>\n",
       "      <td>127</td>\n",
       "      <td>35</td>\n",
       "      <td>278</td>\n",
       "      <td>339</td>\n",
       "      <td>92</td>\n",
       "      <td>0.271386</td>\n",
       "    </tr>\n",
       "    <tr>\n",
       "      <th>18</th>\n",
       "      <td>MK Tiwary</td>\n",
       "      <td>43</td>\n",
       "      <td>7</td>\n",
       "      <td>3</td>\n",
       "      <td>53</td>\n",
       "      <td>15</td>\n",
       "      <td>120</td>\n",
       "      <td>138</td>\n",
       "      <td>38</td>\n",
       "      <td>0.275362</td>\n",
       "    </tr>\n",
       "    <tr>\n",
       "      <th>19</th>\n",
       "      <td>S Gill</td>\n",
       "      <td>19</td>\n",
       "      <td>2</td>\n",
       "      <td>0</td>\n",
       "      <td>21</td>\n",
       "      <td>6</td>\n",
       "      <td>42</td>\n",
       "      <td>53</td>\n",
       "      <td>15</td>\n",
       "      <td>0.283019</td>\n",
       "    </tr>\n",
       "    <tr>\n",
       "      <th>20</th>\n",
       "      <td>CA Pujara</td>\n",
       "      <td>30</td>\n",
       "      <td>1</td>\n",
       "      <td>0</td>\n",
       "      <td>31</td>\n",
       "      <td>9</td>\n",
       "      <td>65</td>\n",
       "      <td>74</td>\n",
       "      <td>22</td>\n",
       "      <td>0.297297</td>\n",
       "    </tr>\n",
       "    <tr>\n",
       "      <th>21</th>\n",
       "      <td>G Gambhir</td>\n",
       "      <td>85</td>\n",
       "      <td>17</td>\n",
       "      <td>2</td>\n",
       "      <td>104</td>\n",
       "      <td>28</td>\n",
       "      <td>217</td>\n",
       "      <td>255</td>\n",
       "      <td>76</td>\n",
       "      <td>0.298039</td>\n",
       "    </tr>\n",
       "    <tr>\n",
       "      <th>22</th>\n",
       "      <td>Shakib Al Hasan</td>\n",
       "      <td>27</td>\n",
       "      <td>7</td>\n",
       "      <td>0</td>\n",
       "      <td>34</td>\n",
       "      <td>7</td>\n",
       "      <td>60</td>\n",
       "      <td>81</td>\n",
       "      <td>27</td>\n",
       "      <td>0.333333</td>\n",
       "    </tr>\n",
       "    <tr>\n",
       "      <th>23</th>\n",
       "      <td>DJ Hussey</td>\n",
       "      <td>22</td>\n",
       "      <td>4</td>\n",
       "      <td>0</td>\n",
       "      <td>26</td>\n",
       "      <td>5</td>\n",
       "      <td>60</td>\n",
       "      <td>62</td>\n",
       "      <td>21</td>\n",
       "      <td>0.338710</td>\n",
       "    </tr>\n",
       "    <tr>\n",
       "      <th>24</th>\n",
       "      <td>BJ Hodge</td>\n",
       "      <td>54</td>\n",
       "      <td>11</td>\n",
       "      <td>0</td>\n",
       "      <td>65</td>\n",
       "      <td>14</td>\n",
       "      <td>123</td>\n",
       "      <td>150</td>\n",
       "      <td>51</td>\n",
       "      <td>0.340000</td>\n",
       "    </tr>\n",
       "    <tr>\n",
       "      <th>25</th>\n",
       "      <td>SV Samson</td>\n",
       "      <td>71</td>\n",
       "      <td>11</td>\n",
       "      <td>1</td>\n",
       "      <td>83</td>\n",
       "      <td>16</td>\n",
       "      <td>168</td>\n",
       "      <td>196</td>\n",
       "      <td>67</td>\n",
       "      <td>0.341837</td>\n",
       "    </tr>\n",
       "    <tr>\n",
       "      <th>26</th>\n",
       "      <td>N Rana</td>\n",
       "      <td>35</td>\n",
       "      <td>4</td>\n",
       "      <td>0</td>\n",
       "      <td>39</td>\n",
       "      <td>8</td>\n",
       "      <td>77</td>\n",
       "      <td>87</td>\n",
       "      <td>31</td>\n",
       "      <td>0.356322</td>\n",
       "    </tr>\n",
       "    <tr>\n",
       "      <th>27</th>\n",
       "      <td>AL Menaria</td>\n",
       "      <td>35</td>\n",
       "      <td>4</td>\n",
       "      <td>0</td>\n",
       "      <td>39</td>\n",
       "      <td>7</td>\n",
       "      <td>78</td>\n",
       "      <td>89</td>\n",
       "      <td>32</td>\n",
       "      <td>0.359551</td>\n",
       "    </tr>\n",
       "    <tr>\n",
       "      <th>28</th>\n",
       "      <td>MS Bisla</td>\n",
       "      <td>28</td>\n",
       "      <td>5</td>\n",
       "      <td>0</td>\n",
       "      <td>33</td>\n",
       "      <td>7</td>\n",
       "      <td>99</td>\n",
       "      <td>72</td>\n",
       "      <td>26</td>\n",
       "      <td>0.361111</td>\n",
       "    </tr>\n",
       "    <tr>\n",
       "      <th>29</th>\n",
       "      <td>LR Shukla</td>\n",
       "      <td>32</td>\n",
       "      <td>6</td>\n",
       "      <td>0</td>\n",
       "      <td>38</td>\n",
       "      <td>5</td>\n",
       "      <td>90</td>\n",
       "      <td>88</td>\n",
       "      <td>33</td>\n",
       "      <td>0.375000</td>\n",
       "    </tr>\n",
       "    <tr>\n",
       "      <th>30</th>\n",
       "      <td>SPD Smith</td>\n",
       "      <td>43</td>\n",
       "      <td>13</td>\n",
       "      <td>1</td>\n",
       "      <td>57</td>\n",
       "      <td>11</td>\n",
       "      <td>94</td>\n",
       "      <td>122</td>\n",
       "      <td>46</td>\n",
       "      <td>0.377049</td>\n",
       "    </tr>\n",
       "    <tr>\n",
       "      <th>31</th>\n",
       "      <td>OA Shah</td>\n",
       "      <td>40</td>\n",
       "      <td>4</td>\n",
       "      <td>1</td>\n",
       "      <td>45</td>\n",
       "      <td>7</td>\n",
       "      <td>88</td>\n",
       "      <td>97</td>\n",
       "      <td>38</td>\n",
       "      <td>0.391753</td>\n",
       "    </tr>\n",
       "    <tr>\n",
       "      <th>32</th>\n",
       "      <td>DB Das</td>\n",
       "      <td>20</td>\n",
       "      <td>4</td>\n",
       "      <td>0</td>\n",
       "      <td>24</td>\n",
       "      <td>2</td>\n",
       "      <td>47</td>\n",
       "      <td>54</td>\n",
       "      <td>22</td>\n",
       "      <td>0.407407</td>\n",
       "    </tr>\n",
       "    <tr>\n",
       "      <th>33</th>\n",
       "      <td>JH Kallis</td>\n",
       "      <td>69</td>\n",
       "      <td>10</td>\n",
       "      <td>1</td>\n",
       "      <td>80</td>\n",
       "      <td>13</td>\n",
       "      <td>164</td>\n",
       "      <td>162</td>\n",
       "      <td>67</td>\n",
       "      <td>0.413580</td>\n",
       "    </tr>\n",
       "    <tr>\n",
       "      <th>34</th>\n",
       "      <td>RA Jadeja</td>\n",
       "      <td>29</td>\n",
       "      <td>9</td>\n",
       "      <td>0</td>\n",
       "      <td>38</td>\n",
       "      <td>4</td>\n",
       "      <td>67</td>\n",
       "      <td>69</td>\n",
       "      <td>34</td>\n",
       "      <td>0.492754</td>\n",
       "    </tr>\n",
       "  </tbody>\n",
       "</table>\n",
       "</div>"
      ],
      "text/plain": [
       "            batsman  No. of 1s  No. of 2s  No. of 3s  No_1s2s3s  No. of 4s  \\\n",
       "0       SA Asnodkar         13          1          0         14         12   \n",
       "1         SP Narine         17          4          0         21         15   \n",
       "2          CH Gayle          8          1          0          9          5   \n",
       "3           NV Ojha         15          1          0         16          8   \n",
       "4            M Kaif         13          4          0         17          7   \n",
       "5        AD Russell         29          1          0         30          9   \n",
       "6         YK Pathan         78         12          0         90         31   \n",
       "7           CA Lynn         33          3          0         36         13   \n",
       "8          R Dravid         30          7          0         37         14   \n",
       "9       RA Tripathi         20          1          0         21          7   \n",
       "10        SR Watson         84         14          0         98         33   \n",
       "11       JC Buttler         29          6          0         35         12   \n",
       "12       KD Karthik         59         11          0         70         18   \n",
       "13       RV Uthappa         52          3          1         56         16   \n",
       "14          KK Nair         18          3          1         22          7   \n",
       "15       SC Ganguly         68         14          1         83         24   \n",
       "16       EJG Morgan         12          3          1         16          3   \n",
       "17        AM Rahane        104         22          1        127         35   \n",
       "18        MK Tiwary         43          7          3         53         15   \n",
       "19           S Gill         19          2          0         21          6   \n",
       "20        CA Pujara         30          1          0         31          9   \n",
       "21        G Gambhir         85         17          2        104         28   \n",
       "22  Shakib Al Hasan         27          7          0         34          7   \n",
       "23        DJ Hussey         22          4          0         26          5   \n",
       "24         BJ Hodge         54         11          0         65         14   \n",
       "25        SV Samson         71         11          1         83         16   \n",
       "26           N Rana         35          4          0         39          8   \n",
       "27       AL Menaria         35          4          0         39          7   \n",
       "28         MS Bisla         28          5          0         33          7   \n",
       "29        LR Shukla         32          6          0         38          5   \n",
       "30        SPD Smith         43         13          1         57         11   \n",
       "31          OA Shah         40          4          1         45          7   \n",
       "32           DB Das         20          4          0         24          2   \n",
       "33        JH Kallis         69         10          1         80         13   \n",
       "34        RA Jadeja         29          9          0         38          4   \n",
       "\n",
       "    ball  batsman_runs  Run_Diff  Run_Ratio  \n",
       "0     44            69         2   0.028986  \n",
       "1     74           127         6   0.047244  \n",
       "2     47            54         4   0.074074  \n",
       "3     54            67         8   0.119403  \n",
       "4     51            55        10   0.181818  \n",
       "5     71           115        21   0.182609  \n",
       "6    220           310        59   0.190323  \n",
       "7    102           115        23   0.200000  \n",
       "8    110           112        23   0.205357  \n",
       "9     47            68        14   0.205882  \n",
       "10   228           310        65   0.209677  \n",
       "11    79           107        23   0.214953  \n",
       "12   144           237        52   0.219409  \n",
       "13   130           167        40   0.239521  \n",
       "14    52            61        15   0.245902  \n",
       "15   195           237        59   0.248945  \n",
       "16    39            51        13   0.254902  \n",
       "17   278           339        92   0.271386  \n",
       "18   120           138        38   0.275362  \n",
       "19    42            53        15   0.283019  \n",
       "20    65            74        22   0.297297  \n",
       "21   217           255        76   0.298039  \n",
       "22    60            81        27   0.333333  \n",
       "23    60            62        21   0.338710  \n",
       "24   123           150        51   0.340000  \n",
       "25   168           196        67   0.341837  \n",
       "26    77            87        31   0.356322  \n",
       "27    78            89        32   0.359551  \n",
       "28    99            72        26   0.361111  \n",
       "29    90            88        33   0.375000  \n",
       "30    94           122        46   0.377049  \n",
       "31    88            97        38   0.391753  \n",
       "32    47            54        22   0.407407  \n",
       "33   164           162        67   0.413580  \n",
       "34    67            69        34   0.492754  "
      ]
     },
     "execution_count": 140,
     "metadata": {},
     "output_type": "execute_result"
    }
   ],
   "source": [
    "Batsman_runs_ratio=Batsman_runs_ratio[Batsman_runs_ratio[\"batsman_runs\"]>50]# Taking batsman runs more than 50runs and more than 10 balls  \n",
    "Batsman_runs_ratio[\"Run_Ratio\"]=Batsman_runs_ratio[\"Run_Diff\"]/Batsman_runs_ratio[\"batsman_runs\"]\n",
    "Batsman_runs_ratio=Batsman_runs_ratio.sort_values(by=\"Run_Ratio\").reset_index(drop=True)\n",
    "Batsman_runs_ratio.iloc[:50,:]"
   ]
  },
  {
   "cell_type": "code",
   "execution_count": 144,
   "metadata": {},
   "outputs": [
    {
     "data": {
      "text/html": [
       "<div>\n",
       "<style scoped>\n",
       "    .dataframe tbody tr th:only-of-type {\n",
       "        vertical-align: middle;\n",
       "    }\n",
       "\n",
       "    .dataframe tbody tr th {\n",
       "        vertical-align: top;\n",
       "    }\n",
       "\n",
       "    .dataframe thead th {\n",
       "        text-align: right;\n",
       "    }\n",
       "</style>\n",
       "<table border=\"1\" class=\"dataframe\">\n",
       "  <thead>\n",
       "    <tr style=\"text-align: right;\">\n",
       "      <th></th>\n",
       "      <th>batsman</th>\n",
       "      <th>No. of 1s</th>\n",
       "      <th>No. of 2s</th>\n",
       "      <th>No. of 3s</th>\n",
       "      <th>No_1s2s3s</th>\n",
       "      <th>No. of 4s</th>\n",
       "      <th>ball</th>\n",
       "      <th>batsman_runs</th>\n",
       "      <th>Run_Diff</th>\n",
       "      <th>Run_Ratio</th>\n",
       "    </tr>\n",
       "  </thead>\n",
       "  <tbody>\n",
       "    <tr>\n",
       "      <th>22</th>\n",
       "      <td>Shakib Al Hasan</td>\n",
       "      <td>27</td>\n",
       "      <td>7</td>\n",
       "      <td>0</td>\n",
       "      <td>34</td>\n",
       "      <td>7</td>\n",
       "      <td>60</td>\n",
       "      <td>81</td>\n",
       "      <td>27</td>\n",
       "      <td>0.333333</td>\n",
       "    </tr>\n",
       "    <tr>\n",
       "      <th>23</th>\n",
       "      <td>DJ Hussey</td>\n",
       "      <td>22</td>\n",
       "      <td>4</td>\n",
       "      <td>0</td>\n",
       "      <td>26</td>\n",
       "      <td>5</td>\n",
       "      <td>60</td>\n",
       "      <td>62</td>\n",
       "      <td>21</td>\n",
       "      <td>0.338710</td>\n",
       "    </tr>\n",
       "    <tr>\n",
       "      <th>24</th>\n",
       "      <td>BJ Hodge</td>\n",
       "      <td>54</td>\n",
       "      <td>11</td>\n",
       "      <td>0</td>\n",
       "      <td>65</td>\n",
       "      <td>14</td>\n",
       "      <td>123</td>\n",
       "      <td>150</td>\n",
       "      <td>51</td>\n",
       "      <td>0.340000</td>\n",
       "    </tr>\n",
       "    <tr>\n",
       "      <th>25</th>\n",
       "      <td>SV Samson</td>\n",
       "      <td>71</td>\n",
       "      <td>11</td>\n",
       "      <td>1</td>\n",
       "      <td>83</td>\n",
       "      <td>16</td>\n",
       "      <td>168</td>\n",
       "      <td>196</td>\n",
       "      <td>67</td>\n",
       "      <td>0.341837</td>\n",
       "    </tr>\n",
       "    <tr>\n",
       "      <th>26</th>\n",
       "      <td>N Rana</td>\n",
       "      <td>35</td>\n",
       "      <td>4</td>\n",
       "      <td>0</td>\n",
       "      <td>39</td>\n",
       "      <td>8</td>\n",
       "      <td>77</td>\n",
       "      <td>87</td>\n",
       "      <td>31</td>\n",
       "      <td>0.356322</td>\n",
       "    </tr>\n",
       "    <tr>\n",
       "      <th>27</th>\n",
       "      <td>AL Menaria</td>\n",
       "      <td>35</td>\n",
       "      <td>4</td>\n",
       "      <td>0</td>\n",
       "      <td>39</td>\n",
       "      <td>7</td>\n",
       "      <td>78</td>\n",
       "      <td>89</td>\n",
       "      <td>32</td>\n",
       "      <td>0.359551</td>\n",
       "    </tr>\n",
       "    <tr>\n",
       "      <th>28</th>\n",
       "      <td>MS Bisla</td>\n",
       "      <td>28</td>\n",
       "      <td>5</td>\n",
       "      <td>0</td>\n",
       "      <td>33</td>\n",
       "      <td>7</td>\n",
       "      <td>99</td>\n",
       "      <td>72</td>\n",
       "      <td>26</td>\n",
       "      <td>0.361111</td>\n",
       "    </tr>\n",
       "    <tr>\n",
       "      <th>29</th>\n",
       "      <td>LR Shukla</td>\n",
       "      <td>32</td>\n",
       "      <td>6</td>\n",
       "      <td>0</td>\n",
       "      <td>38</td>\n",
       "      <td>5</td>\n",
       "      <td>90</td>\n",
       "      <td>88</td>\n",
       "      <td>33</td>\n",
       "      <td>0.375000</td>\n",
       "    </tr>\n",
       "    <tr>\n",
       "      <th>30</th>\n",
       "      <td>SPD Smith</td>\n",
       "      <td>43</td>\n",
       "      <td>13</td>\n",
       "      <td>1</td>\n",
       "      <td>57</td>\n",
       "      <td>11</td>\n",
       "      <td>94</td>\n",
       "      <td>122</td>\n",
       "      <td>46</td>\n",
       "      <td>0.377049</td>\n",
       "    </tr>\n",
       "    <tr>\n",
       "      <th>31</th>\n",
       "      <td>OA Shah</td>\n",
       "      <td>40</td>\n",
       "      <td>4</td>\n",
       "      <td>1</td>\n",
       "      <td>45</td>\n",
       "      <td>7</td>\n",
       "      <td>88</td>\n",
       "      <td>97</td>\n",
       "      <td>38</td>\n",
       "      <td>0.391753</td>\n",
       "    </tr>\n",
       "    <tr>\n",
       "      <th>32</th>\n",
       "      <td>DB Das</td>\n",
       "      <td>20</td>\n",
       "      <td>4</td>\n",
       "      <td>0</td>\n",
       "      <td>24</td>\n",
       "      <td>2</td>\n",
       "      <td>47</td>\n",
       "      <td>54</td>\n",
       "      <td>22</td>\n",
       "      <td>0.407407</td>\n",
       "    </tr>\n",
       "    <tr>\n",
       "      <th>33</th>\n",
       "      <td>JH Kallis</td>\n",
       "      <td>69</td>\n",
       "      <td>10</td>\n",
       "      <td>1</td>\n",
       "      <td>80</td>\n",
       "      <td>13</td>\n",
       "      <td>164</td>\n",
       "      <td>162</td>\n",
       "      <td>67</td>\n",
       "      <td>0.413580</td>\n",
       "    </tr>\n",
       "    <tr>\n",
       "      <th>34</th>\n",
       "      <td>RA Jadeja</td>\n",
       "      <td>29</td>\n",
       "      <td>9</td>\n",
       "      <td>0</td>\n",
       "      <td>38</td>\n",
       "      <td>4</td>\n",
       "      <td>67</td>\n",
       "      <td>69</td>\n",
       "      <td>34</td>\n",
       "      <td>0.492754</td>\n",
       "    </tr>\n",
       "  </tbody>\n",
       "</table>\n",
       "</div>"
      ],
      "text/plain": [
       "            batsman  No. of 1s  No. of 2s  No. of 3s  No_1s2s3s  No. of 4s  \\\n",
       "22  Shakib Al Hasan         27          7          0         34          7   \n",
       "23        DJ Hussey         22          4          0         26          5   \n",
       "24         BJ Hodge         54         11          0         65         14   \n",
       "25        SV Samson         71         11          1         83         16   \n",
       "26           N Rana         35          4          0         39          8   \n",
       "27       AL Menaria         35          4          0         39          7   \n",
       "28         MS Bisla         28          5          0         33          7   \n",
       "29        LR Shukla         32          6          0         38          5   \n",
       "30        SPD Smith         43         13          1         57         11   \n",
       "31          OA Shah         40          4          1         45          7   \n",
       "32           DB Das         20          4          0         24          2   \n",
       "33        JH Kallis         69         10          1         80         13   \n",
       "34        RA Jadeja         29          9          0         38          4   \n",
       "\n",
       "    ball  batsman_runs  Run_Diff  Run_Ratio  \n",
       "22    60            81        27   0.333333  \n",
       "23    60            62        21   0.338710  \n",
       "24   123           150        51   0.340000  \n",
       "25   168           196        67   0.341837  \n",
       "26    77            87        31   0.356322  \n",
       "27    78            89        32   0.359551  \n",
       "28    99            72        26   0.361111  \n",
       "29    90            88        33   0.375000  \n",
       "30    94           122        46   0.377049  \n",
       "31    88            97        38   0.391753  \n",
       "32    47            54        22   0.407407  \n",
       "33   164           162        67   0.413580  \n",
       "34    67            69        34   0.492754  "
      ]
     },
     "execution_count": 144,
     "metadata": {},
     "output_type": "execute_result"
    }
   ],
   "source": [
    "Batsman_runs_ratio[Batsman_runs_ratio['Run_Ratio'] >0.30]"
   ]
  },
  {
   "cell_type": "code",
   "execution_count": 145,
   "metadata": {},
   "outputs": [
    {
     "data": {
      "text/plain": [
       "0.4927536231884058"
      ]
     },
     "execution_count": 145,
     "metadata": {},
     "output_type": "execute_result"
    }
   ],
   "source": [
    "Batsman_runs_ratio['Run_Ratio'].max()"
   ]
  },
  {
   "cell_type": "markdown",
   "metadata": {},
   "source": [
    "# Jofra Archer Economy and Number of Boundaries Given"
   ]
  },
  {
   "cell_type": "code",
   "execution_count": 85,
   "metadata": {},
   "outputs": [],
   "source": [
    "four = []\n",
    "six = []\n",
    "for i in kkr_rr_del['batsman_runs']:\n",
    "    if i == 4 or i == 5:\n",
    "        four.append(1)\n",
    "        six.append(0)\n",
    "    elif i == 6 or i == 7:\n",
    "        four.append(0)\n",
    "        six.append(1)\n",
    "    else:\n",
    "        four.append(0)\n",
    "        six.append(0)\n",
    "      \n",
    "    \n",
    "kkr_rr_del['four'] = four\n",
    "kkr_rr_del['six'] = six"
   ]
  },
  {
   "cell_type": "code",
   "execution_count": 86,
   "metadata": {},
   "outputs": [
    {
     "data": {
      "text/html": [
       "<div>\n",
       "<style scoped>\n",
       "    .dataframe tbody tr th:only-of-type {\n",
       "        vertical-align: middle;\n",
       "    }\n",
       "\n",
       "    .dataframe tbody tr th {\n",
       "        vertical-align: top;\n",
       "    }\n",
       "\n",
       "    .dataframe thead th {\n",
       "        text-align: right;\n",
       "    }\n",
       "</style>\n",
       "<table border=\"1\" class=\"dataframe\">\n",
       "  <thead>\n",
       "    <tr style=\"text-align: right;\">\n",
       "      <th></th>\n",
       "      <th>match_id</th>\n",
       "      <th>inning</th>\n",
       "      <th>batting_team</th>\n",
       "      <th>bowling_team</th>\n",
       "      <th>over</th>\n",
       "      <th>ball</th>\n",
       "      <th>batsman</th>\n",
       "      <th>non_striker</th>\n",
       "      <th>bowler</th>\n",
       "      <th>is_super_over</th>\n",
       "      <th>...</th>\n",
       "      <th>noball_runs</th>\n",
       "      <th>penalty_runs</th>\n",
       "      <th>batsman_runs</th>\n",
       "      <th>extra_runs</th>\n",
       "      <th>total_runs</th>\n",
       "      <th>player_dismissed</th>\n",
       "      <th>dismissal_kind</th>\n",
       "      <th>fielder</th>\n",
       "      <th>four</th>\n",
       "      <th>six</th>\n",
       "    </tr>\n",
       "  </thead>\n",
       "  <tbody>\n",
       "    <tr>\n",
       "      <th>18123</th>\n",
       "      <td>78</td>\n",
       "      <td>1</td>\n",
       "      <td>Rajasthan Royals</td>\n",
       "      <td>Kolkata Knight Riders</td>\n",
       "      <td>1</td>\n",
       "      <td>1</td>\n",
       "      <td>GC Smith</td>\n",
       "      <td>SA Asnodkar</td>\n",
       "      <td>AB Dinda</td>\n",
       "      <td>0</td>\n",
       "      <td>...</td>\n",
       "      <td>0</td>\n",
       "      <td>0</td>\n",
       "      <td>0</td>\n",
       "      <td>0</td>\n",
       "      <td>0</td>\n",
       "      <td>NaN</td>\n",
       "      <td>NaN</td>\n",
       "      <td>NaN</td>\n",
       "      <td>0</td>\n",
       "      <td>0</td>\n",
       "    </tr>\n",
       "    <tr>\n",
       "      <th>18124</th>\n",
       "      <td>78</td>\n",
       "      <td>1</td>\n",
       "      <td>Rajasthan Royals</td>\n",
       "      <td>Kolkata Knight Riders</td>\n",
       "      <td>1</td>\n",
       "      <td>2</td>\n",
       "      <td>GC Smith</td>\n",
       "      <td>SA Asnodkar</td>\n",
       "      <td>AB Dinda</td>\n",
       "      <td>0</td>\n",
       "      <td>...</td>\n",
       "      <td>0</td>\n",
       "      <td>0</td>\n",
       "      <td>0</td>\n",
       "      <td>0</td>\n",
       "      <td>0</td>\n",
       "      <td>NaN</td>\n",
       "      <td>NaN</td>\n",
       "      <td>NaN</td>\n",
       "      <td>0</td>\n",
       "      <td>0</td>\n",
       "    </tr>\n",
       "    <tr>\n",
       "      <th>18125</th>\n",
       "      <td>78</td>\n",
       "      <td>1</td>\n",
       "      <td>Rajasthan Royals</td>\n",
       "      <td>Kolkata Knight Riders</td>\n",
       "      <td>1</td>\n",
       "      <td>3</td>\n",
       "      <td>GC Smith</td>\n",
       "      <td>SA Asnodkar</td>\n",
       "      <td>AB Dinda</td>\n",
       "      <td>0</td>\n",
       "      <td>...</td>\n",
       "      <td>0</td>\n",
       "      <td>0</td>\n",
       "      <td>1</td>\n",
       "      <td>0</td>\n",
       "      <td>1</td>\n",
       "      <td>NaN</td>\n",
       "      <td>NaN</td>\n",
       "      <td>NaN</td>\n",
       "      <td>0</td>\n",
       "      <td>0</td>\n",
       "    </tr>\n",
       "    <tr>\n",
       "      <th>18126</th>\n",
       "      <td>78</td>\n",
       "      <td>1</td>\n",
       "      <td>Rajasthan Royals</td>\n",
       "      <td>Kolkata Knight Riders</td>\n",
       "      <td>1</td>\n",
       "      <td>4</td>\n",
       "      <td>SA Asnodkar</td>\n",
       "      <td>GC Smith</td>\n",
       "      <td>AB Dinda</td>\n",
       "      <td>0</td>\n",
       "      <td>...</td>\n",
       "      <td>0</td>\n",
       "      <td>0</td>\n",
       "      <td>4</td>\n",
       "      <td>0</td>\n",
       "      <td>4</td>\n",
       "      <td>NaN</td>\n",
       "      <td>NaN</td>\n",
       "      <td>NaN</td>\n",
       "      <td>1</td>\n",
       "      <td>0</td>\n",
       "    </tr>\n",
       "    <tr>\n",
       "      <th>18127</th>\n",
       "      <td>78</td>\n",
       "      <td>1</td>\n",
       "      <td>Rajasthan Royals</td>\n",
       "      <td>Kolkata Knight Riders</td>\n",
       "      <td>1</td>\n",
       "      <td>5</td>\n",
       "      <td>SA Asnodkar</td>\n",
       "      <td>GC Smith</td>\n",
       "      <td>AB Dinda</td>\n",
       "      <td>0</td>\n",
       "      <td>...</td>\n",
       "      <td>0</td>\n",
       "      <td>0</td>\n",
       "      <td>0</td>\n",
       "      <td>0</td>\n",
       "      <td>0</td>\n",
       "      <td>NaN</td>\n",
       "      <td>NaN</td>\n",
       "      <td>NaN</td>\n",
       "      <td>0</td>\n",
       "      <td>0</td>\n",
       "    </tr>\n",
       "    <tr>\n",
       "      <th>...</th>\n",
       "      <td>...</td>\n",
       "      <td>...</td>\n",
       "      <td>...</td>\n",
       "      <td>...</td>\n",
       "      <td>...</td>\n",
       "      <td>...</td>\n",
       "      <td>...</td>\n",
       "      <td>...</td>\n",
       "      <td>...</td>\n",
       "      <td>...</td>\n",
       "      <td>...</td>\n",
       "      <td>...</td>\n",
       "      <td>...</td>\n",
       "      <td>...</td>\n",
       "      <td>...</td>\n",
       "      <td>...</td>\n",
       "      <td>...</td>\n",
       "      <td>...</td>\n",
       "      <td>...</td>\n",
       "      <td>...</td>\n",
       "      <td>...</td>\n",
       "    </tr>\n",
       "    <tr>\n",
       "      <th>175183</th>\n",
       "      <td>11334</td>\n",
       "      <td>2</td>\n",
       "      <td>Rajasthan Royals</td>\n",
       "      <td>Kolkata Knight Riders</td>\n",
       "      <td>19</td>\n",
       "      <td>4</td>\n",
       "      <td>R Parag</td>\n",
       "      <td>J Archer</td>\n",
       "      <td>AD Russell</td>\n",
       "      <td>0</td>\n",
       "      <td>...</td>\n",
       "      <td>0</td>\n",
       "      <td>0</td>\n",
       "      <td>6</td>\n",
       "      <td>0</td>\n",
       "      <td>6</td>\n",
       "      <td>NaN</td>\n",
       "      <td>NaN</td>\n",
       "      <td>NaN</td>\n",
       "      <td>0</td>\n",
       "      <td>1</td>\n",
       "    </tr>\n",
       "    <tr>\n",
       "      <th>175184</th>\n",
       "      <td>11334</td>\n",
       "      <td>2</td>\n",
       "      <td>Rajasthan Royals</td>\n",
       "      <td>Kolkata Knight Riders</td>\n",
       "      <td>19</td>\n",
       "      <td>5</td>\n",
       "      <td>R Parag</td>\n",
       "      <td>J Archer</td>\n",
       "      <td>AD Russell</td>\n",
       "      <td>0</td>\n",
       "      <td>...</td>\n",
       "      <td>0</td>\n",
       "      <td>0</td>\n",
       "      <td>0</td>\n",
       "      <td>0</td>\n",
       "      <td>0</td>\n",
       "      <td>R Parag</td>\n",
       "      <td>hit wicket</td>\n",
       "      <td>NaN</td>\n",
       "      <td>0</td>\n",
       "      <td>0</td>\n",
       "    </tr>\n",
       "    <tr>\n",
       "      <th>175185</th>\n",
       "      <td>11334</td>\n",
       "      <td>2</td>\n",
       "      <td>Rajasthan Royals</td>\n",
       "      <td>Kolkata Knight Riders</td>\n",
       "      <td>19</td>\n",
       "      <td>6</td>\n",
       "      <td>JD Unadkat</td>\n",
       "      <td>J Archer</td>\n",
       "      <td>AD Russell</td>\n",
       "      <td>0</td>\n",
       "      <td>...</td>\n",
       "      <td>0</td>\n",
       "      <td>0</td>\n",
       "      <td>0</td>\n",
       "      <td>0</td>\n",
       "      <td>0</td>\n",
       "      <td>NaN</td>\n",
       "      <td>NaN</td>\n",
       "      <td>NaN</td>\n",
       "      <td>0</td>\n",
       "      <td>0</td>\n",
       "    </tr>\n",
       "    <tr>\n",
       "      <th>175186</th>\n",
       "      <td>11334</td>\n",
       "      <td>2</td>\n",
       "      <td>Rajasthan Royals</td>\n",
       "      <td>Kolkata Knight Riders</td>\n",
       "      <td>20</td>\n",
       "      <td>1</td>\n",
       "      <td>J Archer</td>\n",
       "      <td>JD Unadkat</td>\n",
       "      <td>P Krishna</td>\n",
       "      <td>0</td>\n",
       "      <td>...</td>\n",
       "      <td>0</td>\n",
       "      <td>0</td>\n",
       "      <td>4</td>\n",
       "      <td>0</td>\n",
       "      <td>4</td>\n",
       "      <td>NaN</td>\n",
       "      <td>NaN</td>\n",
       "      <td>NaN</td>\n",
       "      <td>1</td>\n",
       "      <td>0</td>\n",
       "    </tr>\n",
       "    <tr>\n",
       "      <th>175187</th>\n",
       "      <td>11334</td>\n",
       "      <td>2</td>\n",
       "      <td>Rajasthan Royals</td>\n",
       "      <td>Kolkata Knight Riders</td>\n",
       "      <td>20</td>\n",
       "      <td>2</td>\n",
       "      <td>J Archer</td>\n",
       "      <td>JD Unadkat</td>\n",
       "      <td>P Krishna</td>\n",
       "      <td>0</td>\n",
       "      <td>...</td>\n",
       "      <td>0</td>\n",
       "      <td>0</td>\n",
       "      <td>6</td>\n",
       "      <td>0</td>\n",
       "      <td>6</td>\n",
       "      <td>NaN</td>\n",
       "      <td>NaN</td>\n",
       "      <td>NaN</td>\n",
       "      <td>0</td>\n",
       "      <td>1</td>\n",
       "    </tr>\n",
       "  </tbody>\n",
       "</table>\n",
       "<p>4783 rows × 23 columns</p>\n",
       "</div>"
      ],
      "text/plain": [
       "        match_id  inning      batting_team           bowling_team  over  ball  \\\n",
       "18123         78       1  Rajasthan Royals  Kolkata Knight Riders     1     1   \n",
       "18124         78       1  Rajasthan Royals  Kolkata Knight Riders     1     2   \n",
       "18125         78       1  Rajasthan Royals  Kolkata Knight Riders     1     3   \n",
       "18126         78       1  Rajasthan Royals  Kolkata Knight Riders     1     4   \n",
       "18127         78       1  Rajasthan Royals  Kolkata Knight Riders     1     5   \n",
       "...          ...     ...               ...                    ...   ...   ...   \n",
       "175183     11334       2  Rajasthan Royals  Kolkata Knight Riders    19     4   \n",
       "175184     11334       2  Rajasthan Royals  Kolkata Knight Riders    19     5   \n",
       "175185     11334       2  Rajasthan Royals  Kolkata Knight Riders    19     6   \n",
       "175186     11334       2  Rajasthan Royals  Kolkata Knight Riders    20     1   \n",
       "175187     11334       2  Rajasthan Royals  Kolkata Knight Riders    20     2   \n",
       "\n",
       "            batsman  non_striker      bowler  is_super_over  ...  noball_runs  \\\n",
       "18123      GC Smith  SA Asnodkar    AB Dinda              0  ...            0   \n",
       "18124      GC Smith  SA Asnodkar    AB Dinda              0  ...            0   \n",
       "18125      GC Smith  SA Asnodkar    AB Dinda              0  ...            0   \n",
       "18126   SA Asnodkar     GC Smith    AB Dinda              0  ...            0   \n",
       "18127   SA Asnodkar     GC Smith    AB Dinda              0  ...            0   \n",
       "...             ...          ...         ...            ...  ...          ...   \n",
       "175183      R Parag     J Archer  AD Russell              0  ...            0   \n",
       "175184      R Parag     J Archer  AD Russell              0  ...            0   \n",
       "175185   JD Unadkat     J Archer  AD Russell              0  ...            0   \n",
       "175186     J Archer   JD Unadkat   P Krishna              0  ...            0   \n",
       "175187     J Archer   JD Unadkat   P Krishna              0  ...            0   \n",
       "\n",
       "        penalty_runs  batsman_runs  extra_runs  total_runs  player_dismissed  \\\n",
       "18123              0             0           0           0               NaN   \n",
       "18124              0             0           0           0               NaN   \n",
       "18125              0             1           0           1               NaN   \n",
       "18126              0             4           0           4               NaN   \n",
       "18127              0             0           0           0               NaN   \n",
       "...              ...           ...         ...         ...               ...   \n",
       "175183             0             6           0           6               NaN   \n",
       "175184             0             0           0           0           R Parag   \n",
       "175185             0             0           0           0               NaN   \n",
       "175186             0             4           0           4               NaN   \n",
       "175187             0             6           0           6               NaN   \n",
       "\n",
       "        dismissal_kind  fielder four six  \n",
       "18123              NaN      NaN    0   0  \n",
       "18124              NaN      NaN    0   0  \n",
       "18125              NaN      NaN    0   0  \n",
       "18126              NaN      NaN    1   0  \n",
       "18127              NaN      NaN    0   0  \n",
       "...                ...      ...  ...  ..  \n",
       "175183             NaN      NaN    0   1  \n",
       "175184      hit wicket      NaN    0   0  \n",
       "175185             NaN      NaN    0   0  \n",
       "175186             NaN      NaN    1   0  \n",
       "175187             NaN      NaN    0   1  \n",
       "\n",
       "[4783 rows x 23 columns]"
      ]
     },
     "execution_count": 86,
     "metadata": {},
     "output_type": "execute_result"
    }
   ],
   "source": [
    "kkr_rr_del"
   ]
  },
  {
   "cell_type": "code",
   "execution_count": 89,
   "metadata": {},
   "outputs": [
    {
     "data": {
      "text/html": [
       "<div>\n",
       "<style scoped>\n",
       "    .dataframe tbody tr th:only-of-type {\n",
       "        vertical-align: middle;\n",
       "    }\n",
       "\n",
       "    .dataframe tbody tr th {\n",
       "        vertical-align: top;\n",
       "    }\n",
       "\n",
       "    .dataframe thead th {\n",
       "        text-align: right;\n",
       "    }\n",
       "</style>\n",
       "<table border=\"1\" class=\"dataframe\">\n",
       "  <thead>\n",
       "    <tr style=\"text-align: right;\">\n",
       "      <th></th>\n",
       "      <th>match_id</th>\n",
       "      <th>inning</th>\n",
       "      <th>batting_team</th>\n",
       "      <th>bowling_team</th>\n",
       "      <th>over</th>\n",
       "      <th>ball</th>\n",
       "      <th>batsman</th>\n",
       "      <th>non_striker</th>\n",
       "      <th>bowler</th>\n",
       "      <th>is_super_over</th>\n",
       "      <th>...</th>\n",
       "      <th>noball_runs</th>\n",
       "      <th>penalty_runs</th>\n",
       "      <th>batsman_runs</th>\n",
       "      <th>extra_runs</th>\n",
       "      <th>total_runs</th>\n",
       "      <th>player_dismissed</th>\n",
       "      <th>dismissal_kind</th>\n",
       "      <th>fielder</th>\n",
       "      <th>four</th>\n",
       "      <th>six</th>\n",
       "    </tr>\n",
       "  </thead>\n",
       "  <tbody>\n",
       "    <tr>\n",
       "      <th>161943</th>\n",
       "      <td>7942</td>\n",
       "      <td>2</td>\n",
       "      <td>Kolkata Knight Riders</td>\n",
       "      <td>Rajasthan Royals</td>\n",
       "      <td>3</td>\n",
       "      <td>1</td>\n",
       "      <td>RV Uthappa</td>\n",
       "      <td>CA Lynn</td>\n",
       "      <td>J Archer</td>\n",
       "      <td>0</td>\n",
       "      <td>...</td>\n",
       "      <td>0</td>\n",
       "      <td>0</td>\n",
       "      <td>0</td>\n",
       "      <td>0</td>\n",
       "      <td>0</td>\n",
       "      <td>NaN</td>\n",
       "      <td>NaN</td>\n",
       "      <td>NaN</td>\n",
       "      <td>0</td>\n",
       "      <td>0</td>\n",
       "    </tr>\n",
       "  </tbody>\n",
       "</table>\n",
       "<p>1 rows × 23 columns</p>\n",
       "</div>"
      ],
      "text/plain": [
       "        match_id  inning           batting_team      bowling_team  over  ball  \\\n",
       "161943      7942       2  Kolkata Knight Riders  Rajasthan Royals     3     1   \n",
       "\n",
       "           batsman non_striker    bowler  is_super_over  ...  noball_runs  \\\n",
       "161943  RV Uthappa     CA Lynn  J Archer              0  ...            0   \n",
       "\n",
       "        penalty_runs  batsman_runs  extra_runs  total_runs  player_dismissed  \\\n",
       "161943             0             0           0           0               NaN   \n",
       "\n",
       "        dismissal_kind  fielder four six  \n",
       "161943             NaN      NaN    0   0  \n",
       "\n",
       "[1 rows x 23 columns]"
      ]
     },
     "execution_count": 89,
     "metadata": {},
     "output_type": "execute_result"
    }
   ],
   "source": [
    "name = 'J Archer'\n",
    "Archer = kkr_rr_del[kkr_rr_del['bowler'] == name]\n",
    "Archer.head(1)"
   ]
  },
  {
   "cell_type": "code",
   "execution_count": 96,
   "metadata": {},
   "outputs": [
    {
     "data": {
      "text/plain": [
       "array([ 7942,  7951, 11312, 11334], dtype=int64)"
      ]
     },
     "execution_count": 96,
     "metadata": {},
     "output_type": "execute_result"
    }
   ],
   "source": [
    "Archer['match_id'].unique()"
   ]
  },
  {
   "cell_type": "code",
   "execution_count": 94,
   "metadata": {},
   "outputs": [],
   "source": [
    "Jofra_boundary= Archer[Archer[\"four\"]!=0][[\"match_id\",\"ball\",\"bowler\"]] # here taking boundary off the bowler/boundary conceived I am not considering include in over\n",
    "Jofra_boundary = Jofra_boundary.groupby([\"match_id\",\"bowler\"])[\"ball\"].count().reset_index().sort_values(by=\"ball\",ascending=False).reset_index(drop=True)"
   ]
  },
  {
   "cell_type": "code",
   "execution_count": 95,
   "metadata": {},
   "outputs": [
    {
     "data": {
      "text/html": [
       "<div>\n",
       "<style scoped>\n",
       "    .dataframe tbody tr th:only-of-type {\n",
       "        vertical-align: middle;\n",
       "    }\n",
       "\n",
       "    .dataframe tbody tr th {\n",
       "        vertical-align: top;\n",
       "    }\n",
       "\n",
       "    .dataframe thead th {\n",
       "        text-align: right;\n",
       "    }\n",
       "</style>\n",
       "<table border=\"1\" class=\"dataframe\">\n",
       "  <thead>\n",
       "    <tr style=\"text-align: right;\">\n",
       "      <th></th>\n",
       "      <th>match_id</th>\n",
       "      <th>bowler</th>\n",
       "      <th>ball</th>\n",
       "    </tr>\n",
       "  </thead>\n",
       "  <tbody>\n",
       "    <tr>\n",
       "      <th>0</th>\n",
       "      <td>7942</td>\n",
       "      <td>J Archer</td>\n",
       "      <td>6</td>\n",
       "    </tr>\n",
       "    <tr>\n",
       "      <th>1</th>\n",
       "      <td>7951</td>\n",
       "      <td>J Archer</td>\n",
       "      <td>2</td>\n",
       "    </tr>\n",
       "    <tr>\n",
       "      <th>2</th>\n",
       "      <td>11312</td>\n",
       "      <td>J Archer</td>\n",
       "      <td>1</td>\n",
       "    </tr>\n",
       "  </tbody>\n",
       "</table>\n",
       "</div>"
      ],
      "text/plain": [
       "   match_id    bowler  ball\n",
       "0      7942  J Archer     6\n",
       "1      7951  J Archer     2\n",
       "2     11312  J Archer     1"
      ]
     },
     "execution_count": 95,
     "metadata": {},
     "output_type": "execute_result"
    }
   ],
   "source": [
    "Jofra_boundary"
   ]
  },
  {
   "cell_type": "code",
   "execution_count": 100,
   "metadata": {},
   "outputs": [
    {
     "data": {
      "text/html": [
       "<div>\n",
       "<style scoped>\n",
       "    .dataframe tbody tr th:only-of-type {\n",
       "        vertical-align: middle;\n",
       "    }\n",
       "\n",
       "    .dataframe tbody tr th {\n",
       "        vertical-align: top;\n",
       "    }\n",
       "\n",
       "    .dataframe thead th {\n",
       "        text-align: right;\n",
       "    }\n",
       "</style>\n",
       "<table border=\"1\" class=\"dataframe\">\n",
       "  <thead>\n",
       "    <tr style=\"text-align: right;\">\n",
       "      <th></th>\n",
       "      <th>match_id</th>\n",
       "      <th>bowler</th>\n",
       "      <th>Wickets</th>\n",
       "    </tr>\n",
       "  </thead>\n",
       "  <tbody>\n",
       "    <tr>\n",
       "      <th>0</th>\n",
       "      <td>7951</td>\n",
       "      <td>J Archer</td>\n",
       "      <td>2</td>\n",
       "    </tr>\n",
       "  </tbody>\n",
       "</table>\n",
       "</div>"
      ],
      "text/plain": [
       "   match_id    bowler  Wickets\n",
       "0      7951  J Archer        2"
      ]
     },
     "execution_count": 100,
     "metadata": {},
     "output_type": "execute_result"
    }
   ],
   "source": [
    "Jofra_wicket = Archer[Archer[\"dismissal_kind\"] != \"run out\"]\n",
    "Jofra_wicket= Jofra_wicket[[\"match_id\",\"bowler\",\"player_dismissed\"]]\n",
    "Jofra_wicket = Jofra_wicket.dropna()\n",
    "Jofra_wicket= Jofra_wicket.groupby([\"match_id\",\"bowler\"])[\"player_dismissed\"].count().reset_index().sort_values(by=\"player_dismissed\",ascending=False).reset_index(drop=True)\n",
    "Jofra_wicket.columns=[\"match_id\",\"bowler\",\"Wickets\"]\n",
    "Jofra_wicket"
   ]
  },
  {
   "cell_type": "code",
   "execution_count": 108,
   "metadata": {},
   "outputs": [
    {
     "data": {
      "text/html": [
       "<div>\n",
       "<style scoped>\n",
       "    .dataframe tbody tr th:only-of-type {\n",
       "        vertical-align: middle;\n",
       "    }\n",
       "\n",
       "    .dataframe tbody tr th {\n",
       "        vertical-align: top;\n",
       "    }\n",
       "\n",
       "    .dataframe thead th {\n",
       "        text-align: right;\n",
       "    }\n",
       "</style>\n",
       "<table border=\"1\" class=\"dataframe\">\n",
       "  <thead>\n",
       "    <tr style=\"text-align: right;\">\n",
       "      <th></th>\n",
       "      <th>match_id</th>\n",
       "      <th>bowler</th>\n",
       "      <th>ball</th>\n",
       "      <th>No_of_Overs</th>\n",
       "    </tr>\n",
       "  </thead>\n",
       "  <tbody>\n",
       "    <tr>\n",
       "      <th>0</th>\n",
       "      <td>7942</td>\n",
       "      <td>J Archer</td>\n",
       "      <td>24</td>\n",
       "      <td>4.000000</td>\n",
       "    </tr>\n",
       "    <tr>\n",
       "      <th>1</th>\n",
       "      <td>7951</td>\n",
       "      <td>J Archer</td>\n",
       "      <td>24</td>\n",
       "      <td>4.000000</td>\n",
       "    </tr>\n",
       "    <tr>\n",
       "      <th>2</th>\n",
       "      <td>11334</td>\n",
       "      <td>J Archer</td>\n",
       "      <td>24</td>\n",
       "      <td>4.000000</td>\n",
       "    </tr>\n",
       "    <tr>\n",
       "      <th>3</th>\n",
       "      <td>11312</td>\n",
       "      <td>J Archer</td>\n",
       "      <td>17</td>\n",
       "      <td>2.833333</td>\n",
       "    </tr>\n",
       "  </tbody>\n",
       "</table>\n",
       "</div>"
      ],
      "text/plain": [
       "   match_id    bowler  ball  No_of_Overs\n",
       "0      7942  J Archer    24     4.000000\n",
       "1      7951  J Archer    24     4.000000\n",
       "2     11334  J Archer    24     4.000000\n",
       "3     11312  J Archer    17     2.833333"
      ]
     },
     "execution_count": 108,
     "metadata": {},
     "output_type": "execute_result"
    }
   ],
   "source": [
    "Jofra_over= Archer[Archer[\"extra_runs\"]==0][[\"match_id\",\"ball\",\"bowler\"]] # here extra balls I am not considering include in over\n",
    "Jofra_over= Jofra_over.groupby([\"match_id\",\"bowler\"])[\"ball\"].count().reset_index().sort_values(by=\"ball\",ascending=False).reset_index(drop=True)\n",
    "Jofra_over[\"No_of_Overs\"]=(Jofra_over[\"ball\"]/6)\n",
    "Jofra_over"
   ]
  },
  {
   "cell_type": "code",
   "execution_count": 107,
   "metadata": {},
   "outputs": [
    {
     "data": {
      "text/html": [
       "<div>\n",
       "<style scoped>\n",
       "    .dataframe tbody tr th:only-of-type {\n",
       "        vertical-align: middle;\n",
       "    }\n",
       "\n",
       "    .dataframe tbody tr th {\n",
       "        vertical-align: top;\n",
       "    }\n",
       "\n",
       "    .dataframe thead th {\n",
       "        text-align: right;\n",
       "    }\n",
       "</style>\n",
       "<table border=\"1\" class=\"dataframe\">\n",
       "  <thead>\n",
       "    <tr style=\"text-align: right;\">\n",
       "      <th></th>\n",
       "      <th>match_id</th>\n",
       "      <th>bowler</th>\n",
       "      <th>No_of_balls</th>\n",
       "    </tr>\n",
       "  </thead>\n",
       "  <tbody>\n",
       "    <tr>\n",
       "      <th>0</th>\n",
       "      <td>7951</td>\n",
       "      <td>J Archer</td>\n",
       "      <td>12</td>\n",
       "    </tr>\n",
       "    <tr>\n",
       "      <th>1</th>\n",
       "      <td>11334</td>\n",
       "      <td>J Archer</td>\n",
       "      <td>12</td>\n",
       "    </tr>\n",
       "    <tr>\n",
       "      <th>2</th>\n",
       "      <td>11312</td>\n",
       "      <td>J Archer</td>\n",
       "      <td>11</td>\n",
       "    </tr>\n",
       "    <tr>\n",
       "      <th>3</th>\n",
       "      <td>7942</td>\n",
       "      <td>J Archer</td>\n",
       "      <td>10</td>\n",
       "    </tr>\n",
       "  </tbody>\n",
       "</table>\n",
       "</div>"
      ],
      "text/plain": [
       "   match_id    bowler  No_of_balls\n",
       "0      7951  J Archer           12\n",
       "1     11334  J Archer           12\n",
       "2     11312  J Archer           11\n",
       "3      7942  J Archer           10"
      ]
     },
     "execution_count": 107,
     "metadata": {},
     "output_type": "execute_result"
    }
   ],
   "source": [
    "Jofra_dotball= Archer.groupby([\"match_id\",\"bowler\"])[\"total_runs\"].agg(lambda x: (x==0).sum()).reset_index().sort_values(by=\"total_runs\",ascending=False).reset_index(drop=True)\n",
    "Jofra_dotball.columns=[\"match_id\",\"bowler\",\"No_of_balls\"]\n",
    "Jofra_dotball"
   ]
  },
  {
   "cell_type": "code",
   "execution_count": 106,
   "metadata": {},
   "outputs": [
    {
     "data": {
      "text/html": [
       "<div>\n",
       "<style scoped>\n",
       "    .dataframe tbody tr th:only-of-type {\n",
       "        vertical-align: middle;\n",
       "    }\n",
       "\n",
       "    .dataframe tbody tr th {\n",
       "        vertical-align: top;\n",
       "    }\n",
       "\n",
       "    .dataframe thead th {\n",
       "        text-align: right;\n",
       "    }\n",
       "</style>\n",
       "<table border=\"1\" class=\"dataframe\">\n",
       "  <thead>\n",
       "    <tr style=\"text-align: right;\">\n",
       "      <th></th>\n",
       "      <th>match_id</th>\n",
       "      <th>bowler</th>\n",
       "      <th>No_of_balls</th>\n",
       "    </tr>\n",
       "  </thead>\n",
       "  <tbody>\n",
       "    <tr>\n",
       "      <th>0</th>\n",
       "      <td>7951</td>\n",
       "      <td>J Archer</td>\n",
       "      <td>4</td>\n",
       "    </tr>\n",
       "    <tr>\n",
       "      <th>1</th>\n",
       "      <td>11312</td>\n",
       "      <td>J Archer</td>\n",
       "      <td>1</td>\n",
       "    </tr>\n",
       "    <tr>\n",
       "      <th>2</th>\n",
       "      <td>11334</td>\n",
       "      <td>J Archer</td>\n",
       "      <td>1</td>\n",
       "    </tr>\n",
       "    <tr>\n",
       "      <th>3</th>\n",
       "      <td>7942</td>\n",
       "      <td>J Archer</td>\n",
       "      <td>0</td>\n",
       "    </tr>\n",
       "  </tbody>\n",
       "</table>\n",
       "</div>"
      ],
      "text/plain": [
       "   match_id    bowler  No_of_balls\n",
       "0      7951  J Archer            4\n",
       "1     11312  J Archer            1\n",
       "2     11334  J Archer            1\n",
       "3      7942  J Archer            0"
      ]
     },
     "execution_count": 106,
     "metadata": {},
     "output_type": "execute_result"
    }
   ],
   "source": [
    "Jofra_extraball= Archer.groupby([\"match_id\",\"bowler\"])[\"extra_runs\"].agg(lambda x: (x>0).sum()).reset_index().sort_values(by=\"extra_runs\",ascending=False).reset_index(drop=True)\n",
    "Jofra_extraball.columns=[\"match_id\",\"bowler\",\"No_of_balls\"]\n",
    "Jofra_extraball"
   ]
  },
  {
   "cell_type": "code",
   "execution_count": 105,
   "metadata": {},
   "outputs": [
    {
     "data": {
      "text/html": [
       "<div>\n",
       "<style scoped>\n",
       "    .dataframe tbody tr th:only-of-type {\n",
       "        vertical-align: middle;\n",
       "    }\n",
       "\n",
       "    .dataframe tbody tr th {\n",
       "        vertical-align: top;\n",
       "    }\n",
       "\n",
       "    .dataframe thead th {\n",
       "        text-align: right;\n",
       "    }\n",
       "</style>\n",
       "<table border=\"1\" class=\"dataframe\">\n",
       "  <thead>\n",
       "    <tr style=\"text-align: right;\">\n",
       "      <th></th>\n",
       "      <th>match_id</th>\n",
       "      <th>bowler</th>\n",
       "      <th>Total_runs_given</th>\n",
       "    </tr>\n",
       "  </thead>\n",
       "  <tbody>\n",
       "    <tr>\n",
       "      <th>0</th>\n",
       "      <td>7942</td>\n",
       "      <td>J Archer</td>\n",
       "      <td>43</td>\n",
       "    </tr>\n",
       "    <tr>\n",
       "      <th>1</th>\n",
       "      <td>7951</td>\n",
       "      <td>J Archer</td>\n",
       "      <td>37</td>\n",
       "    </tr>\n",
       "    <tr>\n",
       "      <th>2</th>\n",
       "      <td>11334</td>\n",
       "      <td>J Archer</td>\n",
       "      <td>29</td>\n",
       "    </tr>\n",
       "    <tr>\n",
       "      <th>3</th>\n",
       "      <td>11312</td>\n",
       "      <td>J Archer</td>\n",
       "      <td>16</td>\n",
       "    </tr>\n",
       "  </tbody>\n",
       "</table>\n",
       "</div>"
      ],
      "text/plain": [
       "   match_id    bowler  Total_runs_given\n",
       "0      7942  J Archer                43\n",
       "1      7951  J Archer                37\n",
       "2     11334  J Archer                29\n",
       "3     11312  J Archer                16"
      ]
     },
     "execution_count": 105,
     "metadata": {},
     "output_type": "execute_result"
    }
   ],
   "source": [
    "Jofra_Runs= Archer.groupby([\"match_id\",\"bowler\"])[\"total_runs\"].sum().reset_index().sort_values(by=\"total_runs\",ascending=False).reset_index(drop=True)\n",
    "Jofra_Runs.columns=[\"match_id\",\"bowler\",\"Total_runs_given\"]\n",
    "Jofra_Runs"
   ]
  },
  {
   "cell_type": "code",
   "execution_count": 109,
   "metadata": {},
   "outputs": [],
   "source": [
    "Jofra_economy= pd.merge(Jofra_Runs,Jofra_over,on=\"bowler\")"
   ]
  },
  {
   "cell_type": "code",
   "execution_count": 114,
   "metadata": {},
   "outputs": [
    {
     "data": {
      "text/html": [
       "<div>\n",
       "<style scoped>\n",
       "    .dataframe tbody tr th:only-of-type {\n",
       "        vertical-align: middle;\n",
       "    }\n",
       "\n",
       "    .dataframe tbody tr th {\n",
       "        vertical-align: top;\n",
       "    }\n",
       "\n",
       "    .dataframe thead th {\n",
       "        text-align: right;\n",
       "    }\n",
       "</style>\n",
       "<table border=\"1\" class=\"dataframe\">\n",
       "  <thead>\n",
       "    <tr style=\"text-align: right;\">\n",
       "      <th></th>\n",
       "      <th>match_id_x</th>\n",
       "      <th>bowler</th>\n",
       "      <th>Total_runs_given</th>\n",
       "      <th>match_id_y</th>\n",
       "      <th>ball</th>\n",
       "      <th>No_of_Overs</th>\n",
       "      <th>Economy_rate</th>\n",
       "    </tr>\n",
       "  </thead>\n",
       "  <tbody>\n",
       "    <tr>\n",
       "      <th>0</th>\n",
       "      <td>11312</td>\n",
       "      <td>J Archer</td>\n",
       "      <td>16</td>\n",
       "      <td>7942</td>\n",
       "      <td>24</td>\n",
       "      <td>4.0</td>\n",
       "      <td>4.00</td>\n",
       "    </tr>\n",
       "    <tr>\n",
       "      <th>1</th>\n",
       "      <td>11312</td>\n",
       "      <td>J Archer</td>\n",
       "      <td>16</td>\n",
       "      <td>7951</td>\n",
       "      <td>24</td>\n",
       "      <td>4.0</td>\n",
       "      <td>4.00</td>\n",
       "    </tr>\n",
       "    <tr>\n",
       "      <th>2</th>\n",
       "      <td>11312</td>\n",
       "      <td>J Archer</td>\n",
       "      <td>16</td>\n",
       "      <td>11334</td>\n",
       "      <td>24</td>\n",
       "      <td>4.0</td>\n",
       "      <td>4.00</td>\n",
       "    </tr>\n",
       "    <tr>\n",
       "      <th>3</th>\n",
       "      <td>11334</td>\n",
       "      <td>J Archer</td>\n",
       "      <td>29</td>\n",
       "      <td>7942</td>\n",
       "      <td>24</td>\n",
       "      <td>4.0</td>\n",
       "      <td>7.25</td>\n",
       "    </tr>\n",
       "    <tr>\n",
       "      <th>4</th>\n",
       "      <td>11334</td>\n",
       "      <td>J Archer</td>\n",
       "      <td>29</td>\n",
       "      <td>7951</td>\n",
       "      <td>24</td>\n",
       "      <td>4.0</td>\n",
       "      <td>7.25</td>\n",
       "    </tr>\n",
       "    <tr>\n",
       "      <th>5</th>\n",
       "      <td>11334</td>\n",
       "      <td>J Archer</td>\n",
       "      <td>29</td>\n",
       "      <td>11334</td>\n",
       "      <td>24</td>\n",
       "      <td>4.0</td>\n",
       "      <td>7.25</td>\n",
       "    </tr>\n",
       "    <tr>\n",
       "      <th>6</th>\n",
       "      <td>7951</td>\n",
       "      <td>J Archer</td>\n",
       "      <td>37</td>\n",
       "      <td>7942</td>\n",
       "      <td>24</td>\n",
       "      <td>4.0</td>\n",
       "      <td>9.25</td>\n",
       "    </tr>\n",
       "    <tr>\n",
       "      <th>7</th>\n",
       "      <td>7951</td>\n",
       "      <td>J Archer</td>\n",
       "      <td>37</td>\n",
       "      <td>7951</td>\n",
       "      <td>24</td>\n",
       "      <td>4.0</td>\n",
       "      <td>9.25</td>\n",
       "    </tr>\n",
       "    <tr>\n",
       "      <th>8</th>\n",
       "      <td>7951</td>\n",
       "      <td>J Archer</td>\n",
       "      <td>37</td>\n",
       "      <td>11334</td>\n",
       "      <td>24</td>\n",
       "      <td>4.0</td>\n",
       "      <td>9.25</td>\n",
       "    </tr>\n",
       "    <tr>\n",
       "      <th>9</th>\n",
       "      <td>7942</td>\n",
       "      <td>J Archer</td>\n",
       "      <td>43</td>\n",
       "      <td>7942</td>\n",
       "      <td>24</td>\n",
       "      <td>4.0</td>\n",
       "      <td>10.75</td>\n",
       "    </tr>\n",
       "    <tr>\n",
       "      <th>10</th>\n",
       "      <td>7942</td>\n",
       "      <td>J Archer</td>\n",
       "      <td>43</td>\n",
       "      <td>7951</td>\n",
       "      <td>24</td>\n",
       "      <td>4.0</td>\n",
       "      <td>10.75</td>\n",
       "    </tr>\n",
       "    <tr>\n",
       "      <th>11</th>\n",
       "      <td>7942</td>\n",
       "      <td>J Archer</td>\n",
       "      <td>43</td>\n",
       "      <td>11334</td>\n",
       "      <td>24</td>\n",
       "      <td>4.0</td>\n",
       "      <td>10.75</td>\n",
       "    </tr>\n",
       "  </tbody>\n",
       "</table>\n",
       "</div>"
      ],
      "text/plain": [
       "    match_id_x    bowler  Total_runs_given  match_id_y  ball  No_of_Overs  \\\n",
       "0        11312  J Archer                16        7942    24          4.0   \n",
       "1        11312  J Archer                16        7951    24          4.0   \n",
       "2        11312  J Archer                16       11334    24          4.0   \n",
       "3        11334  J Archer                29        7942    24          4.0   \n",
       "4        11334  J Archer                29        7951    24          4.0   \n",
       "5        11334  J Archer                29       11334    24          4.0   \n",
       "6         7951  J Archer                37        7942    24          4.0   \n",
       "7         7951  J Archer                37        7951    24          4.0   \n",
       "8         7951  J Archer                37       11334    24          4.0   \n",
       "9         7942  J Archer                43        7942    24          4.0   \n",
       "10        7942  J Archer                43        7951    24          4.0   \n",
       "11        7942  J Archer                43       11334    24          4.0   \n",
       "\n",
       "    Economy_rate  \n",
       "0           4.00  \n",
       "1           4.00  \n",
       "2           4.00  \n",
       "3           7.25  \n",
       "4           7.25  \n",
       "5           7.25  \n",
       "6           9.25  \n",
       "7           9.25  \n",
       "8           9.25  \n",
       "9          10.75  \n",
       "10         10.75  \n",
       "11         10.75  "
      ]
     },
     "execution_count": 114,
     "metadata": {},
     "output_type": "execute_result"
    }
   ],
   "source": [
    "Jofra_economy=Jofra_economy[Jofra_economy[\"No_of_Overs\"]>=4] # Jofra Archer has played 4 matches and taking only when he bowled 4 overs\n",
    "Jofra_economy[\"Economy_rate\"]=Jofra_economy[\"Total_runs_given\"]/Jofra_economy[\"No_of_Overs\"]\n",
    "Jofra_economy=Jofra_economy.sort_values(by=\"Economy_rate\").reset_index(drop=True)\n",
    "Jofra_economy"
   ]
  },
  {
   "cell_type": "markdown",
   "metadata": {},
   "source": [
    "# Bowler Economy in the Match "
   ]
  },
  {
   "cell_type": "code",
   "execution_count": 115,
   "metadata": {},
   "outputs": [
    {
     "data": {
      "text/html": [
       "<div>\n",
       "<style scoped>\n",
       "    .dataframe tbody tr th:only-of-type {\n",
       "        vertical-align: middle;\n",
       "    }\n",
       "\n",
       "    .dataframe tbody tr th {\n",
       "        vertical-align: top;\n",
       "    }\n",
       "\n",
       "    .dataframe thead th {\n",
       "        text-align: right;\n",
       "    }\n",
       "</style>\n",
       "<table border=\"1\" class=\"dataframe\">\n",
       "  <thead>\n",
       "    <tr style=\"text-align: right;\">\n",
       "      <th></th>\n",
       "      <th>bowler</th>\n",
       "      <th>Wickets</th>\n",
       "    </tr>\n",
       "  </thead>\n",
       "  <tbody>\n",
       "    <tr>\n",
       "      <th>0</th>\n",
       "      <td>Shakib Al Hasan</td>\n",
       "      <td>9</td>\n",
       "    </tr>\n",
       "    <tr>\n",
       "      <th>1</th>\n",
       "      <td>SP Narine</td>\n",
       "      <td>9</td>\n",
       "    </tr>\n",
       "    <tr>\n",
       "      <th>2</th>\n",
       "      <td>SK Trivedi</td>\n",
       "      <td>9</td>\n",
       "    </tr>\n",
       "    <tr>\n",
       "      <th>3</th>\n",
       "      <td>SR Watson</td>\n",
       "      <td>8</td>\n",
       "    </tr>\n",
       "    <tr>\n",
       "      <th>4</th>\n",
       "      <td>YK Pathan</td>\n",
       "      <td>6</td>\n",
       "    </tr>\n",
       "    <tr>\n",
       "      <th>5</th>\n",
       "      <td>MM Patel</td>\n",
       "      <td>6</td>\n",
       "    </tr>\n",
       "    <tr>\n",
       "      <th>6</th>\n",
       "      <td>AD Russell</td>\n",
       "      <td>6</td>\n",
       "    </tr>\n",
       "    <tr>\n",
       "      <th>7</th>\n",
       "      <td>KK Cooper</td>\n",
       "      <td>6</td>\n",
       "    </tr>\n",
       "    <tr>\n",
       "      <th>8</th>\n",
       "      <td>Kamran Khan</td>\n",
       "      <td>6</td>\n",
       "    </tr>\n",
       "    <tr>\n",
       "      <th>9</th>\n",
       "      <td>Kuldeep Yadav</td>\n",
       "      <td>6</td>\n",
       "    </tr>\n",
       "    <tr>\n",
       "      <th>10</th>\n",
       "      <td>I Sharma</td>\n",
       "      <td>6</td>\n",
       "    </tr>\n",
       "    <tr>\n",
       "      <th>11</th>\n",
       "      <td>PP Chawla</td>\n",
       "      <td>6</td>\n",
       "    </tr>\n",
       "    <tr>\n",
       "      <th>12</th>\n",
       "      <td>Umar Gul</td>\n",
       "      <td>5</td>\n",
       "    </tr>\n",
       "    <tr>\n",
       "      <th>13</th>\n",
       "      <td>Sohail Tanvir</td>\n",
       "      <td>5</td>\n",
       "    </tr>\n",
       "    <tr>\n",
       "      <th>14</th>\n",
       "      <td>PV Tambe</td>\n",
       "      <td>5</td>\n",
       "    </tr>\n",
       "    <tr>\n",
       "      <th>15</th>\n",
       "      <td>P Krishna</td>\n",
       "      <td>5</td>\n",
       "    </tr>\n",
       "    <tr>\n",
       "      <th>16</th>\n",
       "      <td>R Vinay Kumar</td>\n",
       "      <td>4</td>\n",
       "    </tr>\n",
       "    <tr>\n",
       "      <th>17</th>\n",
       "      <td>R Bhatia</td>\n",
       "      <td>4</td>\n",
       "    </tr>\n",
       "    <tr>\n",
       "      <th>18</th>\n",
       "      <td>JP Faulkner</td>\n",
       "      <td>4</td>\n",
       "    </tr>\n",
       "    <tr>\n",
       "      <th>19</th>\n",
       "      <td>S Gopal</td>\n",
       "      <td>4</td>\n",
       "    </tr>\n",
       "  </tbody>\n",
       "</table>\n",
       "</div>"
      ],
      "text/plain": [
       "             bowler  Wickets\n",
       "0   Shakib Al Hasan        9\n",
       "1         SP Narine        9\n",
       "2        SK Trivedi        9\n",
       "3         SR Watson        8\n",
       "4         YK Pathan        6\n",
       "5          MM Patel        6\n",
       "6        AD Russell        6\n",
       "7         KK Cooper        6\n",
       "8       Kamran Khan        6\n",
       "9     Kuldeep Yadav        6\n",
       "10         I Sharma        6\n",
       "11        PP Chawla        6\n",
       "12         Umar Gul        5\n",
       "13    Sohail Tanvir        5\n",
       "14         PV Tambe        5\n",
       "15        P Krishna        5\n",
       "16    R Vinay Kumar        4\n",
       "17         R Bhatia        4\n",
       "18      JP Faulkner        4\n",
       "19          S Gopal        4"
      ]
     },
     "execution_count": 115,
     "metadata": {},
     "output_type": "execute_result"
    }
   ],
   "source": [
    "Bowler_wicket = kkr_rr_del[kkr_rr_del[\"dismissal_kind\"] != \"run out\"]\n",
    "Bowler_wicket= Bowler_wicket[[\"bowler\",\"player_dismissed\"]]\n",
    "Bowler_wicket = Bowler_wicket.dropna()\n",
    "Bowler_wicket= Bowler_wicket.groupby(\"bowler\")[\"player_dismissed\"].count().reset_index().sort_values(by=\"player_dismissed\",ascending=False).reset_index(drop=True)\n",
    "Bowler_wicket.columns=[\"bowler\",\"Wickets\"]\n",
    "Bowler_wicket.iloc[:20,:]"
   ]
  },
  {
   "cell_type": "code",
   "execution_count": 116,
   "metadata": {},
   "outputs": [
    {
     "data": {
      "text/html": [
       "<div>\n",
       "<style scoped>\n",
       "    .dataframe tbody tr th:only-of-type {\n",
       "        vertical-align: middle;\n",
       "    }\n",
       "\n",
       "    .dataframe tbody tr th {\n",
       "        vertical-align: top;\n",
       "    }\n",
       "\n",
       "    .dataframe thead th {\n",
       "        text-align: right;\n",
       "    }\n",
       "</style>\n",
       "<table border=\"1\" class=\"dataframe\">\n",
       "  <thead>\n",
       "    <tr style=\"text-align: right;\">\n",
       "      <th></th>\n",
       "      <th>bowler</th>\n",
       "      <th>balls</th>\n",
       "    </tr>\n",
       "  </thead>\n",
       "  <tbody>\n",
       "    <tr>\n",
       "      <th>0</th>\n",
       "      <td>SP Narine</td>\n",
       "      <td>103</td>\n",
       "    </tr>\n",
       "    <tr>\n",
       "      <th>1</th>\n",
       "      <td>SR Watson</td>\n",
       "      <td>82</td>\n",
       "    </tr>\n",
       "    <tr>\n",
       "      <th>2</th>\n",
       "      <td>SK Trivedi</td>\n",
       "      <td>63</td>\n",
       "    </tr>\n",
       "    <tr>\n",
       "      <th>3</th>\n",
       "      <td>AB Dinda</td>\n",
       "      <td>57</td>\n",
       "    </tr>\n",
       "    <tr>\n",
       "      <th>4</th>\n",
       "      <td>SK Warne</td>\n",
       "      <td>56</td>\n",
       "    </tr>\n",
       "    <tr>\n",
       "      <th>...</th>\n",
       "      <td>...</td>\n",
       "      <td>...</td>\n",
       "    </tr>\n",
       "    <tr>\n",
       "      <th>80</th>\n",
       "      <td>ND Doshi</td>\n",
       "      <td>2</td>\n",
       "    </tr>\n",
       "    <tr>\n",
       "      <th>81</th>\n",
       "      <td>DJ Hussey</td>\n",
       "      <td>1</td>\n",
       "    </tr>\n",
       "    <tr>\n",
       "      <th>82</th>\n",
       "      <td>J Searles</td>\n",
       "      <td>1</td>\n",
       "    </tr>\n",
       "    <tr>\n",
       "      <th>83</th>\n",
       "      <td>FY Fazal</td>\n",
       "      <td>1</td>\n",
       "    </tr>\n",
       "    <tr>\n",
       "      <th>84</th>\n",
       "      <td>BJ Hodge</td>\n",
       "      <td>0</td>\n",
       "    </tr>\n",
       "  </tbody>\n",
       "</table>\n",
       "<p>85 rows × 2 columns</p>\n",
       "</div>"
      ],
      "text/plain": [
       "        bowler  balls\n",
       "0    SP Narine    103\n",
       "1    SR Watson     82\n",
       "2   SK Trivedi     63\n",
       "3     AB Dinda     57\n",
       "4     SK Warne     56\n",
       "..         ...    ...\n",
       "80    ND Doshi      2\n",
       "81   DJ Hussey      1\n",
       "82   J Searles      1\n",
       "83    FY Fazal      1\n",
       "84    BJ Hodge      0\n",
       "\n",
       "[85 rows x 2 columns]"
      ]
     },
     "execution_count": 116,
     "metadata": {},
     "output_type": "execute_result"
    }
   ],
   "source": [
    "Bowler_dotball= kkr_rr_del.groupby(\"bowler\")[\"total_runs\"].agg(lambda x: (x==0).sum()).reset_index().sort_values(by=\"total_runs\",ascending=False).reset_index(drop=True)\n",
    "Bowler_dotball.columns=[\"bowler\",\"balls\"]\n",
    "Bowler_dotball"
   ]
  },
  {
   "cell_type": "code",
   "execution_count": 118,
   "metadata": {},
   "outputs": [
    {
     "data": {
      "text/html": [
       "<div>\n",
       "<style scoped>\n",
       "    .dataframe tbody tr th:only-of-type {\n",
       "        vertical-align: middle;\n",
       "    }\n",
       "\n",
       "    .dataframe tbody tr th {\n",
       "        vertical-align: top;\n",
       "    }\n",
       "\n",
       "    .dataframe thead th {\n",
       "        text-align: right;\n",
       "    }\n",
       "</style>\n",
       "<table border=\"1\" class=\"dataframe\">\n",
       "  <thead>\n",
       "    <tr style=\"text-align: right;\">\n",
       "      <th></th>\n",
       "      <th>bowler</th>\n",
       "      <th>ball</th>\n",
       "      <th>No_of_Overs</th>\n",
       "    </tr>\n",
       "  </thead>\n",
       "  <tbody>\n",
       "    <tr>\n",
       "      <th>0</th>\n",
       "      <td>SP Narine</td>\n",
       "      <td>264</td>\n",
       "      <td>44.000000</td>\n",
       "    </tr>\n",
       "    <tr>\n",
       "      <th>1</th>\n",
       "      <td>SK Trivedi</td>\n",
       "      <td>191</td>\n",
       "      <td>31.833333</td>\n",
       "    </tr>\n",
       "    <tr>\n",
       "      <th>2</th>\n",
       "      <td>SR Watson</td>\n",
       "      <td>176</td>\n",
       "      <td>29.333333</td>\n",
       "    </tr>\n",
       "    <tr>\n",
       "      <th>3</th>\n",
       "      <td>SK Warne</td>\n",
       "      <td>166</td>\n",
       "      <td>27.666667</td>\n",
       "    </tr>\n",
       "    <tr>\n",
       "      <th>4</th>\n",
       "      <td>Shakib Al Hasan</td>\n",
       "      <td>141</td>\n",
       "      <td>23.500000</td>\n",
       "    </tr>\n",
       "    <tr>\n",
       "      <th>...</th>\n",
       "      <td>...</td>\n",
       "      <td>...</td>\n",
       "      <td>...</td>\n",
       "    </tr>\n",
       "    <tr>\n",
       "      <th>80</th>\n",
       "      <td>T Henderson</td>\n",
       "      <td>11</td>\n",
       "      <td>1.833333</td>\n",
       "    </tr>\n",
       "    <tr>\n",
       "      <th>81</th>\n",
       "      <td>AJ Finch</td>\n",
       "      <td>7</td>\n",
       "      <td>1.166667</td>\n",
       "    </tr>\n",
       "    <tr>\n",
       "      <th>82</th>\n",
       "      <td>R Parag</td>\n",
       "      <td>6</td>\n",
       "      <td>1.000000</td>\n",
       "    </tr>\n",
       "    <tr>\n",
       "      <th>83</th>\n",
       "      <td>J Searles</td>\n",
       "      <td>6</td>\n",
       "      <td>1.000000</td>\n",
       "    </tr>\n",
       "    <tr>\n",
       "      <th>84</th>\n",
       "      <td>FY Fazal</td>\n",
       "      <td>6</td>\n",
       "      <td>1.000000</td>\n",
       "    </tr>\n",
       "  </tbody>\n",
       "</table>\n",
       "<p>85 rows × 3 columns</p>\n",
       "</div>"
      ],
      "text/plain": [
       "             bowler  ball  No_of_Overs\n",
       "0         SP Narine   264    44.000000\n",
       "1        SK Trivedi   191    31.833333\n",
       "2         SR Watson   176    29.333333\n",
       "3          SK Warne   166    27.666667\n",
       "4   Shakib Al Hasan   141    23.500000\n",
       "..              ...   ...          ...\n",
       "80      T Henderson    11     1.833333\n",
       "81         AJ Finch     7     1.166667\n",
       "82          R Parag     6     1.000000\n",
       "83        J Searles     6     1.000000\n",
       "84         FY Fazal     6     1.000000\n",
       "\n",
       "[85 rows x 3 columns]"
      ]
     },
     "execution_count": 118,
     "metadata": {},
     "output_type": "execute_result"
    }
   ],
   "source": [
    "Bowler_over= kkr_rr_del[kkr_rr_del[\"extra_runs\"]==0][[\"ball\",\"bowler\"]] # here extra balls I am not considering include in over\n",
    "Bowler_over= Bowler_over.groupby(\"bowler\")[\"ball\"].count().reset_index().sort_values(by=\"ball\",ascending=False).reset_index(drop=True)\n",
    "Bowler_over[\"No_of_Overs\"]=(Bowler_over[\"ball\"]/6)\n",
    "Bowler_over"
   ]
  },
  {
   "cell_type": "code",
   "execution_count": 119,
   "metadata": {},
   "outputs": [
    {
     "data": {
      "text/html": [
       "<div>\n",
       "<style scoped>\n",
       "    .dataframe tbody tr th:only-of-type {\n",
       "        vertical-align: middle;\n",
       "    }\n",
       "\n",
       "    .dataframe tbody tr th {\n",
       "        vertical-align: top;\n",
       "    }\n",
       "\n",
       "    .dataframe thead th {\n",
       "        text-align: right;\n",
       "    }\n",
       "</style>\n",
       "<table border=\"1\" class=\"dataframe\">\n",
       "  <thead>\n",
       "    <tr style=\"text-align: right;\">\n",
       "      <th></th>\n",
       "      <th>bowler</th>\n",
       "      <th>No_of_balls</th>\n",
       "    </tr>\n",
       "  </thead>\n",
       "  <tbody>\n",
       "    <tr>\n",
       "      <th>0</th>\n",
       "      <td>SR Watson</td>\n",
       "      <td>18</td>\n",
       "    </tr>\n",
       "    <tr>\n",
       "      <th>1</th>\n",
       "      <td>YK Pathan</td>\n",
       "      <td>15</td>\n",
       "    </tr>\n",
       "    <tr>\n",
       "      <th>2</th>\n",
       "      <td>SW Tait</td>\n",
       "      <td>11</td>\n",
       "    </tr>\n",
       "    <tr>\n",
       "      <th>3</th>\n",
       "      <td>JP Faulkner</td>\n",
       "      <td>11</td>\n",
       "    </tr>\n",
       "    <tr>\n",
       "      <th>4</th>\n",
       "      <td>JH Kallis</td>\n",
       "      <td>10</td>\n",
       "    </tr>\n",
       "    <tr>\n",
       "      <th>5</th>\n",
       "      <td>I Sharma</td>\n",
       "      <td>10</td>\n",
       "    </tr>\n",
       "    <tr>\n",
       "      <th>6</th>\n",
       "      <td>B Lee</td>\n",
       "      <td>9</td>\n",
       "    </tr>\n",
       "    <tr>\n",
       "      <th>7</th>\n",
       "      <td>Umar Gul</td>\n",
       "      <td>9</td>\n",
       "    </tr>\n",
       "    <tr>\n",
       "      <th>8</th>\n",
       "      <td>Shakib Al Hasan</td>\n",
       "      <td>9</td>\n",
       "    </tr>\n",
       "    <tr>\n",
       "      <th>9</th>\n",
       "      <td>SP Narine</td>\n",
       "      <td>9</td>\n",
       "    </tr>\n",
       "    <tr>\n",
       "      <th>10</th>\n",
       "      <td>Kamran Khan</td>\n",
       "      <td>8</td>\n",
       "    </tr>\n",
       "    <tr>\n",
       "      <th>11</th>\n",
       "      <td>L Balaji</td>\n",
       "      <td>8</td>\n",
       "    </tr>\n",
       "    <tr>\n",
       "      <th>12</th>\n",
       "      <td>SK Warne</td>\n",
       "      <td>7</td>\n",
       "    </tr>\n",
       "    <tr>\n",
       "      <th>13</th>\n",
       "      <td>SK Trivedi</td>\n",
       "      <td>6</td>\n",
       "    </tr>\n",
       "    <tr>\n",
       "      <th>14</th>\n",
       "      <td>P Krishna</td>\n",
       "      <td>6</td>\n",
       "    </tr>\n",
       "  </tbody>\n",
       "</table>\n",
       "</div>"
      ],
      "text/plain": [
       "             bowler  No_of_balls\n",
       "0         SR Watson           18\n",
       "1         YK Pathan           15\n",
       "2           SW Tait           11\n",
       "3       JP Faulkner           11\n",
       "4         JH Kallis           10\n",
       "5          I Sharma           10\n",
       "6             B Lee            9\n",
       "7          Umar Gul            9\n",
       "8   Shakib Al Hasan            9\n",
       "9         SP Narine            9\n",
       "10      Kamran Khan            8\n",
       "11         L Balaji            8\n",
       "12         SK Warne            7\n",
       "13       SK Trivedi            6\n",
       "14        P Krishna            6"
      ]
     },
     "execution_count": 119,
     "metadata": {},
     "output_type": "execute_result"
    }
   ],
   "source": [
    "Bowler_extraball= kkr_rr_del.groupby(\"bowler\")[\"extra_runs\"].agg(lambda x: (x>0).sum()).reset_index().sort_values(by=\"extra_runs\",ascending=False).reset_index(drop=True)\n",
    "Bowler_extraball.columns=[\"bowler\",\"No_of_balls\"]\n",
    "Bowler_extraball.iloc[:15,:]"
   ]
  },
  {
   "cell_type": "code",
   "execution_count": 120,
   "metadata": {},
   "outputs": [
    {
     "data": {
      "text/html": [
       "<div>\n",
       "<style scoped>\n",
       "    .dataframe tbody tr th:only-of-type {\n",
       "        vertical-align: middle;\n",
       "    }\n",
       "\n",
       "    .dataframe tbody tr th {\n",
       "        vertical-align: top;\n",
       "    }\n",
       "\n",
       "    .dataframe thead th {\n",
       "        text-align: right;\n",
       "    }\n",
       "</style>\n",
       "<table border=\"1\" class=\"dataframe\">\n",
       "  <thead>\n",
       "    <tr style=\"text-align: right;\">\n",
       "      <th></th>\n",
       "      <th>bowler</th>\n",
       "      <th>Total_runs_given</th>\n",
       "    </tr>\n",
       "  </thead>\n",
       "  <tbody>\n",
       "    <tr>\n",
       "      <th>0</th>\n",
       "      <td>SP Narine</td>\n",
       "      <td>342</td>\n",
       "    </tr>\n",
       "    <tr>\n",
       "      <th>1</th>\n",
       "      <td>SK Trivedi</td>\n",
       "      <td>239</td>\n",
       "    </tr>\n",
       "    <tr>\n",
       "      <th>2</th>\n",
       "      <td>SR Watson</td>\n",
       "      <td>227</td>\n",
       "    </tr>\n",
       "    <tr>\n",
       "      <th>3</th>\n",
       "      <td>SK Warne</td>\n",
       "      <td>184</td>\n",
       "    </tr>\n",
       "    <tr>\n",
       "      <th>4</th>\n",
       "      <td>YK Pathan</td>\n",
       "      <td>176</td>\n",
       "    </tr>\n",
       "    <tr>\n",
       "      <th>...</th>\n",
       "      <td>...</td>\n",
       "      <td>...</td>\n",
       "    </tr>\n",
       "    <tr>\n",
       "      <th>80</th>\n",
       "      <td>RN ten Doeschate</td>\n",
       "      <td>14</td>\n",
       "    </tr>\n",
       "    <tr>\n",
       "      <th>81</th>\n",
       "      <td>J Searles</td>\n",
       "      <td>13</td>\n",
       "    </tr>\n",
       "    <tr>\n",
       "      <th>82</th>\n",
       "      <td>T Henderson</td>\n",
       "      <td>11</td>\n",
       "    </tr>\n",
       "    <tr>\n",
       "      <th>83</th>\n",
       "      <td>R Parag</td>\n",
       "      <td>7</td>\n",
       "    </tr>\n",
       "    <tr>\n",
       "      <th>84</th>\n",
       "      <td>AJ Finch</td>\n",
       "      <td>5</td>\n",
       "    </tr>\n",
       "  </tbody>\n",
       "</table>\n",
       "<p>85 rows × 2 columns</p>\n",
       "</div>"
      ],
      "text/plain": [
       "              bowler  Total_runs_given\n",
       "0          SP Narine               342\n",
       "1         SK Trivedi               239\n",
       "2          SR Watson               227\n",
       "3           SK Warne               184\n",
       "4          YK Pathan               176\n",
       "..               ...               ...\n",
       "80  RN ten Doeschate                14\n",
       "81         J Searles                13\n",
       "82       T Henderson                11\n",
       "83           R Parag                 7\n",
       "84          AJ Finch                 5\n",
       "\n",
       "[85 rows x 2 columns]"
      ]
     },
     "execution_count": 120,
     "metadata": {},
     "output_type": "execute_result"
    }
   ],
   "source": [
    "Bowler_Runs= kkr_rr_del.groupby(\"bowler\")[\"total_runs\"].sum().reset_index().sort_values(by=\"total_runs\",ascending=False).reset_index(drop=True)\n",
    "Bowler_Runs.columns=[\"bowler\",\"Total_runs_given\"]\n",
    "Bowler_Runs"
   ]
  },
  {
   "cell_type": "code",
   "execution_count": 153,
   "metadata": {},
   "outputs": [],
   "source": [
    "Bowler_economy= pd.merge(Bowler_Runs,Bowler_over,on=\"bowler\")"
   ]
  },
  {
   "cell_type": "code",
   "execution_count": 154,
   "metadata": {},
   "outputs": [
    {
     "data": {
      "text/html": [
       "<div>\n",
       "<style scoped>\n",
       "    .dataframe tbody tr th:only-of-type {\n",
       "        vertical-align: middle;\n",
       "    }\n",
       "\n",
       "    .dataframe tbody tr th {\n",
       "        vertical-align: top;\n",
       "    }\n",
       "\n",
       "    .dataframe thead th {\n",
       "        text-align: right;\n",
       "    }\n",
       "</style>\n",
       "<table border=\"1\" class=\"dataframe\">\n",
       "  <thead>\n",
       "    <tr style=\"text-align: right;\">\n",
       "      <th></th>\n",
       "      <th>bowler</th>\n",
       "      <th>Total_runs_given</th>\n",
       "      <th>ball</th>\n",
       "      <th>No_of_Overs</th>\n",
       "      <th>Economy_rate</th>\n",
       "    </tr>\n",
       "  </thead>\n",
       "  <tbody>\n",
       "    <tr>\n",
       "      <th>0</th>\n",
       "      <td>Shakib Al Hasan</td>\n",
       "      <td>156</td>\n",
       "      <td>141</td>\n",
       "      <td>23.500000</td>\n",
       "      <td>6.638298</td>\n",
       "    </tr>\n",
       "    <tr>\n",
       "      <th>1</th>\n",
       "      <td>SK Warne</td>\n",
       "      <td>184</td>\n",
       "      <td>166</td>\n",
       "      <td>27.666667</td>\n",
       "      <td>6.650602</td>\n",
       "    </tr>\n",
       "    <tr>\n",
       "      <th>2</th>\n",
       "      <td>SK Trivedi</td>\n",
       "      <td>239</td>\n",
       "      <td>191</td>\n",
       "      <td>31.833333</td>\n",
       "      <td>7.507853</td>\n",
       "    </tr>\n",
       "    <tr>\n",
       "      <th>3</th>\n",
       "      <td>R Bhatia</td>\n",
       "      <td>165</td>\n",
       "      <td>130</td>\n",
       "      <td>21.666667</td>\n",
       "      <td>7.615385</td>\n",
       "    </tr>\n",
       "    <tr>\n",
       "      <th>4</th>\n",
       "      <td>SR Watson</td>\n",
       "      <td>227</td>\n",
       "      <td>176</td>\n",
       "      <td>29.333333</td>\n",
       "      <td>7.738636</td>\n",
       "    </tr>\n",
       "    <tr>\n",
       "      <th>5</th>\n",
       "      <td>SP Narine</td>\n",
       "      <td>342</td>\n",
       "      <td>264</td>\n",
       "      <td>44.000000</td>\n",
       "      <td>7.772727</td>\n",
       "    </tr>\n",
       "    <tr>\n",
       "      <th>6</th>\n",
       "      <td>YK Pathan</td>\n",
       "      <td>176</td>\n",
       "      <td>134</td>\n",
       "      <td>22.333333</td>\n",
       "      <td>7.880597</td>\n",
       "    </tr>\n",
       "  </tbody>\n",
       "</table>\n",
       "</div>"
      ],
      "text/plain": [
       "            bowler  Total_runs_given  ball  No_of_Overs  Economy_rate\n",
       "0  Shakib Al Hasan               156   141    23.500000      6.638298\n",
       "1         SK Warne               184   166    27.666667      6.650602\n",
       "2       SK Trivedi               239   191    31.833333      7.507853\n",
       "3         R Bhatia               165   130    21.666667      7.615385\n",
       "4        SR Watson               227   176    29.333333      7.738636\n",
       "5        SP Narine               342   264    44.000000      7.772727\n",
       "6        YK Pathan               176   134    22.333333      7.880597"
      ]
     },
     "execution_count": 154,
     "metadata": {},
     "output_type": "execute_result"
    }
   ],
   "source": [
    "Bowler_economy=Bowler_economy[Bowler_economy[\"No_of_Overs\"]>20] # taking only bowler with minimum 20 ov\n",
    "Bowler_economy[\"Economy_rate\"]=Bowler_economy[\"Total_runs_given\"]/Bowler_economy[\"No_of_Overs\"]\n",
    "Bowler_economy=Bowler_economy.sort_values(by=\"Economy_rate\").reset_index(drop=True)\n",
    "Bowler_economy\n"
   ]
  },
  {
   "cell_type": "code",
   "execution_count": null,
   "metadata": {},
   "outputs": [],
   "source": []
  },
  {
   "cell_type": "code",
   "execution_count": null,
   "metadata": {},
   "outputs": [],
   "source": []
  }
 ],
 "metadata": {
  "kernelspec": {
   "display_name": "Python 3",
   "language": "python",
   "name": "python3"
  },
  "language_info": {
   "codemirror_mode": {
    "name": "ipython",
    "version": 3
   },
   "file_extension": ".py",
   "mimetype": "text/x-python",
   "name": "python",
   "nbconvert_exporter": "python",
   "pygments_lexer": "ipython3",
   "version": "3.7.6"
  }
 },
 "nbformat": 4,
 "nbformat_minor": 4
}
